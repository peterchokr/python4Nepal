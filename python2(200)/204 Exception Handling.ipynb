{
 "cells": [
  {
   "cell_type": "markdown",
   "id": "3897549e",
   "metadata": {
    "lines_to_next_cell": 0
   },
   "source": [
    "# Exception Handling\n",
    "**예외 처리**\n",
    "\n",
    "**Duration (수업 시간)**: 3 hours (3시간)  \n",
    "**Structure (구성)**: Lecture & Lab 2 hours + Quiz 1 hour (강의 및 실습 2시간 + 퀴즈 1시간)  \n",
    "**Level (수준)**: Intermediate (중급)\n",
    "\n",
    "---\n",
    "\n",
    "## 🎯 Learning Objectives (학습 목표)\n",
    "\n",
    "By the end of this lesson, students will be able to:\n",
    "이 수업을 마친 후 학생들은 다음을 할 수 있습니다:\n",
    "\n",
    "- Understand what exceptions are and why they occur (예외가 무엇이고 왜 발생하는지 이해)\n",
    "- Use try-except syntax to handle errors gracefully (try-except 구문을 사용하여 오류를 우아하게 처리)\n",
    "- Handle multiple types of exceptions in a single program (하나의 프로그램에서 여러 유형의 예외 처리)\n",
    "- Use the finally statement for cleanup operations (정리 작업을 위한 finally 구문 사용)\n",
    "- Create robust programs that don't crash from unexpected errors (예상치 못한 오류로 인해 충돌하지 않는 견고한 프로그램 생성)\n",
    "\n",
    "---\n",
    "\n",
    "## ⚠️ 1. What are Exceptions? (예외란 무엇인가?)\n",
    "\n",
    "### Understanding Exceptions (예외 이해하기)\n",
    "\n",
    "An **exception** is an error that occurs during program execution. Think of exceptions like **roadblocks** on a highway - they stop your program from continuing normally.\n",
    "**예외**는 프로그램 실행 중 발생하는 오류입니다. 예외를 고속도로의 **장애물**처럼 생각해보세요 - 프로그램이 정상적으로 계속 진행되는 것을 막습니다.\n",
    "\n",
    "### Common Types of Exceptions (일반적인 예외 유형)\n",
    "\n",
    "#### 1. ZeroDivisionError (0으로 나누기 오류)"
   ]
  },
  {
   "cell_type": "code",
   "execution_count": null,
   "id": "8a4d245d",
   "metadata": {},
   "outputs": [],
   "source": [
    "# This will cause an error\n",
    "number = 10\n",
    "result = number / 0  # Cannot divide by zero!"
   ]
  },
  {
   "cell_type": "markdown",
   "id": "3a70ea52",
   "metadata": {
    "lines_to_next_cell": 0
   },
   "source": [
    "#### 2. ValueError (값 오류)"
   ]
  },
  {
   "cell_type": "code",
   "execution_count": null,
   "id": "15cd74a9",
   "metadata": {},
   "outputs": [],
   "source": [
    "# This will cause an error\n",
    "age = int(\"hello\")  # Cannot convert \"hello\" to integer"
   ]
  },
  {
   "cell_type": "markdown",
   "id": "9047f392",
   "metadata": {
    "lines_to_next_cell": 0
   },
   "source": [
    "#### 3. FileNotFoundError (파일을 찾을 수 없음 오류)"
   ]
  },
  {
   "cell_type": "code",
   "execution_count": null,
   "id": "370342d0",
   "metadata": {},
   "outputs": [],
   "source": [
    "# This will cause an error if file doesn't exist\n",
    "file = open(\"nonexistent_file.txt\", \"r\")"
   ]
  },
  {
   "cell_type": "markdown",
   "id": "8c00af40",
   "metadata": {
    "lines_to_next_cell": 0
   },
   "source": [
    "#### 4. TypeError (타입 오류)"
   ]
  },
  {
   "cell_type": "code",
   "execution_count": null,
   "id": "e009d305",
   "metadata": {},
   "outputs": [],
   "source": [
    "# This will cause an error\n",
    "result = \"hello\" + 5  # Cannot add string and number"
   ]
  },
  {
   "cell_type": "markdown",
   "id": "721b028f",
   "metadata": {},
   "source": [
    "### What Happens Without Exception Handling? (예외 처리 없이는 어떻게 될까요?)\n",
    "\n",
    "Without proper handling, exceptions **crash** your program:\n",
    "적절한 처리 없이는 예외가 프로그램을 **충돌**시킵니다:"
   ]
  },
  {
   "cell_type": "code",
   "execution_count": null,
   "id": "cec895f5",
   "metadata": {},
   "outputs": [],
   "source": [
    "print(\"Program started\")\n",
    "result = 10 / 0  # Program crashes here\n",
    "print(\"This line will never execute\")  # Never reached"
   ]
  },
  {
   "cell_type": "markdown",
   "id": "2bd56120",
   "metadata": {},
   "source": [
    "### Real-World Analogy (실생활 비유)\n",
    "\n",
    "Exception handling is like having **safety measures** in a car:\n",
    "예외 처리는 자동차의 **안전 장치**와 같습니다:\n",
    "\n",
    "- **Airbags**: Protect you when something goes wrong (에어백: 문제가 발생했을 때 보호)\n",
    "- **Seatbelts**: Keep you safe during unexpected situations (안전벨트: 예상치 못한 상황에서 안전 유지)\n",
    "- **Exception handling**: Keeps your program running when errors occur (예외 처리: 오류가 발생해도 프로그램이 계속 실행되도록 유지)\n",
    "\n",
    "---\n",
    "\n",
    "## 🛡️ 2. try-except Syntax (try-except 구문)\n",
    "\n",
    "### Basic Structure (기본 구조)"
   ]
  },
  {
   "cell_type": "code",
   "execution_count": null,
   "id": "f1466e76",
   "metadata": {},
   "outputs": [],
   "source": [
    "try:\n",
    "    # Code that might cause an error\n",
    "    risky_code()\n",
    "except ExceptionType:\n",
    "    # Code to handle the error\n",
    "    handle_error()"
   ]
  },
  {
   "cell_type": "markdown",
   "id": "c479f3ea",
   "metadata": {},
   "source": [
    "### Simple Example (간단한 예시)"
   ]
  },
  {
   "cell_type": "code",
   "execution_count": null,
   "id": "41fe82ac",
   "metadata": {},
   "outputs": [],
   "source": [
    "try:\n",
    "    number = int(input(\"Enter a number: \"))\n",
    "    result = 10 / number\n",
    "    print(f\"Result: {result}\")\n",
    "except ZeroDivisionError:\n",
    "    print(\"Error: Cannot divide by zero!\")\n",
    "except ValueError:\n",
    "    print(\"Error: Please enter a valid number!\")"
   ]
  },
  {
   "cell_type": "markdown",
   "id": "dde78274",
   "metadata": {
    "lines_to_next_cell": 0
   },
   "source": [
    "### Step-by-Step Breakdown (단계별 분석)\n",
    "\n",
    "#### Step 1: Basic Division with Error Handling (기본 나누기와 오류 처리)"
   ]
  },
  {
   "cell_type": "code",
   "execution_count": null,
   "id": "1efff189",
   "metadata": {},
   "outputs": [],
   "source": [
    "def safe_division(a, b):\n",
    "    try:\n",
    "        result = a / b\n",
    "        return result\n",
    "    except ZeroDivisionError:\n",
    "        print(\"Cannot divide by zero\")\n",
    "        return None\n",
    "\n",
    "# Test the function\n",
    "print(safe_division(10, 2))  # Works fine: 5.0\n",
    "print(safe_division(10, 0))  # Handles error gracefully"
   ]
  },
  {
   "cell_type": "markdown",
   "id": "62cdef47",
   "metadata": {
    "lines_to_next_cell": 0
   },
   "source": [
    "#### Step 2: Input Validation (입력 검증)"
   ]
  },
  {
   "cell_type": "code",
   "execution_count": null,
   "id": "d3954db8",
   "metadata": {},
   "outputs": [],
   "source": [
    "def get_valid_number():\n",
    "    try:\n",
    "        user_input = input(\"Enter a number: \")\n",
    "        number = float(user_input)\n",
    "        return number\n",
    "    except ValueError:\n",
    "        print(\"That's not a valid number!\")\n",
    "        return None\n",
    "\n",
    "# Test the function\n",
    "result = get_valid_number()\n",
    "if result is not None:\n",
    "    print(f\"You entered: {result}\")"
   ]
  },
  {
   "cell_type": "markdown",
   "id": "3adec16d",
   "metadata": {
    "lines_to_next_cell": 0
   },
   "source": [
    "#### Step 3: File Operations (파일 작업)"
   ]
  },
  {
   "cell_type": "code",
   "execution_count": null,
   "id": "901d286e",
   "metadata": {},
   "outputs": [],
   "source": [
    "def read_file_safely(filename):\n",
    "    try:\n",
    "        with open(filename, \"r\") as file:\n",
    "            content = file.read()\n",
    "            return content\n",
    "    except FileNotFoundError:\n",
    "        print(f\"File '{filename}' not found!\")\n",
    "        return None\n",
    "\n",
    "# Test the function\n",
    "content = read_file_safely(\"example.txt\")\n",
    "if content:\n",
    "    print(\"File content:\", content)"
   ]
  },
  {
   "cell_type": "markdown",
   "id": "69f7e1e0",
   "metadata": {},
   "source": [
    "---\n",
    "\n",
    "## 🔢 3. Multiple Exception Handling (다중 예외 처리)\n",
    "\n",
    "### Handling Different Error Types (다양한 오류 유형 처리)"
   ]
  },
  {
   "cell_type": "code",
   "execution_count": null,
   "id": "009302eb",
   "metadata": {},
   "outputs": [],
   "source": [
    "def safe_process(data_list, index):\n",
    "    try:\n",
    "        value = data_list[index]\n",
    "        number = int(value)\n",
    "        result = 100 / number\n",
    "        return result\n",
    "        \n",
    "    except IndexError:\n",
    "        print(\"Error: Index out of range\")\n",
    "        return None\n",
    "    except ValueError:\n",
    "        print(\"Error: Cannot convert to number\")\n",
    "        return None\n",
    "    except ZeroDivisionError:\n",
    "        print(\"Error: Division by zero\")\n",
    "        return None\n",
    "\n",
    "# Test with different scenarios\n",
    "data = [\"10\", \"0\", \"hello\"]\n",
    "print(safe_process(data, 0))  # Works: 10.0\n",
    "print(safe_process(data, 1))  # ZeroDivisionError\n",
    "print(safe_process(data, 2))  # ValueError"
   ]
  },
  {
   "cell_type": "markdown",
   "id": "d1a5b1b3",
   "metadata": {},
   "source": [
    "### Catching Multiple Exceptions at Once (여러 예외를 한 번에 잡기)"
   ]
  },
  {
   "cell_type": "code",
   "execution_count": null,
   "id": "b3fb042b",
   "metadata": {},
   "outputs": [],
   "source": [
    "def safe_operation(a, b):\n",
    "    try:\n",
    "        result = a / b\n",
    "        return result\n",
    "    except (TypeError, ValueError, ZeroDivisionError) as e:\n",
    "        print(f\"Error: {e}\")\n",
    "        return None\n",
    "\n",
    "# Test the function\n",
    "print(safe_operation(10, 2))    # Works: 5.0\n",
    "print(safe_operation(10, 0))    # Error handling\n",
    "print(safe_operation(\"10\", 5))  # Error handling"
   ]
  },
  {
   "cell_type": "markdown",
   "id": "f0f34639",
   "metadata": {},
   "source": [
    "---\n",
    "\n",
    "## 🔄 4. finally Statement (finally 구문)\n",
    "\n",
    "### What is finally? (finally란?)\n",
    "\n",
    "The **finally** block always executes, whether an exception occurs or not. It's useful for cleanup operations.\n",
    "**finally** 블록은 예외가 발생하든 발생하지 않든 항상 실행됩니다. 정리 작업에 유용합니다.\n",
    "\n",
    "### Basic finally Usage (기본 finally 사용법)"
   ]
  },
  {
   "cell_type": "code",
   "execution_count": null,
   "id": "53cabd97",
   "metadata": {},
   "outputs": [],
   "source": [
    "def demonstrate_finally():\n",
    "    try:\n",
    "        result = 10 / 2\n",
    "        print(f\"Result: {result}\")\n",
    "        return result\n",
    "    except ZeroDivisionError:\n",
    "        print(\"Error occurred!\")\n",
    "        return None\n",
    "    finally:\n",
    "        print(\"This always runs!\")\n",
    "\n",
    "# Test the function\n",
    "demonstrate_finally()"
   ]
  },
  {
   "cell_type": "markdown",
   "id": "b85976ea",
   "metadata": {},
   "source": [
    "### Practical finally Example (실용적인 finally 예시)"
   ]
  },
  {
   "cell_type": "code",
   "execution_count": null,
   "id": "137c2964",
   "metadata": {},
   "outputs": [],
   "source": [
    "def process_file(filename):\n",
    "    file_handle = None\n",
    "    try:\n",
    "        file_handle = open(filename, \"w\")\n",
    "        file_handle.write(\"Important data\")\n",
    "        print(\"Data written successfully\")\n",
    "        return True\n",
    "    except Exception as e:\n",
    "        print(f\"Error: {e}\")\n",
    "        return False\n",
    "    finally:\n",
    "        if file_handle:\n",
    "            file_handle.close()\n",
    "            print(\"File closed\")\n",
    "\n",
    "# Test the function\n",
    "process_file(\"test.txt\")"
   ]
  },
  {
   "cell_type": "markdown",
   "id": "3d5e8a13",
   "metadata": {
    "lines_to_next_cell": 0
   },
   "source": [
    "---\n",
    "\n",
    "## 🔧 Lab Exercises (실습)\n",
    "\n",
    "### Lab 1: Stable File Processing Program (안정적인 파일 처리 프로그램)\n",
    "\n",
    "**Problem (문제)**: Create a program that safely reads and processes text files with proper error handling.\n",
    "텍스트 파일을 안전하게 읽고 처리하는 프로그램을 적절한 오류 처리로 만드세요.\n",
    "\n",
    "**Solution (정답)**:"
   ]
  },
  {
   "cell_type": "code",
   "execution_count": null,
   "id": "b42cb69c",
   "metadata": {},
   "outputs": [],
   "source": [
    "def create_sample_file():\n",
    "    \"\"\"Create a sample file for testing\"\"\"\n",
    "    try:\n",
    "        with open(\"students.txt\", \"w\") as file:\n",
    "            file.write(\"Alice,25\\n\")\n",
    "            file.write(\"Bob,30\\n\")\n",
    "            file.write(\"Charlie,invalid\\n\")\n",
    "        print(\"Sample file created\")\n",
    "        return True\n",
    "    except Exception as e:\n",
    "        print(f\"Error creating file: {e}\")\n",
    "        return False\n",
    "\n",
    "def read_student_data(filename):\n",
    "    \"\"\"Safely read and process student data\"\"\"\n",
    "    try:\n",
    "        with open(filename, \"r\") as file:\n",
    "            lines = file.readlines()\n",
    "        \n",
    "        print(\"Processing student data:\")\n",
    "        for line_num, line in enumerate(lines, 1):\n",
    "            try:\n",
    "                name, age = line.strip().split(\",\")\n",
    "                age_num = int(age)\n",
    "                print(f\"  {name}: {age_num} years old\")\n",
    "            except ValueError:\n",
    "                print(f\"  Error in line {line_num}: Invalid data format\")\n",
    "        \n",
    "        return True\n",
    "        \n",
    "    except FileNotFoundError:\n",
    "        print(f\"Error: File '{filename}' not found!\")\n",
    "        return False\n",
    "    except Exception as e:\n",
    "        print(f\"Unexpected error: {e}\")\n",
    "        return False\n",
    "\n",
    "# Test the system\n",
    "create_sample_file()\n",
    "read_student_data(\"students.txt\")\n",
    "read_student_data(\"missing_file.txt\")"
   ]
  },
  {
   "cell_type": "markdown",
   "id": "36a1ee2c",
   "metadata": {
    "lines_to_next_cell": 0
   },
   "source": [
    "### Lab 2: Safe Calculator Program (안전한 계산기 프로그램)\n",
    "\n",
    "**Problem (문제)**: Create a calculator that handles all error situations without crashing.\n",
    "충돌하지 않고 모든 오류 상황을 처리하는 계산기를 만드세요.\n",
    "\n",
    "**Solution (정답)**:"
   ]
  },
  {
   "cell_type": "code",
   "execution_count": null,
   "id": "aee94934",
   "metadata": {},
   "outputs": [],
   "source": [
    "def safe_input_number(prompt):\n",
    "    \"\"\"Safely get a number from user\"\"\"\n",
    "    try:\n",
    "        user_input = input(prompt)\n",
    "        return float(user_input)\n",
    "    except ValueError:\n",
    "        print(\"Invalid input! Please enter a number.\")\n",
    "        return None\n",
    "\n",
    "def safe_calculate(num1, num2, operation):\n",
    "    \"\"\"Perform calculation with error handling\"\"\"\n",
    "    try:\n",
    "        if operation == \"+\":\n",
    "            return num1 + num2\n",
    "        elif operation == \"-\":\n",
    "            return num1 - num2\n",
    "        elif operation == \"*\":\n",
    "            return num1 * num2\n",
    "        elif operation == \"/\":\n",
    "            if num2 == 0:\n",
    "                raise ZeroDivisionError(\"Cannot divide by zero\")\n",
    "            return num1 / num2\n",
    "        else:\n",
    "            raise ValueError(\"Invalid operation\")\n",
    "    except ZeroDivisionError as e:\n",
    "        print(f\"Math Error: {e}\")\n",
    "        return None\n",
    "    except Exception as e:\n",
    "        print(f\"Error: {e}\")\n",
    "        return None\n",
    "\n",
    "def simple_calculator():\n",
    "    \"\"\"Simple calculator with error handling\"\"\"\n",
    "    print(\"Simple Calculator\")\n",
    "    \n",
    "    # Get first number\n",
    "    num1 = safe_input_number(\"Enter first number: \")\n",
    "    if num1 is None:\n",
    "        return\n",
    "    \n",
    "    # Get operation\n",
    "    operation = input(\"Enter operation (+, -, *, /): \")\n",
    "    \n",
    "    # Get second number\n",
    "    num2 = safe_input_number(\"Enter second number: \")\n",
    "    if num2 is None:\n",
    "        return\n",
    "    \n",
    "    # Calculate result\n",
    "    result = safe_calculate(num1, num2, operation)\n",
    "    if result is not None:\n",
    "        print(f\"Result: {num1} {operation} {num2} = {result}\")\n",
    "\n",
    "# Test the calculator\n",
    "# simple_calculator()  # Uncomment to test interactively\n",
    "\n",
    "# Test individual functions\n",
    "print(\"Testing calculator functions:\")\n",
    "print(f\"10 + 5 = {safe_calculate(10, 5, '+')}\")\n",
    "print(f\"10 / 0 = {safe_calculate(10, 0, '/')}\")\n",
    "print(f\"Invalid op = {safe_calculate(10, 5, '%')}\")"
   ]
  },
  {
   "cell_type": "markdown",
   "id": "0c1ca5a9",
   "metadata": {
    "lines_to_next_cell": 0
   },
   "source": [
    "### Lab 3: User Input Validation System (사용자 입력 검증 시스템)\n",
    "\n",
    "**Problem (문제)**: Create a system that validates user input and shows error messages for invalid input.\n",
    "사용자 입력을 검증하고 잘못된 입력에 대해 오류 메시지를 보여주는 시스템을 만드세요.\n",
    "\n",
    "**Solution (정답)**:"
   ]
  },
  {
   "cell_type": "code",
   "execution_count": null,
   "id": "601930a2",
   "metadata": {},
   "outputs": [],
   "source": [
    "def validate_name(name):\n",
    "    \"\"\"Validate user name\"\"\"\n",
    "    try:\n",
    "        if not name or name.isspace():\n",
    "            raise ValueError(\"Name cannot be empty\")\n",
    "        if len(name) < 2:\n",
    "            raise ValueError(\"Name must be at least 2 characters\")\n",
    "        if not name.replace(\" \", \"\").isalpha():\n",
    "            raise ValueError(\"Name can only contain letters\")\n",
    "        return name.strip().title()\n",
    "    except ValueError as e:\n",
    "        print(f\"Name error: {e}\")\n",
    "        return None\n",
    "\n",
    "def validate_age(age_str):\n",
    "    \"\"\"Validate user age\"\"\"\n",
    "    try:\n",
    "        age = int(age_str)\n",
    "        if age < 0:\n",
    "            raise ValueError(\"Age cannot be negative\")\n",
    "        if age > 150:\n",
    "            raise ValueError(\"Age too high\")\n",
    "        return age\n",
    "    except ValueError as e:\n",
    "        if \"invalid literal\" in str(e):\n",
    "            print(\"Age error: Please enter a number\")\n",
    "        else:\n",
    "            print(f\"Age error: {e}\")\n",
    "        return None\n",
    "\n",
    "def get_user_info():\n",
    "    \"\"\"Get and validate user information\"\"\"\n",
    "    print(\"User Registration\")\n",
    "    \n",
    "    # Get name\n",
    "    name_input = input(\"Enter your name: \")\n",
    "    name = validate_name(name_input)\n",
    "    if name is None:\n",
    "        print(\"Registration failed: Invalid name\")\n",
    "        return None\n",
    "    \n",
    "    # Get age\n",
    "    age_input = input(\"Enter your age: \")\n",
    "    age = validate_age(age_input)\n",
    "    if age is None:\n",
    "        print(\"Registration failed: Invalid age\")\n",
    "        return None\n",
    "    \n",
    "    print(f\"Registration successful! Welcome {name}, age {age}\")\n",
    "    \n",
    "    # Save to file\n",
    "    try:\n",
    "        with open(\"users.txt\", \"a\") as file:\n",
    "            file.write(f\"{name},{age}\\n\")\n",
    "        print(\"User data saved!\")\n",
    "    except Exception as e:\n",
    "        print(f\"Could not save data: {e}\")\n",
    "    \n",
    "    return {\"name\": name, \"age\": age}\n",
    "\n",
    "# Test the validation system\n",
    "print(\"Testing validation functions:\")\n",
    "print(f\"Valid name: {validate_name('John Doe')}\")\n",
    "print(f\"Invalid name: {validate_name('')}\")\n",
    "print(f\"Valid age: {validate_age('25')}\")\n",
    "print(f\"Invalid age: {validate_age('abc')}\")\n",
    "\n",
    "# Test full registration\n",
    "# get_user_info()  # Uncomment to test interactively"
   ]
  },
  {
   "cell_type": "markdown",
   "id": "61b53761",
   "metadata": {
    "lines_to_next_cell": 0
   },
   "source": [
    "---\n",
    "\n",
    "## 📝 Quiz Section (퀴즈)\n",
    "\n",
    "### Quiz 1: Division by Zero Handling (0으로 나누기 처리)\n",
    "\n",
    "**Question**: Handle division by zero using try-except and print error message. Create a function called `safe_divide(a, b)` that:\n",
    "try-except를 사용하여 0으로 나누기를 처리하고 오류 메시지를 출력하세요. 다음을 수행하는 `safe_divide(a, b)` 함수를 만드세요:\n",
    "\n",
    "- Takes two numbers as parameters (두 숫자를 매개변수로 받음)\n",
    "- Returns the result of a/b if successful (성공하면 a/b의 결과 반환)\n",
    "- Prints an appropriate error message and returns None if division by zero occurs (0으로 나누기가 발생하면 적절한 오류 메시지를 출력하고 None 반환)\n",
    "- Test your function with both valid and invalid inputs (유효한 입력과 무효한 입력 모두로 함수 테스트)\n",
    "\n",
    "**Write your answer here (답을 여기에 작성하세요)**:"
   ]
  },
  {
   "cell_type": "code",
   "execution_count": null,
   "id": "61625cfa",
   "metadata": {},
   "outputs": [],
   "source": [
    "# Your code here"
   ]
  },
  {
   "cell_type": "markdown",
   "id": "30677958",
   "metadata": {
    "lines_to_next_cell": 0
   },
   "source": [
    "### Quiz 2: File Error Handling (파일 오류 처리)\n",
    "\n",
    "**Question**: Write code to handle file not found error when reading file. Create a function called `read_file_content(filename)` that:\n",
    "파일을 읽을 때 파일이 존재하지 않는 경우를 처리하는 코드를 작성하세요. 다음을 수행하는 `read_file_content(filename)` 함수를 만드세요:\n",
    "\n",
    "- Attempts to read and return the entire content of a file (파일의 전체 내용을 읽고 반환 시도)\n",
    "- Handles FileNotFoundError and prints a user-friendly message (FileNotFoundError를 처리하고 사용자 친화적인 메시지 출력)\n",
    "- Handles any other exceptions that might occur (발생할 수 있는 다른 예외들도 처리)\n",
    "- Always prints a message indicating the operation is complete (작업이 완료되었음을 나타내는 메시지를 항상 출력)\n",
    "- Test with both existing and non-existing files (존재하는 파일과 존재하지 않는 파일 모두로 테스트)\n",
    "\n",
    "**Write your answer here (답을 여기에 작성하세요)**:"
   ]
  },
  {
   "cell_type": "code",
   "execution_count": null,
   "id": "5c64be32",
   "metadata": {},
   "outputs": [],
   "source": [
    "# Your code here"
   ]
  },
  {
   "cell_type": "markdown",
   "id": "aaf36ca2",
   "metadata": {
    "lines_to_next_cell": 0
   },
   "source": [
    "### Quiz 3: Safe Input Validation (안전한 입력 검증)\n",
    "\n",
    "**Question**: Write safe input function that re-prompts for invalid integer input. Create a function called `get_positive_integer(prompt)` that:\n",
    "잘못된 정수 입력에 대해 다시 입력을 요청하는 안전한 입력 함수를 작성하세요. 다음을 수행하는 `get_positive_integer(prompt)` 함수를 만드세요:\n",
    "\n",
    "- Takes a prompt message as parameter (프롬프트 메시지를 매개변수로 받음)\n",
    "- Repeatedly asks for input until a valid positive integer is entered (유효한 양의 정수가 입력될 때까지 반복적으로 입력 요청)\n",
    "- Handles ValueError for invalid number format (잘못된 숫자 형식에 대한 ValueError 처리)\n",
    "- Handles negative numbers and zero (음수와 0 처리)\n",
    "- Allows user to exit by typing 'quit' (사용자가 'quit'을 입력하여 종료할 수 있도록 허용)\n",
    "- Returns the valid positive integer or None if user quits (유효한 양의 정수를 반환하거나 사용자가 종료하면 None 반환)\n",
    "\n",
    "**Write your answer here (답을 여기에 작성하세요)**:"
   ]
  },
  {
   "cell_type": "code",
   "execution_count": null,
   "id": "2d4c457b",
   "metadata": {},
   "outputs": [],
   "source": [
    "# Your code here"
   ]
  },
  {
   "cell_type": "markdown",
   "id": "a39b0297",
   "metadata": {},
   "source": [
    "---\n",
    "\n",
    "## 📖 References (참고)\n",
    "\n",
    "1. **Python Exception Handling**: https://docs.python.org/3/tutorial/errors.html\n",
    "   - Official Python documentation on handling exceptions (예외 처리에 대한 공식 파이썬 문서)\n",
    "\n",
    "2. **Built-in Exceptions**: https://docs.python.org/3/library/exceptions.html\n",
    "   - Complete list of Python's built-in exception types (파이썬의 내장 예외 유형 완전 목록)\n",
    "\n",
    "3. **Exception Handling Best Practices**: https://realpython.com/python-exceptions-handling/\n",
    "   - Best practices and advanced techniques for exception handling (예외 처리를 위한 모범 사례와 고급 기법)\n",
    "\n",
    "4. **Error Handling Tutorial**: https://www.programiz.com/python-programming/exception-handling\n",
    "   - Step-by-step tutorial with practical examples (실용적인 예제가 있는 단계별 튜토리얼)\n",
    "\n",
    "---\n",
    "\n",
    "## 💡 Key Points (핵심 포인트)\n",
    "\n",
    "### Remember (기억하세요)\n",
    "1. **Always handle expected errors** to prevent program crashes (프로그램 충돌 방지를 위해 예상되는 오류는 항상 처리)\n",
    "2. **Use specific exception types** rather than catching all exceptions (모든 예외를 잡기보다는 특정 예외 유형 사용)\n",
    "3. **finally block always runs** - perfect for cleanup operations (finally 블록은 항상 실행 - 정리 작업에 완벽)\n",
    "4. **User-friendly error messages** help users understand what went wrong (사용자 친화적인 오류 메시지는 사용자가 문제를 이해하는 데 도움)\n",
    "\n",
    "### Common Exception Types (일반적인 예외 유형)\n",
    "- **ValueError**: Wrong value type or format (잘못된 값 유형 또는 형식)\n",
    "- **TypeError**: Wrong data type (잘못된 데이터 유형)  \n",
    "- **FileNotFoundError**: File doesn't exist (파일이 존재하지 않음)\n",
    "- **ZeroDivisionError**: Division by zero (0으로 나누기)\n",
    "- **IndexError**: List index out of range (리스트 인덱스 범위 초과)\n",
    "\n",
    "### Next Week Preview (다음 주 미리보기)\n",
    "Next week: **Modules and Packages** - Organizing code and using external libraries\n",
    "다음 주: **모듈과 패키지** - 코드 구성과 외부 라이브러리 사용\n",
    "\n",
    "---\n",
    "\n",
    "## 📋 Homework (숙제)\n",
    "\n",
    "1. Complete all three lab exercises and test them thoroughly (3개 실습을 모두 완료하고 철저히 테스트)\n",
    "2. Create a program that reads numbers from a file and handles all possible errors (파일에서 숫자를 읽고 모든 가능한 오류를 처리하는 프로그램 생성)\n",
    "3. Practice adding exception handling to programs you've written in previous weeks (이전 주에 작성한 프로그램에 예외 처리 추가 연습)\n",
    "\n",
    "**Exception handling makes your programs robust and user-friendly!** 🛡️  \n",
    "**예외 처리는 프로그램을 견고하고 사용자 친화적으로 만듭니다!** 🛡️"
   ]
  }
 ],
 "metadata": {
  "jupytext": {
   "cell_metadata_filter": "-all",
   "main_language": "python",
   "notebook_metadata_filter": "-all"
  },
  "language_info": {
   "name": "python"
  }
 },
 "nbformat": 4,
 "nbformat_minor": 5
}
