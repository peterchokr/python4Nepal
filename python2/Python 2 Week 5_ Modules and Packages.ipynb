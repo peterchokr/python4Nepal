{
 "cells": [
  {
   "cell_type": "markdown",
   "id": "ee2769d1",
   "metadata": {},
   "source": [
    "# Week 5: Modules and Packages\n",
    "**모듈과 패키지**\n",
    "\n",
    "**Duration (수업 시간)**: 3 hours (3시간)  \n",
    "**Structure (구성)**: Lecture & Lab 2 hours + Quiz 1 hour (강의 및 실습 2시간 + 퀴즈 1시간)  \n",
    "**Level (수준)**: Intermediate (중급)\n",
    "\n",
    "---\n",
    "\n",
    "## 🎯 Learning Objectives (학습 목표)\n",
    "\n",
    "By the end of this lesson, students will be able to:\n",
    "이 수업을 마친 후 학생들은 다음을 할 수 있습니다:\n",
    "\n",
    "- Understand what modules are and why they are useful (모듈이 무엇이고 왜 유용한지 이해)\n",
    "- Use the import statement to access external code (import 문을 사용하여 외부 코드에 접근)\n",
    "- Work with Python's standard library modules (파이썬의 표준 라이브러리 모듈 사용)\n",
    "- Create and use their own custom modules (자신만의 사용자 정의 모듈 생성 및 사용)\n",
    "- Organize code effectively using modular programming (모듈러 프로그래밍을 사용하여 코드를 효과적으로 구성)\n",
    "\n",
    "---\n",
    "\n",
    "## 📦 1. What are Modules? (모듈이란?)\n",
    "\n",
    "### Understanding Modules (모듈 이해하기)\n",
    "\n",
    "A **module** is a file containing Python code that can be used by other programs. Think of modules like **toolboxes** - each one contains specific tools (functions) that you can use when needed.\n",
    "**모듈**은 다른 프로그램에서 사용할 수 있는 파이썬 코드가 포함된 파일입니다. 모듈을 **도구상자**처럼 생각해보세요 - 각각 필요할 때 사용할 수 있는 특정 도구(함수)들이 들어있습니다.\n",
    "\n",
    "### Why Use Modules? (왜 모듈을 사용하나요?)\n",
    "\n",
    "#### 1. Code Reusability (코드 재사용성)\n",
    "Instead of writing the same functions over and over, you can save them in a module and use them in multiple programs.\n",
    "같은 함수를 반복해서 작성하는 대신, 모듈에 저장하여 여러 프로그램에서 사용할 수 있습니다.\n",
    "\n",
    "#### 2. Code Organization (코드 구성)\n",
    "Modules help keep your code organized by grouping related functions together.\n",
    "모듈은 관련된 함수들을 함께 그룹화하여 코드를 체계적으로 유지하는 데 도움이 됩니다.\n",
    "\n",
    "#### 3. Collaboration (협업)\n",
    "Different programmers can work on different modules and then combine them.\n",
    "다른 프로그래머들이 서로 다른 모듈에서 작업한 후 이를 결합할 수 있습니다.\n",
    "\n",
    "### Real-World Analogy (실생활 비유)\n",
    "\n",
    "Modules are like **specialty shops** in a mall:\n",
    "모듈은 쇼핑몰의 **전문점**과 같습니다:\n",
    "\n",
    "```\n",
    "Electronics Store (math module):\n",
    "- Calculators, computers, phones\n",
    "- 계산기, 컴퓨터, 휴대폰\n",
    "\n",
    "Toy Store (random module):\n",
    "- Games, puzzles, surprise boxes\n",
    "- 게임, 퍼즐, 서프라이즈 박스\n",
    "\n",
    "Clock Shop (datetime module):\n",
    "- Watches, calendars, timers\n",
    "- 시계, 달력, 타이머\n",
    "```\n",
    "\n",
    "### Types of Modules (모듈의 종류)\n",
    "\n",
    "#### 1. Built-in Modules (내장 모듈)\n",
    "Modules that come with Python automatically.\n",
    "파이썬과 함께 자동으로 제공되는 모듈들.\n",
    "\n",
    "#### 2. Standard Library Modules (표준 라이브러리 모듈)\n",
    "Additional modules included with Python installation.\n",
    "파이썬 설치와 함께 포함된 추가 모듈들.\n",
    "\n",
    "#### 3. Third-party Modules (서드파티 모듈)\n",
    "Modules created by other developers that you can install.\n",
    "다른 개발자들이 만든 설치 가능한 모듈들.\n",
    "\n",
    "#### 4. Custom Modules (사용자 정의 모듈)\n",
    "Modules that you create yourself.\n",
    "직접 만드는 모듈들.\n",
    "\n",
    "---\n",
    "\n",
    "## 📥 2. Using import Statement (import 문 사용법)\n",
    "\n",
    "### Basic Import Syntax (기본 import 문법)"
   ]
  },
  {
   "cell_type": "code",
   "execution_count": null,
   "id": "a0eb4439",
   "metadata": {},
   "outputs": [],
   "source": [
    "import module_name"
   ]
  },
  {
   "cell_type": "markdown",
   "id": "b081c5c3",
   "metadata": {
    "lines_to_next_cell": 0
   },
   "source": [
    "### Different Ways to Import (다양한 import 방법)\n",
    "\n",
    "#### Method 1: Import Entire Module (전체 모듈 import)"
   ]
  },
  {
   "cell_type": "code",
   "execution_count": null,
   "id": "db443ac0",
   "metadata": {},
   "outputs": [],
   "source": [
    "import math\n",
    "\n",
    "# Use functions with module name\n",
    "result = math.sqrt(16)\n",
    "print(f\"Square root of 16: {result}\")\n",
    "\n",
    "# Calculate area of a circle\n",
    "radius = 5\n",
    "area = math.pi * radius * radius\n",
    "print(f\"Circle area: {area}\")"
   ]
  },
  {
   "cell_type": "markdown",
   "id": "49de7c56",
   "metadata": {
    "lines_to_next_cell": 0
   },
   "source": [
    "#### Method 2: Import Specific Functions (특정 함수 import)"
   ]
  },
  {
   "cell_type": "code",
   "execution_count": null,
   "id": "199a2fd9",
   "metadata": {},
   "outputs": [],
   "source": [
    "from math import sqrt, pi\n",
    "\n",
    "# Use functions directly without module name\n",
    "result = sqrt(25)\n",
    "print(f\"Square root of 25: {result}\")\n",
    "\n",
    "area = pi * 3 * 3\n",
    "print(f\"Circle area: {area}\")"
   ]
  },
  {
   "cell_type": "markdown",
   "id": "438cf8a5",
   "metadata": {
    "lines_to_next_cell": 0
   },
   "source": [
    "#### Method 3: Import with Alias (별칭으로 import)"
   ]
  },
  {
   "cell_type": "code",
   "execution_count": null,
   "id": "67acf05e",
   "metadata": {},
   "outputs": [],
   "source": [
    "import math as m\n",
    "\n",
    "# Use shorter name\n",
    "result = m.sqrt(9)\n",
    "print(f\"Square root of 9: {result}\")"
   ]
  },
  {
   "cell_type": "markdown",
   "id": "b451ddf7",
   "metadata": {
    "lines_to_next_cell": 0
   },
   "source": [
    "#### Method 4: Import All (모든 것 import)"
   ]
  },
  {
   "cell_type": "code",
   "execution_count": null,
   "id": "8d9178cc",
   "metadata": {},
   "outputs": [],
   "source": [
    "from math import *\n",
    "\n",
    "# Can use all functions directly (not recommended for beginners)\n",
    "result = sqrt(36)\n",
    "area = pi * 2 * 2\n",
    "print(f\"Results: {result}, {area}\")"
   ]
  },
  {
   "cell_type": "markdown",
   "id": "2ae54271",
   "metadata": {},
   "source": [
    "### Import Examples with Output (출력이 포함된 import 예시)"
   ]
  },
  {
   "cell_type": "code",
   "execution_count": null,
   "id": "2f501ee6",
   "metadata": {},
   "outputs": [],
   "source": [
    "# Demonstrate different import methods\n",
    "print(\"=== IMPORT METHODS DEMO ===\")\n",
    "\n",
    "# Method 1: Standard import\n",
    "import math\n",
    "print(f\"Using math.sqrt(16): {math.sqrt(16)}\")\n",
    "\n",
    "# Method 2: Specific import\n",
    "from math import pow\n",
    "print(f\"Using pow(2, 3): {pow(2, 3)}\")\n",
    "\n",
    "# Method 3: Import with alias\n",
    "import random as rand\n",
    "print(f\"Random number: {rand.randint(1, 10)}\")\n",
    "\n",
    "print(\"=== DEMO COMPLETED ===\")"
   ]
  },
  {
   "cell_type": "markdown",
   "id": "65d958d3",
   "metadata": {},
   "source": [
    "---\n",
    "\n",
    "## 📚 3. Standard Library Introduction (표준 라이브러리 소개)\n",
    "\n",
    "### math Module (수학 모듈)\n",
    "\n",
    "The **math** module provides mathematical functions and constants.\n",
    "**math** 모듈은 수학 함수와 상수들을 제공합니다.\n",
    "\n",
    "#### Common math Functions (일반적인 수학 함수들)"
   ]
  },
  {
   "cell_type": "code",
   "execution_count": null,
   "id": "9dcb073b",
   "metadata": {},
   "outputs": [],
   "source": [
    "import math\n",
    "\n",
    "print(\"=== MATH MODULE EXAMPLES ===\")\n",
    "\n",
    "# Basic functions\n",
    "print(f\"Square root of 16: {math.sqrt(16)}\")\n",
    "print(f\"2 to the power of 3: {math.pow(2, 3)}\")\n",
    "print(f\"Ceiling of 4.3: {math.ceil(4.3)}\")\n",
    "print(f\"Floor of 4.7: {math.floor(4.7)}\")\n",
    "\n",
    "# Constants\n",
    "print(f\"Pi value: {math.pi}\")\n",
    "print(f\"E value: {math.e}\")\n",
    "\n",
    "# Trigonometry (degrees to radians first)\n",
    "angle_degrees = 90\n",
    "angle_radians = math.radians(angle_degrees)\n",
    "print(f\"Sin of 90 degrees: {math.sin(angle_radians)}\")"
   ]
  },
  {
   "cell_type": "markdown",
   "id": "cd142503",
   "metadata": {},
   "source": [
    "### random Module (랜덤 모듈)\n",
    "\n",
    "The **random** module generates random numbers and makes random choices.\n",
    "**random** 모듈은 난수를 생성하고 무작위 선택을 합니다.\n",
    "\n",
    "#### Common random Functions (일반적인 랜덤 함수들)"
   ]
  },
  {
   "cell_type": "code",
   "execution_count": null,
   "id": "ea590fe4",
   "metadata": {},
   "outputs": [],
   "source": [
    "import random\n",
    "\n",
    "print(\"=== RANDOM MODULE EXAMPLES ===\")\n",
    "\n",
    "# Random integers\n",
    "print(f\"Random integer 1-10: {random.randint(1, 10)}\")\n",
    "print(f\"Random integer 1-100: {random.randint(1, 100)}\")\n",
    "\n",
    "# Random floating point numbers\n",
    "print(f\"Random float 0-1: {random.random()}\")\n",
    "print(f\"Random float 1-10: {random.uniform(1, 10)}\")\n",
    "\n",
    "# Random choices\n",
    "colors = [\"red\", \"blue\", \"green\", \"yellow\"]\n",
    "print(f\"Random color: {random.choice(colors)}\")\n",
    "\n",
    "# Shuffle a list\n",
    "numbers = [1, 2, 3, 4, 5]\n",
    "random.shuffle(numbers)\n",
    "print(f\"Shuffled numbers: {numbers}\")"
   ]
  },
  {
   "cell_type": "markdown",
   "id": "379d06eb",
   "metadata": {},
   "source": [
    "### datetime Module (날짜시간 모듈)\n",
    "\n",
    "The **datetime** module helps work with dates and times.\n",
    "**datetime** 모듈은 날짜와 시간 작업에 도움을 줍니다.\n",
    "\n",
    "#### Common datetime Functions (일반적인 날짜시간 함수들)"
   ]
  },
  {
   "cell_type": "code",
   "execution_count": null,
   "id": "8a949f0d",
   "metadata": {},
   "outputs": [],
   "source": [
    "import datetime\n",
    "\n",
    "print(\"=== DATETIME MODULE EXAMPLES ===\")\n",
    "\n",
    "# Current date and time\n",
    "now = datetime.datetime.now()\n",
    "print(f\"Current date and time: {now}\")\n",
    "\n",
    "# Current date only\n",
    "today = datetime.date.today()\n",
    "print(f\"Today's date: {today}\")\n",
    "\n",
    "# Format dates\n",
    "formatted_date = now.strftime(\"%Y-%m-%d %H:%M:%S\")\n",
    "print(f\"Formatted date: {formatted_date}\")\n",
    "\n",
    "# Simple format\n",
    "simple_date = now.strftime(\"%B %d, %Y\")\n",
    "print(f\"Simple format: {simple_date}\")\n",
    "\n",
    "# Day of the week\n",
    "day_name = now.strftime(\"%A\")\n",
    "print(f\"Today is: {day_name}\")"
   ]
  },
  {
   "cell_type": "markdown",
   "id": "0ddba9f6",
   "metadata": {},
   "source": [
    "### Practical Standard Library Example (실용적인 표준 라이브러리 예시)"
   ]
  },
  {
   "cell_type": "code",
   "execution_count": null,
   "id": "4293fd7f",
   "metadata": {},
   "outputs": [],
   "source": [
    "# Combine multiple modules for a useful program\n",
    "import math\n",
    "import random\n",
    "import datetime\n",
    "\n",
    "def daily_math_quiz():\n",
    "    \"\"\"Generate a daily math quiz using multiple modules\"\"\"\n",
    "    \n",
    "    # Get current date\n",
    "    today = datetime.date.today().strftime(\"%B %d, %Y\")\n",
    "    print(f\"=== DAILY MATH QUIZ - {today} ===\")\n",
    "    \n",
    "    # Generate random numbers for questions\n",
    "    num1 = random.randint(1, 20)\n",
    "    num2 = random.randint(1, 20)\n",
    "    \n",
    "    print(f\"Question 1: What is {num1} + {num2}?\")\n",
    "    print(f\"Answer: {num1 + num2}\")\n",
    "    \n",
    "    # Square root question\n",
    "    perfect_square = random.choice([4, 9, 16, 25, 36, 49])\n",
    "    print(f\"Question 2: What is the square root of {perfect_square}?\")\n",
    "    print(f\"Answer: {int(math.sqrt(perfect_square))}\")\n",
    "    \n",
    "    # Circle area question\n",
    "    radius = random.randint(2, 8)\n",
    "    area = math.pi * radius * radius\n",
    "    print(f\"Question 3: What is the area of a circle with radius {radius}?\")\n",
    "    print(f\"Answer: {area:.2f}\")\n",
    "    \n",
    "    print(\"Quiz completed!\")\n",
    "\n",
    "# Run the quiz\n",
    "daily_math_quiz()"
   ]
  },
  {
   "cell_type": "markdown",
   "id": "d72c4f96",
   "metadata": {},
   "source": [
    "---\n",
    "\n",
    "## 🔨 4. Creating User-Defined Modules (사용자 정의 모듈 만들기)\n",
    "\n",
    "### What is a User-Defined Module? (사용자 정의 모듈이란?)\n",
    "\n",
    "A **user-defined module** is a Python file that you create with your own functions and variables that can be used by other programs.\n",
    "**사용자 정의 모듈**은 다른 프로그램에서 사용할 수 있는 자신만의 함수와 변수로 만든 파이썬 파일입니다.\n",
    "\n",
    "### Step-by-Step Module Creation (단계별 모듈 생성)\n",
    "\n",
    "#### Step 1: Create a Module File (모듈 파일 생성)\n",
    "\n",
    "Create a file called `my_utilities.py`:\n",
    "`my_utilities.py`라는 파일을 만드세요:"
   ]
  },
  {
   "cell_type": "code",
   "execution_count": null,
   "id": "276f7530",
   "metadata": {},
   "outputs": [],
   "source": [
    "# my_utilities.py - A collection of useful functions\n",
    "\n",
    "def greet_user(name):\n",
    "    \"\"\"Greet a user with a friendly message\"\"\"\n",
    "    return f\"Hello, {name}! Welcome to our program!\"\n",
    "\n",
    "def calculate_average(numbers):\n",
    "    \"\"\"Calculate the average of a list of numbers\"\"\"\n",
    "    if len(numbers) == 0:\n",
    "        return 0\n",
    "    return sum(numbers) / len(numbers)\n",
    "\n",
    "def is_even(number):\n",
    "    \"\"\"Check if a number is even\"\"\"\n",
    "    return number % 2 == 0\n",
    "\n",
    "def get_initials(full_name):\n",
    "    \"\"\"Get initials from a full name\"\"\"\n",
    "    names = full_name.split()\n",
    "    initials = \"\"\n",
    "    for name in names:\n",
    "        initials += name[0].upper()\n",
    "    return initials\n",
    "\n",
    "# Module constants\n",
    "PI = 3.14159\n",
    "GREETING_MESSAGE = \"Thank you for using my utilities!\"\n",
    "\n",
    "# Code that runs when module is imported\n",
    "print(\"my_utilities module loaded successfully!\")"
   ]
  },
  {
   "cell_type": "markdown",
   "id": "6e12e0a9",
   "metadata": {},
   "source": [
    "#### Step 2: Use Your Module (모듈 사용하기)\n",
    "\n",
    "Create a main program file called `main_program.py`:\n",
    "`main_program.py`라는 메인 프로그램 파일을 만드세요:"
   ]
  },
  {
   "cell_type": "code",
   "execution_count": null,
   "id": "954ec984",
   "metadata": {},
   "outputs": [],
   "source": [
    "# main_program.py - Using our custom module\n",
    "\n",
    "import my_utilities\n",
    "\n",
    "print(\"=== TESTING CUSTOM MODULE ===\")\n",
    "\n",
    "# Test greeting function\n",
    "message = my_utilities.greet_user(\"Alice\")\n",
    "print(message)\n",
    "\n",
    "# Test average calculation\n",
    "scores = [85, 92, 78, 96, 88]\n",
    "average = my_utilities.calculate_average(scores)\n",
    "print(f\"Average score: {average}\")\n",
    "\n",
    "# Test even number check\n",
    "number = 42\n",
    "if my_utilities.is_even(number):\n",
    "    print(f\"{number} is even\")\n",
    "else:\n",
    "    print(f\"{number} is odd\")\n",
    "\n",
    "# Test initials function\n",
    "name = \"John Doe Smith\"\n",
    "initials = my_utilities.get_initials(name)\n",
    "print(f\"Initials for {name}: {initials}\")\n",
    "\n",
    "# Use module constants\n",
    "print(f\"Pi value from module: {my_utilities.PI}\")\n",
    "print(my_utilities.GREETING_MESSAGE)"
   ]
  },
  {
   "cell_type": "markdown",
   "id": "5ea8a7a2",
   "metadata": {},
   "source": [
    "### Alternative Import Methods with Custom Modules (사용자 정의 모듈의 다른 import 방법들)"
   ]
  },
  {
   "cell_type": "code",
   "execution_count": null,
   "id": "64618551",
   "metadata": {},
   "outputs": [],
   "source": [
    "# Method 1: Import specific functions\n",
    "from my_utilities import greet_user, calculate_average\n",
    "\n",
    "message = greet_user(\"Bob\")\n",
    "average = calculate_average([10, 20, 30])\n",
    "print(f\"{message} Your average: {average}\")\n",
    "\n",
    "# Method 2: Import with alias\n",
    "import my_utilities as utils\n",
    "\n",
    "message = utils.greet_user(\"Charlie\")\n",
    "print(message)\n",
    "\n",
    "# Method 3: Import specific functions with alias\n",
    "from my_utilities import get_initials as get_init\n",
    "\n",
    "initials = get_init(\"Mary Jane Watson\")\n",
    "print(f\"Initials: {initials}\")"
   ]
  },
  {
   "cell_type": "markdown",
   "id": "c39c62d1",
   "metadata": {
    "lines_to_next_cell": 0
   },
   "source": [
    "### Module Best Practices (모듈 모범 사례)\n",
    "\n",
    "#### 1. Clear Function Names (명확한 함수 이름)"
   ]
  },
  {
   "cell_type": "code",
   "execution_count": null,
   "id": "156cf7b4",
   "metadata": {},
   "outputs": [],
   "source": [
    "# Good - clear and descriptive\n",
    "def calculate_circle_area(radius):\n",
    "    return 3.14159 * radius * radius\n",
    "\n",
    "# Poor - unclear\n",
    "def calc(r):\n",
    "    return 3.14159 * r * r"
   ]
  },
  {
   "cell_type": "markdown",
   "id": "8ed2aabf",
   "metadata": {
    "lines_to_next_cell": 0
   },
   "source": [
    "#### 2. Add Documentation (문서화 추가)"
   ]
  },
  {
   "cell_type": "code",
   "execution_count": null,
   "id": "84271f47",
   "metadata": {},
   "outputs": [],
   "source": [
    "def convert_temperature(celsius):\n",
    "    \"\"\"\n",
    "    Convert temperature from Celsius to Fahrenheit\n",
    "    \n",
    "    Args:\n",
    "        celsius (float): Temperature in Celsius\n",
    "        \n",
    "    Returns:\n",
    "        float: Temperature in Fahrenheit\n",
    "    \"\"\"\n",
    "    return (celsius * 9/5) + 32"
   ]
  },
  {
   "cell_type": "markdown",
   "id": "e3ea075b",
   "metadata": {
    "lines_to_next_cell": 0
   },
   "source": [
    "#### 3. Group Related Functions (관련 함수들 그룹화)"
   ]
  },
  {
   "cell_type": "code",
   "execution_count": null,
   "id": "7eb04e79",
   "metadata": {},
   "outputs": [],
   "source": [
    "# math_helpers.py - All math-related functions\n",
    "def add_numbers(a, b):\n",
    "    return a + b\n",
    "\n",
    "def multiply_numbers(a, b):\n",
    "    return a * b\n",
    "\n",
    "def calculate_percentage(part, total):\n",
    "    return (part / total) * 100"
   ]
  },
  {
   "cell_type": "markdown",
   "id": "ee8f2e24",
   "metadata": {},
   "source": [
    "---\n",
    "\n",
    "## 🔧 Lab Exercises (실습)\n",
    "\n",
    "### Lab 1: Creating Personal Utility Module (개인 유틸리티 모듈 만들기)\n",
    "\n",
    "**Problem (문제)**: Create a simple utility module with basic functions.\n",
    "기본 함수들로 간단한 유틸리티 모듈을 만드세요.\n",
    "\n",
    "**Solution (정답)**:\n",
    "\n",
    "First, create `my_utils.py`:\n",
    "먼저 `my_utils.py`를 만드세요:"
   ]
  },
  {
   "cell_type": "code",
   "execution_count": null,
   "id": "b8256780",
   "metadata": {},
   "outputs": [],
   "source": [
    "# my_utils.py - Simple utility functions\n",
    "\n",
    "def greet(name):\n",
    "    \"\"\"Greet a person\"\"\"\n",
    "    return f\"Hello, {name}!\"\n",
    "\n",
    "def add_numbers(a, b):\n",
    "    \"\"\"Add two numbers\"\"\"\n",
    "    return a + b\n",
    "\n",
    "def is_even(number):\n",
    "    \"\"\"Check if number is even\"\"\"\n",
    "    return number % 2 == 0\n",
    "\n",
    "print(\"Utils module loaded!\")"
   ]
  },
  {
   "cell_type": "markdown",
   "id": "542a4fd9",
   "metadata": {},
   "source": [
    "Then create `test_utils.py`:\n",
    "그다음 `test_utils.py`를 만드세요:"
   ]
  },
  {
   "cell_type": "code",
   "execution_count": null,
   "id": "8b5e4d5c",
   "metadata": {},
   "outputs": [],
   "source": [
    "# test_utils.py - Test the utility module\n",
    "\n",
    "import my_utils\n",
    "\n",
    "# Test the functions\n",
    "print(my_utils.greet(\"Alice\"))\n",
    "print(f\"5 + 3 = {my_utils.add_numbers(5, 3)}\")\n",
    "print(f\"Is 4 even? {my_utils.is_even(4)}\")\n",
    "print(f\"Is 7 even? {my_utils.is_even(7)}\")"
   ]
  },
  {
   "cell_type": "markdown",
   "id": "2c5188d7",
   "metadata": {},
   "source": [
    "### Lab 2: Random Game Program (랜덤 게임 프로그램)\n",
    "\n",
    "**Problem (문제)**: Create a simple number guessing game using the random module.\n",
    "random 모듈을 사용하여 간단한 숫자 맞히기 게임을 만드세요.\n",
    "\n",
    "**Solution (정답)**:"
   ]
  },
  {
   "cell_type": "code",
   "execution_count": null,
   "id": "ff2d87d7",
   "metadata": {},
   "outputs": [],
   "source": [
    "# guessing_game.py - Simple number guessing game\n",
    "\n",
    "import random\n",
    "\n",
    "def play_game():\n",
    "    \"\"\"Simple number guessing game\"\"\"\n",
    "    print(\"=== NUMBER GUESSING GAME ===\")\n",
    "    \n",
    "    # Computer picks random number 1-10\n",
    "    secret_number = random.randint(1, 10)\n",
    "    \n",
    "    print(\"I'm thinking of a number between 1 and 10\")\n",
    "    guess = int(input(\"What's your guess? \"))\n",
    "    \n",
    "    if guess == secret_number:\n",
    "        print(f\"Correct! The number was {secret_number}\")\n",
    "    else:\n",
    "        print(f\"Wrong! The number was {secret_number}\")\n",
    "\n",
    "def dice_game():\n",
    "    \"\"\"Simple dice rolling\"\"\"\n",
    "    print(\"\\n=== DICE GAME ===\")\n",
    "    input(\"Press Enter to roll the dice...\")\n",
    "    \n",
    "    dice1 = random.randint(1, 6)\n",
    "    dice2 = random.randint(1, 6)\n",
    "    total = dice1 + dice2\n",
    "    \n",
    "    print(f\"You rolled: {dice1} and {dice2}\")\n",
    "    print(f\"Total: {total}\")\n",
    "    \n",
    "    if total == 7:\n",
    "        print(\"Lucky 7! You win!\")\n",
    "    else:\n",
    "        print(\"Try again!\")\n",
    "\n",
    "# Play the games\n",
    "play_game()\n",
    "dice_game()"
   ]
  },
  {
   "cell_type": "markdown",
   "id": "7b0e15ea",
   "metadata": {},
   "source": [
    "### Lab 3: Date/Time Program (날짜/시간 프로그램)\n",
    "\n",
    "**Problem (문제)**: Create a simple program using datetime module to show current date and time information.\n",
    "datetime 모듈을 사용하여 현재 날짜와 시간 정보를 보여주는 간단한 프로그램을 만드세요.\n",
    "\n",
    "**Solution (정답)**:"
   ]
  },
  {
   "cell_type": "code",
   "execution_count": null,
   "id": "3ba753c7",
   "metadata": {},
   "outputs": [],
   "source": [
    "# datetime_info.py - Simple date and time program\n",
    "\n",
    "import datetime\n",
    "\n",
    "def show_current_info():\n",
    "    \"\"\"Show current date and time\"\"\"\n",
    "    now = datetime.datetime.now()\n",
    "    today = datetime.date.today()\n",
    "    \n",
    "    print(\"=== CURRENT DATE & TIME ===\")\n",
    "    print(f\"Today's date: {today}\")\n",
    "    print(f\"Current time: {now.strftime('%H:%M:%S')}\")\n",
    "    print(f\"Day of week: {now.strftime('%A')}\")\n",
    "    print(f\"Month: {now.strftime('%B')}\")\n",
    "\n",
    "def calculate_age(birth_year):\n",
    "    \"\"\"Calculate age from birth year\"\"\"\n",
    "    current_year = datetime.date.today().year\n",
    "    age = current_year - birth_year\n",
    "    print(f\"\\nIf born in {birth_year}, you are {age} years old\")\n",
    "\n",
    "def days_to_new_year():\n",
    "    \"\"\"Calculate days until New Year\"\"\"\n",
    "    today = datetime.date.today()\n",
    "    next_year = today.year + 1\n",
    "    new_year = datetime.date(next_year, 1, 1)\n",
    "    days_left = (new_year - today).days\n",
    "    print(f\"\\nDays until New Year: {days_left}\")\n",
    "\n",
    "# Run the functions\n",
    "show_current_info()\n",
    "calculate_age(2000)\n",
    "days_to_new_year()"
   ]
  },
  {
   "cell_type": "markdown",
   "id": "919f54f3",
   "metadata": {
    "lines_to_next_cell": 0
   },
   "source": [
    "---\n",
    "\n",
    "## 📝 Quiz Section (퀴즈)\n",
    "\n",
    "### Quiz 1: Using math Module (math 모듈 사용)\n",
    "\n",
    "**Question**: Use math module to find and print square root of 16. Also calculate and print the area of a circle with radius 5 using math.pi.\n",
    "math 모듈을 사용하여 16의 제곱근을 구하고 출력하세요. 또한 math.pi를 사용하여 반지름이 5인 원의 넓이를 계산하고 출력하세요.\n",
    "\n",
    "**Write your answer here (답을 여기에 작성하세요)**:"
   ]
  },
  {
   "cell_type": "code",
   "execution_count": null,
   "id": "e53a7727",
   "metadata": {},
   "outputs": [],
   "source": [
    "# Your code here"
   ]
  },
  {
   "cell_type": "markdown",
   "id": "f550929a",
   "metadata": {
    "lines_to_next_cell": 0
   },
   "source": [
    "### Quiz 2: Random Number Generation (랜덤 숫자 생성)\n",
    "\n",
    "**Question**: Use random module to generate 3 random numbers between 1-100 as a list. Also create a function that randomly selects and returns one item from a given list of colors: [\"red\", \"blue\", \"green\", \"yellow\", \"purple\"].\n",
    "random 모듈을 사용하여 1-100 사이의 랜덤 숫자 3개를 리스트로 생성하세요. 또한 주어진 색상 리스트 [\"red\", \"blue\", \"green\", \"yellow\", \"purple\"]에서 하나의 항목을 무작위로 선택하여 반환하는 함수를 만드세요.\n",
    "\n",
    "**Write your answer here (답을 여기에 작성하세요)**:"
   ]
  },
  {
   "cell_type": "code",
   "execution_count": null,
   "id": "86c0fa55",
   "metadata": {},
   "outputs": [],
   "source": [
    "# Your code here"
   ]
  },
  {
   "cell_type": "markdown",
   "id": "2a0647be",
   "metadata": {
    "lines_to_next_cell": 0
   },
   "source": [
    "### Quiz 3: Creating Custom Module (사용자 정의 모듈 만들기)\n",
    "\n",
    "**Question**: Create calculator.py module with arithmetic functions (add, subtract, multiply, divide) and import in main program. The module should include functions that take two parameters and return the result. Test all functions in your main program.\n",
    "산술 함수들(add, subtract, multiply, divide)이 있는 calculator.py 모듈을 만들고 메인 프로그램에서 import하여 사용하세요. 모듈에는 두 개의 매개변수를 받아 결과를 반환하는 함수들이 포함되어야 합니다. 메인 프로그램에서 모든 함수를 테스트하세요.\n",
    "\n",
    "**Write your answer here (답을 여기에 작성하세요)**:"
   ]
  },
  {
   "cell_type": "code",
   "execution_count": null,
   "id": "8a08b10a",
   "metadata": {},
   "outputs": [],
   "source": [
    "# Your calculator.py module code here\n",
    "\n",
    "# Your main program code here"
   ]
  },
  {
   "cell_type": "markdown",
   "id": "4ae8044d",
   "metadata": {},
   "source": [
    "---\n",
    "\n",
    "## 📖 References (참고)\n",
    "\n",
    "1. **Python Modules Tutorial**: https://docs.python.org/3/tutorial/modules.html\n",
    "   - Official Python documentation on modules and packages (모듈과 패키지에 대한 공식 파이썬 문서)\n",
    "\n",
    "2. **Python Standard Library**: https://docs.python.org/3/library/\n",
    "   - Complete reference for Python's built-in modules (파이썬 내장 모듈에 대한 완전한 참조)\n",
    "\n",
    "3. **Import Statement Guide**: https://realpython.com/python-import/\n",
    "   - Comprehensive guide to importing modules in Python (파이썬에서 모듈을 가져오는 포괄적인 가이드)\n",
    "\n",
    "4. **Creating Python Modules**: https://www.programiz.com/python-programming/modules\n",
    "   - Step-by-step tutorial on creating custom modules (사용자 정의 모듈 생성에 대한 단계별 튜토리얼)\n",
    "\n",
    "---\n",
    "\n",
    "## 💡 Key Points (핵심 포인트)\n",
    "\n",
    "### Remember (기억하세요)\n",
    "1. **Modules save time** by providing pre-written functions (모듈은 미리 작성된 함수를 제공하여 시간을 절약)\n",
    "2. **Import only what you need** to keep your program efficient (프로그램을 효율적으로 유지하기 위해 필요한 것만 import)\n",
    "3. **Standard library modules** (math, random, datetime) are very useful (표준 라이브러리 모듈들은 매우 유용)\n",
    "4. **Create your own modules** to organize and reuse code (코드를 구성하고 재사용하기 위해 자신만의 모듈 생성)\n",
    "\n",
    "### Common Import Patterns (일반적인 import 패턴)\n",
    "- `import module_name` - Import entire module (전체 모듈 import)\n",
    "- `from module_name import function_name` - Import specific function (특정 함수 import)\n",
    "- `import module_name as alias` - Import with shorter name (짧은 이름으로 import)\n",
    "\n",
    "### Module Organization Tips (모듈 구성 팁)\n",
    "- Keep related functions together (관련 함수들을 함께 유지)\n",
    "- Use clear, descriptive names (명확하고 설명적인 이름 사용)\n",
    "- Add documentation to your functions (함수에 문서화 추가)\n",
    "- Test your modules before using them (사용하기 전에 모듈 테스트)\n",
    "\n",
    "### Next Week Preview (다음 주 미리보기)\n",
    "Next week: **Classes and Objects Basics** - Introduction to object-oriented programming\n",
    "다음 주: **클래스와 객체 기초** - 객체지향 프로그래밍 입문\n",
    "\n",
    "---\n",
    "\n",
    "## 📋 Homework (숙제)\n",
    "\n",
    "1. Complete all three lab exercises and experiment with different modules (3개 실습을 모두 완료하고 다양한 모듈 실험)\n",
    "2. Create your own utility module with at least 5 useful functions (최소 5개의 유용한 함수가 있는 자신만의 유틸리티 모듈 생성)\n",
    "3. Explore the Python standard library and try 2 new modules (파이썬 표준 라이브러리를 탐색하고 새로운 모듈 2개 시도)\n",
    "4. Practice different import methods with existing modules (기존 모듈로 다양한 import 방법 연습)\n",
    "\n",
    "**Modules make your Python programs more powerful and organized!** 📦  \n",
    "**모듈은 파이썬 프로그램을 더 강력하고 체계적으로 만들어줍니다!** 📦"
   ]
  }
 ],
 "metadata": {
  "jupytext": {
   "cell_metadata_filter": "-all",
   "main_language": "python",
   "notebook_metadata_filter": "-all"
  }
 },
 "nbformat": 4,
 "nbformat_minor": 5
}
