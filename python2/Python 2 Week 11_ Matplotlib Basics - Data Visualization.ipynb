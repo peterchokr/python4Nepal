{
 "cells": [
  {
   "cell_type": "markdown",
   "id": "18f6448f",
   "metadata": {},
   "source": [
    "# Week 11: Matplotlib Basics - Data Visualization\n",
    "**Matplotlib 기초 - 데이터 시각화**\n",
    "\n",
    "**Duration (수업 시간)**: 3 hours (3시간)  \n",
    "**Structure (구성)**: Lecture & Lab 2 hours + Quiz 1 hour (강의 및 실습 2시간 + 퀴즈 1시간)  \n",
    "**Level (수준)**: Intermediate (중급)\n",
    "\n",
    "---\n",
    "\n",
    "## Learning Objectives (학습 목표)\n",
    "\n",
    "By the end of this lesson, students will be able to:\n",
    "이 수업을 마친 후 학생들은 다음을 할 수 있습니다:\n",
    "\n",
    "- Install and import matplotlib library (matplotlib 라이브러리 설치 및 가져오기)\n",
    "- Create simple line graphs (간단한 선 그래프 생성)\n",
    "- Make bar charts for data comparison (데이터 비교용 막대 그래프 만들기)\n",
    "- Add titles and labels to graphs (그래프에 제목과 라벨 추가)\n",
    "\n",
    "---\n",
    "\n",
    "## 1. Introduction to Matplotlib (Matplotlib 소개)\n",
    "\n",
    "**Matplotlib** is a Python library that helps you create graphs and charts. Think of it like a digital paintbrush for drawing with numbers.\n",
    "**Matplotlib**은 그래프와 차트를 만들어주는 파이썬 라이브러리입니다. 숫자로 그림을 그리는 디지털 붓이라고 생각하세요.\n",
    "\n",
    "### Why Use Graphs? (왜 그래프를 사용하나요?)\n",
    "\n",
    "- **Easy to understand**: Pictures are easier than numbers (이해하기 쉬움: 그림이 숫자보다 쉬움)\n",
    "- **Show patterns**: See trends quickly (패턴 보기: 트렌드를 빠르게 확인)\n",
    "- **Compare data**: Side-by-side comparison (데이터 비교: 나란히 비교)\n",
    "\n",
    "---\n",
    "\n",
    "## 2. Installing Matplotlib (Matplotlib 설치)\n",
    "\n",
    "Before using matplotlib, you need to install it using **pip**.\n",
    "matplotlib을 사용하기 전에 **pip**를 사용해서 설치해야 합니다.\n",
    "\n",
    "### Installation Command (설치 명령어)"
   ]
  },
  {
   "cell_type": "code",
   "execution_count": null,
   "id": "a323ed9c",
   "metadata": {},
   "outputs": [],
   "source": [
    "%%bash\n",
    "pip install matplotlib"
   ]
  },
  {
   "cell_type": "markdown",
   "id": "9a04d31f",
   "metadata": {},
   "source": [
    "### Importing Matplotlib (Matplotlib 가져오기)"
   ]
  },
  {
   "cell_type": "code",
   "execution_count": null,
   "id": "0d121448",
   "metadata": {},
   "outputs": [],
   "source": [
    "import matplotlib.pyplot as plt"
   ]
  },
  {
   "cell_type": "markdown",
   "id": "0e869164",
   "metadata": {},
   "source": [
    "This is the standard way to import matplotlib for plotting.\n",
    "이것이 그래프 그리기를 위해 matplotlib을 가져오는 표준 방법입니다.\n",
    "\n",
    "---\n",
    "\n",
    "## 3. Line Graphs (선 그래프)\n",
    "\n",
    "Line graphs show how data changes over time. Like tracking your height as you grow up.\n",
    "선 그래프는 시간에 따른 데이터 변화를 보여줍니다. 자라면서 키를 추적하는 것과 같습니다.\n",
    "\n",
    "### Simple Line Graph (간단한 선 그래프)"
   ]
  },
  {
   "cell_type": "code",
   "execution_count": null,
   "id": "175ff1d4",
   "metadata": {},
   "outputs": [],
   "source": [
    "import matplotlib.pyplot as plt\n",
    "\n",
    "# Data\n",
    "x = [1, 2, 3, 4, 5]\n",
    "y = [2, 4, 6, 8, 10]\n",
    "\n",
    "# Create line graph\n",
    "plt.plot(x, y)\n",
    "plt.show()"
   ]
  },
  {
   "cell_type": "markdown",
   "id": "4ceb8c03",
   "metadata": {},
   "source": [
    "### Line Graph with Labels (라벨이 있는 선 그래프)"
   ]
  },
  {
   "cell_type": "code",
   "execution_count": null,
   "id": "29894da9",
   "metadata": {},
   "outputs": [],
   "source": [
    "import matplotlib.pyplot as plt\n",
    "\n",
    "# Monthly sales data\n",
    "months = ['Jan', 'Feb', 'Mar', 'Apr', 'May']\n",
    "sales = [1000, 1500, 1200, 1800, 2000]\n",
    "\n",
    "# Create graph\n",
    "plt.plot(months, sales)\n",
    "plt.title('Monthly Sales')\n",
    "plt.xlabel('Month')\n",
    "plt.ylabel('Sales ($)')\n",
    "plt.show()"
   ]
  },
  {
   "cell_type": "markdown",
   "id": "feead93c",
   "metadata": {},
   "source": [
    "---\n",
    "\n",
    "## 4. Bar Charts (막대 그래프)\n",
    "\n",
    "Bar charts compare different categories. Like comparing heights of different buildings.\n",
    "막대 그래프는 서로 다른 카테고리를 비교합니다. 서로 다른 건물의 높이를 비교하는 것과 같습니다.\n",
    "\n",
    "### Simple Bar Chart (간단한 막대 그래프)"
   ]
  },
  {
   "cell_type": "code",
   "execution_count": null,
   "id": "b78d3376",
   "metadata": {},
   "outputs": [],
   "source": [
    "import matplotlib.pyplot as plt\n",
    "\n",
    "# Subject scores\n",
    "subjects = ['Math', 'English', 'Science']\n",
    "scores = [85, 90, 78]\n",
    "\n",
    "# Create bar chart\n",
    "plt.bar(subjects, scores)\n",
    "plt.title('Subject Scores')\n",
    "plt.ylabel('Score')\n",
    "plt.show()"
   ]
  },
  {
   "cell_type": "markdown",
   "id": "18bbdd60",
   "metadata": {},
   "source": [
    "### Colorful Bar Chart (컬러풀한 막대 그래프)"
   ]
  },
  {
   "cell_type": "code",
   "execution_count": null,
   "id": "c6bd8fb2",
   "metadata": {},
   "outputs": [],
   "source": [
    "import matplotlib.pyplot as plt\n",
    "\n",
    "# Fruit sales\n",
    "fruits = ['Apple', 'Banana', 'Orange', 'Grape']\n",
    "sales = [50, 30, 40, 25]\n",
    "colors = ['red', 'yellow', 'orange', 'purple']\n",
    "\n",
    "# Create colorful bar chart\n",
    "plt.bar(fruits, sales, color=colors)\n",
    "plt.title('Fruit Sales')\n",
    "plt.xlabel('Fruit Type')\n",
    "plt.ylabel('Units Sold')\n",
    "plt.show()"
   ]
  },
  {
   "cell_type": "markdown",
   "id": "f19999b8",
   "metadata": {},
   "source": [
    "---\n",
    "\n",
    "## 5. Histograms (히스토그램)\n",
    "\n",
    "Histograms show how often different values appear. Like counting how many students got different grades.\n",
    "히스토그램은 서로 다른 값들이 얼마나 자주 나타나는지 보여줍니다. 서로 다른 성적을 받은 학생 수를 세는 것과 같습니다.\n",
    "\n",
    "### Simple Histogram (간단한 히스토그램)"
   ]
  },
  {
   "cell_type": "code",
   "execution_count": null,
   "id": "93f73668",
   "metadata": {},
   "outputs": [],
   "source": [
    "import matplotlib.pyplot as plt\n",
    "\n",
    "# Student heights (in cm)\n",
    "heights = [160, 165, 170, 175, 168, 172, 158, 180, 162, 169]\n",
    "\n",
    "# Create histogram\n",
    "plt.hist(heights, bins=5)\n",
    "plt.title('Student Heights')\n",
    "plt.xlabel('Height (cm)')\n",
    "plt.ylabel('Number of Students')\n",
    "plt.show()"
   ]
  },
  {
   "cell_type": "markdown",
   "id": "7e6847b7",
   "metadata": {},
   "source": [
    "---\n",
    "\n",
    "## 6. Graph Decoration (그래프 꾸미기)\n",
    "\n",
    "Making graphs look better and more informative.\n",
    "그래프를 더 좋아 보이고 정보가 풍부하게 만들기.\n",
    "\n",
    "### Essential Graph Elements (필수 그래프 요소들)"
   ]
  },
  {
   "cell_type": "code",
   "execution_count": null,
   "id": "5ee421b0",
   "metadata": {},
   "outputs": [],
   "source": [
    "import matplotlib.pyplot as plt\n",
    "\n",
    "# Temperature data\n",
    "days = ['Mon', 'Tue', 'Wed', 'Thu', 'Fri']\n",
    "temp = [22, 25, 23, 27, 24]\n",
    "\n",
    "# Create decorated graph\n",
    "plt.plot(days, temp, color='blue', marker='o', linewidth=2)\n",
    "plt.title('Weekly Temperature', fontsize=16)\n",
    "plt.xlabel('Day', fontsize=12)\n",
    "plt.ylabel('Temperature (°C)', fontsize=12)\n",
    "plt.grid(True)\n",
    "plt.show()"
   ]
  },
  {
   "cell_type": "markdown",
   "id": "c82a9d18",
   "metadata": {},
   "source": [
    "### Graph Styling Options (그래프 스타일 옵션)\n",
    "\n",
    "- **Colors**: 'red', 'blue', 'green', 'orange' (색상)\n",
    "- **Markers**: 'o' (circle), 's' (square), '^' (triangle) (마커)\n",
    "- **Line styles**: '-' (solid), '--' (dashed), ':' (dotted) (선 스타일)\n",
    "\n",
    "---\n",
    "\n",
    "## Lab Exercises (실습)\n",
    "\n",
    "### Lab 1: CSV Data Visualization (CSV 데이터 시각화)\n",
    "\n",
    "**Problem**: Read CSV data and create different types of graphs.\n",
    "문제: CSV 데이터를 읽고 다른 종류의 그래프를 만드세요.\n",
    "\n",
    "**First, create this CSV file named 'monthly_data.csv':**\n",
    "먼저 'monthly_data.csv' 파일을 다음과 같이 만드세요:\n",
    "\n",
    "```\n",
    "month,temperature,rainfall\n",
    "January,15,45\n",
    "February,18,38\n",
    "March,22,52\n",
    "April,25,40\n",
    "May,28,35\n",
    "June,32,20\n",
    "```\n",
    "\n",
    "**Solution**:"
   ]
  },
  {
   "cell_type": "code",
   "execution_count": null,
   "id": "fd91fc7a",
   "metadata": {},
   "outputs": [],
   "source": [
    "import matplotlib.pyplot as plt\n",
    "import csv\n",
    "\n",
    "# Read CSV data\n",
    "months = []\n",
    "temperatures = []\n",
    "rainfall = []\n",
    "\n",
    "with open('monthly_data.csv', 'r') as file:\n",
    "    csv_reader = csv.DictReader(file)\n",
    "    for row in csv_reader:\n",
    "        months.append(row['month'])\n",
    "        temperatures.append(int(row['temperature']))\n",
    "        rainfall.append(int(row['rainfall']))\n",
    "\n",
    "# Create line graph for temperature\n",
    "plt.figure(figsize=(10, 4))\n",
    "\n",
    "plt.subplot(1, 2, 1)\n",
    "plt.plot(months, temperatures, color='red', marker='o')\n",
    "plt.title('Monthly Temperature')\n",
    "plt.xlabel('Month')\n",
    "plt.ylabel('Temperature (°C)')\n",
    "plt.xticks(rotation=45)\n",
    "\n",
    "# Create bar chart for rainfall\n",
    "plt.subplot(1, 2, 2)\n",
    "plt.bar(months, rainfall, color='blue')\n",
    "plt.title('Monthly Rainfall')\n",
    "plt.xlabel('Month')\n",
    "plt.ylabel('Rainfall (mm)')\n",
    "plt.xticks(rotation=45)\n",
    "\n",
    "plt.tight_layout()\n",
    "plt.show()"
   ]
  },
  {
   "cell_type": "markdown",
   "id": "72d3be65",
   "metadata": {
    "lines_to_next_cell": 0
   },
   "source": [
    "### Lab 2: Stock Price Trend Graph (주식 가격 추이 그래프)\n",
    "\n",
    "**Problem**: Create a stock price trend visualization.\n",
    "문제: 주식 가격 추이 시각화를 만드세요.\n",
    "\n",
    "**Data:**"
   ]
  },
  {
   "cell_type": "code",
   "execution_count": null,
   "id": "9fe3a470",
   "metadata": {},
   "outputs": [],
   "source": [
    "# Stock price data\n",
    "dates = ['Week 1', 'Week 2', 'Week 3', 'Week 4', 'Week 5', 'Week 6']\n",
    "stock_price = [100, 105, 98, 110, 115, 108]"
   ]
  },
  {
   "cell_type": "markdown",
   "id": "e133856c",
   "metadata": {},
   "source": [
    "**Solution**:"
   ]
  },
  {
   "cell_type": "code",
   "execution_count": null,
   "id": "45872892",
   "metadata": {},
   "outputs": [],
   "source": [
    "import matplotlib.pyplot as plt\n",
    "\n",
    "# Stock price data\n",
    "dates = ['Week 1', 'Week 2', 'Week 3', 'Week 4', 'Week 5', 'Week 6']\n",
    "stock_price = [100, 105, 98, 110, 115, 108]\n",
    "\n",
    "# Create stock price graph\n",
    "plt.figure(figsize=(10, 6))\n",
    "plt.plot(dates, stock_price, color='green', marker='o', linewidth=2, markersize=8)\n",
    "\n",
    "# Add styling\n",
    "plt.title('Stock Price Trend', fontsize=16, fontweight='bold')\n",
    "plt.xlabel('Time Period', fontsize=12)\n",
    "plt.ylabel('Price ($)', fontsize=12)\n",
    "plt.grid(True, alpha=0.3)\n",
    "\n",
    "# Add value labels on points\n",
    "for i, price in enumerate(stock_price):\n",
    "    plt.annotate(f'${price}', (i, price), textcoords=\"offset points\", \n",
    "                xytext=(0,10), ha='center')\n",
    "\n",
    "plt.tight_layout()\n",
    "plt.show()\n",
    "\n",
    "# Calculate and show profit/loss\n",
    "start_price = stock_price[0]\n",
    "end_price = stock_price[-1]\n",
    "change = end_price - start_price\n",
    "print(f\"Starting price: ${start_price}\")\n",
    "print(f\"Ending price: ${end_price}\")\n",
    "print(f\"Change: ${change}\")"
   ]
  },
  {
   "cell_type": "markdown",
   "id": "e4b5d286",
   "metadata": {
    "lines_to_next_cell": 0
   },
   "source": [
    "### Lab 3: Population Statistics Visualization (인구 통계 시각화)\n",
    "\n",
    "**Problem**: Visualize population data by age group and region.\n",
    "문제: 연령대별, 지역별 인구 데이터를 시각화하세요.\n",
    "\n",
    "**Data:**"
   ]
  },
  {
   "cell_type": "code",
   "execution_count": null,
   "id": "1237ca62",
   "metadata": {},
   "outputs": [],
   "source": [
    "# Population data\n",
    "age_groups = ['0-20', '21-40', '41-60', '60+']\n",
    "population = [25, 35, 28, 12]\n",
    "\n",
    "regions = ['North', 'South', 'East', 'West']\n",
    "region_pop = [120, 95, 110, 85]"
   ]
  },
  {
   "cell_type": "markdown",
   "id": "c288b5d7",
   "metadata": {},
   "source": [
    "**Solution**:"
   ]
  },
  {
   "cell_type": "code",
   "execution_count": null,
   "id": "b9bcbd63",
   "metadata": {},
   "outputs": [],
   "source": [
    "import matplotlib.pyplot as plt\n",
    "\n",
    "# Population data\n",
    "age_groups = ['0-20', '21-40', '41-60', '60+']\n",
    "population = [25, 35, 28, 12]\n",
    "\n",
    "regions = ['North', 'South', 'East', 'West']\n",
    "region_pop = [120, 95, 110, 85]\n",
    "\n",
    "# Create two graphs side by side\n",
    "plt.figure(figsize=(12, 5))\n",
    "\n",
    "# Age group distribution (pie chart style with bar)\n",
    "plt.subplot(1, 2, 1)\n",
    "colors = ['lightblue', 'lightgreen', 'lightcoral', 'lightyellow']\n",
    "plt.bar(age_groups, population, color=colors)\n",
    "plt.title('Population by Age Group (%)')\n",
    "plt.xlabel('Age Group')\n",
    "plt.ylabel('Percentage')\n",
    "\n",
    "# Add percentage labels\n",
    "for i, percent in enumerate(population):\n",
    "    plt.text(i, percent + 0.5, f'{percent}%', ha='center')\n",
    "\n",
    "# Regional population (horizontal bar chart)\n",
    "plt.subplot(1, 2, 2)\n",
    "plt.barh(regions, region_pop, color=['red', 'blue', 'green', 'orange'])\n",
    "plt.title('Population by Region (thousands)')\n",
    "plt.xlabel('Population (thousands)')\n",
    "plt.ylabel('Region')\n",
    "\n",
    "# Add value labels\n",
    "for i, pop in enumerate(region_pop):\n",
    "    plt.text(pop + 2, i, f'{pop}k', va='center')\n",
    "\n",
    "plt.tight_layout()\n",
    "plt.show()\n",
    "\n",
    "# Show summary statistics\n",
    "print(\"Population Summary:\")\n",
    "print(f\"Total age groups covered: {len(age_groups)}\")\n",
    "print(f\"Largest age group: {age_groups[population.index(max(population))]} ({max(population)}%)\")\n",
    "print(f\"Most populated region: {regions[region_pop.index(max(region_pop))]} ({max(region_pop)}k)\")"
   ]
  },
  {
   "cell_type": "markdown",
   "id": "91a49b66",
   "metadata": {
    "lines_to_next_cell": 0
   },
   "source": [
    "---\n",
    "\n",
    "## Quiz Section (퀴즈)\n",
    "\n",
    "### Quiz 1: Basic Line Graph\n",
    "\n",
    "**Question**: Create a line graph with x = [1, 2, 3, 4, 5] and y = [2, 4, 6, 8, 10]. Add appropriate title and axis labels.\n",
    "\n",
    "x = [1, 2, 3, 4, 5]와 y = [2, 4, 6, 8, 10]으로 선 그래프를 그리는 코드를 작성하시오. 적절한 제목과 축 라벨을 추가하세요.\n",
    "\n",
    "**Write your answer here (답을 여기에 작성하세요)**:"
   ]
  },
  {
   "cell_type": "code",
   "execution_count": null,
   "id": "91d10b34",
   "metadata": {},
   "outputs": [],
   "source": [
    "# Your code here"
   ]
  },
  {
   "cell_type": "markdown",
   "id": "8d43d7dc",
   "metadata": {
    "lines_to_next_cell": 0
   },
   "source": [
    "### Quiz 2: Subject Scores Bar Chart\n",
    "\n",
    "**Question**: Create a bar chart with subjects = ['Math', 'English', 'Science'] and scores = [85, 90, 78]. Add title \"Subject Scores\" and appropriate labels.\n",
    "\n",
    "subjects = ['Math', 'English', 'Science']와 scores = [85, 90, 78]로 막대 그래프를 그리고 \"Subject Scores\" 제목을 설정하시오. 적절한 라벨도 추가하세요.\n",
    "\n",
    "**Write your answer here (답을 여기에 작성하세요)**:"
   ]
  },
  {
   "cell_type": "code",
   "execution_count": null,
   "id": "e3d224b3",
   "metadata": {},
   "outputs": [],
   "source": [
    "# Your code here"
   ]
  },
  {
   "cell_type": "markdown",
   "id": "5f3f05cb",
   "metadata": {
    "lines_to_next_cell": 0
   },
   "source": [
    "### Quiz 3: Height Distribution Histogram\n",
    "\n",
    "**Question**: Create a histogram with heights = [160, 165, 170, 175, 168, 172, 158, 180] and set appropriate bins. Add title and labels.\n",
    "\n",
    "heights = [160, 165, 170, 175, 168, 172, 158, 180]로 히스토그램을 그리고 적절한 구간으로 설정하시오. 제목과 라벨을 추가하세요.\n",
    "\n",
    "**Write your answer here (답을 여기에 작성하세요)**:"
   ]
  },
  {
   "cell_type": "code",
   "execution_count": null,
   "id": "06fa7e93",
   "metadata": {},
   "outputs": [],
   "source": [
    "# Your code here"
   ]
  },
  {
   "cell_type": "markdown",
   "id": "e702b6f3",
   "metadata": {},
   "source": [
    "---\n",
    "\n",
    "## References (참고)\n",
    "\n",
    "1. **Matplotlib Official Tutorial**: https://matplotlib.org/stable/tutorials/index.html\n",
    "2. **Matplotlib Basic Examples**: https://matplotlib.org/stable/gallery/index.html\n",
    "3. **Python Graph Gallery**: https://python-graph-gallery.com/\n",
    "4. **Real Python Matplotlib Guide**: https://realpython.com/python-matplotlib-guide/\n",
    "\n",
    "---\n",
    "\n",
    "## Key Points (핵심 포인트)\n",
    "\n",
    "### Remember (기억하세요)\n",
    "1. **Import first**: Always import matplotlib.pyplot as plt (먼저 가져오기: 항상 matplotlib.pyplot을 plt로 가져오기)\n",
    "2. **plt.show()**: Don't forget to show your graph (plt.show(): 그래프 보여주는 것 잊지 말기)\n",
    "3. **Add labels**: Title, xlabel, ylabel make graphs clear (라벨 추가: 제목, x라벨, y라벨이 그래프를 명확하게 만듦)\n",
    "4. **Choose right graph**: Line for trends, bar for comparison (올바른 그래프 선택: 트렌드는 선 그래프, 비교는 막대 그래프)\n",
    "\n",
    "### Common Graph Types (일반적인 그래프 유형)\n",
    "- **Line graphs**: Time series, trends (선 그래프: 시계열, 트렌드)\n",
    "- **Bar charts**: Categories comparison (막대 그래프: 카테고리 비교)\n",
    "- **Histograms**: Distribution of values (히스토그램: 값의 분포)\n",
    "\n",
    "### Next Week Preview (다음 주 미리보기)\n",
    "Next week: **Web Scraping Basics** - Getting data from websites\n",
    "다음 주: **웹 스크래핑 기초** - 웹사이트에서 데이터 가져오기\n",
    "\n",
    "---\n",
    "\n",
    "## Homework (숙제)\n",
    "\n",
    "1. Complete all three lab exercises (3개 실습 모두 완료)\n",
    "2. Practice creating different types of graphs with your own data (자신만의 데이터로 다른 종류의 그래프 만들기 연습)\n",
    "3. Try different colors and styling options (다른 색상과 스타일 옵션 시도)\n",
    "4. Create graphs from CSV files you made in previous weeks (이전 주에 만든 CSV 파일로 그래프 생성)\n",
    "\n",
    "**Graphs make data come alive - they tell stories that numbers alone cannot!**\n",
    "**그래프는 데이터를 생생하게 만듭니다 - 숫자만으로는 할 수 없는 이야기를 들려줍니다!**"
   ]
  }
 ],
 "metadata": {
  "jupytext": {
   "cell_metadata_filter": "-all",
   "main_language": "python",
   "notebook_metadata_filter": "-all"
  }
 },
 "nbformat": 4,
 "nbformat_minor": 5
}
