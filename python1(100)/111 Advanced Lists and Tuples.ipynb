{
 "cells": [
  {
   "cell_type": "markdown",
   "id": "55d434b0",
   "metadata": {},
   "source": [
    "# Advanced Lists and Tuples\n",
    "**리스트 고급 및 튜플**\n",
    "\n",
    "**Duration (수업 시간)**: 3 hours (3시간)  \n",
    "**Structure (구성)**: Lecture & Lab 2 hours + Quiz 1 hour (강의 및 실습 2시간 + 퀴즈 1시간)  \n",
    "**Level (수준)**: Intermediate Beginner (중급 초급)\n",
    "\n",
    "---\n",
    "\n",
    "## 🎯 Learning Objectives (학습 목표)\n",
    "\n",
    "By the end of this lesson, students will be able to:\n",
    "이 수업을 마친 후 학생들은 다음을 할 수 있습니다:\n",
    "\n",
    "- Combine lists with loops for advanced data processing (고급 데이터 처리를 위한 리스트와 반복문 조합)\n",
    "- Create and use basic list comprehensions (기본 리스트 컴프리헨션 생성 및 사용)\n",
    "- Understand tuple characteristics and when to use them (튜플의 특성과 사용 시기 이해)\n",
    "- Compare and choose between lists and tuples appropriately (리스트와 튜플을 적절히 비교하고 선택)\n",
    "- Build practical programs using advanced list and tuple features (고급 리스트 및 튜플 기능을 사용한 실용적 프로그램 구축)\n",
    "\n",
    "---\n",
    "\n",
    "## 📚 1. Review: Lists Basics (복습: 리스트 기초)\n",
    "\n",
    "### Quick Recap (빠른 복습)\n",
    "Before diving into advanced topics, let's quickly review what we learned about lists:\n",
    "고급 주제로 들어가기 전에 리스트에 대해 배운 내용을 빠르게 복습해보겠습니다:"
   ]
  },
  {
   "cell_type": "code",
   "execution_count": null,
   "id": "9331a88f",
   "metadata": {},
   "outputs": [],
   "source": [
    "# Basic list operations we already know\n",
    "# 이미 알고 있는 기본 리스트 연산들\n",
    "numbers = [1, 2, 3, 4, 5]\n",
    "numbers.append(6)        # Add element (요소 추가)\n",
    "numbers.remove(2)        # Remove element (요소 제거)\n",
    "print(numbers[0])        # Access by index (인덱스로 접근)\n",
    "print(len(numbers))      # Get length (길이 구하기)"
   ]
  },
  {
   "cell_type": "markdown",
   "id": "c55365ea",
   "metadata": {
    "lines_to_next_cell": 0
   },
   "source": [
    "---\n",
    "\n",
    "## 🔄 2. Combining Lists with Loops (리스트와 반복문 조합)\n",
    "\n",
    "### Why Combine Lists and Loops? (왜 리스트와 반복문을 조합하나요?)\n",
    "\n",
    "Lists and loops work perfectly together because:\n",
    "리스트와 반복문은 다음 이유로 완벽하게 함께 작동합니다:\n",
    "\n",
    "- **Process multiple items efficiently** (여러 항목을 효율적으로 처리)\n",
    "- **Perform same operation on each element** (각 요소에 동일한 연산 수행)\n",
    "- **Filter and transform data** (데이터 필터링 및 변환)\n",
    "\n",
    "### Basic Patterns (기본 패턴)\n",
    "\n",
    "#### Pattern 1: Processing Each Element (각 요소 처리)"
   ]
  },
  {
   "cell_type": "code",
   "execution_count": null,
   "id": "71e0b755",
   "metadata": {},
   "outputs": [],
   "source": [
    "# Example: Convert temperatures from Celsius to Fahrenheit\n",
    "# 예시: 섭씨를 화씨로 변환\n",
    "celsius_temps = [0, 20, 30, 37, 100]\n",
    "fahrenheit_temps = []\n",
    "\n",
    "for temp in celsius_temps:\n",
    "    fahrenheit = (temp * 9/5) + 32\n",
    "    fahrenheit_temps.append(fahrenheit)\n",
    "    \n",
    "print(fahrenheit_temps)  # [32.0, 68.0, 86.0, 98.6, 212.0]"
   ]
  },
  {
   "cell_type": "markdown",
   "id": "e0d23074",
   "metadata": {
    "lines_to_next_cell": 0
   },
   "source": [
    "#### Pattern 2: Filtering Data (데이터 필터링)"
   ]
  },
  {
   "cell_type": "code",
   "execution_count": null,
   "id": "cc12638d",
   "metadata": {},
   "outputs": [],
   "source": [
    "# Example: Find all even numbers\n",
    "# 예시: 모든 짝수 찾기\n",
    "numbers = [1, 2, 3, 4, 5, 6, 7, 8, 9, 10]\n",
    "even_numbers = []\n",
    "\n",
    "for num in numbers:\n",
    "    if num % 2 == 0:\n",
    "        even_numbers.append(num)\n",
    "        \n",
    "print(even_numbers)  # [2, 4, 6, 8, 10]"
   ]
  },
  {
   "cell_type": "markdown",
   "id": "8f42769e",
   "metadata": {
    "lines_to_next_cell": 0
   },
   "source": [
    "#### Pattern 3: Finding Maximum/Minimum (최대값/최소값 찾기)"
   ]
  },
  {
   "cell_type": "code",
   "execution_count": null,
   "id": "edaa2d62",
   "metadata": {},
   "outputs": [],
   "source": [
    "# Example: Find the highest score\n",
    "# 예시: 최고 점수 찾기\n",
    "scores = [85, 92, 78, 96, 88, 91]\n",
    "highest_score = scores[0]  # Start with first element\n",
    "\n",
    "for score in scores:\n",
    "    if score > highest_score:\n",
    "        highest_score = score\n",
    "        \n",
    "print(f\"Highest score: {highest_score}\")  # Highest score: 96"
   ]
  },
  {
   "cell_type": "markdown",
   "id": "7f44d923",
   "metadata": {},
   "source": [
    "### Advanced Loop Techniques (고급 반복문 기법)\n",
    "\n",
    "#### Using enumerate() (enumerate() 사용)\n",
    "When you need both the index and the value:\n",
    "인덱스와 값이 모두 필요할 때:"
   ]
  },
  {
   "cell_type": "code",
   "execution_count": null,
   "id": "e0149326",
   "metadata": {},
   "outputs": [],
   "source": [
    "# Example: Show student rankings\n",
    "# 예시: 학생 순위 보여주기\n",
    "students = [\"Alice\", \"Bob\", \"Charlie\", \"Diana\"]\n",
    "\n",
    "for index, name in enumerate(students):\n",
    "    ranking = index + 1\n",
    "    print(f\"Rank {ranking}: {name}\")\n",
    "\n",
    "# Output:\n",
    "# Rank 1: Alice\n",
    "# Rank 2: Bob\n",
    "# Rank 3: Charlie\n",
    "# Rank 4: Diana"
   ]
  },
  {
   "cell_type": "markdown",
   "id": "33ed7207",
   "metadata": {},
   "source": [
    "#### Using zip() (zip() 사용)\n",
    "When you need to process multiple lists together:\n",
    "여러 리스트를 함께 처리해야 할 때:"
   ]
  },
  {
   "cell_type": "code",
   "execution_count": null,
   "id": "f70339c9",
   "metadata": {},
   "outputs": [],
   "source": [
    "# Example: Combine student names with their scores\n",
    "# 예시: 학생 이름과 점수 결합\n",
    "names = [\"Alice\", \"Bob\", \"Charlie\"]\n",
    "scores = [95, 87, 92]\n",
    "\n",
    "for name, score in zip(names, scores):\n",
    "    print(f\"{name}: {score} points\")\n",
    "\n",
    "# Output:\n",
    "# Alice: 95 points\n",
    "# Bob: 87 points\n",
    "# Charlie: 92 points"
   ]
  },
  {
   "cell_type": "markdown",
   "id": "3aa700b5",
   "metadata": {
    "lines_to_next_cell": 0
   },
   "source": [
    "---\n",
    "\n",
    "## ✨ 3. List Comprehensions (리스트 컴프리헨션)\n",
    "\n",
    "### What is List Comprehension? (리스트 컴프리헨션이란?)\n",
    "\n",
    "**List comprehension** is a concise way to create lists using a single line of code.\n",
    "**리스트 컴프리헨션**은 한 줄의 코드로 리스트를 만드는 간결한 방법입니다.\n",
    "\n",
    "Think of it as a **\"compressed for loop\"** (압축된 for 반복문).\n",
    "\n",
    "### Basic Syntax (기본 문법)"
   ]
  },
  {
   "cell_type": "code",
   "execution_count": null,
   "id": "40aae5df",
   "metadata": {},
   "outputs": [],
   "source": [
    "# General format (일반 형식):\n",
    "# new_list = [expression for item in original_list]\n",
    "\n",
    "# Traditional way (전통적인 방법):\n",
    "squares = []\n",
    "for x in range(5):\n",
    "    squares.append(x ** 2)\n",
    "\n",
    "# List comprehension way (리스트 컴프리헨션 방법):\n",
    "squares = [x ** 2 for x in range(5)]\n",
    "print(squares)  # [0, 1, 4, 9, 16]"
   ]
  },
  {
   "cell_type": "markdown",
   "id": "20440899",
   "metadata": {
    "lines_to_next_cell": 0
   },
   "source": [
    "### Examples from Simple to Complex (간단한 것부터 복잡한 것까지 예시)\n",
    "\n",
    "#### Example 1: Basic Transformation (기본 변환)"
   ]
  },
  {
   "cell_type": "code",
   "execution_count": null,
   "id": "e7fada8f",
   "metadata": {},
   "outputs": [],
   "source": [
    "# Multiply each number by 2\n",
    "# 각 숫자에 2를 곱하기\n",
    "numbers = [1, 2, 3, 4, 5]\n",
    "doubled = [num * 2 for num in numbers]\n",
    "print(doubled)  # [2, 4, 6, 8, 10]"
   ]
  },
  {
   "cell_type": "markdown",
   "id": "416b1517",
   "metadata": {
    "lines_to_next_cell": 0
   },
   "source": [
    "#### Example 2: String Processing (문자열 처리)"
   ]
  },
  {
   "cell_type": "code",
   "execution_count": null,
   "id": "d62b95f9",
   "metadata": {},
   "outputs": [],
   "source": [
    "# Convert all names to uppercase\n",
    "# 모든 이름을 대문자로 변환\n",
    "names = [\"alice\", \"bob\", \"charlie\"]\n",
    "upper_names = [name.upper() for name in names]\n",
    "print(upper_names)  # ['ALICE', 'BOB', 'CHARLIE']"
   ]
  },
  {
   "cell_type": "markdown",
   "id": "d29aafb8",
   "metadata": {
    "lines_to_next_cell": 0
   },
   "source": [
    "#### Example 3: With Conditions (조건 포함)"
   ]
  },
  {
   "cell_type": "code",
   "execution_count": null,
   "id": "b124dc39",
   "metadata": {},
   "outputs": [],
   "source": [
    "# Get only even numbers\n",
    "# 짝수만 가져오기\n",
    "numbers = [1, 2, 3, 4, 5, 6, 7, 8, 9, 10]\n",
    "evens = [num for num in numbers if num % 2 == 0]\n",
    "print(evens)  # [2, 4, 6, 8, 10]"
   ]
  },
  {
   "cell_type": "markdown",
   "id": "e0e69fae",
   "metadata": {
    "lines_to_next_cell": 0
   },
   "source": [
    "#### Example 4: Complex Expression (복잡한 표현)"
   ]
  },
  {
   "cell_type": "code",
   "execution_count": null,
   "id": "d582e6fa",
   "metadata": {},
   "outputs": [],
   "source": [
    "# Create descriptive strings\n",
    "# 설명적인 문자열 생성\n",
    "scores = [85, 92, 78, 96, 88]\n",
    "descriptions = [f\"Score: {score} - {'Excellent' if score >= 90 else 'Good'}\" \n",
    "                for score in scores]\n",
    "print(descriptions)\n",
    "# ['Score: 85 - Good', 'Score: 92 - Excellent', ...]"
   ]
  },
  {
   "cell_type": "markdown",
   "id": "652f20fd",
   "metadata": {},
   "source": [
    "### When to Use List Comprehensions (언제 리스트 컴프리헨션을 사용할까요?)\n",
    "\n",
    "**Use list comprehensions when (다음의 경우 리스트 컴프리헨션 사용):**\n",
    "- The logic is simple and fits on one line (로직이 간단하고 한 줄에 맞음)\n",
    "- You're creating a new list from an existing one (기존 리스트에서 새 리스트를 만들 때)\n",
    "- The operation is straightforward (연산이 직관적일 때)\n",
    "\n",
    "**Use regular loops when (다음의 경우 일반 반복문 사용):**\n",
    "- The logic is complex (로직이 복잡할 때)\n",
    "- You need multiple lines of code (여러 줄의 코드가 필요할 때)\n",
    "- Readability would suffer (가독성이 떨어질 때)\n",
    "\n",
    "---\n",
    "\n",
    "## 📦 4. Introduction to Tuples (튜플 소개)\n",
    "\n",
    "### What is a Tuple? (튜플이란?)\n",
    "\n",
    "A **tuple** is a collection of items that is **ordered** and **unchangeable** (immutable).\n",
    "**튜플**은 **순서가 있고** **변경 불가능한**(불변) 항목들의 모음입니다.\n",
    "\n",
    "Think of a tuple as a **\"locked box\"** - you can see what's inside, but you can't change it.\n",
    "튜플을 **\"잠긴 상자\"**라고 생각해보세요 - 안에 무엇이 있는지 볼 수 있지만 변경할 수는 없습니다.\n",
    "\n",
    "### Creating Tuples (튜플 생성)"
   ]
  },
  {
   "cell_type": "code",
   "execution_count": null,
   "id": "d918cc67",
   "metadata": {},
   "outputs": [],
   "source": [
    "# Method 1: Using parentheses (괄호 사용)\n",
    "coordinates = (10, 20)\n",
    "colors = (\"red\", \"green\", \"blue\")\n",
    "\n",
    "# Method 2: Without parentheses (괄호 없이)\n",
    "point = 5, 10\n",
    "person = \"Alice\", 25, \"Engineer\"\n",
    "\n",
    "# Method 3: Using tuple() function (tuple() 함수 사용)\n",
    "numbers = tuple([1, 2, 3, 4])\n",
    "\n",
    "# Special case: Single item tuple (특별한 경우: 단일 항목 튜플)\n",
    "single = (42,)  # Note the comma! (쉼표 주의!)"
   ]
  },
  {
   "cell_type": "markdown",
   "id": "05222cc2",
   "metadata": {
    "lines_to_next_cell": 0
   },
   "source": [
    "### Tuple Characteristics (튜플의 특성)\n",
    "\n",
    "#### 1. Immutable (불변성)"
   ]
  },
  {
   "cell_type": "code",
   "execution_count": null,
   "id": "f0fdb3ad",
   "metadata": {},
   "outputs": [],
   "source": [
    "point = (10, 20)\n",
    "# point[0] = 15  # This would cause an ERROR! (에러 발생!)\n",
    "print(\"Tuples cannot be changed\")  # 튜플은 변경할 수 없습니다"
   ]
  },
  {
   "cell_type": "markdown",
   "id": "f5fdf987",
   "metadata": {
    "lines_to_next_cell": 0
   },
   "source": [
    "#### 2. Ordered (순서 보장)"
   ]
  },
  {
   "cell_type": "code",
   "execution_count": null,
   "id": "e0a240c4",
   "metadata": {},
   "outputs": [],
   "source": [
    "coordinates = (10, 20)\n",
    "print(coordinates[0])  # 10 (first element - 첫 번째 요소)\n",
    "print(coordinates[1])  # 20 (second element - 두 번째 요소)"
   ]
  },
  {
   "cell_type": "markdown",
   "id": "ec4659bc",
   "metadata": {
    "lines_to_next_cell": 0
   },
   "source": [
    "#### 3. Allow Duplicates (중복 허용)"
   ]
  },
  {
   "cell_type": "code",
   "execution_count": null,
   "id": "dfddc0ca",
   "metadata": {},
   "outputs": [],
   "source": [
    "numbers = (1, 2, 2, 3, 2)\n",
    "print(numbers.count(2))  # 3 (appears 3 times - 3번 나타남)"
   ]
  },
  {
   "cell_type": "markdown",
   "id": "c28fcc39",
   "metadata": {},
   "source": [
    "### Common Tuple Operations (일반적인 튜플 연산)"
   ]
  },
  {
   "cell_type": "code",
   "execution_count": null,
   "id": "68fc9e14",
   "metadata": {},
   "outputs": [],
   "source": [
    "# Create a tuple (튜플 생성)\n",
    "rgb_color = (255, 128, 0)\n",
    "\n",
    "# Access elements (요소 접근)\n",
    "red = rgb_color[0]\n",
    "green = rgb_color[1]\n",
    "blue = rgb_color[2]\n",
    "\n",
    "# Get length (길이 구하기)\n",
    "print(len(rgb_color))  # 3\n",
    "\n",
    "# Check if item exists (항목 존재 확인)\n",
    "print(255 in rgb_color)  # True\n",
    "\n",
    "# Iterate through tuple (튜플 순회)\n",
    "for value in rgb_color:\n",
    "    print(f\"Color value: {value}\")"
   ]
  },
  {
   "cell_type": "markdown",
   "id": "ce3ed91f",
   "metadata": {},
   "source": [
    "### Tuple Unpacking (튜플 언패킹)\n",
    "\n",
    "**Tuple unpacking** allows you to assign tuple values to multiple variables at once:\n",
    "**튜플 언패킹**을 사용하면 튜플 값을 여러 변수에 한 번에 할당할 수 있습니다:"
   ]
  },
  {
   "cell_type": "code",
   "execution_count": null,
   "id": "5f872942",
   "metadata": {},
   "outputs": [],
   "source": [
    "# Example 1: Coordinates (좌표)\n",
    "point = (10, 20)\n",
    "x, y = point  # Unpacking (언패킹)\n",
    "print(f\"X: {x}, Y: {y}\")  # X: 10, Y: 20\n",
    "\n",
    "# Example 2: Person information (개인 정보)\n",
    "person = (\"Alice\", 25, \"Engineer\")\n",
    "name, age, job = person\n",
    "print(f\"Name: {name}, Age: {age}, Job: {job}\")\n",
    "\n",
    "# Example 3: Swapping variables (변수 교환)\n",
    "a = 5\n",
    "b = 10\n",
    "a, b = b, a  # Swap values! (값 교환!)\n",
    "print(f\"a: {a}, b: {b}\")  # a: 10, b: 5"
   ]
  },
  {
   "cell_type": "markdown",
   "id": "2d10d8d0",
   "metadata": {},
   "source": [
    "---\n",
    "\n",
    "## ⚖️ 5. Lists vs Tuples Comparison (리스트 vs 튜플 비교)\n",
    "\n",
    "### Side-by-Side Comparison (나란히 비교)\n",
    "\n",
    "| Feature (특징) | List (리스트) | Tuple (튜플) |\n",
    "|----------------|---------------|--------------|\n",
    "| **Mutability (가변성)** | Mutable (변경 가능) | Immutable (변경 불가) |\n",
    "| **Syntax (문법)** | `[1, 2, 3]` | `(1, 2, 3)` |\n",
    "| **Performance (성능)** | Slower (느림) | Faster (빠름) |\n",
    "| **Use Case (사용 사례)** | Data that changes (변하는 데이터) | Fixed data (고정 데이터) |\n",
    "| **Methods (메소드)** | Many (append, remove, etc.) | Few (count, index) |\n",
    "\n",
    "### When to Use Lists (리스트를 언제 사용할까요?)\n",
    "\n",
    "**Use lists when (다음의 경우 리스트 사용):**\n",
    "- You need to **add or remove** items (항목을 추가하거나 제거해야 할 때)\n",
    "- The data **changes over time** (시간이 지나면서 데이터가 변할 때)\n",
    "- You need **many built-in methods** (많은 내장 메소드가 필요할 때)"
   ]
  },
  {
   "cell_type": "code",
   "execution_count": null,
   "id": "6ed4e704",
   "metadata": {},
   "outputs": [],
   "source": [
    "# Good use cases for lists (리스트의 좋은 사용 사례):\n",
    "shopping_cart = [\"apple\", \"banana\"]  # Items can be added/removed\n",
    "shopping_cart.append(\"orange\")      # 항목을 추가/제거할 수 있음\n",
    "\n",
    "student_grades = [85, 90, 78]       # Grades can change\n",
    "student_grades.append(92)           # 성적이 변할 수 있음"
   ]
  },
  {
   "cell_type": "markdown",
   "id": "87221d0a",
   "metadata": {},
   "source": [
    "### When to Use Tuples (튜플을 언제 사용할까요?)\n",
    "\n",
    "**Use tuples when (다음의 경우 튜플 사용):**\n",
    "- The data **should not change** (데이터가 변경되어서는 안 될 때)\n",
    "- You need **better performance** (더 나은 성능이 필요할 때)\n",
    "- You want to **group related data** (관련 데이터를 그룹화하고 싶을 때)"
   ]
  },
  {
   "cell_type": "code",
   "execution_count": null,
   "id": "c158d276",
   "metadata": {},
   "outputs": [],
   "source": [
    "# Good use cases for tuples (튜플의 좋은 사용 사례):\n",
    "rgb_color = (255, 128, 0)          # Color values don't change\n",
    "coordinates = (10.5, 20.3)         # 색상 값은 변경되지 않음\n",
    "person_info = (\"Alice\", 25, \"Engineer\")  # Basic info stays same"
   ]
  },
  {
   "cell_type": "markdown",
   "id": "1cefcb43",
   "metadata": {
    "lines_to_next_cell": 0
   },
   "source": [
    "### Real-World Analogy (실생활 비유)\n",
    "\n",
    "Think of **lists** like a **shopping cart** - you can add items, remove items, change quantities.\n",
    "**리스트**를 **쇼핑 카트**처럼 생각해보세요 - 항목을 추가하고, 제거하고, 수량을 변경할 수 있습니다.\n",
    "\n",
    "Think of **tuples** like a **birth certificate** - the information is fixed and should never change.\n",
    "**튜플**을 **출생증명서**처럼 생각해보세요 - 정보가 고정되어 있고 절대 변경되어서는 안 됩니다.\n",
    "\n",
    "---\n",
    "\n",
    "## 🔧 Lab Exercises (실습)\n",
    "\n",
    "### Lab 1: Data Sorting and Searching Program (데이터 정렬 및 검색 프로그램)\n",
    "\n",
    "**Problem (문제)**: Create a program that manages student data with sorting and searching capabilities.\n",
    "학생 데이터를 정렬 및 검색 기능으로 관리하는 프로그램을 만드세요.\n",
    "\n",
    "**Requirements (요구사항)**:\n",
    "- Store student information (name, age, grade) (학생 정보 저장: 이름, 나이, 성적)\n",
    "- Sort students by grade (성적별 학생 정렬)\n",
    "- Search for students by name (이름으로 학생 검색)\n",
    "\n",
    "**Solution (정답)**:"
   ]
  },
  {
   "cell_type": "code",
   "execution_count": null,
   "id": "7d38be1e",
   "metadata": {},
   "outputs": [],
   "source": [
    "# Student data: each student is a tuple (name, age, grade)\n",
    "students = [\n",
    "    (\"Alice\", 20, 85),\n",
    "    (\"Bob\", 19, 92),\n",
    "    (\"Charlie\", 21, 78),\n",
    "    (\"Diana\", 20, 96),\n",
    "    (\"Eve\", 19, 89)\n",
    "]\n",
    "\n",
    "print(\"Original student list:\")\n",
    "for name, age, grade in students:\n",
    "    print(f\"{name} - Age: {age}, Grade: {grade}\")\n",
    "\n",
    "# Sort students by grade (highest first)\n",
    "sorted_students = sorted(students, key=lambda student: student[2], reverse=True)\n",
    "\n",
    "print(\"\\nStudents sorted by grade (highest first):\")\n",
    "for name, age, grade in sorted_students:\n",
    "    print(f\"{name} - Age: {age}, Grade: {grade}\")\n",
    "\n",
    "# Search for a specific student\n",
    "search_name = \"Alice\"\n",
    "found_student = None\n",
    "\n",
    "for student in students:\n",
    "    if student[0].lower() == search_name.lower():\n",
    "        found_student = student\n",
    "        break\n",
    "\n",
    "if found_student:\n",
    "    name, age, grade = found_student\n",
    "    print(f\"\\nFound student: {name}, Age: {age}, Grade: {grade}\")\n",
    "else:\n",
    "    print(f\"\\nStudent '{search_name}' not found\")\n",
    "\n",
    "# Create a list of top students (grade >= 90) using list comprehension\n",
    "top_students = [student for student in students if student[2] >= 90]\n",
    "print(f\"\\nTop students (grade >= 90):\")\n",
    "for name, age, grade in top_students:\n",
    "    print(f\"{name} - Grade: {grade}\")"
   ]
  },
  {
   "cell_type": "markdown",
   "id": "6ee38a20",
   "metadata": {
    "lines_to_next_cell": 0
   },
   "source": [
    "### Lab 2: Voting System with Candidate Vote Management (후보자 투표 관리 시스템)\n",
    "\n",
    "**Problem (문제)**: Build a simple voting system that tracks votes for different candidates.\n",
    "다양한 후보자에 대한 투표를 추적하는 간단한 투표 시스템을 구축하세요.\n",
    "\n",
    "**Requirements (요구사항)**:\n",
    "- Track votes for candidates (후보자별 투표 추적)\n",
    "- Calculate percentages (백분율 계산)\n",
    "- Find the winner (당선자 찾기)\n",
    "\n",
    "**Solution (정답)**:"
   ]
  },
  {
   "cell_type": "code",
   "execution_count": null,
   "id": "e6ca1b29",
   "metadata": {},
   "outputs": [],
   "source": [
    "# Candidate data: [name, party, votes]\n",
    "candidates = [\n",
    "    [\"Alice Johnson\", \"Democratic Party\", 245],\n",
    "    [\"Bob Smith\", \"Republican Party\", 312],\n",
    "    [\"Charlie Brown\", \"Independent\", 158],\n",
    "    [\"Diana Wilson\", \"Green Party\", 89]\n",
    "]\n",
    "\n",
    "# Calculate total votes\n",
    "total_votes = sum(candidate[2] for candidate in candidates)\n",
    "print(f\"Total votes cast: {total_votes}\")\n",
    "\n",
    "print(\"\\nELECTION RESULTS:\")\n",
    "print(\"-\" * 40)\n",
    "\n",
    "# Display results with percentages\n",
    "for candidate in candidates:\n",
    "    name, party, votes = candidate\n",
    "    percentage = (votes / total_votes) * 100\n",
    "    print(f\"{name}: {votes} votes ({percentage:.1f}%)\")\n",
    "\n",
    "# Find winner (candidate with most votes)\n",
    "max_votes = max(candidate[2] for candidate in candidates)\n",
    "winner = None\n",
    "\n",
    "for candidate in candidates:\n",
    "    if candidate[2] == max_votes:\n",
    "        winner = candidate\n",
    "        break\n",
    "\n",
    "if winner:\n",
    "    print(f\"\\nWINNER: {winner[0]} with {winner[2]} votes!\")\n",
    "\n",
    "# Find candidates with more than 20% of votes using list comprehension\n",
    "strong_candidates = []\n",
    "for candidate in candidates:\n",
    "    percentage = (candidate[2] / total_votes) * 100\n",
    "    if percentage > 20:\n",
    "        strong_candidates.append(candidate[0])\n",
    "\n",
    "print(f\"\\nCandidates with >20% votes: {strong_candidates}\")"
   ]
  },
  {
   "cell_type": "markdown",
   "id": "ce81da30",
   "metadata": {
    "lines_to_next_cell": 0
   },
   "source": [
    "### Lab 3: Coordinate Management Program Using Tuples (튜플을 사용한 좌표 관리 프로그램)\n",
    "\n",
    "**Problem (문제)**: Create a program that manages 2D coordinates for points on a map.\n",
    "지도상의 점들을 위한 2D 좌표를 관리하는 프로그램을 만드세요.\n",
    "\n",
    "**Requirements (요구사항)**:\n",
    "- Store points as tuples (x, y) (점을 튜플 (x, y)로 저장)\n",
    "- Calculate distances from origin (원점에서의 거리 계산)\n",
    "- Find closest and farthest points (가장 가깝고 먼 점 찾기)\n",
    "\n",
    "**Solution (정답)**:"
   ]
  },
  {
   "cell_type": "code",
   "execution_count": null,
   "id": "0135cf59",
   "metadata": {},
   "outputs": [],
   "source": [
    "import math\n",
    "\n",
    "# Define points as tuples (x, y coordinates)\n",
    "points = [\n",
    "    (0, 0),    # Origin\n",
    "    (3, 4),    # Point A\n",
    "    (1, 1),    # Point B\n",
    "    (5, 0),    # Point C\n",
    "    (2, 3)     # Point D\n",
    "]\n",
    "\n",
    "print(\"Points and their distances from origin (0,0):\")\n",
    "\n",
    "# Calculate and display distances from origin\n",
    "distances = []\n",
    "for point in points:\n",
    "    x, y = point  # Tuple unpacking\n",
    "    distance = math.sqrt(x**2 + y**2)\n",
    "    distances.append(distance)\n",
    "    print(f\"Point {point}: distance = {distance:.2f}\")\n",
    "\n",
    "# Find closest point to origin\n",
    "min_distance = min(distances)\n",
    "closest_point = None\n",
    "\n",
    "for i, distance in enumerate(distances):\n",
    "    if distance == min_distance:\n",
    "        closest_point = points[i]\n",
    "        break\n",
    "\n",
    "print(f\"\\nClosest to origin: {closest_point} (distance: {min_distance:.2f})\")\n",
    "\n",
    "# Find farthest point from origin\n",
    "max_distance = max(distances)\n",
    "farthest_point = None\n",
    "\n",
    "for i, distance in enumerate(distances):\n",
    "    if distance == max_distance:\n",
    "        farthest_point = points[i]\n",
    "        break\n",
    "\n",
    "print(f\"Farthest from origin: {farthest_point} (distance: {max_distance:.2f})\")\n",
    "\n",
    "# Find all points in first quadrant (x > 0 and y > 0) using list comprehension\n",
    "first_quadrant = [point for point in points if point[0] > 0 and point[1] > 0]\n",
    "print(f\"\\nPoints in first quadrant (x>0, y>0): {first_quadrant}\")\n",
    "\n",
    "# Calculate center point (average of all coordinates)\n",
    "total_x = sum(point[0] for point in points)\n",
    "total_y = sum(point[1] for point in points)\n",
    "center_x = total_x / len(points)\n",
    "center_y = total_y / len(points)\n",
    "\n",
    "print(f\"\\nCenter point (average): ({center_x:.2f}, {center_y:.2f})\")"
   ]
  },
  {
   "cell_type": "markdown",
   "id": "2cdda3a7",
   "metadata": {
    "lines_to_next_cell": 0
   },
   "source": [
    "---\n",
    "\n",
    "## 📝 Quiz Section (퀴즈)\n",
    "\n",
    "### Quiz 1: List Comprehension Challenge (리스트 컴프리헨션 도전)\n",
    "\n",
    "**Question**: Write a list comprehension that creates a new list containing the square of all even numbers from 1 to 20.\n",
    "1부터 20까지의 모든 짝수의 제곱을 포함하는 새 리스트를 만드는 리스트 컴프리헨션을 작성하세요.\n",
    "\n",
    "**Requirements (요구사항)**:\n",
    "- Use a single list comprehension (단일 리스트 컴프리헨션 사용)\n",
    "- Include only even numbers (짝수만 포함)\n",
    "- Calculate the square of each even number (각 짝수의 제곱 계산)\n",
    "- The result should be: [4, 16, 36, 64, 100, 144, 196, 256, 324, 400]\n",
    "\n",
    "**Write your answer here (답을 여기에 작성하세요)**:"
   ]
  },
  {
   "cell_type": "code",
   "execution_count": null,
   "id": "1d262b3f",
   "metadata": {},
   "outputs": [],
   "source": [
    "# Your list comprehension here\n",
    "even_squares = ____________________________\n",
    "print(even_squares)"
   ]
  },
  {
   "cell_type": "markdown",
   "id": "d3d412b4",
   "metadata": {
    "lines_to_next_cell": 0
   },
   "source": [
    "### Quiz 2: Tuple vs List Analysis (튜플 vs 리스트 분석)\n",
    "\n",
    "**Question**: Explain at least 3 differences between the tuple `(10, 20, 30)` and the list `[10, 20, 30]`. For each difference, provide a code example that demonstrates the difference.\n",
    "튜플 `(10, 20, 30)`과 리스트 `[10, 20, 30]`의 차이점을 최소 3가지 설명하세요. 각 차이점에 대해 차이를 보여주는 코드 예시를 제공하세요.\n",
    "\n",
    "**Fill in your answers (답을 채우세요)**:\n",
    "\n",
    "**Difference 1 (차이점 1)**: _________________________________"
   ]
  },
  {
   "cell_type": "code",
   "execution_count": null,
   "id": "7b916ebb",
   "metadata": {},
   "outputs": [],
   "source": [
    "# Code example demonstrating this difference:\n",
    "tuple_example = (10, 20, 30)\n",
    "list_example = [10, 20, 30]\n",
    "\n",
    "# Your code here:\n"
   ]
  },
  {
   "cell_type": "markdown",
   "id": "45ca095d",
   "metadata": {
    "lines_to_next_cell": 0
   },
   "source": [
    "**Difference 2 (차이점 2)**: _________________________________"
   ]
  },
  {
   "cell_type": "code",
   "execution_count": null,
   "id": "02dfc5b6",
   "metadata": {},
   "outputs": [],
   "source": [
    "# Code example demonstrating this difference:\n",
    "tuple_example = (10, 20, 30)\n",
    "list_example = [10, 20, 30]\n",
    "\n",
    "# Your code here:\n"
   ]
  },
  {
   "cell_type": "markdown",
   "id": "a72121b9",
   "metadata": {
    "lines_to_next_cell": 0
   },
   "source": [
    "**Difference 3 (차이점 3)**: _________________________________"
   ]
  },
  {
   "cell_type": "code",
   "execution_count": null,
   "id": "950a8c00",
   "metadata": {},
   "outputs": [],
   "source": [
    "# Code example demonstrating this difference:\n",
    "tuple_example = (10, 20, 30)\n",
    "list_example = [10, 20, 30]\n",
    "\n",
    "# Your code here:\n"
   ]
  },
  {
   "cell_type": "markdown",
   "id": "c57ec4a2",
   "metadata": {
    "lines_to_next_cell": 0
   },
   "source": [
    "### Quiz 3: Student Data Management (학생 데이터 관리)\n",
    "\n",
    "**Question**: You have a list of student tuples where each tuple contains (name, age, math_score, science_score). Write a program that:\n",
    "각 튜플이 (이름, 나이, 수학점수, 과학점수)를 포함하는 학생 튜플의 리스트가 있습니다. 다음을 수행하는 프로그램을 작성하세요:\n",
    "\n",
    "1. Sorts students by their average score (highest first) (평균 점수로 학생 정렬 - 높은 점수부터)\n",
    "2. Creates a list of students who have average score >= 85 (평균 점수가 85 이상인 학생 리스트 생성)\n",
    "3. Finds the student with the highest math score (수학 점수가 가장 높은 학생 찾기)\n",
    "\n",
    "**Given data (주어진 데이터)**:"
   ]
  },
  {
   "cell_type": "code",
   "execution_count": null,
   "id": "f63b3044",
   "metadata": {},
   "outputs": [],
   "source": [
    "students = [\n",
    "    (\"Alice\", 20, 88, 92),\n",
    "    (\"Bob\", 19, 95, 87),\n",
    "    (\"Charlie\", 21, 78, 85),\n",
    "    (\"Diana\", 20, 91, 89),\n",
    "    (\"Eve\", 19, 82, 94)\n",
    "]"
   ]
  },
  {
   "cell_type": "markdown",
   "id": "92087f2e",
   "metadata": {
    "lines_to_next_cell": 0
   },
   "source": [
    "**Write your solution here (해답을 여기에 작성하세요)**:"
   ]
  },
  {
   "cell_type": "code",
   "execution_count": null,
   "id": "384c052e",
   "metadata": {},
   "outputs": [],
   "source": [
    "students = [\n",
    "    (\"Alice\", 20, 88, 92),\n",
    "    (\"Bob\", 19, 95, 87),\n",
    "    (\"Charlie\", 21, 78, 85),\n",
    "    (\"Diana\", 20, 91, 89),\n",
    "    (\"Eve\", 19, 82, 94)\n",
    "]\n",
    "\n",
    "# 1. Sort students by average score (highest first)\n",
    "# Your code here:\n",
    "\n",
    "# 2. Create list of students with average >= 85\n",
    "# Your code here:\n",
    "\n",
    "# 3. Find student with highest math score\n",
    "# Your code here:\n"
   ]
  },
  {
   "cell_type": "markdown",
   "id": "ac1c4a18",
   "metadata": {},
   "source": [
    "---\n",
    "\n",
    "## 📖 References (참고 자료)\n",
    "\n",
    "1. **Python List Comprehensions Guide**: https://docs.python.org/3/tutorial/datastructures.html#list-comprehensions\n",
    "   - Official Python documentation on list comprehensions (리스트 컴프리헨션에 대한 공식 Python 문서)\n",
    "\n",
    "2. **Python Tuples Tutorial**: https://docs.python.org/3/tutorial/datastructures.html#tuples-and-sequences\n",
    "   - Comprehensive guide to tuples and sequences (튜플과 시퀀스에 대한 종합 가이드)\n",
    "\n",
    "3. **Real Python - Working with Lists and Tuples**: https://realpython.com/python-lists-tuples/\n",
    "   - Practical examples and best practices (실용적인 예시와 모범 사례)\n",
    "\n",
    "4. **Python Sorting Guide**: https://docs.python.org/3/howto/sorting.html\n",
    "   - Advanced sorting techniques with key functions (키 함수를 사용한 고급 정렬 기법)\n",
    "\n",
    "---\n",
    "\n",
    "## 💡 Additional Tips for Success (성공을 위한 추가 팁)\n",
    "\n",
    "### Best Practices (모범 사례)\n",
    "- **Choose the right data structure**: Use lists for changing data, tuples for fixed data (올바른 데이터 구조 선택: 변하는 데이터는 리스트, 고정 데이터는 튜플)\n",
    "- **Keep list comprehensions readable**: If it's too complex, use a regular loop (리스트 컴프리헨션을 읽기 쉽게 유지: 너무 복잡하면 일반 반복문 사용)\n",
    "- **Use tuple unpacking**: It makes your code cleaner and more readable (튜플 언패킹 사용: 코드가 더 깔끔하고 읽기 쉬워짐)\n",
    "\n",
    "### Common Mistakes to Avoid (피해야 할 일반적인 실수)\n",
    "- **Trying to modify tuples**: Remember they are immutable (튜플 수정 시도: 불변이라는 것을 기억)\n",
    "- **Overusing list comprehensions**: Sometimes a regular loop is clearer (리스트 컴프리헨션 남용: 때로는 일반 반복문이 더 명확)\n",
    "- **Forgetting the comma in single-item tuples**: `(42,)` not `(42)` (단일 항목 튜플에서 쉼표 누락: `(42)`가 아닌 `(42,)`)\n",
    "\n",
    "### Performance Tips (성능 팁)\n",
    "- **Tuples are faster than lists** for read-only operations (읽기 전용 작업에는 튜플이 리스트보다 빠름)\n",
    "- **List comprehensions are faster than loops** for simple operations (간단한 연산에는 리스트 컴프리헨션이 반복문보다 빠름)\n",
    "- **Use enumerate() and zip()** instead of manual indexing (수동 인덱싱 대신 enumerate()와 zip() 사용)\n",
    "\n",
    "### Next Week Preview (다음 주 미리보기)\n",
    "Next week we'll explore **dictionaries** - a powerful way to store key-value pairs and organize data more efficiently!\n",
    "다음 주에는 **딕셔너리**를 탐구합니다 - 키-값 쌍을 저장하고 데이터를 더 효율적으로 구성하는 강력한 방법입니다!\n",
    "\n",
    "---\n",
    "\n",
    "## 📋 Homework (숙제)\n",
    "\n",
    "1. **Practice**: Complete all three lab exercises and experiment with modifications (연습: 3개 실습을 모두 완료하고 수정 사항 실험)\n",
    "2. **Experiment**: Try creating your own list comprehensions with different conditions (실험: 다양한 조건으로 자신만의 리스트 컴프리헨션 만들기)\n",
    "3. **Explore**: Create a program that uses both lists and tuples to store related data (탐색: 관련 데이터를 저장하기 위해 리스트와 튜플을 모두 사용하는 프로그램 만들기)\n",
    "4. **Challenge**: Build a coordinate system that can perform operations like rotation or scaling of points (도전: 점의 회전이나 크기 조정과 같은 연산을 수행할 수 있는 좌표 시스템 구축)\n",
    "\n",
    "**Great work on mastering advanced lists and tuples!** 🎉  \n",
    "**고급 리스트와 튜플 마스터하기 수고하셨습니다!** 🎉"
   ]
  }
 ],
 "metadata": {
  "jupytext": {
   "cell_metadata_filter": "-all",
   "main_language": "python",
   "notebook_metadata_filter": "-all"
  },
  "language_info": {
   "name": "python"
  }
 },
 "nbformat": 4,
 "nbformat_minor": 5
}
