{
 "cells": [
  {
   "cell_type": "markdown",
   "id": "72fe1b09",
   "metadata": {
    "lines_to_next_cell": 0
   },
   "source": [
    "# Operators and Expressions\n",
    "\n",
    "**Class Duration**: 3 hours  \n",
    "**Structure**: Lecture & Practice 2 hours + Quiz 1 hour  \n",
    "**Level**: Beginner\n",
    "\n",
    "---\n",
    "\n",
    "## 🎯 Learning Objectives\n",
    "\n",
    "After completing this lesson, students will be able to:\n",
    "이 수업을 마친 후 학생들은 다음을 할 수 있습니다:\n",
    "\n",
    "- Understand and use arithmetic operators for mathematical calculations\n",
    "수학 계산을 위한 산술 연산자 이해 및 사용하기\n",
    "- Apply comparison operators to compare values\n",
    "값을 비교하기 위한 비교 연산자 적용하기\n",
    "- Use logical operators to combine conditions\n",
    "논리 연산자를 사용하여 조건 결합하기\n",
    "- Use assignment operators for efficient variable updates\n",
    "효율적인 변수 업데이트를 위한 할당 연산자 사용하기\n",
    "- Understand operator precedence and use parentheses correctly\n",
    "연산자 우선순위 이해 및 괄호 올바른 사용하기\n",
    "\n",
    "---\n",
    "\n",
    "## 🧮 1. Arithmetic Operators\n",
    "\n",
    "Arithmetic operators perform mathematical calculations like a calculator!\n",
    "산술 연산자는 계산기처럼 수학 계산을 수행합니다!\n",
    "\n",
    "### 1.1 Basic Arithmetic Operators\n",
    "\n",
    "| Operator | Name | Example | Result |\n",
    "|----------|------|---------|--------|\n",
    "| `+` | Addition | `5 + 3` | `8` |\n",
    "| `-` | Subtraction | `5 - 3` | `2` |\n",
    "| `*` | Multiplication | `5 * 3` | `15` |\n",
    "| `/` | Division | `5 / 3` | `1.6666666666666667` |\n",
    "\n",
    "#### Simple Example\n",
    "간단한 예시"
   ]
  },
  {
   "cell_type": "code",
   "execution_count": null,
   "id": "f8b26a9c",
   "metadata": {},
   "outputs": [],
   "source": [
    "# Multiplication\n",
    "price = 50\n",
    "quantity = 2\n",
    "total = price * quantity\n",
    "print(f\"Total price: ${total}\")  # $100"
   ]
  },
  {
   "cell_type": "markdown",
   "id": "4de06cf5",
   "metadata": {
    "lines_to_next_cell": 0
   },
   "source": [
    "### 1.2 Advanced Arithmetic Operators\n",
    "\n",
    "| Operator | Name | Example | Result |\n",
    "|----------|------|---------|--------|\n",
    "| `//` | Floor Division | `7 // 3` | `2` |\n",
    "| `%` | Modulo | `7 % 3` | `1` |\n",
    "| `**` | Exponentiation | `2 ** 3` | `8` |\n",
    "\n",
    "#### Understanding Special Operators\n",
    "특수 연산자 이해하기"
   ]
  },
  {
   "cell_type": "code",
   "execution_count": null,
   "id": "3f9f4bef",
   "metadata": {},
   "outputs": [],
   "source": [
    "# Remainder\n",
    "print(f\"Remainder of 7 divided by 3: {7 % 3}\")  # 1\n",
    "\n",
    "# Exponentiation  \n",
    "print(f\"2 to the power of 3: {2 ** 3}\")  # 8"
   ]
  },
  {
   "cell_type": "markdown",
   "id": "d3abc9c7",
   "metadata": {
    "lines_to_next_cell": 0
   },
   "source": [
    "---\n",
    "\n",
    "## ⚖️ 2. Comparison Operators\n",
    "\n",
    "Comparison operators compare two values and return `True` or `False`.\n",
    "비교 연산자는 두 값을 비교하여 `True` 또는 `False`를 반환합니다.\n",
    "\n",
    "### 2.1 All Comparison Operators\n",
    "\n",
    "| Operator | Name | Example | Result |\n",
    "|----------|------|---------|--------|\n",
    "| `==` | Equal to | `5 == 5` | `True` |\n",
    "| `!=` | Not equal to | `5 != 3` | `True` |\n",
    "| `<` | Less than | `3 < 5` | `True` |\n",
    "| `>` | Greater than | `5 > 3` | `True` |\n",
    "| `<=` | Less than or equal | `3 <= 5` | `True` |\n",
    "| `>=` | Greater than or equal | `5 >= 5` | `True` |\n",
    "\n",
    "### 2.2 Practical Examples\n",
    "\n",
    "실용적 예시"
   ]
  },
  {
   "cell_type": "code",
   "execution_count": null,
   "id": "4bf1c90d",
   "metadata": {},
   "outputs": [],
   "source": [
    "# Age verification\n",
    "age = 19\n",
    "can_vote = age >= 18\n",
    "print(f\"Can vote: {can_vote}\")  # True\n",
    "\n",
    "# Grade comparison\n",
    "my_score = 85\n",
    "passing_grade = 70\n",
    "passed = my_score >= passing_grade\n",
    "print(f\"Passed: {passed}\")  # True"
   ]
  },
  {
   "cell_type": "markdown",
   "id": "e4938ad6",
   "metadata": {
    "lines_to_next_cell": 0
   },
   "source": [
    "---\n",
    "\n",
    "## 🧠 3. Logical Operators\n",
    "\n",
    "Logical operators combine multiple conditions to make complex decisions.\n",
    "논리 연산자는 여러 조건을 결합하여 복잡한 결정을 내립니다.\n",
    "\n",
    "### 3.1 Three Logical Operators\n",
    "\n",
    "| Operator | Name | Description |\n",
    "|----------|------|-------------|\n",
    "| `and` | AND | Both conditions must be true |\n",
    "| `or` | OR | At least one condition must be true |\n",
    "| `not` | NOT | Reverses the condition |\n",
    "\n",
    "### 3.2 Understanding AND Operator\n",
    "\n",
    "AND 연산자 이해하기"
   ]
  },
  {
   "cell_type": "code",
   "execution_count": null,
   "id": "c8b6157e",
   "metadata": {},
   "outputs": [],
   "source": [
    "# All conditions must be true\n",
    "age = 20\n",
    "has_id = True\n",
    "\n",
    "can_enter = (age >= 18) and has_id\n",
    "print(f\"Can enter: {can_enter}\")  # True"
   ]
  },
  {
   "cell_type": "markdown",
   "id": "6f65646d",
   "metadata": {
    "lines_to_next_cell": 0
   },
   "source": [
    "### 3.3 Understanding OR Operator\n",
    "\n",
    "OR 연산자 이해하기"
   ]
  },
  {
   "cell_type": "code",
   "execution_count": null,
   "id": "4c9698b6",
   "metadata": {},
   "outputs": [],
   "source": [
    "# At least one must be true\n",
    "has_cash = False\n",
    "has_card = True\n",
    "\n",
    "can_pay = has_cash or has_card\n",
    "print(f\"Can pay: {can_pay}\")  # True"
   ]
  },
  {
   "cell_type": "markdown",
   "id": "cca5e0e2",
   "metadata": {
    "lines_to_next_cell": 0
   },
   "source": [
    "### 3.4 Understanding NOT Operator\n",
    "\n",
    "NOT 연산자 이해하기"
   ]
  },
  {
   "cell_type": "code",
   "execution_count": null,
   "id": "e9b8ac55",
   "metadata": {},
   "outputs": [],
   "source": [
    "# Reverses the condition\n",
    "is_raining = False\n",
    "can_picnic = not is_raining\n",
    "print(f\"Can have picnic: {can_picnic}\")  # True"
   ]
  },
  {
   "cell_type": "markdown",
   "id": "2c8871e9",
   "metadata": {
    "lines_to_next_cell": 0
   },
   "source": [
    "---\n",
    "\n",
    "## 📝 4. Assignment Operators\n",
    "\n",
    "Assignment operators provide shortcuts for updating variables.\n",
    "할당 연산자는 변수를 업데이트하는 단축키를 제공합니다.\n",
    "\n",
    "### 4.1 Compound Assignment Operators\n",
    "\n",
    "| Operator | Equivalent Expression | Example |\n",
    "|----------|----------------------|---------|\n",
    "| `+=` | `x = x + value` | `score += 10` |\n",
    "| `-=` | `x = x - value` | `score -= 5` |\n",
    "| `*=` | `x = x * value` | `score *= 2` |\n",
    "| `/=` | `x = x / value` | `score /= 3` |\n",
    "\n",
    "### 4.2 Practical Examples\n",
    "\n",
    "실용적 예시"
   ]
  },
  {
   "cell_type": "code",
   "execution_count": null,
   "id": "c0af48d1",
   "metadata": {},
   "outputs": [],
   "source": [
    "# Score update\n",
    "score = 100\n",
    "score += 20  # Same as score = score + 20\n",
    "print(f\"New score: {score}\")  # 120\n",
    "\n",
    "# Balance update  \n",
    "money = 500\n",
    "money -= 100  # Spent $100\n",
    "print(f\"Remaining money: ${money}\")  # $400"
   ]
  },
  {
   "cell_type": "markdown",
   "id": "b51587a0",
   "metadata": {
    "lines_to_next_cell": 0
   },
   "source": [
    "---\n",
    "\n",
    "## 🔢 5. Operator Precedence\n",
    "\n",
    "Understanding operator precedence helps you predict the order of operations.\n",
    "연산자 우선순위를 이해하면 연산 순서를 예측할 수 있습니다.\n",
    "\n",
    "### 5.1 Order of Operations\n",
    "\n",
    "Remember the **PEMDAS** rule:\n",
    "**PEMDAS 규칙을 기억하세요**:\n",
    "\n",
    "1. **P**arentheses - `( )`\n",
    "2. **E**xponents - `**`\n",
    "3. **M**ultiplication and **D**ivision - `*`, `/`, `//`, `%`\n",
    "4. **A**ddition and **S**ubtraction - `+`, `-`\n",
    "\n",
    "### 5.2 Examples with Explanations\n",
    "\n",
    "설명이 있는 예시"
   ]
  },
  {
   "cell_type": "code",
   "execution_count": null,
   "id": "8f86145f",
   "metadata": {},
   "outputs": [],
   "source": [
    "# Example 1: Basic precedence\n",
    "result1 = 10 + 3 * 2\n",
    "print(f\"10 + 3 * 2 = {result1}\")  # 16 (not 26!)\n",
    "# Order: 3 * 2 = 6, then 10 + 6 = 16\n",
    "\n",
    "# Example 2: Using parentheses\n",
    "result2 = (10 + 3) * 2\n",
    "print(f\"(10 + 3) * 2 = {result2}\")  # 26\n",
    "# Order: (10 + 3) = 13, then 13 * 2 = 26\n",
    "\n",
    "# Example 3: Parentheses for clarity\n",
    "price = 100\n",
    "tax_rate = 0.1\n",
    "total = price + (price * tax_rate)\n",
    "print(f\"Total with tax: ${total}\")  # $110.0"
   ]
  },
  {
   "cell_type": "markdown",
   "id": "26a1541e",
   "metadata": {
    "lines_to_next_cell": 0
   },
   "source": [
    "---\n",
    "\n",
    "## 🔧 Practice\n",
    "\n",
    "### Practice 1: Simple Calculator\n",
    "\n",
    "**Problem**: Create a simple calculator that performs basic arithmetic operations.\n",
    "**문제**: 기본 산술 연산을 수행하는 간단한 계산기를 만드세요.\n",
    "\n",
    "**Solution**:\n",
    "**해답**:"
   ]
  },
  {
   "cell_type": "code",
   "execution_count": null,
   "id": "9aafac39",
   "metadata": {},
   "outputs": [],
   "source": [
    "# Simple Calculator\n",
    "print(\"🧮 Simple Calculator\")\n",
    "\n",
    "# Two numbers\n",
    "a = 10\n",
    "b = 3\n",
    "\n",
    "print(f\"Numbers: {a}, {b}\")\n",
    "print(f\"Addition: {a + b}\")\n",
    "print(f\"Subtraction: {a - b}\")\n",
    "print(f\"Multiplication: {a * b}\")\n",
    "print(f\"Division: {a / b:.2f}\")\n",
    "print(f\"Remainder: {a % b}\")"
   ]
  },
  {
   "cell_type": "markdown",
   "id": "3f77ff8b",
   "metadata": {
    "lines_to_next_cell": 0
   },
   "source": [
    "### Practice 2: Age Comparison\n",
    "\n",
    "**Problem**: Create a program that compares two people's ages.\n",
    "**문제**: 두 사람의 나이를 비교하는 프로그램을 만드세요.\n",
    "\n",
    "**Solution**:\n",
    "**해답**:"
   ]
  },
  {
   "cell_type": "code",
   "execution_count": null,
   "id": "e52661c3",
   "metadata": {},
   "outputs": [],
   "source": [
    "# Age Comparison\n",
    "my_age = 20\n",
    "friend_age = 18\n",
    "\n",
    "print(f\"My age: {my_age}\")\n",
    "print(f\"Friend's age: {friend_age}\")\n",
    "print(f\"I am older: {my_age > friend_age}\")\n",
    "print(f\"I can vote: {my_age >= 18}\")\n",
    "print(f\"Friend can also vote: {friend_age >= 18}\")"
   ]
  },
  {
   "cell_type": "markdown",
   "id": "11090055",
   "metadata": {
    "lines_to_next_cell": 0
   },
   "source": [
    "### Practice 3: Grade Assessment\n",
    "\n",
    "**Problem**: Create a program that assesses a student's grades.\n",
    "**문제**: 학생의 성적을 판정하는 프로그램을 만드세요.\n",
    "\n",
    "**Solution**:\n",
    "**해답**:"
   ]
  },
  {
   "cell_type": "code",
   "execution_count": null,
   "id": "7bd84bf6",
   "metadata": {},
   "outputs": [],
   "source": [
    "# Grade Assessment\n",
    "math_score = 85\n",
    "english_score = 78\n",
    "attendance = 95\n",
    "\n",
    "print(f\"Math: {math_score}, English: {english_score}\")\n",
    "print(f\"Attendance: {attendance}%\")\n",
    "\n",
    "# Pass criteria: All subjects >= 70 + attendance >= 80%\n",
    "math_pass = math_score >= 70\n",
    "english_pass = english_score >= 70\n",
    "attendance_ok = attendance >= 80\n",
    "\n",
    "overall_pass = math_pass and english_pass and attendance_ok\n",
    "print(f\"Math pass: {math_pass}\")\n",
    "print(f\"English pass: {english_pass}\")\n",
    "print(f\"Overall pass: {overall_pass}\")"
   ]
  },
  {
   "cell_type": "markdown",
   "id": "8c64b232",
   "metadata": {},
   "source": [
    "---\n",
    "\n",
    "## 📝 Quiz\n",
    "\n",
    "### Quiz 1: Arithmetic Operation Evaluation\n",
    "\n",
    "**Problem**: Calculate the result of the following expression step by step:\n",
    "**문제**: 다음 표현식의 결과를 단계별로 계산하세요:\n",
    "\n",
    "```\n",
    "10 + 3 * 2\n",
    "```\n",
    "\n",
    "**Show your calculation process**:\n",
    "**계산 과정을 보여주세요**:\n",
    "Step 1: _______________\n",
    "Step 2: _______________\n",
    "Final result: _______________\n",
    "\n",
    "### Quiz 2: Operator Meanings and Results\n",
    "\n",
    "**Problem**: When `x = 10` and `y = 3`, calculate the results and explain what each operator does:\n",
    "**문제**: `x = 10`과 `y = 3`일 때, 결과를 계산하고 각 연산자가 하는 일을 설명하세요:\n",
    "\n",
    "1. `x // y = ?`\n",
    "   - Result: _______________\n",
    "   - Explanation: _______________\n",
    "\n",
    "2. `x % y = ?`\n",
    "   - Result: _______________\n",
    "   - Explanation: _______________\n",
    "\n",
    "3. `x ** y = ?`\n",
    "   - Result: _______________\n",
    "   - Explanation: _______________\n",
    "\n",
    "### Quiz 3: Complex Logical Expression\n",
    "\n",
    "**Problem**: Evaluate the following logical expression step by step:\n",
    "**문제**: 다음 논리 표현식을 단계별로 평가하세요:\n",
    "\n",
    "```\n",
    "not(5 > 3 and 2 < 4) or (1 == 1)\n",
    "```\n",
    "\n",
    "**Show your step-by-step calculation**:\n",
    "**단계별 계산 과정을 보여주세요**:\n",
    "Step 1: `5 > 3` evaluation = _______________\n",
    "Step 2: `2 < 4` evaluation = _______________\n",
    "Step 3: `5 > 3 and 2 < 4` evaluation = _______________\n",
    "Step 4: `not(5 > 3 and 2 < 4)` evaluation = _______________\n",
    "Step 5: `1 == 1` evaluation = _______________\n",
    "Step 6: `not(5 > 3 and 2 < 4) or (1 == 1)` evaluation = _______________\n",
    "\n",
    "Final result: _______________\n",
    "\n",
    "---\n",
    "\n",
    "## 📖 References\n",
    "\n",
    "1. **Python Operators Tutorial**: https://www.w3schools.com/python/python_operators.asp\n",
    "   - Complete guide to all Python operators\n",
    "   모든 파이썬 연산자의 완전한 가이드\n",
    "\n",
    "2. **Operator Precedence**: https://docs.python.org/3/reference/expressions.html#operator-precedence\n",
    "   - Official documentation on operator precedence rules\n",
    "   연산자 우선순위 규칙에 대한 공식 문서\n",
    "\n",
    "3. **Python Calculator Tutorial**: https://realpython.com/python-operators-expressions/\n",
    "   - Advanced concepts and practical applications of operators\n",
    "   연산자의 고급 개념과 실용적 활용\n",
    "\n",
    "4. **Python for Beginners**: https://www.python.org/about/gettingstarted/\n",
    "   - Official Python getting started guide\n",
    "   파이썬 공식 시작 가이드\n",
    "\n",
    "---\n",
    "\n",
    "## 💡 Additional Tips for Success\n",
    "\n",
    "### Effective Learning Methods\n",
    "효과적인 학습 방법\n",
    "- **Practice Order of Operations**: Consistently use PEMDAS rules\n",
    "연산 순서 연습: PEMDAS 규칙을 일관되게 사용\n",
    "- **Test Logical Expressions**: Understand AND, OR, NOT with various combinations\n",
    "논리 표현식 테스트: 다양한 조합으로 AND, OR, NOT 이해\n",
    "- **Use Parentheses**: Add parentheses for clarity when unsure\n",
    "괄호 사용: 확실하지 않을 때는 명확성을 위해 괄호 추가\n",
    "- **Real-life Examples**: Use Python for actual calculation problems\n",
    "실생활 예시: 실제 계산 문제에 파이썬 사용\n",
    "\n",
    "### Common Mistakes to Avoid\n",
    "피해야 할 일반적인 실수\n",
    "- **Assignment vs Comparison**: Use `=` for assignment, `==` for comparison\n",
    "할당과 비교: 할당에는 `=`, 비교에는 `==` 사용\n",
    "- **Integer vs Float Division**: `/` gives float, `//` gives integer result\n",
    "정수와 실수 나눗셈: `/`는 실수, `//`는 정수 결과\n",
    "- **Logical Operator Order**: AND is evaluated before OR\n",
    "논리 연산자 순서: AND가 OR보다 먼저 평가됨\n",
    "- **Missing Parentheses**: Use parentheses to clarify complex expressions\n",
    "괄호 빠뜨리기: 복잡한 표현식에서는 괄호로 명확히 하기\n",
    "\n",
    "### Practice Suggestions\n",
    "연습 제안\n",
    "- **Daily Calculations**: Use Python for real math problems\n",
    "일일 계산: 실제 수학 문제에 파이썬 사용\n",
    "- **Compare Different Approaches**: Try both compound and regular assignment\n",
    "다양한 접근법 비교: 복합 할당과 일반 할당 모두 시도\n",
    "- **Test Edge Cases**: What happens with negative numbers or zero?\n",
    "극단적 경우 테스트: 음수나 0은 어떻게 될까?\n",
    "- **Apply to Real Situations**: Use for shopping, grade calculations, etc.\n",
    "실제 상황 적용: 쇼핑, 성적 계산 등에 활용\n",
    "\n",
    "### Debugging Tips\n",
    "디버깅 팁\n",
    "- **Step-by-step Calculation**: Break complex expressions into smaller parts\n",
    "단계별 계산: 복잡한 표현식을 작은 부분으로 나누기\n",
    "- **Use type() Function**: Check data types of calculation results\n",
    "type() 함수 활용: 계산 결과의 데이터 타입 확인\n",
    "- **Print Intermediate Results**: Output results during calculation process\n",
    "print() 중간 결과: 계산 과정 중간에 결과 출력하여 확인\n",
    "\n",
    "---\n",
    "\n",
    "## 📋 Homework\n",
    "\n",
    "1. **Practice**: Complete all 3 exercises and experiment with different values\n",
    "연습: 3개 실습을 모두 완료하고 다양한 값으로 실험하기\n",
    "2. **Create**: Make a simple grade calculator for your subjects\n",
    "창작: 본인 과목을 위한 간단한 성적 계산기 만들기\n",
    "3. **Explore**: Try various operator combinations in complex expressions\n",
    "탐구: 복잡한 표현식에서 다양한 연산자 조합 시도하기\n",
    "4. **Apply**: Create a shopping price calculator (including discounts and taxes)\n",
    "응용: 쇼핑몰 가격 계산 프로그램 만들기 (할인, 세금 포함)\n",
    "5. **Experiment**: Create various examples to verify operator precedence\n",
    "실험: 연산자 우선순위를 확인하는 다양한 예시 만들기\n",
    "\n",
    "**Master the art of calculation with Python!** 🧮\n",
    "**파이썬으로 계산의 기술을 마스터하세요!**"
   ]
  }
 ],
 "metadata": {
  "jupytext": {
   "cell_metadata_filter": "-all",
   "main_language": "python",
   "notebook_metadata_filter": "-all"
  }
 },
 "nbformat": 4,
 "nbformat_minor": 5
}
