{
 "cells": [
  {
   "cell_type": "markdown",
   "id": "8e46ec25",
   "metadata": {
    "lines_to_next_cell": 0
   },
   "source": [
    "# Week 2: Advanced Functions\n",
    "**고급 함수**\n",
    "\n",
    "**Duration (수업 시간)**: 3 hours (3시간)  \n",
    "**Structure (구성)**: Lecture & Lab 2 hours + Quiz 1 hour (강의 및 실습 2시간 + 퀴즈 1시간)  \n",
    "**Level (수준)**: Intermediate (중급)\n",
    "\n",
    "---\n",
    "\n",
    "## 🎯 Learning Objectives (학습 목표)\n",
    "\n",
    "By the end of this lesson, students will be able to:\n",
    "이 수업을 마친 후 학생들은 다음을 할 수 있습니다:\n",
    "\n",
    "- Use default parameter values to create flexible functions (기본 매개변수값을 사용하여 유연한 함수 생성)\n",
    "- Apply keyword arguments for clearer function calls (명확한 함수 호출을 위한 키워드 인수 적용)\n",
    "- Understand the difference between local and global variables (지역변수와 전역변수의 차이점 이해)\n",
    "- Create functions that call other functions (함수 내에서 다른 함수 호출)\n",
    "\n",
    "---\n",
    "\n",
    "## 🔧 1. Default Parameter Values (기본 매개변수값)\n",
    "\n",
    "### What are Default Parameters? (기본 매개변수란?)\n",
    "**Default parameters** allow you to assign default values to function parameters. If no argument is provided, the default value is used.\n",
    "**기본 매개변수**는 함수 매개변수에 기본값을 할당할 수 있게 해줍니다. 인수가 제공되지 않으면 기본값이 사용됩니다.\n",
    "\n",
    "### Basic Syntax (기본 문법)"
   ]
  },
  {
   "cell_type": "code",
   "execution_count": null,
   "id": "f62c986e",
   "metadata": {},
   "outputs": [],
   "source": [
    "def function_name(parameter1, parameter2=default_value):\n",
    "    return result"
   ]
  },
  {
   "cell_type": "markdown",
   "id": "8b57cc5d",
   "metadata": {
    "lines_to_next_cell": 0
   },
   "source": [
    "### Simple Examples (간단한 예시)\n",
    "\n",
    "#### Example 1: Greeting Function (인사말 함수)"
   ]
  },
  {
   "cell_type": "code",
   "execution_count": null,
   "id": "57b10cc4",
   "metadata": {},
   "outputs": [],
   "source": [
    "def greet_user(name, greeting=\"Hello\"):\n",
    "    return f\"{greeting}, {name}!\"\n",
    "\n",
    "# Using default value\n",
    "print(greet_user(\"Alice\"))  # Output: Hello, Alice!\n",
    "\n",
    "# Using custom value  \n",
    "print(greet_user(\"Bob\", \"Good morning\"))  # Output: Good morning, Bob!"
   ]
  },
  {
   "cell_type": "markdown",
   "id": "8fef4bd8",
   "metadata": {
    "lines_to_next_cell": 0
   },
   "source": [
    "#### Example 2: Calculate Area (면적 계산)"
   ]
  },
  {
   "cell_type": "code",
   "execution_count": null,
   "id": "d8db0818",
   "metadata": {},
   "outputs": [],
   "source": [
    "def calculate_area(length, width=None):\n",
    "    if width is None:\n",
    "        return length * length  # Square\n",
    "    else:\n",
    "        return length * width   # Rectangle\n",
    "\n",
    "print(calculate_area(5))      # Square: 25\n",
    "print(calculate_area(5, 3))   # Rectangle: 15"
   ]
  },
  {
   "cell_type": "markdown",
   "id": "e8543fde",
   "metadata": {},
   "source": [
    "### Important Rule (중요한 규칙)\n",
    "Default parameters must come **after** non-default parameters:\n",
    "기본 매개변수는 비기본 매개변수 **뒤에** 와야 합니다:"
   ]
  },
  {
   "cell_type": "code",
   "execution_count": null,
   "id": "0badd814",
   "metadata": {},
   "outputs": [],
   "source": [
    "# Correct ✓\n",
    "def order_coffee(size, milk=\"regular\", sugar=1):\n",
    "    return f\"{size} coffee with {milk} milk and {sugar} sugar\"\n",
    "\n",
    "# Incorrect ✗  \n",
    "def bad_function(milk=\"regular\", size):  # SyntaxError!\n",
    "    pass"
   ]
  },
  {
   "cell_type": "markdown",
   "id": "b3364847",
   "metadata": {
    "lines_to_next_cell": 0
   },
   "source": [
    "---\n",
    "\n",
    "## 🏷️ 2. Keyword Arguments (키워드 인수)\n",
    "\n",
    "### What are Keyword Arguments? (키워드 인수란?)\n",
    "**Keyword arguments** let you specify which parameter you're passing a value to by using the parameter name.\n",
    "**키워드 인수**는 매개변수 이름을 사용하여 어떤 매개변수에 값을 전달하는지 지정할 수 있게 해줍니다.\n",
    "\n",
    "### Benefits (장점)\n",
    "- **Clarity**: Makes code more readable (명확성: 코드를 더 읽기 쉽게 만듦)\n",
    "- **Flexibility**: Can pass arguments in any order (유연성: 인수를 어떤 순서로든 전달 가능)\n",
    "\n",
    "### Examples (예시)\n",
    "\n",
    "#### Example 1: Student Profile (학생 프로필)"
   ]
  },
  {
   "cell_type": "code",
   "execution_count": null,
   "id": "307ff8e1",
   "metadata": {},
   "outputs": [],
   "source": [
    "def create_profile(name, age, grade=\"A\", school=\"Unknown\"):\n",
    "    return f\"Student: {name}, Age: {age}, Grade: {grade}, School: {school}\"\n",
    "\n",
    "# Using keyword arguments\n",
    "profile1 = create_profile(name=\"Alice\", age=18, school=\"City High\")\n",
    "profile2 = create_profile(age=19, name=\"Bob\", grade=\"B\")\n",
    "\n",
    "print(profile1)\n",
    "print(profile2)"
   ]
  },
  {
   "cell_type": "markdown",
   "id": "09e729e5",
   "metadata": {
    "lines_to_next_cell": 0
   },
   "source": [
    "#### Example 2: Drawing Function (그리기 함수)"
   ]
  },
  {
   "cell_type": "code",
   "execution_count": null,
   "id": "8c1a7ba3",
   "metadata": {},
   "outputs": [],
   "source": [
    "def draw_rectangle(x, y, width, height, color=\"black\"):\n",
    "    return f\"Rectangle at ({x}, {y}): {width}x{height}, Color: {color}\"\n",
    "\n",
    "# Different ways to call\n",
    "rect1 = draw_rectangle(10, 20, 100, 50)\n",
    "rect2 = draw_rectangle(x=0, y=0, width=200, height=100, color=\"red\")\n",
    "\n",
    "print(rect1)\n",
    "print(rect2)"
   ]
  },
  {
   "cell_type": "markdown",
   "id": "d9910d33",
   "metadata": {},
   "source": [
    "---\n",
    "\n",
    "## 🌍 3. Local vs Global Variables (지역변수 vs 전역변수)\n",
    "\n",
    "### Understanding Scope (범위 이해하기)\n",
    "**Variable scope** determines where in your program a variable can be accessed.\n",
    "**변수 범위**는 프로그램에서 변수에 접근할 수 있는 위치를 결정합니다.\n",
    "\n",
    "### Local Variables (지역변수)\n",
    "Variables created **inside** a function - only accessible within that function.\n",
    "함수 **내부**에서 생성된 변수 - 해당 함수 내에서만 접근 가능합니다."
   ]
  },
  {
   "cell_type": "code",
   "execution_count": null,
   "id": "cf901add",
   "metadata": {},
   "outputs": [],
   "source": [
    "def calculate_tax(price):\n",
    "    tax_amount = price * 0.08  # Local variable\n",
    "    total = price + tax_amount # Local variable\n",
    "    return total\n",
    "\n",
    "result = calculate_tax(100)\n",
    "print(result)  # 108.0\n",
    "\n",
    "# print(tax_amount)  # Error! Cannot access local variable"
   ]
  },
  {
   "cell_type": "markdown",
   "id": "d1c765ab",
   "metadata": {},
   "source": [
    "### Global Variables (전역변수)\n",
    "Variables created **outside** functions - accessible from anywhere.\n",
    "함수 **외부**에서 생성된 변수 - 어디서든 접근 가능합니다."
   ]
  },
  {
   "cell_type": "code",
   "execution_count": null,
   "id": "f21cf804",
   "metadata": {},
   "outputs": [],
   "source": [
    "company_name = \"TechCorp\"  # Global variable\n",
    "tax_rate = 0.08            # Global variable\n",
    "\n",
    "def show_info():\n",
    "    print(f\"Company: {company_name}\")  # Can read global variables\n",
    "    print(f\"Tax rate: {tax_rate}\")\n",
    "\n",
    "def calculate_price(base_price):\n",
    "    return base_price * (1 + tax_rate)  # Using global variable\n",
    "\n",
    "show_info()\n",
    "print(f\"Final price: ${calculate_price(100)}\")"
   ]
  },
  {
   "cell_type": "markdown",
   "id": "ab2f81dd",
   "metadata": {},
   "source": [
    "### Modifying Global Variables (전역변수 수정하기)\n",
    "Use the `global` keyword to modify global variables inside functions:\n",
    "함수 내부에서 전역변수를 수정하려면 `global` 키워드를 사용하세요:"
   ]
  },
  {
   "cell_type": "code",
   "execution_count": null,
   "id": "f6a9781a",
   "metadata": {},
   "outputs": [],
   "source": [
    "counter = 0  # Global variable\n",
    "\n",
    "def increment_counter():\n",
    "    global counter  # Tell Python we want to modify the global variable\n",
    "    counter += 1\n",
    "    print(f\"Counter: {counter}\")\n",
    "\n",
    "def reset_counter():\n",
    "    global counter\n",
    "    counter = 0\n",
    "    print(\"Counter reset to 0\")\n",
    "\n",
    "increment_counter()  # Counter: 1\n",
    "increment_counter()  # Counter: 2\n",
    "reset_counter()      # Counter reset to 0"
   ]
  },
  {
   "cell_type": "markdown",
   "id": "65c82cc9",
   "metadata": {
    "lines_to_next_cell": 0
   },
   "source": [
    "---\n",
    "\n",
    "## 🔗 4. Functions Calling Functions (함수에서 함수 호출)\n",
    "\n",
    "### Why Use Multiple Functions? (왜 여러 함수를 사용하나요?)\n",
    "Breaking code into smaller functions makes it:\n",
    "코드를 더 작은 함수로 나누면:\n",
    "- **Easier to understand** (이해하기 쉬움)\n",
    "- **Easier to test** (테스트하기 쉬움)\n",
    "- **Reusable** (재사용 가능)\n",
    "\n",
    "### Simple Example: Order System (간단한 예시: 주문 시스템)"
   ]
  },
  {
   "cell_type": "code",
   "execution_count": null,
   "id": "21e6d26e",
   "metadata": {},
   "outputs": [],
   "source": [
    "def calculate_tax(price):\n",
    "    return price * 0.08\n",
    "\n",
    "def calculate_tip(price):\n",
    "    return price * 0.15\n",
    "\n",
    "def process_order(meal_price):\n",
    "    print(f\"Meal price: ${meal_price:.2f}\")\n",
    "    \n",
    "    tax = calculate_tax(meal_price)\n",
    "    print(f\"Tax: ${tax:.2f}\")\n",
    "    \n",
    "    tip = calculate_tip(meal_price)\n",
    "    print(f\"Tip: ${tip:.2f}\")\n",
    "    \n",
    "    total = meal_price + tax + tip\n",
    "    print(f\"Total: ${total:.2f}\")\n",
    "    \n",
    "    return total\n",
    "\n",
    "# Test the system\n",
    "final_cost = process_order(25.00)"
   ]
  },
  {
   "cell_type": "markdown",
   "id": "0700c494",
   "metadata": {
    "lines_to_next_cell": 0
   },
   "source": [
    "### Grade Calculator Example (성적 계산기 예시)"
   ]
  },
  {
   "cell_type": "code",
   "execution_count": null,
   "id": "6788db5a",
   "metadata": {},
   "outputs": [],
   "source": [
    "def calculate_average(scores):\n",
    "    return sum(scores) / len(scores)\n",
    "\n",
    "def get_letter_grade(average):\n",
    "    if average >= 90:\n",
    "        return \"A\"\n",
    "    elif average >= 80:\n",
    "        return \"B\"\n",
    "    elif average >= 70:\n",
    "        return \"C\"\n",
    "    else:\n",
    "        return \"F\"\n",
    "\n",
    "def generate_report(student_name, test_scores):\n",
    "    print(f\"Student: {student_name}\")\n",
    "    \n",
    "    average = calculate_average(test_scores)\n",
    "    print(f\"Average: {average:.2f}\")\n",
    "    \n",
    "    grade = get_letter_grade(average)\n",
    "    print(f\"Letter Grade: {grade}\")\n",
    "    \n",
    "    return grade\n",
    "\n",
    "# Test the system\n",
    "student_grade = generate_report(\"Alice\", [85, 92, 78, 90])"
   ]
  },
  {
   "cell_type": "markdown",
   "id": "1ae71e84",
   "metadata": {
    "lines_to_next_cell": 0
   },
   "source": [
    "---\n",
    "\n",
    "## 🔧 Lab Exercises (실습)\n",
    "\n",
    "### Lab 1: Flexible Calculator (유연한 계산기)\n",
    "\n",
    "**Problem (문제)**: Create a calculator with default parameters and keyword arguments.\n",
    "기본 매개변수와 키워드 인수가 있는 계산기를 만드세요.\n",
    "\n",
    "**Solution (정답)**:"
   ]
  },
  {
   "cell_type": "code",
   "execution_count": null,
   "id": "ed965240",
   "metadata": {},
   "outputs": [],
   "source": [
    "def calculate(num1, num2, operation=\"add\", show_steps=False):\n",
    "    \"\"\"Flexible calculator with default operation\"\"\"\n",
    "    \n",
    "    if show_steps:\n",
    "        print(f\"Calculating: {num1} {operation} {num2}\")\n",
    "    \n",
    "    if operation == \"add\":\n",
    "        result = num1 + num2\n",
    "    elif operation == \"subtract\":\n",
    "        result = num1 - num2\n",
    "    elif operation == \"multiply\":\n",
    "        result = num1 * num2\n",
    "    elif operation == \"divide\":\n",
    "        if num2 != 0:\n",
    "            result = num1 / num2\n",
    "        else:\n",
    "            return \"Cannot divide by zero!\"\n",
    "    else:\n",
    "        return \"Invalid operation\"\n",
    "    \n",
    "    if show_steps:\n",
    "        print(f\"Result: {result}\")\n",
    "    \n",
    "    return result\n",
    "\n",
    "# Test the calculator\n",
    "print(\"=== CALCULATOR TEST ===\")\n",
    "print(calculate(10, 5))  # Default: add\n",
    "print(calculate(10, 5, \"multiply\"))\n",
    "print(calculate(num1=20, num2=4, operation=\"divide\", show_steps=True))\n",
    "print(calculate(operation=\"subtract\", num1=15, num2=7))"
   ]
  },
  {
   "cell_type": "markdown",
   "id": "70fc8fe2",
   "metadata": {
    "lines_to_next_cell": 0
   },
   "source": [
    "### Lab 2: Global Score Tracker (전역 점수 추적기)\n",
    "\n",
    "**Problem (문제)**: Create a simple game score system using global variables.\n",
    "전역변수를 사용하여 간단한 게임 점수 시스템을 만드세요.\n",
    "\n",
    "**Solution (정답)**:"
   ]
  },
  {
   "cell_type": "code",
   "execution_count": null,
   "id": "66f83e5b",
   "metadata": {},
   "outputs": [],
   "source": [
    "# Global variables\n",
    "player_score = 0\n",
    "player_level = 1\n",
    "\n",
    "def add_points(points):\n",
    "    global player_score\n",
    "    player_score += points\n",
    "    print(f\"Added {points} points! Total: {player_score}\")\n",
    "\n",
    "def level_up():\n",
    "    global player_level, player_score\n",
    "    player_level += 1\n",
    "    bonus = player_level * 100\n",
    "    player_score += bonus\n",
    "    print(f\"Level up! Now level {player_level}\")\n",
    "    print(f\"Bonus: {bonus} points! Total: {player_score}\")\n",
    "\n",
    "def show_status():\n",
    "    print(f\"Player Status - Level: {player_level}, Score: {player_score}\")\n",
    "\n",
    "def reset_game():\n",
    "    global player_score, player_level\n",
    "    player_score = 0\n",
    "    player_level = 1\n",
    "    print(\"Game reset!\")\n",
    "\n",
    "# Test the system\n",
    "print(\"=== GAME SCORE SYSTEM ===\")\n",
    "show_status()\n",
    "add_points(250)\n",
    "add_points(150)\n",
    "level_up()\n",
    "show_status()\n",
    "reset_game()\n",
    "show_status()"
   ]
  },
  {
   "cell_type": "markdown",
   "id": "f1b10339",
   "metadata": {
    "lines_to_next_cell": 0
   },
   "source": [
    "### Lab 3: Student Grade System (학생 성적 시스템)\n",
    "\n",
    "**Problem (문제)**: Create a grade system where functions work together.\n",
    "함수들이 함께 작동하는 성적 시스템을 만드세요.\n",
    "\n",
    "**Solution (정답)**:"
   ]
  },
  {
   "cell_type": "code",
   "execution_count": null,
   "id": "16e7121e",
   "metadata": {},
   "outputs": [],
   "source": [
    "def calculate_average(scores):\n",
    "    return sum(scores) / len(scores) if scores else 0\n",
    "\n",
    "def determine_grade(average):\n",
    "    if average >= 90: return \"A\"\n",
    "    elif average >= 80: return \"B\"\n",
    "    elif average >= 70: return \"C\"\n",
    "    elif average >= 60: return \"D\"\n",
    "    else: return \"F\"\n",
    "\n",
    "def get_status(grade):\n",
    "    if grade in [\"A\", \"B\"]:\n",
    "        return \"Excellent\"\n",
    "    elif grade == \"C\":\n",
    "        return \"Good\"\n",
    "    else:\n",
    "        return \"Needs Improvement\"\n",
    "\n",
    "def create_report(name, scores, show_details=True):\n",
    "    print(f\"\\n=== GRADE REPORT: {name} ===\")\n",
    "    \n",
    "    if show_details:\n",
    "        print(f\"Scores: {scores}\")\n",
    "    \n",
    "    average = calculate_average(scores)\n",
    "    print(f\"Average: {average:.2f}\")\n",
    "    \n",
    "    grade = determine_grade(average)\n",
    "    print(f\"Grade: {grade}\")\n",
    "    \n",
    "    status = get_status(grade)\n",
    "    print(f\"Status: {status}\")\n",
    "    \n",
    "    return grade\n",
    "\n",
    "# Test the system\n",
    "print(\"=== STUDENT GRADE SYSTEM ===\")\n",
    "alice_grade = create_report(\"Alice\", [85, 92, 78, 90])\n",
    "bob_grade = create_report(\"Bob\", [95, 88, 94], show_details=False)"
   ]
  },
  {
   "cell_type": "markdown",
   "id": "1d799f85",
   "metadata": {
    "lines_to_next_cell": 0
   },
   "source": [
    "---\n",
    "\n",
    "## 📝 Quiz Section (퀴즈)\n",
    "\n",
    "### Quiz 1: Default Parameters (기본 매개변수)\n",
    "\n",
    "**Question**: Create a function called `book_ticket` that takes these parameters:\n",
    "`book_ticket` 함수를 만드세요. 다음 매개변수들을 받습니다:\n",
    "\n",
    "- `destination` (required - 필수)\n",
    "- `passenger_name` (required - 필수)\n",
    "- `seat_class` (default: \"economy\" - 기본값: \"economy\")\n",
    "- `meal_preference` (default: \"none\" - 기본값: \"none\")\n",
    "\n",
    "The function should return a formatted booking confirmation. Test it with different parameter combinations.\n",
    "함수는 형식화된 예약 확인서를 반환해야 합니다. 다양한 매개변수 조합으로 테스트하세요.\n",
    "\n",
    "**Write your answer here (답을 여기에 작성하세요)**:"
   ]
  },
  {
   "cell_type": "code",
   "execution_count": null,
   "id": "e6c7530d",
   "metadata": {},
   "outputs": [],
   "source": [
    "# Your code here"
   ]
  },
  {
   "cell_type": "markdown",
   "id": "dd2b02a1",
   "metadata": {
    "lines_to_next_cell": 0
   },
   "source": [
    "### Quiz 2: Global Variables (전역변수)\n",
    "\n",
    "**Question**: Create a simple inventory system with these global variables and functions:\n",
    "다음 전역변수와 함수들로 간단한 재고 시스템을 만드세요:\n",
    "\n",
    "- Global variables: `inventory_count`, `item_name` (전역변수: 재고 수량, 상품명)\n",
    "- `set_item(name, count)` - initialize inventory (재고 초기화)\n",
    "- `add_stock(amount)` - add items to inventory (재고 추가)\n",
    "- `sell_item(amount)` - remove items if enough stock (판매 - 충분한 재고가 있는 경우)\n",
    "- `check_inventory()` - show current status (재고 확인)\n",
    "\n",
    "**Write your answer here (답을 여기에 작성하세요)**:"
   ]
  },
  {
   "cell_type": "code",
   "execution_count": null,
   "id": "e73050da",
   "metadata": {},
   "outputs": [],
   "source": [
    "# Your code here"
   ]
  },
  {
   "cell_type": "markdown",
   "id": "a9f59933",
   "metadata": {
    "lines_to_next_cell": 0
   },
   "source": [
    "### Quiz 3: Functions Working Together (함수 협력)\n",
    "\n",
    "**Question**: Create a simple restaurant bill calculator with these functions:\n",
    "다음 함수들로 간단한 식당 계산서 계산기를 만드세요:\n",
    "\n",
    "- `calculate_subtotal(items)` - calculate total of item prices (소계 계산)\n",
    "- `calculate_tax(subtotal, rate=0.08)` - calculate tax amount (세금 계산)\n",
    "- `calculate_tip(subtotal, percentage=15)` - calculate tip (팁 계산)\n",
    "- `generate_bill(items, tax_rate=0.08, tip_percentage=15)` - use all functions to create final bill (최종 계산서 생성)\n",
    "\n",
    "Test with sample data: `[{\"item\": \"burger\", \"price\": 12.99}, {\"item\": \"fries\", \"price\": 4.50}]`\n",
    "\n",
    "**Write your answer here (답을 여기에 작성하세요)**:"
   ]
  },
  {
   "cell_type": "code",
   "execution_count": null,
   "id": "4d843820",
   "metadata": {},
   "outputs": [],
   "source": [
    "# Your code here"
   ]
  },
  {
   "cell_type": "markdown",
   "id": "9ae54aa7",
   "metadata": {},
   "source": [
    "---\n",
    "\n",
    "## 📖 References (참고)\n",
    "\n",
    "1. **Python Default Arguments**: https://docs.python.org/3/tutorial/controlflow.html#default-argument-values\n",
    "2. **Python Scope**: https://www.w3schools.com/python/python_scope.asp\n",
    "3. **Function Best Practices**: https://realpython.com/defining-your-own-python-function/\n",
    "\n",
    "---\n",
    "\n",
    "## 💡 Key Takeaways (핵심 요점)\n",
    "\n",
    "### Remember These Rules (이 규칙들을 기억하세요)\n",
    "1. **Default parameters** come after required parameters (기본 매개변수는 필수 매개변수 뒤에)\n",
    "2. **Keyword arguments** make function calls clearer (키워드 인수는 함수 호출을 더 명확하게)\n",
    "3. Use **global** keyword to modify global variables in functions (함수에서 전역변수를 수정할 때 global 키워드 사용)\n",
    "4. **Break complex problems** into smaller functions (복잡한 문제를 더 작은 함수로 나누기)\n",
    "\n",
    "### Next Week Preview (다음 주 미리보기)\n",
    "Next week: **File Input/Output** - Reading and writing files, handling data from external sources\n",
    "다음 주: **파일 입출력** - 파일 읽기와 쓰기, 외부 소스에서 데이터 처리\n",
    "\n",
    "---\n",
    "\n",
    "## 📋 Homework (숙제)\n",
    "\n",
    "1. Complete all three lab exercises (3개 실습 모두 완료)\n",
    "2. Create a simple menu system using functions with default parameters (기본 매개변수가 있는 함수를 사용하여 간단한 메뉴 시스템 생성)\n",
    "3. Practice using keyword arguments in your function calls (함수 호출에서 키워드 인수 사용 연습)\n",
    "\n",
    "**Great work on advanced functions! You're building stronger programming skills!** 🚀  \n",
    "**고급 함수 학습을 훌륭히 해내셨습니다! 더 강한 프로그래밍 기술을 쌓고 있습니다!** 🚀"
   ]
  }
 ],
 "metadata": {
  "jupytext": {
   "cell_metadata_filter": "-all",
   "main_language": "python",
   "notebook_metadata_filter": "-all"
  }
 },
 "nbformat": 4,
 "nbformat_minor": 5
}
