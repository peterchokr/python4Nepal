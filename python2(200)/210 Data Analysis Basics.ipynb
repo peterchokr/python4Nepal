{
 "cells": [
  {
   "cell_type": "markdown",
   "id": "bdd6167d",
   "metadata": {},
   "source": [
    "# Data Analysis Basics\n",
    "**데이터 분석 기초**\n",
    "\n",
    "**Duration (수업 시간)**: 3 hours (3시간)  \n",
    "**Structure (구성)**: Lecture & Lab 2 hours + Quiz 1 hour (강의 및 실습 2시간 + 퀴즈 1시간)  \n",
    "**Level (수준)**: Intermediate (중급)\n",
    "\n",
    "---\n",
    "\n",
    "## Learning Objectives (학습 목표)\n",
    "\n",
    "By the end of this lesson, students will be able to:\n",
    "이 수업을 마친 후 학생들은 다음을 할 수 있습니다:\n",
    "\n",
    "- Calculate basic statistics from data (데이터에서 기본 통계 계산)\n",
    "- Filter data based on simple conditions (간단한 조건으로 데이터 필터링)\n",
    "- Group data and find totals (데이터 그룹화 및 총계 구하기)\n",
    "\n",
    "---\n",
    "\n",
    "## 1. What is Data Analysis? (데이터 분석이란?)\n",
    "\n",
    "Data analysis means looking at numbers to find answers. Like counting how many students passed a test.\n",
    "데이터 분석은 답을 찾기 위해 숫자를 보는 것을 의미합니다. 시험에 합격한 학생 수를 세는 것과 같습니다.\n",
    "\n",
    "### Simple Example (간단한 예시)"
   ]
  },
  {
   "cell_type": "code",
   "execution_count": null,
   "id": "5053b757",
   "metadata": {},
   "outputs": [],
   "source": [
    "# Test scores\n",
    "scores = [85, 92, 78, 96, 83]\n",
    "\n",
    "# Basic analysis\n",
    "total = sum(scores)\n",
    "count = len(scores)\n",
    "average = total / count\n",
    "\n",
    "print(f\"Number of students: {count}\")\n",
    "print(f\"Average score: {average}\")\n",
    "print(f\"Highest score: {max(scores)}\")\n",
    "print(f\"Lowest score: {min(scores)}\")"
   ]
  },
  {
   "cell_type": "markdown",
   "id": "087a3c68",
   "metadata": {},
   "source": [
    "---\n",
    "\n",
    "## 2. Basic Statistics (기본 통계)\n",
    "\n",
    "The most important numbers you need to know:\n",
    "알아야 할 가장 중요한 숫자들:\n",
    "\n",
    "- **Sum**: Add all numbers (합계: 모든 숫자 더하기)\n",
    "- **Average**: Sum divided by count (평균: 합계를 개수로 나누기)\n",
    "- **Maximum**: Biggest number (최대값: 가장 큰 숫자)\n",
    "- **Minimum**: Smallest number (최소값: 가장 작은 숫자)\n",
    "\n",
    "### Simple Statistics Function (간단한 통계 함수)"
   ]
  },
  {
   "cell_type": "code",
   "execution_count": null,
   "id": "a3ead911",
   "metadata": {},
   "outputs": [],
   "source": [
    "def calculate_stats(numbers):\n",
    "    if len(numbers) == 0:\n",
    "        return \"No data\"\n",
    "    \n",
    "    total = sum(numbers)\n",
    "    count = len(numbers)\n",
    "    average = total / count\n",
    "    \n",
    "    return {\n",
    "        'total': total,\n",
    "        'count': count,\n",
    "        'average': round(average, 1),\n",
    "        'max': max(numbers),\n",
    "        'min': min(numbers)\n",
    "    }\n",
    "\n",
    "# Test it\n",
    "grades = [88, 92, 76, 85, 90]\n",
    "stats = calculate_stats(grades)\n",
    "\n",
    "for key, value in stats.items():\n",
    "    print(f\"{key}: {value}\")"
   ]
  },
  {
   "cell_type": "markdown",
   "id": "fcb008b7",
   "metadata": {},
   "source": [
    "---\n",
    "\n",
    "## 3. Filtering Data (데이터 필터링)\n",
    "\n",
    "Filtering means selecting only the data you want. Like finding all students who scored above 80.\n",
    "필터링은 원하는 데이터만 선택하는 것을 의미합니다. 80점 이상 받은 모든 학생을 찾는 것과 같습니다.\n",
    "\n",
    "### Basic Filtering (기본 필터링)"
   ]
  },
  {
   "cell_type": "code",
   "execution_count": null,
   "id": "87fe999b",
   "metadata": {},
   "outputs": [],
   "source": [
    "# Student data\n",
    "students = [\n",
    "    {'name': 'Alice', 'grade': 92},\n",
    "    {'name': 'Bob', 'grade': 78},\n",
    "    {'name': 'Carol', 'grade': 85},\n",
    "    {'name': 'David', 'grade': 95}\n",
    "]\n",
    "\n",
    "# Find students with grade >= 85\n",
    "good_students = []\n",
    "for student in students:\n",
    "    if student['grade'] >= 85:\n",
    "        good_students.append(student)\n",
    "\n",
    "print(\"Students with grade 85 or higher:\")\n",
    "for student in good_students:\n",
    "    print(f\"{student['name']}: {student['grade']}\")"
   ]
  },
  {
   "cell_type": "markdown",
   "id": "7cb91b36",
   "metadata": {},
   "source": [
    "---\n",
    "\n",
    "## 4. Grouping Data (데이터 그룹화)\n",
    "\n",
    "Grouping means putting similar things together and counting them.\n",
    "그룹화는 비슷한 것들을 함께 모아서 개수를 세는 것을 의미합니다.\n",
    "\n",
    "### Simple Grouping Example (간단한 그룹화 예시)"
   ]
  },
  {
   "cell_type": "code",
   "execution_count": null,
   "id": "b5050a6f",
   "metadata": {},
   "outputs": [],
   "source": [
    "# Sales by month\n",
    "sales = [\n",
    "    {'month': 'January', 'amount': 1000},\n",
    "    {'month': 'February', 'amount': 1500},\n",
    "    {'month': 'January', 'amount': 800},\n",
    "    {'month': 'February', 'amount': 1200}\n",
    "]\n",
    "\n",
    "# Group by month\n",
    "monthly_totals = {}\n",
    "for sale in sales:\n",
    "    month = sale['month']\n",
    "    amount = sale['amount']\n",
    "    \n",
    "    if month in monthly_totals:\n",
    "        monthly_totals[month] += amount\n",
    "    else:\n",
    "        monthly_totals[month] = amount\n",
    "\n",
    "print(\"Monthly totals:\")\n",
    "for month, total in monthly_totals.items():\n",
    "    print(f\"{month}: ${total}\")"
   ]
  },
  {
   "cell_type": "markdown",
   "id": "1cb96b00",
   "metadata": {
    "lines_to_next_cell": 0
   },
   "source": [
    "---\n",
    "\n",
    "## Lab Exercises (실습)\n",
    "\n",
    "### Lab 1: Student Grade Analysis (학생 성적 분석)\n",
    "\n",
    "**Problem**: Calculate statistics for student grades.\n",
    "문제: 학생 성적의 통계를 계산하세요.\n",
    "\n",
    "**Data:**"
   ]
  },
  {
   "cell_type": "code",
   "execution_count": null,
   "id": "cc88d559",
   "metadata": {},
   "outputs": [],
   "source": [
    "grades = [88, 92, 76, 95, 83, 89, 91, 87]"
   ]
  },
  {
   "cell_type": "markdown",
   "id": "96af52d6",
   "metadata": {},
   "source": [
    "**Solution**:"
   ]
  },
  {
   "cell_type": "code",
   "execution_count": null,
   "id": "7b655d60",
   "metadata": {},
   "outputs": [],
   "source": [
    "grades = [88, 92, 76, 95, 83, 89, 91, 87]\n",
    "\n",
    "# Calculate basic statistics\n",
    "total = sum(grades)\n",
    "count = len(grades)\n",
    "average = total / count\n",
    "\n",
    "print(f\"Total students: {count}\")\n",
    "print(f\"Average grade: {average:.1f}\")\n",
    "print(f\"Highest grade: {max(grades)}\")\n",
    "print(f\"Lowest grade: {min(grades)}\")\n",
    "\n",
    "# Count grades above average\n",
    "above_average = 0\n",
    "for grade in grades:\n",
    "    if grade > average:\n",
    "        above_average += 1\n",
    "\n",
    "print(f\"Students above average: {above_average}\")"
   ]
  },
  {
   "cell_type": "markdown",
   "id": "7743c81f",
   "metadata": {
    "lines_to_next_cell": 0
   },
   "source": [
    "### Lab 2: Sales Data Analysis (판매 데이터 분석)\n",
    "\n",
    "**Problem**: Find monthly sales totals and best month.\n",
    "문제: 월별 판매 총계와 최고의 달을 찾으세요.\n",
    "\n",
    "**Data:**"
   ]
  },
  {
   "cell_type": "code",
   "execution_count": null,
   "id": "659395ca",
   "metadata": {},
   "outputs": [],
   "source": [
    "sales = [\n",
    "    {'month': 'Jan', 'sales': 5000},\n",
    "    {'month': 'Feb', 'sales': 6000},\n",
    "    {'month': 'Jan', 'sales': 3000},\n",
    "    {'month': 'Feb', 'sales': 4000},\n",
    "    {'month': 'Mar', 'sales': 7000}\n",
    "]"
   ]
  },
  {
   "cell_type": "markdown",
   "id": "c186384f",
   "metadata": {},
   "source": [
    "**Solution**:"
   ]
  },
  {
   "cell_type": "code",
   "execution_count": null,
   "id": "d0e9857d",
   "metadata": {},
   "outputs": [],
   "source": [
    "sales = [\n",
    "    {'month': 'Jan', 'sales': 5000},\n",
    "    {'month': 'Feb', 'sales': 6000},\n",
    "    {'month': 'Jan', 'sales': 3000},\n",
    "    {'month': 'Feb', 'sales': 4000},\n",
    "    {'month': 'Mar', 'sales': 7000}\n",
    "]\n",
    "\n",
    "# Calculate monthly totals\n",
    "monthly_totals = {}\n",
    "for sale in sales:\n",
    "    month = sale['month']\n",
    "    amount = sale['sales']\n",
    "    \n",
    "    if month in monthly_totals:\n",
    "        monthly_totals[month] += amount\n",
    "    else:\n",
    "        monthly_totals[month] = amount\n",
    "\n",
    "# Display results\n",
    "print(\"Monthly sales:\")\n",
    "for month, total in monthly_totals.items():\n",
    "    print(f\"{month}: ${total}\")\n",
    "\n",
    "# Find best month\n",
    "best_month = \"\"\n",
    "best_sales = 0\n",
    "for month, total in monthly_totals.items():\n",
    "    if total > best_sales:\n",
    "        best_sales = total\n",
    "        best_month = month\n",
    "\n",
    "print(f\"Best month: {best_month} with ${best_sales}\")"
   ]
  },
  {
   "cell_type": "markdown",
   "id": "dedf89a4",
   "metadata": {
    "lines_to_next_cell": 0
   },
   "source": [
    "### Lab 3: Survey Analysis (설문조사 분석)\n",
    "\n",
    "**Problem**: Count survey responses and calculate satisfaction average.\n",
    "문제: 설문 응답을 세고 만족도 평균을 계산하세요.\n",
    "\n",
    "**Data:**"
   ]
  },
  {
   "cell_type": "code",
   "execution_count": null,
   "id": "f1ad3503",
   "metadata": {},
   "outputs": [],
   "source": [
    "responses = [\n",
    "    {'age': '18-25', 'satisfaction': 4},\n",
    "    {'age': '26-35', 'satisfaction': 5},\n",
    "    {'age': '18-25', 'satisfaction': 3},\n",
    "    {'age': '26-35', 'satisfaction': 4}\n",
    "]"
   ]
  },
  {
   "cell_type": "markdown",
   "id": "c4f10b69",
   "metadata": {},
   "source": [
    "**Solution**:"
   ]
  },
  {
   "cell_type": "code",
   "execution_count": null,
   "id": "561de0be",
   "metadata": {},
   "outputs": [],
   "source": [
    "responses = [\n",
    "    {'age': '18-25', 'satisfaction': 4},\n",
    "    {'age': '26-35', 'satisfaction': 5},\n",
    "    {'age': '18-25', 'satisfaction': 3},\n",
    "    {'age': '26-35', 'satisfaction': 4}\n",
    "]\n",
    "\n",
    "# Calculate overall satisfaction\n",
    "total_satisfaction = 0\n",
    "count = 0\n",
    "for response in responses:\n",
    "    total_satisfaction += response['satisfaction']\n",
    "    count += 1\n",
    "\n",
    "average_satisfaction = total_satisfaction / count\n",
    "\n",
    "print(f\"Total responses: {count}\")\n",
    "print(f\"Average satisfaction: {average_satisfaction:.1f}/5\")\n",
    "\n",
    "# Count by age group\n",
    "age_counts = {}\n",
    "for response in responses:\n",
    "    age = response['age']\n",
    "    if age in age_counts:\n",
    "        age_counts[age] += 1\n",
    "    else:\n",
    "        age_counts[age] = 1\n",
    "\n",
    "print(\"Responses by age group:\")\n",
    "for age, count in age_counts.items():\n",
    "    print(f\"{age}: {count} responses\")"
   ]
  },
  {
   "cell_type": "markdown",
   "id": "73e96014",
   "metadata": {
    "lines_to_next_cell": 0
   },
   "source": [
    "---\n",
    "\n",
    "## Quiz Section (퀴즈)\n",
    "\n",
    "### Quiz 1: Basic Statistics\n",
    "\n",
    "**Question**: Calculate average, maximum, and minimum from this list: [75, 88, 92, 67, 83, 90]. Also count how many scores are above 80.\n",
    "\n",
    "이 리스트에서 평균, 최대값, 최소값을 계산하세요: [75, 88, 92, 67, 83, 90]. 또한 80점 이상인 점수가 몇 개인지 세어보세요.\n",
    "\n",
    "**Write your answer here (답을 여기에 작성하세요)**:"
   ]
  },
  {
   "cell_type": "code",
   "execution_count": null,
   "id": "cbd3e0b5",
   "metadata": {},
   "outputs": [],
   "source": [
    "# Your code here"
   ]
  },
  {
   "cell_type": "markdown",
   "id": "a8dbb84e",
   "metadata": {},
   "source": [
    "### Quiz 2: Data Filtering\n",
    "\n",
    "**Question**: From the list of products below, find and print only products with price less than $50.\n",
    "\n",
    "아래 제품 리스트에서 가격이 $50 미만인 제품만 찾아서 출력하세요."
   ]
  },
  {
   "cell_type": "code",
   "execution_count": null,
   "id": "18a3654e",
   "metadata": {},
   "outputs": [],
   "source": [
    "products = [\n",
    "    {'name': 'Book', 'price': 25},\n",
    "    {'name': 'Pen', 'price': 5},\n",
    "    {'name': 'Laptop', 'price': 800},\n",
    "    {'name': 'Mouse', 'price': 30}\n",
    "]"
   ]
  },
  {
   "cell_type": "markdown",
   "id": "d46e0677",
   "metadata": {
    "lines_to_next_cell": 0
   },
   "source": [
    "**Write your answer here (답을 여기에 작성하세요)**:"
   ]
  },
  {
   "cell_type": "code",
   "execution_count": null,
   "id": "5763099d",
   "metadata": {},
   "outputs": [],
   "source": [
    "# Your code here"
   ]
  },
  {
   "cell_type": "markdown",
   "id": "47973635",
   "metadata": {},
   "source": [
    "### Quiz 3: Data Grouping\n",
    "\n",
    "**Question**: Calculate total sales for each salesperson from the data below.\n",
    "\n",
    "아래 데이터에서 각 판매원의 총 판매액을 계산하세요."
   ]
  },
  {
   "cell_type": "code",
   "execution_count": null,
   "id": "8d97d3fc",
   "metadata": {},
   "outputs": [],
   "source": [
    "sales_data = [\n",
    "    {'person': 'Alice', 'amount': 100},\n",
    "    {'person': 'Bob', 'amount': 150},\n",
    "    {'person': 'Alice', 'amount': 200},\n",
    "    {'person': 'Bob', 'amount': 75}\n",
    "]"
   ]
  },
  {
   "cell_type": "markdown",
   "id": "9a06afa1",
   "metadata": {
    "lines_to_next_cell": 0
   },
   "source": [
    "**Write your answer here (답을 여기에 작성하세요)**:"
   ]
  },
  {
   "cell_type": "code",
   "execution_count": null,
   "id": "9e4db30d",
   "metadata": {},
   "outputs": [],
   "source": [
    "# Your code here"
   ]
  },
  {
   "cell_type": "markdown",
   "id": "dc5dd330",
   "metadata": {},
   "source": [
    "---\n",
    "\n",
    "## References (참고)\n",
    "\n",
    "1. **Python Data Basics**: https://docs.python.org/3/tutorial/datastructures.html\n",
    "2. **Simple Statistics**: https://www.programiz.com/python-programming/statistics\n",
    "3. **Data Processing Tutorial**: https://realpython.com/python-data-analysis/\n",
    "\n",
    "---\n",
    "\n",
    "## Key Points (핵심 포인트)\n",
    "\n",
    "### Remember (기억하세요)\n",
    "1. **Basic stats: sum, average, max, min** (기본 통계: 합계, 평균, 최대, 최소)\n",
    "2. **Filtering: select data that meets conditions** (필터링: 조건을 만족하는 데이터 선택)\n",
    "3. **Grouping: put similar things together** (그룹화: 비슷한 것들을 함께 모으기)\n",
    "\n",
    "### Next Week Preview (다음 주 미리보기)\n",
    "Next week: **Matplotlib Basics** - Making simple charts and graphs\n",
    "다음 주: **Matplotlib 기초** - 간단한 차트와 그래프 만들기\n",
    "\n",
    "---\n",
    "\n",
    "## Homework (숙제)\n",
    "\n",
    "1. Complete all three lab exercises (3개 실습 모두 완료)\n",
    "2. Practice with your own simple data (자신만의 간단한 데이터로 연습)\n",
    "3. Try calculating statistics for different types of numbers (다른 종류의 숫자로 통계 계산 시도)\n",
    "\n",
    "**Data analysis helps you understand your data better!**\n",
    "**데이터 분석은 데이터를 더 잘 이해하는 데 도움이 됩니다!**"
   ]
  }
 ],
 "metadata": {
  "jupytext": {
   "cell_metadata_filter": "-all",
   "main_language": "python",
   "notebook_metadata_filter": "-all"
  },
  "language_info": {
   "name": "python"
  }
 },
 "nbformat": 4,
 "nbformat_minor": 5
}
