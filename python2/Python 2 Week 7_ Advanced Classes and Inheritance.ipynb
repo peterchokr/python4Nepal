{
 "cells": [
  {
   "cell_type": "markdown",
   "id": "2bce3859",
   "metadata": {},
   "source": [
    "# Week 7: Advanced Classes and Inheritance\n",
    "**클래스 고급 및 상속**\n",
    "\n",
    "**Duration (수업 시간)**: 3 hours (3시간)  \n",
    "**Structure (구성)**: Lecture & Lab 2 hours + Quiz 1 hour (강의 및 실습 2시간 + 퀴즈 1시간)  \n",
    "**Level (수준)**: Intermediate (중급)\n",
    "\n",
    "---\n",
    "\n",
    "## Learning Objectives (학습 목표)\n",
    "\n",
    "By the end of this lesson, students will be able to:\n",
    "이 수업을 마친 후 학생들은 다음을 할 수 있습니다:\n",
    "\n",
    "- Understand what inheritance is and why it's useful (상속이 무엇이고 왜 유용한지 이해)\n",
    "- Create parent and child classes (부모 클래스와 자식 클래스 생성)\n",
    "- Use super() function to call parent methods (super() 함수를 사용하여 부모 메소드 호출)\n",
    "- Override methods in child classes (자식 클래스에서 메소드 오버라이딩)\n",
    "\n",
    "---\n",
    "\n",
    "## 1. What is Inheritance? (상속이란?)\n",
    "\n",
    "Inheritance is like a family. Children get traits from their parents, but they can also be different.\n",
    "상속은 가족과 같습니다. 아이들은 부모로부터 특성을 받지만, 다를 수도 있습니다.\n",
    "\n",
    "### Simple Example (간단한 예시)"
   ]
  },
  {
   "cell_type": "code",
   "execution_count": null,
   "id": "c11b6bae",
   "metadata": {},
   "outputs": [],
   "source": [
    "# Parent class\n",
    "class Animal:\n",
    "    def __init__(self, name):\n",
    "        self.name = name\n",
    "    \n",
    "    def eat(self):\n",
    "        return f\"{self.name} is eating\"\n",
    "    \n",
    "    def sleep(self):\n",
    "        return f\"{self.name} is sleeping\"\n",
    "\n",
    "# Child class\n",
    "class Dog(Animal):\n",
    "    def bark(self):\n",
    "        return f\"{self.name} says Woof!\"\n",
    "\n",
    "# Using inheritance\n",
    "my_dog = Dog(\"Buddy\")\n",
    "print(my_dog.eat())    # From parent class\n",
    "print(my_dog.sleep())  # From parent class  \n",
    "print(my_dog.bark())   # From child class"
   ]
  },
  {
   "cell_type": "markdown",
   "id": "5773d286",
   "metadata": {},
   "source": [
    "### Why Use Inheritance? (왜 상속을 사용하나요?)\n",
    "\n",
    "- **Save time**: Don't write the same code again (시간 절약: 같은 코드를 다시 쓰지 않음)\n",
    "- **Organization**: Keep similar things together (조직화: 비슷한 것들을 함께 유지)\n",
    "- **Easy updates**: Change parent, all children get the change (쉬운 업데이트: 부모를 변경하면 모든 자식이 변경됨)\n",
    "\n",
    "---\n",
    "\n",
    "## 2. Creating Parent and Child Classes (부모 클래스와 자식 클래스 생성)\n",
    "\n",
    "### Basic Pattern (기본 패턴)"
   ]
  },
  {
   "cell_type": "code",
   "execution_count": null,
   "id": "eb91fd32",
   "metadata": {},
   "outputs": [],
   "source": [
    "class Parent:\n",
    "    # Parent methods here\n",
    "    pass\n",
    "\n",
    "class Child(Parent):\n",
    "    # Child gets everything from Parent\n",
    "    # Plus can add new things\n",
    "    pass"
   ]
  },
  {
   "cell_type": "markdown",
   "id": "55b67119",
   "metadata": {},
   "source": [
    "### Real Example (실제 예시)"
   ]
  },
  {
   "cell_type": "code",
   "execution_count": null,
   "id": "a8b98576",
   "metadata": {},
   "outputs": [],
   "source": [
    "class Vehicle:\n",
    "    def __init__(self, brand):\n",
    "        self.brand = brand\n",
    "    \n",
    "    def start(self):\n",
    "        return f\"{self.brand} is starting\"\n",
    "    \n",
    "    def stop(self):\n",
    "        return f\"{self.brand} is stopping\"\n",
    "\n",
    "class Car(Vehicle):\n",
    "    def honk(self):\n",
    "        return f\"{self.brand} goes Beep!\"\n",
    "\n",
    "class Bike(Vehicle):\n",
    "    def ring_bell(self):\n",
    "        return f\"{self.brand} goes Ring!\"\n",
    "\n",
    "# Test both types\n",
    "car = Car(\"Toyota\")\n",
    "bike = Bike(\"Honda\")\n",
    "\n",
    "print(car.start())      # Inherited\n",
    "print(car.honk())       # Car only\n",
    "print(bike.start())     # Inherited  \n",
    "print(bike.ring_bell()) # Bike only"
   ]
  },
  {
   "cell_type": "markdown",
   "id": "18daf9b4",
   "metadata": {},
   "source": [
    "---\n",
    "\n",
    "## 3. The super() Function (super() 함수)\n",
    "\n",
    "**super()** lets you use parent class methods. It's like asking your parent for help.\n",
    "**super()**는 부모 클래스 메소드를 사용할 수 있게 해줍니다. 부모에게 도움을 요청하는 것과 같습니다.\n",
    "\n",
    "### Using super() in __init__ (__init__에서 super() 사용)"
   ]
  },
  {
   "cell_type": "code",
   "execution_count": null,
   "id": "1bdd9731",
   "metadata": {},
   "outputs": [],
   "source": [
    "class Person:\n",
    "    def __init__(self, name, age):\n",
    "        self.name = name\n",
    "        self.age = age\n",
    "    \n",
    "    def introduce(self):\n",
    "        return f\"Hi, I'm {self.name}\"\n",
    "\n",
    "class Student(Person):\n",
    "    def __init__(self, name, age, school):\n",
    "        super().__init__(name, age)  # Call parent __init__\n",
    "        self.school = school\n",
    "    \n",
    "    def introduce(self):\n",
    "        parent_intro = super().introduce()  # Get parent intro\n",
    "        return f\"{parent_intro} and I study at {self.school}\"\n",
    "\n",
    "# Test it\n",
    "student = Student(\"Alice\", 18, \"Python High School\")\n",
    "print(student.introduce())"
   ]
  },
  {
   "cell_type": "markdown",
   "id": "9ffc7ee1",
   "metadata": {},
   "source": [
    "---\n",
    "\n",
    "## 4. Method Overriding (메소드 오버라이딩)\n",
    "\n",
    "You can change how parent methods work in child classes. This is called **overriding**.\n",
    "자식 클래스에서 부모 메소드가 작동하는 방식을 변경할 수 있습니다. 이를 **오버라이딩**이라고 합니다.\n",
    "\n",
    "### Simple Override Example (간단한 오버라이드 예시)"
   ]
  },
  {
   "cell_type": "code",
   "execution_count": null,
   "id": "72d7abfe",
   "metadata": {},
   "outputs": [],
   "source": [
    "class Animal:\n",
    "    def __init__(self, name):\n",
    "        self.name = name\n",
    "    \n",
    "    def make_sound(self):\n",
    "        return f\"{self.name} makes a sound\"\n",
    "\n",
    "class Cat(Animal):\n",
    "    def make_sound(self):  # Override parent method\n",
    "        return f\"{self.name} says Meow!\"\n",
    "\n",
    "class Dog(Animal):\n",
    "    def make_sound(self):  # Different override\n",
    "        return f\"{self.name} says Woof!\"\n",
    "\n",
    "# Test overriding\n",
    "cat = Cat(\"Fluffy\")\n",
    "dog = Dog(\"Rex\")\n",
    "\n",
    "print(cat.make_sound())  # Cat version\n",
    "print(dog.make_sound())  # Dog version"
   ]
  },
  {
   "cell_type": "markdown",
   "id": "6f1f81cd",
   "metadata": {},
   "source": [
    "---\n",
    "\n",
    "## Lab Exercises (실습)\n",
    "\n",
    "### Lab 1: Simple Employee System (간단한 직원 시스템)\n",
    "\n",
    "**Problem**: Create Employee parent class and Manager child class.\n",
    "문제: Employee 부모 클래스와 Manager 자식 클래스를 만드세요.\n",
    "\n",
    "**Solution**:"
   ]
  },
  {
   "cell_type": "code",
   "execution_count": null,
   "id": "ba98d5da",
   "metadata": {},
   "outputs": [],
   "source": [
    "class Employee:\n",
    "    def __init__(self, name, salary):\n",
    "        self.name = name\n",
    "        self.salary = salary\n",
    "    \n",
    "    def work(self):\n",
    "        return f\"{self.name} is working\"\n",
    "    \n",
    "    def get_info(self):\n",
    "        return f\"Employee: {self.name}, Salary: ${self.salary}\"\n",
    "\n",
    "class Manager(Employee):\n",
    "    def __init__(self, name, salary, team_size):\n",
    "        super().__init__(name, salary)\n",
    "        self.team_size = team_size\n",
    "    \n",
    "    def work(self):\n",
    "        return f\"{self.name} is managing {self.team_size} people\"\n",
    "    \n",
    "    def get_info(self):\n",
    "        base_info = super().get_info()\n",
    "        return f\"{base_info}, Team: {self.team_size}\"\n",
    "\n",
    "# Test the classes\n",
    "emp = Employee(\"John\", 50000)\n",
    "mgr = Manager(\"Sarah\", 80000, 5)\n",
    "\n",
    "print(emp.work())\n",
    "print(emp.get_info())\n",
    "print(mgr.work())\n",
    "print(mgr.get_info())"
   ]
  },
  {
   "cell_type": "markdown",
   "id": "d76fdfa4",
   "metadata": {},
   "source": [
    "### Lab 2: Shape Calculator (도형 계산기)\n",
    "\n",
    "**Problem**: Create Shape parent class and Rectangle child class with area calculation.\n",
    "문제: Shape 부모 클래스와 면적 계산이 있는 Rectangle 자식 클래스를 만드세요.\n",
    "\n",
    "**Solution**:"
   ]
  },
  {
   "cell_type": "code",
   "execution_count": null,
   "id": "d263daf6",
   "metadata": {},
   "outputs": [],
   "source": [
    "class Shape:\n",
    "    def __init__(self, color):\n",
    "        self.color = color\n",
    "    \n",
    "    def describe(self):\n",
    "        return f\"This is a {self.color} shape\"\n",
    "    \n",
    "    def area(self):\n",
    "        return 0\n",
    "\n",
    "class Rectangle(Shape):\n",
    "    def __init__(self, color, width, height):\n",
    "        super().__init__(color)\n",
    "        self.width = width\n",
    "        self.height = height\n",
    "    \n",
    "    def area(self):\n",
    "        return self.width * self.height\n",
    "    \n",
    "    def describe(self):\n",
    "        return f\"This is a {self.color} rectangle\"\n",
    "\n",
    "class Circle(Shape):\n",
    "    def __init__(self, color, radius):\n",
    "        super().__init__(color)\n",
    "        self.radius = radius\n",
    "    \n",
    "    def area(self):\n",
    "        return 3.14 * self.radius * self.radius\n",
    "    \n",
    "    def describe(self):\n",
    "        return f\"This is a {self.color} circle\"\n",
    "\n",
    "# Test shapes\n",
    "rect = Rectangle(\"red\", 5, 3)\n",
    "circle = Circle(\"blue\", 4)\n",
    "\n",
    "print(rect.describe())\n",
    "print(f\"Area: {rect.area()}\")\n",
    "print(circle.describe())\n",
    "print(f\"Area: {circle.area()}\")"
   ]
  },
  {
   "cell_type": "markdown",
   "id": "8de3db29",
   "metadata": {
    "lines_to_next_cell": 0
   },
   "source": [
    "---\n",
    "\n",
    "## Quiz Section (퀴즈)\n",
    "\n",
    "### Quiz 1: Animal Classes\n",
    "\n",
    "**Question**: Create Animal parent class with name attribute and speak() method. Create Dog child class that overrides speak() to return \"Woof!\". Test both classes.\n",
    "\n",
    "Animal 부모 클래스를 name 속성과 speak() 메소드와 함께 만드세요. speak()를 오버라이드하여 \"Woof!\"를 반환하는 Dog 자식 클래스를 만드세요. 두 클래스를 모두 테스트하세요.\n",
    "\n",
    "**Write your answer here (답을 여기에 작성하세요)**:"
   ]
  },
  {
   "cell_type": "code",
   "execution_count": null,
   "id": "f5656ff6",
   "metadata": {},
   "outputs": [],
   "source": [
    "# Your code here"
   ]
  },
  {
   "cell_type": "markdown",
   "id": "c9127691",
   "metadata": {
    "lines_to_next_cell": 0
   },
   "source": [
    "### Quiz 2: Vehicle with super()\n",
    "\n",
    "**Question**: Create Vehicle parent class with brand attribute and start() method. Create Car child class that uses super() in __init__ and adds doors attribute.\n",
    "\n",
    "brand 속성과 start() 메소드가 있는 Vehicle 부모 클래스를 만드세요. __init__에서 super()를 사용하고 doors 속성을 추가하는 Car 자식 클래스를 만드세요.\n",
    "\n",
    "**Write your answer here (답을 여기에 작성하세요)**:"
   ]
  },
  {
   "cell_type": "code",
   "execution_count": null,
   "id": "c972c77e",
   "metadata": {},
   "outputs": [],
   "source": [
    "# Your code here"
   ]
  },
  {
   "cell_type": "markdown",
   "id": "e14b6f2a",
   "metadata": {
    "lines_to_next_cell": 0
   },
   "source": [
    "### Quiz 3: Student System\n",
    "\n",
    "**Question**: Create Person class with name and age. Create Student class that inherits from Person, adds school attribute, and overrides introduce() method to include school information.\n",
    "\n",
    "name과 age가 있는 Person 클래스를 만드세요. Person을 상속받고, school 속성을 추가하며, 학교 정보를 포함하도록 introduce() 메소드를 오버라이드하는 Student 클래스를 만드세요.\n",
    "\n",
    "**Write your answer here (답을 여기에 작성하세요)**:"
   ]
  },
  {
   "cell_type": "code",
   "execution_count": null,
   "id": "facc3fc5",
   "metadata": {},
   "outputs": [],
   "source": [
    "# Your code here"
   ]
  },
  {
   "cell_type": "markdown",
   "id": "e7f76387",
   "metadata": {},
   "source": [
    "---\n",
    "\n",
    "## References (참고)\n",
    "\n",
    "1. **Python Inheritance Tutorial**: https://docs.python.org/3/tutorial/classes.html#inheritance\n",
    "2. **Real Python OOP Guide**: https://realpython.com/inheritance-composition-python/\n",
    "3. **Method Overriding Examples**: https://www.programiz.com/python-programming/method-overriding\n",
    "\n",
    "---\n",
    "\n",
    "## Key Points (핵심 포인트)\n",
    "\n",
    "### Remember (기억하세요)\n",
    "1. **Inheritance = Child gets parent's abilities** (상속 = 자식이 부모의 능력을 얻음)\n",
    "2. **Use super() to call parent methods** (부모 메소드를 호출하려면 super() 사용)\n",
    "3. **Override = Change parent method in child** (오버라이드 = 자식에서 부모 메소드 변경)\n",
    "4. **Child class gets everything from parent** (자식 클래스는 부모로부터 모든 것을 얻음)\n",
    "\n",
    "### Next Week Preview (다음 주 미리보기)\n",
    "Next week: **CSV File Handling** - Working with data files\n",
    "다음 주: **CSV 파일 다루기** - 데이터 파일 작업\n",
    "\n",
    "---\n",
    "\n",
    "## Homework (숙제)\n",
    "\n",
    "1. Complete both lab exercises (두 실습 모두 완료)\n",
    "2. Create your own parent and child class pair (자신만의 부모-자식 클래스 쌍 생성)\n",
    "3. Practice using super() and method overriding (super() 사용과 메소드 오버라이딩 연습)\n",
    "\n",
    "**Inheritance helps you reuse code and organize your programs better!**  \n",
    "**상속은 코드를 재사용하고 프로그램을 더 잘 구성하는 데 도움이 됩니다!**"
   ]
  }
 ],
 "metadata": {
  "jupytext": {
   "cell_metadata_filter": "-all",
   "main_language": "python",
   "notebook_metadata_filter": "-all"
  }
 },
 "nbformat": 4,
 "nbformat_minor": 5
}
