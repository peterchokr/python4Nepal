{
 "cells": [
  {
   "cell_type": "markdown",
   "id": "e6ad55a3",
   "metadata": {},
   "source": [
    "# Classes and Objects Basics\n",
    "**클래스와 객체 기초**\n",
    "\n",
    "**Duration (수업 시간)**: 3 hours (3시간)  \n",
    "**Structure (구성)**: Lecture & Lab 2 hours + Quiz 1 hour (강의 및 실습 2시간 + 퀴즈 1시간)  \n",
    "**Level (수준)**: Intermediate (중급)\n",
    "\n",
    "---\n",
    "\n",
    "## 🎯 Learning Objectives (학습 목표)\n",
    "\n",
    "By the end of this lesson, students will be able to:\n",
    "이 수업을 마친 후 학생들은 다음을 할 수 있습니다:\n",
    "\n",
    "- Understand what classes and objects are (클래스와 객체가 무엇인지 이해)\n",
    "- Create simple classes with attributes and methods (속성과 메소드가 있는 간단한 클래스 생성)\n",
    "- Use the __init__ method to initialize objects (__init__ 메소드를 사용하여 객체 초기화)\n",
    "- Create and use objects from classes (클래스로부터 객체 생성 및 사용)\n",
    "\n",
    "---\n",
    "\n",
    "## 📦 1. Concepts of Classes and Objects (클래스와 객체의 개념)\n",
    "\n",
    "### What are Classes and Objects? (클래스와 객체란?)\n",
    "\n",
    "A **class** is like a **blueprint** or **template**. An **object** is something created from that blueprint.\n",
    "**클래스**는 **설계도** 또는 **템플릿**과 같습니다. **객체**는 그 설계도로부터 만들어진 것입니다.\n",
    "\n",
    "### Simple Analogy (간단한 비유)\n",
    "\n",
    "Think of a **cookie cutter** (class) and **cookies** (objects):\n",
    "**쿠키 틀**(클래스)과 **쿠키**(객체)를 생각해보세요:\n",
    "\n",
    "```\n",
    "Cookie Cutter (Class) → Makes cookies with same shape\n",
    "Cookies (Objects) → Each cookie is unique but has same shape\n",
    "```\n",
    "\n",
    "### Why Use Classes? (왜 클래스를 사용하나요?)\n",
    "\n",
    "- **Organization**: Keep related data together (조직화: 관련 데이터를 함께 유지)\n",
    "- **Reusability**: Create multiple similar objects (재사용성: 비슷한 객체를 여러 개 생성)\n",
    "- **Real-world modeling**: Represent real things in code (실세계 모델링: 실제 사물을 코드로 표현)\n",
    "\n",
    "---\n",
    "\n",
    "## 🏗️ 2. Class Definition and Object Creation (클래스 정의 및 객체 생성)\n",
    "\n",
    "### Basic Class Syntax (기본 클래스 문법)"
   ]
  },
  {
   "cell_type": "code",
   "execution_count": null,
   "id": "be8dd68e",
   "metadata": {},
   "outputs": [],
   "source": [
    "class ClassName:\n",
    "    pass"
   ]
  },
  {
   "cell_type": "markdown",
   "id": "fb05244f",
   "metadata": {},
   "source": [
    "### Simple Example (간단한 예시)"
   ]
  },
  {
   "cell_type": "code",
   "execution_count": null,
   "id": "a9eccea7",
   "metadata": {},
   "outputs": [],
   "source": [
    "class Dog:\n",
    "    pass\n",
    "\n",
    "# Create objects\n",
    "dog1 = Dog()\n",
    "dog2 = Dog()\n",
    "\n",
    "print(\"Two dogs created!\")"
   ]
  },
  {
   "cell_type": "markdown",
   "id": "e931eb7d",
   "metadata": {},
   "source": [
    "### Adding Attributes (속성 추가)"
   ]
  },
  {
   "cell_type": "code",
   "execution_count": null,
   "id": "310646a0",
   "metadata": {},
   "outputs": [],
   "source": [
    "class Car:\n",
    "    pass\n",
    "\n",
    "# Create car and add attributes\n",
    "my_car = Car()\n",
    "my_car.brand = \"Toyota\"\n",
    "my_car.color = \"red\"\n",
    "\n",
    "print(f\"My car is a {my_car.color} {my_car.brand}\")"
   ]
  },
  {
   "cell_type": "markdown",
   "id": "61c84707",
   "metadata": {},
   "source": [
    "---\n",
    "\n",
    "## 🔧 3. Attributes and Methods (속성과 메소드)\n",
    "\n",
    "### What are Attributes and Methods? (속성과 메소드란?)\n",
    "\n",
    "- **Attributes**: Variables that store data (속성: 데이터를 저장하는 변수)\n",
    "- **Methods**: Functions that perform actions (메소드: 행동을 수행하는 함수)\n",
    "\n",
    "### Adding Methods (메소드 추가)"
   ]
  },
  {
   "cell_type": "code",
   "execution_count": null,
   "id": "44f1257a",
   "metadata": {},
   "outputs": [],
   "source": [
    "class Dog:\n",
    "    def bark(self):\n",
    "        return \"Woof!\"\n",
    "    \n",
    "    def sit(self):\n",
    "        return \"The dog is sitting\"\n",
    "\n",
    "# Create and use dog\n",
    "my_dog = Dog()\n",
    "print(my_dog.bark())\n",
    "print(my_dog.sit())"
   ]
  },
  {
   "cell_type": "markdown",
   "id": "b20475d0",
   "metadata": {},
   "source": [
    "### Understanding 'self' ('self' 이해하기)\n",
    "\n",
    "The **'self'** parameter refers to the current object.\n",
    "**'self'** 매개변수는 현재 객체를 가리킵니다."
   ]
  },
  {
   "cell_type": "code",
   "execution_count": null,
   "id": "2e59f8d0",
   "metadata": {},
   "outputs": [],
   "source": [
    "class Calculator:\n",
    "    def add(self, a, b):\n",
    "        return a + b\n",
    "\n",
    "calc = Calculator()\n",
    "result = calc.add(5, 3)\n",
    "print(f\"5 + 3 = {result}\")"
   ]
  },
  {
   "cell_type": "markdown",
   "id": "4f687c1f",
   "metadata": {},
   "source": [
    "---\n",
    "\n",
    "## 🎬 4. __init__ Method (__init__ 메소드)\n",
    "\n",
    "### What is __init__? (__init__이란?)\n",
    "\n",
    "The **__init__** method runs automatically when you create a new object. It sets up the object's initial values.\n",
    "**__init__** 메소드는 새 객체를 생성할 때 자동으로 실행됩니다. 객체의 초기값을 설정합니다.\n",
    "\n",
    "### Basic __init__ Example (기본 __init__ 예시)"
   ]
  },
  {
   "cell_type": "code",
   "execution_count": null,
   "id": "ba688a0a",
   "metadata": {},
   "outputs": [],
   "source": [
    "class Student:\n",
    "    def __init__(self, name, age):\n",
    "        self.name = name\n",
    "        self.age = age\n",
    "    \n",
    "    def introduce(self):\n",
    "        return f\"Hi, I'm {self.name} and I'm {self.age} years old\"\n",
    "\n",
    "# Create students\n",
    "student1 = Student(\"Alice\", 18)\n",
    "student2 = Student(\"Bob\", 19)\n",
    "\n",
    "print(student1.introduce())\n",
    "print(student2.introduce())"
   ]
  },
  {
   "cell_type": "markdown",
   "id": "136c5ea7",
   "metadata": {},
   "source": [
    "### __init__ with Methods (__init__과 메소드)"
   ]
  },
  {
   "cell_type": "code",
   "execution_count": null,
   "id": "19e01a56",
   "metadata": {},
   "outputs": [],
   "source": [
    "class BankAccount:\n",
    "    def __init__(self, account_number, balance):\n",
    "        self.account_number = account_number\n",
    "        self.balance = balance\n",
    "    \n",
    "    def deposit(self, amount):\n",
    "        self.balance += amount\n",
    "        return f\"New balance: ${self.balance}\"\n",
    "    \n",
    "    def get_balance(self):\n",
    "        return f\"Current balance: ${self.balance}\"\n",
    "\n",
    "# Create and use account\n",
    "account = BankAccount(\"12345\", 1000)\n",
    "print(account.get_balance())\n",
    "print(account.deposit(200))"
   ]
  },
  {
   "cell_type": "markdown",
   "id": "75bc059a",
   "metadata": {},
   "source": [
    "---\n",
    "\n",
    "## 🔧 Lab Exercises (실습)\n",
    "\n",
    "### Lab 1: Simple Class Design (간단한 클래스 설계)\n",
    "\n",
    "**Problem (문제)**: Create a Person class with basic information.\n",
    "기본 정보가 있는 Person 클래스를 만드세요.\n",
    "\n",
    "**Solution (정답)**:"
   ]
  },
  {
   "cell_type": "code",
   "execution_count": null,
   "id": "d3d76b3e",
   "metadata": {},
   "outputs": [],
   "source": [
    "class Person:\n",
    "    def __init__(self, name, age):\n",
    "        self.name = name\n",
    "        self.age = age\n",
    "    \n",
    "    def greet(self):\n",
    "        return f\"Hello, my name is {self.name}\"\n",
    "    \n",
    "    def have_birthday(self):\n",
    "        self.age += 1\n",
    "        return f\"Happy birthday! Now I'm {self.age} years old\"\n",
    "\n",
    "# Test the class\n",
    "person1 = Person(\"Alice\", 25)\n",
    "print(person1.greet())\n",
    "print(person1.have_birthday())\n",
    "\n",
    "person2 = Person(\"Bob\", 30)\n",
    "print(person2.greet())"
   ]
  },
  {
   "cell_type": "markdown",
   "id": "08acd683",
   "metadata": {},
   "source": [
    "### Lab 2: Book Class (책 클래스)\n",
    "\n",
    "**Problem (문제)**: Create a Book class that stores book information.\n",
    "책 정보를 저장하는 Book 클래스를 만드세요.\n",
    "\n",
    "**Solution (정답)**:"
   ]
  },
  {
   "cell_type": "code",
   "execution_count": null,
   "id": "a28a267f",
   "metadata": {},
   "outputs": [],
   "source": [
    "class Book:\n",
    "    def __init__(self, title, author):\n",
    "        self.title = title\n",
    "        self.author = author\n",
    "        self.is_borrowed = False\n",
    "    \n",
    "    def borrow(self):\n",
    "        if not self.is_borrowed:\n",
    "            self.is_borrowed = True\n",
    "            return f\"You borrowed '{self.title}'\"\n",
    "        return f\"'{self.title}' is already borrowed\"\n",
    "    \n",
    "    def return_book(self):\n",
    "        if self.is_borrowed:\n",
    "            self.is_borrowed = False\n",
    "            return f\"You returned '{self.title}'\"\n",
    "        return f\"'{self.title}' was not borrowed\"\n",
    "\n",
    "# Test the class\n",
    "book1 = Book(\"Python Programming\", \"John Smith\")\n",
    "print(book1.borrow())\n",
    "print(book1.borrow())  # Already borrowed\n",
    "print(book1.return_book())"
   ]
  },
  {
   "cell_type": "markdown",
   "id": "876d3348",
   "metadata": {},
   "source": [
    "### Lab 3: Simple Game Character (간단한 게임 캐릭터)\n",
    "\n",
    "**Problem (문제)**: Create a GameCharacter class with basic game mechanics.\n",
    "기본 게임 메커니즘이 있는 GameCharacter 클래스를 만드세요.\n",
    "\n",
    "**Solution (정답)**:"
   ]
  },
  {
   "cell_type": "code",
   "execution_count": null,
   "id": "f732697c",
   "metadata": {},
   "outputs": [],
   "source": [
    "class GameCharacter:\n",
    "    def __init__(self, name):\n",
    "        self.name = name\n",
    "        self.health = 100\n",
    "        self.level = 1\n",
    "    \n",
    "    def take_damage(self, damage):\n",
    "        self.health -= damage\n",
    "        if self.health < 0:\n",
    "            self.health = 0\n",
    "        return f\"{self.name} took {damage} damage. Health: {self.health}\"\n",
    "    \n",
    "    def heal(self, amount):\n",
    "        self.health += amount\n",
    "        if self.health > 100:\n",
    "            self.health = 100\n",
    "        return f\"{self.name} healed {amount}. Health: {self.health}\"\n",
    "    \n",
    "    def level_up(self):\n",
    "        self.level += 1\n",
    "        self.health = 100  # Full health on level up\n",
    "        return f\"{self.name} reached level {self.level}!\"\n",
    "\n",
    "# Test the class\n",
    "hero = GameCharacter(\"Hero\")\n",
    "print(hero.take_damage(30))\n",
    "print(hero.heal(20))\n",
    "print(hero.level_up())"
   ]
  },
  {
   "cell_type": "markdown",
   "id": "399ad167",
   "metadata": {
    "lines_to_next_cell": 0
   },
   "source": [
    "---\n",
    "\n",
    "## 📝 Quiz Section (퀴즈)\n",
    "\n",
    "### Quiz 1: Person Class Definition (Person 클래스 정의)\n",
    "\n",
    "**Question**: Define Person class with name and age attributes, create object and print info. The class should have __init__ method and a simple method to display information.\n",
    "이름과 나이 속성을 가진 Person 클래스를 정의하고 객체를 생성하여 정보를 출력하세요. 클래스는 __init__ 메소드와 정보를 표시하는 간단한 메소드를 가져야 합니다.\n",
    "\n",
    "**Write your answer here (답을 여기에 작성하세요)**:"
   ]
  },
  {
   "cell_type": "code",
   "execution_count": null,
   "id": "e0f40374",
   "metadata": {},
   "outputs": [],
   "source": [
    "# Your code here"
   ]
  },
  {
   "cell_type": "markdown",
   "id": "b8387ac2",
   "metadata": {
    "lines_to_next_cell": 0
   },
   "source": [
    "### Quiz 2: Dog Class with Method (메소드가 있는 Dog 클래스)\n",
    "\n",
    "**Question**: Create Dog class with name, breed attributes and bark() method that prints \"Woof!\". Create a dog object and test the bark method.\n",
    "이름, 품종 속성과 \"Woof!\"를 출력하는 bark() 메소드가 있는 Dog 클래스를 만드세요. 개 객체를 생성하고 bark 메소드를 테스트하세요.\n",
    "\n",
    "**Write your answer here (답을 여기에 작성하세요)**:"
   ]
  },
  {
   "cell_type": "code",
   "execution_count": null,
   "id": "4b346590",
   "metadata": {},
   "outputs": [],
   "source": [
    "# Your code here"
   ]
  },
  {
   "cell_type": "markdown",
   "id": "7199433f",
   "metadata": {
    "lines_to_next_cell": 0
   },
   "source": [
    "### Quiz 3: BankAccount Class (BankAccount 클래스)\n",
    "\n",
    "**Question**: Create BankAccount class with account number, balance attributes and deposit/withdraw methods. The deposit method should add money and withdraw method should subtract money from balance.\n",
    "계좌번호, 잔액 속성과 deposit/withdraw 메소드가 있는 BankAccount 클래스를 만드세요. deposit 메소드는 돈을 추가하고 withdraw 메소드는 잔액에서 돈을 빼야 합니다.\n",
    "\n",
    "**Write your answer here (답을 여기에 작성하세요)**:"
   ]
  },
  {
   "cell_type": "code",
   "execution_count": null,
   "id": "924e8862",
   "metadata": {},
   "outputs": [],
   "source": [
    "# Your code here"
   ]
  },
  {
   "cell_type": "markdown",
   "id": "02e597b5",
   "metadata": {},
   "source": [
    "---\n",
    "\n",
    "## 📖 References (참고)\n",
    "\n",
    "1. **Python Classes Tutorial**: https://docs.python.org/3/tutorial/classes.html\n",
    "2. **Object-Oriented Programming Basics**: https://realpython.com/python3-object-oriented-programming/\n",
    "3. **Python OOP Tutorial**: https://www.programiz.com/python-programming/object-oriented-programming\n",
    "\n",
    "---\n",
    "\n",
    "## 💡 Key Points (핵심 포인트)\n",
    "\n",
    "### Remember (기억하세요)\n",
    "1. **Class = Template, Object = Real Thing** (클래스 = 템플릿, 객체 = 실제 물건)\n",
    "2. **Use __init__ to set up objects** (__init__를 사용하여 객체 설정)\n",
    "3. **self refers to the current object** (self는 현재 객체를 가리킴)\n",
    "4. **Methods are functions inside classes** (메소드는 클래스 내부의 함수)\n",
    "\n",
    "### Next Week Preview (다음 주 미리보기)\n",
    "Next week: **Advanced Classes and Inheritance** - More complex class features\n",
    "다음 주: **고급 클래스와 상속** - 더 복잡한 클래스 기능\n",
    "\n",
    "---\n",
    "\n",
    "## 📋 Homework (숙제)\n",
    "\n",
    "1. Complete all three lab exercises (3개 실습 모두 완료)\n",
    "2. Create a simple class representing something you know (알고 있는 것을 나타내는 간단한 클래스 생성)\n",
    "3. Practice creating objects and calling methods (객체 생성과 메소드 호출 연습)\n",
    "\n",
    "**Classes help organize your code and represent real-world things!** 📦  \n",
    "**클래스는 코드를 구성하고 실세계 사물을 표현하는 데 도움이 됩니다!** 📦"
   ]
  }
 ],
 "metadata": {
  "jupytext": {
   "cell_metadata_filter": "-all",
   "main_language": "python",
   "notebook_metadata_filter": "-all"
  },
  "language_info": {
   "name": "python"
  }
 },
 "nbformat": 4,
 "nbformat_minor": 5
}
