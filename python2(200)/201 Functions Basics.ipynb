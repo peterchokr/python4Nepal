{
 "cells": [
  {
   "cell_type": "markdown",
   "id": "68f1aceb",
   "metadata": {},
   "source": [
    "# Functions Basics\n",
    "**함수 기초**\n",
    "\n",
    "**Duration (수업 시간)**: 3 hours (3시간)  \n",
    "**Structure (구성)**: Lecture & Lab 2 hours + Quiz 1 hour (강의 및 실습 2시간 + 퀴즈 1시간)  \n",
    "**Level (수준)**: Beginner to Intermediate (초급에서 중급으로)\n",
    "\n",
    "---\n",
    "\n",
    "## 🎯 Learning Objectives (학습 목표)\n",
    "\n",
    "By the end of this lesson, students will be able to:\n",
    "이 수업을 마친 후 학생들은 다음을 할 수 있습니다:\n",
    "\n",
    "- Understand what functions are and why they are useful (함수가 무엇이고 왜 유용한지 이해)\n",
    "- Define functions using the def keyword (def 키워드를 사용하여 함수 정의)\n",
    "- Create functions with parameters and arguments (매개변수와 인수가 있는 함수 생성)\n",
    "- Use return values to get results from functions (반환값을 사용하여 함수에서 결과 얻기)\n",
    "- Write reusable code to solve common problems (일반적인 문제를 해결하기 위한 재사용 가능한 코드 작성)\n",
    "\n",
    "---\n",
    "\n",
    "## 🏗️ 1. What are Functions? (함수란 무엇인가?)\n",
    "\n",
    "### Definition (정의)\n",
    "A **function** is a block of organized, reusable code that performs a specific task. Think of it as a **mini-program** inside your main program.\n",
    "**함수**는 특정 작업을 수행하는 조직화되고 재사용 가능한 코드 블록입니다. 메인 프로그램 안의 **미니 프로그램**이라고 생각해보세요.\n",
    "\n",
    "### Real-World Analogy (실생활 비유)\n",
    "\n",
    "Functions are like **kitchen appliances**:\n",
    "함수는 **주방 기구**와 같습니다:\n",
    "\n",
    "```\n",
    "Blender (믹서기):\n",
    "- Input: fruits and milk (입력: 과일과 우유)\n",
    "- Process: blend ingredients (과정: 재료 혼합)\n",
    "- Output: smoothie (출력: 스무디)\n",
    "\n",
    "Function:\n",
    "- Input: parameters (입력: 매개변수)\n",
    "- Process: code execution (과정: 코드 실행)\n",
    "- Output: return value (출력: 반환값)\n",
    "```\n",
    "\n",
    "### Why Use Functions? (왜 함수를 사용하나요?)\n",
    "\n",
    "#### 1. **Code Reusability** (코드 재사용성)\n",
    "Instead of writing the same code multiple times, write it once in a function:\n",
    "같은 코드를 여러 번 작성하는 대신, 함수에 한 번만 작성하세요:"
   ]
  },
  {
   "cell_type": "code",
   "execution_count": null,
   "id": "16cff053",
   "metadata": {},
   "outputs": [],
   "source": [
    "# Without functions - repetitive code (함수 없이 - 반복적인 코드)\n",
    "print(\"Welcome, Alice!\")\n",
    "print(\"Welcome, Bob!\")\n",
    "print(\"Welcome, Charlie!\")\n",
    "\n",
    "# With functions - reusable code (함수 사용 - 재사용 가능한 코드)\n",
    "def greet_user(name):\n",
    "    print(f\"Welcome, {name}!\")\n",
    "\n",
    "greet_user(\"Alice\")\n",
    "greet_user(\"Bob\")\n",
    "greet_user(\"Charlie\")"
   ]
  },
  {
   "cell_type": "markdown",
   "id": "4d3ee879",
   "metadata": {},
   "source": [
    "#### 2. **Code Organization** (코드 구성)\n",
    "Functions help organize your code into logical pieces:\n",
    "함수는 코드를 논리적인 조각으로 구성하는 데 도움이 됩니다:"
   ]
  },
  {
   "cell_type": "code",
   "execution_count": null,
   "id": "c5b3070e",
   "metadata": {},
   "outputs": [],
   "source": [
    "def calculate_area(length, width):\n",
    "    return length * width\n",
    "\n",
    "def calculate_perimeter(length, width):\n",
    "    return 2 * (length + width)\n",
    "\n",
    "def display_rectangle_info(length, width):\n",
    "    area = calculate_area(length, width)\n",
    "    perimeter = calculate_perimeter(length, width)\n",
    "    print(f\"Area: {area}\")\n",
    "    print(f\"Perimeter: {perimeter}\")"
   ]
  },
  {
   "cell_type": "markdown",
   "id": "f2f26cc0",
   "metadata": {},
   "source": [
    "#### 3. **Easier Testing and Debugging** (쉬운 테스트와 디버깅)\n",
    "You can test each function separately:\n",
    "각 함수를 개별적으로 테스트할 수 있습니다:"
   ]
  },
  {
   "cell_type": "code",
   "execution_count": null,
   "id": "c6a0fd5f",
   "metadata": {},
   "outputs": [],
   "source": [
    "def add_numbers(a, b):\n",
    "    return a + b\n",
    "\n",
    "# Test the function\n",
    "result = add_numbers(5, 3)\n",
    "print(result)  # Should print 8"
   ]
  },
  {
   "cell_type": "markdown",
   "id": "05e88a27",
   "metadata": {},
   "source": [
    "---\n",
    "\n",
    "## 📝 2. Function Definition (함수 정의)\n",
    "\n",
    "### Basic Syntax (기본 문법)"
   ]
  },
  {
   "cell_type": "code",
   "execution_count": null,
   "id": "7758515f",
   "metadata": {},
   "outputs": [],
   "source": [
    "def function_name():\n",
    "    \"\"\"Optional docstring (선택적 문서 문자열)\"\"\"\n",
    "    # Function body (함수 본문)\n",
    "    # Code to execute (실행할 코드)"
   ]
  },
  {
   "cell_type": "markdown",
   "id": "857926b3",
   "metadata": {
    "lines_to_next_cell": 0
   },
   "source": [
    "### Key Components (주요 구성 요소)\n",
    "\n",
    "1. **`def` keyword**: Tells Python we're defining a function (`def` 키워드: Python에게 함수를 정의한다고 알림)\n",
    "2. **Function name**: What we call the function (함수 이름: 함수를 호출할 때 사용하는 이름)\n",
    "3. **Parentheses ()**: Hold parameters (괄호: 매개변수를 담음)\n",
    "4. **Colon (:)**: Indicates start of function body (콜론: 함수 본문의 시작을 나타냄)\n",
    "5. **Indentation**: All function code must be indented (들여쓰기: 모든 함수 코드는 들여쓰기되어야 함)\n",
    "\n",
    "### Simple Function Examples (간단한 함수 예시)\n",
    "\n",
    "#### Example 1: Function with No Parameters (매개변수가 없는 함수)"
   ]
  },
  {
   "cell_type": "code",
   "execution_count": null,
   "id": "ee864e85",
   "metadata": {},
   "outputs": [],
   "source": [
    "def say_hello():\n",
    "    print(\"Hello, World!\")\n",
    "    print(\"Nice to meet you!\")\n",
    "\n",
    "# Call the function (함수 호출)\n",
    "say_hello()"
   ]
  },
  {
   "cell_type": "markdown",
   "id": "33b173f0",
   "metadata": {
    "lines_to_next_cell": 0
   },
   "source": [
    "#### Example 2: Function with Calculation (계산을 하는 함수)"
   ]
  },
  {
   "cell_type": "code",
   "execution_count": null,
   "id": "6d6c761d",
   "metadata": {},
   "outputs": [],
   "source": [
    "def show_current_time():\n",
    "    import datetime\n",
    "    now = datetime.datetime.now()\n",
    "    print(f\"Current time: {now.strftime('%H:%M:%S')}\")\n",
    "\n",
    "show_current_time()"
   ]
  },
  {
   "cell_type": "markdown",
   "id": "24161354",
   "metadata": {
    "lines_to_next_cell": 0
   },
   "source": [
    "#### Example 3: Multiple Function Calls (여러 함수 호출)"
   ]
  },
  {
   "cell_type": "code",
   "execution_count": null,
   "id": "02f427eb",
   "metadata": {},
   "outputs": [],
   "source": [
    "def print_separator():\n",
    "    print(\"-\" * 30)\n",
    "\n",
    "print(\"Starting program\")\n",
    "print_separator()\n",
    "print(\"Processing data\")\n",
    "print_separator()\n",
    "print(\"Program complete\")"
   ]
  },
  {
   "cell_type": "markdown",
   "id": "ec8c8056",
   "metadata": {},
   "source": [
    "---\n",
    "\n",
    "## 🔧 3. Parameters and Arguments (매개변수와 인수)\n",
    "\n",
    "### Understanding the Difference (차이점 이해하기)\n",
    "\n",
    "- **Parameters** (매개변수): Variables defined in the function definition (함수 정의에서 정의된 변수)\n",
    "- **Arguments** (인수): Actual values passed to the function when called (함수 호출 시 전달되는 실제 값)"
   ]
  },
  {
   "cell_type": "code",
   "execution_count": null,
   "id": "3759c9a0",
   "metadata": {},
   "outputs": [],
   "source": [
    "def greet_person(name):    # 'name' is a parameter (매개변수)\n",
    "    print(f\"Hello, {name}!\")\n",
    "\n",
    "greet_person(\"Alice\")      # \"Alice\" is an argument (인수)"
   ]
  },
  {
   "cell_type": "markdown",
   "id": "2f730a2a",
   "metadata": {
    "lines_to_next_cell": 0
   },
   "source": [
    "### Functions with Parameters (매개변수가 있는 함수)\n",
    "\n",
    "#### Single Parameter (단일 매개변수)"
   ]
  },
  {
   "cell_type": "code",
   "execution_count": null,
   "id": "d0bf9571",
   "metadata": {},
   "outputs": [],
   "source": [
    "def square_number(num):\n",
    "    result = num * num\n",
    "    print(f\"The square of {num} is {result}\")\n",
    "\n",
    "square_number(5)    # Output: The square of 5 is 25\n",
    "square_number(10)   # Output: The square of 10 is 100"
   ]
  },
  {
   "cell_type": "markdown",
   "id": "1a665d0e",
   "metadata": {
    "lines_to_next_cell": 0
   },
   "source": [
    "#### Multiple Parameters (다중 매개변수)"
   ]
  },
  {
   "cell_type": "code",
   "execution_count": null,
   "id": "64f8ba35",
   "metadata": {},
   "outputs": [],
   "source": [
    "def calculate_rectangle_area(length, width):\n",
    "    area = length * width\n",
    "    print(f\"Rectangle area: {area}\")\n",
    "\n",
    "calculate_rectangle_area(5, 3)    # Output: Rectangle area: 15\n",
    "calculate_rectangle_area(10, 7)   # Output: Rectangle area: 70"
   ]
  },
  {
   "cell_type": "markdown",
   "id": "36a48189",
   "metadata": {
    "lines_to_next_cell": 0
   },
   "source": [
    "#### Parameters with Different Data Types (다양한 데이터 타입의 매개변수)"
   ]
  },
  {
   "cell_type": "code",
   "execution_count": null,
   "id": "8b3a5ab9",
   "metadata": {},
   "outputs": [],
   "source": [
    "def introduce_student(name, age, grade, is_honor_student):\n",
    "    print(f\"Student: {name}\")\n",
    "    print(f\"Age: {age}\")\n",
    "    print(f\"Grade: {grade}\")\n",
    "    if is_honor_student:\n",
    "        print(\"Status: Honor Student\")\n",
    "    else:\n",
    "        print(\"Status: Regular Student\")\n",
    "\n",
    "introduce_student(\"Emma\", 18, 95, True)"
   ]
  },
  {
   "cell_type": "markdown",
   "id": "791d06c9",
   "metadata": {},
   "source": [
    "### Default Parameters (기본 매개변수)\n",
    "You can provide default values for parameters:\n",
    "매개변수에 기본값을 제공할 수 있습니다:"
   ]
  },
  {
   "cell_type": "code",
   "execution_count": null,
   "id": "9c0992a5",
   "metadata": {},
   "outputs": [],
   "source": [
    "def greet_with_title(name, title=\"Mr.\"):\n",
    "    print(f\"Hello, {title} {name}!\")\n",
    "\n",
    "greet_with_title(\"Smith\")          # Uses default title\n",
    "greet_with_title(\"Johnson\", \"Dr.\") # Uses provided title"
   ]
  },
  {
   "cell_type": "markdown",
   "id": "abeb7852",
   "metadata": {},
   "source": [
    "---\n",
    "\n",
    "## 🔄 4. Return Values (반환값)\n",
    "\n",
    "### What is a Return Value? (반환값이란?)\n",
    "\n",
    "A **return value** is the result that a function gives back to the code that called it. It's like the **output** of a function.\n",
    "**반환값**은 함수가 그것을 호출한 코드에게 돌려주는 결과입니다. 함수의 **출력**과 같습니다.\n",
    "\n",
    "### Using the return Statement (return 문 사용하기)"
   ]
  },
  {
   "cell_type": "code",
   "execution_count": null,
   "id": "18fd4e6a",
   "metadata": {},
   "outputs": [],
   "source": [
    "def add_numbers(a, b):\n",
    "    total = a + b\n",
    "    return total\n",
    "\n",
    "# The function returns a value we can use\n",
    "result = add_numbers(5, 3)\n",
    "print(f\"5 + 3 = {result}\")  # Output: 5 + 3 = 8\n",
    "\n",
    "# We can use the returned value directly\n",
    "print(f\"Double the sum: {add_numbers(4, 6) * 2}\")"
   ]
  },
  {
   "cell_type": "markdown",
   "id": "94482f77",
   "metadata": {},
   "source": [
    "### Functions Without Return (return이 없는 함수)\n",
    "\n",
    "If a function doesn't have a return statement, it returns `None`:\n",
    "함수에 return 문이 없으면 `None`을 반환합니다:"
   ]
  },
  {
   "cell_type": "code",
   "execution_count": null,
   "id": "14d2a425",
   "metadata": {},
   "outputs": [],
   "source": [
    "def just_print(message):\n",
    "    print(f\"Message: {message}\")\n",
    "\n",
    "result = just_print(\"Hello\")\n",
    "print(result)  # Output: None"
   ]
  },
  {
   "cell_type": "markdown",
   "id": "6ed8d0b8",
   "metadata": {},
   "source": [
    "### Return vs Print (return vs print 비교)\n",
    "\n",
    "Understanding the difference is crucial:\n",
    "차이점을 이해하는 것이 중요합니다:"
   ]
  },
  {
   "cell_type": "code",
   "execution_count": null,
   "id": "23b1c9c1",
   "metadata": {},
   "outputs": [],
   "source": [
    "# Function that prints (출력하는 함수)\n",
    "def print_sum(a, b):\n",
    "    print(a + b)\n",
    "\n",
    "# Function that returns (반환하는 함수)\n",
    "def calculate_sum(a, b):\n",
    "    return a + b\n",
    "\n",
    "# Usage examples\n",
    "print_sum(3, 4)           # Prints: 7 (but returns None)\n",
    "result = calculate_sum(3, 4)  # Returns: 7 (we can use this value)\n",
    "print(result)             # Prints: 7\n",
    "\n",
    "# You can use returned values in calculations\n",
    "total = calculate_sum(5, 10) + calculate_sum(2, 3)\n",
    "print(total)              # Prints: 20"
   ]
  },
  {
   "cell_type": "markdown",
   "id": "aa5d38db",
   "metadata": {},
   "source": [
    "### Multiple Return Values (다중 반환값)\n",
    "\n",
    "Functions can return multiple values using tuples:\n",
    "함수는 튜플을 사용하여 여러 값을 반환할 수 있습니다:"
   ]
  },
  {
   "cell_type": "code",
   "execution_count": null,
   "id": "2e766ce2",
   "metadata": {},
   "outputs": [],
   "source": [
    "def calculate_circle_properties(radius):\n",
    "    pi = 3.14159\n",
    "    area = pi * radius * radius\n",
    "    circumference = 2 * pi * radius\n",
    "    return area, circumference\n",
    "\n",
    "# Unpack the returned values\n",
    "area, circumference = calculate_circle_properties(5)\n",
    "print(f\"Area: {area:.2f}\")\n",
    "print(f\"Circumference: {circumference:.2f}\")"
   ]
  },
  {
   "cell_type": "markdown",
   "id": "adc6b377",
   "metadata": {},
   "source": [
    "### Conditional Returns (조건부 반환)\n",
    "\n",
    "Functions can return different values based on conditions:\n",
    "함수는 조건에 따라 다른 값을 반환할 수 있습니다:"
   ]
  },
  {
   "cell_type": "code",
   "execution_count": null,
   "id": "e38a2c32",
   "metadata": {},
   "outputs": [],
   "source": [
    "def check_grade(score):\n",
    "    if score >= 90:\n",
    "        return \"A\"\n",
    "    elif score >= 80:\n",
    "        return \"B\"\n",
    "    elif score >= 70:\n",
    "        return \"C\"\n",
    "    elif score >= 60:\n",
    "        return \"D\"\n",
    "    else:\n",
    "        return \"F\"\n",
    "\n",
    "student_grade = check_grade(85)\n",
    "print(f\"Grade: {student_grade}\")  # Output: Grade: B"
   ]
  },
  {
   "cell_type": "markdown",
   "id": "4029a11e",
   "metadata": {
    "lines_to_next_cell": 0
   },
   "source": [
    "---\n",
    "\n",
    "## 🔧 Lab Exercises (실습)\n",
    "\n",
    "### Lab 1: Basic Calculation Functions (기본 계산 함수)\n",
    "\n",
    "**Problem (문제)**: Create simple calculation functions that perform common mathematical operations.\n",
    "일반적인 수학 연산을 수행하는 간단한 계산 함수를 만드세요.\n",
    "\n",
    "**Requirements (요구사항)**:\n",
    "- Create functions for basic math operations (기본 수학 연산을 위한 함수 생성)\n",
    "- Include functions with different parameter counts (다양한 매개변수 개수를 가진 함수 포함)\n",
    "- Test each function with sample inputs (샘플 입력으로 각 함수 테스트)\n",
    "\n",
    "**Solution (정답)**:"
   ]
  },
  {
   "cell_type": "code",
   "execution_count": null,
   "id": "a7201318",
   "metadata": {},
   "outputs": [],
   "source": [
    "# Basic Calculation Functions\n",
    "\n",
    "def add_numbers(a, b):\n",
    "    \"\"\"Add two numbers and return the result\"\"\"\n",
    "    return a + b\n",
    "\n",
    "def calculate_average(num1, num2, num3):\n",
    "    \"\"\"Calculate average of three numbers\"\"\"\n",
    "    total = num1 + num2 + num3\n",
    "    average = total / 3\n",
    "    return average\n",
    "\n",
    "def convert_temperature(celsius):\n",
    "    \"\"\"Convert Celsius to Fahrenheit\"\"\"\n",
    "    fahrenheit = (celsius * 9/5) + 32\n",
    "    return fahrenheit\n",
    "\n",
    "def calculate_area(length, width):\n",
    "    \"\"\"Calculate rectangle area\"\"\"\n",
    "    area = length * width\n",
    "    return area\n",
    "\n",
    "def is_positive(number):\n",
    "    \"\"\"Check if a number is positive\"\"\"\n",
    "    return number > 0\n",
    "\n",
    "# Testing the functions\n",
    "print(\"=== CALCULATION FUNCTIONS TEST ===\")\n",
    "\n",
    "# Test addition\n",
    "result1 = add_numbers(15, 25)\n",
    "print(f\"15 + 25 = {result1}\")\n",
    "\n",
    "# Test average\n",
    "result2 = calculate_average(80, 90, 85)\n",
    "print(f\"Average of 80, 90, 85 = {result2}\")\n",
    "\n",
    "# Test temperature conversion\n",
    "result3 = convert_temperature(25)\n",
    "print(f\"25°C = {result3}°F\")\n",
    "\n",
    "# Test area calculation\n",
    "result4 = calculate_area(5, 8)\n",
    "print(f\"Rectangle 5x8 area = {result4}\")\n",
    "\n",
    "# Test positive check\n",
    "result5 = is_positive(-3)\n",
    "print(f\"Is -3 positive? {result5}\")\n",
    "\n",
    "print(\"=== TEST COMPLETED ===\")"
   ]
  },
  {
   "cell_type": "markdown",
   "id": "3cfad7c3",
   "metadata": {
    "lines_to_next_cell": 0
   },
   "source": [
    "### Lab 2: Simple Greeting Functions (간단한 인사말 함수)\n",
    "\n",
    "**Problem (문제)**: Create functions that generate greetings based on different situations and times.\n",
    "다양한 상황과 시간에 따라 인사말을 생성하는 함수를 만드세요.\n",
    "\n",
    "**Requirements (요구사항)**:\n",
    "- Create basic greeting functions (기본 인사말 함수 생성)\n",
    "- Include personalized greetings with names (이름이 포함된 개인화된 인사말)\n",
    "- Add time-based greetings (시간 기반 인사말 추가)\n",
    "\n",
    "**Solution (정답)**:"
   ]
  },
  {
   "cell_type": "code",
   "execution_count": null,
   "id": "35d9ed3d",
   "metadata": {},
   "outputs": [],
   "source": [
    "# Simple Greeting Functions\n",
    "\n",
    "def say_hello(name):\n",
    "    \"\"\"Generate a simple hello greeting\"\"\"\n",
    "    return f\"Hello, {name}! Nice to meet you!\"\n",
    "\n",
    "def time_greeting(hour):\n",
    "    \"\"\"Generate greeting based on hour (0-23)\"\"\"\n",
    "    if hour < 12:\n",
    "        return \"Good morning!\"\n",
    "    elif hour < 18:\n",
    "        return \"Good afternoon!\"\n",
    "    else:\n",
    "        return \"Good evening!\"\n",
    "\n",
    "def birthday_greeting(name, age):\n",
    "    \"\"\"Generate a birthday greeting\"\"\"\n",
    "    return f\"Happy Birthday, {name}! You are now {age} years old!\"\n",
    "\n",
    "def farewell_message(name):\n",
    "    \"\"\"Generate a farewell message\"\"\"\n",
    "    return f\"Goodbye, {name}! Have a great day!\"\n",
    "\n",
    "# Testing the greeting functions\n",
    "print(\"=== GREETING FUNCTIONS TEST ===\")\n",
    "\n",
    "# Test basic greeting\n",
    "greeting1 = say_hello(\"Alice\")\n",
    "print(greeting1)\n",
    "\n",
    "# Test time-based greetings\n",
    "greeting2 = time_greeting(9)   # Morning\n",
    "print(f\"9 AM: {greeting2}\")\n",
    "\n",
    "greeting3 = time_greeting(15)  # Afternoon  \n",
    "print(f\"3 PM: {greeting3}\")\n",
    "\n",
    "greeting4 = time_greeting(20)  # Evening\n",
    "print(f\"8 PM: {greeting4}\")\n",
    "\n",
    "# Test birthday greeting\n",
    "greeting5 = birthday_greeting(\"Bob\", 25)\n",
    "print(greeting5)\n",
    "\n",
    "# Test farewell\n",
    "greeting6 = farewell_message(\"Charlie\")\n",
    "print(greeting6)\n",
    "\n",
    "print(\"=== GREETING TEST COMPLETED ===\")"
   ]
  },
  {
   "cell_type": "markdown",
   "id": "e0f3207a",
   "metadata": {
    "lines_to_next_cell": 0
   },
   "source": [
    "### Lab 3: Simple Password Functions (간단한 패스워드 함수)\n",
    "\n",
    "**Problem (문제)**: Create basic functions to generate and check passwords.\n",
    "패스워드를 생성하고 확인하는 기본 함수를 만드세요.\n",
    "\n",
    "**Requirements (요구사항)**:\n",
    "- Generate simple passwords (간단한 패스워드 생성)\n",
    "- Check password strength (패스워드 강도 확인)\n",
    "- Create memorable passwords (기억하기 쉬운 패스워드 생성)\n",
    "\n",
    "**Solution (정답)**:"
   ]
  },
  {
   "cell_type": "code",
   "execution_count": null,
   "id": "5c9a12d4",
   "metadata": {},
   "outputs": [],
   "source": [
    "# Simple Password Functions\n",
    "import random\n",
    "\n",
    "def generate_simple_password(length):\n",
    "    \"\"\"Generate a simple password with letters and numbers\"\"\"\n",
    "    characters = \"abcdefghijklmnopqrstuvwxyzABCDEFGHIJKLMNOPQRSTUVWXYZ0123456789\"\n",
    "    password = \"\"\n",
    "    \n",
    "    for i in range(length):\n",
    "        password += random.choice(characters)\n",
    "    \n",
    "    return password\n",
    "\n",
    "def check_password_length(password):\n",
    "    \"\"\"Check if password meets minimum length requirement\"\"\"\n",
    "    if len(password) >= 8:\n",
    "        return \"Strong length\"\n",
    "    elif len(password) >= 6:\n",
    "        return \"Medium length\"\n",
    "    else:\n",
    "        return \"Weak length\"\n",
    "\n",
    "def has_numbers(password):\n",
    "    \"\"\"Check if password contains numbers\"\"\"\n",
    "    for char in password:\n",
    "        if char.isdigit():\n",
    "            return True\n",
    "    return False\n",
    "\n",
    "def create_memorable_password(word, number):\n",
    "    \"\"\"Create a memorable password from a word and number\"\"\"\n",
    "    return word.capitalize() + str(number) + \"!\"\n",
    "\n",
    "# Testing password functions\n",
    "print(\"=== PASSWORD FUNCTIONS TEST ===\")\n",
    "\n",
    "# Test simple password generation\n",
    "password1 = generate_simple_password(8)\n",
    "print(f\"Generated 8-char password: {password1}\")\n",
    "\n",
    "password2 = generate_simple_password(12)\n",
    "print(f\"Generated 12-char password: {password2}\")\n",
    "\n",
    "# Test password length check\n",
    "length_check1 = check_password_length(\"abc123\")\n",
    "print(f\"Password 'abc123' length: {length_check1}\")\n",
    "\n",
    "length_check2 = check_password_length(\"mypassword123\")\n",
    "print(f\"Password 'mypassword123' length: {length_check2}\")\n",
    "\n",
    "# Test number check\n",
    "has_nums1 = has_numbers(\"hello\")\n",
    "print(f\"'hello' has numbers: {has_nums1}\")\n",
    "\n",
    "has_nums2 = has_numbers(\"hello123\")\n",
    "print(f\"'hello123' has numbers: {has_nums2}\")\n",
    "\n",
    "# Test memorable password\n",
    "memorable = create_memorable_password(\"sunshine\", 2024)\n",
    "print(f\"Memorable password: {memorable}\")\n",
    "\n",
    "print(\"=== PASSWORD TEST COMPLETED ===\")"
   ]
  },
  {
   "cell_type": "markdown",
   "id": "d9acc045",
   "metadata": {
    "lines_to_next_cell": 0
   },
   "source": [
    "---\n",
    "\n",
    "## 📝 Quiz Section (퀴즈)\n",
    "\n",
    "### Quiz 1: Function Definition and Basic Usage (함수 정의 및 기본 사용법)\n",
    "\n",
    "**Question**: Write a function called `calculate_tax` that takes two parameters: `income` (annual income) and `tax_rate` (as a percentage). The function should calculate and return the tax amount. Then write code to test your function with an income of $50,000 and a tax rate of 15%.\n",
    "`calculate_tax`라는 함수를 작성하세요. 이 함수는 두 개의 매개변수를 받습니다: `income` (연간 소득)과 `tax_rate` (백분율). 함수는 세금 금액을 계산하고 반환해야 합니다. 그런 다음 소득 $50,000과 세율 15%로 함수를 테스트하는 코드를 작성하세요.\n",
    "\n",
    "Additionally, create a function called `display_tax_info` that takes the same parameters but prints a formatted message showing the income, tax rate, tax amount, and net income (income - tax).\n",
    "추가로, 같은 매개변수를 받지만 소득, 세율, 세금 금액, 순소득(소득 - 세금)을 보여주는 형식화된 메시지를 출력하는 `display_tax_info` 함수를 만드세요.\n",
    "\n",
    "**Write your answer here (답을 여기에 작성하세요)**:"
   ]
  },
  {
   "cell_type": "code",
   "execution_count": null,
   "id": "a73c1c1e",
   "metadata": {},
   "outputs": [],
   "source": [
    "# Your code here"
   ]
  },
  {
   "cell_type": "markdown",
   "id": "54048cca",
   "metadata": {
    "lines_to_next_cell": 0
   },
   "source": [
    "### Quiz 2: Functions with Multiple Parameters and Return Values (다중 매개변수와 반환값을 가진 함수)\n",
    "\n",
    "**Question**: Create a function called `analyze_student_grades` that takes three test scores as parameters. The function should:\n",
    "세 개의 시험 점수를 매개변수로 받는 `analyze_student_grades` 함수를 만드세요. 이 함수는 다음을 수행해야 합니다:\n",
    "\n",
    "1. Calculate the average of the three scores (세 점수의 평균 계산)\n",
    "2. Determine the letter grade based on the average (평균을 기반으로 문자 등급 결정)\n",
    "   - 90-100: \"A\"\n",
    "   - 80-89: \"B\" \n",
    "   - 70-79: \"C\"\n",
    "   - 60-69: \"D\"\n",
    "   - Below 60: \"F\"\n",
    "3. Return both the average and the letter grade (평균과 문자 등급 모두 반환)\n",
    "\n",
    "Write test code that calls the function with scores 85, 92, 78 and prints the results in a user-friendly format.\n",
    "점수 85, 92, 78로 함수를 호출하고 사용자 친화적인 형식으로 결과를 출력하는 테스트 코드를 작성하세요.\n",
    "\n",
    "**Write your answer here (답을 여기에 작성하세요)**:"
   ]
  },
  {
   "cell_type": "code",
   "execution_count": null,
   "id": "54cd3142",
   "metadata": {},
   "outputs": [],
   "source": [
    "# Your code here"
   ]
  },
  {
   "cell_type": "markdown",
   "id": "06964e4a",
   "metadata": {
    "lines_to_next_cell": 0
   },
   "source": [
    "### Quiz 3: Practical Function Application (실용적인 함수 응용)\n",
    "\n",
    "**Question**: Create a mini-calculator using functions. Your program should include:\n",
    "함수를 사용하여 미니 계산기를 만드세요. 프로그램에는 다음이 포함되어야 합니다:\n",
    "\n",
    "1. Separate functions for each operation: `add`, `subtract`, `multiply`, `divide` (각 연산을 위한 별도 함수)\n",
    "2. A function called `get_user_input` that asks the user for two numbers and an operation (+, -, *, /) and returns these values (사용자에게 두 숫자와 연산을 요청하고 이 값들을 반환하는 `get_user_input` 함수)\n",
    "3. A function called `perform_calculation` that takes the numbers and operation, calls the appropriate calculation function, and returns the result (숫자와 연산을 받아 적절한 계산 함수를 호출하고 결과를 반환하는 `perform_calculation` 함수)\n",
    "4. A main program that uses these functions to create a working calculator (이러한 함수들을 사용하여 작동하는 계산기를 만드는 메인 프로그램)\n",
    "\n",
    "Handle division by zero appropriately in your divide function.\n",
    "나누기 함수에서 0으로 나누기를 적절히 처리하세요.\n",
    "\n",
    "**Write your answer here (답을 여기에 작성하세요)**:"
   ]
  },
  {
   "cell_type": "code",
   "execution_count": null,
   "id": "44d27666",
   "metadata": {},
   "outputs": [],
   "source": [
    "# Your code here"
   ]
  },
  {
   "cell_type": "markdown",
   "id": "cb9dc0ec",
   "metadata": {
    "lines_to_next_cell": 0
   },
   "source": [
    "---\n",
    "\n",
    "## 📖 References (참고 자료)\n",
    "\n",
    "1. **Python Functions Documentation**: https://docs.python.org/3/tutorial/controlflow.html#defining-functions\n",
    "   - Official Python documentation on function definitions and usage (함수 정의와 사용에 대한 공식 Python 문서)\n",
    "\n",
    "2. **Real Python - Python Functions**: https://realpython.com/defining-your-own-python-function/\n",
    "   - Comprehensive tutorial on creating and using functions (함수 생성 및 사용에 대한 종합 튜토리얼)\n",
    "\n",
    "3. **W3Schools Python Functions**: https://www.w3schools.com/python/python_functions.asp\n",
    "   - Interactive examples and exercises for learning functions (함수 학습을 위한 대화형 예제와 연습)\n",
    "\n",
    "4. **Automate the Boring Stuff - Functions**: https://automatetheboringstuff.com/2e/chapter3/\n",
    "   - Practical applications of functions in real-world scenarios (실제 시나리오에서 함수의 실용적 응용)\n",
    "\n",
    "---\n",
    "\n",
    "## 💡 Additional Tips for Success (성공을 위한 추가 팁)\n",
    "\n",
    "### Function Writing Best Practices (함수 작성 모범 사례)\n",
    "\n",
    "#### 1. Use Descriptive Function Names (설명적인 함수 이름 사용)"
   ]
  },
  {
   "cell_type": "code",
   "execution_count": null,
   "id": "04d46587",
   "metadata": {},
   "outputs": [],
   "source": [
    "# Good examples\n",
    "def calculate_area(length, width):\n",
    "def check_password_strength(password):\n",
    "def convert_temperature(temp, from_unit, to_unit):\n",
    "\n",
    "# Poor examples  \n",
    "def calc(a, b):\n",
    "def check(x):\n",
    "def convert(t, f, t):"
   ]
  },
  {
   "cell_type": "markdown",
   "id": "2fea24c0",
   "metadata": {},
   "source": [
    "#### 2. Keep Functions Focused (함수를 집중적으로 유지)\n",
    "Each function should do one thing well:\n",
    "각 함수는 한 가지 일을 잘해야 합니다:"
   ]
  },
  {
   "cell_type": "code",
   "execution_count": null,
   "id": "09db54e8",
   "metadata": {},
   "outputs": [],
   "source": [
    "# Good - focused function\n",
    "def calculate_circle_area(radius):\n",
    "    return 3.14159 * radius * radius\n",
    "\n",
    "# Poor - doing too many things\n",
    "def circle_operations(radius):\n",
    "    area = 3.14159 * radius * radius\n",
    "    circumference = 2 * 3.14159 * radius\n",
    "    print(f\"Area: {area}\")\n",
    "    print(f\"Circumference: {circumference}\")\n",
    "    return area, circumference"
   ]
  },
  {
   "cell_type": "markdown",
   "id": "dedd180f",
   "metadata": {
    "lines_to_next_cell": 0
   },
   "source": [
    "#### 3. Use Default Parameters Wisely (기본 매개변수를 현명하게 사용)"
   ]
  },
  {
   "cell_type": "code",
   "execution_count": null,
   "id": "f4ca9c81",
   "metadata": {},
   "outputs": [],
   "source": [
    "def greet_user(name, greeting=\"Hello\", punctuation=\"!\"):\n",
    "    return f\"{greeting}, {name}{punctuation}\"\n",
    "\n",
    "# Flexible usage\n",
    "print(greet_user(\"Alice\"))                    # Hello, Alice!\n",
    "print(greet_user(\"Bob\", \"Hi\"))               # Hi, Bob!\n",
    "print(greet_user(\"Charlie\", \"Hey\", \".\"))     # Hey, Charlie."
   ]
  },
  {
   "cell_type": "markdown",
   "id": "8e98e03f",
   "metadata": {},
   "source": [
    "### Common Function Mistakes to Avoid (피해야 할 일반적인 함수 실수)\n",
    "\n",
    "1. **Forgetting to return values** (값 반환 잊기)\n",
    "2. **Using global variables instead of parameters** (매개변수 대신 전역 변수 사용)\n",
    "3. **Making functions too complex** (함수를 너무 복잡하게 만들기)\n",
    "4. **Not testing functions separately** (함수를 개별적으로 테스트하지 않기)\n",
    "\n",
    "### Debugging Functions (함수 디버깅)\n",
    "\n",
    "Use print statements to trace function execution:\n",
    "함수 실행을 추적하기 위해 print 문을 사용하세요:"
   ]
  },
  {
   "cell_type": "code",
   "execution_count": null,
   "id": "2129425c",
   "metadata": {},
   "outputs": [],
   "source": [
    "def debug_example(x, y):\n",
    "    print(f\"Function called with x={x}, y={y}\")  # Debug line\n",
    "    result = x * y + 10\n",
    "    print(f\"Calculated result: {result}\")         # Debug line\n",
    "    return result"
   ]
  },
  {
   "cell_type": "markdown",
   "id": "3b444fda",
   "metadata": {},
   "source": [
    "### Next Week Preview (다음 주 미리보기)\n",
    "\n",
    "Next week we'll learn about **Advanced Functions**, including:\n",
    "다음 주에는 다음을 포함한 **고급 함수**에 대해 배웁니다:\n",
    "\n",
    "- **Local vs Global Variables**: Understanding scope (지역 변수 vs 전역 변수: 범위 이해)\n",
    "- **Recursive Functions**: Functions that call themselves (재귀 함수: 자기 자신을 호출하는 함수)\n",
    "- **Lambda Functions**: Short, anonymous functions (람다 함수: 짧은 익명 함수)\n",
    "- **Function Documentation**: Writing good docstrings (함수 문서화: 좋은 문서 문자열 작성)\n",
    "\n",
    "---\n",
    "\n",
    "## 📋 Homework (숙제)\n",
    "\n",
    "1. **Practice**: Complete all three lab exercises and experiment with modifications (연습: 3개 실습을 모두 완료하고 수정 사항 실험)\n",
    "2. **Create**: Write a function that calculates the Body Mass Index (BMI) given height and weight (생성: 키와 몸무게가 주어졌을 때 체질량지수(BMI)를 계산하는 함수 작성)\n",
    "3. **Experiment**: Try creating functions with different numbers of parameters (실험: 다양한 개수의 매개변수를 가진 함수 만들기 시도)\n",
    "4. **Challenge**: Create a simple text-based menu system using functions for each menu option (도전: 각 메뉴 옵션에 함수를 사용하는 간단한 텍스트 기반 메뉴 시스템 만들기)\n",
    "\n",
    "**Welcome to Python 2! Functions will make your code more organized and powerful!** 🚀  \n",
    "**Python 2에 오신 것을 환영합니다! 함수는 코드를 더 체계적이고 강력하게 만들어줄 것입니다!** 🚀"
   ]
  }
 ],
 "metadata": {
  "jupytext": {
   "cell_metadata_filter": "-all",
   "main_language": "python",
   "notebook_metadata_filter": "-all"
  },
  "language_info": {
   "name": "python"
  }
 },
 "nbformat": 4,
 "nbformat_minor": 5
}
