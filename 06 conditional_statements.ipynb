{
 "cells": [
  {
   "cell_type": "markdown",
   "id": "6b2ad90d",
   "metadata": {
    "lines_to_next_cell": 0
   },
   "source": [
    "# Conditional Statements\n",
    "\n",
    "**Class Duration**: 3 hours  \n",
    "**Structure**: Lecture & Practice 2 hours + Quiz 1 hour  \n",
    "**Level**: Beginner  \n",
    "**Prerequisites**: Variables, Data Types, Operators, Input/Output\n",
    "\n",
    "---\n",
    "\n",
    "## 🎯 Learning Objectives\n",
    "\n",
    "After completing this lesson, students will be able to:\n",
    "이 수업을 마친 후 학생들은 다음을 할 수 있습니다:\n",
    "\n",
    "- Write basic if, elif, else statements\n",
    "기본적인 if, elif, else 문 작성하기\n",
    "- Use comparison and logical operators in conditions\n",
    "조건에서 비교 및 논리 연산자 사용하기\n",
    "- Create simple decision-making programs\n",
    "간단한 의사결정 프로그램 생성하기\n",
    "- Effectively combine multiple conditions\n",
    "여러 조건을 효과적으로 결합하기\n",
    "\n",
    "---\n",
    "\n",
    "## 🤔 1. What are Conditional Statements?\n",
    "\n",
    "**Conditional Statements** allow programs to make decisions based on different conditions.\n",
    "**조건문**은 프로그램이 다양한 조건에 따라 결정을 내릴 수 있게 해줍니다.\n",
    "\n",
    "### Real-life Example\n",
    "\n",
    "실생활 예시\n",
    "```\n",
    "Everyday Decision:\n",
    "If it's raining → Take an umbrella\n",
    "Otherwise → Wear sunglasses\n",
    "\n",
    "Python Code:\n",
    "if weather == \"rainy\":\n",
    "    print(\"Take an umbrella\")\n",
    "else:\n",
    "    print(\"Wear sunglasses\")\n",
    "```\n",
    "\n",
    "---\n",
    "\n",
    "## 📋 2. Basic if Statement\n",
    "\n",
    "### Syntax\n",
    "\n",
    "문법"
   ]
  },
  {
   "cell_type": "code",
   "execution_count": null,
   "id": "9576e5f4",
   "metadata": {},
   "outputs": [],
   "source": [
    "if condition:\n",
    "    # Code to execute when condition is True\n",
    "    statement"
   ]
  },
  {
   "cell_type": "markdown",
   "id": "2fbd64a7",
   "metadata": {
    "lines_to_next_cell": 0
   },
   "source": [
    "### Important Rules\n",
    "\n",
    "중요 규칙\n",
    "- **Colon (:)** - Must be placed after the condition\n",
    "콜론(:) - 조건 뒤에 반드시 붙여야 함\n",
    "- **Indentation** - Code inside if block must be indented\n",
    "들여쓰기 - if 블록 내부 코드는 반드시 들여쓰기\n",
    "\n",
    "### Simple Examples\n",
    "\n",
    "간단한 예시\n",
    "\n",
    "#### Example 1: Age Verification"
   ]
  },
  {
   "cell_type": "code",
   "execution_count": null,
   "id": "36c002d6",
   "metadata": {},
   "outputs": [],
   "source": [
    "age = int(input(\"Enter your age: \"))\n",
    "\n",
    "if age >= 18:\n",
    "    print(\"You are an adult\")\n",
    "    print(\"You can vote\")\n",
    "\n",
    "print(\"Thank you!\")"
   ]
  },
  {
   "cell_type": "markdown",
   "id": "27766026",
   "metadata": {
    "lines_to_next_cell": 0
   },
   "source": [
    "#### Example 2: Password Verification"
   ]
  },
  {
   "cell_type": "code",
   "execution_count": null,
   "id": "0e523383",
   "metadata": {},
   "outputs": [],
   "source": [
    "password = input(\"Enter your password: \")\n",
    "\n",
    "if len(password) >= 8:\n",
    "    print(\"Strong password\")\n",
    "\n",
    "print(\"Login complete\")"
   ]
  },
  {
   "cell_type": "markdown",
   "id": "c26a04a0",
   "metadata": {
    "lines_to_next_cell": 0
   },
   "source": [
    "---\n",
    "\n",
    "## ⚖️ 3. if-else Statement\n",
    "\n",
    "### Syntax\n",
    "\n",
    "문법"
   ]
  },
  {
   "cell_type": "code",
   "execution_count": null,
   "id": "b3395bdc",
   "metadata": {},
   "outputs": [],
   "source": [
    "if condition:\n",
    "    # Execute when True\n",
    "    statement1\n",
    "else:\n",
    "    # Execute when False\n",
    "    statement2"
   ]
  },
  {
   "cell_type": "markdown",
   "id": "cd920799",
   "metadata": {
    "lines_to_next_cell": 0
   },
   "source": [
    "### Examples\n",
    "\n",
    "예시\n",
    "\n",
    "#### Example 1: Even or Odd"
   ]
  },
  {
   "cell_type": "code",
   "execution_count": null,
   "id": "c38d11f3",
   "metadata": {},
   "outputs": [],
   "source": [
    "number = int(input(\"Enter a number: \"))\n",
    "\n",
    "if number % 2 == 0:\n",
    "    print(f\"{number} is even\")\n",
    "else:\n",
    "    print(f\"{number} is odd\")"
   ]
  },
  {
   "cell_type": "markdown",
   "id": "5657aa66",
   "metadata": {
    "lines_to_next_cell": 0
   },
   "source": [
    "#### Example 2: Pass or Fail"
   ]
  },
  {
   "cell_type": "code",
   "execution_count": null,
   "id": "2ac73ca3",
   "metadata": {},
   "outputs": [],
   "source": [
    "score = int(input(\"Enter your score: \"))\n",
    "\n",
    "if score >= 60:\n",
    "    print(\"You passed!\")\n",
    "else:\n",
    "    print(\"You failed. Try again!\")"
   ]
  },
  {
   "cell_type": "markdown",
   "id": "53b0bc59",
   "metadata": {
    "lines_to_next_cell": 0
   },
   "source": [
    "---\n",
    "\n",
    "## 🔀 4. elif Statement - Multiple Conditions\n",
    "\n",
    "### Syntax\n",
    "\n",
    "문법"
   ]
  },
  {
   "cell_type": "code",
   "execution_count": null,
   "id": "97b47a17",
   "metadata": {},
   "outputs": [],
   "source": [
    "if condition1:\n",
    "    statement1\n",
    "elif condition2:\n",
    "    statement2\n",
    "elif condition3:\n",
    "    statement3\n",
    "else:\n",
    "    statement4"
   ]
  },
  {
   "cell_type": "markdown",
   "id": "9241c0e8",
   "metadata": {
    "lines_to_next_cell": 0
   },
   "source": [
    "### Example: Grade System\n",
    "\n",
    "예시: 성적 등급 시스템"
   ]
  },
  {
   "cell_type": "code",
   "execution_count": null,
   "id": "80b60d3b",
   "metadata": {},
   "outputs": [],
   "source": [
    "score = int(input(\"Enter your score: \"))\n",
    "\n",
    "if score >= 90:\n",
    "    print(\"Grade: A\")\n",
    "elif score >= 80:\n",
    "    print(\"Grade: B\") \n",
    "elif score >= 70:\n",
    "    print(\"Grade: C\")\n",
    "elif score >= 60:\n",
    "    print(\"Grade: D\")\n",
    "else:\n",
    "    print(\"Grade: F\")\n",
    "\n",
    "print(\"Grade calculation complete\")"
   ]
  },
  {
   "cell_type": "markdown",
   "id": "c684941b",
   "metadata": {
    "lines_to_next_cell": 0
   },
   "source": [
    "---\n",
    "\n",
    "## 🧠 5. Logical Operators\n",
    "\n",
    "### Types\n",
    "\n",
    "종류\n",
    "- **and**: Both conditions must be True\n",
    "두 조건 모두 True여야 함\n",
    "- **or**: At least one condition must be True\n",
    "최소 하나의 조건이 True이면 됨\n",
    "- **not**: Reverses the condition\n",
    "조건을 반대로 만듦\n",
    "\n",
    "### Examples\n",
    "\n",
    "예시\n",
    "\n",
    "#### Example 1: Using 'and'"
   ]
  },
  {
   "cell_type": "code",
   "execution_count": null,
   "id": "edfeedd4",
   "metadata": {},
   "outputs": [],
   "source": [
    "age = int(input(\"Enter your age: \"))\n",
    "income = int(input(\"Enter your income: \"))\n",
    "\n",
    "if age >= 18 and income >= 3000:\n",
    "    print(\"Loan approved\")\n",
    "else:\n",
    "    print(\"Loan denied\")"
   ]
  },
  {
   "cell_type": "markdown",
   "id": "b32f9ff1",
   "metadata": {
    "lines_to_next_cell": 0
   },
   "source": [
    "#### Example 2: Using 'or'"
   ]
  },
  {
   "cell_type": "code",
   "execution_count": null,
   "id": "08c656ff",
   "metadata": {},
   "outputs": [],
   "source": [
    "day = input(\"Enter the day: \").lower()\n",
    "\n",
    "if day == \"saturday\" or day == \"sunday\":\n",
    "    print(\"It's weekend!\")\n",
    "else:\n",
    "    print(\"It's a weekday\")"
   ]
  },
  {
   "cell_type": "markdown",
   "id": "59dbaf30",
   "metadata": {
    "lines_to_next_cell": 0
   },
   "source": [
    "#### Example 3: Using 'not'"
   ]
  },
  {
   "cell_type": "code",
   "execution_count": null,
   "id": "07d4aa40",
   "metadata": {},
   "outputs": [],
   "source": [
    "is_raining = input(\"Is it raining? (yes/no): \").lower()\n",
    "\n",
    "if not is_raining == \"yes\":\n",
    "    print(\"Great weather for a walk!\")\n",
    "else:\n",
    "    print(\"Better stay indoors\")"
   ]
  },
  {
   "cell_type": "markdown",
   "id": "a2d2ced7",
   "metadata": {
    "lines_to_next_cell": 0
   },
   "source": [
    "---\n",
    "\n",
    "## 🔧 Practice Problems\n",
    "\n",
    "### Practice 1: Grade Classification Program\n",
    "\n",
    "**Problem**: Create a program that determines letter grades based on numerical scores.\n",
    "**문제**: 숫자 점수를 바탕으로 문자 등급을 결정하는 프로그램을 만드세요.\n",
    "\n",
    "**Requirements**:\n",
    "**요구사항**:\n",
    "- Input student score (0-100)\n",
    "- Assign grades: A(90+), B(80+), C(70+), D(60+), F(below 60)\n",
    "- Display results clearly\n",
    "\n",
    "**Solution**:\n",
    "**정답**:"
   ]
  },
  {
   "cell_type": "code",
   "execution_count": null,
   "id": "f5ab0a75",
   "metadata": {},
   "outputs": [],
   "source": [
    "# Grade Classification Program\n",
    "print(\"=== Grade Classification Program ===\")\n",
    "\n",
    "# Input student score\n",
    "score = int(input(\"Enter student score (0-100): \"))\n",
    "\n",
    "# Determine grade\n",
    "if score >= 90:\n",
    "    grade = \"A\"\n",
    "elif score >= 80:\n",
    "    grade = \"B\"\n",
    "elif score >= 70:\n",
    "    grade = \"C\"\n",
    "elif score >= 60:\n",
    "    grade = \"D\"\n",
    "else:\n",
    "    grade = \"F\"\n",
    "\n",
    "# Display results\n",
    "print(f\"Score: {score} points\")\n",
    "print(f\"Grade: {grade}\")"
   ]
  },
  {
   "cell_type": "markdown",
   "id": "e30db47a",
   "metadata": {
    "lines_to_next_cell": 0
   },
   "source": [
    "### Practice 2: Simple Calculator\n",
    "\n",
    "**Problem**: Create a program that takes two numbers and an operator, then shows the calculation result.\n",
    "**문제**: 두 숫자와 연산자를 입력받아 계산 결과를 보여주는 프로그램을 만드세요.\n",
    "\n",
    "**Requirements**:\n",
    "**요구사항**:\n",
    "- Input two numbers\n",
    "- Choose operator (+, -, *, /)\n",
    "- Display calculation result\n",
    "- Handle division by zero error\n",
    "\n",
    "**Solution**:\n",
    "**정답**:"
   ]
  },
  {
   "cell_type": "code",
   "execution_count": null,
   "id": "bfa21a05",
   "metadata": {},
   "outputs": [],
   "source": [
    "# Simple Calculator\n",
    "print(\"=== Simple Calculator ===\")\n",
    "\n",
    "# Input numbers\n",
    "num1 = float(input(\"First number: \"))\n",
    "num2 = float(input(\"Second number: \"))\n",
    "\n",
    "# Input operator\n",
    "operator = input(\"Choose operator (+, -, *, /): \")\n",
    "\n",
    "# Calculate and display result\n",
    "if operator == \"+\":\n",
    "    result = num1 + num2\n",
    "    print(f\"{num1} + {num2} = {result}\")\n",
    "elif operator == \"-\":\n",
    "    result = num1 - num2\n",
    "    print(f\"{num1} - {num2} = {result}\")\n",
    "elif operator == \"*\":\n",
    "    result = num1 * num2\n",
    "    print(f\"{num1} × {num2} = {result}\")\n",
    "elif operator == \"/\":\n",
    "    if num2 != 0:\n",
    "        result = num1 / num2\n",
    "        print(f\"{num1} ÷ {num2} = {result:.2f}\")\n",
    "    else:\n",
    "        print(\"Error: Cannot divide by zero\")\n",
    "else:\n",
    "    print(\"Invalid operator\")"
   ]
  },
  {
   "cell_type": "markdown",
   "id": "ae170821",
   "metadata": {
    "lines_to_next_cell": 0
   },
   "source": [
    "### Practice 3: Age-based Pricing Program\n",
    "\n",
    "**Problem**: Create a program that calculates different prices based on age.\n",
    "**문제**: 나이에 따라 다른 요금을 계산하는 프로그램을 만드세요.\n",
    "\n",
    "**Requirements**:\n",
    "**요구사항**:\n",
    "- Base price: $100\n",
    "- Under 18: 50% discount\n",
    "- 65 and over: 30% discount\n",
    "- Calculate final discounted price\n",
    "\n",
    "**Solution**:\n",
    "**정답**:"
   ]
  },
  {
   "cell_type": "code",
   "execution_count": null,
   "id": "6915e7b2",
   "metadata": {},
   "outputs": [],
   "source": [
    "# Age-based Pricing Program\n",
    "print(\"=== Age-based Pricing Calculator ===\")\n",
    "\n",
    "# Input age\n",
    "age = int(input(\"Enter your age: \"))\n",
    "\n",
    "# Base price\n",
    "base_price = 100\n",
    "final_price = base_price\n",
    "\n",
    "print(f\"Base price: ${base_price}\")\n",
    "\n",
    "# Apply age-based discount\n",
    "if age < 18:\n",
    "    final_price = base_price * 0.5  # 50% discount\n",
    "    print(\"Youth discount: 50% off\")\n",
    "elif age >= 65:\n",
    "    final_price = base_price * 0.7  # 30% discount\n",
    "    print(\"Senior discount: 30% off\")\n",
    "else:\n",
    "    print(\"No discount\")\n",
    "\n",
    "# Display final price\n",
    "print(f\"Final price: ${final_price:.0f}\")"
   ]
  },
  {
   "cell_type": "markdown",
   "id": "f6e59bdb",
   "metadata": {},
   "source": [
    "---\n",
    "\n",
    "## 📝 Quiz\n",
    "\n",
    "### Quiz 1: Grade System\n",
    "\n",
    "**Problem**: Write a program that assigns letter grades based on numerical scores:\n",
    "**문제**: 숫자 점수를 바탕으로 문자 등급을 부여하는 프로그램을 작성하세요:\n",
    "\n",
    "- 90 and above: \"A\"\n",
    "- 80 and above: \"B\"  \n",
    "- 70 and above: \"C\"\n",
    "- Otherwise: \"F\"\n",
    "\n",
    "The program should input a score and output the corresponding letter grade.\n",
    "\n",
    "### Quiz 2: Age Category Classification\n",
    "\n",
    "**Problem**: Create a program that classifies people by age according to these criteria:\n",
    "**문제**: 다음 기준에 따라 나이별로 사람을 분류하는 프로그램을 만드세요:\n",
    "\n",
    "- Under 18: \"Minor\"\n",
    "- 18-64: \"Adult\"\n",
    "- 65 and over: \"Senior\"\n",
    "\n",
    "The program should input an age and display the appropriate category.\n",
    "\n",
    "### Quiz 3: Leap Year Calculator\n",
    "\n",
    "**Problem**: Write a program to determine if a given year is a leap year using these rules:\n",
    "**문제**: 다음 규칙을 사용하여 주어진 연도가 윤년인지 판별하는 프로그램을 작성하세요:\n",
    "\n",
    "- Divisible by 4: leap year\n",
    "- But if divisible by 100: not a leap year\n",
    "- But if divisible by 400: leap year\n",
    "\n",
    "Examples:\n",
    "- 2004: leap year (divisible by 4, not by 100)\n",
    "- 2000: leap year (divisible by 400)  \n",
    "- 1900: not a leap year (divisible by 100 but not by 400)\n",
    "\n",
    "The program should input a year and tell whether it's a leap year or not.\n",
    "\n",
    "---\n",
    "\n",
    "## 📖 References\n",
    "\n",
    "1. **Python Official Tutorial**: https://docs.python.org/3/tutorial/controlflow.html\n",
    "   - Official guide to control flow\n",
    "   제어 흐름에 대한 공식 가이드\n",
    "\n",
    "2. **Python Conditional Statements**: https://www.w3schools.com/python/python_conditions.asp\n",
    "   - Interactive examples and explanations\n",
    "   대화형 예제와 설명\n",
    "\n",
    "3. **Real Python - Conditional Statements**: https://realpython.com/python-conditional-statements/\n",
    "   - Detailed explanation of Python conditionals\n",
    "   파이썬 조건문의 상세한 설명\n",
    "\n",
    "---\n",
    "\n",
    "## 💡 Tips for Success\n",
    "\n",
    "### Common Mistakes\n",
    "\n",
    "일반적인 실수\n",
    "- **Missing colons (:)** - Colon is required after if/elif/else\n",
    "콜론(:) 빼먹기 - if/elif/else 뒤에 콜론 필수\n",
    "- **Wrong indentation** - Python is very strict about indentation!\n",
    "잘못된 들여쓰기 - 파이썬은 들여쓰기에 매우 엄격함!\n",
    "- **Using = instead of == for comparison** - Distinguish assignment (=) from comparison (==)\n",
    "비교에 = 대신 == 사용 - 할당(=)과 비교(==) 구분하기\n",
    "\n",
    "### Practice Tips\n",
    "\n",
    "연습 팁\n",
    "- **Start simple**: Begin with basic if-else before moving to complex conditions\n",
    "간단히 시작: 기본 if-else부터 시작하기\n",
    "- **Test your code**: Try different input values to test your program\n",
    "코드 테스트: 다양한 입력값으로 테스트해보기\n",
    "- **Use print()**: Check variable contents while debugging\n",
    "print() 활용: 변수 내용을 확인하며 디버깅하기\n",
    "\n",
    "### Debugging Tips\n",
    "\n",
    "디버깅 요령\n",
    "- **Check indentation**: Ensure all lines are properly indented\n",
    "들여쓰기 확인: 모든 줄이 올바르게 들여쓰기되었는지 확인\n",
    "- **Condition order**: Verify that elif conditions are in logical order\n",
    "조건 순서: elif 조건들의 순서가 논리적인지 확인\n",
    "- **Use parentheses**: Use parentheses to clarify priority in complex conditions\n",
    "괄호 사용: 복잡한 조건에서는 괄호로 우선순위 명확히 하기\n",
    "\n",
    "### Advice for International Students\n",
    "\n",
    "국제 학생들을 위한 조언\n",
    "- **Memorize English keywords**: Learn basic keywords like if, elif, else, and, or, not\n",
    "영어 키워드 암기: if, elif, else, and, or, not 등 기본 키워드 숙지\n",
    "- **Logical thinking**: Conditional statements follow the same logic as everyday decision-making\n",
    "논리적 사고: 조건문은 일상의 의사결정과 같은 논리 구조\n",
    "- **Step-by-step approach**: Break complex conditions into simple ones\n",
    "단계별 접근: 복잡한 조건은 단순한 조건들로 나누어 생각하기\n",
    "\n",
    "---\n",
    "\n",
    "## 📋 Homework\n",
    "\n",
    "### Practice Problems\n",
    "\n",
    "연습 문제\n",
    "1. **Day Classifier**: Create a program that tells whether an input day is a weekday or weekend\n",
    "요일 분류기: 요일을 입력받아 평일인지 주말인지 알려주는 프로그램\n",
    "\n",
    "2. **Password Validator**: Create a program that checks if a password is \"strong\" (8+ characters) or \"weak\"\n",
    "비밀번호 검증기: 비밀번호가 \"강함\"(8자 이상)인지 \"약함\"인지 확인하는 프로그램\n",
    "\n",
    "3. **Temperature Advisor**: Create a program that suggests appropriate clothing based on temperature\n",
    "온도 조언기: 온도를 입력받아 적절한 옷차림을 조언하는 프로그램\n",
    "   - 86°F and above: \"T-shirt and shorts\"\n",
    "   - 68-85°F: \"Long-sleeve shirt\"\n",
    "   - 50-67°F: \"Light jacket\"\n",
    "   - Below 50°F: \"Heavy coat\"\n",
    "\n",
    "### Challenge Problem\n",
    "\n",
    "도전 문제\n",
    "**Comprehensive Grade Calculator**: Create a program that inputs scores for multiple subjects, calculates total, average, assigns grades, and determines pass/fail status.\n",
    "**종합 점수 계산기**: 여러 과목의 점수를 입력받아 총점, 평균, 등급을 계산하고 합격/불합격을 판정하는 프로그램을 만드세요.\n",
    "- Input scores for 3 subjects\n",
    "- Calculate total and average\n",
    "- Assign grade based on average\n",
    "- Pass if average ≥ 60, fail if below 60\n",
    "\n",
    "**Good luck on your programming journey!** 🌟\n",
    "**프로그래밍 여정에 행운을 빕니다!**"
   ]
  }
 ],
 "metadata": {
  "jupytext": {
   "cell_metadata_filter": "-all",
   "main_language": "python",
   "notebook_metadata_filter": "-all"
  }
 },
 "nbformat": 4,
 "nbformat_minor": 5
}
