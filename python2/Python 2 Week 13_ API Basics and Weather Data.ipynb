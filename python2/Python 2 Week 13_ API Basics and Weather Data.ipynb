{
 "cells": [
  {
   "cell_type": "markdown",
   "id": "2341d084",
   "metadata": {},
   "source": [
    "# Week 13: API Basics and Weather Data\n",
    "**API 기초 및 날씨 데이터**\n",
    "\n",
    "**Duration (수업 시간)**: 3 hours (3시간)  \n",
    "**Structure (구성)**: Lecture & Lab 2 hours + Quiz 1 hour (강의 및 실습 2시간 + 퀴즈 1시간)  \n",
    "**Level (수준)**: Intermediate (중급)\n",
    "\n",
    "---\n",
    "\n",
    "## Learning Objectives (학습 목표)\n",
    "\n",
    "By the end of this lesson, students will be able to:\n",
    "이 수업을 마친 후 학생들은 다음을 할 수 있습니다:\n",
    "\n",
    "- Understand what APIs are (API가 무엇인지 이해)\n",
    "- Work with JSON data (JSON 데이터 다루기)\n",
    "- Make simple API requests (간단한 API 요청하기)\n",
    "- Get weather information (날씨 정보 가져오기)\n",
    "\n",
    "---\n",
    "\n",
    "## 1. What are APIs? (API란 무엇인가?)\n",
    "\n",
    "An **API** is like a waiter in a restaurant. You ask for something, and it brings you what you need.\n",
    "**API**는 레스토랑의 웨이터와 같습니다. 무언가를 요청하면 필요한 것을 가져다줍니다.\n",
    "\n",
    "### Simple Example (간단한 예시)\n",
    "- You: \"I want weather for Seoul\" (당신: \"서울 날씨를 원해요\")\n",
    "- API: Gets weather data and gives it to you (API: 날씨 데이터를 가져와서 당신에게 줍니다)\n",
    "\n",
    "---\n",
    "\n",
    "## 2. JSON Data Format (JSON 데이터 형식)\n",
    "\n",
    "**JSON** looks like Python dictionaries. APIs send data in JSON format.\n",
    "**JSON**은 Python 딕셔너리와 비슷하게 생겼습니다. API는 JSON 형식으로 데이터를 보냅니다.\n",
    "\n",
    "### JSON Example (JSON 예시)"
   ]
  },
  {
   "cell_type": "code",
   "execution_count": null,
   "id": "3a3a6b5b",
   "metadata": {},
   "outputs": [],
   "source": [
    "import json\n",
    "\n",
    "# JSON string (what APIs send)\n",
    "json_data = '{\"city\": \"Seoul\", \"temperature\": 25, \"weather\": \"sunny\"}'\n",
    "\n",
    "# Convert to Python dictionary\n",
    "data = json.loads(json_data)\n",
    "print(f\"City: {data['city']}\")\n",
    "print(f\"Temperature: {data['temperature']}°C\")\n",
    "print(f\"Weather: {data['weather']}\")"
   ]
  },
  {
   "cell_type": "markdown",
   "id": "cc688ce0",
   "metadata": {},
   "source": [
    "---\n",
    "\n",
    "## 3. Making API Requests (API 요청하기)\n",
    "\n",
    "We use the **requests** library to get data from APIs.\n",
    "**requests** 라이브러리를 사용하여 API에서 데이터를 가져옵니다.\n",
    "\n",
    "### Basic Request (기본 요청)"
   ]
  },
  {
   "cell_type": "code",
   "execution_count": null,
   "id": "563f54b1",
   "metadata": {},
   "outputs": [],
   "source": [
    "import requests\n",
    "\n",
    "# Get data from a test API\n",
    "response = requests.get('https://httpbin.org/json')\n",
    "\n",
    "if response.status_code == 200:\n",
    "    data = response.json()\n",
    "    print(\"Success! Got data:\")\n",
    "    print(data)\n",
    "else:\n",
    "    print(\"Error getting data\")"
   ]
  },
  {
   "cell_type": "markdown",
   "id": "17bdc413",
   "metadata": {},
   "source": [
    "---\n",
    "\n",
    "## 4. Weather API Example (날씨 API 예시)\n",
    "\n",
    "Since real weather APIs need keys, we'll simulate how they work.\n",
    "실제 날씨 API는 키가 필요하므로 작동 방식을 시뮬레이션해보겠습니다.\n",
    "\n",
    "### Simulated Weather Data (시뮬레이션된 날씨 데이터)"
   ]
  },
  {
   "cell_type": "code",
   "execution_count": null,
   "id": "665a7b37",
   "metadata": {},
   "outputs": [],
   "source": [
    "def get_weather(city):\n",
    "    # This simulates what a weather API returns\n",
    "    weather_data = {\n",
    "        \"Seoul\": {\"temp\": 25, \"weather\": \"Sunny\"},\n",
    "        \"Busan\": {\"temp\": 28, \"weather\": \"Cloudy\"},\n",
    "        \"Tokyo\": {\"temp\": 22, \"weather\": \"Rainy\"}\n",
    "    }\n",
    "    \n",
    "    if city in weather_data:\n",
    "        return weather_data[city]\n",
    "    else:\n",
    "        return None\n",
    "\n",
    "# Test the function\n",
    "city = \"Seoul\"\n",
    "weather = get_weather(city)\n",
    "\n",
    "if weather:\n",
    "    print(f\"Weather in {city}:\")\n",
    "    print(f\"Temperature: {weather['temp']}°C\")\n",
    "    print(f\"Condition: {weather['weather']}\")\n",
    "else:\n",
    "    print(\"City not found\")"
   ]
  },
  {
   "cell_type": "markdown",
   "id": "6f5b8958",
   "metadata": {},
   "source": [
    "---\n",
    "\n",
    "## Lab Exercises (실습)\n",
    "\n",
    "### Lab 1: Simple Weather App (간단한 날씨 앱)\n",
    "\n",
    "**Problem**: Create a weather app that shows temperature for different cities.\n",
    "문제: 다른 도시의 온도를 보여주는 날씨 앱을 만드세요.\n",
    "\n",
    "**Solution**:"
   ]
  },
  {
   "cell_type": "code",
   "execution_count": null,
   "id": "71cecdcc",
   "metadata": {},
   "outputs": [],
   "source": [
    "def get_weather_info(city):\n",
    "    # Simulated weather data\n",
    "    weather_db = {\n",
    "        \"Seoul\": {\"temperature\": 23, \"condition\": \"Sunny\"},\n",
    "        \"Busan\": {\"temperature\": 26, \"condition\": \"Cloudy\"},\n",
    "        \"Incheon\": {\"temperature\": 21, \"condition\": \"Windy\"}\n",
    "    }\n",
    "    \n",
    "    return weather_db.get(city, None)\n",
    "\n",
    "def weather_app():\n",
    "    print(\"Weather Information System\")\n",
    "    \n",
    "    while True:\n",
    "        city = input(\"Enter city name (or 'quit'): \")\n",
    "        \n",
    "        if city.lower() == 'quit':\n",
    "            break\n",
    "            \n",
    "        weather = get_weather_info(city)\n",
    "        \n",
    "        if weather:\n",
    "            print(f\"City: {city}\")\n",
    "            print(f\"Temperature: {weather['temperature']}°C\")\n",
    "            print(f\"Condition: {weather['condition']}\")\n",
    "        else:\n",
    "            print(\"Sorry, no data for this city\")\n",
    "        print()\n",
    "\n",
    "# Run the app\n",
    "weather_app()"
   ]
  },
  {
   "cell_type": "markdown",
   "id": "50764f03",
   "metadata": {},
   "source": [
    "### Lab 2: Currency Exchange Checker (환율 확인기)\n",
    "\n",
    "**Problem**: Check exchange rates between different currencies.\n",
    "문제: 다른 통화 간의 환율을 확인하세요.\n",
    "\n",
    "**Solution**:"
   ]
  },
  {
   "cell_type": "code",
   "execution_count": null,
   "id": "67be3b2e",
   "metadata": {},
   "outputs": [],
   "source": [
    "def get_exchange_rate():\n",
    "    # Simulated exchange rates (USD to other currencies)\n",
    "    rates = {\n",
    "        \"KRW\": 1300,\n",
    "        \"JPY\": 150,\n",
    "        \"EUR\": 0.9,\n",
    "        \"GBP\": 0.8\n",
    "    }\n",
    "    return rates\n",
    "\n",
    "def convert_currency(amount, currency):\n",
    "    rates = get_exchange_rate()\n",
    "    \n",
    "    if currency in rates:\n",
    "        converted = amount * rates[currency]\n",
    "        return converted\n",
    "    else:\n",
    "        return None\n",
    "\n",
    "# Test the converter\n",
    "usd_amount = 100\n",
    "currencies = [\"KRW\", \"JPY\", \"EUR\"]\n",
    "\n",
    "print(f\"${usd_amount} USD equals:\")\n",
    "for currency in currencies:\n",
    "    result = convert_currency(usd_amount, currency)\n",
    "    if result:\n",
    "        print(f\"{result} {currency}\")"
   ]
  },
  {
   "cell_type": "markdown",
   "id": "7a52a743",
   "metadata": {},
   "source": [
    "### Lab 3: Transportation Info (교통 정보)\n",
    "\n",
    "**Problem**: Show bus arrival times for different routes.\n",
    "문제: 다른 노선의 버스 도착 시간을 보여주세요.\n",
    "\n",
    "**Solution**:"
   ]
  },
  {
   "cell_type": "code",
   "execution_count": null,
   "id": "b9516086",
   "metadata": {},
   "outputs": [],
   "source": [
    "def get_bus_info(route):\n",
    "    # Simulated bus data\n",
    "    bus_data = {\n",
    "        \"100\": {\"destination\": \"Seoul Station\", \"next_bus\": \"5 min\"},\n",
    "        \"200\": {\"destination\": \"Gangnam\", \"next_bus\": \"8 min\"},\n",
    "        \"300\": {\"destination\": \"Hongdae\", \"next_bus\": \"12 min\"}\n",
    "    }\n",
    "    \n",
    "    return bus_data.get(route, None)\n",
    "\n",
    "def bus_info_app():\n",
    "    print(\"Bus Information System\")\n",
    "    \n",
    "    available_routes = [\"100\", \"200\", \"300\"]\n",
    "    print(f\"Available routes: {', '.join(available_routes)}\")\n",
    "    \n",
    "    while True:\n",
    "        route = input(\"Enter bus route number (or 'quit'): \")\n",
    "        \n",
    "        if route.lower() == 'quit':\n",
    "            break\n",
    "            \n",
    "        bus_info = get_bus_info(route)\n",
    "        \n",
    "        if bus_info:\n",
    "            print(f\"Route {route}\")\n",
    "            print(f\"Destination: {bus_info['destination']}\")\n",
    "            print(f\"Next bus: {bus_info['next_bus']}\")\n",
    "        else:\n",
    "            print(\"Route not found\")\n",
    "        print()\n",
    "\n",
    "# Run the app\n",
    "bus_info_app()"
   ]
  },
  {
   "cell_type": "markdown",
   "id": "07453397",
   "metadata": {
    "lines_to_next_cell": 0
   },
   "source": [
    "---\n",
    "\n",
    "## Quiz Section (퀴즈)\n",
    "\n",
    "### Quiz 1: JSON Processing\n",
    "\n",
    "**Question**: Parse this JSON string and print the temperature: '{\"city\": \"Seoul\", \"temp\": 20, \"humidity\": 60}'\n",
    "\n",
    "다음 JSON 문자열을 파싱하고 온도를 출력하세요: '{\"city\": \"Seoul\", \"temp\": 20, \"humidity\": 60}'\n",
    "\n",
    "**Write your answer here (답을 여기에 작성하세요)**:"
   ]
  },
  {
   "cell_type": "code",
   "execution_count": null,
   "id": "ac0c60e5",
   "metadata": {},
   "outputs": [],
   "source": [
    "# Your code here"
   ]
  },
  {
   "cell_type": "markdown",
   "id": "d1f1a38e",
   "metadata": {
    "lines_to_next_cell": 0
   },
   "source": [
    "### Quiz 2: Weather Function\n",
    "\n",
    "**Question**: Create a function that takes a city name and returns weather information. Use this data: {\"Tokyo\": {\"temp\": 25, \"weather\": \"Rainy\"}, \"Paris\": {\"temp\": 18, \"weather\": \"Cloudy\"}}\n",
    "\n",
    "도시 이름을 받아 날씨 정보를 반환하는 함수를 만드세요. 다음 데이터를 사용하세요: {\"Tokyo\": {\"temp\": 25, \"weather\": \"Rainy\"}, \"Paris\": {\"temp\": 18, \"weather\": \"Cloudy\"}}\n",
    "\n",
    "**Write your answer here (답을 여기에 작성하세요)**:"
   ]
  },
  {
   "cell_type": "code",
   "execution_count": null,
   "id": "17810380",
   "metadata": {},
   "outputs": [],
   "source": [
    "# Your code here"
   ]
  },
  {
   "cell_type": "markdown",
   "id": "9c268475",
   "metadata": {
    "lines_to_next_cell": 0
   },
   "source": [
    "### Quiz 3: Simple API App\n",
    "\n",
    "**Question**: Create a program that asks for a city name and shows its weather. Handle the case when the city is not found.\n",
    "\n",
    "도시 이름을 묻고 날씨를 보여주는 프로그램을 만드세요. 도시를 찾을 수 없는 경우를 처리하세요.\n",
    "\n",
    "**Write your answer here (답을 여기에 작성하세요)**:"
   ]
  },
  {
   "cell_type": "code",
   "execution_count": null,
   "id": "60ad7f6c",
   "metadata": {},
   "outputs": [],
   "source": [
    "# Your code here"
   ]
  },
  {
   "cell_type": "markdown",
   "id": "668bfa94",
   "metadata": {},
   "source": [
    "---\n",
    "\n",
    "## References (참고)\n",
    "\n",
    "1. **Python Requests Tutorial**: https://requests.readthedocs.io/en/latest/\n",
    "2. **JSON in Python**: https://docs.python.org/3/library/json.html\n",
    "3. **REST API Basics**: https://restfulapi.net/\n",
    "4. **Weather API Examples**: https://openweathermap.org/api\n",
    "\n",
    "---\n",
    "\n",
    "## Key Points (핵심 포인트)\n",
    "\n",
    "### Remember (기억하세요)\n",
    "1. **API = waiter**: Gets data for you (API = 웨이터: 데이터를 가져다줌)\n",
    "2. **JSON = like dictionaries**: Easy to use (JSON = 딕셔너리와 비슷: 사용하기 쉬움)\n",
    "3. **Status 200 = success**: Always check this (상태 200 = 성공: 항상 확인)\n",
    "4. **Simulate before real APIs**: Practice with fake data first (실제 API 전에 시뮬레이션: 먼저 가짜 데이터로 연습)\n",
    "\n",
    "### Next Week Preview (다음 주 미리보기)\n",
    "Next week: **Final Project** - Combining everything you learned\n",
    "다음 주: **최종 프로젝트** - 배운 모든 것 결합하기\n",
    "\n",
    "---\n",
    "\n",
    "## Homework (숙제)\n",
    "\n",
    "1. Complete all three lab exercises (3개 실습 모두 완료)\n",
    "2. Practice JSON parsing with different data (다른 데이터로 JSON 파싱 연습)\n",
    "3. Create your own simulated API data (자신만의 시뮬레이션 API 데이터 만들기)\n",
    "\n",
    "**APIs help your programs talk to the world!**\n",
    "**API는 프로그램이 세상과 대화하는 데 도움이 됩니다!**"
   ]
  }
 ],
 "metadata": {
  "jupytext": {
   "cell_metadata_filter": "-all",
   "main_language": "python",
   "notebook_metadata_filter": "-all"
  }
 },
 "nbformat": 4,
 "nbformat_minor": 5
}
