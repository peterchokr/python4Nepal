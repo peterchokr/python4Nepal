{
 "cells": [
  {
   "cell_type": "markdown",
   "id": "95de63cd",
   "metadata": {
    "lines_to_next_cell": 0
   },
   "source": [
    "# Input and Output\n",
    "\n",
    "**Class Duration**: 3 hours  \n",
    "**Structure**: Lecture & Practice 2 hours + Quiz 1 hour  \n",
    "**Level**: Beginner to Intermediate  \n",
    "**Prerequisites**: Variables, Data Types, Basic Operators\n",
    "\n",
    "---\n",
    "\n",
    "## 🎯 Learning Objectives\n",
    "\n",
    "After completing this lesson, students will be able to:\n",
    "이 수업을 마친 후 학생들은 다음을 할 수 있습니다:\n",
    "\n",
    "- Write interactive programs that communicate with users\n",
    "사용자와 소통하는 대화형 프로그램 작성하기\n",
    "- Use the input() function to receive data from users\n",
    "input() 함수를 사용하여 사용자로부터 데이터 받기\n",
    "- Utilize advanced features of the print() function\n",
    "print() 함수의 고급 기능 활용하기\n",
    "- Perform safe conversions between different data types\n",
    "다양한 데이터 타입 간 안전한 변환 수행하기\n",
    "- Handle basic input errors gracefully\n",
    "기본적인 입력 오류를 우아하게 처리하기\n",
    "\n",
    "---\n",
    "\n",
    "## 💬 1. What is Input and Output?\n",
    "\n",
    "### Definition\n",
    "\n",
    "**Input and Output (I/O)** is how programs communicate with users and the external world.\n",
    "**입출력**은 프로그램이 사용자 및 외부 세계와 소통하는 방법입니다.\n",
    "\n",
    "- **Input**: Receiving data from the user\n",
    "- **Output**: Sending data to the user\n",
    "\n",
    "### Real-life Analogy\n",
    "\n",
    "Think of I/O as everyday conversation:\n",
    "입출력을 일상 대화로 생각해보세요:\n",
    "\n",
    "```\n",
    "Everyday Conversation:\n",
    "Person A: \"What's your name?\" (Output - asking question)\n",
    "Person B: \"My name is John Smith\" (Input - providing answer)\n",
    "Person A: \"Nice to meet you, John!\" (Output - responding)\n",
    "\n",
    "Python Program:\n",
    "print(\"What's your name?\") (Output)\n",
    "name = input() (Input)\n",
    "print(f\"Nice to meet you, {name}!\") (Output)\n",
    "```\n",
    "\n",
    "### Why Interactive Programs Matter\n",
    "\n",
    "대화형 프로그램이 중요한 이유\n",
    "- **User Experience**: Makes programs more engaging\n",
    "사용자 경험: 프로그램을 더 매력적으로 만듦\n",
    "- **Personalization**: Each user gets personalized results\n",
    "개인화: 각 사용자가 개인화된 결과를 얻음\n",
    "- **Flexibility**: Programs can adapt to different situations\n",
    "유연성: 프로그램이 다양한 상황에 적응 가능\n",
    "- **Real Applications**: Most software requires user interaction\n",
    "실제 응용: 대부분의 소프트웨어는 사용자 상호작용이 필요\n",
    "\n",
    "---\n",
    "\n",
    "## 🎤 2. The input() Function\n",
    "\n",
    "### Basic Syntax\n",
    "\n",
    "기본 문법"
   ]
  },
  {
   "cell_type": "code",
   "execution_count": null,
   "id": "c744d4a7",
   "metadata": {},
   "outputs": [],
   "source": [
    "variable_name = input(prompt_message)"
   ]
  },
  {
   "cell_type": "markdown",
   "id": "0cb65458",
   "metadata": {
    "lines_to_next_cell": 0
   },
   "source": [
    "### How input() Works\n",
    "\n",
    "input() 작동 원리\n",
    "1. **Display**: Shows the prompt message on screen\n",
    "표시: 프롬프트 메시지를 화면에 표시\n",
    "2. **Wait**: Waits for user to type something\n",
    "대기: 사용자가 무언가 입력하기를 기다림\n",
    "3. **Capture**: Captures what the user entered\n",
    "캐치: 사용자가 입력한 내용을 받아옴\n",
    "4. **Return**: Returns the input as a string\n",
    "반환: 입력된 내용을 문자열로 반환\n",
    "\n",
    "### Simple Examples\n",
    "\n",
    "간단한 예시\n",
    "\n",
    "#### Example 1: Basic Input"
   ]
  },
  {
   "cell_type": "code",
   "execution_count": null,
   "id": "6f6603b7",
   "metadata": {},
   "outputs": [],
   "source": [
    "# Get user's name\n",
    "name = input(\"Enter your name: \")\n",
    "print(\"Hello\", name)\n",
    "\n",
    "# Execution result:\n",
    "# Enter your name: John Smith\n",
    "# Hello John Smith"
   ]
  },
  {
   "cell_type": "markdown",
   "id": "75b45756",
   "metadata": {
    "lines_to_next_cell": 0
   },
   "source": [
    "#### Example 2: Better Prompts"
   ]
  },
  {
   "cell_type": "code",
   "execution_count": null,
   "id": "50c15f01",
   "metadata": {},
   "outputs": [],
   "source": [
    "# More detailed prompts\n",
    "age = input(\"Please enter your age: \")\n",
    "city = input(\"Which city do you live in? \")\n",
    "\n",
    "print(\"You are\", age, \"years old\")\n",
    "print(\"You live in\", city)\n",
    "\n",
    "# Execution result:\n",
    "# Please enter your age: 25\n",
    "# Which city do you live in? New York\n",
    "# You are 25 years old\n",
    "# You live in New York"
   ]
  },
  {
   "cell_type": "markdown",
   "id": "31f1b072",
   "metadata": {
    "lines_to_next_cell": 0
   },
   "source": [
    "#### Example 3: Multiple Inputs"
   ]
  },
  {
   "cell_type": "code",
   "execution_count": null,
   "id": "32fa08eb",
   "metadata": {},
   "outputs": [],
   "source": [
    "# Collecting multiple pieces of information\n",
    "print(\"=== User Registration ===\")\n",
    "username = input(\"Choose a username: \")\n",
    "email = input(\"Enter your email: \")\n",
    "hobby = input(\"What is your hobby? \")\n",
    "\n",
    "print(\"\\n=== Profile Information ===\")\n",
    "print(f\"Username: {username}\")\n",
    "print(f\"Email: {email}\")\n",
    "print(f\"Hobby: {hobby}\")"
   ]
  },
  {
   "cell_type": "markdown",
   "id": "7fb997d9",
   "metadata": {},
   "source": [
    "### Important Notes About input()\n",
    "\n",
    "input()에 대한 중요 사항\n",
    "- ⚠️ **Always returns a string**: Even if user enters numbers, they're returned as strings\n",
    "항상 문자열을 반환: 사용자가 숫자를 입력해도 문자열로 반환됨\n",
    "- ⚠️ **Waits until Enter key**: Program stops until user presses Enter\n",
    "Enter 키를 누를 때까지 대기: 사용자가 Enter를 누르기 전까지 프로그램이 멈춤\n",
    "- ⚠️ **Allows empty input**: User can press Enter without typing anything\n",
    "빈 입력도 허용: 아무것도 입력하지 않고 Enter를 눌러도 됨"
   ]
  },
  {
   "cell_type": "code",
   "execution_count": null,
   "id": "cdacf7ed",
   "metadata": {},
   "outputs": [],
   "source": [
    "# This might be surprising!\n",
    "number = input(\"Enter a number: \")\n",
    "print(type(number))  # <class 'str'> - It's a string!\n",
    "\n",
    "# Enter a number: 25\n",
    "# <class 'str'>"
   ]
  },
  {
   "cell_type": "markdown",
   "id": "d639ed99",
   "metadata": {
    "lines_to_next_cell": 0
   },
   "source": [
    "---\n",
    "\n",
    "## 🖨️ 3. Advanced print() Function\n",
    "\n",
    "### Basic Review\n",
    "\n",
    "기본 복습"
   ]
  },
  {
   "cell_type": "code",
   "execution_count": null,
   "id": "c691539c",
   "metadata": {},
   "outputs": [],
   "source": [
    "print(\"Hello\")  # Simple text\n",
    "print(\"Hello\", \"World\")  # Multiple arguments"
   ]
  },
  {
   "cell_type": "markdown",
   "id": "11459b1a",
   "metadata": {},
   "source": [
    "### Advanced Features\n",
    "\n",
    "고급 기능\n",
    "\n",
    "#### 1. sep Parameter\n",
    "\n",
    "Controls what appears between multiple arguments:\n",
    "여러 인수 사이에 나타나는 것을 제어합니다:"
   ]
  },
  {
   "cell_type": "code",
   "execution_count": null,
   "id": "97aa192d",
   "metadata": {},
   "outputs": [],
   "source": [
    "# Default separator is space\n",
    "print(\"apple\", \"banana\", \"cherry\")\n",
    "# Output: apple banana cherry\n",
    "\n",
    "# Custom separator\n",
    "print(\"apple\", \"banana\", \"cherry\", sep=\", \")\n",
    "# Output: apple, banana, cherry\n",
    "\n",
    "print(\"2024\", \"03\", \"15\", sep=\"-\")\n",
    "# Output: 2024-03-15\n",
    "\n",
    "print(\"Loading\", \".\", \".\", \".\", sep=\"\")\n",
    "# Output: Loading..."
   ]
  },
  {
   "cell_type": "markdown",
   "id": "6899b271",
   "metadata": {},
   "source": [
    "#### 2. end Parameter\n",
    "\n",
    "Controls what appears after the print statement:\n",
    "print 문 다음에 나타나는 것을 제어합니다:"
   ]
  },
  {
   "cell_type": "code",
   "execution_count": null,
   "id": "852e04d7",
   "metadata": {},
   "outputs": [],
   "source": [
    "# Default end is newline (\\n)\n",
    "print(\"Hello\")\n",
    "print(\"World\")\n",
    "# Output:\n",
    "# Hello\n",
    "# World\n",
    "\n",
    "# Custom end\n",
    "print(\"Hello\", end=\" \")\n",
    "print(\"World\")\n",
    "# Output: Hello World\n",
    "\n",
    "print(\"Loading\", end=\"... \")\n",
    "print(\"Complete!\")\n",
    "# Output: Loading... Complete!"
   ]
  },
  {
   "cell_type": "markdown",
   "id": "d1c56759",
   "metadata": {
    "lines_to_next_cell": 0
   },
   "source": [
    "#### 3. Combining sep and end\n",
    "\n",
    "sep와 end 결합"
   ]
  },
  {
   "cell_type": "code",
   "execution_count": null,
   "id": "06804d15",
   "metadata": {},
   "outputs": [],
   "source": [
    "print(\"Python\", \"is\", \"awesome\", sep=\"-\", end=\"!\\n\")\n",
    "# Output: Python-is-awesome!\n",
    "\n",
    "print(\"First line\", end=\" | \")\n",
    "print(\"Second line\", end=\" | \")\n",
    "print(\"Third line\")\n",
    "# Output: First line | Second line | Third line"
   ]
  },
  {
   "cell_type": "markdown",
   "id": "999b01e3",
   "metadata": {
    "lines_to_next_cell": 0
   },
   "source": [
    "#### 4. Formatting with f-strings\n",
    "\n",
    "f-string으로 포맷팅"
   ]
  },
  {
   "cell_type": "code",
   "execution_count": null,
   "id": "f0fd27ec",
   "metadata": {},
   "outputs": [],
   "source": [
    "name = \"John Smith\"\n",
    "age = 25\n",
    "score = 95.5\n",
    "\n",
    "# Old way (not recommended)\n",
    "print(\"Student: \" + name + \", Age: \" + str(age))\n",
    "\n",
    "# Better way: using f-strings\n",
    "print(f\"Student: {name}, Age: {age}\")\n",
    "print(f\"Score: {score:.1f}%\")  # One decimal place\n",
    "print(f\"Welcome {name.upper()}!\")  # Method calls inside {}\n",
    "\n",
    "# Output:\n",
    "# Student: John Smith, Age: 25\n",
    "# Score: 95.5%\n",
    "# Welcome JOHN SMITH!"
   ]
  },
  {
   "cell_type": "markdown",
   "id": "bf84a0e4",
   "metadata": {
    "lines_to_next_cell": 0
   },
   "source": [
    "#### 5. Multi-line Output\n",
    "\n",
    "여러 줄 출력"
   ]
  },
  {
   "cell_type": "code",
   "execution_count": null,
   "id": "556fde7a",
   "metadata": {},
   "outputs": [],
   "source": [
    "# Using \\n for line breaks\n",
    "print(\"First line\\nSecond line\\nThird line\")\n",
    "\n",
    "# Using triple quotes for multiple lines\n",
    "print(\"\"\"\n",
    "=== Welcome Message ===\n",
    "Hello! This is a\n",
    "multi-line\n",
    "message.\n",
    "=======================\n",
    "\"\"\")"
   ]
  },
  {
   "cell_type": "markdown",
   "id": "a43cfac6",
   "metadata": {},
   "source": [
    "---\n",
    "\n",
    "## 🔄 4. Data Type Conversion\n",
    "\n",
    "### Why Conversion is Needed\n",
    "\n",
    "변환이 필요한 이유\n",
    "Remember: `input()` always returns a **string**!\n",
    "기억하세요: `input()`은 항상 **문자열**을 반환합니다!"
   ]
  },
  {
   "cell_type": "code",
   "execution_count": null,
   "id": "cd22b91b",
   "metadata": {},
   "outputs": [],
   "source": [
    "# This won't work as expected!\n",
    "age = input(\"Enter your age: \")\n",
    "next_year = age + 1  # Error! Can't add string + number\n",
    "\n",
    "# TypeError: can only concatenate str (not \"int\") to str"
   ]
  },
  {
   "cell_type": "markdown",
   "id": "781b773c",
   "metadata": {
    "lines_to_next_cell": 0
   },
   "source": [
    "### Conversion Functions\n",
    "\n",
    "변환 함수들\n",
    "\n",
    "#### 1. int() - Convert to Integer\n",
    "\n",
    "정수로 변환"
   ]
  },
  {
   "cell_type": "code",
   "execution_count": null,
   "id": "4b243fb6",
   "metadata": {},
   "outputs": [],
   "source": [
    "# Convert string to integer\n",
    "age_str = input(\"Enter your age: \")\n",
    "age_num = int(age_str)\n",
    "\n",
    "# Now math operations are possible\n",
    "next_year = age_num + 1\n",
    "print(f\"Next year you will be {next_year} years old\")\n",
    "\n",
    "# Simpler version\n",
    "age = int(input(\"Enter your age: \"))\n",
    "print(f\"In 5 years you will be {age + 5} years old\")"
   ]
  },
  {
   "cell_type": "markdown",
   "id": "66cec23a",
   "metadata": {
    "lines_to_next_cell": 0
   },
   "source": [
    "#### 2. float() - Convert to Decimal\n",
    "\n",
    "소수로 변환"
   ]
  },
  {
   "cell_type": "code",
   "execution_count": null,
   "id": "7f61523a",
   "metadata": {},
   "outputs": [],
   "source": [
    "# Convert string to float\n",
    "height_str = input(\"Enter your height in meters: \")\n",
    "height_num = float(height_str)\n",
    "\n",
    "print(f\"Your height is {height_num:.2f} meters\")\n",
    "print(f\"In centimeters: {height_num * 100:.1f}cm\")\n",
    "\n",
    "# Example:\n",
    "# Enter your height in meters: 1.75\n",
    "# Your height is 1.75 meters\n",
    "# In centimeters: 175.0cm"
   ]
  },
  {
   "cell_type": "markdown",
   "id": "48b3fd8d",
   "metadata": {
    "lines_to_next_cell": 0
   },
   "source": [
    "#### 3. str() - Convert to String\n",
    "\n",
    "문자열로 변환"
   ]
  },
  {
   "cell_type": "code",
   "execution_count": null,
   "id": "9d1d771e",
   "metadata": {},
   "outputs": [],
   "source": [
    "# Convert numbers to strings\n",
    "score = 95\n",
    "percentage = 87.5\n",
    "\n",
    "# For concatenation\n",
    "message = \"Your score is \" + str(score) + \" points\"\n",
    "print(message)\n",
    "\n",
    "# f-strings are better (automatic conversion)\n",
    "print(f\"Your score is {score} points\")\n",
    "print(f\"Percentage: {percentage}%\")"
   ]
  },
  {
   "cell_type": "markdown",
   "id": "cd126bf1",
   "metadata": {
    "lines_to_next_cell": 0
   },
   "source": [
    "### Practical Examples\n",
    "\n",
    "실용적인 예시\n",
    "\n",
    "#### Example 1: Simple Calculator"
   ]
  },
  {
   "cell_type": "code",
   "execution_count": null,
   "id": "26b7801d",
   "metadata": {},
   "outputs": [],
   "source": [
    "print(\"=== Simple Calculator ===\")\n",
    "\n",
    "# Get two numbers from user\n",
    "first_num = float(input(\"Enter the first number: \"))\n",
    "second_num = float(input(\"Enter the second number: \"))\n",
    "\n",
    "# Perform calculations\n",
    "addition = first_num + second_num\n",
    "subtraction = first_num - second_num\n",
    "multiplication = first_num * second_num\n",
    "division = first_num / second_num\n",
    "\n",
    "# Display results\n",
    "print(f\"\\nResults:\")\n",
    "print(f\"{first_num} + {second_num} = {addition}\")\n",
    "print(f\"{first_num} - {second_num} = {subtraction}\")\n",
    "print(f\"{first_num} × {second_num} = {multiplication}\")\n",
    "print(f\"{first_num} ÷ {second_num} = {division:.2f}\")"
   ]
  },
  {
   "cell_type": "markdown",
   "id": "42923c7f",
   "metadata": {
    "lines_to_next_cell": 0
   },
   "source": [
    "#### Example 2: Personal Information Input"
   ]
  },
  {
   "cell_type": "code",
   "execution_count": null,
   "id": "ec44a203",
   "metadata": {},
   "outputs": [],
   "source": [
    "print(\"=== Personal Information Form ===\")\n",
    "\n",
    "# Collect different types of data\n",
    "name = input(\"Name: \")\n",
    "age = int(input(\"Age: \"))\n",
    "height = float(input(\"Height (in meters): \"))\n",
    "weight = float(input(\"Weight (kg): \"))\n",
    "is_student = input(\"Are you a student? (yes/no): \")\n",
    "\n",
    "# Process and display\n",
    "bmi = weight / (height ** 2)\n",
    "birth_year = 2024 - age\n",
    "\n",
    "print(f\"\\n=== Summary ===\")\n",
    "print(f\"Name: {name}\")\n",
    "print(f\"Age: {age} years old (born in {birth_year})\")\n",
    "print(f\"Height: {height:.2f}m\")\n",
    "print(f\"Weight: {weight:.1f}kg\")\n",
    "print(f\"BMI: {bmi:.1f}\")\n",
    "print(f\"Student status: {is_student}\")"
   ]
  },
  {
   "cell_type": "markdown",
   "id": "334fc0d5",
   "metadata": {},
   "source": [
    "---\n",
    "\n",
    "## ⚠️ 5. Input Validation Tips\n",
    "\n",
    "### What Can Go Wrong?\n",
    "\n",
    "무엇이 잘못될 수 있나요?\n",
    "When users enter wrong data, programs can produce unexpected results:\n",
    "사용자가 잘못된 데이터를 입력하면 프로그램이 예상치 못한 결과를 낼 수 있습니다:"
   ]
  },
  {
   "cell_type": "code",
   "execution_count": null,
   "id": "25bfa46f",
   "metadata": {},
   "outputs": [],
   "source": [
    "# This might not work as expected!\n",
    "age = int(input(\"Enter your age: \"))\n",
    "\n",
    "# If user enters \"twenty\":\n",
    "# Program will crash with an error message"
   ]
  },
  {
   "cell_type": "markdown",
   "id": "a6977f73",
   "metadata": {
    "lines_to_next_cell": 0
   },
   "source": [
    "### Simple Validation Techniques\n",
    "\n",
    "간단한 검증 기법\n",
    "\n",
    "#### Technique 1: Clear Instructions"
   ]
  },
  {
   "cell_type": "code",
   "execution_count": null,
   "id": "3b4adef6",
   "metadata": {},
   "outputs": [],
   "source": [
    "# Be very specific about what you want\n",
    "print(\"Please enter your age as a number (e.g., 25)\")\n",
    "age = int(input(\"Age: \"))\n",
    "print(f\"You are {age} years old\")"
   ]
  },
  {
   "cell_type": "markdown",
   "id": "e8b8db58",
   "metadata": {
    "lines_to_next_cell": 0
   },
   "source": [
    "#### Technique 2: Show Examples"
   ]
  },
  {
   "cell_type": "code",
   "execution_count": null,
   "id": "b5d9b5d8",
   "metadata": {},
   "outputs": [],
   "source": [
    "# Show users the exact format\n",
    "print(\"Enter your height in meters (e.g., 1.75)\")\n",
    "height = float(input(\"Height: \"))\n",
    "print(f\"Your height is {height} meters\")"
   ]
  },
  {
   "cell_type": "markdown",
   "id": "f5a9ab93",
   "metadata": {
    "lines_to_next_cell": 0
   },
   "source": [
    "#### Technique 3: Confirm Input"
   ]
  },
  {
   "cell_type": "code",
   "execution_count": null,
   "id": "2ab70b4e",
   "metadata": {},
   "outputs": [],
   "source": [
    "# Show users what they entered\n",
    "name = input(\"Enter your full name: \")\n",
    "age = input(\"Enter your age: \")\n",
    "\n",
    "print(f\"\\nYou entered:\")\n",
    "print(f\"Name: {name}\")\n",
    "print(f\"Age: {age}\")\n",
    "print(\"Is this information correct?\")"
   ]
  },
  {
   "cell_type": "markdown",
   "id": "3b9cae2d",
   "metadata": {
    "lines_to_next_cell": 0
   },
   "source": [
    "### Best Practices for User Input\n",
    "\n",
    "사용자 입력 모범 사례\n",
    "- ✅ **Provide clear instructions with examples**\n",
    "예시와 함께 명확한 지시사항 제공\n",
    "- ✅ **Use descriptive prompts**\n",
    "설명적인 프롬프트 사용\n",
    "- ✅ **Show expected format**\n",
    "예상하는 형식 보여주기\n",
    "- ✅ **Test with various inputs**\n",
    "다양한 입력으로 프로그램 테스트\n",
    "\n",
    "---\n",
    "\n",
    "## 🔧 Practice Problems\n",
    "\n",
    "### Practice 1: Simple Self-Introduction Program\n",
    "\n",
    "**Problem**: Create a program that collects basic user information and displays it in an organized format.\n",
    "**문제**: 사용자의 기본 정보를 받아서 정리된 형태로 출력하는 프로그램을 만드세요.\n",
    "\n",
    "**Requirements**:\n",
    "**요구사항**:\n",
    "- Ask for name, age, and location\n",
    "- Display information in a nice format\n",
    "- Include one simple calculation\n",
    "\n",
    "**Solution**:\n",
    "**정답**:"
   ]
  },
  {
   "cell_type": "code",
   "execution_count": null,
   "id": "1bb0a679",
   "metadata": {},
   "outputs": [],
   "source": [
    "# Simple Self-Introduction Program\n",
    "print(\"=== Self-Introduction Program ===\")\n",
    "\n",
    "# Get user information\n",
    "name = input(\"Enter your name: \")\n",
    "age = int(input(\"Enter your age: \"))\n",
    "city = input(\"Enter your city: \")\n",
    "\n",
    "# Simple calculation\n",
    "birth_year = 2024 - age\n",
    "\n",
    "# Display information\n",
    "print(\"\\n--- Your Information ---\")\n",
    "print(f\"Name: {name}\")\n",
    "print(f\"Age: {age} years old\")\n",
    "print(f\"City: {city}\")\n",
    "print(f\"Birth year: {birth_year}\")\n",
    "\n",
    "print(f\"\\nHello, {name}! Nice to know you live in {city}.\")"
   ]
  },
  {
   "cell_type": "markdown",
   "id": "3e89c8b2",
   "metadata": {
    "lines_to_next_cell": 0
   },
   "source": [
    "### Practice 2: Temperature Converter\n",
    "\n",
    "**Problem**: Create a simple temperature converter that converts Celsius to Fahrenheit and vice versa.\n",
    "**문제**: 섭씨를 화씨로, 화씨를 섭씨로 변환하는 간단한 온도 변환기를 만드세요.\n",
    "\n",
    "**Requirements**:\n",
    "**요구사항**:\n",
    "- Convert Celsius to Fahrenheit\n",
    "- Convert Fahrenheit to Celsius\n",
    "- Show conversion formulas\n",
    "- Display results to one decimal place\n",
    "\n",
    "**Solution**:\n",
    "**정답**:"
   ]
  },
  {
   "cell_type": "code",
   "execution_count": null,
   "id": "a5d79b28",
   "metadata": {},
   "outputs": [],
   "source": [
    "# Temperature Converter\n",
    "print(\"=== Temperature Converter ===\")\n",
    "\n",
    "# Celsius to Fahrenheit conversion\n",
    "print(\"\\n1. Celsius → Fahrenheit Conversion\")\n",
    "print(\"Formula: °F = (°C × 9/5) + 32\")\n",
    "celsius = float(input(\"Enter temperature in Celsius: \"))\n",
    "fahrenheit = (celsius * 9/5) + 32\n",
    "print(f\"Result: {celsius}°C = {fahrenheit:.1f}°F\")\n",
    "\n",
    "# Fahrenheit to Celsius conversion\n",
    "print(\"\\n2. Fahrenheit → Celsius Conversion\")\n",
    "print(\"Formula: °C = (°F - 32) × 5/9\")\n",
    "fahrenheit_input = float(input(\"Enter temperature in Fahrenheit: \"))\n",
    "celsius_result = (fahrenheit_input - 32) * 5/9\n",
    "print(f\"Result: {fahrenheit_input}°F = {celsius_result:.1f}°C\")\n",
    "\n",
    "print(\"\\nThank you for using the temperature converter!\")"
   ]
  },
  {
   "cell_type": "markdown",
   "id": "14108ca2",
   "metadata": {
    "lines_to_next_cell": 0
   },
   "source": [
    "### Practice 3: BMI Calculator\n",
    "\n",
    "**Problem**: Create a program that calculates BMI based on height and weight input.\n",
    "**문제**: 키와 몸무게를 입력받아 BMI를 계산하고 결과를 보여주는 프로그램을 만드세요.\n",
    "\n",
    "**Requirements**:\n",
    "**요구사항**:\n",
    "- Input name, height (cm), weight (kg)\n",
    "- Calculate BMI (BMI = weight / (height/100)²)\n",
    "- Show calculation process\n",
    "- Provide BMI category information\n",
    "\n",
    "**Solution**:\n",
    "**정답**:"
   ]
  },
  {
   "cell_type": "code",
   "execution_count": null,
   "id": "0f56ccad",
   "metadata": {},
   "outputs": [],
   "source": [
    "# BMI Calculator\n",
    "print(\"=== BMI Calculator ===\")\n",
    "\n",
    "# User information input\n",
    "name = input(\"Enter your name: \")\n",
    "height_cm = float(input(\"Enter your height in cm: \"))\n",
    "weight = float(input(\"Enter your weight in kg: \"))\n",
    "\n",
    "# Convert height to meters\n",
    "height_m = height_cm / 100\n",
    "\n",
    "# Calculate BMI\n",
    "bmi = weight / (height_m ** 2)\n",
    "\n",
    "# Display results\n",
    "print(f\"\\n=== {name}'s BMI Results ===\")\n",
    "print(f\"Height: {height_cm}cm ({height_m:.2f}m)\")\n",
    "print(f\"Weight: {weight}kg\")\n",
    "print(f\"\\nBMI Calculation Process:\")\n",
    "print(f\"BMI = {weight} ÷ ({height_m:.2f})²\")\n",
    "print(f\"BMI = {weight} ÷ {height_m**2:.4f}\")\n",
    "print(f\"BMI = {bmi:.1f}\")\n",
    "\n",
    "# BMI category information\n",
    "print(f\"\\n=== BMI Categories ===\")\n",
    "print(\"• Underweight: Below 18.5\")\n",
    "print(\"• Normal: 18.5 ~ 24.9\")\n",
    "print(\"• Overweight: 25.0 ~ 29.9\")\n",
    "print(\"• Obese: 30.0 and above\")\n",
    "\n",
    "print(f\"\\n{name}'s BMI is {bmi:.1f}.\")"
   ]
  },
  {
   "cell_type": "markdown",
   "id": "bf6d67b8",
   "metadata": {},
   "source": [
    "---\n",
    "\n",
    "## 📝 Quiz\n",
    "\n",
    "### Quiz 1: Understanding input() Function\n",
    "\n",
    "**Problem**: When this code runs, what happens? What data type will the variable `user_number` have?\n",
    "**문제**: 다음 코드가 실행될 때 어떤 일이 일어날까요? 변수 `user_number`는 어떤 데이터 타입을 갖게 될까요?"
   ]
  },
  {
   "cell_type": "code",
   "execution_count": null,
   "id": "a17714cd",
   "metadata": {},
   "outputs": [],
   "source": [
    "user_number = input(\"Enter a number: \")\n",
    "print(type(user_number))"
   ]
  },
  {
   "cell_type": "markdown",
   "id": "452541de",
   "metadata": {},
   "source": [
    "**When the user enters `42`, what will be printed?**\n",
    "**사용자가 `42`를 입력했을 때, 무엇이 출력될까요?**\n",
    "\n",
    "A) `<class 'int'>`  \n",
    "B) `<class 'float'>`  \n",
    "C) `<class 'str'>`  \n",
    "D) `<class 'number'>`\n",
    "\n",
    "**Follow-up question**: Explain why input() behaves this way and how you would convert it for mathematical calculations.\n",
    "**후속 질문**: input()이 이렇게 동작하는 이유를 설명하고, 수학 계산에 사용하려면 어떻게 변환해야 하는지 설명하세요.\n",
    "\n",
    "### Quiz 2: Advanced print() Formatting\n",
    "\n",
    "**Problem**: Write code to produce this **exact** output:\n",
    "**문제**: 다음과 같은 **정확한** 출력을 만드는 코드를 작성하세요:\n",
    "\n",
    "```\n",
    "Name: John Smith | Age: 25 | Score: 87.5%\n",
    "Loading... Complete!\n",
    "```\n",
    "\n",
    "**Requirements**:\n",
    "**요구사항**:\n",
    "- Use variables: `name = \"John Smith\"`, `age = 25`, `score = 87.5`\n",
    "- Use `sep` parameter in first line\n",
    "- Use `end` parameter in second line\n",
    "- Display percentage symbol for score\n",
    "- Use **only two print statements**\n",
    "\n",
    "### Quiz 3: Data Type Conversion Challenge\n",
    "\n",
    "**Problem**: Complete a program that calculates how much a person saves per day. Fill in the blanks:\n",
    "**문제**: 사람이 하루에 얼마나 절약하는지 계산하는 프로그램을 완성하세요. 빈 칸을 채우세요:"
   ]
  },
  {
   "cell_type": "code",
   "execution_count": null,
   "id": "9f6a602a",
   "metadata": {},
   "outputs": [],
   "source": [
    "print(\"Personal Savings Calculator\")\n",
    "\n",
    "# Get user input\n",
    "name = input(\"Enter your name: \")\n",
    "monthly_salary = ________________  # Convert to float\n",
    "monthly_expenses = _______________  # Convert to float\n",
    "days_in_month = ________________  # Convert to int\n",
    "\n",
    "# Calculate savings\n",
    "monthly_savings = monthly_salary - monthly_expenses\n",
    "daily_savings = monthly_savings / days_in_month\n",
    "\n",
    "# Display results\n",
    "print(\"=\"*40)\n",
    "print(f\"{name}'s Savings Report\")\n",
    "print(\"=\"*40)\n",
    "print(f\"Monthly salary: ${monthly_salary:.2f}\")\n",
    "print(f\"Monthly expenses: ${monthly_expenses:.2f}\")\n",
    "print(f\"Monthly savings: ${monthly_savings:.2f}\")\n",
    "print(f\"Daily savings: ${daily_savings:.2f}\")"
   ]
  },
  {
   "cell_type": "markdown",
   "id": "bf980435",
   "metadata": {},
   "source": [
    "**What should go in each blank, including the correct input() function and conversion function?**\n",
    "**각 빈 칸에 올바른 input() 함수와 변환 함수를 포함하여 무엇이 들어가야 할까요?**\n",
    "\n",
    "---\n",
    "\n",
    "## 📖 References\n",
    "\n",
    "1. **Python Official Documentation - Input/Output**: https://docs.python.org/3/tutorial/inputoutput.html\n",
    "   - Comprehensive guide to Python I/O operations\n",
    "   파이썬 I/O 작업에 대한 종합 가이드\n",
    "\n",
    "2. **Python Input Validation**: https://realpython.com/python-input-output/\n",
    "   - Practical examples and best practices for user input\n",
    "   사용자 입력을 위한 실용적인 예제와 모범 사례\n",
    "\n",
    "3. **Python Exception Handling**: https://docs.python.org/3/tutorial/errors.html\n",
    "   - Official guide to handling Python errors\n",
    "   파이썬 오류 처리 공식 가이드\n",
    "\n",
    "4. **W3Schools Python Input**: https://www.w3schools.com/python/python_user_input.asp\n",
    "   - Interactive examples for Python input/output\n",
    "   파이썬 입출력을 위한 대화형 예제\n",
    "\n",
    "---\n",
    "\n",
    "## 💡 Additional Tips for Success\n",
    "\n",
    "### Effective Learning Methods\n",
    "\n",
    "효과적인 학습 방법\n",
    "- **Daily Practice**: Create one interactive program each day\n",
    "매일 연습: 매일 대화형 프로그램 하나씩 만들어보기\n",
    "- **Test Edge Cases**: Always test with unusual inputs\n",
    "극단적인 경우 테스트: 항상 비정상적인 입력으로 테스트\n",
    "- **Learn English Terms**: Know programming terms in English too\n",
    "영어 용어 익히기: 프로그래밍 용어를 영어로도 알아두기\n",
    "- **Start Simple**: Begin with basic I/O before adding complex features\n",
    "단순하게 시작: 복잡한 기능을 추가하기 전에 기본 I/O부터 시작\n",
    "\n",
    "### Common Mistakes to Avoid\n",
    "\n",
    "피해야 할 일반적인 실수\n",
    "- **Forgetting data type conversion**: Remember that `input()` returns strings\n",
    "데이터 타입 변환 잊기: `input()`이 문자열을 반환한다는 것을 기억\n",
    "- **Poor user prompts**: Make prompts clear and helpful\n",
    "나쁜 사용자 프롬프트: 프롬프트를 명확하고 도움이 되도록 만들기\n",
    "- **Not testing with various inputs**: Test your programs thoroughly\n",
    "다양한 입력으로 테스트하지 않기: 프로그램을 철저히 테스트\n",
    "- **Over-complicating**: Keep programs simple and focused\n",
    "과도한 복잡화: 프로그램을 단순하고 집중적으로 유지\n",
    "\n",
    "### Debugging Tips\n",
    "\n",
    "디버깅 팁\n",
    "- **Print variable types**: Use `print(type(variable))` to check data types\n",
    "변수 타입 출력: `print(type(변수))`를 사용하여 데이터 타입 확인\n",
    "- **Test step by step**: Test each part of your program separately\n",
    "단계별 테스트: 프로그램의 각 부분을 별도로 테스트\n",
    "- **Use descriptive variable names**: `user_age` is better than `x`\n",
    "설명적인 변수명 사용: `user_age`가 `x`보다 좋음\n",
    "\n",
    "### Real-world Applications\n",
    "\n",
    "실제 활용 예시\n",
    "- **Forms and Surveys**: Most websites use similar I/O concepts\n",
    "양식과 설문조사: 대부분의 웹사이트가 유사한 입출력 개념 사용\n",
    "- **ATM Machines**: Banking software relies heavily on user input validation\n",
    "ATM 기계: 은행 소프트웨어는 사용자 입력 검증에 크게 의존\n",
    "- **Game Interfaces**: Video games constantly interact with players\n",
    "게임 인터페이스: 비디오 게임은 지속적으로 플레이어와 상호작용\n",
    "- **Mobile Apps**: App interfaces are essentially advanced I/O systems\n",
    "모바일 앱: 앱 인터페이스는 본질적으로 고급 I/O 시스템\n",
    "\n",
    "---\n",
    "\n",
    "## 📋 Homework\n",
    "\n",
    "### Practice Exercises\n",
    "\n",
    "연습 문제\n",
    "1. **Age Calculator**: Create a program that calculates how many days someone has lived\n",
    "나이 계산기: 누군가가 며칠 살았는지 계산하는 프로그램 만들기\n",
    "\n",
    "2. **Story Generator**: Ask for user's name, favorite animal, and color, then create a short story\n",
    "이야기 생성기: 사용자 이름, 좋아하는 동물, 색깔을 물어보고 짧은 이야기 만들기\n",
    "\n",
    "3. **Shopping Calculator**: Calculate total cost including tax for multiple items\n",
    "쇼핑 계산기: 여러 항목의 세금 포함 총 비용 계산하기\n",
    "\n",
    "### Challenge Problem\n",
    "\n",
    "도전 문제\n",
    "**Create a \"Personal Information Manager\" program**:\n",
    "**\"개인 정보 관리자\" 프로그램** 만들기:\n",
    "- Collect comprehensive personal information (name, age, contact info, etc.)\n",
    "종합적인 개인 정보 수집 (이름, 나이, 연락처 정보 등)\n",
    "- Perform various calculations (age in days, years until retirement, etc.)\n",
    "다양한 계산 수행 (일수로 계산한 나이, 은퇴까지 남은 년수 등)\n",
    "- Format and display all information in an organized, professional manner\n",
    "모든 정보를 체계적이고 전문적인 방식으로 포맷 및 표시\n",
    "- Convert between different units as needed (height, weight, etc.)\n",
    "필요에 따라 다양한 단위 간 변환 (키, 몸무게 등)\n",
    "- Show detailed calculation steps for transparency\n",
    "투명성을 위한 상세한 계산 단계 표시\n",
    "\n",
    "**Good luck on your programming journey!** 🚀\n",
    "**프로그래밍 여정에 행운을 빕니다!**"
   ]
  }
 ],
 "metadata": {
  "jupytext": {
   "cell_metadata_filter": "-all",
   "main_language": "python",
   "notebook_metadata_filter": "-all"
  }
 },
 "nbformat": 4,
 "nbformat_minor": 5
}
