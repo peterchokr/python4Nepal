{
 "cells": [
  {
   "cell_type": "markdown",
   "id": "5fa35569",
   "metadata": {
    "lines_to_next_cell": 0
   },
   "source": [
    "#  File Input/Output\n",
    "**파일 입출력**\n",
    "\n",
    "**Duration (수업 시간)**: 3 hours (3시간)  \n",
    "**Structure (구성)**: Lecture & Lab 2 hours + Quiz 1 hour (강의 및 실습 2시간 + 퀴즈 1시간)  \n",
    "**Level (수준)**: Intermediate (중급)\n",
    "\n",
    "---\n",
    "\n",
    "## 🎯 Learning Objectives (학습 목표)\n",
    "\n",
    "By the end of this lesson, students will be able to:\n",
    "이 수업을 마친 후 학생들은 다음을 할 수 있습니다:\n",
    "\n",
    "- Open and close files using Python methods (파이썬 메소드를 사용하여 파일 열고 닫기)\n",
    "- Read data from text files (텍스트 파일에서 데이터 읽기)\n",
    "- Write data to text files (텍스트 파일에 데이터 쓰기)\n",
    "- Use the 'with' statement for safe file handling ('with' 문을 사용한 안전한 파일 처리)\n",
    "\n",
    "---\n",
    "\n",
    "## 📂 1. Opening and Closing Files (파일 열기와 닫기)\n",
    "\n",
    "### Why Use Files? (왜 파일을 사용하나요?)\n",
    "\n",
    "**Files** let programs save data permanently. Without files, all data disappears when the program ends.\n",
    "**파일**은 프로그램이 데이터를 영구적으로 저장할 수 있게 해줍니다. 파일이 없으면 프로그램이 끝날 때 모든 데이터가 사라집니다.\n",
    "\n",
    "### Basic File Operations (기본 파일 작업)\n",
    "\n",
    "#### Opening a File (파일 열기)"
   ]
  },
  {
   "cell_type": "code",
   "execution_count": null,
   "id": "3ce4b74d",
   "metadata": {},
   "outputs": [],
   "source": [
    "# Basic syntax\n",
    "file_object = open(\"filename.txt\", \"mode\")"
   ]
  },
  {
   "cell_type": "markdown",
   "id": "6ff98eb4",
   "metadata": {
    "lines_to_next_cell": 0
   },
   "source": [
    "**File Modes (파일 모드):**\n",
    "- `\"r\"` - Read (읽기): Read existing files\n",
    "- `\"w\"` - Write (쓰기): Create new file or replace existing\n",
    "- `\"a\"` - Append (추가): Add to end of existing file\n",
    "\n",
    "#### Simple Example (간단한 예시)"
   ]
  },
  {
   "cell_type": "code",
   "execution_count": null,
   "id": "2797df78",
   "metadata": {},
   "outputs": [],
   "source": [
    "# Create and write to a file\n",
    "file = open(\"my_file.txt\", \"w\")\n",
    "file.write(\"Hello, World!\")\n",
    "file.close()\n",
    "\n",
    "# Read from the file\n",
    "file = open(\"my_file.txt\", \"r\")\n",
    "content = file.read()\n",
    "print(content)\n",
    "file.close()"
   ]
  },
  {
   "cell_type": "markdown",
   "id": "df9f8622",
   "metadata": {
    "lines_to_next_cell": 0
   },
   "source": [
    "### Why Close Files (왜 파일을 닫아야 하나요?)\n",
    "\n",
    "Always close files when finished:\n",
    "파일 작업이 끝나면 항상 닫아야 합니다:\n",
    "- Saves memory (메모리 절약)\n",
    "- Prevents data loss (데이터 손실 방지)\n",
    "- Allows other programs to use the file (다른 프로그램이 파일 사용 가능)\n",
    "\n",
    "---\n",
    "\n",
    "## 📖 2. Reading Text Files (텍스트 파일 읽기)\n",
    "\n",
    "### Reading Methods (읽기 방법들)\n",
    "\n",
    "#### read() - Read Entire File (전체 파일 읽기)"
   ]
  },
  {
   "cell_type": "code",
   "execution_count": null,
   "id": "50bdc747",
   "metadata": {},
   "outputs": [],
   "source": [
    "file = open(\"story.txt\", \"r\")\n",
    "content = file.read()\n",
    "print(content)\n",
    "file.close()"
   ]
  },
  {
   "cell_type": "markdown",
   "id": "0071f29f",
   "metadata": {
    "lines_to_next_cell": 0
   },
   "source": [
    "#### readline() - Read One Line (한 줄 읽기)"
   ]
  },
  {
   "cell_type": "code",
   "execution_count": null,
   "id": "44f1dd3b",
   "metadata": {},
   "outputs": [],
   "source": [
    "file = open(\"story.txt\", \"r\")\n",
    "first_line = file.readline()\n",
    "second_line = file.readline()\n",
    "print(\"Line 1:\", first_line)\n",
    "print(\"Line 2:\", second_line)\n",
    "file.close()"
   ]
  },
  {
   "cell_type": "markdown",
   "id": "f7debc0a",
   "metadata": {
    "lines_to_next_cell": 0
   },
   "source": [
    "#### readlines() - Read All Lines (모든 줄 읽기)"
   ]
  },
  {
   "cell_type": "code",
   "execution_count": null,
   "id": "8fc85e1f",
   "metadata": {},
   "outputs": [],
   "source": [
    "file = open(\"story.txt\", \"r\")\n",
    "all_lines = file.readlines()\n",
    "print(\"Number of lines:\", len(all_lines))\n",
    "for line in all_lines:\n",
    "    print(line.strip())\n",
    "file.close()"
   ]
  },
  {
   "cell_type": "markdown",
   "id": "74ea099c",
   "metadata": {
    "lines_to_next_cell": 0
   },
   "source": [
    "### Practical Example (실용적인 예시)"
   ]
  },
  {
   "cell_type": "code",
   "execution_count": null,
   "id": "5122d113",
   "metadata": {},
   "outputs": [],
   "source": [
    "# Create a file with student names\n",
    "file = open(\"students.txt\", \"w\")\n",
    "file.write(\"Alice\\n\")\n",
    "file.write(\"Bob\\n\")\n",
    "file.write(\"Charlie\\n\")\n",
    "file.close()\n",
    "\n",
    "# Read and display the names\n",
    "file = open(\"students.txt\", \"r\")\n",
    "students = file.readlines()\n",
    "print(\"Students in class:\")\n",
    "for i, student in enumerate(students, 1):\n",
    "    print(f\"{i}. {student.strip()}\")\n",
    "file.close()"
   ]
  },
  {
   "cell_type": "markdown",
   "id": "58cffbc3",
   "metadata": {
    "lines_to_next_cell": 0
   },
   "source": [
    "---\n",
    "\n",
    "## ✏️ 3. Writing Text Files (텍스트 파일 쓰기)\n",
    "\n",
    "### Write Modes (쓰기 모드)\n",
    "\n",
    "#### \"w\" Mode - Write (Replace) (쓰기 모드 - 교체)"
   ]
  },
  {
   "cell_type": "code",
   "execution_count": null,
   "id": "05dbf9b7",
   "metadata": {},
   "outputs": [],
   "source": [
    "# This replaces all content in the file\n",
    "file = open(\"notes.txt\", \"w\")\n",
    "file.write(\"This is a new note\")\n",
    "file.close()"
   ]
  },
  {
   "cell_type": "markdown",
   "id": "5f6b8d52",
   "metadata": {
    "lines_to_next_cell": 0
   },
   "source": [
    "#### \"a\" Mode - Append (추가 모드)"
   ]
  },
  {
   "cell_type": "code",
   "execution_count": null,
   "id": "c3a92daf",
   "metadata": {},
   "outputs": [],
   "source": [
    "# This adds to the end of the file\n",
    "file = open(\"notes.txt\", \"a\")\n",
    "file.write(\"\\nThis is added to the end\")\n",
    "file.close()"
   ]
  },
  {
   "cell_type": "markdown",
   "id": "d1f85914",
   "metadata": {
    "lines_to_next_cell": 0
   },
   "source": [
    "### Writing Multiple Lines (여러 줄 쓰기)"
   ]
  },
  {
   "cell_type": "code",
   "execution_count": null,
   "id": "6820a95a",
   "metadata": {},
   "outputs": [],
   "source": [
    "# Method 1: Multiple write() calls\n",
    "file = open(\"data.txt\", \"w\")\n",
    "file.write(\"Line 1\\n\")\n",
    "file.write(\"Line 2\\n\")\n",
    "file.write(\"Line 3\\n\")\n",
    "file.close()\n",
    "\n",
    "# Method 2: Write list of lines\n",
    "lines = [\"First line\\n\", \"Second line\\n\", \"Third line\\n\"]\n",
    "file = open(\"data.txt\", \"w\")\n",
    "file.writelines(lines)\n",
    "file.close()"
   ]
  },
  {
   "cell_type": "markdown",
   "id": "1b73b23c",
   "metadata": {
    "lines_to_next_cell": 0
   },
   "source": [
    "### Simple Log Example (간단한 로그 예시)"
   ]
  },
  {
   "cell_type": "code",
   "execution_count": null,
   "id": "55caa135",
   "metadata": {},
   "outputs": [],
   "source": [
    "# Create a simple activity log\n",
    "file = open(\"log.txt\", \"w\")\n",
    "file.write(\"Program started\\n\")\n",
    "file.close()\n",
    "\n",
    "# Add more entries\n",
    "file = open(\"log.txt\", \"a\")\n",
    "file.write(\"User logged in\\n\")\n",
    "file.write(\"Data processed\\n\")\n",
    "file.close()\n",
    "\n",
    "# Read the log\n",
    "file = open(\"log.txt\", \"r\")\n",
    "log_content = file.read()\n",
    "print(\"Activity Log:\")\n",
    "print(log_content)\n",
    "file.close()"
   ]
  },
  {
   "cell_type": "markdown",
   "id": "d18738c6",
   "metadata": {
    "lines_to_next_cell": 0
   },
   "source": [
    "---\n",
    "\n",
    "## 🔒 4. Using the 'with' Statement (with 문 사용하기)\n",
    "\n",
    "### What is 'with'? (with란?)\n",
    "\n",
    "The **'with' statement** automatically closes files. It's safer and cleaner than manual closing.\n",
    "**'with' 문**은 파일을 자동으로 닫습니다. 수동으로 닫는 것보다 안전하고 깔끔합니다.\n",
    "\n",
    "### Basic 'with' Syntax (기본 with 문법)"
   ]
  },
  {
   "cell_type": "code",
   "execution_count": null,
   "id": "36897604",
   "metadata": {},
   "outputs": [],
   "source": [
    "# Old way\n",
    "file = open(\"example.txt\", \"r\")\n",
    "content = file.read()\n",
    "file.close()\n",
    "\n",
    "# New way with 'with'\n",
    "with open(\"example.txt\", \"r\") as file:\n",
    "    content = file.read()\n",
    "# File automatically closes here"
   ]
  },
  {
   "cell_type": "markdown",
   "id": "9ea3f4ef",
   "metadata": {
    "lines_to_next_cell": 0
   },
   "source": [
    "### Reading with 'with' (with로 읽기)"
   ]
  },
  {
   "cell_type": "code",
   "execution_count": null,
   "id": "bb91fe52",
   "metadata": {},
   "outputs": [],
   "source": [
    "# Read entire file\n",
    "with open(\"data.txt\", \"r\") as file:\n",
    "    content = file.read()\n",
    "    print(content)\n",
    "\n",
    "# Read line by line\n",
    "with open(\"data.txt\", \"r\") as file:\n",
    "    for line_number, line in enumerate(file, 1):\n",
    "        print(f\"Line {line_number}: {line.strip()}\")"
   ]
  },
  {
   "cell_type": "markdown",
   "id": "5100786f",
   "metadata": {
    "lines_to_next_cell": 0
   },
   "source": [
    "### Writing with 'with' (with로 쓰기)"
   ]
  },
  {
   "cell_type": "code",
   "execution_count": null,
   "id": "3b92aa31",
   "metadata": {},
   "outputs": [],
   "source": [
    "# Write to file\n",
    "with open(\"output.txt\", \"w\") as file:\n",
    "    file.write(\"Hello from with statement!\\n\")\n",
    "    file.write(\"This is cleaner code.\\n\")\n",
    "\n",
    "# Append to file\n",
    "with open(\"output.txt\", \"a\") as file:\n",
    "    file.write(\"This line is added.\\n\")"
   ]
  },
  {
   "cell_type": "markdown",
   "id": "0327deb8",
   "metadata": {
    "lines_to_next_cell": 0
   },
   "source": [
    "### Complete Example (완전한 예시)"
   ]
  },
  {
   "cell_type": "code",
   "execution_count": null,
   "id": "0a877bb2",
   "metadata": {},
   "outputs": [],
   "source": [
    "# Create a simple grade book\n",
    "students_grades = [\n",
    "    \"Alice: 85\",\n",
    "    \"Bob: 92\", \n",
    "    \"Charlie: 78\"\n",
    "]\n",
    "\n",
    "# Write grades to file\n",
    "with open(\"grades.txt\", \"w\") as file:\n",
    "    file.write(\"Student Grades\\n\")\n",
    "    file.write(\"=\" * 20 + \"\\n\")\n",
    "    for grade in students_grades:\n",
    "        file.write(grade + \"\\n\")\n",
    "\n",
    "# Read and display grades\n",
    "with open(\"grades.txt\", \"r\") as file:\n",
    "    content = file.read()\n",
    "    print(content)"
   ]
  },
  {
   "cell_type": "markdown",
   "id": "9a354ed6",
   "metadata": {
    "lines_to_next_cell": 0
   },
   "source": [
    "---\n",
    "\n",
    "## 🔧 Lab Exercises (실습)\n",
    "\n",
    "### Lab 1: Text File-Based Data Management Program (텍스트 파일 기반 데이터 관리 프로그램)\n",
    "\n",
    "**Problem (문제)**: Create a simple data management system that stores and retrieves student information from a text file.\n",
    "텍스트 파일에서 학생 정보를 저장하고 검색하는 간단한 데이터 관리 시스템을 만드세요.\n",
    "\n",
    "**Solution (정답)**:"
   ]
  },
  {
   "cell_type": "code",
   "execution_count": null,
   "id": "52ddde64",
   "metadata": {},
   "outputs": [],
   "source": [
    "def add_student(name, age, grade):\n",
    "    \"\"\"Add student data to file\"\"\"\n",
    "    with open(\"students.txt\", \"a\") as file:\n",
    "        file.write(f\"{name},{age},{grade}\\n\")\n",
    "    print(f\"Added student: {name}\")\n",
    "\n",
    "def view_all_students():\n",
    "    \"\"\"View all student data\"\"\"\n",
    "    with open(\"students.txt\", \"r\") as file:\n",
    "        lines = file.readlines()\n",
    "    \n",
    "    print(\"=== STUDENT DATA ===\")\n",
    "    for line in lines:\n",
    "        name, age, grade = line.strip().split(\",\")\n",
    "        print(f\"Name: {name}, Age: {age}, Grade: {grade}\")\n",
    "\n",
    "def count_students():\n",
    "    \"\"\"Count total number of students\"\"\"\n",
    "    with open(\"students.txt\", \"r\") as file:\n",
    "        lines = file.readlines()\n",
    "    print(f\"Total students: {len(lines)}\")\n",
    "\n",
    "# Test the system\n",
    "add_student(\"Alice\", \"18\", \"A\")\n",
    "add_student(\"Bob\", \"19\", \"B\")\n",
    "add_student(\"Charlie\", \"18\", \"A\")\n",
    "\n",
    "view_all_students()\n",
    "count_students()"
   ]
  },
  {
   "cell_type": "markdown",
   "id": "4f7fcf96",
   "metadata": {
    "lines_to_next_cell": 0
   },
   "source": [
    "### Lab 2: Diary Program (일기 프로그램)\n",
    "\n",
    "**Problem (문제)**: Create a diary program that saves and reads daily entries with dates.\n",
    "날짜와 함께 일일 항목을 저장하고 읽는 일기 프로그램을 만드세요.\n",
    "\n",
    "**Solution (정답)**:"
   ]
  },
  {
   "cell_type": "code",
   "execution_count": null,
   "id": "248ee90c",
   "metadata": {},
   "outputs": [],
   "source": [
    "import datetime\n",
    "\n",
    "def write_diary_entry(entry):\n",
    "    \"\"\"Write a diary entry with date\"\"\"\n",
    "    today = datetime.date.today()\n",
    "    with open(\"diary.txt\", \"a\") as file:\n",
    "        file.write(f\"{today}: {entry}\\n\")\n",
    "    print(\"Diary entry saved!\")\n",
    "\n",
    "def read_all_entries():\n",
    "    \"\"\"Read all diary entries\"\"\"\n",
    "    with open(\"diary.txt\", \"r\") as file:\n",
    "        entries = file.read()\n",
    "    \n",
    "    print(\"=== MY DIARY ===\")\n",
    "    print(entries)\n",
    "\n",
    "def count_entries():\n",
    "    \"\"\"Count number of diary entries\"\"\"\n",
    "    with open(\"diary.txt\", \"r\") as file:\n",
    "        lines = file.readlines()\n",
    "    print(f\"You have {len(lines)} diary entries\")\n",
    "\n",
    "# Test the diary program\n",
    "write_diary_entry(\"Today I learned about file input and output in Python!\")\n",
    "write_diary_entry(\"File operations are very useful for saving data permanently.\")\n",
    "\n",
    "read_all_entries()\n",
    "count_entries()"
   ]
  },
  {
   "cell_type": "markdown",
   "id": "59e222e3",
   "metadata": {
    "lines_to_next_cell": 0
   },
   "source": [
    "### Lab 3: Word Frequency Analysis Program (단어 빈도 분석 프로그램)\n",
    "\n",
    "**Problem (문제)**: Create a program that analyzes word frequency in a text file.\n",
    "텍스트 파일에서 단어 빈도를 분석하는 프로그램을 만드세요.\n",
    "\n",
    "**Solution (정답)**:"
   ]
  },
  {
   "cell_type": "code",
   "execution_count": null,
   "id": "4f46ccd6",
   "metadata": {},
   "outputs": [],
   "source": [
    "def create_text_file():\n",
    "    \"\"\"Create a sample text file\"\"\"\n",
    "    text = \"\"\"Python is great. Python is easy to learn.\n",
    "Programming with Python is fun.\n",
    "Python helps solve many problems.\"\"\"\n",
    "    \n",
    "    with open(\"sample.txt\", \"w\") as file:\n",
    "        file.write(text)\n",
    "    print(\"Sample text file created\")\n",
    "\n",
    "def count_words():\n",
    "    \"\"\"Count frequency of each word\"\"\"\n",
    "    with open(\"sample.txt\", \"r\") as file:\n",
    "        text = file.read()\n",
    "    \n",
    "    # Convert to lowercase and split into words\n",
    "    words = text.lower().replace(\".\", \"\").replace(\",\", \"\").split()\n",
    "    \n",
    "    word_count = {}\n",
    "    for word in words:\n",
    "        if word in word_count:\n",
    "            word_count[word] += 1\n",
    "        else:\n",
    "            word_count[word] = 1\n",
    "    \n",
    "    print(\"=== WORD FREQUENCY ===\")\n",
    "    for word, count in word_count.items():\n",
    "        print(f\"{word}: {count}\")\n",
    "\n",
    "def save_word_analysis():\n",
    "    \"\"\"Save word analysis to file\"\"\"\n",
    "    with open(\"sample.txt\", \"r\") as file:\n",
    "        text = file.read()\n",
    "    \n",
    "    words = text.lower().replace(\".\", \"\").replace(\",\", \"\").split()\n",
    "    total_words = len(words)\n",
    "    unique_words = len(set(words))\n",
    "    \n",
    "    with open(\"analysis.txt\", \"w\") as file:\n",
    "        file.write(\"Text Analysis Report\\n\")\n",
    "        file.write(f\"Total words: {total_words}\\n\")\n",
    "        file.write(f\"Unique words: {unique_words}\\n\")\n",
    "    \n",
    "    print(\"Analysis saved to analysis.txt\")\n",
    "\n",
    "# Run the analysis\n",
    "create_text_file()\n",
    "count_words()\n",
    "save_word_analysis()"
   ]
  },
  {
   "cell_type": "markdown",
   "id": "fd9f7f47",
   "metadata": {
    "lines_to_next_cell": 0
   },
   "source": [
    "---\n",
    "\n",
    "## 📝 Quiz Section (퀴즈)\n",
    "\n",
    "### Quiz 1: Basic File Writing (기본 파일 쓰기)\n",
    "\n",
    "**Question**: Write code to write \"Hello, Python!\" to \"hello.txt\" file and then read it back to verify it was saved correctly.\n",
    "\"hello.txt\" 파일에 \"Hello, Python!\"을 쓰고, 올바르게 저장되었는지 확인하기 위해 다시 읽어오는 코드를 작성하세요.\n",
    "\n",
    "**Write your answer here (답을 여기에 작성하세요)**:"
   ]
  },
  {
   "cell_type": "code",
   "execution_count": null,
   "id": "ebef82ce",
   "metadata": {},
   "outputs": [],
   "source": [
    "# Your code here"
   ]
  },
  {
   "cell_type": "markdown",
   "id": "e5889b7e",
   "metadata": {
    "lines_to_next_cell": 0
   },
   "source": [
    "### Quiz 2: File Reading with 'with' Statement (with문을 이용한 파일 읽기)\n",
    "\n",
    "**Question**: Write code to read and print file contents using the 'with' statement. Create a file called \"message.txt\" with some text first, then read and print its contents.\n",
    "'with' 문을 사용하여 파일 내용을 읽고 출력하는 코드를 작성하세요. 먼저 \"message.txt\" 파일을 만들어 텍스트를 넣고, 그 내용을 읽어서 출력하세요.\n",
    "\n",
    "**Write your answer here (답을 여기에 작성하세요)**:"
   ]
  },
  {
   "cell_type": "code",
   "execution_count": null,
   "id": "9f0e62d2",
   "metadata": {},
   "outputs": [],
   "source": [
    "# Your code here"
   ]
  },
  {
   "cell_type": "markdown",
   "id": "f42a2b16",
   "metadata": {
    "lines_to_next_cell": 0
   },
   "source": [
    "### Quiz 3: Character Count Analysis (문자 수 분석)\n",
    "\n",
    "**Question**: Write a program to count characters in each line of a multi-line text file. Your program should:\n",
    "여러 줄 텍스트 파일의 각 줄 문자 수를 세는 프로그램을 작성하세요. 프로그램은 다음을 해야 합니다:\n",
    "\n",
    "1. Create a text file with at least 3 lines of different text (다른 텍스트가 포함된 최소 3줄의 텍스트 파일 생성)\n",
    "2. Read the file line by line (파일을 한 줄씩 읽기)\n",
    "3. Count and display the number of characters in each line (각 줄의 문자 수를 계산하고 표시)\n",
    "4. Display the total number of characters in the entire file (전체 파일의 총 문자 수 표시)\n",
    "\n",
    "**Write your answer here (답을 여기에 작성하세요)**:"
   ]
  },
  {
   "cell_type": "code",
   "execution_count": null,
   "id": "e00e983d",
   "metadata": {},
   "outputs": [],
   "source": [
    "# Your code here"
   ]
  },
  {
   "cell_type": "markdown",
   "id": "3581b75b",
   "metadata": {},
   "source": [
    "---\n",
    "\n",
    "## 📖 References (참고)\n",
    "\n",
    "1. **Python File I/O**: https://docs.python.org/3/tutorial/inputoutput.html#reading-and-writing-files\n",
    "2. **Python 'with' Statement**: https://www.programiz.com/python-programming/file-io\n",
    "3. **File Handling Tutorial**: https://www.w3schools.com/python/python_file_handling.asp\n",
    "\n",
    "---\n",
    "\n",
    "## 💡 Key Points (핵심 포인트)\n",
    "\n",
    "### Remember (기억하세요)\n",
    "1. **Always close files** or use 'with' statement (항상 파일을 닫거나 'with' 문 사용)\n",
    "2. **Choose correct mode**: 'r' for reading, 'w' for writing, 'a' for appending (올바른 모드 선택)\n",
    "3. **Use 'with' statement** - it's safer and cleaner ('with' 문 사용 - 더 안전하고 깔끔함)\n",
    "4. **'w' mode overwrites** existing files ('w' 모드는 기존 파일을 덮어씀)\n",
    "\n",
    "### Next Week Preview (다음 주 미리보기)\n",
    "Next week: **Exception Handling** - How to handle errors safely in your programs\n",
    "다음 주: **예외 처리** - 프로그램에서 오류를 안전하게 처리하는 방법\n",
    "\n",
    "---\n",
    "\n",
    "## 📋 Homework (숙제)\n",
    "\n",
    "1. Complete all three lab exercises (3개 실습 모두 완료)\n",
    "2. Create a simple note-taking program using files (파일을 사용한 간단한 노트 작성 프로그램 만들기)\n",
    "3. Practice reading and writing different types of text files (다양한 유형의 텍스트 파일 읽기 및 쓰기 연습)\n",
    "\n",
    "**File operations open up many possibilities for your programs!** 📁  \n",
    "**파일 작업은 프로그램에 많은 가능성을 열어줍니다!** 📁"
   ]
  }
 ],
 "metadata": {
  "jupytext": {
   "cell_metadata_filter": "-all",
   "main_language": "python",
   "notebook_metadata_filter": "-all"
  },
  "language_info": {
   "name": "python"
  }
 },
 "nbformat": 4,
 "nbformat_minor": 5
}
