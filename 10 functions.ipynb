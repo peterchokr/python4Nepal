{
 "cells": [
  {
   "cell_type": "markdown",
   "id": "648f3dc4",
   "metadata": {},
   "source": [
    "# Python Functions - From Basics to Advanced\n",
    "\n",
    "**Python Functions Complete Guide - From Basics to Advanced**\n",
    "\n",
    "**Class Duration**: 3 hours  \n",
    "**Structure**: Lecture & Practice 2 hours + Quiz 1 hour  \n",
    "**Level**: Beginner to Intermediate\n",
    "\n",
    "---\n",
    "\n",
    "## Learning Objectives\n",
    "\n",
    "After completing this lesson, students will be able to:  \n",
    "이 수업을 마친 후 학생들은 다음을 할 수 있습니다:\n",
    "\n",
    "- Understand what functions are and why they are useful  \n",
    "함수가 무엇이고 왜 유용한지 이해하기\n",
    "- Define functions using the def keyword  \n",
    "def 키워드를 사용하여 함수 정의하기\n",
    "- Create functions with parameters and arguments  \n",
    "매개변수와 인수가 있는 함수 생성하기\n",
    "- Use return values to get results from functions  \n",
    "반환값을 사용하여 함수에서 결과 얻기\n",
    "- Work with default parameters and keyword arguments  \n",
    "기본 매개변수값과 키워드 인수 활용하기\n",
    "- Understand the difference between local and global variables  \n",
    "지역변수와 전역변수의 차이점 이해하기\n",
    "- Call functions from within other functions to write complex programs  \n",
    "함수 내에서 다른 함수를 호출하여 복잡한 프로그램 작성하기\n",
    "\n",
    "---\n",
    "\n",
    "## 1. What is a Function?\n",
    "\n",
    "### Definition\n",
    "\n",
    "A **Function** is an organized, reusable block of code that performs a specific task.  \n",
    "**함수**는 특정 작업을 수행하는 조직화되고 재사용 가능한 코드 블록입니다.\n",
    "\n",
    "You can think of it as a **mini-program** within your main program.  \n",
    "메인 프로그램 안의 **미니 프로그램**이라고 생각할 수 있습니다.\n",
    "\n",
    "### Real-Life Analogy\n",
    "\n",
    "Functions are like **kitchen appliances**:  \n",
    "함수는 **주방 기구**와 같습니다:\n",
    "\n",
    "```\n",
    "Blender:\n",
    "- Input: Fruits and milk\n",
    "- Process: Mix ingredients\n",
    "- Output: Smoothie\n",
    "\n",
    "Function:\n",
    "- Input: Parameters\n",
    "- Process: Execute code\n",
    "- Output: Return value\n",
    "```\n",
    "\n",
    "### Why Use Functions?\n",
    "\n",
    "#### 1. Code Reusability\n",
    "\n",
    "Instead of writing the same code multiple times, write it once in a function:  \n",
    "같은 코드를 여러 번 작성하는 대신, 함수에 한 번만 작성합니다:"
   ]
  },
  {
   "cell_type": "code",
   "execution_count": null,
   "id": "50ddc93b",
   "metadata": {},
   "outputs": [],
   "source": [
    "# Without functions - repetitive code\n",
    "print(\"Welcome, John!\")\n",
    "print(\"Welcome, Alice!\")\n",
    "print(\"Welcome, Mike!\")\n",
    "\n",
    "# With functions - reusable code\n",
    "def greet_user(name):\n",
    "    print(f\"Welcome, {name}!\")\n",
    "\n",
    "greet_user(\"John\")\n",
    "greet_user(\"Alice\")\n",
    "greet_user(\"Mike\")"
   ]
  },
  {
   "cell_type": "markdown",
   "id": "8c534fac",
   "metadata": {},
   "source": [
    "#### 2. Code Organization\n",
    "\n",
    "Functions help organize code into logical pieces:  \n",
    "함수는 코드를 논리적인 조각으로 구성하는 데 도움을 줍니다:"
   ]
  },
  {
   "cell_type": "code",
   "execution_count": null,
   "id": "3ec7eb25",
   "metadata": {},
   "outputs": [],
   "source": [
    "def calculate_area(length, width):\n",
    "    return length * width\n",
    "\n",
    "def calculate_perimeter(length, width):\n",
    "    return 2 * (length + width)\n",
    "\n",
    "def display_rectangle_info(length, width):\n",
    "    area = calculate_area(length, width)\n",
    "    perimeter = calculate_perimeter(length, width)\n",
    "    print(f\"Area: {area}\")\n",
    "    print(f\"Perimeter: {perimeter}\")"
   ]
  },
  {
   "cell_type": "markdown",
   "id": "477cce28",
   "metadata": {},
   "source": [
    "---\n",
    "\n",
    "## 2. Function Definition and Basic Usage\n",
    "\n",
    "### Basic Syntax"
   ]
  },
  {
   "cell_type": "code",
   "execution_count": null,
   "id": "09cdeb0f",
   "metadata": {},
   "outputs": [],
   "source": [
    "def function_name():\n",
    "    \"\"\"Optional docstring\"\"\"\n",
    "    # Function body\n",
    "    # Code to execute"
   ]
  },
  {
   "cell_type": "markdown",
   "id": "bd4b6d14",
   "metadata": {},
   "source": [
    "### Key Components\n",
    "\n",
    "**def keyword**: Tells Python you're defining a function  \n",
    "**def 키워드**: 파이썬에게 함수를 정의한다고 알려줍니다\n",
    "\n",
    "**Function name**: The name you use to call the function  \n",
    "**함수 이름**: 함수를 호출할 때 사용하는 이름\n",
    "\n",
    "**Parentheses()**: Contains parameters  \n",
    "**괄호()**: 매개변수를 포함합니다\n",
    "\n",
    "**Colon(:)**: Indicates the start of function body  \n",
    "**콜론(:)**: 함수 본문의 시작을 나타냅니다\n",
    "\n",
    "**Indentation**: All function code must be indented  \n",
    "**들여쓰기**: 모든 함수 코드는 들여쓰기되어야 합니다\n",
    "\n",
    "### Simple Function Examples"
   ]
  },
  {
   "cell_type": "code",
   "execution_count": null,
   "id": "176c27cd",
   "metadata": {},
   "outputs": [],
   "source": [
    "def say_hello():\n",
    "    print(\"Hello there!\")\n",
    "    print(\"Nice to meet you!\")\n",
    "\n",
    "# Function call\n",
    "say_hello()"
   ]
  },
  {
   "cell_type": "code",
   "execution_count": null,
   "id": "d7664409",
   "metadata": {},
   "outputs": [],
   "source": [
    "def show_current_time():\n",
    "    import datetime\n",
    "    now = datetime.datetime.now()\n",
    "    print(f\"Current time: {now.strftime('%H:%M:%S')}\")\n",
    "\n",
    "show_current_time()"
   ]
  },
  {
   "cell_type": "markdown",
   "id": "b6b1c857",
   "metadata": {},
   "source": [
    "---\n",
    "\n",
    "## 3. Parameters and Arguments\n",
    "\n",
    "### Understanding the Difference\n",
    "\n",
    "**Parameters**: Variables defined in the function definition  \n",
    "**매개변수**: 함수 정의에서 정의된 변수\n",
    "\n",
    "**Arguments**: Actual values passed when calling the function  \n",
    "**인수**: 함수 호출 시 전달되는 실제 값"
   ]
  },
  {
   "cell_type": "code",
   "execution_count": null,
   "id": "b8e27468",
   "metadata": {},
   "outputs": [],
   "source": [
    "def greet_person(name):    # 'name' is a parameter\n",
    "    print(f\"Hello, {name}!\")\n",
    "\n",
    "greet_person(\"John\")      # \"John\" is an argument"
   ]
  },
  {
   "cell_type": "markdown",
   "id": "deb7c9f1",
   "metadata": {},
   "source": [
    "### Functions with Parameters\n",
    "\n",
    "#### Single Parameter"
   ]
  },
  {
   "cell_type": "code",
   "execution_count": null,
   "id": "e3e9ba93",
   "metadata": {},
   "outputs": [],
   "source": [
    "def square_number(num):\n",
    "    result = num * num\n",
    "    print(f\"The square of {num} is {result}\")\n",
    "\n",
    "square_number(5)    # Output: The square of 5 is 25"
   ]
  },
  {
   "cell_type": "markdown",
   "id": "f2fc2263",
   "metadata": {},
   "source": [
    "#### Multiple Parameters"
   ]
  },
  {
   "cell_type": "code",
   "execution_count": null,
   "id": "8ec1067d",
   "metadata": {},
   "outputs": [],
   "source": [
    "def calculate_rectangle_area(length, width):\n",
    "    area = length * width\n",
    "    print(f\"Rectangle area: {area}\")\n",
    "\n",
    "calculate_rectangle_area(5, 3)    # Output: Rectangle area: 15"
   ]
  },
  {
   "cell_type": "markdown",
   "id": "48073fc9",
   "metadata": {},
   "source": [
    "### Default Parameters\n",
    "\n",
    "You can provide default values for parameters:  \n",
    "매개변수에 기본값을 제공할 수 있습니다:"
   ]
  },
  {
   "cell_type": "code",
   "execution_count": null,
   "id": "5a73acc5",
   "metadata": {},
   "outputs": [],
   "source": [
    "def greet_with_title(name, title=\"Mr./Ms.\"):\n",
    "    print(f\"Hello, {title} {name}!\")\n",
    "\n",
    "greet_with_title(\"Smith\")              # Uses default title\n",
    "greet_with_title(\"Johnson\", \"Dr.\")     # Uses provided title"
   ]
  },
  {
   "cell_type": "markdown",
   "id": "fb091291",
   "metadata": {},
   "source": [
    "**Important Rule**: Default parameters must come **after** non-default parameters:  \n",
    "**중요한 규칙**: 기본 매개변수는 비기본 매개변수 **뒤에** 와야 합니다:"
   ]
  },
  {
   "cell_type": "code",
   "execution_count": null,
   "id": "da2dad9a",
   "metadata": {},
   "outputs": [],
   "source": [
    "# Correct way\n",
    "def order_coffee(size, milk=\"regular\", sugar=1):\n",
    "    return f\"{size} coffee, {milk} milk, {sugar} sugar\"\n",
    "\n",
    "# Wrong way - SyntaxError!\n",
    "# def bad_function(milk=\"regular\", size):\n",
    "#     pass"
   ]
  },
  {
   "cell_type": "markdown",
   "id": "48556900",
   "metadata": {},
   "source": [
    "### Keyword Arguments\n",
    "\n",
    "**Keyword arguments** allow you to specify which parameter gets which value by using parameter names.  \n",
    "**키워드 인수**는 매개변수 이름을 사용하여 어떤 매개변수에 값을 전달하는지 지정할 수 있게 해줍니다.\n",
    "\n",
    "#### Benefits\n",
    "\n",
    "**Clarity**: Makes code more readable  \n",
    "**명확성**: 코드를 더 읽기 쉽게 만듭니다\n",
    "\n",
    "**Flexibility**: Pass arguments in any order  \n",
    "**유연성**: 인수를 어떤 순서로든 전달할 수 있습니다"
   ]
  },
  {
   "cell_type": "code",
   "execution_count": null,
   "id": "6b0c1274",
   "metadata": {},
   "outputs": [],
   "source": [
    "def create_profile(name, age, grade=\"A\", school=\"TBD\"):\n",
    "    return f\"Student: {name}, Age: {age}, Grade: {grade}, School: {school}\"\n",
    "\n",
    "# Using keyword arguments\n",
    "profile1 = create_profile(name=\"John\", age=18, school=\"Seoul High School\")\n",
    "profile2 = create_profile(age=19, name=\"Alice\", grade=\"B\")\n",
    "\n",
    "print(profile1)\n",
    "print(profile2)"
   ]
  },
  {
   "cell_type": "markdown",
   "id": "b73e67a7",
   "metadata": {},
   "source": [
    "---\n",
    "\n",
    "## 4. Return Values and Variable Scope\n",
    "\n",
    "### What are Return Values?\n",
    "\n",
    "**Return values** are the results that a function gives back to the code that called it.  \n",
    "**반환값**은 함수가 그것을 호출한 코드에게 돌려주는 결과입니다.\n",
    "\n",
    "Think of it as the function's **output**.  \n",
    "함수의 **출력**과 같다고 생각하세요.\n",
    "\n",
    "### Using the return Statement"
   ]
  },
  {
   "cell_type": "code",
   "execution_count": null,
   "id": "4731d774",
   "metadata": {},
   "outputs": [],
   "source": [
    "def add_numbers(a, b):\n",
    "    total = a + b\n",
    "    return total\n",
    "\n",
    "# You can use the value that the function returns\n",
    "result = add_numbers(5, 3)\n",
    "print(f\"5 + 3 = {result}\")  # Output: 5 + 3 = 8\n",
    "\n",
    "# Use the returned value directly\n",
    "print(f\"Double the sum: {add_numbers(4, 6) * 2}\")"
   ]
  },
  {
   "cell_type": "markdown",
   "id": "f60d51d9",
   "metadata": {},
   "source": [
    "### return vs print Comparison\n",
    "\n",
    "It's important to understand the difference:  \n",
    "차이점을 이해하는 것이 중요합니다:"
   ]
  },
  {
   "cell_type": "code",
   "execution_count": null,
   "id": "64f07c1a",
   "metadata": {},
   "outputs": [],
   "source": [
    "# Function that prints\n",
    "def print_sum(a, b):\n",
    "    print(a + b)\n",
    "\n",
    "# Function that returns\n",
    "def calculate_sum(a, b):\n",
    "    return a + b\n",
    "\n",
    "# Usage examples\n",
    "print_sum(3, 4)           # Prints 7 (but returns None)\n",
    "result = calculate_sum(3, 4)  # Returns 7 (you can use this value)\n",
    "print(result)             # Prints 7\n",
    "\n",
    "# Use returned values in calculations\n",
    "total = calculate_sum(5, 10) + calculate_sum(2, 3)\n",
    "print(total)              # Prints 20"
   ]
  },
  {
   "cell_type": "markdown",
   "id": "a6df8694",
   "metadata": {},
   "source": [
    "### Local vs Global Variables\n",
    "\n",
    "#### Understanding Variable Scope\n",
    "\n",
    "**Variable scope** determines where in your program a variable can be accessed.  \n",
    "**변수 범위**는 프로그램에서 변수에 접근할 수 있는 위치를 결정합니다.\n",
    "\n",
    "#### Local Variables\n",
    "\n",
    "Variables created **inside** a function - can only be accessed within that function:  \n",
    "함수 **내부**에서 생성된 변수 - 해당 함수 내에서만 접근 가능합니다:"
   ]
  },
  {
   "cell_type": "code",
   "execution_count": null,
   "id": "23940f99",
   "metadata": {},
   "outputs": [],
   "source": [
    "def calculate_tax(price):\n",
    "    tax_amount = price * 0.08  # Local variable\n",
    "    total = price + tax_amount # Local variable\n",
    "    return total\n",
    "\n",
    "result = calculate_tax(100)\n",
    "print(result)  # 108.0\n",
    "\n",
    "# print(tax_amount)  # Error! Can't access local variable"
   ]
  },
  {
   "cell_type": "markdown",
   "id": "ae4f5e2f",
   "metadata": {},
   "source": [
    "#### Global Variables\n",
    "\n",
    "Variables created **outside** functions - can be accessed anywhere:  \n",
    "함수 **외부**에서 생성된 변수 - 어디서든 접근 가능합니다:"
   ]
  },
  {
   "cell_type": "code",
   "execution_count": null,
   "id": "b5e4f7a9",
   "metadata": {},
   "outputs": [],
   "source": [
    "company_name = \"Tech Corp\"  # Global variable\n",
    "tax_rate = 0.08            # Global variable\n",
    "\n",
    "def show_info():\n",
    "    print(f\"Company: {company_name}\")  # Can read global variable\n",
    "    print(f\"Tax rate: {tax_rate}\")\n",
    "\n",
    "def calculate_price(base_price):\n",
    "    return base_price * (1 + tax_rate)  # Using global variable\n",
    "\n",
    "show_info()\n",
    "print(f\"Final price: ${calculate_price(100)}\")"
   ]
  },
  {
   "cell_type": "markdown",
   "id": "4ec4d5f0",
   "metadata": {},
   "source": [
    "#### Modifying Global Variables\n",
    "\n",
    "To modify a global variable inside a function, use the `global` keyword:  \n",
    "함수 내부에서 전역변수를 수정하려면 `global` 키워드를 사용합니다:"
   ]
  },
  {
   "cell_type": "code",
   "execution_count": null,
   "id": "4f5cbca3",
   "metadata": {},
   "outputs": [],
   "source": [
    "counter = 0  # Global variable\n",
    "\n",
    "def increment_counter():\n",
    "    global counter  # Declare we want to modify the global variable\n",
    "    counter += 1\n",
    "    print(f\"Counter: {counter}\")\n",
    "\n",
    "def reset_counter():\n",
    "    global counter\n",
    "    counter = 0\n",
    "    print(\"Counter reset to 0\")\n",
    "\n",
    "increment_counter()  # Counter: 1\n",
    "increment_counter()  # Counter: 2\n",
    "reset_counter()      # Counter reset to 0"
   ]
  },
  {
   "cell_type": "markdown",
   "id": "eba60185",
   "metadata": {},
   "source": [
    "---\n",
    "\n",
    "## 5. Calling Functions from Functions\n",
    "\n",
    "### Why Use Multiple Functions?\n",
    "\n",
    "Breaking code into smaller functions makes it:  \n",
    "코드를 더 작은 함수로 나누면 다음과 같은 장점이 있습니다:\n",
    "\n",
    "**Easier to understand**  \n",
    "이해하기 쉬움\n",
    "\n",
    "**Easier to test**  \n",
    "테스트하기 쉬움\n",
    "\n",
    "**Reusable**  \n",
    "재사용 가능\n",
    "\n",
    "### Simple Example: Order System"
   ]
  },
  {
   "cell_type": "code",
   "execution_count": null,
   "id": "197bbea2",
   "metadata": {},
   "outputs": [],
   "source": [
    "def calculate_tax(price):\n",
    "    return price * 0.08\n",
    "\n",
    "def calculate_tip(price):\n",
    "    return price * 0.15\n",
    "\n",
    "def process_order(meal_price):\n",
    "    print(f\"Food price: ${meal_price}\")\n",
    "    \n",
    "    tax = calculate_tax(meal_price)\n",
    "    print(f\"Tax: ${tax:.2f}\")\n",
    "    \n",
    "    tip = calculate_tip(meal_price)\n",
    "    print(f\"Tip: ${tip:.2f}\")\n",
    "    \n",
    "    total = meal_price + tax + tip\n",
    "    print(f\"Total: ${total:.2f}\")\n",
    "    \n",
    "    return total\n",
    "\n",
    "# Test the system\n",
    "final_cost = process_order(25.00)"
   ]
  },
  {
   "cell_type": "markdown",
   "id": "fa237471",
   "metadata": {},
   "source": [
    "### Grade Calculator Example"
   ]
  },
  {
   "cell_type": "code",
   "execution_count": null,
   "id": "b819fe99",
   "metadata": {},
   "outputs": [],
   "source": [
    "def calculate_average(scores):\n",
    "    return sum(scores) / len(scores)\n",
    "\n",
    "def get_letter_grade(average):\n",
    "    if average >= 90:\n",
    "        return \"A\"\n",
    "    elif average >= 80:\n",
    "        return \"B\"\n",
    "    elif average >= 70:\n",
    "        return \"C\"\n",
    "    else:\n",
    "        return \"F\"\n",
    "\n",
    "def generate_report(student_name, test_scores):\n",
    "    print(f\"Student: {student_name}\")\n",
    "    \n",
    "    average = calculate_average(test_scores)\n",
    "    print(f\"Average: {average:.2f}\")\n",
    "    \n",
    "    grade = get_letter_grade(average)\n",
    "    print(f\"Grade: {grade}\")\n",
    "    \n",
    "    return grade\n",
    "\n",
    "# Test the system\n",
    "student_grade = generate_report(\"John Smith\", [85, 92, 78, 90])"
   ]
  },
  {
   "cell_type": "markdown",
   "id": "61120185",
   "metadata": {},
   "source": [
    "---\n",
    "\n",
    "## Practice Problems\n",
    "\n",
    "### Practice 1: Flexible Calculator\n",
    "\n",
    "**Problem**: Create a calculator with default parameters and keyword arguments.  \n",
    "**문제**: 기본 매개변수와 키워드 인수가 있는 계산기를 만드세요.\n",
    "\n",
    "**Solution**:  \n",
    "**정답**:"
   ]
  },
  {
   "cell_type": "code",
   "execution_count": null,
   "id": "0e150bbe",
   "metadata": {},
   "outputs": [],
   "source": [
    "def calculate(num1, num2, operation=\"add\", show_steps=False):\n",
    "    \"\"\"Flexible calculator with default operations\"\"\"\n",
    "    \n",
    "    if show_steps:\n",
    "        print(f\"Computing: {num1} {operation} {num2}\")\n",
    "    \n",
    "    if operation == \"add\":\n",
    "        result = num1 + num2\n",
    "    elif operation == \"subtract\":\n",
    "        result = num1 - num2\n",
    "    elif operation == \"multiply\":\n",
    "        result = num1 * num2\n",
    "    elif operation == \"divide\":\n",
    "        if num2 != 0:\n",
    "            result = num1 / num2\n",
    "        else:\n",
    "            return \"Cannot divide by zero!\"\n",
    "    else:\n",
    "        return \"Invalid operation\"\n",
    "    \n",
    "    if show_steps:\n",
    "        print(f\"Result: {result}\")\n",
    "    \n",
    "    return result\n",
    "\n",
    "# Test the calculator\n",
    "print(\"=== Calculator Test ===\")\n",
    "print(calculate(10, 5))  # Default: add\n",
    "print(calculate(10, 5, \"multiply\"))\n",
    "print(calculate(num1=20, num2=4, operation=\"divide\", show_steps=True))\n",
    "print(calculate(operation=\"subtract\", num1=15, num2=7))"
   ]
  },
  {
   "cell_type": "markdown",
   "id": "ed442a0d",
   "metadata": {},
   "source": [
    "### Practice 2: Global Score Tracker\n",
    "\n",
    "**Problem**: Create a simple game scoring system using global variables.  \n",
    "**문제**: 전역변수를 사용하여 간단한 게임 점수 시스템을 만드세요.\n",
    "\n",
    "**Solution**:  \n",
    "**정답**:"
   ]
  },
  {
   "cell_type": "code",
   "execution_count": null,
   "id": "ea5c4870",
   "metadata": {},
   "outputs": [],
   "source": [
    "# Global variables\n",
    "player_score = 0\n",
    "player_level = 1\n",
    "\n",
    "def add_points(points):\n",
    "    global player_score\n",
    "    player_score += points\n",
    "    print(f\"Added {points} points! Total: {player_score}\")\n",
    "\n",
    "def level_up():\n",
    "    global player_level, player_score\n",
    "    player_level += 1\n",
    "    bonus = player_level * 100\n",
    "    player_score += bonus\n",
    "    print(f\"Level up! Current level: {player_level}\")\n",
    "    print(f\"Bonus: {bonus} points! Total: {player_score}\")\n",
    "\n",
    "def show_status():\n",
    "    print(f\"Player Status - Level: {player_level}, Score: {player_score}\")\n",
    "\n",
    "def reset_game():\n",
    "    global player_score, player_level\n",
    "    player_score = 0\n",
    "    player_level = 1\n",
    "    print(\"Game has been reset!\")\n",
    "\n",
    "# Test the system\n",
    "print(\"=== Game Scoring System ===\")\n",
    "show_status()\n",
    "add_points(250)\n",
    "add_points(150)\n",
    "level_up()\n",
    "show_status()\n",
    "reset_game()\n",
    "show_status()"
   ]
  },
  {
   "cell_type": "markdown",
   "id": "07938e02",
   "metadata": {},
   "source": [
    "### Practice 3: Student Grade System\n",
    "\n",
    "**Problem**: Create a grading system where functions work together.  \n",
    "**문제**: 함수들이 함께 작동하는 성적 시스템을 만드세요.\n",
    "\n",
    "**Solution**:  \n",
    "**정답**:"
   ]
  },
  {
   "cell_type": "code",
   "execution_count": null,
   "id": "1a0bc328",
   "metadata": {},
   "outputs": [],
   "source": [
    "def calculate_average(scores):\n",
    "    return sum(scores) / len(scores) if scores else 0\n",
    "\n",
    "def determine_grade(average):\n",
    "    if average >= 90: return \"A\"\n",
    "    elif average >= 80: return \"B\"\n",
    "    elif average >= 70: return \"C\"\n",
    "    elif average >= 60: return \"D\"\n",
    "    else: return \"F\"\n",
    "\n",
    "def get_status(grade):\n",
    "    if grade in [\"A\", \"B\"]:\n",
    "        return \"Excellent\"\n",
    "    elif grade == \"C\":\n",
    "        return \"Average\"\n",
    "    else:\n",
    "        return \"Needs Improvement\"\n",
    "\n",
    "def create_report(name, scores, show_details=True):\n",
    "    print(f\"\\n=== Grade Report: {name} ===\")\n",
    "    \n",
    "    if show_details:\n",
    "        print(f\"Scores: {scores}\")\n",
    "    \n",
    "    average = calculate_average(scores)\n",
    "    print(f\"Average: {average:.2f}\")\n",
    "    \n",
    "    grade = determine_grade(average)\n",
    "    print(f\"Grade: {grade}\")\n",
    "    \n",
    "    status = get_status(grade)\n",
    "    print(f\"Status: {status}\")\n",
    "    \n",
    "    return grade\n",
    "\n",
    "# Test the system\n",
    "print(\"=== Student Grading System ===\")\n",
    "alice_grade = create_report(\"John Smith\", [85, 92, 78, 90])\n",
    "bob_grade = create_report(\"Alice Johnson\", [95, 88, 94], show_details=False)"
   ]
  },
  {
   "cell_type": "markdown",
   "id": "e45ed54f",
   "metadata": {},
   "source": [
    "---\n",
    "\n",
    "## Quiz\n",
    "\n",
    "### Quiz 1: Function Definition and Basic Usage\n",
    "\n",
    "**Problem**: Write a function called `calculate_tax` that takes two parameters: `income` (annual income) and `tax_rate` (as a percentage). The function should calculate and return the tax amount. Then write code to test your function with an income of $50,000 and a tax rate of 15%.  \n",
    "**문제**: `calculate_tax`라는 함수를 작성하세요. 이 함수는 두 개의 매개변수를 받습니다: `income`(연간 소득)과 `tax_rate`(백분율). 함수는 세금 금액을 계산하고 반환해야 합니다. 그런 다음 소득 5만달러와 세율 15%로 함수를 테스트하는 코드를 작성하세요.\n",
    "\n",
    "Additionally, create a `display_tax_info` function that takes the same parameters but prints a formatted message showing the income, tax rate, tax amount, and net income (income - tax).  \n",
    "추가로, 같은 매개변수를 받지만 소득, 세율, 세금 금액, 순소득(소득 - 세금)을 보여주는 형식화된 메시지를 출력하는 `display_tax_info` 함수를 만드세요.\n",
    "\n",
    "**Write your answer here**:  \n",
    "**답을 여기에 작성하세요**:"
   ]
  },
  {
   "cell_type": "code",
   "execution_count": null,
   "id": "1d733796",
   "metadata": {},
   "outputs": [],
   "source": [
    "# Write your code here\n",
    "\n",
    "\n",
    "\n"
   ]
  },
  {
   "cell_type": "markdown",
   "id": "e382ba77",
   "metadata": {},
   "source": [
    "### Quiz 2: Default Parameters and Keyword Arguments\n",
    "\n",
    "**Problem**: Create a function called `book_ticket` that takes the following parameters:  \n",
    "**문제**: `book_ticket`라는 함수를 만드세요. 다음 매개변수들을 받습니다:\n",
    "\n",
    "- `destination` (required)  \n",
    "`destination` (필수)\n",
    "- `passenger_name` (required)  \n",
    "`passenger_name` (필수)\n",
    "- `seat_class` (default: \"Economy\")  \n",
    "`seat_class` (기본값: \"Economy\")\n",
    "- `meal_preference` (default: \"None\")  \n",
    "`meal_preference` (기본값: \"None\")\n",
    "\n",
    "The function should return a formatted booking confirmation. Test it with various parameter combinations.  \n",
    "함수는 형식화된 예약 확인서를 반환해야 합니다. 다양한 매개변수 조합으로 테스트하세요.\n",
    "\n",
    "**Write your answer here**:  \n",
    "**답을 여기에 작성하세요**:"
   ]
  },
  {
   "cell_type": "code",
   "execution_count": null,
   "id": "d78fa969",
   "metadata": {},
   "outputs": [],
   "source": [
    "# Write your code here\n",
    "\n",
    "\n",
    "\n"
   ]
  },
  {
   "cell_type": "markdown",
   "id": "7b243f14",
   "metadata": {},
   "source": [
    "### Quiz 3: Function Cooperation and Global Variables\n",
    "\n",
    "**Problem**: Create a simple inventory system with the following global variables and functions:  \n",
    "**문제**: 다음 전역변수와 함수들로 간단한 재고 시스템을 만드세요:\n",
    "\n",
    "- Global variables: `inventory_count`, `item_name`  \n",
    "전역변수: `inventory_count`, `item_name`\n",
    "- `set_item(name, count)` - Initialize inventory  \n",
    "`set_item(name, count)` - 재고 초기화\n",
    "- `add_stock(amount)` - Add to inventory  \n",
    "`add_stock(amount)` - 재고 추가\n",
    "- `sell_item(amount)` - Sell items (if enough stock available)  \n",
    "`sell_item(amount)` - 아이템 판매 (충분한 재고가 있을 경우)\n",
    "- `check_inventory()` - Check current inventory  \n",
    "`check_inventory()` - 현재 재고 확인\n",
    "\n",
    "**Write your answer here**:  \n",
    "**답을 여기에 작성하세요**:"
   ]
  },
  {
   "cell_type": "code",
   "execution_count": null,
   "id": "dfde1759",
   "metadata": {},
   "outputs": [],
   "source": [
    "# Write your code here\n",
    "\n",
    "\n",
    "\n"
   ]
  },
  {
   "cell_type": "markdown",
   "id": "0795cba3",
   "metadata": {},
   "source": [
    "---\n",
    "\n",
    "## References\n",
    "\n",
    "1. **Python Functions Official Documentation**: https://docs.python.org/3/tutorial/controlflow.html#defining-functions  \n",
    "   - Official Python documentation on function definition and usage  \n",
    "     함수 정의와 사용에 대한 공식 파이썬 문서\n",
    "\n",
    "2. **Real Python - Python Functions**: https://realpython.com/defining-your-own-python-function/  \n",
    "   - Comprehensive tutorial on creating and using functions  \n",
    "     함수 생성 및 사용에 대한 종합 튜토리얼\n",
    "\n",
    "3. **W3Schools Python Functions**: https://www.w3schools.com/python/python_functions.asp  \n",
    "   - Interactive examples and exercises for learning functions  \n",
    "     함수 학습을 위한 대화형 예제와 연습\n",
    "\n",
    "---\n",
    "\n",
    "## Key Points\n",
    "\n",
    "### Rules to Remember\n",
    "\n",
    "**Default parameters** must come after required parameters  \n",
    "기본 매개변수는 필수 매개변수 뒤에 위치해야 합니다\n",
    "\n",
    "**Keyword arguments** make function calls more explicit  \n",
    "키워드 인수는 함수 호출을 더 명확하게 만듭니다\n",
    "\n",
    "Use **global** keyword when modifying global variables in functions  \n",
    "함수에서 전역변수를 수정할 때 **global** 키워드를 사용하세요\n",
    "\n",
    "**Break complex problems** into smaller functions  \n",
    "**복잡한 문제**를 더 작은 함수로 나누세요\n",
    "\n",
    "### Function Writing Best Practices\n",
    "\n",
    "#### 1. Use Descriptive Function Names"
   ]
  },
  {
   "cell_type": "code",
   "execution_count": null,
   "id": "6660539c",
   "metadata": {},
   "outputs": [],
   "source": [
    "# Good examples\n",
    "def calculate_area(length, width):\n",
    "def check_password_strength(password):\n",
    "\n",
    "# Bad examples  \n",
    "def calc(a, b):\n",
    "def check(x):"
   ]
  },
  {
   "cell_type": "markdown",
   "id": "293a316a",
   "metadata": {},
   "source": [
    "#### 2. Keep Functions Focused\n",
    "\n",
    "Each function should do one thing well:  \n",
    "각 함수는 한 가지 일을 잘해야 합니다:"
   ]
  },
  {
   "cell_type": "code",
   "execution_count": null,
   "id": "2c049bc6",
   "metadata": {},
   "outputs": [],
   "source": [
    "# Good example - focused function\n",
    "def calculate_circle_area(radius):\n",
    "    return 3.14159 * radius * radius\n",
    "\n",
    "# Bad example - does too many things\n",
    "def circle_operations(radius):\n",
    "    area = 3.14159 * radius * radius\n",
    "    circumference = 2 * 3.14159 * radius\n",
    "    print(f\"Area: {area}\")\n",
    "    print(f\"Circumference: {circumference}\")\n",
    "    return area, circumference"
   ]
  },
  {
   "cell_type": "markdown",
   "id": "085fbbc0",
   "metadata": {},
   "source": [
    "### Real-World Applications\n",
    "\n",
    "**Code organization**: Break large programs into manageable pieces  \n",
    "코드 구성: 큰 프로그램을 관리 가능한 조각으로 나누기\n",
    "\n",
    "**Automation**: Create reusable functions for repetitive tasks  \n",
    "자동화: 반복적인 작업을 위한 재사용 가능한 함수 생성\n",
    "\n",
    "**Data processing**: Process and analyze information step by step  \n",
    "데이터 처리: 정보를 단계별로 처리하고 분석\n",
    "\n",
    "**Game development**: Handle player actions, scoring, and game logic  \n",
    "게임 개발: 플레이어 동작, 점수, 게임 로직 처리\n",
    "\n",
    "### Important Considerations\n",
    "\n",
    "**Function naming**: Use clear, descriptive names  \n",
    "함수 명명: 명확하고 설명적인 이름 사용\n",
    "\n",
    "**Parameter order**: Required parameters first, then default parameters  \n",
    "매개변수 순서: 필수 매개변수 먼저, 그다음 기본 매개변수\n",
    "\n",
    "**Return values**: Always return meaningful results when needed  \n",
    "반환값: 필요할 때 항상 의미 있는 결과 반환\n",
    "\n",
    "**Documentation**: Use docstrings to explain what functions do  \n",
    "문서화: 함수가 무엇을 하는지 설명하기 위해 독스트링 사용\n",
    "\n",
    "---\n",
    "\n",
    "## Homework\n",
    "\n",
    "1. **Practice**: Complete all 3 practice problems and try modifications  \n",
    "연습: 3개 실습 문제를 모두 완료하고 수정해보기\n",
    "2. **Create**: Write a function that calculates BMI given height and weight  \n",
    "생성: 키와 몸무게가 주어졌을 때 체질량지수(BMI)를 계산하는 함수 작성하기\n",
    "3. **Experiment**: Try creating functions with different numbers of parameters  \n",
    "실험: 다양한 개수의 매개변수를 가진 함수 만들기 시도하기\n",
    "4. **Challenge**: Create a simple text-based menu system that uses functions for each menu option  \n",
    "도전: 각 메뉴 옵션에 함수를 사용하는 간단한 텍스트 기반 메뉴 시스템 만들기\n",
    "\n",
    "**Functions make your code more organized and powerful!**  \n",
    "**함수는 코드를 더 체계적이고 강력하게 만들어줍니다!**"
   ]
  }
 ],
 "metadata": {
  "jupytext": {
   "cell_metadata_filter": "-all",
   "main_language": "python",
   "notebook_metadata_filter": "-all"
  }
 },
 "nbformat": 4,
 "nbformat_minor": 5
}
