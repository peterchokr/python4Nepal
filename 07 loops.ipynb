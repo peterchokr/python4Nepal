{
 "cells": [
  {
   "cell_type": "markdown",
   "id": "6b4abbc2",
   "metadata": {
    "lines_to_next_cell": 0
   },
   "source": [
    "# Loops - for and while Statements\n",
    "\n",
    "**Class Duration**: 3 hours  \n",
    "**Structure**: Lecture & Practice 2 hours + Quiz 1 hour  \n",
    "**Level**: Beginner  \n",
    "**Prerequisites**: Variables, Data Types, Operators, Input/Output, Conditional Statements\n",
    "\n",
    "---\n",
    "\n",
    "## 🎯 Learning Objectives\n",
    "\n",
    "After completing this lesson, students will be able to:\n",
    "이 수업을 마친 후 학생들은 다음을 할 수 있습니다:\n",
    "\n",
    "- Understand the concept and purpose of loops\n",
    "반복문의 개념과 목적 이해하기\n",
    "- Write basic for loops using the range() function\n",
    "range() 함수를 사용한 기본 for문 작성하기\n",
    "- Use for loops with strings and other sequences\n",
    "문자열과 다른 시퀀스에서 for문 사용하기\n",
    "- Understand the concept and structure of while loops\n",
    "while문의 개념과 구조 이해하기\n",
    "- Use break and continue statements effectively\n",
    "break와 continue 문을 효과적으로 사용하기\n",
    "- Choose between for loops and while loops appropriately\n",
    "for문과 while문을 적절히 선택하여 사용하기\n",
    "\n",
    "---\n",
    "\n",
    "## 🔄 1. What are Loops?\n",
    "\n",
    "**Loops** allow you to repeat code multiple times without writing the same code over and over again.\n",
    "**반복문**은 같은 코드를 여러 번 작성하지 않고도 코드를 여러 번 반복할 수 있게 해줍니다.\n",
    "\n",
    "### Real-life Analogy\n",
    "\n",
    "Think of loops like daily routines:\n",
    "반복문을 일상 루틴과 같다고 생각해보세요:\n",
    "\n",
    "```\n",
    "Daily Routine:\n",
    "Every morning:\n",
    "    - Wake up at 7 AM\n",
    "    - Brush teeth\n",
    "    - Eat breakfast\n",
    "    - Go to school\n",
    "\n",
    "Python Loop:\n",
    "for day in range(7):\n",
    "    print(\"Wake up at 7 AM\")\n",
    "    print(\"Brush teeth\")\n",
    "    print(\"Eat breakfast\")\n",
    "    print(\"Go to school\")\n",
    "```\n",
    "\n",
    "### Why Use Loops?\n",
    "\n",
    "반복문을 사용하는 이유\n",
    "- **Avoid Repetition**: Don't write the same code multiple times\n",
    "반복 방지: 같은 코드를 여러 번 작성하지 않음\n",
    "- **Save Time**: Do more work with less code\n",
    "시간 절약: 적은 코드로 더 많은 작업\n",
    "- **Process Large Data**: Handle many items efficiently\n",
    "대용량 데이터 처리: 많은 항목을 효율적으로 처리\n",
    "- **Generate Patterns**: Easily create repetitive patterns\n",
    "패턴 생성: 반복 패턴을 쉽게 생성\n",
    "\n",
    "---\n",
    "\n",
    "## 🔢 2. for Loop\n",
    "\n",
    "### Basic Syntax\n",
    "\n",
    "기본 문법"
   ]
  },
  {
   "cell_type": "code",
   "execution_count": null,
   "id": "16fc14bd",
   "metadata": {},
   "outputs": [],
   "source": [
    "for variable in sequence:\n",
    "    # Code to repeat\n",
    "    statement1\n",
    "    statement2"
   ]
  },
  {
   "cell_type": "markdown",
   "id": "ef8c09eb",
   "metadata": {
    "lines_to_next_cell": 0
   },
   "source": [
    "### Key Components\n",
    "\n",
    "주요 구성 요소\n",
    "- **for keyword**: Starts the loop\n",
    "for 키워드: 반복문 시작\n",
    "- **variable**: Stores each item from the sequence\n",
    "변수: 시퀀스의 각 항목 저장\n",
    "- **in keyword**: Connects variable and sequence\n",
    "in 키워드: 변수와 시퀀스 연결\n",
    "- **sequence**: Collection of items to iterate over\n",
    "시퀀스: 반복할 항목들의 모음\n",
    "- **colon (:)**: Marks the end of the for statement\n",
    "콜론: for문의 끝을 표시\n",
    "- **indentation**: Marks code inside the loop\n",
    "들여쓰기: 반복문 내부 코드 표시\n",
    "\n",
    "### Simple Examples\n",
    "\n",
    "간단한 예시\n",
    "\n",
    "#### Example 1: Repeating Numbers"
   ]
  },
  {
   "cell_type": "code",
   "execution_count": null,
   "id": "eb90d581",
   "metadata": {},
   "outputs": [],
   "source": [
    "# Without loop (inefficient)\n",
    "print(\"Count: 1\")\n",
    "print(\"Count: 2\") \n",
    "print(\"Count: 3\")\n",
    "\n",
    "# With loop (efficient)\n",
    "for number in [1, 2, 3]:\n",
    "    print(f\"Count: {number}\")"
   ]
  },
  {
   "cell_type": "markdown",
   "id": "140ea23d",
   "metadata": {
    "lines_to_next_cell": 0
   },
   "source": [
    "#### Example 2: Repeating Characters"
   ]
  },
  {
   "cell_type": "code",
   "execution_count": null,
   "id": "2b279313",
   "metadata": {},
   "outputs": [],
   "source": [
    "# Print each character\n",
    "for letter in [\"A\", \"B\", \"C\"]:\n",
    "    print(f\"Letter: {letter}\")\n",
    "\n",
    "# Output:\n",
    "# Letter: A\n",
    "# Letter: B\n",
    "# Letter: C"
   ]
  },
  {
   "cell_type": "markdown",
   "id": "ad69dc58",
   "metadata": {
    "lines_to_next_cell": 0
   },
   "source": [
    "---\n",
    "\n",
    "## 📊 3. The range() Function\n",
    "\n",
    "**range()** function generates sequences of numbers and is very useful with loops.\n",
    "**range()** 함수는 숫자 시퀀스를 생성하며, 반복문에 매우 유용합니다.\n",
    "\n",
    "### Three Ways to Use range()\n",
    "\n",
    "range() 사용 3가지 방법\n",
    "\n",
    "#### 1. range(stop) - From 0 to stop-1"
   ]
  },
  {
   "cell_type": "code",
   "execution_count": null,
   "id": "2a775f47",
   "metadata": {},
   "outputs": [],
   "source": [
    "# range(5) generates 0, 1, 2, 3, 4\n",
    "for i in range(5):\n",
    "    print(f\"Number: {i}\")\n",
    "\n",
    "# Output:\n",
    "# Number: 0\n",
    "# Number: 1\n",
    "# Number: 2\n",
    "# Number: 3\n",
    "# Number: 4"
   ]
  },
  {
   "cell_type": "markdown",
   "id": "3d4364dd",
   "metadata": {
    "lines_to_next_cell": 0
   },
   "source": [
    "#### 2. range(start, stop) - From start to stop-1"
   ]
  },
  {
   "cell_type": "code",
   "execution_count": null,
   "id": "4d9d330d",
   "metadata": {},
   "outputs": [],
   "source": [
    "# range(1, 6) generates 1, 2, 3, 4, 5\n",
    "for i in range(1, 6):\n",
    "    print(f\"Number: {i}\")\n",
    "\n",
    "# Output:\n",
    "# Number: 1\n",
    "# Number: 2\n",
    "# Number: 3\n",
    "# Number: 4\n",
    "# Number: 5"
   ]
  },
  {
   "cell_type": "markdown",
   "id": "1f7e9332",
   "metadata": {
    "lines_to_next_cell": 0
   },
   "source": [
    "#### 3. range(start, stop, step) - Custom step size"
   ]
  },
  {
   "cell_type": "code",
   "execution_count": null,
   "id": "a0b8909e",
   "metadata": {},
   "outputs": [],
   "source": [
    "# range(2, 11, 2) generates 2, 4, 6, 8, 10\n",
    "for i in range(2, 11, 2):\n",
    "    print(f\"Even: {i}\")\n",
    "\n",
    "# Output:\n",
    "# Even: 2\n",
    "# Even: 4\n",
    "# Even: 6\n",
    "# Even: 8\n",
    "# Even: 10"
   ]
  },
  {
   "cell_type": "markdown",
   "id": "9e4a4bf0",
   "metadata": {
    "lines_to_next_cell": 0
   },
   "source": [
    "### Practical range() Example\n",
    "\n",
    "실용적인 range() 예시\n",
    "\n",
    "#### Creating Multiplication Table"
   ]
  },
  {
   "cell_type": "code",
   "execution_count": null,
   "id": "2c9f9160",
   "metadata": {},
   "outputs": [],
   "source": [
    "number = 3\n",
    "print(f\"{number} times table:\")\n",
    "for i in range(1, 10):\n",
    "    result = number * i\n",
    "    print(f\"{number} x {i} = {result}\")"
   ]
  },
  {
   "cell_type": "markdown",
   "id": "c4361bf6",
   "metadata": {
    "lines_to_next_cell": 0
   },
   "source": [
    "---\n",
    "\n",
    "## 🔤 4. Strings and for Loops\n",
    "\n",
    "You can iterate through each character in a string directly.\n",
    "문자열의 각 문자를 직접 반복할 수 있습니다.\n",
    "\n",
    "#### Example 1: Print Each Character"
   ]
  },
  {
   "cell_type": "code",
   "execution_count": null,
   "id": "8b180cc6",
   "metadata": {},
   "outputs": [],
   "source": [
    "word = \"Python\"\n",
    "for letter in word:\n",
    "    print(f\"Character: {letter}\")\n",
    "\n",
    "# Output:\n",
    "# Character: P\n",
    "# Character: y\n",
    "# Character: t\n",
    "# Character: h\n",
    "# Character: o\n",
    "# Character: n"
   ]
  },
  {
   "cell_type": "markdown",
   "id": "7786da5f",
   "metadata": {
    "lines_to_next_cell": 0
   },
   "source": [
    "#### Example 2: Count Vowels"
   ]
  },
  {
   "cell_type": "code",
   "execution_count": null,
   "id": "9c1a695d",
   "metadata": {},
   "outputs": [],
   "source": [
    "text = \"Hello World\"\n",
    "vowels = \"aeiouAEIOU\"\n",
    "vowel_count = 0\n",
    "\n",
    "for letter in text:\n",
    "    if letter in vowels:\n",
    "        vowel_count += 1\n",
    "        print(f\"Vowel found: {letter}\")\n",
    "\n",
    "print(f\"Total vowels: {vowel_count}\")"
   ]
  },
  {
   "cell_type": "markdown",
   "id": "a08f509f",
   "metadata": {
    "lines_to_next_cell": 0
   },
   "source": [
    "---\n",
    "\n",
    "## ⚡ 5. while Loop\n",
    "\n",
    "**while loop** repeats code while a condition is True. Unlike for loops, while loops continue until the condition becomes False.\n",
    "**while문**은 조건이 True인 동안 코드를 반복합니다. for문과 달리, while문은 조건이 False가 될 때까지 계속됩니다.\n",
    "\n",
    "### Basic Syntax\n",
    "\n",
    "기본 문법"
   ]
  },
  {
   "cell_type": "code",
   "execution_count": null,
   "id": "91495f8a",
   "metadata": {},
   "outputs": [],
   "source": [
    "while condition:\n",
    "    # Code to repeat\n",
    "    statement1\n",
    "    statement2\n",
    "    # Code to change condition (important!)"
   ]
  },
  {
   "cell_type": "markdown",
   "id": "323ce96a",
   "metadata": {
    "lines_to_next_cell": 0
   },
   "source": [
    "### Key Components\n",
    "\n",
    "주요 구성 요소\n",
    "- **while keyword**: Starts the loop\n",
    "while 키워드: 반복문 시작\n",
    "- **condition**: Expression that evaluates to True/False\n",
    "조건: True/False로 평가되는 표현식\n",
    "- **colon (:)**: Marks the end of while statement\n",
    "콜론: while문의 끝을 표시\n",
    "- **indentation**: Marks code inside the loop\n",
    "들여쓰기: 반복문 내부 코드 표시\n",
    "- **condition update**: Must change the condition inside the loop (very important!)\n",
    "조건 업데이트: 반복문 내부에서 조건을 변경해야 함 (매우 중요!)\n",
    "\n",
    "### Simple Examples\n",
    "\n",
    "간단한 예시\n",
    "\n",
    "#### Example 1: Counting with while"
   ]
  },
  {
   "cell_type": "code",
   "execution_count": null,
   "id": "4ba0a17c",
   "metadata": {},
   "outputs": [],
   "source": [
    "# Count from 1 to 5\n",
    "count = 1\n",
    "while count <= 5:\n",
    "    print(f\"Count: {count}\")\n",
    "    count += 1  # Part that changes the condition!\n",
    "\n",
    "print(\"Counting complete!\")\n",
    "\n",
    "# Output:\n",
    "# Count: 1\n",
    "# Count: 2\n",
    "# Count: 3\n",
    "# Count: 4\n",
    "# Count: 5\n",
    "# Counting complete!"
   ]
  },
  {
   "cell_type": "markdown",
   "id": "14105131",
   "metadata": {
    "lines_to_next_cell": 0
   },
   "source": [
    "#### Example 2: User Input Validation"
   ]
  },
  {
   "cell_type": "code",
   "execution_count": null,
   "id": "e7d9314d",
   "metadata": {},
   "outputs": [],
   "source": [
    "# Keep asking until a positive number is entered\n",
    "number = -1\n",
    "while number <= 0:\n",
    "    number = int(input(\"Enter a positive number: \"))\n",
    "    if number <= 0:\n",
    "        print(\"That's not positive! Try again.\")\n",
    "\n",
    "print(f\"You entered: {number}\")"
   ]
  },
  {
   "cell_type": "markdown",
   "id": "03504d0d",
   "metadata": {
    "lines_to_next_cell": 0
   },
   "source": [
    "---\n",
    "\n",
    "## 🛑 6. break and continue Statements\n",
    "\n",
    "### break Statement\n",
    "\n",
    "**break** statement immediately exits the loop.\n",
    "**break**문은 반복문을 즉시 종료합니다.\n",
    "\n",
    "#### Example: Menu System"
   ]
  },
  {
   "cell_type": "code",
   "execution_count": null,
   "id": "a9ada3c9",
   "metadata": {},
   "outputs": [],
   "source": [
    "# Restaurant ordering system\n",
    "while True:  # Intentional infinite loop\n",
    "    print(\"\\n=== Restaurant Menu ===\")\n",
    "    print(\"1. Pizza - $12\")\n",
    "    print(\"2. Burger - $8\") \n",
    "    print(\"3. Salad - $6\")\n",
    "    print(\"4. Exit\")\n",
    "    \n",
    "    choice = input(\"Choose (1-4): \")\n",
    "    \n",
    "    if choice == \"1\":\n",
    "        print(\"You ordered Pizza!\")\n",
    "    elif choice == \"2\":\n",
    "        print(\"You ordered Burger!\")\n",
    "    elif choice == \"3\":\n",
    "        print(\"You ordered Salad!\")\n",
    "    elif choice == \"4\":\n",
    "        print(\"Thank you for visiting!\")\n",
    "        break  # Exit the loop\n",
    "    else:\n",
    "        print(\"Invalid choice! Try again.\")\n",
    "\n",
    "print(\"Program ended\")"
   ]
  },
  {
   "cell_type": "markdown",
   "id": "276043b1",
   "metadata": {
    "lines_to_next_cell": 0
   },
   "source": [
    "### continue Statement\n",
    "\n",
    "**continue** statement skips the rest of the current iteration and moves to the next iteration.\n",
    "**continue**문은 현재 반복의 나머지 부분을 건너뛰고 다음 반복으로 이동합니다.\n",
    "\n",
    "#### Example: Print Only Odd Numbers"
   ]
  },
  {
   "cell_type": "code",
   "execution_count": null,
   "id": "165775b4",
   "metadata": {},
   "outputs": [],
   "source": [
    "# Print only odd numbers from 1 to 10\n",
    "number = 0\n",
    "while number < 10:\n",
    "    number += 1\n",
    "    if number % 2 == 0:  # If even number\n",
    "        continue  # Skip to next iteration\n",
    "    print(f\"Odd: {number}\")\n",
    "\n",
    "# Output: 1, 3, 5, 7, 9"
   ]
  },
  {
   "cell_type": "markdown",
   "id": "d6c920e8",
   "metadata": {},
   "source": [
    "---\n",
    "\n",
    "## 🤔 7. for Loop vs while Loop: When to Use Which?\n",
    "\n",
    "### Use for Loop When\n",
    "\n",
    "for문을 사용할 때\n",
    "- **You know the number of iterations**: When you know how many times to repeat\n",
    "반복 횟수를 알 때: 몇 번 반복할지 미리 알 때\n",
    "- **Processing sequences**: Working with lists, strings, ranges\n",
    "시퀀스 처리: 리스트, 문자열, 범위로 작업할 때\n",
    "- **Pattern generation**: Creating patterns with specific number of iterations\n",
    "패턴 생성: 특정 횟수로 패턴 생성할 때"
   ]
  },
  {
   "cell_type": "code",
   "execution_count": null,
   "id": "db4312dd",
   "metadata": {},
   "outputs": [],
   "source": [
    "# Good examples for for loop\n",
    "for i in range(10):           # Repeat 10 times\n",
    "    print(f\"Number {i}\")\n",
    "\n",
    "for letter in \"Hello\":        # Process each character\n",
    "    print(letter)\n",
    "\n",
    "for item in [1, 2, 3, 4, 5]:  # Process each list item\n",
    "    print(item * 2)"
   ]
  },
  {
   "cell_type": "markdown",
   "id": "11df6ade",
   "metadata": {},
   "source": [
    "### Use while Loop When\n",
    "\n",
    "while문을 사용할 때\n",
    "- **You don't know the number of iterations**: When you don't know how many times to repeat\n",
    "반복 횟수를 모를 때: 몇 번 반복할지 모를 때\n",
    "- **Condition-based**: Continue until something happens\n",
    "조건 기반: 무언가가 일어날 때까지 계속\n",
    "- **User interaction**: Continue until user decides to stop\n",
    "사용자 상호작용: 사용자가 중단하기로 결정할 때까지 계속"
   ]
  },
  {
   "cell_type": "code",
   "execution_count": null,
   "id": "81581151",
   "metadata": {},
   "outputs": [],
   "source": [
    "# Good examples for while loop\n",
    "while user_choice != \"exit\":   # Until user exits\n",
    "    user_choice = input(\"Enter command: \")\n",
    "\n",
    "while balance > 0:             # While balance exists\n",
    "    balance -= purchase_amount()\n",
    "\n",
    "while not answer_found:        # Until answer is found\n",
    "    answer = search_database()"
   ]
  },
  {
   "cell_type": "markdown",
   "id": "831a60fc",
   "metadata": {
    "lines_to_next_cell": 0
   },
   "source": [
    "---\n",
    "\n",
    "## 🔧 Practice Problems\n",
    "\n",
    "### Practice 1: Multiplication Table Program\n",
    "\n",
    "**Problem**: Create a program that displays the multiplication table for a number entered by the user.\n",
    "**문제**: 사용자가 입력한 숫자의 구구단을 출력하는 프로그램을 만드세요.\n",
    "\n",
    "**Requirements**:\n",
    "**요구사항**:\n",
    "- Ask user for a number\n",
    "- Display multiplication table from 1 to 9\n",
    "- Format output clearly\n",
    "\n",
    "**Solution**:\n",
    "**정답**:"
   ]
  },
  {
   "cell_type": "code",
   "execution_count": null,
   "id": "3c795d4e",
   "metadata": {},
   "outputs": [],
   "source": [
    "# Multiplication Table Program\n",
    "print(\"=== Multiplication Table Program ===\")\n",
    "\n",
    "# Get number from user\n",
    "number = int(input(\"Enter a number for multiplication table: \"))\n",
    "\n",
    "print(f\"\\n{number} times table:\")\n",
    "print(\"-\" * 15)\n",
    "\n",
    "# Generate multiplication table\n",
    "for i in range(1, 10):\n",
    "    result = number * i\n",
    "    print(f\"{number} x {i} = {result}\")\n",
    "\n",
    "print(\"-\" * 15)\n",
    "print(\"Table complete!\")"
   ]
  },
  {
   "cell_type": "markdown",
   "id": "9a4216a1",
   "metadata": {
    "lines_to_next_cell": 0
   },
   "source": [
    "### Practice 2: Number Guessing Game\n",
    "\n",
    "**Problem**: Create a game where the computer chooses a random number between 1 and 20, and the user tries to guess it.\n",
    "**문제**: 컴퓨터가 1부터 20 사이의 랜덤 숫자를 선택하고 사용자가 맞추는 게임을 만드세요.\n",
    "\n",
    "**Requirements**:\n",
    "**요구사항**:\n",
    "- Computer chooses random number between 1 and 20\n",
    "- Keep asking for guesses until user gets it right\n",
    "- Provide hints: \"too high\" or \"too low\"\n",
    "- Count and display number of attempts\n",
    "\n",
    "**Solution**:\n",
    "**정답**:"
   ]
  },
  {
   "cell_type": "code",
   "execution_count": null,
   "id": "a5e21826",
   "metadata": {},
   "outputs": [],
   "source": [
    "import random\n",
    "\n",
    "# Number Guessing Game\n",
    "print(\"=== Number Guessing Game ===\")\n",
    "print(\"I'm thinking of a number between 1 and 20!\")\n",
    "\n",
    "# Computer chooses random number\n",
    "secret_number = random.randint(1, 20)\n",
    "attempts = 0\n",
    "\n",
    "# Main game loop\n",
    "while True:\n",
    "    # Get user guess\n",
    "    guess = int(input(\"\\nEnter your guess: \"))\n",
    "    attempts += 1\n",
    "    \n",
    "    # Check guess\n",
    "    if guess == secret_number:\n",
    "        print(f\"Congratulations! You got it!\")\n",
    "        print(f\"The number was {secret_number}\")\n",
    "        print(f\"It took you {attempts} attempts.\")\n",
    "        break\n",
    "    elif guess < secret_number:\n",
    "        print(\"Too low! Try a higher number.\")\n",
    "    else:\n",
    "        print(\"Too high! Try a lower number.\")\n",
    "\n",
    "print(\"Thanks for playing!\")"
   ]
  },
  {
   "cell_type": "markdown",
   "id": "06ad41f8",
   "metadata": {
    "lines_to_next_cell": 0
   },
   "source": [
    "### Practice 3: Simple Calculator\n",
    "\n",
    "**Problem**: Create a menu-driven simple calculator that keeps running until the user chooses to exit.\n",
    "**문제**: 사용자가 종료를 선택할 때까지 계속 실행되는 메뉴 방식의 간단한 계산기를 만드세요.\n",
    "\n",
    "**Requirements**:\n",
    "**요구사항**:\n",
    "- Menu options: add, subtract, multiply, divide, exit\n",
    "- Perform calculations based on user choice\n",
    "- Handle invalid input gracefully\n",
    "- Keep showing menu until user exits\n",
    "\n",
    "**Solution**:\n",
    "**정답**:"
   ]
  },
  {
   "cell_type": "code",
   "execution_count": null,
   "id": "b0908c83",
   "metadata": {},
   "outputs": [],
   "source": [
    "# Simple Calculator\n",
    "print(\"=== Simple Calculator ===\")\n",
    "\n",
    "while True:\n",
    "    # Display menu\n",
    "    print(\"\\n\" + \"=\"*25)\n",
    "    print(\"Calculator Menu:\")\n",
    "    print(\"1. Add\")\n",
    "    print(\"2. Subtract\") \n",
    "    print(\"3. Multiply\")\n",
    "    print(\"4. Divide\")\n",
    "    print(\"5. Exit\")\n",
    "    print(\"=\"*25)\n",
    "    \n",
    "    # Get user choice\n",
    "    choice = input(\"Choose (1-5): \")\n",
    "    \n",
    "    # Exit option\n",
    "    if choice == \"5\":\n",
    "        print(\"Thank you for using the calculator!\")\n",
    "        print(\"Goodbye!\")\n",
    "        break\n",
    "    \n",
    "    # Get two numbers for calculation\n",
    "    if choice in [\"1\", \"2\", \"3\", \"4\"]:\n",
    "        num1 = float(input(\"First number: \"))\n",
    "        num2 = float(input(\"Second number: \"))\n",
    "        \n",
    "        if choice == \"1\":\n",
    "            result = num1 + num2\n",
    "            operation = \"+\"\n",
    "        elif choice == \"2\":\n",
    "            result = num1 - num2\n",
    "            operation = \"-\"\n",
    "        elif choice == \"3\":\n",
    "            result = num1 * num2\n",
    "            operation = \"×\"\n",
    "        elif choice == \"4\":\n",
    "            if num2 == 0:\n",
    "                print(\"Error: Cannot divide by zero!\")\n",
    "                continue\n",
    "            result = num1 / num2\n",
    "            operation = \"÷\"\n",
    "        \n",
    "        print(f\"\\nResult: {num1} {operation} {num2} = {result}\")\n",
    "    else:\n",
    "        print(\"Invalid choice! Please choose 1-5.\")\n",
    "    \n",
    "    # Wait before continuing\n",
    "    input(\"\\nPress Enter to continue...\")"
   ]
  },
  {
   "cell_type": "markdown",
   "id": "4debdae3",
   "metadata": {},
   "source": [
    "---\n",
    "\n",
    "## 📝 Quiz\n",
    "\n",
    "### Quiz 1: Basic for Loop\n",
    "\n",
    "**Problem**: Write a for loop that prints numbers from 1 to 10, each on a separate line.\n",
    "**문제**: 1부터 10까지의 숫자를 각각 별도의 줄에 출력하는 for문을 작성하세요.\n",
    "\n",
    "**Requirements**:\n",
    "**요구사항**:\n",
    "- Use range() function\n",
    "- Print each number with descriptive message\n",
    "- Format: \"Number: 1\", \"Number: 2\", etc.\n",
    "\n",
    "### Quiz 2: Basic while Loop\n",
    "\n",
    "**Problem**: Create a program that keeps asking the user to enter numbers and calculates their sum. The program should stop when the user enters 0.\n",
    "**문제**: 사용자에게 계속 숫자를 입력받아 그 합을 계산하는 프로그램을 만드세요. 사용자가 0을 입력하면 프로그램이 중단되어야 합니다.\n",
    "\n",
    "**Requirements**:\n",
    "**요구사항**:\n",
    "- Use while loop to keep asking for input\n",
    "- Calculate running total of all entered numbers\n",
    "- Stop when user enters 0\n",
    "- Display final sum when program ends\n",
    "\n",
    "### Quiz 3: Star Triangle Pattern\n",
    "\n",
    "**Problem**: Write a program that creates the following star pattern:\n",
    "**문제**: 다음과 같은 별 패턴을 만드는 프로그램을 작성하세요:\n",
    "\n",
    "```\n",
    "*\n",
    "**\n",
    "***\n",
    "****\n",
    "*****\n",
    "```\n",
    "\n",
    "**Requirements**:\n",
    "**요구사항**:\n",
    "- Use for loop\n",
    "- Create exactly 5 lines\n",
    "- Each line should have the correct number of stars\n",
    "\n",
    "---\n",
    "\n",
    "## 📖 References\n",
    "\n",
    "1. **Python Official Tutorial**: https://docs.python.org/3/tutorial/controlflow.html\n",
    "   - Official guide to for and while loops\n",
    "   for문과 while문에 대한 공식 가이드\n",
    "\n",
    "2. **Python Loops Tutorial**: https://www.w3schools.com/python/python_for_loops.asp\n",
    "   - Interactive examples and explanations\n",
    "   대화형 예제와 설명\n",
    "\n",
    "3. **Real Python - Loops**: https://realpython.com/python-for-loop/\n",
    "   - Detailed explanation of Python loops\n",
    "   파이썬 반복문의 상세한 설명\n",
    "\n",
    "---\n",
    "\n",
    "## 💡 Tips for Success\n",
    "\n",
    "### Common Mistakes\n",
    "\n",
    "일반적인 실수\n",
    "- **Missing colons**: for and while loops must always end with ':'\n",
    "콜론 빼먹기: for문과 while문은 항상 ':'로 끝내기\n",
    "- **Wrong indentation**: Python is very strict about indentation\n",
    "잘못된 들여쓰기: 파이썬은 들여쓰기에 매우 엄격함\n",
    "- **Infinite loops**: Don't forget to update condition variable in while loops\n",
    "무한 루프: while문에서 조건 변수 업데이트 잊지 말기\n",
    "- **Range errors**: Remember range(5) gives 0,1,2,3,4\n",
    "범위 오류: range(5)는 0,1,2,3,4를 제공한다는 점 기억\n",
    "\n",
    "### Practice Tips\n",
    "\n",
    "연습 팁\n",
    "- **Start simple**: Begin with basic range() loops\n",
    "간단히 시작: 기본 range() 반복문부터 시작하기\n",
    "- **Trace execution**: Mentally follow the loop step by step\n",
    "실행 추적: 반복문을 정신적으로 단계별로 따라가기\n",
    "- **Use print()**: Add print statements to see what's happening\n",
    "print() 활용: print문을 추가하여 무슨 일이 일어나는지 확인\n",
    "- **Practice patterns**: Try creating various patterns with stars\n",
    "패턴 연습: 별로 다양한 패턴 만들어보기\n",
    "\n",
    "### Debugging Tips\n",
    "\n",
    "디버깅 요령\n",
    "- **Print loop variables**: Check what values variables have\n",
    "반복 변수 출력: 변수가 어떤 값을 가지는지 확인\n",
    "- **Count iterations**: Verify loop runs expected number of times\n",
    "반복 횟수 세기: 반복문이 예상한 횟수만큼 실행되는지 확인\n",
    "- **Check indentation**: Ensure all loop code is properly indented\n",
    "들여쓰기 확인: 모든 반복문 코드가 올바르게 들여쓰기되었는지 확인\n",
    "\n",
    "### Advice for International Students\n",
    "\n",
    "국제 학생들을 위한 조언\n",
    "- **Memorize English keywords**: Learn basic keywords like for, while, in, range, break, continue\n",
    "영어 키워드 암기: for, while, in, range, break, continue 등 기본 키워드 숙지\n",
    "- **Logical thinking**: Loops follow the same logic as repetitive daily tasks\n",
    "논리적 사고: 반복문은 반복되는 일상 업무와 같은 논리 구조\n",
    "- **Step-by-step approach**: Break complex loops into simple ones\n",
    "단계별 접근: 복잡한 반복문은 단순한 반복문들로 나누어 생각하기\n",
    "\n",
    "---\n",
    "\n",
    "## 📋 Homework\n",
    "\n",
    "### Practice Problems\n",
    "\n",
    "연습 문제\n",
    "1. **Sum Calculator**: Write a program that calculates the sum of numbers from 1 to 100\n",
    "합계 계산기: 1부터 100까지 숫자의 합을 계산하는 프로그램 작성\n",
    "\n",
    "2. **Word Analyzer**: Create a program that counts how many times each vowel appears in a word entered by the user\n",
    "단어 분석기: 사용자가 입력한 단어에서 각 모음이 몇 번 나타나는지 세는 프로그램 생성\n",
    "\n",
    "3. **Countdown Program**: Write a program that counts down from a user-entered number to 1\n",
    "카운트다운 프로그램: 사용자가 입력한 숫자부터 1까지 카운트다운하는 프로그램 작성\n",
    "\n",
    "### Challenge Problem\n",
    "\n",
    "도전 문제\n",
    "**Create a \"Pattern Generator\" program**:\n",
    "**\"패턴 생성기\" 프로그램** 만들기:\n",
    "- Let user choose pattern type (stars, numbers, letters)\n",
    "사용자에게 패턴 종류 선택하게 하기 (별, 숫자, 문자)\n",
    "- Get pattern size from user\n",
    "사용자에게 패턴 크기 입력받기\n",
    "- Generate the chosen pattern in the specified size\n",
    "선택한 패턴을 지정된 크기로 생성하기\n",
    "- Allow creation of multiple patterns in succession\n",
    "여러 패턴을 연속으로 만들 수 있도록 하기\n",
    "\n",
    "**Good luck on your programming journey!** 🌟\n",
    "**프로그래밍 여정에 행운을 빕니다!**"
   ]
  }
 ],
 "metadata": {
  "jupytext": {
   "cell_metadata_filter": "-all",
   "main_language": "python",
   "notebook_metadata_filter": "-all"
  }
 },
 "nbformat": 4,
 "nbformat_minor": 5
}
