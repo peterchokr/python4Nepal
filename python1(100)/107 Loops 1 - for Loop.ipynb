{
 "cells": [
  {
   "cell_type": "markdown",
   "id": "7822b8d9",
   "metadata": {
    "lines_to_next_cell": 0
   },
   "source": [
    "# Loops 1 - for Loop\n",
    "**반복문 1 - for문**\n",
    "\n",
    "**Duration (수업 시간)**: 3 hours (3시간)  \n",
    "**Structure (구성)**: Lecture & Lab 2 hours + Quiz 1 hour (강의 및 실습 2시간 + 퀴즈 1시간)  \n",
    "**Level (수준)**: Beginner (초급)  \n",
    "**Prerequisites (선수 학습)**: Variables, Data Types, Operators, Input/Output, Conditional Statements (변수, 데이터 타입, 연산자, 입출력, 조건문)\n",
    "\n",
    "---\n",
    "\n",
    "## 🎯 Learning Objectives (학습 목표)\n",
    "\n",
    "By the end of this lesson, students will be able to:\n",
    "(이 수업을 마친 후 학생들은 다음을 할 수 있습니다:)\n",
    "\n",
    "- Understand the concept and purpose of loops (반복문의 개념과 목적 이해)\n",
    "- Write basic for loops with range() function (range() 함수를 사용한 기본 for문 작성)\n",
    "- Use for loops with strings and other sequences (문자열과 다른 시퀀스에서 for문 사용)\n",
    "- Create simple nested loops for pattern generation (패턴 생성을 위한 간단한 중첩 반복문 작성)\n",
    "- Apply loops to solve practical programming problems (실용적인 프로그래밍 문제에 반복문 적용)\n",
    "\n",
    "---\n",
    "\n",
    "## 🔄 1. What are Loops? (반복문이란 무엇인가?)\n",
    "\n",
    "**Loops** allow us to repeat code multiple times without writing the same code over and over again.\n",
    "(**반복문**은 같은 코드를 여러 번 작성하지 않고도 코드를 여러 번 반복할 수 있게 해줍니다.)\n",
    "\n",
    "### Real-world Analogy (실생활 비유)\n",
    "Think of loops like daily routines:\n",
    "(반복문을 일상 루틴과 같다고 생각해보세요:)\n",
    "\n",
    "```\n",
    "Daily Routine (일상 루틴):\n",
    "FOR each day of the week:\n",
    "    - Wake up at 7 AM\n",
    "    - Brush teeth\n",
    "    - Eat breakfast\n",
    "    - Go to school\n",
    "\n",
    "Python Loop (파이썬 반복문):\n",
    "for day in range(7):\n",
    "    print(\"Wake up at 7 AM\")\n",
    "    print(\"Brush teeth\")\n",
    "    print(\"Eat breakfast\")\n",
    "    print(\"Go to school\")\n",
    "```\n",
    "\n",
    "### Why Use Loops? (왜 반복문을 사용하나요?)\n",
    "- **Avoid repetition**: Don't write the same code multiple times (반복 방지: 같은 코드를 여러 번 작성하지 않음)\n",
    "- **Save time**: Write less code to do more work (시간 절약: 적은 코드로 더 많은 작업)\n",
    "- **Handle large data**: Process many items efficiently (대용량 데이터 처리: 많은 항목을 효율적으로 처리)\n",
    "- **Create patterns**: Generate repeated patterns easily (패턴 생성: 반복 패턴을 쉽게 생성)\n",
    "\n",
    "---\n",
    "\n",
    "## 🔢 2. Basic for Loop Structure (기본 for문 구조)\n",
    "\n",
    "### Syntax (문법)"
   ]
  },
  {
   "cell_type": "code",
   "execution_count": null,
   "id": "b53b0ce7",
   "metadata": {},
   "outputs": [],
   "source": [
    "for variable in sequence:\n",
    "    # Code to repeat\n",
    "    statement1\n",
    "    statement2"
   ]
  },
  {
   "cell_type": "markdown",
   "id": "b1276bcd",
   "metadata": {
    "lines_to_next_cell": 0
   },
   "source": [
    "### Key Components (주요 구성 요소)\n",
    "- **for keyword**: Starts the loop (for 키워드: 반복문 시작)\n",
    "- **variable**: Stores each item from the sequence (변수: 시퀀스의 각 항목 저장)\n",
    "- **in keyword**: Connects variable to sequence (in 키워드: 변수와 시퀀스 연결)\n",
    "- **sequence**: Collection of items to loop through (시퀀스: 반복할 항목들의 모음)\n",
    "- **colon (:)**: Marks the end of the for statement (콜론: for문의 끝을 표시)\n",
    "- **indentation**: Shows which code is inside the loop (들여쓰기: 반복문 내부 코드 표시)\n",
    "\n",
    "### Simple Examples (간단한 예시)\n",
    "\n",
    "#### Example 1: Loop through Numbers (숫자 반복)"
   ]
  },
  {
   "cell_type": "code",
   "execution_count": null,
   "id": "33707e48",
   "metadata": {},
   "outputs": [],
   "source": [
    "# Without loop (repetitive)\n",
    "print(\"Count: 1\")\n",
    "print(\"Count: 2\") \n",
    "print(\"Count: 3\")\n",
    "\n",
    "# With loop (efficient)\n",
    "for number in [1, 2, 3]:\n",
    "    print(f\"Count: {number}\")"
   ]
  },
  {
   "cell_type": "markdown",
   "id": "f8364998",
   "metadata": {
    "lines_to_next_cell": 0
   },
   "source": [
    "#### Example 2: Loop through Letters (문자 반복)"
   ]
  },
  {
   "cell_type": "code",
   "execution_count": null,
   "id": "d768099b",
   "metadata": {},
   "outputs": [],
   "source": [
    "# Print each letter\n",
    "for letter in [\"A\", \"B\", \"C\"]:\n",
    "    print(f\"Letter: {letter}\")\n",
    "\n",
    "# Output:\n",
    "# Letter: A\n",
    "# Letter: B\n",
    "# Letter: C"
   ]
  },
  {
   "cell_type": "markdown",
   "id": "97ed2d97",
   "metadata": {
    "lines_to_next_cell": 0
   },
   "source": [
    "---\n",
    "\n",
    "## 📊 3. The range() Function (range() 함수)\n",
    "\n",
    "The **range()** function creates a sequence of numbers, which is perfect for loops.\n",
    "(**range()** 함수는 숫자 시퀀스를 생성하며, 반복문에 완벽합니다.)\n",
    "\n",
    "### Three Ways to Use range() (range() 사용 3가지 방법)\n",
    "\n",
    "#### 1. range(stop) - Count from 0 to stop-1 (0부터 stop-1까지 세기)"
   ]
  },
  {
   "cell_type": "code",
   "execution_count": null,
   "id": "51e53f62",
   "metadata": {},
   "outputs": [],
   "source": [
    "# range(5) creates: 0, 1, 2, 3, 4\n",
    "for i in range(5):\n",
    "    print(f\"Number: {i}\")\n",
    "\n",
    "# Output:\n",
    "# Number: 0\n",
    "# Number: 1\n",
    "# Number: 2\n",
    "# Number: 3\n",
    "# Number: 4"
   ]
  },
  {
   "cell_type": "markdown",
   "id": "7c13a215",
   "metadata": {
    "lines_to_next_cell": 0
   },
   "source": [
    "#### 2. range(start, stop) - Count from start to stop-1 (start부터 stop-1까지 세기)"
   ]
  },
  {
   "cell_type": "code",
   "execution_count": null,
   "id": "44088508",
   "metadata": {},
   "outputs": [],
   "source": [
    "# range(1, 6) creates: 1, 2, 3, 4, 5\n",
    "for i in range(1, 6):\n",
    "    print(f\"Number: {i}\")\n",
    "\n",
    "# Output:\n",
    "# Number: 1\n",
    "# Number: 2\n",
    "# Number: 3\n",
    "# Number: 4\n",
    "# Number: 5"
   ]
  },
  {
   "cell_type": "markdown",
   "id": "7f61518f",
   "metadata": {
    "lines_to_next_cell": 0
   },
   "source": [
    "#### 3. range(start, stop, step) - Count with custom steps (사용자 정의 단계로 세기)"
   ]
  },
  {
   "cell_type": "code",
   "execution_count": null,
   "id": "c93b9fa4",
   "metadata": {},
   "outputs": [],
   "source": [
    "# range(2, 11, 2) creates: 2, 4, 6, 8, 10\n",
    "for i in range(2, 11, 2):\n",
    "    print(f\"Even number: {i}\")\n",
    "\n",
    "# Output:\n",
    "# Even number: 2\n",
    "# Even number: 4\n",
    "# Even number: 6\n",
    "# Even number: 8\n",
    "# Even number: 10"
   ]
  },
  {
   "cell_type": "markdown",
   "id": "99f78c69",
   "metadata": {
    "lines_to_next_cell": 0
   },
   "source": [
    "### Practical range() Examples (실용적인 range() 예시)\n",
    "\n",
    "#### Example 1: Countdown (카운트다운)"
   ]
  },
  {
   "cell_type": "code",
   "execution_count": null,
   "id": "8ca05982",
   "metadata": {},
   "outputs": [],
   "source": [
    "print(\"Countdown:\")\n",
    "for i in range(5, 0, -1):\n",
    "    print(i)\n",
    "print(\"Blast off!\")\n",
    "\n",
    "# Output:\n",
    "# Countdown:\n",
    "# 5\n",
    "# 4\n",
    "# 3\n",
    "# 2\n",
    "# 1\n",
    "# Blast off!"
   ]
  },
  {
   "cell_type": "markdown",
   "id": "cf5dcfb5",
   "metadata": {
    "lines_to_next_cell": 0
   },
   "source": [
    "#### Example 2: Times Table (곱셈표)"
   ]
  },
  {
   "cell_type": "code",
   "execution_count": null,
   "id": "06618577",
   "metadata": {},
   "outputs": [],
   "source": [
    "number = 3\n",
    "print(f\"Times table for {number}:\")\n",
    "for i in range(1, 11):\n",
    "    result = number * i\n",
    "    print(f\"{number} x {i} = {result}\")"
   ]
  },
  {
   "cell_type": "markdown",
   "id": "d95df38a",
   "metadata": {
    "lines_to_next_cell": 0
   },
   "source": [
    "---\n",
    "\n",
    "## 🔤 4. Loops with Strings (문자열과 반복문)\n",
    "\n",
    "You can loop through each character in a string directly.\n",
    "(문자열의 각 문자를 직접 반복할 수 있습니다.)\n",
    "\n",
    "### Basic String Looping (기본 문자열 반복)\n",
    "\n",
    "#### Example 1: Print Each Character (각 문자 출력)"
   ]
  },
  {
   "cell_type": "code",
   "execution_count": null,
   "id": "a391becc",
   "metadata": {},
   "outputs": [],
   "source": [
    "word = \"Python\"\n",
    "for letter in word:\n",
    "    print(f\"Letter: {letter}\")\n",
    "\n",
    "# Output:\n",
    "# Letter: P\n",
    "# Letter: y\n",
    "# Letter: t\n",
    "# Letter: h\n",
    "# Letter: o\n",
    "# Letter: n"
   ]
  },
  {
   "cell_type": "markdown",
   "id": "eedeee98",
   "metadata": {
    "lines_to_next_cell": 0
   },
   "source": [
    "#### Example 2: Count Vowels (모음 세기)"
   ]
  },
  {
   "cell_type": "code",
   "execution_count": null,
   "id": "4a885424",
   "metadata": {},
   "outputs": [],
   "source": [
    "text = \"Hello World\"\n",
    "vowels = \"aeiouAEIOU\"\n",
    "vowel_count = 0\n",
    "\n",
    "for letter in text:\n",
    "    if letter in vowels:\n",
    "        vowel_count += 1\n",
    "        print(f\"Found vowel: {letter}\")\n",
    "\n",
    "print(f\"Total vowels: {vowel_count}\")"
   ]
  },
  {
   "cell_type": "markdown",
   "id": "ca83f8e7",
   "metadata": {
    "lines_to_next_cell": 0
   },
   "source": [
    "### String Indexing with Loops (반복문을 사용한 문자열 인덱싱)\n",
    "\n",
    "#### Example 3: Print with Position (위치와 함께 출력)"
   ]
  },
  {
   "cell_type": "code",
   "execution_count": null,
   "id": "4b5e5f68",
   "metadata": {},
   "outputs": [],
   "source": [
    "word = \"Python\"\n",
    "for i in range(len(word)):\n",
    "    print(f\"Position {i}: {word[i]}\")\n",
    "\n",
    "# Output:\n",
    "# Position 0: P\n",
    "# Position 1: y\n",
    "# Position 2: t\n",
    "# Position 3: h\n",
    "# Position 4: o\n",
    "# Position 5: n"
   ]
  },
  {
   "cell_type": "markdown",
   "id": "268a7939",
   "metadata": {
    "lines_to_next_cell": 0
   },
   "source": [
    "---\n",
    "\n",
    "## 🔁 5. Basic Nested Loops (기본 중첩 반복문)\n",
    "\n",
    "**Nested loops** are loops inside other loops. They're useful for creating patterns and working with 2D data.\n",
    "(**중첩 반복문**은 다른 반복문 안에 있는 반복문입니다. 패턴을 만들고 2차원 데이터로 작업할 때 유용합니다.)\n",
    "\n",
    "### Simple Nested Loop Example (간단한 중첩 반복문 예시)\n",
    "\n",
    "#### Example 1: Rectangle Pattern (직사각형 패턴)"
   ]
  },
  {
   "cell_type": "code",
   "execution_count": null,
   "id": "e0c9ca4f",
   "metadata": {},
   "outputs": [],
   "source": [
    "# Create a 3x4 rectangle of stars\n",
    "for row in range(3):\n",
    "    for col in range(4):\n",
    "        print(\"*\", end=\"\")\n",
    "    print()  # New line after each row\n",
    "\n",
    "# Output:\n",
    "# ****\n",
    "# ****\n",
    "# ****"
   ]
  },
  {
   "cell_type": "markdown",
   "id": "b1f85952",
   "metadata": {
    "lines_to_next_cell": 0
   },
   "source": [
    "#### Example 2: Multiplication Table (곱셈표)"
   ]
  },
  {
   "cell_type": "code",
   "execution_count": null,
   "id": "be0962a7",
   "metadata": {},
   "outputs": [],
   "source": [
    "print(\"Mini Multiplication Table:\")\n",
    "for i in range(1, 4):\n",
    "    for j in range(1, 4):\n",
    "        result = i * j\n",
    "        print(f\"{result:2}\", end=\" \")\n",
    "    print()  # New line after each row\n",
    "\n",
    "# Output:\n",
    "# Mini Multiplication Table:\n",
    "#  1  2  3 \n",
    "#  2  4  6 \n",
    "#  3  6  9 "
   ]
  },
  {
   "cell_type": "markdown",
   "id": "b43750ab",
   "metadata": {
    "lines_to_next_cell": 0
   },
   "source": [
    "### Understanding Nested Loop Flow (중첩 반복문 흐름 이해)"
   ]
  },
  {
   "cell_type": "code",
   "execution_count": null,
   "id": "168c876b",
   "metadata": {},
   "outputs": [],
   "source": [
    "print(\"Understanding nested loops:\")\n",
    "for outer in range(1, 3):\n",
    "    print(f\"Outer loop: {outer}\")\n",
    "    for inner in range(1, 3):\n",
    "        print(f\"  Inner loop: {inner}\")\n",
    "    print(\"  End of inner loop\")\n",
    "print(\"End of outer loop\")\n",
    "\n",
    "# Output:\n",
    "# Understanding nested loops:\n",
    "# Outer loop: 1\n",
    "#   Inner loop: 1\n",
    "#   Inner loop: 2\n",
    "#   End of inner loop\n",
    "# Outer loop: 2\n",
    "#   Inner loop: 1\n",
    "#   Inner loop: 2\n",
    "#   End of inner loop\n",
    "# End of outer loop"
   ]
  },
  {
   "cell_type": "markdown",
   "id": "00c6ac8d",
   "metadata": {
    "lines_to_next_cell": 0
   },
   "source": [
    "---\n",
    "\n",
    "## 🔧 Lab Exercises (실습)\n",
    "\n",
    "### Lab 1: Multiplication Table Generator (구구단 출력 프로그램)\n",
    "\n",
    "**Problem**: Create a program that displays the multiplication table for a given number.\n",
    "(**문제**: 주어진 숫자의 구구단을 표시하는 프로그램을 만드세요.)\n",
    "\n",
    "**Requirements (요구사항)**:\n",
    "- Ask user for a number (사용자에게 숫자 입력 요청)\n",
    "- Display multiplication table from 1 to 10 (1부터 10까지 곱셈표 표시)\n",
    "- Format output clearly (출력을 명확하게 포맷)\n",
    "\n",
    "**Solution (정답)**:"
   ]
  },
  {
   "cell_type": "code",
   "execution_count": null,
   "id": "b1872cfb",
   "metadata": {},
   "outputs": [],
   "source": [
    "# Multiplication Table Generator\n",
    "print(\"=== Multiplication Table Generator ===\")\n",
    "\n",
    "# Get number from user\n",
    "number = int(input(\"Enter a number for multiplication table: \"))\n",
    "\n",
    "print(f\"\\nMultiplication table for {number}:\")\n",
    "print(\"-\" * 20)\n",
    "\n",
    "# Generate multiplication table\n",
    "for i in range(1, 11):\n",
    "    result = number * i\n",
    "    print(f\"{number} x {i:2} = {result:3}\")\n",
    "\n",
    "print(\"-\" * 20)\n",
    "print(\"Table complete!\")"
   ]
  },
  {
   "cell_type": "markdown",
   "id": "5a833efe",
   "metadata": {
    "lines_to_next_cell": 0
   },
   "source": [
    "### Lab 2: Star Pattern Creator (별 찍기 패턴 만들기)\n",
    "\n",
    "**Problem**: Create a program that generates different star patterns.\n",
    "(**문제**: 다양한 별 패턴을 생성하는 프로그램을 만드세요.)\n",
    "\n",
    "**Requirements (요구사항)**:\n",
    "- Create a right triangle pattern (직각삼각형 패턴 생성)\n",
    "- Ask user for the height of the pattern (패턴의 높이를 사용자에게 입력 요청)\n",
    "- Display the pattern clearly (패턴을 명확하게 표시)\n",
    "\n",
    "**Solution (정답)**:"
   ]
  },
  {
   "cell_type": "code",
   "execution_count": null,
   "id": "337e7928",
   "metadata": {},
   "outputs": [],
   "source": [
    "# Star Pattern Creator\n",
    "print(\"=== Star Pattern Creator ===\")\n",
    "\n",
    "# Get height from user\n",
    "height = int(input(\"Enter the height of the star pattern: \"))\n",
    "\n",
    "print(f\"\\nStar pattern with height {height}:\")\n",
    "\n",
    "# Create right triangle pattern\n",
    "for row in range(1, height + 1):\n",
    "    # Print stars for current row\n",
    "    for star in range(row):\n",
    "        print(\"*\", end=\"\")\n",
    "    print()  # Move to next line\n",
    "\n",
    "print(\"\\nPattern complete!\")"
   ]
  },
  {
   "cell_type": "markdown",
   "id": "b3f2ae15",
   "metadata": {
    "lines_to_next_cell": 0
   },
   "source": [
    "### Lab 3: Prime Number Finder (소수 찾기 프로그램)\n",
    "\n",
    "**Problem**: Create a program that finds all prime numbers from 1 to 100.\n",
    "(**문제**: 1부터 100까지의 모든 소수를 찾는 프로그램을 만드세요.)\n",
    "\n",
    "**Requirements (요구사항)**:\n",
    "- Check each number from 2 to 100 (2부터 100까지 각 숫자 확인)\n",
    "- Determine if each number is prime (각 숫자가 소수인지 판별)\n",
    "- Display all prime numbers found (찾은 모든 소수 표시)\n",
    "\n",
    "**Solution (정답)**:"
   ]
  },
  {
   "cell_type": "code",
   "execution_count": null,
   "id": "d491cc87",
   "metadata": {},
   "outputs": [],
   "source": [
    "# Prime Number Finder\n",
    "print(\"=== Prime Number Finder (1-100) ===\")\n",
    "\n",
    "print(\"Prime numbers from 1 to 100:\")\n",
    "prime_count = 0\n",
    "\n",
    "# Check each number from 2 to 100\n",
    "for num in range(2, 101):\n",
    "    is_prime = True\n",
    "    \n",
    "    # Check if num is divisible by any number from 2 to num-1\n",
    "    for divisor in range(2, num):\n",
    "        if num % divisor == 0:\n",
    "            is_prime = False\n",
    "            break  # No need to check further\n",
    "    \n",
    "    # If no divisors found, it's prime\n",
    "    if is_prime:\n",
    "        print(num, end=\" \")\n",
    "        prime_count += 1\n",
    "        \n",
    "        # Print 10 numbers per line for better formatting\n",
    "        if prime_count % 10 == 0:\n",
    "            print()\n",
    "\n",
    "print(f\"\\n\\nTotal prime numbers found: {prime_count}\")"
   ]
  },
  {
   "cell_type": "markdown",
   "id": "ecd5991e",
   "metadata": {},
   "source": [
    "---\n",
    "\n",
    "## 📝 Quiz Section (퀴즈)\n",
    "\n",
    "### Quiz 1: Basic Number Loop (기본 숫자 반복)\n",
    "**Question**: Write a for loop that prints numbers from 1 to 10, each on a separate line.\n",
    "(**문제**: 1부터 10까지의 숫자를 각각 별도의 줄에 출력하는 for문을 작성하세요.)\n",
    "\n",
    "**Requirements**:\n",
    "- Use range() function (range() 함수 사용)\n",
    "- Print each number with a descriptive message (각 숫자를 설명 메시지와 함께 출력)\n",
    "- Format: \"Number: 1\", \"Number: 2\", etc.\n",
    "\n",
    "### Quiz 2: String Character Loop (문자열 문자 반복)\n",
    "**Question**: Write a for loop that prints each character of the string \"Python\" on a separate line.\n",
    "(**문제**: 문자열 \"Python\"의 각 문자를 별도의 줄에 출력하는 for문을 작성하세요.)\n",
    "\n",
    "**Requirements**:\n",
    "- Loop through the string directly (문자열을 직접 반복)\n",
    "- Print each character with its position (각 문자를 위치와 함께 출력)\n",
    "- Format: \"Character 1: P\", \"Character 2: y\", etc.\n",
    "\n",
    "### Quiz 3: Star Triangle Pattern (별 삼각형 패턴)\n",
    "**Question**: Write a program that creates the following star pattern:\n",
    "(**문제**: 다음과 같은 별 패턴을 만드는 프로그램을 작성하세요:)\n",
    "\n",
    "```\n",
    "*\n",
    "**\n",
    "***\n",
    "****\n",
    "*****\n",
    "```\n",
    "\n",
    "**Requirements**:\n",
    "- Use nested loops (중첩 반복문 사용)\n",
    "- Create exactly 5 rows (정확히 5줄 생성)\n",
    "- Each row should have the correct number of stars (각 줄은 올바른 별 개수를 가져야 함)\n",
    "\n",
    "---\n",
    "\n",
    "## 📖 References (참고 자료)\n",
    "\n",
    "1. **Python Official Tutorial - for Statements**: https://docs.python.org/3/tutorial/controlflow.html#for-statements\n",
    "   (Python 공식 튜토리얼 - for문)\n",
    "\n",
    "2. **Real Python - Python for Loops**: https://realpython.com/python-for-loop/\n",
    "   (Real Python - Python for 반복문 가이드)\n",
    "\n",
    "3. **Automate the Boring Stuff - Flow Control**: https://automatetheboringstuff.com/2e/chapter2/\n",
    "   (지루한 일의 자동화 - 흐름 제어)\n",
    "\n",
    "4. **Python.org Beginner's Guide**: https://wiki.python.org/moin/ForLoop\n",
    "   (Python.org 초보자 가이드 - for 반복문)\n",
    "\n",
    "---\n",
    "\n",
    "## 💡 Tips for Success (성공 팁)\n",
    "\n",
    "### Common Mistakes (일반적인 실수)\n",
    "- **Forgetting colons**: Always end for statements with ':' (콜론 잊기: for문은 항상 ':'로 끝내기)\n",
    "- **Wrong indentation**: Python is strict about indentation (잘못된 들여쓰기: 파이썬은 들여쓰기에 엄격함)\n",
    "- **Off-by-one errors**: Remember range(5) gives 0,1,2,3,4 (범위 오류: range(5)는 0,1,2,3,4를 제공)\n",
    "- **Infinite loops**: Make sure loops have a way to end (무한 반복: 반복문이 끝날 방법이 있는지 확인)\n",
    "\n",
    "### Practice Tips (연습 팁)\n",
    "- **Start simple**: Begin with basic range() loops (간단히 시작: 기본 range() 반복문부터)\n",
    "- **Trace execution**: Follow the loop step by step mentally (실행 추적: 반복문을 정신적으로 단계별로 따라가기)\n",
    "- **Use print()**: Add print statements to see what's happening (print() 사용: print문을 추가하여 무슨 일이 일어나는지 확인)\n",
    "- **Practice patterns**: Try creating different patterns with stars (패턴 연습: 별로 다양한 패턴 만들어보기)\n",
    "\n",
    "### Debugging Tips (디버깅 팁)\n",
    "- **Print loop variables**: Check what values your variables have (반복 변수 출력: 변수가 어떤 값을 가지는지 확인)\n",
    "- **Count iterations**: Make sure loops run the expected number of times (반복 횟수 세기: 반복문이 예상한 횟수만큼 실행되는지 확인)\n",
    "- **Check indentation**: Ensure all loop code is properly indented (들여쓰기 확인: 모든 반복문 코드가 올바르게 들여쓰기되었는지 확인)\n",
    "\n",
    "### Real-world Applications (실제 활용)\n",
    "- **Data processing**: Process lists of data efficiently (데이터 처리: 데이터 목록을 효율적으로 처리)\n",
    "- **Pattern generation**: Create visual patterns and designs (패턴 생성: 시각적 패턴과 디자인 생성)\n",
    "- **Calculations**: Perform repetitive calculations (계산: 반복적인 계산 수행)\n",
    "- **Game development**: Handle repetitive game logic (게임 개발: 반복적인 게임 로직 처리)\n",
    "\n",
    "### Next Week Preview (다음 주 미리보기)\n",
    "Next week: **while Loops** - Learn another type of loop for different situations!\n",
    "(다음 주: **while 반복문** - 다른 상황을 위한 또 다른 유형의 반복문 학습!)\n",
    "\n",
    "---\n",
    "\n",
    "## 📋 Homework (숙제)\n",
    "\n",
    "### Practice Problems (연습 문제)\n",
    "1. **Sum Calculator**: Write a program that calculates the sum of numbers from 1 to 50\n",
    "   (합계 계산기: 1부터 50까지 숫자의 합을 계산하는 프로그램 작성)\n",
    "\n",
    "2. **Word Counter**: Create a program that counts how many times each vowel appears in a given word\n",
    "   (단어 카운터: 주어진 단어에서 각 모음이 몇 번 나타나는지 세는 프로그램 생성)\n",
    "\n",
    "3. **Number Pattern**: Create a program that prints numbers in this pattern:\n",
    "   (숫자 패턴: 다음 패턴으로 숫자를 출력하는 프로그램 생성)\n",
    "   ```\n",
    "   1\n",
    "   1 2\n",
    "   1 2 3\n",
    "   1 2 3 4\n",
    "   1 2 3 4 5\n",
    "   ```\n",
    "\n",
    "### Challenge Problem (도전 문제)\n",
    "Create a **\"Pattern Menu\" program** that:\n",
    "(**\"패턴 메뉴\" 프로그램** 만들기:)\n",
    "- Shows a menu of different patterns (star, number, letter)\n",
    "- Asks user to choose a pattern and size\n",
    "- Generates the chosen pattern with the specified size\n",
    "- Allows user to create multiple patterns\n",
    "\n",
    "**Good luck!** ⭐  \n",
    "**행운을 빕니다!** ⭐"
   ]
  }
 ],
 "metadata": {
  "jupytext": {
   "cell_metadata_filter": "-all",
   "main_language": "python",
   "notebook_metadata_filter": "-all"
  },
  "language_info": {
   "name": "python"
  }
 },
 "nbformat": 4,
 "nbformat_minor": 5
}
