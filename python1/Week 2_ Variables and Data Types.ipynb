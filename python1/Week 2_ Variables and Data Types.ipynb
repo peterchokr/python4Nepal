{
 "cells": [
  {
   "cell_type": "markdown",
   "id": "fbc9405b",
   "metadata": {
    "lines_to_next_cell": 0
   },
   "source": [
    "# Week 2: Variables and Data Types\n",
    "**변수와 데이터 타입**\n",
    "\n",
    "**Duration (수업 시간)**: 3 hours (3시간)  \n",
    "**Structure (구성)**: Lecture & Lab 2 hours + Quiz 1 hour (강의 및 실습 2시간 + 퀴즈 1시간)  \n",
    "**Level (수준)**: Beginner (초급)\n",
    "\n",
    "---\n",
    "\n",
    "## 🎯 Learning Objectives (학습 목표)\n",
    "\n",
    "By the end of this lesson, students will be able to:\n",
    "이 수업을 마친 후 학생들은 다음을 할 수 있습니다:\n",
    "\n",
    "- Understand what variables are and why they are important (변수가 무엇인지, 왜 중요한지 이해)\n",
    "- Apply variable naming rules correctly (변수 명명 규칙 올바르게 적용)\n",
    "- Identify and use basic data types: int, float, str, bool (기본 데이터 타입 식별 및 사용)\n",
    "- Use the type() function to check data types (type() 함수를 사용하여 데이터 타입 확인)\n",
    "- Create meaningful variable names in English (의미 있는 영어 변수명 생성)\n",
    "\n",
    "---\n",
    "\n",
    "## 📦 1. What are Variables? (변수란 무엇인가?)\n",
    "\n",
    "### Definition (정의)\n",
    "A **variable** is like a **labeled box** that stores data in computer memory. You can put information in it, take information out, and even change what's inside.\n",
    "\n",
    "**변수**는 컴퓨터 메모리에 데이터를 저장하는 **라벨이 붙은 상자**와 같습니다. 정보를 넣고, 꺼내고, 심지어 내용을 바꿀 수도 있습니다.\n",
    "\n",
    "### Real-world Analogy (실생활 비유)\n",
    "\n",
    "Think of variables like **labeled containers in your room**:\n",
    "변수를 **방에 있는 라벨이 붙은 용기**로 생각해보세요:\n",
    "\n",
    "```\n",
    "Real Life (실생활):\n",
    "📦 Box labeled \"Books\" → Contains textbooks\n",
    "📦 Box labeled \"Clothes\" → Contains shirts, pants\n",
    "📦 Box labeled \"Photos\" → Contains family pictures\n",
    "\n",
    "Programming (프로그래밍):\n",
    "📦 Variable \"student_name\" → Contains \"Alice Johnson\"\n",
    "📦 Variable \"age\" → Contains 20\n",
    "📦 Variable \"is_student\" → Contains True\n",
    "```\n",
    "\n",
    "### Why Use Variables? (왜 변수를 사용하나요?)\n",
    "\n",
    "#### 1. **Store Information** (정보 저장)"
   ]
  },
  {
   "cell_type": "code",
   "execution_count": null,
   "id": "2e7dac33",
   "metadata": {},
   "outputs": [],
   "source": [
    "# Instead of writing \"Alice Johnson\" every time...\n",
    "# \"Alice Johnson\"을 매번 쓰는 대신...\n",
    "student_name = \"Alice Johnson\"\n",
    "print(f\"Hello, {student_name}!\")\n",
    "print(f\"Welcome to class, {student_name}!\")"
   ]
  },
  {
   "cell_type": "markdown",
   "id": "06182dd1",
   "metadata": {
    "lines_to_next_cell": 0
   },
   "source": [
    "#### 2. **Easy to Change** (쉽게 변경)"
   ]
  },
  {
   "cell_type": "code",
   "execution_count": null,
   "id": "919562ab",
   "metadata": {},
   "outputs": [],
   "source": [
    "# Change once, affects everywhere\n",
    "# 한 번만 바꾸면 모든 곳에 영향\n",
    "student_name = \"Maria Garcia\"  # Just change this line\n",
    "print(f\"Hello, {student_name}!\")  # Automatically updated"
   ]
  },
  {
   "cell_type": "markdown",
   "id": "6016d73b",
   "metadata": {
    "lines_to_next_cell": 0
   },
   "source": [
    "#### 3. **Make Code Readable** (코드 가독성 향상)"
   ]
  },
  {
   "cell_type": "code",
   "execution_count": null,
   "id": "3f84dee7",
   "metadata": {},
   "outputs": [],
   "source": [
    "# Bad (나쁜 예)\n",
    "result = 3.14159 * 5 * 5\n",
    "\n",
    "# Good (좋은 예)\n",
    "pi = 3.14159\n",
    "radius = 5\n",
    "area = pi * radius * radius"
   ]
  },
  {
   "cell_type": "markdown",
   "id": "fde7588d",
   "metadata": {},
   "source": [
    "### How to Create Variables (변수 생성 방법)\n",
    "\n",
    "The basic syntax is: **variable_name = value**\n",
    "기본 문법은: **변수명 = 값**"
   ]
  },
  {
   "cell_type": "code",
   "execution_count": null,
   "id": "8eee3586",
   "metadata": {},
   "outputs": [],
   "source": [
    "# Creating variables (변수 생성)\n",
    "name = \"Alex\"           # Text (텍스트)\n",
    "age = 22               # Number (숫자)\n",
    "height = 175.5         # Decimal number (소수)\n",
    "is_student = True      # True/False (참/거짓)"
   ]
  },
  {
   "cell_type": "markdown",
   "id": "95242c9a",
   "metadata": {
    "lines_to_next_cell": 0
   },
   "source": [
    "---\n",
    "\n",
    "## 📝 2. Variable Naming Rules (변수 명명 규칙)\n",
    "\n",
    "### Must Follow Rules (반드시 따라야 하는 규칙)\n",
    "\n",
    "#### ✅ **Rule 1: Start with letter or underscore** (문자나 밑줄로 시작)"
   ]
  },
  {
   "cell_type": "code",
   "execution_count": null,
   "id": "80da109c",
   "metadata": {},
   "outputs": [],
   "source": [
    "# Correct (올바른 예)\n",
    "name = \"Alice\"\n",
    "_age = 20\n",
    "student_id = \"12345\"\n",
    "\n",
    "# Wrong (잘못된 예)\n",
    "2nd_name = \"Smith\"     # ❌ Starts with number"
   ]
  },
  {
   "cell_type": "markdown",
   "id": "79579c26",
   "metadata": {
    "lines_to_next_cell": 0
   },
   "source": [
    "#### ✅ **Rule 2: Use only letters, numbers, and underscores** (문자, 숫자, 밑줄만 사용)"
   ]
  },
  {
   "cell_type": "code",
   "execution_count": null,
   "id": "b953d18d",
   "metadata": {},
   "outputs": [],
   "source": [
    "# Correct (올바른 예)\n",
    "first_name = \"John\"\n",
    "age2 = 25\n",
    "_private_var = \"secret\"\n",
    "\n",
    "# Wrong (잘못된 예)\n",
    "student-id = \"123\"     # ❌ Hyphen not allowed\n",
    "student@email = \"...\"  # ❌ @ symbol not allowed"
   ]
  },
  {
   "cell_type": "markdown",
   "id": "78ab99ba",
   "metadata": {
    "lines_to_next_cell": 0
   },
   "source": [
    "#### ✅ **Rule 3: Case sensitive** (대소문자 구분)"
   ]
  },
  {
   "cell_type": "code",
   "execution_count": null,
   "id": "ad8982e7",
   "metadata": {},
   "outputs": [],
   "source": [
    "# These are all different variables! (모두 다른 변수!)\n",
    "name = \"Alice\"\n",
    "Name = \"Bob\"\n",
    "NAME = \"Charlie\""
   ]
  },
  {
   "cell_type": "markdown",
   "id": "8139b022",
   "metadata": {
    "lines_to_next_cell": 0
   },
   "source": [
    "#### ✅ **Rule 4: Cannot use Python keywords** (파이썬 키워드 사용 불가)"
   ]
  },
  {
   "cell_type": "code",
   "execution_count": null,
   "id": "d9b01abc",
   "metadata": {},
   "outputs": [],
   "source": [
    "# Wrong (잘못된 예)\n",
    "if = 10          # ❌ 'if' is a keyword\n",
    "for = \"hello\"    # ❌ 'for' is a keyword\n",
    "class = \"math\"   # ❌ 'class' is a keyword\n",
    "\n",
    "# Python keywords (파이썬 키워드들):\n",
    "# if, for, while, def, class, import, from, return, etc."
   ]
  },
  {
   "cell_type": "markdown",
   "id": "ddb968e2",
   "metadata": {
    "lines_to_next_cell": 0
   },
   "source": [
    "### Best Practices (권장 사항)\n",
    "\n",
    "#### 🌟 **Use descriptive names** (의미 있는 이름 사용)"
   ]
  },
  {
   "cell_type": "code",
   "execution_count": null,
   "id": "9be50fb7",
   "metadata": {},
   "outputs": [],
   "source": [
    "# Bad (나쁜 예)\n",
    "x = \"Alice\"\n",
    "y = 20\n",
    "z = True\n",
    "\n",
    "# Good (좋은 예)\n",
    "student_name = \"Alice\"\n",
    "student_age = 20\n",
    "is_enrolled = True"
   ]
  },
  {
   "cell_type": "markdown",
   "id": "0a92ba5b",
   "metadata": {
    "lines_to_next_cell": 0
   },
   "source": [
    "#### 🌟 **Use snake_case for variables** (변수에는 snake_case 사용)"
   ]
  },
  {
   "cell_type": "code",
   "execution_count": null,
   "id": "ceca5d1b",
   "metadata": {},
   "outputs": [],
   "source": [
    "# Recommended style (권장 스타일)\n",
    "first_name = \"Alice\"\n",
    "last_name = \"Johnson\"\n",
    "birth_year = 2003\n",
    "is_international_student = True"
   ]
  },
  {
   "cell_type": "markdown",
   "id": "483a78c2",
   "metadata": {
    "lines_to_next_cell": 0
   },
   "source": [
    "#### 🌟 **Use English names** (영어 이름 사용)"
   ]
  },
  {
   "cell_type": "code",
   "execution_count": null,
   "id": "bea744de",
   "metadata": {},
   "outputs": [],
   "source": [
    "# Good for international environment (국제적 환경에 좋음)\n",
    "student_name = \"김철수\"    # Variable name in English, value can be Korean\n",
    "student_grade = \"A\"\n",
    "phone_number = \"010-1234-5678\""
   ]
  },
  {
   "cell_type": "markdown",
   "id": "0cb031ae",
   "metadata": {},
   "source": [
    "---\n",
    "\n",
    "## 🔢 3. Basic Data Types (기본 데이터 타입)\n",
    "\n",
    "Python has four main basic data types that beginners need to know:\n",
    "파이썬에는 초보자가 알아야 할 4가지 주요 기본 데이터 타입이 있습니다:\n",
    "\n",
    "### 3.1 Integer (int) - Whole Numbers (정수)\n",
    "\n",
    "**Definition**: Whole numbers without decimal points (소수점이 없는 완전한 숫자)"
   ]
  },
  {
   "cell_type": "code",
   "execution_count": null,
   "id": "c93597ef",
   "metadata": {},
   "outputs": [],
   "source": [
    "# Examples of integers (정수 예시)\n",
    "age = 20\n",
    "year = 2024\n",
    "temperature = -5\n",
    "score = 0\n",
    "population = 1000000\n",
    "\n",
    "# You can use underscores for readability (가독성을 위해 밑줄 사용 가능)\n",
    "big_number = 1_000_000  # Same as 1000000"
   ]
  },
  {
   "cell_type": "markdown",
   "id": "99065b7f",
   "metadata": {},
   "source": [
    "#### **Real-world Examples (실생활 예시)**:\n",
    "- Age (나이): `age = 22`\n",
    "- Year (연도): `graduation_year = 2025`\n",
    "- Count (개수): `student_count = 30`\n",
    "- Temperature (온도): `temperature_celsius = -10`\n",
    "\n",
    "### 3.2 Float - Decimal Numbers (실수)\n",
    "\n",
    "**Definition**: Numbers with decimal points (소수점이 있는 숫자)"
   ]
  },
  {
   "cell_type": "code",
   "execution_count": null,
   "id": "714140d1",
   "metadata": {},
   "outputs": [],
   "source": [
    "# Examples of floats (실수 예시)\n",
    "height = 175.5\n",
    "weight = 68.2\n",
    "price = 29.99\n",
    "pi = 3.14159\n",
    "temperature = 36.5\n",
    "\n",
    "# Scientific notation (과학적 표기법)\n",
    "speed_of_light = 3e8  # 3 * 10^8 = 300,000,000"
   ]
  },
  {
   "cell_type": "markdown",
   "id": "d19af3bd",
   "metadata": {},
   "source": [
    "#### **Real-world Examples (실생활 예시)**:\n",
    "- Height (키): `height_cm = 175.5`\n",
    "- Weight (몸무게): `weight_kg = 65.3`\n",
    "- Price (가격): `book_price = 24.99`\n",
    "- GPA (평점): `gpa = 3.75`\n",
    "\n",
    "### 3.3 String (str) - Text (문자열)\n",
    "\n",
    "**Definition**: Text data enclosed in quotes (따옴표로 둘러싸인 텍스트 데이터)"
   ]
  },
  {
   "cell_type": "code",
   "execution_count": null,
   "id": "4c9974f7",
   "metadata": {},
   "outputs": [],
   "source": [
    "# Examples of strings (문자열 예시)\n",
    "name = \"Alice Johnson\"\n",
    "country = \"Canada\"\n",
    "email = \"alice@email.com\"\n",
    "message = \"Hello, World!\"\n",
    "\n",
    "# You can use single or double quotes (홑따옴표나 겹따옴표 사용 가능)\n",
    "first_name = \"John\"\n",
    "last_name = 'Smith'\n",
    "\n",
    "# Multi-line strings (여러 줄 문자열)\n",
    "address = \"\"\"123 Main Street\n",
    "City Center\n",
    "New York, NY 10001\"\"\""
   ]
  },
  {
   "cell_type": "markdown",
   "id": "6f789d80",
   "metadata": {},
   "source": [
    "#### **Important Notes about Strings (문자열 관련 중요 사항)**:"
   ]
  },
  {
   "cell_type": "code",
   "execution_count": null,
   "id": "f1777261",
   "metadata": {},
   "outputs": [],
   "source": [
    "# Numbers in quotes are strings! (따옴표 안의 숫자는 문자열!)\n",
    "age_number = 20        # This is an integer\n",
    "age_text = \"20\"        # This is a string!\n",
    "\n",
    "# Empty string (빈 문자열)\n",
    "empty = \"\""
   ]
  },
  {
   "cell_type": "markdown",
   "id": "1dbeef21",
   "metadata": {},
   "source": [
    "### 3.4 Boolean (bool) - True/False (불린)\n",
    "\n",
    "**Definition**: Data that can only be True or False (참 또는 거짓만 가능한 데이터)"
   ]
  },
  {
   "cell_type": "code",
   "execution_count": null,
   "id": "e1445d5c",
   "metadata": {},
   "outputs": [],
   "source": [
    "# Examples of booleans (불린 예시)\n",
    "is_student = True\n",
    "is_graduated = False\n",
    "has_scholarship = True\n",
    "is_international = False\n",
    "\n",
    "# Note: Must be capitalized! (반드시 대문자로!)\n",
    "correct = True    # ✅ Correct\n",
    "wrong = true      # ❌ Wrong - should be True"
   ]
  },
  {
   "cell_type": "markdown",
   "id": "3ec37211",
   "metadata": {
    "lines_to_next_cell": 0
   },
   "source": [
    "#### **Real-world Examples (실생활 예시)**:\n",
    "- Status (상태): `is_enrolled = True`\n",
    "- Conditions (조건): `has_passed_exam = False`\n",
    "- Permissions (권한): `can_access = True`\n",
    "\n",
    "---\n",
    "\n",
    "## 🔍 4. The type() Function (type() 함수)\n",
    "\n",
    "The `type()` function tells you what data type a variable contains.\n",
    "`type()` 함수는 변수가 어떤 데이터 타입을 포함하고 있는지 알려줍니다.\n",
    "\n",
    "### Syntax (문법)"
   ]
  },
  {
   "cell_type": "code",
   "execution_count": null,
   "id": "1387ce92",
   "metadata": {},
   "outputs": [],
   "source": [
    "type(variable_name)"
   ]
  },
  {
   "cell_type": "markdown",
   "id": "ac54d588",
   "metadata": {
    "lines_to_next_cell": 0
   },
   "source": [
    "### Examples (예시)"
   ]
  },
  {
   "cell_type": "code",
   "execution_count": null,
   "id": "c814db8f",
   "metadata": {},
   "outputs": [],
   "source": [
    "# Create variables (변수 생성)\n",
    "student_name = \"Alice\"\n",
    "student_age = 20\n",
    "student_height = 165.5\n",
    "is_freshman = True\n",
    "\n",
    "# Check their types (타입 확인)\n",
    "print(type(student_name))    # <class 'str'>\n",
    "print(type(student_age))     # <class 'int'>\n",
    "print(type(student_height))  # <class 'float'>\n",
    "print(type(is_freshman))     # <class 'bool'>"
   ]
  },
  {
   "cell_type": "markdown",
   "id": "116b2800",
   "metadata": {
    "lines_to_next_cell": 0
   },
   "source": [
    "### Practical Use (실용적 사용)"
   ]
  },
  {
   "cell_type": "code",
   "execution_count": null,
   "id": "bc5b90f7",
   "metadata": {},
   "outputs": [],
   "source": [
    "# Checking if input is the right type (입력이 올바른 타입인지 확인)\n",
    "user_input = \"25\"\n",
    "print(f\"The input '{user_input}' is of type: {type(user_input)}\")\n",
    "\n",
    "# Converting and checking again (변환 후 다시 확인)\n",
    "user_age = int(user_input)\n",
    "print(f\"After conversion: {user_age} is of type: {type(user_age)}\")"
   ]
  },
  {
   "cell_type": "markdown",
   "id": "ae98182b",
   "metadata": {
    "lines_to_next_cell": 0
   },
   "source": [
    "---\n",
    "\n",
    "## 💡 5. Variable Assignment and Reassignment (변수 할당과 재할당)\n",
    "\n",
    "### Initial Assignment (초기 할당)"
   ]
  },
  {
   "cell_type": "code",
   "execution_count": null,
   "id": "50636214",
   "metadata": {},
   "outputs": [],
   "source": [
    "# First time creating the variable (변수 첫 생성)\n",
    "student_name = \"Alice\"\n",
    "print(student_name)  # Output: Alice"
   ]
  },
  {
   "cell_type": "markdown",
   "id": "9dff2325",
   "metadata": {
    "lines_to_next_cell": 0
   },
   "source": [
    "### Reassignment (재할당)"
   ]
  },
  {
   "cell_type": "code",
   "execution_count": null,
   "id": "360270da",
   "metadata": {},
   "outputs": [],
   "source": [
    "# Changing the value (값 변경)\n",
    "student_name = \"Bob\"\n",
    "print(student_name)  # Output: Bob\n",
    "\n",
    "# You can even change the data type! (데이터 타입도 변경 가능!)\n",
    "student_name = 123    # Now it's an integer\n",
    "print(student_name)   # Output: 123\n",
    "print(type(student_name))  # <class 'int'>"
   ]
  },
  {
   "cell_type": "markdown",
   "id": "3ee235f4",
   "metadata": {
    "lines_to_next_cell": 0
   },
   "source": [
    "### Multiple Assignment (다중 할당)"
   ]
  },
  {
   "cell_type": "code",
   "execution_count": null,
   "id": "e9a1d603",
   "metadata": {},
   "outputs": [],
   "source": [
    "# Assign same value to multiple variables (여러 변수에 같은 값 할당)\n",
    "x = y = z = 0\n",
    "\n",
    "# Assign different values to multiple variables (여러 변수에 다른 값 할당)\n",
    "name, age, height = \"Alice\", 20, 165.5\n",
    "print(name)    # Alice\n",
    "print(age)     # 20\n",
    "print(height)  # 165.5"
   ]
  },
  {
   "cell_type": "markdown",
   "id": "70f72fcd",
   "metadata": {
    "lines_to_next_cell": 0
   },
   "source": [
    "---\n",
    "\n",
    "## 🔧 Lab Exercises (실습)\n",
    "\n",
    "### Lab 1: Various Data Types Declaration and Output (다양한 데이터 타입의 변수 선언 및 출력)\n",
    "\n",
    "**Problem (문제)**: Create variables of different data types and display them with their types.\n",
    "다양한 데이터 타입의 변수를 생성하고 타입과 함께 출력하세요.\n",
    "\n",
    "**Requirements (요구사항)**:\n",
    "- Create one variable for each data type: int, float, str, bool\n",
    "- Use meaningful English variable names\n",
    "- Display each variable and its type\n",
    "- 각 데이터 타입별로 하나씩 변수 생성: int, float, str, bool\n",
    "- 의미 있는 영어 변수명 사용\n",
    "- 각 변수와 그 타입을 표시\n",
    "\n",
    "**Solution (정답)**:"
   ]
  },
  {
   "cell_type": "code",
   "execution_count": null,
   "id": "805bd644",
   "metadata": {},
   "outputs": [],
   "source": [
    "# Create variables of different data types\n",
    "# 다양한 데이터 타입의 변수 생성\n",
    "\n",
    "# Integer (정수)\n",
    "student_count = 25\n",
    "print(f\"Number of students: {student_count}\")\n",
    "print(f\"Type: {type(student_count)}\")\n",
    "print()\n",
    "\n",
    "# Float (실수)\n",
    "average_grade = 87.5\n",
    "print(f\"Average grade: {average_grade}\")\n",
    "print(f\"Type: {type(average_grade)}\")\n",
    "print()\n",
    "\n",
    "# String (문자열)\n",
    "university_name = \"Global Tech University\"\n",
    "print(f\"University: {university_name}\")\n",
    "print(f\"Type: {type(university_name)}\")\n",
    "print()\n",
    "\n",
    "# Boolean (불린)\n",
    "is_online_course = True\n",
    "print(f\"Is this an online course? {is_online_course}\")\n",
    "print(f\"Type: {type(is_online_course)}\")\n",
    "print()\n",
    "\n",
    "# Display all information together\n",
    "print(\"=== Summary ===\")\n",
    "print(f\"Students: {student_count} ({type(student_count).__name__})\")\n",
    "print(f\"Average: {average_grade} ({type(average_grade).__name__})\")\n",
    "print(f\"University: {university_name} ({type(university_name).__name__})\")\n",
    "print(f\"Online: {is_online_course} ({type(is_online_course).__name__})\")"
   ]
  },
  {
   "cell_type": "markdown",
   "id": "a7d0bd8a",
   "metadata": {
    "lines_to_next_cell": 0
   },
   "source": [
    "### Lab 2: Correct vs Incorrect Variable Names (올바른 변수명과 잘못된 변수명 비교)\n",
    "\n",
    "**Problem (문제)**: Create examples of correct and incorrect variable names, then fix the incorrect ones.\n",
    "올바른 변수명과 잘못된 변수명의 예시를 만들고, 잘못된 것들을 수정하세요.\n",
    "\n",
    "**Steps (단계)**:\n",
    "1. Try to create variables with incorrect names (see what errors occur)\n",
    "2. Fix the incorrect names and explain why they were wrong\n",
    "3. Show the corrected versions\n",
    "\n",
    "**Solution (정답)**:"
   ]
  },
  {
   "cell_type": "code",
   "execution_count": null,
   "id": "3e935c84",
   "metadata": {},
   "outputs": [],
   "source": [
    "# === CORRECT Variable Names (올바른 변수명) ===\n",
    "print(\"=== CORRECT Examples ===\")\n",
    "\n",
    "# Good variable names (올바른 변수명들)\n",
    "first_name = \"John\"\n",
    "last_name = \"Smith\"\n",
    "age_in_years = 22\n",
    "_private_score = 95\n",
    "student2 = \"Alice\"\n",
    "\n",
    "print(f\"First name: {first_name}\")\n",
    "print(f\"Last name: {last_name}\")\n",
    "print(f\"Age: {age_in_years}\")\n",
    "print(f\"Private score: {_private_score}\")\n",
    "print(f\"Second student: {student2}\")\n",
    "print()\n",
    "\n",
    "# === INCORRECT Variable Names and Fixes ===\n",
    "print(\"=== INCORRECT Examples and Fixes ===\")\n",
    "\n",
    "# Wrong: 2nd_student = \"Bob\"  # ❌ Starts with number\n",
    "# Fix:\n",
    "second_student = \"Bob\"  # ✅ Starts with letter\n",
    "print(f\"Fixed '2nd_student' → 'second_student': {second_student}\")\n",
    "\n",
    "# Wrong: student-name = \"Charlie\"  # ❌ Hyphen not allowed\n",
    "# Fix:\n",
    "student_name = \"Charlie\"  # ✅ Use underscore instead\n",
    "print(f\"Fixed 'student-name' → 'student_name': {student_name}\")\n",
    "\n",
    "# Wrong: class = \"Mathematics\"  # ❌ 'class' is a Python keyword\n",
    "# Fix:\n",
    "course_name = \"Mathematics\"  # ✅ Use descriptive alternative\n",
    "print(f\"Fixed 'class' → 'course_name': {course_name}\")\n",
    "\n",
    "# Wrong: student@email = \"test@email.com\"  # ❌ @ symbol not allowed\n",
    "# Fix:\n",
    "student_email = \"test@email.com\"  # ✅ Use underscore instead\n",
    "print(f\"Fixed 'student@email' → 'student_email': {student_email}\")\n",
    "\n",
    "# Wrong: for = 10  # ❌ 'for' is a Python keyword\n",
    "# Fix:\n",
    "loop_count = 10  # ✅ Use descriptive alternative\n",
    "print(f\"Fixed 'for' → 'loop_count': {loop_count}\")\n",
    "\n",
    "print()\n",
    "print(\"=== Rules Reminder ===\")\n",
    "print(\"1. Start with letter or underscore\")\n",
    "print(\"2. Use only letters, numbers, underscore\")\n",
    "print(\"3. No Python keywords\")\n",
    "print(\"4. Case sensitive\")\n",
    "print(\"5. Use descriptive names\")"
   ]
  },
  {
   "cell_type": "markdown",
   "id": "f5646cea",
   "metadata": {
    "lines_to_next_cell": 0
   },
   "source": [
    "### Lab 3: Personal Information Variables (개인 정보를 담는 변수들 만들기)\n",
    "\n",
    "**Problem (문제)**: Create a program that stores and displays personal information using appropriate variable types.\n",
    "적절한 변수 타입을 사용하여 개인 정보를 저장하고 표시하는 프로그램을 만드세요.\n",
    "\n",
    "**Requirements (요구사항)**:\n",
    "- Store: name, age, height, student status, GPA, country, email\n",
    "- Use appropriate data types for each piece of information\n",
    "- Create a formatted display of the information\n",
    "- 저장할 정보: 이름, 나이, 키, 학생 여부, 평점, 국가, 이메일\n",
    "- 각 정보에 적절한 데이터 타입 사용\n",
    "- 정보를 형식에 맞게 표시\n",
    "\n",
    "**Solution (정답)**:"
   ]
  },
  {
   "cell_type": "code",
   "execution_count": null,
   "id": "d07f0cc0",
   "metadata": {},
   "outputs": [],
   "source": [
    "# Personal Information Storage System\n",
    "# 개인 정보 저장 시스템\n",
    "\n",
    "print(\"=== Personal Information System ===\")\n",
    "print()\n",
    "\n",
    "# Personal Information Variables (개인 정보 변수들)\n",
    "# String data (문자열 데이터)\n",
    "full_name = \"Maria Elena Rodriguez\"\n",
    "country_of_origin = \"Mexico\"\n",
    "email_address = \"maria.rodriguez@email.com\"\n",
    "major = \"Computer Science\"\n",
    "\n",
    "# Integer data (정수 데이터)\n",
    "age_years = 20\n",
    "graduation_year = 2026\n",
    "\n",
    "# Float data (실수 데이터)\n",
    "height_cm = 165.5\n",
    "weight_kg = 58.2\n",
    "current_gpa = 3.85\n",
    "\n",
    "# Boolean data (불린 데이터)\n",
    "is_full_time_student = True\n",
    "has_scholarship = True\n",
    "is_international_student = True\n",
    "has_drivers_license = False\n",
    "\n",
    "# Display formatted information (형식에 맞춰 정보 표시)\n",
    "print(\"📋 STUDENT PROFILE\")\n",
    "print(\"=\" * 40)\n",
    "print(f\"👤 Name: {full_name}\")\n",
    "print(f\"📧 Email: {email_address}\")\n",
    "print(f\"🌍 Country: {country_of_origin}\")\n",
    "print(f\"🎂 Age: {age_years} years old\")\n",
    "print(f\"📏 Height: {height_cm} cm\")\n",
    "print(f\"⚖️  Weight: {weight_kg} kg\")\n",
    "print(f\"📚 Major: {major}\")\n",
    "print(f\"🎯 GPA: {current_gpa}\")\n",
    "print(f\"🎓 Graduation Year: {graduation_year}\")\n",
    "print()\n",
    "\n",
    "# Status Information (상태 정보)\n",
    "print(\"📊 STATUS INFORMATION\")\n",
    "print(\"=\" * 40)\n",
    "print(f\"Full-time Student: {'Yes' if is_full_time_student else 'No'}\")\n",
    "print(f\"Has Scholarship: {'Yes' if has_scholarship else 'No'}\")\n",
    "print(f\"International Student: {'Yes' if is_international_student else 'No'}\")\n",
    "print(f\"Driver's License: {'Yes' if has_drivers_license else 'No'}\")\n",
    "print()\n",
    "\n",
    "# Data Type Information (데이터 타입 정보)\n",
    "print(\"🔍 DATA TYPE VERIFICATION\")\n",
    "print(\"=\" * 40)\n",
    "print(f\"Name type: {type(full_name).__name__}\")\n",
    "print(f\"Age type: {type(age_years).__name__}\")\n",
    "print(f\"Height type: {type(height_cm).__name__}\")\n",
    "print(f\"GPA type: {type(current_gpa).__name__}\")\n",
    "print(f\"Student status type: {type(is_full_time_student).__name__}\")\n",
    "print()\n",
    "\n",
    "# Calculate additional information (추가 정보 계산)\n",
    "birth_year = 2024 - age_years\n",
    "bmi = weight_kg / ((height_cm / 100) ** 2)\n",
    "\n",
    "print(\"📈 CALCULATED INFORMATION\")\n",
    "print(\"=\" * 40)\n",
    "print(f\"Estimated birth year: {birth_year}\")\n",
    "print(f\"BMI: {bmi:.1f}\")\n",
    "print(f\"Years until graduation: {graduation_year - 2024}\")"
   ]
  },
  {
   "cell_type": "markdown",
   "id": "b955ff83",
   "metadata": {
    "lines_to_next_cell": 0
   },
   "source": [
    "---\n",
    "\n",
    "## 📝 Quiz Section (퀴즈)\n",
    "\n",
    "### Quiz 1: Variable Assignment and Output (변수 할당과 출력)\n",
    "**Question**: Write code to create a variable called `name` that stores your name, then print it to the screen.\n",
    "`name`이라는 변수를 만들어 당신의 이름을 저장한 후, 화면에 출력하는 코드를 작성하세요.\n",
    "\n",
    "**Write your answer here (답을 여기에 작성하세요)**:"
   ]
  },
  {
   "cell_type": "code",
   "execution_count": null,
   "id": "590c2e4b",
   "metadata": {},
   "outputs": [],
   "source": [
    "# Your code here:\n",
    "\n",
    "\n",
    "\n"
   ]
  },
  {
   "cell_type": "markdown",
   "id": "de492bdc",
   "metadata": {},
   "source": [
    "### Quiz 2: Data Type Identification (데이터 타입 식별)\n",
    "**Question**: Given the following variables, use the `type()` function to print the data type of each variable:\n",
    "다음 변수들이 주어졌을 때, `type()` 함수를 사용하여 각 변수의 데이터 타입을 출력하세요:"
   ]
  },
  {
   "cell_type": "code",
   "execution_count": null,
   "id": "1e779db5",
   "metadata": {},
   "outputs": [],
   "source": [
    "age = 25\n",
    "height = 175.5\n",
    "name = \"John Smith\""
   ]
  },
  {
   "cell_type": "markdown",
   "id": "94a78cc5",
   "metadata": {
    "lines_to_next_cell": 0
   },
   "source": [
    "**Write your answer here (답을 여기에 작성하세요)**:"
   ]
  },
  {
   "cell_type": "code",
   "execution_count": null,
   "id": "cd52ef17",
   "metadata": {},
   "outputs": [],
   "source": [
    "age = 25\n",
    "height = 175.5\n",
    "name = \"John Smith\"\n",
    "\n",
    "# Your code to print types here:\n",
    "\n",
    "\n",
    "\n"
   ]
  },
  {
   "cell_type": "markdown",
   "id": "ab4e36fb",
   "metadata": {},
   "source": [
    "### Quiz 3: Variable Name Validation (변수명 유효성 검사)\n",
    "**Question**: Look at the following variable names and identify which ones are **incorrect**. For each incorrect name, explain why it's wrong and provide a corrected version.\n",
    "다음 변수명들을 보고 **올바르지 않은** 것들을 찾으세요. 잘못된 각 이름에 대해 왜 틀렸는지 설명하고 수정된 버전을 제공하세요.\n",
    "\n",
    "**Variable names to check (확인할 변수명들)**:\n",
    "1. `my_age`\n",
    "2. `2nd_name`\n",
    "3. `student-id`\n",
    "4. `_score`\n",
    "5. `class`\n",
    "6. `firstName`\n",
    "7. `user@name`\n",
    "8. `total_count`\n",
    "\n",
    "**Write your analysis here (분석을 여기에 작성하세요)**:\n",
    "\n",
    "| Variable Name | Correct/Incorrect | Reason | Corrected Version |\n",
    "|---------------|-------------------|--------|-------------------|\n",
    "| my_age | | | |\n",
    "| 2nd_name | | | |\n",
    "| student-id | | | |\n",
    "| _score | | | |\n",
    "| class | | | |\n",
    "| firstName | | | |\n",
    "| user@name | | | |\n",
    "| total_count | | | |\n",
    "\n",
    "---\n",
    "\n",
    "## 📖 References (참고 자료)\n",
    "\n",
    "1. **Python Variables Tutorial**: https://www.w3schools.com/python/python_variables.asp\n",
    "   - Comprehensive guide to Python variables and naming conventions (파이썬 변수와 명명 규칙 종합 가이드)\n",
    "\n",
    "2. **Python Data Types**: https://docs.python.org/3/tutorial/introduction.html#using-python-as-a-calculator\n",
    "   - Official Python documentation on data types (데이터 타입에 대한 공식 파이썬 문서)\n",
    "\n",
    "3. **Variable Naming Best Practices**: https://realpython.com/python-pep8/#naming-conventions\n",
    "   - Professional naming conventions and code style (전문적인 명명 규칙과 코드 스타일)\n",
    "\n",
    "4. **Interactive Python Type Checking**: https://www.programiz.com/python-programming/variables-datatypes\n",
    "   - Practice exercises for variables and data types (변수와 데이터 타입 연습 문제)\n",
    "\n",
    "---\n",
    "\n",
    "## 💡 Additional Tips for Success (성공을 위한 추가 팁)\n",
    "\n",
    "### For Non-Korean Students (한국어가 익숙하지 않은 학생들을 위해)\n",
    "- **Always use English variable names**: This makes your code readable worldwide (항상 영어 변수명 사용: 전 세계적으로 읽기 쉬운 코드)\n",
    "- **Be descriptive**: `name` is better than `n`, `student_age` is better than `age` (구체적으로: `name`이 `n`보다 낫고, `student_age`가 `age`보다 좋음)\n",
    "- **Practice daily**: Create variables for things around you (매일 연습: 주변 사물에 대한 변수 만들기)\n",
    "\n",
    "### Common Mistakes to Avoid (피해야 할 일반적인 실수)\n",
    "- **Don't start with numbers**: `2nd_name` → `second_name`\n",
    "- **Don't use hyphens**: `student-id` → `student_id`\n",
    "- **Don't use keywords**: `class` → `course_name`\n",
    "- **Don't use special characters**: `user@name` → `user_name`\n",
    "\n",
    "### Memory Tips (기억 팁)\n",
    "- **int**: **Int**eger = **Int**act numbers (완전한 숫자)\n",
    "- **float**: Numbers that **float** with decimal points (소수점으로 떠다니는 숫자)\n",
    "- **str**: **Str**ing = **Str**ings of characters (문자들의 연결)\n",
    "- **bool**: **Bool**ean = named after George **Bool**e (조지 불의 이름을 딴)\n",
    "\n",
    "### Next Week Preview (다음 주 미리보기)\n",
    "Next week we'll learn about **operators and expressions** - how to perform calculations and comparisons with our variables!\n",
    "다음 주에는 **연산자와 표현식**에 대해 배웁니다 - 변수들로 계산과 비교를 수행하는 방법을 익혀보세요!\n",
    "\n",
    "---\n",
    "\n",
    "## 📋 Homework (숙제)\n",
    "1. **Practice**: Complete all three lab exercises on your computer (연습: 컴퓨터에서 3개 실습 모두 완료)\n",
    "2. **Create**: Make variables for 5 items in your room with appropriate data types (생성: 방에 있는 5가지 물건에 대해 적절한 데이터 타입으로 변수 만들기)\n",
    "3. **Experiment**: Try creating variables with wrong names to see the error messages (실험: 잘못된 이름으로 변수를 만들어 에러 메시지 확인)\n",
    "\n",
    "**Keep building your Python foundation!** 🐍📊  \n",
    "**파이썬 기초를 계속 쌓아가세요!** 🐍📊"
   ]
  }
 ],
 "metadata": {
  "jupytext": {
   "cell_metadata_filter": "-all",
   "main_language": "python",
   "notebook_metadata_filter": "-all"
  }
 },
 "nbformat": 4,
 "nbformat_minor": 5
}
