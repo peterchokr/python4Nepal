{
 "cells": [
  {
   "cell_type": "markdown",
   "id": "6ba83981",
   "metadata": {},
   "source": [
    "# Python Lists and Tuples\n",
    "\n",
    "**Class Duration**: 3 hours  \n",
    "**Structure**: Lecture & Practice 2 hours + Quiz 1 hour  \n",
    "**Level**: Beginner to Intermediate  \n",
    "**Prerequisites**: Variables, Data Types, Operators, Input/Output, Conditional Statements, Loops\n",
    "\n",
    "---\n",
    "\n",
    "## 🎯 Learning Objectives\n",
    "\n",
    "After completing this lesson, students will be able to:\n",
    "이 수업을 마친 후 학생들은 다음을 할 수 있습니다:\n",
    "\n",
    "- Understand what lists are and why they are useful\n",
    "리스트가 무엇인지, 왜 유용한지 이해하기\n",
    "- Create lists and access elements using indexing\n",
    "리스트 생성 및 인덱싱으로 요소에 접근하기\n",
    "- Work with parts of lists using slicing\n",
    "슬라이싱을 사용하여 리스트의 일부분으로 작업하기\n",
    "- Combine lists and loops for advanced data processing\n",
    "리스트와 반복문을 조합하여 고급 데이터 처리하기\n",
    "- Create and use basic list comprehensions\n",
    "기본 리스트 컴프리헨션 생성 및 사용하기\n",
    "- Understand tuple characteristics and when to use them\n",
    "튜플의 특성과 사용 시기 이해하기\n",
    "- Compare and choose between lists and tuples appropriately\n",
    "리스트와 튜플을 적절히 비교하고 선택하기\n",
    "- Build practical programs using advanced list and tuple features\n",
    "고급 리스트 및 튜플 기능을 사용한 실용적 프로그램 구축하기\n",
    "\n",
    "---\n",
    "\n",
    "## 📋 1. What is a List?\n",
    "\n",
    "**List** is a collection that allows you to store multiple items in a single variable. Think of a list as a container that can hold several different things in order.\n",
    "**리스트**는 하나의 변수에 여러 항목을 저장할 수 있는 컬렉션입니다.\n",
    "\n",
    "### Real-life Analogy\n",
    "\n",
    "Lists are like shopping lists or class rosters:\n",
    "리스트는 쇼핑 목록이나 학급 명단과 같습니다:\n",
    "\n",
    "```\n",
    "Shopping List:\n",
    "1. Apples\n",
    "2. Bread  \n",
    "3. Milk\n",
    "4. Eggs\n",
    "\n",
    "Python List:\n",
    "shopping_list = [\"apples\", \"bread\", \"milk\", \"eggs\"]\n",
    "```\n",
    "\n",
    "### Why Use Lists?\n",
    "\n",
    "#### Without Lists"
   ]
  },
  {
   "cell_type": "code",
   "execution_count": null,
   "id": "843dd5a4",
   "metadata": {},
   "outputs": [],
   "source": [
    "# Storing student names - complex way\n",
    "student1 = \"Alice\"\n",
    "student2 = \"Bob\"\n",
    "student3 = \"Charlie\"\n",
    "student4 = \"Diana\"\n",
    "\n",
    "# Hard to manage and difficult to iterate\n",
    "print(student1)\n",
    "print(student2)\n",
    "print(student3)\n",
    "print(student4)"
   ]
  },
  {
   "cell_type": "markdown",
   "id": "749f6532",
   "metadata": {},
   "source": [
    "#### With Lists"
   ]
  },
  {
   "cell_type": "code",
   "execution_count": null,
   "id": "14c73cee",
   "metadata": {},
   "outputs": [],
   "source": [
    "# Storing student names - clean way\n",
    "students = [\"Alice\", \"Bob\", \"Charlie\", \"Diana\"]\n",
    "\n",
    "# Easy to manage and iterate\n",
    "for student in students:\n",
    "    print(student)"
   ]
  },
  {
   "cell_type": "markdown",
   "id": "51588cc3",
   "metadata": {},
   "source": [
    "### List Characteristics\n",
    "\n",
    "- **Ordered**: Items have specific positions\n",
    "순서가 있음: 항목들이 특정 위치를 가짐\n",
    "- **Mutable**: Can add, remove, and modify items\n",
    "변경 가능: 항목을 추가, 제거, 수정할 수 있음\n",
    "- **Allow duplicates**: Same item can appear multiple times\n",
    "중복 허용: 같은 항목이 여러 번 나타날 수 있음\n",
    "- **Mixed types**: Can store different data types together\n",
    "혼합 타입: 다양한 데이터 타입을 함께 저장 가능\n",
    "\n",
    "---\n",
    "\n",
    "## 🔢 2. Creating Lists and Indexing\n",
    "\n",
    "### Creating Lists\n",
    "\n",
    "#### Method 1: Using Square Brackets []"
   ]
  },
  {
   "cell_type": "code",
   "execution_count": null,
   "id": "4c878e96",
   "metadata": {},
   "outputs": [],
   "source": [
    "# Empty list\n",
    "empty_list = []\n",
    "\n",
    "# List with numbers\n",
    "numbers = [1, 2, 3, 4, 5]\n",
    "\n",
    "# List with strings\n",
    "fruits = [\"apple\", \"banana\", \"orange\"]\n",
    "\n",
    "# Mixed type list\n",
    "mixed_list = [\"Alice\", 25, True, 3.14]\n",
    "\n",
    "# List with duplicates\n",
    "grades = [85, 90, 85, 92, 85]"
   ]
  },
  {
   "cell_type": "markdown",
   "id": "2b6c45da",
   "metadata": {},
   "source": [
    "#### Method 2: Using list() Function"
   ]
  },
  {
   "cell_type": "code",
   "execution_count": null,
   "id": "a3bab828",
   "metadata": {},
   "outputs": [],
   "source": [
    "# Convert string to character list\n",
    "letters = list(\"Hello\")  # ['H', 'e', 'l', 'l', 'o']\n",
    "\n",
    "# Convert range to list\n",
    "numbers = list(range(1, 6))  # [1, 2, 3, 4, 5]"
   ]
  },
  {
   "cell_type": "markdown",
   "id": "bdea426a",
   "metadata": {},
   "source": [
    "### List Indexing\n",
    "\n",
    "Lists use **zero-based indexing**, so the first item is at position 0.\n",
    "리스트는 **0부터 시작하는 인덱싱**을 사용하므로, 첫 번째 항목이 위치 0에 있습니다."
   ]
  },
  {
   "cell_type": "code",
   "execution_count": null,
   "id": "e2890029",
   "metadata": {},
   "outputs": [],
   "source": [
    "fruits = [\"apple\", \"banana\", \"orange\", \"grape\", \"kiwi\"]\n",
    "#         0        1         2         3       4\n",
    "#        -5       -4        -3        -2      -1"
   ]
  },
  {
   "cell_type": "markdown",
   "id": "b01c67a4",
   "metadata": {},
   "source": [
    "#### Positive Indexing"
   ]
  },
  {
   "cell_type": "code",
   "execution_count": null,
   "id": "6fefa6af",
   "metadata": {},
   "outputs": [],
   "source": [
    "fruits = [\"apple\", \"banana\", \"orange\", \"grape\", \"kiwi\"]\n",
    "\n",
    "print(fruits[0])    # \"apple\" - first item\n",
    "print(fruits[1])    # \"banana\" - second item  \n",
    "print(fruits[2])    # \"orange\" - third item\n",
    "print(fruits[4])    # \"kiwi\" - last item"
   ]
  },
  {
   "cell_type": "markdown",
   "id": "7e7b72e0",
   "metadata": {},
   "source": [
    "#### Negative Indexing"
   ]
  },
  {
   "cell_type": "code",
   "execution_count": null,
   "id": "c7eafc1e",
   "metadata": {},
   "outputs": [],
   "source": [
    "fruits = [\"apple\", \"banana\", \"orange\", \"grape\", \"kiwi\"]\n",
    "\n",
    "print(fruits[-1])   # \"kiwi\" - last item\n",
    "print(fruits[-2])   # \"grape\" - second from end\n",
    "print(fruits[-3])   # \"orange\" - third from end\n",
    "print(fruits[-5])   # \"apple\" - first item (same as fruits[0])"
   ]
  },
  {
   "cell_type": "markdown",
   "id": "81df2724",
   "metadata": {
    "lines_to_next_cell": 0
   },
   "source": [
    "### Practical Examples\n",
    "\n",
    "#### Example 1: Student Grades"
   ]
  },
  {
   "cell_type": "code",
   "execution_count": null,
   "id": "f4ff2351",
   "metadata": {},
   "outputs": [],
   "source": [
    "# Store and access student grades\n",
    "grades = [85, 92, 78, 96, 87]\n",
    "\n",
    "print(f\"First student grade: {grades[0]}\")\n",
    "print(f\"Last student grade: {grades[-1]}\")\n",
    "print(f\"Number of grades recorded: {len(grades)}\")\n",
    "\n",
    "# Calculate average\n",
    "total = sum(grades)\n",
    "average = total / len(grades)\n",
    "print(f\"Class average: {average:.1f}\")"
   ]
  },
  {
   "cell_type": "markdown",
   "id": "c94886a6",
   "metadata": {
    "lines_to_next_cell": 0
   },
   "source": [
    "#### Example 2: Days of the Week"
   ]
  },
  {
   "cell_type": "code",
   "execution_count": null,
   "id": "742e71b3",
   "metadata": {},
   "outputs": [],
   "source": [
    "# Days of the week\n",
    "days = [\"Monday\", \"Tuesday\", \"Wednesday\", \"Thursday\", \n",
    "        \"Friday\", \"Saturday\", \"Sunday\"]\n",
    "\n",
    "# Access specific days\n",
    "today = days[2]  # Wednesday\n",
    "tomorrow = days[3]  # Thursday\n",
    "\n",
    "print(f\"Today is {today}\")\n",
    "print(f\"Tomorrow is {tomorrow}\")\n",
    "\n",
    "# Weekend\n",
    "weekend = [days[5], days[6]]  # Saturday, Sunday\n",
    "print(f\"Weekend: {weekend}\")"
   ]
  },
  {
   "cell_type": "markdown",
   "id": "13ec4c17",
   "metadata": {},
   "source": [
    "---\n",
    "\n",
    "## ✂️ 3. List Slicing\n",
    "\n",
    "**Slicing** allows you to extract portions of a list by specifying a range of indices.\n",
    "**슬라이싱**은 인덱스 범위를 지정하여 리스트의 일부분을 추출할 수 있게 해줍니다.\n",
    "\n",
    "### Slicing Syntax"
   ]
  },
  {
   "cell_type": "code",
   "execution_count": null,
   "id": "7791412b",
   "metadata": {},
   "outputs": [],
   "source": [
    "list_name[start:end:step]"
   ]
  },
  {
   "cell_type": "markdown",
   "id": "f5893de7",
   "metadata": {},
   "source": [
    "- **start**: Starting index (included)\n",
    "- **end**: Ending index (excluded)\n",
    "- **step**: Step size (optional, default 1)\n",
    "\n",
    "### Basic Slicing Examples"
   ]
  },
  {
   "cell_type": "code",
   "execution_count": null,
   "id": "883d9378",
   "metadata": {},
   "outputs": [],
   "source": [
    "numbers = [0, 1, 2, 3, 4, 5, 6, 7, 8, 9]\n",
    "#          0  1  2  3  4  5  6  7  8  9"
   ]
  },
  {
   "cell_type": "markdown",
   "id": "5d927ba5",
   "metadata": {},
   "source": [
    "#### Basic Ranges"
   ]
  },
  {
   "cell_type": "code",
   "execution_count": null,
   "id": "ebef5d4a",
   "metadata": {},
   "outputs": [],
   "source": [
    "numbers = [0, 1, 2, 3, 4, 5, 6, 7, 8, 9]\n",
    "\n",
    "print(numbers[2:5])    # [2, 3, 4] - index 2 to 4\n",
    "print(numbers[1:7])    # [1, 2, 3, 4, 5, 6] - index 1 to 6\n",
    "print(numbers[0:3])    # [0, 1, 2] - first three items"
   ]
  },
  {
   "cell_type": "markdown",
   "id": "6b947f91",
   "metadata": {},
   "source": [
    "#### Omitting Start or End"
   ]
  },
  {
   "cell_type": "code",
   "execution_count": null,
   "id": "ea46e0b5",
   "metadata": {},
   "outputs": [],
   "source": [
    "numbers = [0, 1, 2, 3, 4, 5, 6, 7, 8, 9]\n",
    "\n",
    "print(numbers[:4])     # [0, 1, 2, 3] - from beginning to index 3\n",
    "print(numbers[6:])     # [6, 7, 8, 9] - from index 6 to end\n",
    "print(numbers[:])      # [0, 1, 2, 3, 4, 5, 6, 7, 8, 9] - entire list"
   ]
  },
  {
   "cell_type": "markdown",
   "id": "aa290ec4",
   "metadata": {},
   "source": [
    "#### Using Step"
   ]
  },
  {
   "cell_type": "code",
   "execution_count": null,
   "id": "501f0d43",
   "metadata": {},
   "outputs": [],
   "source": [
    "numbers = [0, 1, 2, 3, 4, 5, 6, 7, 8, 9]\n",
    "\n",
    "print(numbers[::2])    # [0, 2, 4, 6, 8] - every second item\n",
    "print(numbers[1::2])   # [1, 3, 5, 7, 9] - from index 1, every second\n",
    "print(numbers[::3])    # [0, 3, 6, 9] - every third item"
   ]
  },
  {
   "cell_type": "markdown",
   "id": "ade556f2",
   "metadata": {},
   "source": [
    "#### Negative Indices in Slicing"
   ]
  },
  {
   "cell_type": "code",
   "execution_count": null,
   "id": "a483a1ce",
   "metadata": {},
   "outputs": [],
   "source": [
    "numbers = [0, 1, 2, 3, 4, 5, 6, 7, 8, 9]\n",
    "\n",
    "print(numbers[-3:])    # [7, 8, 9] - last three items\n",
    "print(numbers[:-2])    # [0, 1, 2, 3, 4, 5, 6, 7] - exclude last two\n",
    "print(numbers[-5:-2])  # [5, 6, 7] - from 5th from end to 3rd from end"
   ]
  },
  {
   "cell_type": "markdown",
   "id": "d6cf4882",
   "metadata": {},
   "source": [
    "---\n",
    "\n",
    "## 🛠️ 4. Essential List Methods\n",
    "\n",
    "Lists have built-in methods that make it easy to add, remove, and modify elements.\n",
    "리스트는 요소를 추가, 제거, 수정하기 쉽게 해주는 내장 메소드들을 가지고 있습니다.\n",
    "\n",
    "### Adding Elements\n",
    "\n",
    "#### append() - Add to End"
   ]
  },
  {
   "cell_type": "code",
   "execution_count": null,
   "id": "40d4e38d",
   "metadata": {},
   "outputs": [],
   "source": [
    "fruits = [\"apple\", \"banana\"]\n",
    "fruits.append(\"orange\")\n",
    "print(fruits)  # [\"apple\", \"banana\", \"orange\"]\n",
    "\n",
    "fruits.append(\"grape\")\n",
    "print(fruits)  # [\"apple\", \"banana\", \"orange\", \"grape\"]"
   ]
  },
  {
   "cell_type": "markdown",
   "id": "4fe5e8e4",
   "metadata": {},
   "source": [
    "#### insert() - Add at Specific Position"
   ]
  },
  {
   "cell_type": "code",
   "execution_count": null,
   "id": "569f65ec",
   "metadata": {},
   "outputs": [],
   "source": [
    "fruits = [\"apple\", \"banana\", \"orange\"]\n",
    "fruits.insert(1, \"mango\")  # Insert at index 1\n",
    "print(fruits)  # [\"apple\", \"mango\", \"banana\", \"orange\"]\n",
    "\n",
    "fruits.insert(0, \"kiwi\")   # Insert at beginning\n",
    "print(fruits)  # [\"kiwi\", \"apple\", \"mango\", \"banana\", \"orange\"]"
   ]
  },
  {
   "cell_type": "markdown",
   "id": "446182d3",
   "metadata": {},
   "source": [
    "### Removing Elements\n",
    "\n",
    "#### remove() - Remove by Value"
   ]
  },
  {
   "cell_type": "code",
   "execution_count": null,
   "id": "2a6caab2",
   "metadata": {},
   "outputs": [],
   "source": [
    "fruits = [\"apple\", \"banana\", \"orange\", \"apple\"]\n",
    "fruits.remove(\"banana\")\n",
    "print(fruits)  # [\"apple\", \"orange\", \"apple\"]\n",
    "\n",
    "# Only removes first occurrence\n",
    "fruits.remove(\"apple\")  # Removes first \"apple\"\n",
    "print(fruits)  # [\"orange\", \"apple\"]"
   ]
  },
  {
   "cell_type": "markdown",
   "id": "fdc70e57",
   "metadata": {},
   "source": [
    "#### pop() - Remove by Index"
   ]
  },
  {
   "cell_type": "code",
   "execution_count": null,
   "id": "5c2ae04b",
   "metadata": {},
   "outputs": [],
   "source": [
    "fruits = [\"apple\", \"banana\", \"orange\"]\n",
    "\n",
    "# Remove last item (default)\n",
    "last_fruit = fruits.pop()\n",
    "print(f\"Removed fruit: {last_fruit}\")  # \"orange\"\n",
    "print(fruits)  # [\"apple\", \"banana\"]\n",
    "\n",
    "# Remove specific index\n",
    "first_fruit = fruits.pop(0)\n",
    "print(f\"Removed fruit: {first_fruit}\")  # \"apple\"\n",
    "print(fruits)  # [\"banana\"]"
   ]
  },
  {
   "cell_type": "markdown",
   "id": "9d9e1ec3",
   "metadata": {},
   "source": [
    "### Practical Method Example\n",
    "\n",
    "#### Example 1: Shopping Cart"
   ]
  },
  {
   "cell_type": "code",
   "execution_count": null,
   "id": "13a5994d",
   "metadata": {},
   "outputs": [],
   "source": [
    "# Shopping cart management\n",
    "cart = []\n",
    "\n",
    "# Add items\n",
    "cart.append(\"bread\")\n",
    "cart.append(\"milk\")\n",
    "cart.append(\"eggs\")\n",
    "print(f\"Cart: {cart}\")\n",
    "\n",
    "# Add item at specific position\n",
    "cart.insert(1, \"butter\")  # Add butter after bread\n",
    "print(f\"Updated cart: {cart}\")\n",
    "\n",
    "# Remove item\n",
    "cart.remove(\"eggs\")\n",
    "print(f\"After removing eggs: {cart}\")\n",
    "\n",
    "# Remove last item\n",
    "last_item = cart.pop()\n",
    "print(f\"Last removed item: {last_item}\")\n",
    "print(f\"Final cart: {cart}\")"
   ]
  },
  {
   "cell_type": "markdown",
   "id": "249cacf6",
   "metadata": {},
   "source": [
    "### Additional Useful Methods\n",
    "\n",
    "#### Finding Elements"
   ]
  },
  {
   "cell_type": "code",
   "execution_count": null,
   "id": "0ea9e28c",
   "metadata": {},
   "outputs": [],
   "source": [
    "numbers = [10, 20, 30, 20, 40]\n",
    "\n",
    "# Check if item exists\n",
    "if 20 in numbers:\n",
    "    print(\"20 is in the list\")\n",
    "\n",
    "# Find index of item\n",
    "index = numbers.index(20)  # Returns first occurrence\n",
    "print(f\"First 20 is at index: {index}\")\n",
    "\n",
    "# Count occurrences\n",
    "count = numbers.count(20)\n",
    "print(f\"20 appears {count} times\")"
   ]
  },
  {
   "cell_type": "markdown",
   "id": "a326e993",
   "metadata": {},
   "source": [
    "#### List Information"
   ]
  },
  {
   "cell_type": "code",
   "execution_count": null,
   "id": "85ed4052",
   "metadata": {},
   "outputs": [],
   "source": [
    "numbers = [10, 20, 30, 40, 50]\n",
    "\n",
    "print(f\"List length: {len(numbers)}\")\n",
    "print(f\"Maximum value: {max(numbers)}\")\n",
    "print(f\"Minimum value: {min(numbers)}\")\n",
    "print(f\"Sum of all values: {sum(numbers)}\")"
   ]
  },
  {
   "cell_type": "markdown",
   "id": "316a3047",
   "metadata": {},
   "source": [
    "---\n",
    "\n",
    "## 🔄 5. Combining Lists and Loops\n",
    "\n",
    "Lists and loops work perfectly together because:\n",
    "리스트와 반복문은 다음 이유로 완벽하게 함께 작동합니다:\n",
    "\n",
    "- **Process multiple items efficiently**\n",
    "여러 항목을 효율적으로 처리\n",
    "- **Perform same operation on each element**\n",
    "각 요소에 동일한 연산 수행\n",
    "- **Filter and transform data**\n",
    "데이터 필터링 및 변환\n",
    "\n",
    "### Basic Patterns\n",
    "\n",
    "#### Pattern 1: Process Each Element"
   ]
  },
  {
   "cell_type": "code",
   "execution_count": null,
   "id": "b5695983",
   "metadata": {},
   "outputs": [],
   "source": [
    "# Example: Convert Celsius to Fahrenheit\n",
    "celsius_temps = [0, 20, 30, 37, 100]\n",
    "fahrenheit_temps = []\n",
    "\n",
    "for temp in celsius_temps:\n",
    "    fahrenheit = (temp * 9/5) + 32\n",
    "    fahrenheit_temps.append(fahrenheit)\n",
    "  \n",
    "print(fahrenheit_temps)  # [32.0, 68.0, 86.0, 98.6, 212.0]"
   ]
  },
  {
   "cell_type": "markdown",
   "id": "137e9602",
   "metadata": {},
   "source": [
    "#### Pattern 2: Filter Data"
   ]
  },
  {
   "cell_type": "code",
   "execution_count": null,
   "id": "752ec911",
   "metadata": {},
   "outputs": [],
   "source": [
    "# Example: Find all even numbers\n",
    "numbers = [1, 2, 3, 4, 5, 6, 7, 8, 9, 10]\n",
    "even_numbers = []\n",
    "\n",
    "for num in numbers:\n",
    "    if num % 2 == 0:\n",
    "        even_numbers.append(num)\n",
    "      \n",
    "print(even_numbers)  # [2, 4, 6, 8, 10]"
   ]
  },
  {
   "cell_type": "markdown",
   "id": "8d1650c9",
   "metadata": {},
   "source": [
    "#### Pattern 3: Find Maximum/Minimum"
   ]
  },
  {
   "cell_type": "code",
   "execution_count": null,
   "id": "0205be38",
   "metadata": {},
   "outputs": [],
   "source": [
    "# Example: Find highest score\n",
    "scores = [85, 92, 78, 96, 88, 91]\n",
    "highest_score = scores[0]  # Start with first element\n",
    "\n",
    "for score in scores:\n",
    "    if score > highest_score:\n",
    "        highest_score = score\n",
    "      \n",
    "print(f\"Highest score: {highest_score}\")  # Highest score: 96"
   ]
  },
  {
   "cell_type": "markdown",
   "id": "6eb4ecb7",
   "metadata": {},
   "source": [
    "### Advanced Loop Techniques\n",
    "\n",
    "#### Using enumerate()\n",
    "\n",
    "When you need both index and value:\n",
    "인덱스와 값이 모두 필요할 때:"
   ]
  },
  {
   "cell_type": "code",
   "execution_count": null,
   "id": "73f54b15",
   "metadata": {},
   "outputs": [],
   "source": [
    "# Example: Show student rankings\n",
    "students = [\"Alice\", \"Bob\", \"Charlie\", \"Diana\"]\n",
    "\n",
    "for index, name in enumerate(students):\n",
    "    ranking = index + 1\n",
    "    print(f\"{ranking}st place: {name}\")\n",
    "\n",
    "# Output:\n",
    "# 1st place: Alice\n",
    "# 2nd place: Bob\n",
    "# 3rd place: Charlie\n",
    "# 4th place: Diana"
   ]
  },
  {
   "cell_type": "markdown",
   "id": "2cf8f6aa",
   "metadata": {},
   "source": [
    "#### Using zip()\n",
    "\n",
    "When processing multiple lists together:\n",
    "여러 리스트를 함께 처리해야 할 때:"
   ]
  },
  {
   "cell_type": "code",
   "execution_count": null,
   "id": "7b247102",
   "metadata": {},
   "outputs": [],
   "source": [
    "# Example: Combine student names and scores\n",
    "names = [\"Alice\", \"Bob\", \"Charlie\"]\n",
    "scores = [95, 87, 92]\n",
    "\n",
    "for name, score in zip(names, scores):\n",
    "    print(f\"{name}: {score} points\")\n",
    "\n",
    "# Output:\n",
    "# Alice: 95 points\n",
    "# Bob: 87 points\n",
    "# Charlie: 92 points"
   ]
  },
  {
   "cell_type": "markdown",
   "id": "e95d4b91",
   "metadata": {},
   "source": [
    "---\n",
    "\n",
    "## ✨ 6. List Comprehensions\n",
    "\n",
    "### What is List Comprehension?\n",
    "\n",
    "**List Comprehension** is a concise way to create lists in a single line of code.\n",
    "**리스트 컴프리헨션**은 한 줄의 코드로 리스트를 만드는 간결한 방법입니다.\n",
    "\n",
    "Think of it as a \"compressed for loop.\"\n",
    "\"압축된 for 반복문\"이라고 생각하면 됩니다.\n",
    "\n",
    "### Basic Syntax"
   ]
  },
  {
   "cell_type": "code",
   "execution_count": null,
   "id": "077c1027",
   "metadata": {},
   "outputs": [],
   "source": [
    "# General format:\n",
    "# new_list = [expression for item in original_list]\n",
    "\n",
    "# Traditional way:\n",
    "squares = []\n",
    "for x in range(5):\n",
    "    squares.append(x ** 2)\n",
    "\n",
    "# List comprehension way:\n",
    "squares = [x ** 2 for x in range(5)]\n",
    "print(squares)  # [0, 1, 4, 9, 16]"
   ]
  },
  {
   "cell_type": "markdown",
   "id": "25ffe69b",
   "metadata": {},
   "source": [
    "### Examples from Simple to Complex\n",
    "\n",
    "#### Example 1: Basic Transformation"
   ]
  },
  {
   "cell_type": "code",
   "execution_count": null,
   "id": "d68e3de5",
   "metadata": {},
   "outputs": [],
   "source": [
    "# Multiply each number by 2\n",
    "numbers = [1, 2, 3, 4, 5]\n",
    "doubled = [num * 2 for num in numbers]\n",
    "print(doubled)  # [2, 4, 6, 8, 10]"
   ]
  },
  {
   "cell_type": "markdown",
   "id": "e83370f2",
   "metadata": {},
   "source": [
    "#### Example 2: String Processing"
   ]
  },
  {
   "cell_type": "code",
   "execution_count": null,
   "id": "8cb242da",
   "metadata": {},
   "outputs": [],
   "source": [
    "# Convert all names to uppercase\n",
    "names = [\"alice\", \"bob\", \"charlie\"]\n",
    "upper_names = [name.upper() for name in names]\n",
    "print(upper_names)  # ['ALICE', 'BOB', 'CHARLIE']"
   ]
  },
  {
   "cell_type": "markdown",
   "id": "89992fed",
   "metadata": {},
   "source": [
    "#### Example 3: Including Conditions"
   ]
  },
  {
   "cell_type": "code",
   "execution_count": null,
   "id": "61cfc525",
   "metadata": {},
   "outputs": [],
   "source": [
    "# Get only even numbers\n",
    "numbers = [1, 2, 3, 4, 5, 6, 7, 8, 9, 10]\n",
    "evens = [num for num in numbers if num % 2 == 0]\n",
    "print(evens)  # [2, 4, 6, 8, 10]"
   ]
  },
  {
   "cell_type": "markdown",
   "id": "d444406c",
   "metadata": {},
   "source": [
    "#### Example 4: Complex Expressions"
   ]
  },
  {
   "cell_type": "code",
   "execution_count": null,
   "id": "3b56da53",
   "metadata": {},
   "outputs": [],
   "source": [
    "# Create descriptive strings\n",
    "scores = [85, 92, 78, 96, 88]\n",
    "descriptions = [f\"Score: {score} - {'Excellent' if score >= 90 else 'Good'}\" \n",
    "                for score in scores]\n",
    "print(descriptions)\n",
    "# ['Score: 85 - Good', 'Score: 92 - Excellent', ...]"
   ]
  },
  {
   "cell_type": "markdown",
   "id": "48e5951e",
   "metadata": {},
   "source": [
    "### When to Use List Comprehensions?\n",
    "\n",
    "**Use list comprehensions when:**\n",
    "**리스트 컴프리헨션을 사용하는 경우:**\n",
    "\n",
    "- Logic is simple and fits on one line\n",
    "- Creating new list from existing list\n",
    "- Operation is straightforward\n",
    "\n",
    "**Use regular loops when:**\n",
    "**일반 반복문을 사용하는 경우:**\n",
    "\n",
    "- Logic is complex\n",
    "- Multiple lines of code needed\n",
    "- Readability would suffer\n",
    "\n",
    "---\n",
    "\n",
    "## 📦 7. Introduction to Tuples\n",
    "\n",
    "### What is a Tuple?\n",
    "\n",
    "**Tuple** is an **ordered** and **immutable** (unchangeable) collection of items.\n",
    "**튜플**은 **순서가 있고** **변경 불가능한**(불변) 항목들의 모음입니다.\n",
    "\n",
    "Think of a tuple as a **\"locked box\"** - you can see what's inside but can't change it.\n",
    "튜플을 **\"잠긴 상자\"**라고 생각해보세요.\n",
    "\n",
    "### Creating Tuples"
   ]
  },
  {
   "cell_type": "code",
   "execution_count": null,
   "id": "921979b6",
   "metadata": {},
   "outputs": [],
   "source": [
    "# Method 1: Using parentheses\n",
    "coordinates = (10, 20)\n",
    "colors = (\"red\", \"green\", \"blue\")\n",
    "\n",
    "# Method 2: Without parentheses\n",
    "point = 5, 10\n",
    "person = \"Alice\", 25, \"Engineer\"\n",
    "\n",
    "# Method 3: Using tuple() function\n",
    "numbers = tuple([1, 2, 3, 4])\n",
    "\n",
    "# Special case: Single item tuple\n",
    "single = (42,)  # Note the comma!"
   ]
  },
  {
   "cell_type": "markdown",
   "id": "588fb772",
   "metadata": {},
   "source": [
    "### Tuple Characteristics\n",
    "\n",
    "#### 1. Immutability"
   ]
  },
  {
   "cell_type": "code",
   "execution_count": null,
   "id": "6d83c369",
   "metadata": {},
   "outputs": [],
   "source": [
    "point = (10, 20)\n",
    "# point[0] = 15  # This would cause an error!\n",
    "print(\"Tuples cannot be changed\")"
   ]
  },
  {
   "cell_type": "markdown",
   "id": "2bc7ed08",
   "metadata": {},
   "source": [
    "#### 2. Order Preservation"
   ]
  },
  {
   "cell_type": "code",
   "execution_count": null,
   "id": "01e58d11",
   "metadata": {},
   "outputs": [],
   "source": [
    "coordinates = (10, 20)\n",
    "print(coordinates[0])  # 10 (first element)\n",
    "print(coordinates[1])  # 20 (second element)"
   ]
  },
  {
   "cell_type": "markdown",
   "id": "5a63e940",
   "metadata": {},
   "source": [
    "#### 3. Allow Duplicates"
   ]
  },
  {
   "cell_type": "code",
   "execution_count": null,
   "id": "93d6cd89",
   "metadata": {},
   "outputs": [],
   "source": [
    "numbers = (1, 2, 2, 3, 2)\n",
    "print(numbers.count(2))  # 3 (appears 3 times)"
   ]
  },
  {
   "cell_type": "markdown",
   "id": "258629ba",
   "metadata": {},
   "source": [
    "### Common Tuple Operations"
   ]
  },
  {
   "cell_type": "code",
   "execution_count": null,
   "id": "ab1aedb5",
   "metadata": {},
   "outputs": [],
   "source": [
    "# Create tuple\n",
    "rgb_color = (255, 128, 0)\n",
    "\n",
    "# Access elements\n",
    "red = rgb_color[0]\n",
    "green = rgb_color[1]\n",
    "blue = rgb_color[2]\n",
    "\n",
    "# Get length\n",
    "print(len(rgb_color))  # 3\n",
    "\n",
    "# Check if item exists\n",
    "print(255 in rgb_color)  # True\n",
    "\n",
    "# Iterate through tuple\n",
    "for value in rgb_color:\n",
    "    print(f\"Color value: {value}\")"
   ]
  },
  {
   "cell_type": "markdown",
   "id": "46ce1700",
   "metadata": {},
   "source": [
    "### Tuple Unpacking\n",
    "\n",
    "**Tuple Unpacking** allows you to assign tuple values to multiple variables at once:\n",
    "**튜플 언패킹**을 사용하면 튜플 값을 여러 변수에 한 번에 할당할 수 있습니다:"
   ]
  },
  {
   "cell_type": "code",
   "execution_count": null,
   "id": "6ab135c3",
   "metadata": {},
   "outputs": [],
   "source": [
    "# Example 1: Coordinates\n",
    "point = (10, 20)\n",
    "x, y = point  # Unpacking\n",
    "print(f\"X: {x}, Y: {y}\")  # X: 10, Y: 20\n",
    "\n",
    "# Example 2: Personal information\n",
    "person = (\"Alice\", 25, \"Engineer\")\n",
    "name, age, job = person\n",
    "print(f\"Name: {name}, Age: {age}, Job: {job}\")\n",
    "\n",
    "# Example 3: Variable swapping\n",
    "a = 5\n",
    "b = 10\n",
    "a, b = b, a  # Swap values!\n",
    "print(f\"a: {a}, b: {b}\")  # a: 10, b: 5"
   ]
  },
  {
   "cell_type": "markdown",
   "id": "440afb68",
   "metadata": {},
   "source": [
    "---\n",
    "\n",
    "## ⚖️ 8. Lists vs Tuples Comparison\n",
    "\n",
    "### Side-by-Side Comparison\n",
    "\n",
    "| Feature | List | Tuple |\n",
    "|---------|------|-------|\n",
    "| **Mutability** | Mutable | Immutable |\n",
    "| **Syntax** | `[1, 2, 3]` | `(1, 2, 3)` |\n",
    "| **Performance** | Slower | Faster |\n",
    "| **Use Case** | Changing data | Fixed data |\n",
    "| **Methods** | Many (append, remove, etc.) | Few (count, index) |\n",
    "\n",
    "### When to Use Lists?\n",
    "\n",
    "**Use lists when:**\n",
    "**리스트를 사용하는 경우:**\n",
    "\n",
    "- You need to **add or remove** items\n",
    "항목을 **추가하거나 제거**해야 할 때\n",
    "- Data **changes over time**\n",
    "시간이 지나면서 **데이터가 변할** 때\n",
    "- You need **many built-in methods**\n",
    "**많은 내장 메소드**가 필요할 때"
   ]
  },
  {
   "cell_type": "code",
   "execution_count": null,
   "id": "0676ef5b",
   "metadata": {},
   "outputs": [],
   "source": [
    "# Good use cases for lists:\n",
    "shopping_cart = [\"apple\", \"banana\"]  # Can add/remove items\n",
    "shopping_cart.append(\"orange\")\n",
    "\n",
    "student_grades = [85, 90, 78]       # Grades can change\n",
    "student_grades.append(92)"
   ]
  },
  {
   "cell_type": "markdown",
   "id": "69ee732d",
   "metadata": {},
   "source": [
    "### When to Use Tuples?\n",
    "\n",
    "**Use tuples when:**\n",
    "**튜플을 사용하는 경우:**\n",
    "\n",
    "- Data **should not change**\n",
    "데이터가 **변경되어서는 안 될** 때\n",
    "- You need **better performance**\n",
    "**더 나은 성능**이 필요할 때\n",
    "- You want to **group related data**\n",
    "**관련 데이터를 그룹화**하고 싶을 때"
   ]
  },
  {
   "cell_type": "code",
   "execution_count": null,
   "id": "8201f256",
   "metadata": {},
   "outputs": [],
   "source": [
    "# Good use cases for tuples:\n",
    "rgb_color = (255, 128, 0)          # Color values don't change\n",
    "coordinates = (10.5, 20.3)         # Coordinates are fixed\n",
    "person_info = (\"Alice\", 25, \"Engineer\")  # Basic info stays same"
   ]
  },
  {
   "cell_type": "markdown",
   "id": "642ded4d",
   "metadata": {},
   "source": [
    "### Real-life Analogy\n",
    "\n",
    "Think of **lists** like a **shopping cart** - you can add items, remove items, and change quantities.\n",
    "**리스트**를 **쇼핑 카트**처럼 생각해보세요.\n",
    "\n",
    "Think of **tuples** like a **birth certificate** - the information is fixed and should never be changed.\n",
    "**튜플**을 **출생증명서**처럼 생각해보세요.\n",
    "\n",
    "---\n",
    "\n",
    "## 🔧 Practice Problems\n",
    "\n",
    "### Practice 1: Student Grade Management System\n",
    "\n",
    "**Problem**: Create a basic student grade management system that can store, add, and analyze grades.\n",
    "**문제**: 학생 성적을 저장, 추가, 분석할 수 있는 기본적인 학생 성적 관리 시스템을 만드세요.\n",
    "\n",
    "**Requirements**:\n",
    "**요구사항**:\n",
    "\n",
    "- Start with empty grade list\n",
    "- Add 5 grades to the list\n",
    "- Calculate and display average, highest, and lowest grades\n",
    "- Show all grades with their positions\n",
    "- Count grades above 90\n",
    "\n",
    "**Solution**:\n",
    "**정답**:"
   ]
  },
  {
   "cell_type": "code",
   "execution_count": null,
   "id": "fd759bb2",
   "metadata": {},
   "outputs": [],
   "source": [
    "# Student Grade Management System\n",
    "print(\"=== Student Grade Management System ===\")\n",
    "\n",
    "# Initialize empty grade list\n",
    "grades = []\n",
    "\n",
    "# Add grades\n",
    "grades.append(85)\n",
    "grades.append(92)\n",
    "grades.append(78)\n",
    "grades.append(96)\n",
    "grades.append(88)\n",
    "\n",
    "print(f\"Grades: {grades}\")\n",
    "\n",
    "# Show all grades with positions\n",
    "print(\"\\nAll grades:\")\n",
    "for i in range(len(grades)):\n",
    "    print(f\"Student {i+1}: {grades[i]} points\")\n",
    "\n",
    "# Calculate statistics\n",
    "total = sum(grades)\n",
    "average = total / len(grades)\n",
    "highest = max(grades)\n",
    "lowest = min(grades)\n",
    "\n",
    "# Count grades 90 and above\n",
    "excellent_count = 0\n",
    "for grade in grades:\n",
    "    if grade >= 90:\n",
    "        excellent_count += 1\n",
    "\n",
    "print(f\"\\n=== Statistics ===\")\n",
    "print(f\"Total students: {len(grades)}\")\n",
    "print(f\"Average grade: {average:.1f}\")\n",
    "print(f\"Highest grade: {highest}\")\n",
    "print(f\"Lowest grade: {lowest}\")\n",
    "print(f\"Students with 90+: {excellent_count}\")"
   ]
  },
  {
   "cell_type": "markdown",
   "id": "1c65e50b",
   "metadata": {},
   "source": [
    "### Practice 2: Fruit Store Inventory Management\n",
    "\n",
    "**Problem**: Create a simple program to manage fruit store inventory.\n",
    "**문제**: 과일 가게의 재고를 관리하는 간단한 프로그램을 만드세요.\n",
    "\n",
    "**Requirements**:\n",
    "**요구사항**:\n",
    "\n",
    "- Create list of fruit names\n",
    "- Add new fruits\n",
    "- Search for specific fruits\n",
    "- Check fruit count\n",
    "\n",
    "**Solution**:\n",
    "**정답**:"
   ]
  },
  {
   "cell_type": "code",
   "execution_count": null,
   "id": "e292c652",
   "metadata": {},
   "outputs": [],
   "source": [
    "# Fruit Store Inventory Management\n",
    "print(\"=== Fruit Store Inventory Management ===\")\n",
    "\n",
    "# Initial fruit list\n",
    "fruits = [\"apple\", \"banana\", \"orange\"]\n",
    "\n",
    "print(\"Current inventory:\")\n",
    "for i in range(len(fruits)):\n",
    "    print(f\"{i+1}. {fruits[i]}\")\n",
    "\n",
    "# Add new fruits\n",
    "fruits.append(\"strawberry\")\n",
    "fruits.append(\"grape\")\n",
    "\n",
    "print(f\"\\nAfter adding fruits: {fruits}\")\n",
    "\n",
    "# Search for specific fruit\n",
    "search_fruit = \"banana\"\n",
    "if search_fruit in fruits:\n",
    "    print(f\"\\n'{search_fruit}' is in stock!\")\n",
    "    position = fruits.index(search_fruit)\n",
    "    print(f\"Position: {position + 1}\")\n",
    "else:\n",
    "    print(f\"\\n'{search_fruit}' is not in stock.\")\n",
    "\n",
    "# Inventory status\n",
    "print(f\"\\nTotal fruit types: {len(fruits)}\")\n",
    "print(\"Complete inventory list:\")\n",
    "for fruit in fruits:\n",
    "    print(f\"- {fruit}\")"
   ]
  },
  {
   "cell_type": "markdown",
   "id": "f48e0d1a",
   "metadata": {},
   "source": [
    "### Practice 3: Student Information Management (Tuple Practice)\n",
    "\n",
    "**Problem**: Create a program to manage student basic information using tuples.\n",
    "**문제**: 튜플을 사용하여 학생들의 기본 정보를 관리하는 프로그램을 만드세요.\n",
    "\n",
    "**Requirements**:\n",
    "**요구사항**:\n",
    "\n",
    "- Store student info as tuples (name, age, major)\n",
    "- Use tuple unpacking to display information\n",
    "- Find students in specific major\n",
    "- Calculate average age\n",
    "\n",
    "**Solution**:\n",
    "**정답**:"
   ]
  },
  {
   "cell_type": "code",
   "execution_count": null,
   "id": "6c481a15",
   "metadata": {},
   "outputs": [],
   "source": [
    "# Student Information Management (Using Tuples)\n",
    "print(\"=== Student Information Management System ===\")\n",
    "\n",
    "# Store students' info as tuples\n",
    "students = [\n",
    "    (\"John Smith\", 20, \"Computer Science\"),\n",
    "    (\"Alice Johnson\", 19, \"Business\"),\n",
    "    (\"Mike Brown\", 21, \"Computer Science\"),\n",
    "    (\"Sarah Wilson\", 20, \"Design\")\n",
    "]\n",
    "\n",
    "# Display all student information (using tuple unpacking)\n",
    "print(\"Complete student list:\")\n",
    "for i, student_info in enumerate(students, 1):\n",
    "    name, age, major = student_info  # Tuple unpacking\n",
    "    print(f\"{i}. {name} - {age} years old, {major}\")\n",
    "\n",
    "# Find students in specific major\n",
    "target_major = \"Computer Science\"\n",
    "print(f\"\\n{target_major} students:\")\n",
    "cs_students = []\n",
    "\n",
    "for student in students:\n",
    "    name, age, major = student\n",
    "    if major == target_major:\n",
    "        cs_students.append(name)\n",
    "\n",
    "print(f\"{target_major}: {cs_students}\")\n",
    "\n",
    "# Calculate average age\n",
    "total_age = 0\n",
    "for student in students:\n",
    "    name, age, major = student\n",
    "    total_age += age\n",
    "\n",
    "average_age = total_age / len(students)\n",
    "print(f\"\\nAverage student age: {average_age:.1f} years\")\n",
    "\n",
    "# Find youngest and oldest students\n",
    "ages = []\n",
    "for student in students:\n",
    "    name, age, major = student\n",
    "    ages.append(age)\n",
    "\n",
    "youngest_age = min(ages)\n",
    "oldest_age = max(ages)\n",
    "\n",
    "print(f\"Youngest student age: {youngest_age} years\")\n",
    "print(f\"Oldest student age: {oldest_age} years\")"
   ]
  },
  {
   "cell_type": "markdown",
   "id": "30257eab",
   "metadata": {},
   "source": [
    "---\n",
    "\n",
    "## 📝 Quiz\n",
    "\n",
    "### Quiz 1: List Comprehension Challenge\n",
    "\n",
    "**Problem**: Write a list comprehension that creates a new list containing the squares of all even numbers from 1 to 20.\n",
    "**문제**: 1부터 20까지의 모든 짝수의 제곱을 포함하는 새 리스트를 만드는 리스트 컴프리헨션을 작성하세요.\n",
    "\n",
    "**Requirements**:\n",
    "**요구사항**:\n",
    "\n",
    "- Use single list comprehension\n",
    "- Include only even numbers\n",
    "- Calculate square of each even number\n",
    "- Result should be: [4, 16, 36, 64, 100, 144, 196, 256, 324, 400]\n",
    "\n",
    "**Write your answer here**:\n",
    "**답을 여기에 작성하세요**:"
   ]
  },
  {
   "cell_type": "code",
   "execution_count": null,
   "id": "74c12625",
   "metadata": {},
   "outputs": [],
   "source": [
    "# Write your list comprehension here\n",
    "even_squares = ____________________________\n",
    "print(even_squares)"
   ]
  },
  {
   "cell_type": "markdown",
   "id": "43b5cbea",
   "metadata": {},
   "source": [
    "### Quiz 2: Tuple vs List Analysis\n",
    "\n",
    "**Problem**: Explain at least 3 differences between tuple `(10, 20, 30)` and list `[10, 20, 30]`. Provide code examples showing each difference.\n",
    "**문제**: 튜플 `(10, 20, 30)`과 리스트 `[10, 20, 30]`의 차이점을 최소 3가지 설명하세요. 각 차이점에 대해 차이를 보여주는 코드 예시를 제공하세요.\n",
    "\n",
    "**Fill in your answers**:\n",
    "**답을 채우세요**:\n",
    "\n",
    "**Difference 1**: _________________________________"
   ]
  },
  {
   "cell_type": "code",
   "execution_count": null,
   "id": "ed1e7180",
   "metadata": {},
   "outputs": [],
   "source": [
    "# Code example showing the difference:\n",
    "tuple_example = (10, 20, 30)\n",
    "list_example = [10, 20, 30]\n",
    "\n",
    "# Write your code here:\n"
   ]
  },
  {
   "cell_type": "markdown",
   "id": "6ae42830",
   "metadata": {},
   "source": [
    "**Difference 2**: _________________________________"
   ]
  },
  {
   "cell_type": "code",
   "execution_count": null,
   "id": "abd0e0a9",
   "metadata": {},
   "outputs": [],
   "source": [
    "# Code example showing the difference:\n",
    "tuple_example = (10, 20, 30)\n",
    "list_example = [10, 20, 30]\n",
    "\n",
    "# Write your code here:\n"
   ]
  },
  {
   "cell_type": "markdown",
   "id": "df781ad1",
   "metadata": {},
   "source": [
    "**Difference 3**: _________________________________"
   ]
  },
  {
   "cell_type": "code",
   "execution_count": null,
   "id": "1cfd4d4c",
   "metadata": {},
   "outputs": [],
   "source": [
    "# Code example showing the difference:\n",
    "tuple_example = (10, 20, 30)\n",
    "list_example = [10, 20, 30]\n",
    "\n",
    "# Write your code here:\n"
   ]
  },
  {
   "cell_type": "markdown",
   "id": "d6dda12b",
   "metadata": {},
   "source": [
    "### Quiz 3: Student Data Management\n",
    "\n",
    "**Problem**: You have a list of student tuples, where each tuple contains (name, age, math_score, science_score). Write a program that:\n",
    "**문제**: 각 튜플이 (이름, 나이, 수학점수, 과학점수)를 포함하는 학생 튜플의 리스트가 있습니다. 다음을 수행하는 프로그램을 작성하세요:\n",
    "\n",
    "1. Sort students by average score (highest first)\n",
    "2. Create list of students with average score >= 85\n",
    "3. Find student with highest math score\n",
    "\n",
    "**Given data**:\n",
    "**주어진 데이터**:"
   ]
  },
  {
   "cell_type": "code",
   "execution_count": null,
   "id": "da0e2137",
   "metadata": {},
   "outputs": [],
   "source": [
    "students = [\n",
    "    (\"Alice\", 20, 88, 92),\n",
    "    (\"Bob\", 19, 95, 87),\n",
    "    (\"Charlie\", 21, 78, 85),\n",
    "    (\"Diana\", 20, 91, 89),\n",
    "    (\"Eve\", 19, 82, 94)\n",
    "]"
   ]
  },
  {
   "cell_type": "markdown",
   "id": "2ccd70f7",
   "metadata": {},
   "source": [
    "**Write your solution here**:\n",
    "**해답을 여기에 작성하세요**:"
   ]
  },
  {
   "cell_type": "code",
   "execution_count": null,
   "id": "4d6ee32e",
   "metadata": {},
   "outputs": [],
   "source": [
    "students = [\n",
    "    (\"Alice\", 20, 88, 92),\n",
    "    (\"Bob\", 19, 95, 87),\n",
    "    (\"Charlie\", 21, 78, 85),\n",
    "    (\"Diana\", 20, 91, 89),\n",
    "    (\"Eve\", 19, 82, 94)\n",
    "]\n",
    "\n",
    "# 1. Sort students by average score (highest first)\n",
    "# Write your code here:\n",
    "\n",
    "# 2. Create list of students with average score >= 85\n",
    "# Write your code here:\n",
    "\n",
    "# 3. Find student with highest math score\n",
    "# Write your code here:\n"
   ]
  },
  {
   "cell_type": "markdown",
   "id": "9f923afd",
   "metadata": {},
   "source": [
    "---\n",
    "\n",
    "## 📖 References\n",
    "\n",
    "1. **Python Official Documentation - Lists**: https://docs.python.org/3/tutorial/datastructures.html#more-on-lists\n",
    "   - Comprehensive guide to Python lists\n",
    "   파이썬 리스트에 대한 종합 가이드\n",
    "\n",
    "2. **Python Official Documentation - List Comprehensions**: https://docs.python.org/3/tutorial/datastructures.html#list-comprehensions\n",
    "   - Official guide to list comprehensions\n",
    "   리스트 컴프리헨션 공식 가이드\n",
    "\n",
    "3. **Python Official Documentation - Tuples**: https://docs.python.org/3/tutorial/datastructures.html#tuples-and-sequences\n",
    "   - Complete guide to tuples and sequences\n",
    "   튜플과 시퀀스에 대한 완전한 가이드\n",
    "\n",
    "4. **Real Python - Lists and Tuples**: https://realpython.com/python-lists-tuples/\n",
    "   - Practical examples and advanced usage\n",
    "   실용적인 예제와 고급 사용법\n",
    "\n",
    "5. **Python Sorting Guide**: https://docs.python.org/3/howto/sorting.html\n",
    "   - Guide to sorting lists and other sequences\n",
    "   리스트와 다른 시퀀스 정렬 가이드\n",
    "\n",
    "---\n",
    "\n",
    "## 💡 Additional Tips for Success\n",
    "\n",
    "### Best Practices\n",
    "\n",
    "모범 사례\n",
    "- **Choose the right data structure**: Use lists for changing data, tuples for fixed data\n",
    "올바른 데이터 구조 선택: 변하는 데이터는 리스트, 고정 데이터는 튜플\n",
    "- **Keep list comprehensions readable**: Use regular loops if too complex\n",
    "리스트 컴프리헨션을 읽기 쉽게 유지: 너무 복잡하면 일반 반복문 사용\n",
    "- **Use tuple unpacking**: Makes code cleaner and more readable\n",
    "튜플 언패킹 사용: 코드가 더 깔끔하고 읽기 쉬워짐\n",
    "\n",
    "### Common Mistakes to Avoid\n",
    "\n",
    "피해야 할 일반적인 실수\n",
    "- **Trying to modify tuples**: Remember they are immutable\n",
    "튜플 수정 시도: 불변이라는 것을 기억\n",
    "- **Overusing list comprehensions**: Sometimes regular loops are clearer\n",
    "리스트 컴프리헨션 남용: 때로는 일반 반복문이 더 명확\n",
    "- **Missing comma in single-item tuple**: Use `(42,)` not `(42)`\n",
    "단일 항목 튜플에서 쉼표 누락: `(42)`가 아닌 `(42,)`\n",
    "\n",
    "### Performance Tips\n",
    "\n",
    "성능 팁\n",
    "- **Tuples are faster than lists for read-only operations**\n",
    "읽기 전용 작업에는 튜플이 리스트보다 빠름\n",
    "- **List comprehensions are faster than loops for simple operations**\n",
    "간단한 연산에는 리스트 컴프리헨션이 반복문보다 빠름\n",
    "- **Use enumerate() and zip() instead of manual indexing**\n",
    "수동 인덱싱 대신 enumerate()와 zip() 사용\n",
    "\n",
    "---\n",
    "\n",
    "## 📋 Homework\n",
    "\n",
    "1. **Practice**: Complete all practice problems and experiment with variations\n",
    "연습: 모든 실습 문제를 완료하고 수정 사항 실험해보기\n",
    "2. **Experiment**: Create your own list comprehensions with different conditions\n",
    "실험: 다양한 조건으로 자신만의 리스트 컴프리헨션 만들기\n",
    "3. **Explore**: Build a program that uses both lists and tuples for storing related data\n",
    "탐색: 관련 데이터를 저장하기 위해 리스트와 튜플을 모두 사용하는 프로그램 만들기\n",
    "4. **Challenge**: Build a coordinate system that can perform operations like rotating or scaling points\n",
    "도전: 점의 회전이나 크기 조정과 같은 연산을 수행할 수 있는 좌표 시스템 구축\n",
    "\n",
    "**Congratulations on mastering lists and tuples!** 🌟\n",
    "**리스트와 튜플 마스터하기 수고하셨습니다!**"
   ]
  }
 ],
 "metadata": {
  "jupytext": {
   "cell_metadata_filter": "-all",
   "main_language": "python",
   "notebook_metadata_filter": "-all"
  }
 },
 "nbformat": 4,
 "nbformat_minor": 5
}
