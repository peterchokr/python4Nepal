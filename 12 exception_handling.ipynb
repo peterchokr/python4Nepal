{
 "cells": [
  {
   "cell_type": "markdown",
   "id": "f30e28f9",
   "metadata": {},
   "source": [
    "# Python Exception Handling\n",
    "\n",
    "**Class Duration**: 3 hours  \n",
    "**Structure**: Lecture & Practice 2 hours + Quiz 1 hour  \n",
    "**Level**: Intermediate\n",
    "\n",
    "---\n",
    "\n",
    "## Learning Objectives\n",
    "\n",
    "After completing this lesson, students will be able to:  \n",
    "이 수업을 마친 후 학생들은 다음을 할 수 있습니다:\n",
    "\n",
    "- Understand what exceptions are and why they occur  \n",
    "예외(Exception)가 무엇이고 왜 발생하는지 이해하기\n",
    "- Use try-except statements to handle errors gracefully  \n",
    "try-except 구문을 사용하여 오류를 우아하게 처리하기\n",
    "- Handle multiple types of exceptions in one program  \n",
    "하나의 프로그램에서 여러 유형의 예외 처리하기\n",
    "- Use finally statements for cleanup operations  \n",
    "정리 작업을 위한 finally 구문 사용하기\n",
    "- Create robust programs that don't crash from unexpected errors  \n",
    "예상치 못한 오류로 인해 충돌하지 않는 견고한 프로그램 생성하기\n",
    "\n",
    "---\n",
    "\n",
    "## 1. What is an Exception?\n",
    "\n",
    "### Understanding Exceptions\n",
    "\n",
    "An **Exception** is an error that occurs during program execution.  \n",
    "**예외(Exception)**는 프로그램 실행 중 발생하는 오류입니다.\n",
    "\n",
    "Think of exceptions like **roadblocks** on a highway - they prevent your program from continuing normally.  \n",
    "예외를 고속도로의 **장애물**처럼 생각해보세요 - 프로그램이 정상적으로 계속 진행되는 것을 막습니다.\n",
    "\n",
    "### Common Exception Types\n",
    "\n",
    "#### 1. ZeroDivisionError"
   ]
  },
  {
   "cell_type": "code",
   "execution_count": null,
   "id": "02a6f803",
   "metadata": {},
   "outputs": [],
   "source": [
    "# This will cause an error\n",
    "number = 10\n",
    "result = number / 0  # Cannot divide by zero!"
   ]
  },
  {
   "cell_type": "markdown",
   "id": "ee7a0c61",
   "metadata": {},
   "source": [
    "#### 2. ValueError"
   ]
  },
  {
   "cell_type": "code",
   "execution_count": null,
   "id": "6063f5cb",
   "metadata": {},
   "outputs": [],
   "source": [
    "# This will cause an error\n",
    "age = int(\"hello\")  # Cannot convert \"hello\" to integer"
   ]
  },
  {
   "cell_type": "markdown",
   "id": "520c0eb9",
   "metadata": {},
   "source": [
    "#### 3. FileNotFoundError"
   ]
  },
  {
   "cell_type": "code",
   "execution_count": null,
   "id": "a48ccbde",
   "metadata": {},
   "outputs": [],
   "source": [
    "# This will cause an error if file doesn't exist\n",
    "file = open(\"nonexistent_file.txt\", \"r\")"
   ]
  },
  {
   "cell_type": "markdown",
   "id": "a2f353b2",
   "metadata": {},
   "source": [
    "#### 4. TypeError"
   ]
  },
  {
   "cell_type": "code",
   "execution_count": null,
   "id": "7c2f6015",
   "metadata": {},
   "outputs": [],
   "source": [
    "# This will cause an error\n",
    "result = \"hello\" + 5  # Cannot add string and number"
   ]
  },
  {
   "cell_type": "markdown",
   "id": "1f48b825",
   "metadata": {},
   "source": [
    "### What Happens Without Exception Handling?\n",
    "\n",
    "Without proper handling, exceptions **crash** your program:  \n",
    "적절한 처리 없이는 예외가 프로그램을 **충돌**시킵니다:"
   ]
  },
  {
   "cell_type": "code",
   "execution_count": null,
   "id": "2ebfb9a0",
   "metadata": {},
   "outputs": [],
   "source": [
    "print(\"Program started\")\n",
    "result = 10 / 0  # Program crashes here\n",
    "print(\"This line is never reached\")  # Never reached"
   ]
  },
  {
   "cell_type": "markdown",
   "id": "2462ab19",
   "metadata": {},
   "source": [
    "### Real-Life Analogy\n",
    "\n",
    "Exception handling is like **safety equipment** in a car:  \n",
    "예외 처리는 자동차의 **안전 장치**와 같습니다:\n",
    "\n",
    "- **Airbags**: Protection when things go wrong  \n",
    "**에어백**: 문제가 발생했을 때 보호\n",
    "- **Seatbelt**: Stay safe in unexpected situations  \n",
    "**안전벨트**: 예상치 못한 상황에서 안전 유지\n",
    "- **Exception Handling**: Keep program running even when errors occur  \n",
    "**예외 처리**: 오류가 발생해도 프로그램이 계속 실행되도록 유지\n",
    "\n",
    "---\n",
    "\n",
    "## 2. try-except Statements\n",
    "\n",
    "### Basic Structure"
   ]
  },
  {
   "cell_type": "code",
   "execution_count": null,
   "id": "a389128e",
   "metadata": {},
   "outputs": [],
   "source": [
    "try:\n",
    "    # Code that might cause an error\n",
    "    risky_code()\n",
    "except ExceptionType:\n",
    "    # Code to handle the error\n",
    "    handle_error()"
   ]
  },
  {
   "cell_type": "markdown",
   "id": "4284a5de",
   "metadata": {},
   "source": [
    "### Simple Example"
   ]
  },
  {
   "cell_type": "code",
   "execution_count": null,
   "id": "b6d511b8",
   "metadata": {},
   "outputs": [],
   "source": [
    "try:\n",
    "    number = int(input(\"Enter a number: \"))\n",
    "    result = 10 / number\n",
    "    print(f\"Result: {result}\")\n",
    "except ZeroDivisionError:\n",
    "    print(\"Error: Cannot divide by zero!\")\n",
    "except ValueError:\n",
    "    print(\"Error: Please enter a valid number!\")"
   ]
  },
  {
   "cell_type": "markdown",
   "id": "69dccbb4",
   "metadata": {},
   "source": [
    "### Step-by-Step Analysis\n",
    "\n",
    "#### Step 1: Basic Division with Error Handling"
   ]
  },
  {
   "cell_type": "code",
   "execution_count": null,
   "id": "bcaa661a",
   "metadata": {},
   "outputs": [],
   "source": [
    "def safe_division(a, b):\n",
    "    try:\n",
    "        result = a / b\n",
    "        return result\n",
    "    except ZeroDivisionError:\n",
    "        print(\"Cannot divide by zero\")\n",
    "        return None\n",
    "\n",
    "# Test the function\n",
    "print(safe_division(10, 2))  # Works normally: 5.0\n",
    "print(safe_division(10, 0))  # Handles error gracefully"
   ]
  },
  {
   "cell_type": "markdown",
   "id": "a7440063",
   "metadata": {},
   "source": [
    "#### Step 2: Input Validation"
   ]
  },
  {
   "cell_type": "code",
   "execution_count": null,
   "id": "d570b6be",
   "metadata": {},
   "outputs": [],
   "source": [
    "def get_valid_number():\n",
    "    try:\n",
    "        user_input = input(\"Enter a number: \")\n",
    "        number = float(user_input)\n",
    "        return number\n",
    "    except ValueError:\n",
    "        print(\"Invalid number!\")\n",
    "        return None\n",
    "\n",
    "# Test the function\n",
    "result = get_valid_number()\n",
    "if result is not None:\n",
    "    print(f\"You entered: {result}\")"
   ]
  },
  {
   "cell_type": "markdown",
   "id": "5733597e",
   "metadata": {},
   "source": [
    "#### Step 3: File Operations\n",
    "\n",
    "**First, create a sample.txt file with the following content:**  \n",
    "**먼저 다음과 같이 sample.txt 파일을 만들어 보세요:**\n",
    "\n",
    "```\n",
    "Hello World!\n",
    "Learning Python exception handling.\n",
    "```"
   ]
  },
  {
   "cell_type": "code",
   "execution_count": null,
   "id": "19c88398",
   "metadata": {},
   "outputs": [],
   "source": [
    "def read_file_safely(filename):\n",
    "    try:\n",
    "        with open(filename, \"r\", encoding=\"utf-8\") as file:\n",
    "            content = file.read()\n",
    "            return content\n",
    "    except FileNotFoundError:\n",
    "        print(f\"File '{filename}' not found!\")\n",
    "        return None\n",
    "\n",
    "# Test the function\n",
    "content = read_file_safely(\"sample.txt\")\n",
    "if content:\n",
    "    print(\"File content:\", content)"
   ]
  },
  {
   "cell_type": "markdown",
   "id": "fd11e070",
   "metadata": {},
   "source": [
    "---\n",
    "\n",
    "## 3. Multiple Exception Handling\n",
    "\n",
    "### Handling Different Error Types"
   ]
  },
  {
   "cell_type": "code",
   "execution_count": null,
   "id": "b541dc32",
   "metadata": {},
   "outputs": [],
   "source": [
    "def safe_process(data_list, index):\n",
    "    try:\n",
    "        value = data_list[index]\n",
    "        number = int(value)\n",
    "        result = 100 / number\n",
    "        return result\n",
    "      \n",
    "    except IndexError:\n",
    "        print(\"Error: Index out of range\")\n",
    "        return None\n",
    "    except ValueError:\n",
    "        print(\"Error: Cannot convert to number\")\n",
    "        return None\n",
    "    except ZeroDivisionError:\n",
    "        print(\"Error: Division by zero\")\n",
    "        return None\n",
    "\n",
    "# Test with different scenarios\n",
    "data = [\"10\", \"0\", \"hello\"]\n",
    "print(safe_process(data, 0))  # Works: 10.0\n",
    "print(safe_process(data, 1))  # ZeroDivisionError\n",
    "print(safe_process(data, 2))  # ValueError"
   ]
  },
  {
   "cell_type": "markdown",
   "id": "602dd906",
   "metadata": {},
   "source": [
    "### Catching Multiple Exceptions at Once"
   ]
  },
  {
   "cell_type": "code",
   "execution_count": null,
   "id": "9927d306",
   "metadata": {},
   "outputs": [],
   "source": [
    "def safe_operation(a, b):\n",
    "    try:\n",
    "        result = a / b\n",
    "        return result\n",
    "    except (TypeError, ValueError, ZeroDivisionError) as e:\n",
    "        print(f\"Error: {e}\")\n",
    "        return None\n",
    "\n",
    "# Test the function\n",
    "print(safe_operation(10, 2))    # Works: 5.0\n",
    "print(safe_operation(10, 0))    # Error handling\n",
    "print(safe_operation(\"10\", 5))  # Error handling"
   ]
  },
  {
   "cell_type": "markdown",
   "id": "9e783b9b",
   "metadata": {},
   "source": [
    "---\n",
    "\n",
    "## 4. finally Statement\n",
    "\n",
    "### What is finally?\n",
    "\n",
    "The **finally** block always executes, whether an exception occurs or not.  \n",
    "**finally** 블록은 예외가 발생하든 발생하지 않든 항상 실행됩니다.\n",
    "\n",
    "It's useful for cleanup operations.  \n",
    "정리 작업에 유용합니다.\n",
    "\n",
    "### Basic finally Usage"
   ]
  },
  {
   "cell_type": "code",
   "execution_count": null,
   "id": "ca304b68",
   "metadata": {},
   "outputs": [],
   "source": [
    "def demonstrate_finally():\n",
    "    try:\n",
    "        result = 10 / 2\n",
    "        print(f\"Result: {result}\")\n",
    "        return result\n",
    "    except ZeroDivisionError:\n",
    "        print(\"An error occurred!\")\n",
    "        return None\n",
    "    finally:\n",
    "        print(\"This always runs!\")\n",
    "\n",
    "# Test the function\n",
    "demonstrate_finally()"
   ]
  },
  {
   "cell_type": "markdown",
   "id": "46fc009a",
   "metadata": {},
   "source": [
    "### Practical finally Example"
   ]
  },
  {
   "cell_type": "code",
   "execution_count": null,
   "id": "e58d0011",
   "metadata": {},
   "outputs": [],
   "source": [
    "def process_file(filename):\n",
    "    file_handle = None\n",
    "    try:\n",
    "        file_handle = open(filename, \"w\", encoding=\"utf-8\")\n",
    "        file_handle.write(\"Important data\")\n",
    "        print(\"Data saved successfully\")\n",
    "        return True\n",
    "    except Exception as e:\n",
    "        print(f\"Error: {e}\")\n",
    "        return False\n",
    "    finally:\n",
    "        if file_handle:\n",
    "            file_handle.close()\n",
    "            print(\"File closed\")\n",
    "\n",
    "# Test the function\n",
    "process_file(\"test.txt\")"
   ]
  },
  {
   "cell_type": "markdown",
   "id": "e59a1cc6",
   "metadata": {},
   "source": [
    "---\n",
    "\n",
    "## Practice Problems\n",
    "\n",
    "### Practice 1: Simple Division Calculator\n",
    "\n",
    "**Problem**: Create a program that takes two numbers from user input and performs division, handling division by zero and invalid input.  \n",
    "**문제**: 사용자로부터 두 숫자를 입력받아 나누기를 수행하되, 0으로 나누기와 잘못된 입력을 처리하세요.\n",
    "\n",
    "**Solution**:  \n",
    "**정답**:"
   ]
  },
  {
   "cell_type": "code",
   "execution_count": null,
   "id": "4394e8ca",
   "metadata": {},
   "outputs": [],
   "source": [
    "def simple_calculator():\n",
    "    \"\"\"Simple division calculator\"\"\"\n",
    "    try:\n",
    "        # Get user input\n",
    "        num1 = float(input(\"First number: \"))\n",
    "        num2 = float(input(\"Second number: \"))\n",
    "      \n",
    "        # Perform division\n",
    "        result = num1 / num2\n",
    "        print(f\"Result: {num1} ÷ {num2} = {result}\")\n",
    "      \n",
    "    except ValueError:\n",
    "        print(\"Error: Please enter valid numbers!\")\n",
    "    except ZeroDivisionError:\n",
    "        print(\"Error: Cannot divide by zero!\")\n",
    "    except Exception as e:\n",
    "        print(f\"Unexpected error: {e}\")\n",
    "\n",
    "# Test the calculator\n",
    "simple_calculator()"
   ]
  },
  {
   "cell_type": "markdown",
   "id": "5845e3e0",
   "metadata": {},
   "source": [
    "### Practice 2: Safe File Reading\n",
    "\n",
    "**Problem**: Create a function that reads a file and prints its contents, handling the case when the file doesn't exist.  \n",
    "**문제**: 파일을 읽어서 내용을 출력하되, 파일이 없는 경우를 처리하세요.\n",
    "\n",
    "**First, create a memo.txt file with the following content:**  \n",
    "**먼저 다음과 같이 memo.txt 파일을 만들어 보세요:**\n",
    "\n",
    "```\n",
    "Today's learning:\n",
    "- Exception handling basics\n",
    "- try-except statement usage\n",
    "- finally statement role\n",
    "```\n",
    "\n",
    "**Solution**:  \n",
    "**정답**:"
   ]
  },
  {
   "cell_type": "code",
   "execution_count": null,
   "id": "aafee68c",
   "metadata": {},
   "outputs": [],
   "source": [
    "def read_memo():\n",
    "    \"\"\"Safely read memo file\"\"\"\n",
    "    try:\n",
    "        with open(\"memo.txt\", \"r\", encoding=\"utf-8\") as file:\n",
    "            content = file.read()\n",
    "            print(\"Memo content:\")\n",
    "            print(content)\n",
    "    except FileNotFoundError:\n",
    "        print(\"Error: memo.txt file not found!\")\n",
    "    except Exception as e:\n",
    "        print(f\"File reading error: {e}\")\n",
    "    finally:\n",
    "        print(\"File reading operation completed\")\n",
    "\n",
    "# Test file reading\n",
    "read_memo()"
   ]
  },
  {
   "cell_type": "markdown",
   "id": "1b378267",
   "metadata": {},
   "source": [
    "### Practice 3: Number List Processing\n",
    "\n",
    "**Problem**: Extract only numbers from a string list and calculate their sum, skipping values that cannot be converted.  \n",
    "**문제**: 문자열 리스트에서 숫자만 추출하여 합계를 구하되, 변환할 수 없는 값은 건너뛰세요.\n",
    "\n",
    "**Solution**:  \n",
    "**정답**:"
   ]
  },
  {
   "cell_type": "code",
   "execution_count": null,
   "id": "3f206ca4",
   "metadata": {},
   "outputs": [],
   "source": [
    "def calculate_sum():\n",
    "    \"\"\"Calculate sum from string list with numbers\"\"\"\n",
    "    string_list = [\"10\", \"20\", \"abc\", \"30\", \"xyz\", \"40\"]\n",
    "    total = 0\n",
    "    valid_count = 0\n",
    "  \n",
    "    print(\"Processing list...\")\n",
    "    for item in string_list:\n",
    "        try:\n",
    "            number = int(item)\n",
    "            total += number\n",
    "            valid_count += 1\n",
    "            print(f\"'{item}' → {number} (success)\")\n",
    "        except ValueError:\n",
    "            print(f\"'{item}' → not a number (skipped)\")\n",
    "  \n",
    "    print(f\"\\nResults:\")\n",
    "    print(f\"Valid numbers: {valid_count}\")\n",
    "    print(f\"Total sum: {total}\")\n",
    "\n",
    "# Test list processing\n",
    "calculate_sum()"
   ]
  },
  {
   "cell_type": "markdown",
   "id": "7188f39a",
   "metadata": {},
   "source": [
    "---\n",
    "\n",
    "## Quiz\n",
    "\n",
    "### Quiz 1: Division by Zero Handling\n",
    "\n",
    "**Problem**: Use try-except to handle division by zero and print an error message. Create a `safe_divide(a, b)` function that:  \n",
    "**문제**: try-except를 사용하여 0으로 나누기를 처리하고 오류 메시지를 출력하세요. 다음을 수행하는 `safe_divide(a, b)` 함수를 만드세요:\n",
    "\n",
    "- Takes two numbers as parameters  \n",
    "두 숫자를 매개변수로 받음\n",
    "- Returns the result of a/b if successful  \n",
    "성공하면 a/b의 결과 반환\n",
    "- Prints appropriate error message and returns None if division by zero occurs  \n",
    "0으로 나누기가 발생하면 적절한 오류 메시지를 출력하고 None 반환\n",
    "- Test the function with both valid and invalid inputs  \n",
    "유효한 입력과 무효한 입력 모두로 함수 테스트\n",
    "\n",
    "**Write your answer here**:  \n",
    "**답을 여기에 작성하세요**:"
   ]
  },
  {
   "cell_type": "code",
   "execution_count": null,
   "id": "2fe07545",
   "metadata": {},
   "outputs": [],
   "source": [
    "# Write your code here\n",
    "\n",
    "\n",
    "\n"
   ]
  },
  {
   "cell_type": "markdown",
   "id": "7c833b52",
   "metadata": {},
   "source": [
    "### Quiz 2: File Error Handling\n",
    "\n",
    "**Problem**: Write code that handles the case when a file doesn't exist when trying to read it. Create a `read_file_content(filename)` function that:  \n",
    "**문제**: 파일을 읽을 때 파일이 존재하지 않는 경우를 처리하는 코드를 작성하세요. 다음을 수행하는 `read_file_content(filename)` 함수를 만드세요:\n",
    "\n",
    "- Attempts to read and return the entire file content  \n",
    "파일의 전체 내용을 읽고 반환 시도\n",
    "- Handles FileNotFoundError and prints a user-friendly message  \n",
    "FileNotFoundError를 처리하고 사용자 친화적인 메시지 출력\n",
    "- Also handles other exceptions that might occur  \n",
    "발생할 수 있는 다른 예외들도 처리\n",
    "- Always prints a message indicating the operation is complete (use finally)  \n",
    "작업이 완료되었음을 나타내는 메시지를 항상 출력 (finally 사용)\n",
    "- Test with both existing and non-existing files  \n",
    "존재하는 파일과 존재하지 않는 파일 모두로 테스트\n",
    "\n",
    "**Write your answer here**:  \n",
    "**답을 여기에 작성하세요**:"
   ]
  },
  {
   "cell_type": "code",
   "execution_count": null,
   "id": "9c66927a",
   "metadata": {},
   "outputs": [],
   "source": [
    "# Write your code here\n",
    "\n",
    "\n",
    "\n"
   ]
  },
  {
   "cell_type": "markdown",
   "id": "4a769f4e",
   "metadata": {},
   "source": [
    "### Quiz 3: Safe Input Validation\n",
    "\n",
    "**Problem**: Write a safe input function that keeps asking for input until a valid integer is entered. Create a `get_positive_integer(prompt)` function that:  \n",
    "**문제**: 잘못된 정수 입력에 대해 다시 입력을 요청하는 안전한 입력 함수를 작성하세요. 다음을 수행하는 `get_positive_integer(prompt)` 함수를 만드세요:\n",
    "\n",
    "- Takes a prompt message as parameter  \n",
    "프롬프트 메시지를 매개변수로 받음\n",
    "- Keeps asking for input until a valid positive integer is entered  \n",
    "유효한 양의 정수가 입력될 때까지 반복적으로 입력 요청\n",
    "- Handles ValueError for invalid number formats  \n",
    "잘못된 숫자 형식에 대한 ValueError 처리\n",
    "- Handles negative numbers and zero  \n",
    "음수와 0 처리\n",
    "- Allows user to quit by entering 'quit'  \n",
    "사용자가 'quit'을 입력하여 종료할 수 있도록 허용\n",
    "- Returns valid positive integer or None if user quits  \n",
    "유효한 양의 정수를 반환하거나 사용자가 종료하면 None 반환\n",
    "\n",
    "**Write your answer here**:  \n",
    "**답을 여기에 작성하세요**:"
   ]
  },
  {
   "cell_type": "code",
   "execution_count": null,
   "id": "06535c8a",
   "metadata": {},
   "outputs": [],
   "source": [
    "# Write your code here\n",
    "\n",
    "\n",
    "\n"
   ]
  },
  {
   "cell_type": "markdown",
   "id": "ebb668f7",
   "metadata": {},
   "source": [
    "---\n",
    "\n",
    "## References\n",
    "\n",
    "1. **Python Exception Handling**: https://docs.python.org/3/tutorial/errors.html  \n",
    "   - Official Python documentation on exception handling  \n",
    "     예외 처리에 대한 공식 파이썬 문서\n",
    "\n",
    "2. **Built-in Exceptions**: https://docs.python.org/3/library/exceptions.html  \n",
    "   - Complete list of Python's built-in exception types  \n",
    "     파이썬의 내장 예외 유형 완전 목록\n",
    "\n",
    "3. **Exception Handling Best Practices**: https://realpython.com/python-exceptions-handling/  \n",
    "   - Best practices and advanced techniques for exception handling  \n",
    "     예외 처리를 위한 모범 사례와 고급 기법\n",
    "\n",
    "4. **Error Handling Tutorial**: https://www.programiz.com/python-programming/exception-handling  \n",
    "   - Step-by-step tutorial with practical examples  \n",
    "     실용적인 예제가 있는 단계별 튜토리얼\n",
    "\n",
    "---\n",
    "\n",
    "## Key Points\n",
    "\n",
    "### Remember\n",
    "\n",
    "**Always handle expected errors** - Prevent program crashes  \n",
    "예상되는 오류는 항상 처리 - 프로그램 충돌 방지\n",
    "\n",
    "**Use specific exception types** - Be specific rather than catching all exceptions  \n",
    "특정 예외 유형 사용 - 모든 예외를 잡기보다는 구체적으로\n",
    "\n",
    "**finally blocks always execute** - Perfect for cleanup operations  \n",
    "finally 블록은 항상 실행 - 정리 작업에 완벽\n",
    "\n",
    "**User-friendly error messages** - Help users understand what went wrong  \n",
    "사용자 친화적인 오류 메시지 - 사용자가 문제를 이해할 수 있도록\n",
    "\n",
    "### Common Exception Types\n",
    "\n",
    "**ValueError**: Wrong value type or format  \n",
    "잘못된 값 유형 또는 형식\n",
    "\n",
    "**TypeError**: Wrong data type  \n",
    "잘못된 데이터 유형\n",
    "\n",
    "**FileNotFoundError**: File doesn't exist  \n",
    "파일이 존재하지 않음\n",
    "\n",
    "**ZeroDivisionError**: Division by zero  \n",
    "0으로 나누기\n",
    "\n",
    "**IndexError**: List index out of range  \n",
    "리스트 인덱스 범위 초과\n",
    "\n",
    "### Real-World Applications\n",
    "\n",
    "**User input validation**: Protect programs from invalid input  \n",
    "사용자 입력 검증: 잘못된 입력으로부터 프로그램 보호\n",
    "\n",
    "**File processing**: Handle missing or inaccessible files  \n",
    "파일 처리: 파일이 없거나 접근할 수 없는 상황 처리\n",
    "\n",
    "**Network communication**: Handle connection failures or timeouts  \n",
    "네트워크 통신: 연결 실패나 타임아웃 처리\n",
    "\n",
    "**Data conversion**: Handle conversion failures  \n",
    "데이터 변환: 형변환 실패 처리\n",
    "\n",
    "### Important Considerations\n",
    "\n",
    "**Don't use overly broad except clauses** - Handle specific exceptions  \n",
    "너무 광범위한 except 사용 금지 - 구체적인 예외 처리\n",
    "\n",
    "**Don't ignore exceptions** - Proper logging or handling is needed  \n",
    "예외를 무시하지 말기 - 적절한 로깅이나 처리 필요\n",
    "\n",
    "**Be careful with exceptions in finally** - Can mask original exceptions  \n",
    "finally에서 새로운 예외 발생 주의 - 원본 예외를 가릴 수 있음\n",
    "\n",
    "---\n",
    "\n",
    "## Homework\n",
    "\n",
    "1. **Practice**: Complete all practice problems and test them thoroughly  \n",
    "연습: 모든 실습 문제를 완료하고 철저히 테스트하기\n",
    "2. **Application**: Create a program that reads numbers from a file and handles all possible errors  \n",
    "응용: 파일에서 숫자를 읽고 모든 가능한 오류를 처리하는 프로그램 생성\n",
    "3. **Review**: Add exception handling to programs you wrote in previous weeks  \n",
    "복습: 이전 주에 작성한 프로그램에 예외 처리 추가해보기\n",
    "4. **Project**: Implement proper exception handling in any program that takes user input  \n",
    "프로젝트: 사용자 입력을 받는 모든 프로그램에 적절한 예외 처리 구현\n",
    "\n",
    "**Exception handling makes your programs robust and user-friendly!**  \n",
    "**예외 처리는 프로그램을 견고하고 사용자 친화적으로 만듭니다!**"
   ]
  }
 ],
 "metadata": {
  "jupytext": {
   "cell_metadata_filter": "-all",
   "main_language": "python",
   "notebook_metadata_filter": "-all"
  }
 },
 "nbformat": 4,
 "nbformat_minor": 5
}
