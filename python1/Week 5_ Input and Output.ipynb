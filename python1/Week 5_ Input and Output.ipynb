{
 "cells": [
  {
   "cell_type": "markdown",
   "id": "c04c9085",
   "metadata": {
    "lines_to_next_cell": 0
   },
   "source": [
    "# Week 5: Input and Output\n",
    "**입력과 출력**\n",
    "\n",
    "**Duration (수업 시간)**: 3 hours (3시간)  \n",
    "**Structure (구성)**: Lecture & Lab 2 hours + Quiz 1 hour (강의 및 실습 2시간 + 퀴즈 1시간)  \n",
    "**Level (수준)**: Beginner to Intermediate (초급에서 중급)  \n",
    "**Prerequisites (선수 학습)**: Variables, Data Types, Basic Operators (변수, 데이터 타입, 기본 연산자)\n",
    "\n",
    "---\n",
    "\n",
    "## 🎯 Learning Objectives (학습 목표)\n",
    "\n",
    "By the end of this lesson, students will be able to:\n",
    "이 수업을 마친 후 학생들은 다음을 할 수 있습니다:\n",
    "\n",
    "- Create interactive programs that communicate with users (사용자와 소통하는 대화형 프로그램 작성)\n",
    "- Use the input() function to get user data (input() 함수를 사용하여 사용자 데이터 받기)\n",
    "- Apply advanced print() function techniques (고급 print() 함수 기법 적용)\n",
    "- Convert between different data types safely (다양한 데이터 타입 간 안전한 변환)\n",
    "- Handle basic input errors gracefully (기본적인 입력 오류를 우아하게 처리)\n",
    "\n",
    "---\n",
    "\n",
    "## 💬 1. What is Input and Output? (입출력이란 무엇인가?)\n",
    "\n",
    "### Definition (정의)\n",
    "**Input and Output (I/O)** is how programs communicate with users and the outside world.\n",
    "**입출력(I/O)**은 프로그램이 사용자 및 외부 세계와 소통하는 방법입니다.\n",
    "\n",
    "- **Input**: Getting data FROM the user (입력: 사용자로부터 데이터 받기)\n",
    "- **Output**: Sending data TO the user (출력: 사용자에게 데이터 보내기)\n",
    "\n",
    "### Real-world Analogy (실생활 비유)\n",
    "Think of I/O like having a conversation:\n",
    "입출력을 대화로 생각해보세요:\n",
    "\n",
    "```\n",
    "Human Conversation (인간의 대화):\n",
    "Person A: \"What's your name?\" (출력 - 질문하기)\n",
    "Person B: \"My name is John\" (입력 - 답변하기)\n",
    "Person A: \"Nice to meet you, John!\" (출력 - 응답하기)\n",
    "\n",
    "Python Program (파이썬 프로그램):\n",
    "print(\"What's your name?\") (출력)\n",
    "name = input() (입력)\n",
    "print(f\"Nice to meet you, {name}!\") (출력)\n",
    "```\n",
    "\n",
    "### Why Interactive Programs Matter (대화형 프로그램이 중요한 이유)\n",
    "- **User Experience**: Makes programs more engaging (사용자 경험: 프로그램을 더 매력적으로 만듦)\n",
    "- **Customization**: Each user gets personalized results (개인화: 각 사용자가 개인화된 결과를 얻음)\n",
    "- **Flexibility**: Programs can adapt to different situations (유연성: 프로그램이 다양한 상황에 적응 가능)\n",
    "- **Real Applications**: Most software needs user interaction (실제 응용: 대부분의 소프트웨어는 사용자 상호작용이 필요)\n",
    "\n",
    "---\n",
    "\n",
    "## 🎤 2. The input() Function (input() 함수)\n",
    "\n",
    "### Basic Syntax (기본 문법)"
   ]
  },
  {
   "cell_type": "code",
   "execution_count": null,
   "id": "27a8a5d1",
   "metadata": {},
   "outputs": [],
   "source": [
    "variable_name = input(prompt_message)"
   ]
  },
  {
   "cell_type": "markdown",
   "id": "31556a1f",
   "metadata": {
    "lines_to_next_cell": 0
   },
   "source": [
    "### How input() Works (input() 작동 원리)\n",
    "1. **Displays** the prompt message (프롬프트 메시지 표시)\n",
    "2. **Waits** for user to type something (사용자가 무언가 입력하기를 기다림)\n",
    "3. **Captures** what user types (사용자가 입력한 것을 캐치)\n",
    "4. **Returns** it as a string (문자열로 반환)\n",
    "\n",
    "### Simple Examples (간단한 예시)\n",
    "\n",
    "#### Example 1: Basic Input (기본 입력)"
   ]
  },
  {
   "cell_type": "code",
   "execution_count": null,
   "id": "8835dc3a",
   "metadata": {},
   "outputs": [],
   "source": [
    "# Get user's name\n",
    "name = input(\"What is your name? \")\n",
    "print(\"Hello\", name)\n",
    "\n",
    "# Output example:\n",
    "# What is your name? Alice\n",
    "# Hello Alice"
   ]
  },
  {
   "cell_type": "markdown",
   "id": "b333ffaf",
   "metadata": {
    "lines_to_next_cell": 0
   },
   "source": [
    "#### Example 2: Input with Better Prompting (더 나은 프롬프트를 가진 입력)"
   ]
  },
  {
   "cell_type": "code",
   "execution_count": null,
   "id": "34cf900e",
   "metadata": {},
   "outputs": [],
   "source": [
    "# More descriptive prompts\n",
    "age = input(\"Please enter your age: \")\n",
    "city = input(\"Which city are you from? \")\n",
    "\n",
    "print(\"You are\", age, \"years old\")\n",
    "print(\"You live in\", city)\n",
    "\n",
    "# Output example:\n",
    "# Please enter your age: 20\n",
    "# Which city are you from? Seoul\n",
    "# You are 20 years old\n",
    "# You live in Seoul"
   ]
  },
  {
   "cell_type": "markdown",
   "id": "7d7279ce",
   "metadata": {
    "lines_to_next_cell": 0
   },
   "source": [
    "#### Example 3: Multiple Inputs (여러 입력)"
   ]
  },
  {
   "cell_type": "code",
   "execution_count": null,
   "id": "000b24a2",
   "metadata": {},
   "outputs": [],
   "source": [
    "# Collecting multiple pieces of information\n",
    "print(\"=== User Registration ===\")\n",
    "username = input(\"Choose a username: \")\n",
    "email = input(\"Enter your email: \")\n",
    "hobby = input(\"What's your favorite hobby? \")\n",
    "\n",
    "print(\"\\n=== Your Profile ===\")\n",
    "print(f\"Username: {username}\")\n",
    "print(f\"Email: {email}\")\n",
    "print(f\"Hobby: {hobby}\")"
   ]
  },
  {
   "cell_type": "markdown",
   "id": "8e9c776d",
   "metadata": {},
   "source": [
    "### Important Notes about input() (input()에 대한 중요 사항)\n",
    "- ⚠️ **Always returns a string**, even if user types numbers (숫자를 입력해도 항상 문자열 반환)\n",
    "- ⚠️ **Waits until user presses Enter** (사용자가 Enter를 누를 때까지 대기)\n",
    "- ⚠️ **Empty input is allowed** (빈 입력도 허용됨)"
   ]
  },
  {
   "cell_type": "code",
   "execution_count": null,
   "id": "f66e7872",
   "metadata": {},
   "outputs": [],
   "source": [
    "# This might surprise you!\n",
    "number = input(\"Enter a number: \")\n",
    "print(type(number))  # <class 'str'> - it's a string!\n",
    "\n",
    "# Enter a number: 25\n",
    "# <class 'str'>"
   ]
  },
  {
   "cell_type": "markdown",
   "id": "90e42bfe",
   "metadata": {
    "lines_to_next_cell": 0
   },
   "source": [
    "---\n",
    "\n",
    "## 🖨️ 3. Advanced print() Function (고급 print() 함수)\n",
    "\n",
    "### Basic Review (기본 복습)"
   ]
  },
  {
   "cell_type": "code",
   "execution_count": null,
   "id": "9042212b",
   "metadata": {},
   "outputs": [],
   "source": [
    "print(\"Hello World\")  # Simple text\n",
    "print(\"Hello\", \"World\")  # Multiple arguments"
   ]
  },
  {
   "cell_type": "markdown",
   "id": "10de3abb",
   "metadata": {},
   "source": [
    "### Advanced Features (고급 기능)\n",
    "\n",
    "#### 1. The sep Parameter (sep 매개변수)\n",
    "Controls what appears BETWEEN multiple arguments:\n",
    "여러 인수 사이에 나타나는 것을 제어:"
   ]
  },
  {
   "cell_type": "code",
   "execution_count": null,
   "id": "8d40f525",
   "metadata": {},
   "outputs": [],
   "source": [
    "# Default separator is space\n",
    "print(\"apple\", \"banana\", \"cherry\")\n",
    "# Output: apple banana cherry\n",
    "\n",
    "# Custom separator\n",
    "print(\"apple\", \"banana\", \"cherry\", sep=\", \")\n",
    "# Output: apple, banana, cherry\n",
    "\n",
    "print(\"2024\", \"03\", \"15\", sep=\"-\")\n",
    "# Output: 2024-03-15\n",
    "\n",
    "print(\"Loading\", \".\", \".\", \".\", sep=\"\")\n",
    "# Output: Loading..."
   ]
  },
  {
   "cell_type": "markdown",
   "id": "f2deb846",
   "metadata": {},
   "source": [
    "#### 2. The end Parameter (end 매개변수)\n",
    "Controls what appears AFTER the print statement:\n",
    "print 문 다음에 나타나는 것을 제어:"
   ]
  },
  {
   "cell_type": "code",
   "execution_count": null,
   "id": "a7dfd86b",
   "metadata": {},
   "outputs": [],
   "source": [
    "# Default end is newline (\\n)\n",
    "print(\"Hello\")\n",
    "print(\"World\")\n",
    "# Output:\n",
    "# Hello\n",
    "# World\n",
    "\n",
    "# Custom end\n",
    "print(\"Hello\", end=\" \")\n",
    "print(\"World\")\n",
    "# Output: Hello World\n",
    "\n",
    "print(\"Loading\", end=\"... \")\n",
    "print(\"Complete!\")\n",
    "# Output: Loading... Complete!"
   ]
  },
  {
   "cell_type": "markdown",
   "id": "2234fd77",
   "metadata": {
    "lines_to_next_cell": 0
   },
   "source": [
    "#### 3. Combining sep and end (sep와 end 결합)"
   ]
  },
  {
   "cell_type": "code",
   "execution_count": null,
   "id": "96b481bf",
   "metadata": {},
   "outputs": [],
   "source": [
    "print(\"Python\", \"is\", \"awesome\", sep=\"-\", end=\"!\\n\")\n",
    "# Output: Python-is-awesome!\n",
    "\n",
    "print(\"First line\", end=\" | \")\n",
    "print(\"Second line\", end=\" | \")\n",
    "print(\"Third line\")\n",
    "# Output: First line | Second line | Third line"
   ]
  },
  {
   "cell_type": "markdown",
   "id": "5a1ba0f9",
   "metadata": {
    "lines_to_next_cell": 0
   },
   "source": [
    "#### 4. Formatting with f-strings (f-string으로 포맷팅)"
   ]
  },
  {
   "cell_type": "code",
   "execution_count": null,
   "id": "861e32e1",
   "metadata": {},
   "outputs": [],
   "source": [
    "name = \"Alice\"\n",
    "age = 25\n",
    "score = 95.5\n",
    "\n",
    "# Old way (avoid this)\n",
    "print(\"Student: \" + name + \", Age: \" + str(age))\n",
    "\n",
    "# Better way with f-strings\n",
    "print(f\"Student: {name}, Age: {age}\")\n",
    "print(f\"Score: {score:.1f}%\")  # One decimal place\n",
    "print(f\"Welcome {name.upper()}!\")  # Method calls inside {}\n",
    "\n",
    "# Output:\n",
    "# Student: Alice, Age: 25\n",
    "# Score: 95.5%\n",
    "# Welcome ALICE!"
   ]
  },
  {
   "cell_type": "markdown",
   "id": "934701ff",
   "metadata": {
    "lines_to_next_cell": 0
   },
   "source": [
    "#### 5. Multi-line Output (여러 줄 출력)"
   ]
  },
  {
   "cell_type": "code",
   "execution_count": null,
   "id": "d71cb29b",
   "metadata": {},
   "outputs": [],
   "source": [
    "# Using \\n for new lines\n",
    "print(\"Line 1\\nLine 2\\nLine 3\")\n",
    "\n",
    "# Using triple quotes for multiple lines\n",
    "print(\"\"\"\n",
    "=== Welcome Message ===\n",
    "Hello! This is a\n",
    "multi-line message\n",
    "that spans several lines.\n",
    "======================\n",
    "\"\"\")"
   ]
  },
  {
   "cell_type": "markdown",
   "id": "6d6145df",
   "metadata": {},
   "source": [
    "---\n",
    "\n",
    "## 🔄 4. Data Type Conversion (데이터 타입 변환)\n",
    "\n",
    "### Why Conversion is Needed (변환이 필요한 이유)\n",
    "Remember: `input()` always returns a **string**!\n",
    "기억하세요: `input()`은 항상 **문자열**을 반환합니다!"
   ]
  },
  {
   "cell_type": "code",
   "execution_count": null,
   "id": "9ac6dc8d",
   "metadata": {},
   "outputs": [],
   "source": [
    "# This won't work as expected!\n",
    "age = input(\"Enter your age: \")\n",
    "next_year = age + 1  # ERROR! Can't add string + number\n",
    "\n",
    "# TypeError: can only concatenate str (not \"int\") to str"
   ]
  },
  {
   "cell_type": "markdown",
   "id": "126a8f70",
   "metadata": {
    "lines_to_next_cell": 0
   },
   "source": [
    "### Conversion Functions (변환 함수들)\n",
    "\n",
    "#### 1. int() - Convert to Integer (정수로 변환)"
   ]
  },
  {
   "cell_type": "code",
   "execution_count": null,
   "id": "b4d17453",
   "metadata": {},
   "outputs": [],
   "source": [
    "# Convert string to integer\n",
    "age_str = input(\"Enter your age: \")\n",
    "age_num = int(age_str)\n",
    "\n",
    "# Now we can do math\n",
    "next_year = age_num + 1\n",
    "print(f\"Next year you will be {next_year}\")\n",
    "\n",
    "# Shorter version\n",
    "age = int(input(\"Enter your age: \"))\n",
    "print(f\"In 5 years, you'll be {age + 5}\")"
   ]
  },
  {
   "cell_type": "markdown",
   "id": "a6dd8c1b",
   "metadata": {
    "lines_to_next_cell": 0
   },
   "source": [
    "#### 2. float() - Convert to Decimal Number (소수로 변환)"
   ]
  },
  {
   "cell_type": "code",
   "execution_count": null,
   "id": "49640c2a",
   "metadata": {},
   "outputs": [],
   "source": [
    "# Convert string to float\n",
    "height_str = input(\"Enter your height in meters: \")\n",
    "height_num = float(height_str)\n",
    "\n",
    "print(f\"Your height is {height_num:.2f} meters\")\n",
    "print(f\"In centimeters: {height_num * 100:.1f} cm\")\n",
    "\n",
    "# Example:\n",
    "# Enter your height in meters: 1.75\n",
    "# Your height is 1.75 meters\n",
    "# In centimeters: 175.0 cm"
   ]
  },
  {
   "cell_type": "markdown",
   "id": "48979ae1",
   "metadata": {
    "lines_to_next_cell": 0
   },
   "source": [
    "#### 3. str() - Convert to String (문자열로 변환)"
   ]
  },
  {
   "cell_type": "code",
   "execution_count": null,
   "id": "937d3b95",
   "metadata": {},
   "outputs": [],
   "source": [
    "# Convert numbers to strings\n",
    "score = 95\n",
    "percentage = 87.5\n",
    "\n",
    "# For concatenation\n",
    "message = \"Your score is \" + str(score) + \" points\"\n",
    "print(message)\n",
    "\n",
    "# Better with f-strings (automatic conversion)\n",
    "print(f\"Your score is {score} points\")\n",
    "print(f\"Percentage: {percentage}%\")"
   ]
  },
  {
   "cell_type": "markdown",
   "id": "a947d43d",
   "metadata": {
    "lines_to_next_cell": 0
   },
   "source": [
    "### Practical Examples (실용적인 예시)\n",
    "\n",
    "#### Example 1: Simple Calculator (간단한 계산기)"
   ]
  },
  {
   "cell_type": "code",
   "execution_count": null,
   "id": "8bcbf791",
   "metadata": {},
   "outputs": [],
   "source": [
    "print(\"=== Simple Calculator ===\")\n",
    "\n",
    "# Get two numbers from user\n",
    "first_num = float(input(\"Enter first number: \"))\n",
    "second_num = float(input(\"Enter second number: \"))\n",
    "\n",
    "# Perform calculations\n",
    "addition = first_num + second_num\n",
    "subtraction = first_num - second_num\n",
    "multiplication = first_num * second_num\n",
    "division = first_num / second_num\n",
    "\n",
    "# Display results\n",
    "print(f\"\\nResults:\")\n",
    "print(f\"{first_num} + {second_num} = {addition}\")\n",
    "print(f\"{first_num} - {second_num} = {subtraction}\")\n",
    "print(f\"{first_num} × {second_num} = {multiplication}\")\n",
    "print(f\"{first_num} ÷ {second_num} = {division:.2f}\")"
   ]
  },
  {
   "cell_type": "markdown",
   "id": "e3db65d8",
   "metadata": {
    "lines_to_next_cell": 0
   },
   "source": [
    "#### Example 2: Personal Information (개인 정보)"
   ]
  },
  {
   "cell_type": "code",
   "execution_count": null,
   "id": "bc3e7d3f",
   "metadata": {},
   "outputs": [],
   "source": [
    "print(\"=== Personal Information Form ===\")\n",
    "\n",
    "# Collect different types of data\n",
    "name = input(\"Full name: \")\n",
    "age = int(input(\"Age: \"))\n",
    "height = float(input(\"Height in meters: \"))\n",
    "weight = float(input(\"Weight in kg: \"))\n",
    "is_student = input(\"Are you a student? (yes/no): \")\n",
    "\n",
    "# Process and display\n",
    "bmi = weight / (height ** 2)\n",
    "birth_year = 2024 - age\n",
    "\n",
    "print(f\"\\n=== Summary ===\")\n",
    "print(f\"Name: {name}\")\n",
    "print(f\"Age: {age} (born in {birth_year})\")\n",
    "print(f\"Height: {height:.2f}m\")\n",
    "print(f\"Weight: {weight:.1f}kg\")\n",
    "print(f\"BMI: {bmi:.1f}\")\n",
    "print(f\"Student status: {is_student}\")"
   ]
  },
  {
   "cell_type": "markdown",
   "id": "a76bb3fd",
   "metadata": {},
   "source": [
    "---\n",
    "\n",
    "## ⚠️ 5. Input Validation Tips (입력 검증 팁)\n",
    "\n",
    "### What Can Go Wrong? (무엇이 잘못될 수 있나요?)\n",
    "When users input invalid data, programs can produce unexpected results:\n",
    "사용자가 잘못된 데이터를 입력하면 프로그램이 예상치 못한 결과를 낼 수 있습니다:"
   ]
  },
  {
   "cell_type": "code",
   "execution_count": null,
   "id": "162f6f44",
   "metadata": {},
   "outputs": [],
   "source": [
    "# This might not work as expected!\n",
    "age = int(input(\"Enter your age: \"))\n",
    "\n",
    "# If user types \"twenty\" instead of \"20\":\n",
    "# The program will crash with an error message"
   ]
  },
  {
   "cell_type": "markdown",
   "id": "72b8c061",
   "metadata": {
    "lines_to_next_cell": 0
   },
   "source": [
    "### Simple Validation Techniques (간단한 검증 기법)\n",
    "\n",
    "#### Technique 1: Clear Instructions (명확한 지시사항)"
   ]
  },
  {
   "cell_type": "code",
   "execution_count": null,
   "id": "4b18a54f",
   "metadata": {},
   "outputs": [],
   "source": [
    "# Be very specific about what you want\n",
    "print(\"Please enter your age as a NUMBER (example: 25)\")\n",
    "age = int(input(\"Age: \"))\n",
    "print(f\"You are {age} years old\")"
   ]
  },
  {
   "cell_type": "markdown",
   "id": "1863cfd1",
   "metadata": {
    "lines_to_next_cell": 0
   },
   "source": [
    "#### Technique 2: Show Examples (예시 보여주기)"
   ]
  },
  {
   "cell_type": "code",
   "execution_count": null,
   "id": "59b4494c",
   "metadata": {},
   "outputs": [],
   "source": [
    "# Show users exactly what format you expect\n",
    "print(\"Enter your height in meters (example: 1.75)\")\n",
    "height = float(input(\"Height: \"))\n",
    "print(f\"Your height is {height} meters\")"
   ]
  },
  {
   "cell_type": "markdown",
   "id": "37a9c851",
   "metadata": {
    "lines_to_next_cell": 0
   },
   "source": [
    "#### Technique 3: Confirm Input (입력 확인하기)"
   ]
  },
  {
   "cell_type": "code",
   "execution_count": null,
   "id": "c9225239",
   "metadata": {},
   "outputs": [],
   "source": [
    "# Let users see what they entered\n",
    "name = input(\"Enter your full name: \")\n",
    "age = input(\"Enter your age: \")\n",
    "\n",
    "print(f\"\\nYou entered:\")\n",
    "print(f\"Name: {name}\")\n",
    "print(f\"Age: {age}\")\n",
    "print(\"Is this correct? (Remember this for now)\")"
   ]
  },
  {
   "cell_type": "markdown",
   "id": "dc1e39a7",
   "metadata": {
    "lines_to_next_cell": 0
   },
   "source": [
    "### Best Practices for User Input (사용자 입력 모범 사례)\n",
    "- ✅ **Give clear instructions** with examples (예시와 함께 명확한 지시사항 제공)\n",
    "- ✅ **Use descriptive prompts** (설명적인 프롬프트 사용)\n",
    "- ✅ **Show what format you expect** (예상하는 형식 보여주기)\n",
    "- ✅ **Test your program** with different inputs (다양한 입력으로 프로그램 테스트)\n",
    "\n",
    "---\n",
    "\n",
    "## 🔧 Lab Exercises (실습)\n",
    "\n",
    "### Lab 1: Interactive Conversation Program (대화형 대화 프로그램)\n",
    "\n",
    "**Problem (문제)**: Create a program that has a natural conversation with the user, asking multiple questions and providing personalized responses.\n",
    "사용자와 자연스러운 대화를 나누며 여러 질문을 하고 개인화된 응답을 제공하는 프로그램을 만드세요.\n",
    "\n",
    "**Requirements (요구사항)**:\n",
    "- Ask for the user's name, age, country, and favorite hobby (이름, 나이, 국가, 좋아하는 취미 질문)\n",
    "- Use the information to create personalized responses (정보를 사용하여 개인화된 응답 생성)\n",
    "- Include at least one calculation based on user input (사용자 입력을 기반으로 한 계산 포함)\n",
    "- Make the output visually appealing with proper formatting (적절한 포맷으로 시각적으로 매력적인 출력 만들기)\n",
    "\n",
    "**Solution (정답)**:"
   ]
  },
  {
   "cell_type": "code",
   "execution_count": null,
   "id": "b490dd6f",
   "metadata": {},
   "outputs": [],
   "source": [
    "# Interactive Conversation Program\n",
    "print(\"=\" * 50)\n",
    "print(\"    Welcome to the Friendly Chat Program!\")\n",
    "print(\"=\" * 50)\n",
    "\n",
    "# Collect user information\n",
    "print(\"Hi there! I'd love to get to know you better.\")\n",
    "name = input(\"What's your name? \")\n",
    "print(f\"Nice to meet you, {name}!\")\n",
    "\n",
    "age = int(input(\"How old are you? \"))\n",
    "country = input(\"Which country are you from? \")\n",
    "hobby = input(\"What's your favorite hobby? \")\n",
    "\n",
    "# Calculate some fun facts\n",
    "birth_year = 2024 - age\n",
    "years_to_100 = 100 - age\n",
    "days_lived = age * 365\n",
    "\n",
    "# Create personalized responses\n",
    "print(f\"\\n{'-' * 40}\")\n",
    "print(f\"  Personal Profile for {name}\")\n",
    "print(f\"{'-' * 40}\")\n",
    "print(f\"Name: {name}\")\n",
    "print(f\"Age: {age} years old (born in {birth_year})\")\n",
    "print(f\"Country: {country}\")\n",
    "print(f\"Hobby: {hobby}\")\n",
    "\n",
    "# Fun calculations\n",
    "print(f\"\\nFun Facts about {name}:\")\n",
    "print(f\"You have lived approximately {days_lived} days!\")\n",
    "print(f\"You have {years_to_100} years until you turn 100!\")\n",
    "\n",
    "print(f\"\\nI hope you're enjoying {hobby} in {country}!\")\n",
    "print(f\"Thanks for chatting with me, {name}! 😊\")"
   ]
  },
  {
   "cell_type": "markdown",
   "id": "e5af7406",
   "metadata": {
    "lines_to_next_cell": 0
   },
   "source": [
    "### Lab 2: Unit Converter Program (단위 변환 프로그램)\n",
    "\n",
    "**Problem (문제)**: Create a simple unit converter that converts between different units. Focus on one specific conversion to practice input/output and calculations.\n",
    "다양한 단위 간 변환을 수행하는 간단한 단위 변환기를 만드세요. 입력/출력과 계산을 연습하기 위해 특정 변환에 집중하세요.\n",
    "\n",
    "**Requirements (요구사항)**:\n",
    "- Convert temperatures (Celsius to Fahrenheit and vice versa) (온도 변환)\n",
    "- Convert distances (meters to feet and vice versa) (거리 변환)\n",
    "- Convert weights (kilograms to pounds and vice versa) (무게 변환)\n",
    "- Provide clear user interface with instructions (지시사항이 있는 명확한 사용자 인터페이스 제공)\n",
    "- Show conversion formulas to users (사용자에게 변환 공식 보여주기)\n",
    "\n",
    "**Solution (정답)**:"
   ]
  },
  {
   "cell_type": "code",
   "execution_count": null,
   "id": "f33a857b",
   "metadata": {},
   "outputs": [],
   "source": [
    "# Unit Converter Program\n",
    "print(\"=\" * 40)\n",
    "print(\"      Universal Unit Converter\")\n",
    "print(\"=\" * 40)\n",
    "\n",
    "# Temperature Conversion\n",
    "print(\"\\n=== Temperature Conversion ===\")\n",
    "print(\"Formula: °F = (°C × 9/5) + 32\")\n",
    "print(\"Formula: °C = (°F - 32) × 5/9\")\n",
    "\n",
    "celsius = float(input(\"Enter temperature in Celsius: \"))\n",
    "fahrenheit = (celsius * 9/5) + 32\n",
    "print(f\"{celsius}°C = {fahrenheit:.1f}°F\")\n",
    "\n",
    "fahrenheit_input = float(input(\"Enter temperature in Fahrenheit: \"))\n",
    "celsius_result = (fahrenheit_input - 32) * 5/9\n",
    "print(f\"{fahrenheit_input}°F = {celsius_result:.1f}°C\")\n",
    "\n",
    "# Distance Conversion\n",
    "print(\"\\n=== Distance Conversion ===\")\n",
    "print(\"Formula: feet = meters × 3.28084\")\n",
    "print(\"Formula: meters = feet ÷ 3.28084\")\n",
    "\n",
    "meters = float(input(\"Enter distance in meters: \"))\n",
    "feet = meters * 3.28084\n",
    "print(f\"{meters}m = {feet:.2f}ft\")\n",
    "\n",
    "feet_input = float(input(\"Enter distance in feet: \"))\n",
    "meters_result = feet_input / 3.28084\n",
    "print(f\"{feet_input}ft = {meters_result:.2f}m\")\n",
    "\n",
    "# Weight Conversion\n",
    "print(\"\\n=== Weight Conversion ===\")\n",
    "print(\"Formula: pounds = kilograms × 2.20462\")\n",
    "print(\"Formula: kilograms = pounds ÷ 2.20462\")\n",
    "\n",
    "kg = float(input(\"Enter weight in kilograms: \"))\n",
    "pounds = kg * 2.20462\n",
    "print(f\"{kg}kg = {pounds:.2f}lbs\")\n",
    "\n",
    "pounds_input = float(input(\"Enter weight in pounds: \"))\n",
    "kg_result = pounds_input / 2.20462\n",
    "print(f\"{pounds_input}lbs = {kg_result:.2f}kg\")\n",
    "\n",
    "print(\"\\nThank you for using the Unit Converter!\")"
   ]
  },
  {
   "cell_type": "markdown",
   "id": "c710041a",
   "metadata": {
    "lines_to_next_cell": 0
   },
   "source": [
    "### Lab 3: BMI Calculator with Detailed Information (상세 정보가 있는 BMI 계산기)\n",
    "\n",
    "**Problem (문제)**: Create a BMI (Body Mass Index) calculator that calculates BMI and provides detailed information about the calculation process and results.\n",
    "BMI(체질량지수)를 계산하고 계산 과정과 결과에 대한 상세한 정보를 제공하는 BMI 계산기를 만드세요.\n",
    "\n",
    "**Requirements (요구사항)**:\n",
    "- Calculate BMI using height and weight (키와 몸무게를 사용하여 BMI 계산)\n",
    "- Show the BMI formula and calculation steps (BMI 공식과 계산 단계 보여주기)\n",
    "- Handle both metric and imperial units (미터법과 야드파운드법 모두 처리)\n",
    "- Provide detailed output with proper formatting (적절한 포맷으로 상세한 출력 제공)\n",
    "- Display BMI categories for reference (참고용 BMI 범주 표시)\n",
    "\n",
    "**Solution (정답)**:"
   ]
  },
  {
   "cell_type": "code",
   "execution_count": null,
   "id": "de78b7e2",
   "metadata": {},
   "outputs": [],
   "source": [
    "# BMI Calculator with Detailed Information\n",
    "print(\"=\" * 50)\n",
    "print(\"     BMI Calculator & Information Guide\")\n",
    "print(\"=\" * 50)\n",
    "\n",
    "# Get user information\n",
    "name = input(\"Enter your name: \")\n",
    "print(f\"Hello {name}! Let's calculate your BMI.\")\n",
    "\n",
    "# Display BMI information\n",
    "print(f\"\\n{'-' * 40}\")\n",
    "print(\"BMI Formula: BMI = weight (kg) / height (m)²\")\n",
    "print(f\"{'-' * 40}\")\n",
    "\n",
    "print(\"\\nWe'll help you convert your measurements if needed!\")\n",
    "\n",
    "# Get measurement system preference\n",
    "print(\"\\nChoose your measurement system:\")\n",
    "print(\"1. Metric measurements (kg, cm)\")\n",
    "print(\"2. Imperial measurements (lbs, inches)\")\n",
    "\n",
    "unit_system = input(\"Which measurements will you provide? Enter 1 or 2: \")\n",
    "\n",
    "# Get measurements\n",
    "print(f\"\\n=== Collecting Your Measurements ===\")\n",
    "\n",
    "print(\"Enter your measurements:\")\n",
    "weight_input = float(input(\"Enter your weight: \"))\n",
    "height_input = float(input(\"Enter your height: \"))\n",
    "\n",
    "# Process measurements based on system chosen\n",
    "print(f\"\\n=== Processing Your Measurements ===\")\n",
    "print(f\"You chose system {unit_system}\")\n",
    "print(f\"Your input: Weight = {weight_input}, Height = {height_input}\")\n",
    "\n",
    "# For this example, we'll show both conversion processes\n",
    "print(\"\\n=== Metric Conversion Example ===\")\n",
    "# Assume metric input (kg, cm)\n",
    "weight_kg_metric = weight_input  # Already in kg\n",
    "height_m_metric = height_input / 100  # Convert cm to m\n",
    "print(f\"If metric: Weight = {weight_kg_metric:.2f} kg, Height = {height_m_metric:.2f} m\")\n",
    "\n",
    "print(\"\\n=== Imperial Conversion Example ===\")\n",
    "# Assume imperial input (lbs, inches)\n",
    "weight_kg_imperial = weight_input / 2.20462  # Convert lbs to kg\n",
    "height_m_imperial = height_input * 0.0254    # Convert inches to m\n",
    "print(f\"If imperial: Weight = {weight_kg_imperial:.2f} kg, Height = {height_m_imperial:.2f} m\")\n",
    "\n",
    "# For calculation, we'll use the metric version\n",
    "print(f\"\\n=== Using Metric Values for Calculation ===\")\n",
    "weight_kg = weight_kg_metric\n",
    "height_m = height_m_metric\n",
    "\n",
    "# Calculate BMI\n",
    "bmi = weight_kg / (height_m ** 2)\n",
    "\n",
    "# Display calculation steps\n",
    "print(f\"\\n=== BMI Calculation Steps ===\")\n",
    "print(f\"BMI = weight (kg) / height (m)²\")\n",
    "print(f\"BMI = {weight_kg:.2f} / ({height_m:.2f})²\")\n",
    "print(f\"BMI = {weight_kg:.2f} / {height_m**2:.4f}\")\n",
    "print(f\"BMI = {bmi:.1f}\")\n",
    "\n",
    "# Display results\n",
    "print(f\"\\n{'-' * 40}\")\n",
    "print(f\"     BMI Results for {name}\")\n",
    "print(f\"{'-' * 40}\")\n",
    "print(f\"Final BMI: {bmi:.1f}\")\n",
    "\n",
    "# Display BMI categories for reference\n",
    "print(f\"\\n=== BMI Categories (for reference) ===\")\n",
    "print(\"• Underweight: BMI less than 18.5\")\n",
    "print(\"• Normal weight: BMI 18.5 - 24.9\")\n",
    "print(\"• Overweight: BMI 25.0 - 29.9\")\n",
    "print(\"• Obese: BMI 30.0 and above\")\n",
    "\n",
    "# Calculate ideal weight range\n",
    "ideal_min = 18.5 * (height_m ** 2)\n",
    "ideal_max = 24.9 * (height_m ** 2)\n",
    "print(f\"\\n=== Additional Information ===\")\n",
    "print(f\"For your height ({height_m:.2f}m):\")\n",
    "print(f\"Normal weight range: {ideal_min:.1f}kg - {ideal_max:.1f}kg\")\n",
    "\n",
    "# Show measurements in both systems for educational purposes\n",
    "height_inches = height_m / 0.0254  # Convert m to inches\n",
    "height_feet = height_inches / 12   # Convert inches to feet\n",
    "weight_lbs = weight_kg * 2.20462   # Convert kg to lbs\n",
    "\n",
    "print(f\"\\nYour measurements in both systems:\")\n",
    "print(f\"Metric: {weight_kg:.1f}kg, {height_m:.2f}m ({height_input:.0f}cm)\")\n",
    "print(f\"Imperial: {weight_lbs:.1f}lbs, {height_feet:.1f}ft ({height_inches:.0f}inches)\")\n",
    "\n",
    "print(f\"\\nThank you for using the BMI Calculator, {name}!\")\n",
    "print(\"Remember: BMI is just one measure of health.\")\n",
    "print(\"Consult healthcare professionals for complete health assessment.\")"
   ]
  },
  {
   "cell_type": "markdown",
   "id": "9ad95766",
   "metadata": {},
   "source": [
    "---\n",
    "\n",
    "## 📝 Quiz Section (퀴즈)\n",
    "\n",
    "### Quiz 1: Understanding input() Function (input() 함수 이해)\n",
    "**Question**: What will happen when this code runs? What data type will the variable `user_number` have?"
   ]
  },
  {
   "cell_type": "code",
   "execution_count": null,
   "id": "35c2ec20",
   "metadata": {},
   "outputs": [],
   "source": [
    "user_number = input(\"Enter a number: \")\n",
    "print(type(user_number))"
   ]
  },
  {
   "cell_type": "markdown",
   "id": "365aebb2",
   "metadata": {},
   "source": [
    "**If the user enters `42`, what will be displayed?**\n",
    "\n",
    "A) `<class 'int'>`  \n",
    "B) `<class 'float'>`  \n",
    "C) `<class 'str'>`  \n",
    "D) `<class 'number'>`\n",
    "\n",
    "**Follow-up**: Explain why input() behaves this way and how you would convert the input to use it for mathematical calculations.\n",
    "\n",
    "### Quiz 2: Advanced print() Formatting (고급 print() 포맷팅)\n",
    "**Question**: Write code that produces the following EXACT output:\n",
    "\n",
    "```\n",
    "Name: Alice | Age: 25 | Score: 87.5%\n",
    "Loading... Done!\n",
    "```\n",
    "\n",
    "**Requirements**:\n",
    "- Use variables: `name = \"Alice\"`, `age = 25`, `score = 87.5`\n",
    "- Use the `sep` parameter in the first line\n",
    "- Use the `end` parameter in the second line\n",
    "- Show the percentage symbol for the score\n",
    "- Use only TWO print statements\n",
    "\n",
    "### Quiz 3: Data Type Conversion Challenge (데이터 타입 변환 도전)\n",
    "**Question**: Complete this program that calculates how much money a person saves per day. Fill in the missing parts:"
   ]
  },
  {
   "cell_type": "code",
   "execution_count": null,
   "id": "853ac2c7",
   "metadata": {},
   "outputs": [],
   "source": [
    "print(\"Personal Savings Calculator\")\n",
    "\n",
    "# Get user input\n",
    "name = input(\"Enter your name: \")\n",
    "monthly_salary = ________________  # Convert to float\n",
    "monthly_expenses = _______________  # Convert to float\n",
    "days_in_month = ________________  # Convert to integer\n",
    "\n",
    "# Calculate savings\n",
    "monthly_savings = monthly_salary - monthly_expenses\n",
    "daily_savings = monthly_savings / days_in_month\n",
    "\n",
    "# Display results\n",
    "print(\"=\"*40)\n",
    "print(f\"Savings Report for {name}\")\n",
    "print(\"=\"*40)\n",
    "print(f\"Monthly Salary: ${monthly_salary:.2f}\")\n",
    "print(f\"Monthly Expenses: ${monthly_expenses:.2f}\")\n",
    "print(f\"Monthly Savings: ${monthly_savings:.2f}\")\n",
    "print(f\"Daily Savings: ${daily_savings:.2f}\")"
   ]
  },
  {
   "cell_type": "markdown",
   "id": "cfbb0b31",
   "metadata": {},
   "source": [
    "**Fill in the blanks with the correct input() and conversion functions. What should each blank contain?**\n",
    "\n",
    "---\n",
    "\n",
    "## 📖 References (참고 자료)\n",
    "\n",
    "1. **Python Official Documentation - Input/Output**: https://docs.python.org/3/tutorial/inputoutput.html\n",
    "   - Comprehensive guide to Python I/O operations (파이썬 I/O 작업에 대한 종합 가이드)\n",
    "\n",
    "2. **Real Python - Working with User Input**: https://realpython.com/python-input-output/\n",
    "   - Practical examples and best practices (실용적인 예제와 모범 사례)\n",
    "\n",
    "3. **Python Exception Handling Tutorial**: https://docs.python.org/3/tutorial/errors.html\n",
    "   - Official guide to handling errors in Python (파이썬 오류 처리 공식 가이드)\n",
    "\n",
    "4. **Automate the Boring Stuff - Input Validation**: https://automatetheboringstuff.com/2e/chapter3/\n",
    "   - Real-world input validation techniques (실제 입력 검증 기법)\n",
    "\n",
    "---\n",
    "\n",
    "## 💡 Additional Tips for Success (성공을 위한 추가 팁)\n",
    "\n",
    "### For International Students (외국인 학생들을 위해)\n",
    "- **Practice daily**: Try to create one interactive program every day (매일 연습: 매일 대화형 프로그램 하나씩 만들어보기)\n",
    "- **Test edge cases**: Always test with unusual inputs (극단적인 경우 테스트: 항상 비정상적인 입력으로 테스트)\n",
    "- **Use English prompts**: Write all user prompts in English for practice (영어 프롬프트 사용: 연습을 위해 모든 사용자 프롬프트를 영어로 작성)\n",
    "- **Keep it simple**: Start with basic I/O before adding complex features (단순하게 유지: 복잡한 기능을 추가하기 전에 기본 I/O부터 시작)\n",
    "\n",
    "### Common Mistakes to Avoid (피해야 할 일반적인 실수)\n",
    "- **Forgetting data type conversion**: Remember `input()` returns strings (데이터 타입 변환 잊기)\n",
    "- **Poor user prompts**: Make prompts clear and helpful (나쁜 사용자 프롬프트)\n",
    "- **Not testing with different inputs**: Test your program thoroughly (다양한 입력으로 테스트하지 않기)\n",
    "- **Overcomplicating**: Keep programs simple and focused (과도한 복잡화)\n",
    "\n",
    "### Debugging Tips (디버깅 팁)\n",
    "- **Print variable types**: Use `print(type(variable))` to check data types (변수 타입 출력)\n",
    "- **Test step by step**: Test each part of your program separately (단계별 테스트)\n",
    "- **Use descriptive variable names**: `user_age` is better than `x` (설명적인 변수명 사용)\n",
    "\n",
    "### Real-world Applications (실제 활용)\n",
    "- **Forms and surveys**: Most websites use similar input/output concepts (양식과 설문조사)\n",
    "- **ATM machines**: Banking software relies heavily on user input validation (ATM 기계)\n",
    "- **Game interfaces**: Video games constantly interact with players (게임 인터페이스)\n",
    "- **Mobile apps**: App interfaces are essentially advanced I/O systems (모바일 앱)\n",
    "\n",
    "### Next Week Preview (다음 주 미리보기)\n",
    "Next week we'll learn about **conditional statements (if/elif/else)** - how to make programs that make decisions based on user input!\n",
    "다음 주에는 **조건문(if/elif/else)**에 대해 배웁니다 - 사용자 입력을 바탕으로 결정을 내리는 프로그램을 만드는 방법입니다!\n",
    "\n",
    "---\n",
    "\n",
    "## 📋 Homework (숙제)\n",
    "\n",
    "### Practice Exercises (연습 문제)\n",
    "1. **Age Calculator**: Create a program that calculates how many days old someone is (나이 계산기: 누군가가 며칠 살았는지 계산하는 프로그램)\n",
    "\n",
    "2. **Story Generator**: Ask for user's name, favorite animal, and color, then create a short story (이야기 생성기: 사용자 이름, 좋아하는 동물, 색깔을 물어보고 짧은 이야기 만들기)\n",
    "\n",
    "3. **Shopping Calculator**: Calculate total cost including tax for multiple items (쇼핑 계산기: 여러 항목의 세금 포함 총 비용 계산)\n",
    "\n",
    "### Challenge Problem (도전 문제)\n",
    "Create a **\"Personal Information Organizer\" program** that:\n",
    "- Collects comprehensive personal information (name, age, contact details, etc.)\n",
    "- Performs various calculations (age in days, years to retirement, etc.)\n",
    "- Formats and displays all information in an organized, professional manner\n",
    "- Converts between different units as needed (height, weight, etc.)\n",
    "- Shows detailed calculation steps for transparency\n",
    "\n",
    "**Good luck with your programming journey!** 🚀  \n",
    "**프로그래밍 여정에 행운을 빕니다!** 🚀"
   ]
  }
 ],
 "metadata": {
  "jupytext": {
   "cell_metadata_filter": "-all",
   "main_language": "python",
   "notebook_metadata_filter": "-all"
  }
 },
 "nbformat": 4,
 "nbformat_minor": 5
}
