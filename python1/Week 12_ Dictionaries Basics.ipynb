{
 "cells": [
  {
   "cell_type": "markdown",
   "id": "eb8b0a1a",
   "metadata": {},
   "source": [
    "# Week 12: Dictionaries Basics\n",
    "**딕셔너리 기초**\n",
    "\n",
    "**Duration (수업 시간)**: 3 hours (3시간)  \n",
    "**Structure (구성)**: Lecture & Lab 2 hours + Quiz 1 hour (강의 및 실습 2시간 + 퀴즈 1시간)  \n",
    "**Level (수준)**: Intermediate Beginner (중급 초급)\n",
    "\n",
    "---\n",
    "\n",
    "## 🎯 Learning Objectives (학습 목표)\n",
    "\n",
    "By the end of this lesson, students will be able to:\n",
    "이 수업을 마친 후 학생들은 다음을 할 수 있습니다:\n",
    "\n",
    "- Understand what dictionaries are and why they are useful (딕셔너리가 무엇인지, 왜 유용한지 이해)\n",
    "- Explain key-value pair concepts with real examples (실제 예시로 키-값 쌍 개념 설명)\n",
    "- Create, access, and modify dictionaries (딕셔너리 생성, 접근, 수정)\n",
    "- Use dictionary methods effectively (딕셔너리 메소드 효과적으로 사용)\n",
    "- Build practical programs using dictionaries (딕셔너리를 사용한 실용적 프로그램 구축)\n",
    "\n",
    "---\n",
    "\n",
    "## 🗃️ 1. What are Dictionaries? (딕셔너리란 무엇인가?)\n",
    "\n",
    "### Definition (정의)\n",
    "A **dictionary** is a collection of items where each item consists of a **key** and a **value**. You use the key to find the value, just like using a word to find its meaning in a real dictionary.\n",
    "**딕셔너리**는 각 항목이 **키**와 **값**으로 구성된 항목들의 모음입니다. 실제 사전에서 단어를 사용해 의미를 찾는 것처럼, 키를 사용해 값을 찾습니다.\n",
    "\n",
    "### Real-World Analogy (실생활 비유)\n",
    "\n",
    "Think of a dictionary like a **phone book** or **contact list**:\n",
    "딕셔너리를 **전화번호부**나 **연락처 목록**처럼 생각해보세요:\n",
    "\n",
    "```\n",
    "Phone Book (전화번호부):\n",
    "Name (키)     → Phone Number (값)\n",
    "\"Alice\"      → \"010-1234-5678\"\n",
    "\"Bob\"        → \"010-2345-6789\"\n",
    "\"Charlie\"    → \"010-3456-7890\"\n",
    "\n",
    "Python Dictionary:\n",
    "student_grades = {\n",
    "    \"Alice\": 95,\n",
    "    \"Bob\": 87,\n",
    "    \"Charlie\": 92\n",
    "}\n",
    "```\n",
    "\n",
    "### Why Use Dictionaries? (왜 딕셔너리를 사용하나요?)\n",
    "\n",
    "**Advantages over lists (리스트 대비 장점):**\n",
    "- **Fast lookup**: Find values instantly using keys (빠른 검색: 키를 사용해 값을 즉시 찾기)\n",
    "- **Meaningful names**: Keys describe what the data represents (의미 있는 이름: 키가 데이터가 무엇을 나타내는지 설명)\n",
    "- **Flexible structure**: No need to remember index numbers (유연한 구조: 인덱스 번호를 기억할 필요 없음)\n",
    "\n",
    "Compare these approaches (다음 접근법들을 비교해보세요):"
   ]
  },
  {
   "cell_type": "code",
   "execution_count": null,
   "id": "f43b0882",
   "metadata": {},
   "outputs": [],
   "source": [
    "# Using lists (difficult to remember what each index means)\n",
    "student_info = [\"Alice\", 20, 95, \"Computer Science\"]\n",
    "name = student_info[0]        # Hard to remember index 0 is name\n",
    "age = student_info[1]         # Hard to remember index 1 is age\n",
    "\n",
    "# Using dictionaries (self-documenting)\n",
    "student_info = {\n",
    "    \"name\": \"Alice\",\n",
    "    \"age\": 20,\n",
    "    \"grade\": 95,\n",
    "    \"major\": \"Computer Science\"\n",
    "}\n",
    "name = student_info[\"name\"]   # Clear what we're getting\n",
    "age = student_info[\"age\"]     # Self-explanatory"
   ]
  },
  {
   "cell_type": "markdown",
   "id": "6330a18e",
   "metadata": {
    "lines_to_next_cell": 0
   },
   "source": [
    "---\n",
    "\n",
    "## 🔑 2. Key-Value Pair Concepts (키-값 쌍 개념)\n",
    "\n",
    "### Understanding Keys and Values (키와 값 이해하기)\n",
    "\n",
    "In a dictionary, every piece of data has two parts:\n",
    "딕셔너리에서 모든 데이터는 두 부분으로 구성됩니다:\n",
    "\n",
    "- **Key (키)**: The identifier or \"label\" for the data (데이터의 식별자 또는 \"라벨\")\n",
    "- **Value (값)**: The actual data you want to store (저장하려는 실제 데이터)\n",
    "\n",
    "### Examples from Daily Life (일상생활의 예시)\n",
    "\n",
    "#### Example 1: Student Information (학생 정보)"
   ]
  },
  {
   "cell_type": "code",
   "execution_count": null,
   "id": "93fed5a6",
   "metadata": {},
   "outputs": [],
   "source": [
    "student = {\n",
    "    \"name\": \"Emma\",           # Key: \"name\", Value: \"Emma\"\n",
    "    \"age\": 19,                # Key: \"age\", Value: 19\n",
    "    \"major\": \"Biology\",       # Key: \"major\", Value: \"Biology\"\n",
    "    \"gpa\": 3.8               # Key: \"gpa\", Value: 3.8\n",
    "}"
   ]
  },
  {
   "cell_type": "markdown",
   "id": "cd595e02",
   "metadata": {
    "lines_to_next_cell": 0
   },
   "source": [
    "#### Example 2: Country Information (국가 정보)"
   ]
  },
  {
   "cell_type": "code",
   "execution_count": null,
   "id": "3f93d616",
   "metadata": {},
   "outputs": [],
   "source": [
    "country_capitals = {\n",
    "    \"South Korea\": \"Seoul\",\n",
    "    \"Japan\": \"Tokyo\",\n",
    "    \"USA\": \"Washington D.C.\",\n",
    "    \"France\": \"Paris\",\n",
    "    \"Germany\": \"Berlin\"\n",
    "}"
   ]
  },
  {
   "cell_type": "markdown",
   "id": "f991e121",
   "metadata": {
    "lines_to_next_cell": 0
   },
   "source": [
    "#### Example 3: Product Prices (상품 가격)"
   ]
  },
  {
   "cell_type": "code",
   "execution_count": null,
   "id": "2cee4c01",
   "metadata": {},
   "outputs": [],
   "source": [
    "menu_prices = {\n",
    "    \"Coffee\": 4.50,\n",
    "    \"Tea\": 3.00,\n",
    "    \"Sandwich\": 8.95,\n",
    "    \"Salad\": 7.25,\n",
    "    \"Pizza\": 12.00\n",
    "}"
   ]
  },
  {
   "cell_type": "markdown",
   "id": "8ede2ac7",
   "metadata": {},
   "source": [
    "### Key Rules (키 규칙)\n",
    "\n",
    "**Keys must be (키는 다음이어야 함):**\n",
    "- **Unique**: No duplicate keys allowed (유일: 중복 키 불허)\n",
    "- **Immutable**: Use strings, numbers, or tuples (불변: 문자열, 숫자, 또는 튜플 사용)"
   ]
  },
  {
   "cell_type": "code",
   "execution_count": null,
   "id": "45adee49",
   "metadata": {},
   "outputs": [],
   "source": [
    "# Good keys (좋은 키)\n",
    "valid_dict = {\n",
    "    \"name\": \"Alice\",      # String key\n",
    "    42: \"answer\",         # Number key\n",
    "    (1, 2): \"coordinate\"  # Tuple key\n",
    "}\n",
    "\n",
    "# Bad keys (잘못된 키)\n",
    "# invalid_dict = {\n",
    "#     [1, 2]: \"list key\"    # Error! Lists can't be keys\n",
    "#     {\"a\": 1}: \"dict key\"  # Error! Dictionaries can't be keys\n",
    "# }"
   ]
  },
  {
   "cell_type": "markdown",
   "id": "547d53a0",
   "metadata": {},
   "source": [
    "**Values can be (값은 다음이 될 수 있음):**\n",
    "- **Anything**: strings, numbers, lists, dictionaries, etc. (무엇이든: 문자열, 숫자, 리스트, 딕셔너리 등)"
   ]
  },
  {
   "cell_type": "code",
   "execution_count": null,
   "id": "24a9e638",
   "metadata": {},
   "outputs": [],
   "source": [
    "flexible_dict = {\n",
    "    \"name\": \"Alice\",                    # String value\n",
    "    \"scores\": [95, 87, 92],            # List value\n",
    "    \"address\": {                       # Dictionary value\n",
    "        \"street\": \"123 Main St\",\n",
    "        \"city\": \"Seoul\"\n",
    "    },\n",
    "    \"graduated\": True                  # Boolean value\n",
    "}"
   ]
  },
  {
   "cell_type": "markdown",
   "id": "ca827417",
   "metadata": {
    "lines_to_next_cell": 0
   },
   "source": [
    "---\n",
    "\n",
    "## 🛠️ 3. Dictionary Creation and Access (딕셔너리 생성 및 접근)\n",
    "\n",
    "### Creating Dictionaries (딕셔너리 생성)\n",
    "\n",
    "#### Method 1: Using Curly Braces (중괄호 사용)"
   ]
  },
  {
   "cell_type": "code",
   "execution_count": null,
   "id": "ab070752",
   "metadata": {},
   "outputs": [],
   "source": [
    "# Empty dictionary (빈 딕셔너리)\n",
    "empty_dict = {}\n",
    "\n",
    "# Dictionary with initial data (초기 데이터가 있는 딕셔너리)\n",
    "student_grades = {\n",
    "    \"Alice\": 95,\n",
    "    \"Bob\": 87,\n",
    "    \"Charlie\": 92\n",
    "}\n",
    "\n",
    "# Multi-line for readability (가독성을 위한 여러 줄)\n",
    "person = {\n",
    "    \"first_name\": \"John\",\n",
    "    \"last_name\": \"Smith\",\n",
    "    \"age\": 25,\n",
    "    \"city\": \"New York\"\n",
    "}"
   ]
  },
  {
   "cell_type": "markdown",
   "id": "78db99ef",
   "metadata": {
    "lines_to_next_cell": 0
   },
   "source": [
    "#### Method 2: Using dict() Function (dict() 함수 사용)"
   ]
  },
  {
   "cell_type": "code",
   "execution_count": null,
   "id": "f02e90db",
   "metadata": {},
   "outputs": [],
   "source": [
    "# From keyword arguments (키워드 인수로부터)\n",
    "colors = dict(red=\"FF0000\", green=\"00FF00\", blue=\"0000FF\")\n",
    "\n",
    "# From list of tuples (튜플 리스트로부터)\n",
    "coordinates = dict([(\"x\", 10), (\"y\", 20), (\"z\", 5)])\n",
    "\n",
    "print(colors)      # {'red': 'FF0000', 'green': '00FF00', 'blue': '0000FF'}\n",
    "print(coordinates) # {'x': 10, 'y': 20, 'z': 5}"
   ]
  },
  {
   "cell_type": "markdown",
   "id": "ab445249",
   "metadata": {
    "lines_to_next_cell": 0
   },
   "source": [
    "### Accessing Values (값 접근하기)\n",
    "\n",
    "#### Using Square Brackets (대괄호 사용)"
   ]
  },
  {
   "cell_type": "code",
   "execution_count": null,
   "id": "ce1acfa4",
   "metadata": {},
   "outputs": [],
   "source": [
    "student_info = {\n",
    "    \"name\": \"Alice\",\n",
    "    \"age\": 20,\n",
    "    \"major\": \"Computer Science\"\n",
    "}\n",
    "\n",
    "# Access values using keys (키를 사용해 값 접근)\n",
    "name = student_info[\"name\"]        # \"Alice\"\n",
    "age = student_info[\"age\"]          # 20\n",
    "major = student_info[\"major\"]      # \"Computer Science\"\n",
    "\n",
    "print(f\"Student: {name}, Age: {age}, Major: {major}\")"
   ]
  },
  {
   "cell_type": "markdown",
   "id": "e0295bce",
   "metadata": {},
   "source": [
    "#### Using get() Method (get() 메소드 사용)\n",
    "The `get()` method is safer because it doesn't cause an error if the key doesn't exist:\n",
    "`get()` 메소드는 키가 존재하지 않아도 오류가 발생하지 않아 더 안전합니다:"
   ]
  },
  {
   "cell_type": "code",
   "execution_count": null,
   "id": "c7189e74",
   "metadata": {},
   "outputs": [],
   "source": [
    "student_info = {\"name\": \"Alice\", \"age\": 20}\n",
    "\n",
    "# Safe access with get() (get()으로 안전한 접근)\n",
    "name = student_info.get(\"name\")          # \"Alice\"\n",
    "grade = student_info.get(\"grade\")        # None (key doesn't exist)\n",
    "grade = student_info.get(\"grade\", 0)     # 0 (default value)\n",
    "\n",
    "# Direct access might cause error (직접 접근은 오류 가능)\n",
    "# grade = student_info[\"grade\"]           # KeyError!\n",
    "\n",
    "print(f\"Name: {name}\")\n",
    "print(f\"Grade: {grade}\")"
   ]
  },
  {
   "cell_type": "markdown",
   "id": "960a275e",
   "metadata": {
    "lines_to_next_cell": 0
   },
   "source": [
    "### Modifying Dictionaries (딕셔너리 수정)\n",
    "\n",
    "#### Adding New Items (새 항목 추가)"
   ]
  },
  {
   "cell_type": "code",
   "execution_count": null,
   "id": "90e87bc7",
   "metadata": {},
   "outputs": [],
   "source": [
    "student = {\"name\": \"Alice\", \"age\": 20}\n",
    "\n",
    "# Add new key-value pairs (새로운 키-값 쌍 추가)\n",
    "student[\"major\"] = \"Biology\"\n",
    "student[\"gpa\"] = 3.8\n",
    "\n",
    "print(student)  # {'name': 'Alice', 'age': 20, 'major': 'Biology', 'gpa': 3.8}"
   ]
  },
  {
   "cell_type": "markdown",
   "id": "f8e182e2",
   "metadata": {
    "lines_to_next_cell": 0
   },
   "source": [
    "#### Updating Existing Items (기존 항목 업데이트)"
   ]
  },
  {
   "cell_type": "code",
   "execution_count": null,
   "id": "8cc7c4c0",
   "metadata": {},
   "outputs": [],
   "source": [
    "prices = {\"coffee\": 3.00, \"tea\": 2.50}\n",
    "\n",
    "# Update existing values (기존 값 업데이트)\n",
    "prices[\"coffee\"] = 3.50    # Price increase\n",
    "prices[\"tea\"] = 2.75       # Price increase\n",
    "\n",
    "print(prices)  # {'coffee': 3.5, 'tea': 2.75}"
   ]
  },
  {
   "cell_type": "markdown",
   "id": "7913491b",
   "metadata": {
    "lines_to_next_cell": 0
   },
   "source": [
    "#### Removing Items (항목 제거)"
   ]
  },
  {
   "cell_type": "code",
   "execution_count": null,
   "id": "d79e3bba",
   "metadata": {},
   "outputs": [],
   "source": [
    "inventory = {\"apples\": 50, \"bananas\": 30, \"oranges\": 25}\n",
    "\n",
    "# Remove using del keyword (del 키워드로 제거)\n",
    "del inventory[\"oranges\"]\n",
    "\n",
    "# Remove using pop() method (pop() 메소드로 제거)\n",
    "banana_count = inventory.pop(\"bananas\")  # Returns the value before removing\n",
    "\n",
    "print(inventory)      # {'apples': 50}\n",
    "print(banana_count)   # 30"
   ]
  },
  {
   "cell_type": "markdown",
   "id": "934f8281",
   "metadata": {
    "lines_to_next_cell": 0
   },
   "source": [
    "---\n",
    "\n",
    "## 📋 4. Dictionary Methods (딕셔너리 메소드)\n",
    "\n",
    "### Essential Dictionary Methods (필수 딕셔너리 메소드)\n",
    "\n",
    "#### keys() Method - Get All Keys (모든 키 가져오기)"
   ]
  },
  {
   "cell_type": "code",
   "execution_count": null,
   "id": "7d0bb5f3",
   "metadata": {},
   "outputs": [],
   "source": [
    "student_grades = {\"Alice\": 95, \"Bob\": 87, \"Charlie\": 92}\n",
    "\n",
    "# Get all keys (모든 키 가져오기)\n",
    "all_keys = student_grades.keys()\n",
    "print(all_keys)        # dict_keys(['Alice', 'Bob', 'Charlie'])\n",
    "\n",
    "# Convert to list if needed (필요시 리스트로 변환)\n",
    "key_list = list(student_grades.keys())\n",
    "print(key_list)        # ['Alice', 'Bob', 'Charlie']\n",
    "\n",
    "# Use in loops (반복문에서 사용)\n",
    "print(\"All students:\")\n",
    "for student in student_grades.keys():\n",
    "    print(f\"- {student}\")"
   ]
  },
  {
   "cell_type": "markdown",
   "id": "e859d82d",
   "metadata": {
    "lines_to_next_cell": 0
   },
   "source": [
    "#### values() Method - Get All Values (모든 값 가져오기)"
   ]
  },
  {
   "cell_type": "code",
   "execution_count": null,
   "id": "1f4c2f3c",
   "metadata": {},
   "outputs": [],
   "source": [
    "student_grades = {\"Alice\": 95, \"Bob\": 87, \"Charlie\": 92}\n",
    "\n",
    "# Get all values (모든 값 가져오기)\n",
    "all_grades = student_grades.values()\n",
    "print(all_grades)      # dict_values([95, 87, 92])\n",
    "\n",
    "# Convert to list if needed (필요시 리스트로 변환)\n",
    "grade_list = list(student_grades.values())\n",
    "print(grade_list)      # [95, 87, 92]\n",
    "\n",
    "# Calculate statistics (통계 계산)\n",
    "average_grade = sum(student_grades.values()) / len(student_grades)\n",
    "highest_grade = max(student_grades.values())\n",
    "lowest_grade = min(student_grades.values())\n",
    "\n",
    "print(f\"Average grade: {average_grade:.1f}\")\n",
    "print(f\"Highest grade: {highest_grade}\")\n",
    "print(f\"Lowest grade: {lowest_grade}\")"
   ]
  },
  {
   "cell_type": "markdown",
   "id": "1738e65f",
   "metadata": {
    "lines_to_next_cell": 0
   },
   "source": [
    "#### items() Method - Get Key-Value Pairs (키-값 쌍 가져오기)"
   ]
  },
  {
   "cell_type": "code",
   "execution_count": null,
   "id": "4b7a63d6",
   "metadata": {},
   "outputs": [],
   "source": [
    "student_grades = {\"Alice\": 95, \"Bob\": 87, \"Charlie\": 92}\n",
    "\n",
    "# Get all key-value pairs (모든 키-값 쌍 가져오기)\n",
    "all_items = student_grades.items()\n",
    "print(all_items)       # dict_items([('Alice', 95), ('Bob', 87), ('Charlie', 92)])\n",
    "\n",
    "# Use in loops (반복문에서 사용)\n",
    "print(\"Grade Report:\")\n",
    "for student, grade in student_grades.items():\n",
    "    if grade >= 90:\n",
    "        status = \"Excellent\"\n",
    "    elif grade >= 80:\n",
    "        status = \"Good\"\n",
    "    else:\n",
    "        status = \"Needs Improvement\"\n",
    "    \n",
    "    print(f\"{student}: {grade} ({status})\")"
   ]
  },
  {
   "cell_type": "markdown",
   "id": "d71d206d",
   "metadata": {},
   "source": [
    "### Other Useful Methods (기타 유용한 메소드)"
   ]
  },
  {
   "cell_type": "code",
   "execution_count": null,
   "id": "8db30628",
   "metadata": {},
   "outputs": [],
   "source": [
    "inventory = {\"apples\": 50, \"bananas\": 30}\n",
    "\n",
    "# Check if key exists (키 존재 확인)\n",
    "if \"apples\" in inventory:\n",
    "    print(\"We have apples in stock\")\n",
    "\n",
    "# Get number of items (항목 수 가져오기)\n",
    "item_count = len(inventory)\n",
    "print(f\"We have {item_count} types of fruit\")\n",
    "\n",
    "# Clear all items (모든 항목 지우기)\n",
    "backup = inventory.copy()    # Make a backup first\n",
    "inventory.clear()\n",
    "print(inventory)             # {}\n",
    "print(backup)                # {'apples': 50, 'bananas': 30}"
   ]
  },
  {
   "cell_type": "markdown",
   "id": "aebead7b",
   "metadata": {
    "lines_to_next_cell": 0
   },
   "source": [
    "---\n",
    "\n",
    "## 🔧 Lab Exercises (실습)\n",
    "\n",
    "### Lab 1: Phone Book Program (전화번호부 프로그램)\n",
    "\n",
    "**Problem (문제)**: Create a simple phone book that stores names and phone numbers. Add contacts, search for contacts, and display all contacts.\n",
    "이름과 전화번호를 저장하는 간단한 전화번호부를 만드세요. 연락처 추가, 검색, 모든 연락처 표시 기능을 포함하세요.\n",
    "\n",
    "**Requirements (요구사항)**:\n",
    "- Store contacts as name: phone_number pairs (연락처를 이름: 전화번호 쌍으로 저장)\n",
    "- Add new contacts (새 연락처 추가)\n",
    "- Search for specific contacts (특정 연락처 검색)\n",
    "\n",
    "**Solution (정답)**:"
   ]
  },
  {
   "cell_type": "code",
   "execution_count": null,
   "id": "e1fcf335",
   "metadata": {},
   "outputs": [],
   "source": [
    "# Create phone book dictionary\n",
    "phone_book = {\n",
    "    \"Alice\": \"010-1234-5678\",\n",
    "    \"Bob\": \"010-2345-6789\",\n",
    "    \"Charlie\": \"010-3456-7890\"\n",
    "}\n",
    "\n",
    "print(\"Phone Book Program\")\n",
    "print(f\"Total contacts: {len(phone_book)}\")\n",
    "\n",
    "# Display all contacts\n",
    "print(\"\\nAll Contacts:\")\n",
    "for name, phone in phone_book.items():\n",
    "    print(f\"{name}: {phone}\")\n",
    "\n",
    "# Add new contact\n",
    "phone_book[\"Diana\"] = \"010-4567-8901\"\n",
    "print(f\"\\nAdded Diana to phone book\")\n",
    "\n",
    "# Search for specific contact\n",
    "search_name = \"Bob\"\n",
    "if search_name in phone_book:\n",
    "    print(f\"Found {search_name}: {phone_book[search_name]}\")\n",
    "else:\n",
    "    print(f\"{search_name} not found\")\n",
    "\n",
    "# Search using get() method\n",
    "search_name2 = \"John\"\n",
    "result = phone_book.get(search_name2, \"Not found\")\n",
    "print(f\"Search for {search_name2}: {result}\")\n",
    "\n",
    "# Display updated contact list\n",
    "print(f\"\\nUpdated phone book ({len(phone_book)} contacts):\")\n",
    "for name, phone in phone_book.items():\n",
    "    print(f\"{name}: {phone}\")"
   ]
  },
  {
   "cell_type": "markdown",
   "id": "a680658b",
   "metadata": {
    "lines_to_next_cell": 0
   },
   "source": [
    "### Lab 2: English-Korean Vocabulary Program (영한 단어장 프로그램)\n",
    "\n",
    "**Problem (문제)**: Build a vocabulary dictionary that stores English words with their Korean translations. Look up words and add new vocabulary.\n",
    "영어 단어와 한국어 번역을 저장하는 단어장 딕셔너리를 만드세요. 단어 찾기와 새 단어 추가 기능을 포함하세요.\n",
    "\n",
    "**Requirements (요구사항)**:\n",
    "- Store English words as keys, Korean meanings as values (영어 단어를 키로, 한국어 의미를 값으로 저장)\n",
    "- Look up Korean meanings (한국어 의미 찾기)\n",
    "- Add new vocabulary (새 단어 추가)\n",
    "\n",
    "**Solution (정답)**:"
   ]
  },
  {
   "cell_type": "code",
   "execution_count": null,
   "id": "2e407aab",
   "metadata": {},
   "outputs": [],
   "source": [
    "# English-Korean vocabulary dictionary\n",
    "vocabulary = {\n",
    "    \"apple\": \"사과\",\n",
    "    \"book\": \"책\",\n",
    "    \"computer\": \"컴퓨터\",\n",
    "    \"dog\": \"개\",\n",
    "    \"house\": \"집\"\n",
    "}\n",
    "\n",
    "print(\"English-Korean Vocabulary\")\n",
    "print(f\"Current vocabulary: {len(vocabulary)} words\")\n",
    "\n",
    "# Display all vocabulary\n",
    "print(\"\\nVocabulary List:\")\n",
    "for english, korean in vocabulary.items():\n",
    "    print(f\"{english} -> {korean}\")\n",
    "\n",
    "# Look up specific words\n",
    "lookup_words = [\"apple\", \"computer\", \"car\"]\n",
    "print(\"\\nWord Lookup:\")\n",
    "for word in lookup_words:\n",
    "    meaning = vocabulary.get(word, \"Not found\")\n",
    "    print(f\"'{word}': {meaning}\")\n",
    "\n",
    "# Add new vocabulary\n",
    "vocabulary[\"water\"] = \"물\"\n",
    "vocabulary[\"school\"] = \"학교\"\n",
    "print(f\"\\nAdded 2 new words\")\n",
    "\n",
    "# Display updated vocabulary\n",
    "print(f\"\\nUpdated vocabulary ({len(vocabulary)} words):\")\n",
    "for english, korean in vocabulary.items():\n",
    "    print(f\"{english} -> {korean}\")\n",
    "\n",
    "# Find words starting with 'c'\n",
    "print(\"\\nWords starting with 'c':\")\n",
    "for word in vocabulary.keys():\n",
    "    if word.startswith(\"c\"):\n",
    "        print(f\"{word}: {vocabulary[word]}\")"
   ]
  },
  {
   "cell_type": "markdown",
   "id": "ea25a646",
   "metadata": {
    "lines_to_next_cell": 0
   },
   "source": [
    "### Lab 3: Product Inventory Management (상품 재고 관리 프로그램)\n",
    "\n",
    "**Problem (문제)**: Create an inventory system for a store. Track product names, quantities, and prices. Update stock and calculate total value.\n",
    "상점을 위한 재고 시스템을 만드세요. 상품명, 수량, 가격을 추적하세요. 재고 업데이트와 총 가치 계산을 포함하세요.\n",
    "\n",
    "**Requirements (요구사항)**:\n",
    "- Store product information (상품 정보 저장)\n",
    "- Update stock quantities (재고 수량 업데이트)\n",
    "- Calculate total inventory value (총 재고 가치 계산)\n",
    "\n",
    "**Solution (정답)**:"
   ]
  },
  {
   "cell_type": "code",
   "execution_count": null,
   "id": "ce9648ab",
   "metadata": {},
   "outputs": [],
   "source": [
    "# Product inventory: product_name -> [quantity, price]\n",
    "inventory = {\n",
    "    \"Laptop\": [15, 899.99],\n",
    "    \"Mouse\": [45, 25.50],\n",
    "    \"Keyboard\": [30, 79.99],\n",
    "    \"Monitor\": [8, 299.99]\n",
    "}\n",
    "\n",
    "print(\"Inventory Management System\")\n",
    "\n",
    "# Display current inventory\n",
    "print(\"\\nCurrent Inventory:\")\n",
    "total_value = 0\n",
    "for product, info in inventory.items():\n",
    "    quantity, price = info\n",
    "    item_value = quantity * price\n",
    "    total_value += item_value\n",
    "    print(f\"{product}: {quantity} units at ${price} each = ${item_value:.2f}\")\n",
    "\n",
    "print(f\"\\nTotal Inventory Value: ${total_value:.2f}\")\n",
    "\n",
    "# Update stock (simulate sales)\n",
    "print(\"\\nProcessing sales:\")\n",
    "inventory[\"Laptop\"][0] -= 3    # Sold 3 laptops\n",
    "inventory[\"Mouse\"][0] -= 10    # Sold 10 mice\n",
    "print(\"Sold 3 Laptops and 10 Mice\")\n",
    "\n",
    "# Add new stock\n",
    "print(\"\\nRestocking:\")\n",
    "inventory[\"Monitor\"][0] += 12   # Added 12 monitors\n",
    "inventory[\"Keyboard\"][0] += 20  # Added 20 keyboards\n",
    "print(\"Added 12 Monitors and 20 Keyboards\")\n",
    "\n",
    "# Find low-stock items (less than 15)\n",
    "print(\"\\nLow Stock Alert (less than 15 units):\")\n",
    "for product, info in inventory.items():\n",
    "    quantity = info[0]\n",
    "    if quantity < 15:\n",
    "        print(f\"Warning: {product} has only {quantity} units left\")\n",
    "\n",
    "# Calculate updated total value\n",
    "print(\"\\nUpdated Inventory:\")\n",
    "new_total_value = 0\n",
    "for product, info in inventory.items():\n",
    "    quantity, price = info\n",
    "    item_value = quantity * price\n",
    "    new_total_value += item_value\n",
    "    print(f\"{product}: {quantity} units = ${item_value:.2f}\")\n",
    "\n",
    "print(f\"\\nNew Total Value: ${new_total_value:.2f}\")\n",
    "print(f\"Value change: ${new_total_value - total_value:.2f}\")"
   ]
  },
  {
   "cell_type": "markdown",
   "id": "6bc4f3a1",
   "metadata": {
    "lines_to_next_cell": 0
   },
   "source": [
    "---\n",
    "\n",
    "## 📝 Quiz Section (퀴즈)\n",
    "\n",
    "### Quiz 1: Dictionary Creation and Access (딕셔너리 생성 및 접근)\n",
    "\n",
    "**Question**: Create a dictionary called `student_record` that stores information about a student including their name, age, major, and GPA. Then write code to:\n",
    "`student_record`라는 딕셔너리를 만들어 학생의 이름, 나이, 전공, 학점을 저장하세요. 그 후 다음을 수행하는 코드를 작성하세요:\n",
    "\n",
    "1. Create the dictionary with sample data (샘플 데이터로 딕셔너리 생성)\n",
    "2. Access and print the student's name and major (학생 이름과 전공 접근 및 출력)\n",
    "3. Update the student's GPA to a new value (학생 GPA를 새 값으로 업데이트)\n",
    "4. Add a new key \"graduation_year\" with a value (새 키 \"graduation_year\"를 값과 함께 추가)\n",
    "\n",
    "**Write your answer here (답을 여기에 작성하세요)**:"
   ]
  },
  {
   "cell_type": "code",
   "execution_count": null,
   "id": "82cd1445",
   "metadata": {},
   "outputs": [],
   "source": [
    "# Your code here"
   ]
  },
  {
   "cell_type": "markdown",
   "id": "9f171fc7",
   "metadata": {},
   "source": [
    "### Quiz 2: Dictionary Methods Challenge (딕셔너리 메소드 도전)\n",
    "\n",
    "**Question**: Given the following dictionary of exam scores, write code to:\n",
    "다음 시험 점수 딕셔너리가 주어졌을 때, 다음을 수행하는 코드를 작성하세요:"
   ]
  },
  {
   "cell_type": "code",
   "execution_count": null,
   "id": "2b78382c",
   "metadata": {},
   "outputs": [],
   "source": [
    "exam_scores = {\n",
    "    \"Alice\": 95,\n",
    "    \"Bob\": 87,\n",
    "    \"Charlie\": 92,\n",
    "    \"Diana\": 78,\n",
    "    \"Eve\": 88,\n",
    "    \"Frank\": 91\n",
    "}"
   ]
  },
  {
   "cell_type": "markdown",
   "id": "c6a00af0",
   "metadata": {
    "lines_to_next_cell": 0
   },
   "source": [
    "1. Print all student names using the appropriate dictionary method (적절한 딕셔너리 메소드를 사용해 모든 학생 이름 출력)\n",
    "2. Calculate and print the average score (평균 점수 계산 및 출력)\n",
    "3. Find and print the name of the student with the highest score (최고 점수를 받은 학생 이름 찾기 및 출력)\n",
    "4. Create a list of students who scored 90 or above (90점 이상 받은 학생들의 리스트 생성)\n",
    "\n",
    "**Write your answer here (답을 여기에 작성하세요)**:"
   ]
  },
  {
   "cell_type": "code",
   "execution_count": null,
   "id": "a65d451d",
   "metadata": {},
   "outputs": [],
   "source": [
    "exam_scores = {\n",
    "    \"Alice\": 95,\n",
    "    \"Bob\": 87,\n",
    "    \"Charlie\": 92,\n",
    "    \"Diana\": 78,\n",
    "    \"Eve\": 88,\n",
    "    \"Frank\": 91\n",
    "}\n",
    "\n",
    "# Your code here"
   ]
  },
  {
   "cell_type": "markdown",
   "id": "f83a8ee1",
   "metadata": {},
   "source": [
    "### Quiz 3: Nested Dictionary Analysis (중첩 딕셔너리 분석)\n",
    "\n",
    "**Question**: You have a dictionary containing information about different cities. Each city has data about population, country, and area. Write a program that:\n",
    "다양한 도시에 대한 정보를 포함하는 딕셔너리가 있습니다. 각 도시에는 인구, 국가, 면적에 대한 데이터가 있습니다. 다음을 수행하는 프로그램을 작성하세요:"
   ]
  },
  {
   "cell_type": "code",
   "execution_count": null,
   "id": "731ae480",
   "metadata": {},
   "outputs": [],
   "source": [
    "cities = {\n",
    "    \"Seoul\": {\"population\": 9720846, \"country\": \"South Korea\", \"area\": 605.21},\n",
    "    \"Tokyo\": {\"population\": 13960000, \"country\": \"Japan\", \"area\": 2187.66},\n",
    "    \"London\": {\"population\": 8982000, \"country\": \"UK\", \"area\": 1572.0},\n",
    "    \"Paris\": {\"population\": 2161000, \"country\": \"France\", \"area\": 105.4},\n",
    "    \"New York\": {\"population\": 8336817, \"country\": \"USA\", \"area\": 778.2}\n",
    "}"
   ]
  },
  {
   "cell_type": "markdown",
   "id": "58ac8339",
   "metadata": {
    "lines_to_next_cell": 0
   },
   "source": [
    "1. Print the population of Seoul (서울의 인구 출력)\n",
    "2. Find the city with the largest area (가장 넓은 면적을 가진 도시 찾기)\n",
    "3. Calculate the population density (population/area) for each city and print the results (각 도시의 인구 밀도 계산 및 결과 출력)\n",
    "4. Create a list of all countries represented in the data (데이터에 나타난 모든 국가의 리스트 생성)\n",
    "\n",
    "**Write your answer here (답을 여기에 작성하세요)**:"
   ]
  },
  {
   "cell_type": "code",
   "execution_count": null,
   "id": "2dafd8af",
   "metadata": {},
   "outputs": [],
   "source": [
    "cities = {\n",
    "    \"Seoul\": {\"population\": 9720846, \"country\": \"South Korea\", \"area\": 605.21},\n",
    "    \"Tokyo\": {\"population\": 13960000, \"country\": \"Japan\", \"area\": 2187.66},\n",
    "    \"London\": {\"population\": 8982000, \"country\": \"UK\", \"area\": 1572.0},\n",
    "    \"Paris\": {\"population\": 2161000, \"country\": \"France\", \"area\": 105.4},\n",
    "    \"New York\": {\"population\": 8336817, \"country\": \"USA\", \"area\": 778.2}\n",
    "}\n",
    "\n",
    "# Your code here"
   ]
  },
  {
   "cell_type": "markdown",
   "id": "2688481d",
   "metadata": {},
   "source": [
    "---\n",
    "\n",
    "## 📖 References (참고 자료)\n",
    "\n",
    "1. **Python Dictionaries Documentation**: https://docs.python.org/3/tutorial/datastructures.html#dictionaries\n",
    "   - Official Python documentation on dictionaries (딕셔너리에 대한 공식 Python 문서)\n",
    "\n",
    "2. **Real Python - Python Dictionaries**: https://realpython.com/python-dicts/\n",
    "   - Comprehensive guide with practical examples (실용적 예시가 포함된 종합 가이드)\n",
    "\n",
    "3. **W3Schools Python Dictionaries**: https://www.w3schools.com/python/python_dictionaries.asp\n",
    "   - Interactive tutorials and exercises (대화형 튜토리얼과 연습 문제)\n",
    "\n",
    "4. **Automate the Boring Stuff - Dictionaries**: https://automatetheboringstuff.com/2e/chapter5/\n",
    "   - Practical applications of dictionaries in real projects (실제 프로젝트에서 딕셔너리의 실용적 활용)\n",
    "\n",
    "---\n",
    "\n",
    "## 💡 Additional Tips for Success (성공을 위한 추가 팁)\n",
    "\n",
    "### Best Practices (모범 사례)\n",
    "- **Use meaningful key names**: Choose keys that clearly describe the data (의미 있는 키 이름 사용: 데이터를 명확히 설명하는 키 선택)\n",
    "- **Check if keys exist**: Always use `in` operator or `get()` method to avoid errors (키 존재 확인: 오류 방지를 위해 항상 `in` 연산자나 `get()` 메소드 사용)\n",
    "- **Keep it simple**: Don't nest dictionaries too deeply unless necessary (단순하게 유지: 필요하지 않다면 딕셔너리를 너무 깊게 중첩하지 말 것)\n",
    "\n",
    "### Common Mistakes to Avoid (피해야 할 일반적인 실수)\n",
    "- **Using lists as keys**: Remember that keys must be immutable (리스트를 키로 사용: 키는 불변이어야 함을 기억)\n",
    "- **Assuming keys exist**: Always check before accessing to prevent KeyError (키 존재 가정: KeyError 방지를 위해 접근 전 항상 확인)\n",
    "- **Modifying during iteration**: Don't change dictionary size while looping through it (반복 중 수정: 딕셔너리를 순회하면서 크기 변경하지 말 것)\n",
    "\n",
    "### Performance Tips (성능 팁)\n",
    "- **Dictionaries are fast**: Looking up values by key is much faster than searching through lists (딕셔너리는 빠름: 키로 값을 찾는 것이 리스트 검색보다 훨씬 빠름)\n",
    "- **Use get() for optional keys**: It's safer and more efficient than try-catch blocks (선택적 키에는 get() 사용: try-catch 블록보다 안전하고 효율적)\n",
    "\n",
    "### Real-World Applications (실제 활용 사례)\n",
    "- **Configuration settings**: Store app settings and preferences (설정 관리: 앱 설정과 환경설정 저장)\n",
    "- **Caching data**: Store frequently accessed data for faster retrieval (데이터 캐싱: 빠른 검색을 위한 자주 접근하는 데이터 저장)\n",
    "- **Counting items**: Count occurrences of different items (항목 카운팅: 다양한 항목의 발생 횟수 계산)\n",
    "\n",
    "### Next Week Preview (다음 주 미리보기)\n",
    "Next week we'll explore **advanced data structures** - combining lists, tuples, and dictionaries to create more complex data organizations!\n",
    "다음 주에는 **고급 데이터 구조**를 탐구합니다 - 리스트, 튜플, 딕셔너리를 결합하여 더 복잡한 데이터 구조를 만들어보겠습니다!\n",
    "\n",
    "---\n",
    "\n",
    "## 📋 Homework (숙제)\n",
    "\n",
    "1. **Practice**: Complete all three lab exercises and try variations with your own data (연습: 3개 실습을 모두 완료하고 자신만의 데이터로 변형 시도)\n",
    "2. **Experiment**: Create a dictionary to store information about your favorite movies, including title, year, director, and rating (실험: 좋아하는 영화 정보를 저장하는 딕셔너리 만들기 - 제목, 연도, 감독, 평점 포함)\n",
    "3. **Explore**: Build a simple grade book system that can store multiple subjects for multiple students (탐색: 여러 학생의 여러 과목을 저장할 수 있는 간단한 성적부 시스템 구축)\n",
    "4. **Challenge**: Create a program that can convert between different units (length, weight, temperature) using dictionaries to store conversion factors (도전: 딕셔너리를 사용해 변환 계수를 저장하고 다양한 단위(길이, 무게, 온도) 간 변환하는 프로그램 만들기)\n",
    "\n",
    "**Excellent work learning about dictionaries!** 🎉  \n",
    "**딕셔너리 학습 수고하셨습니다!** 🎉"
   ]
  }
 ],
 "metadata": {
  "jupytext": {
   "cell_metadata_filter": "-all",
   "main_language": "python",
   "notebook_metadata_filter": "-all"
  }
 },
 "nbformat": 4,
 "nbformat_minor": 5
}
