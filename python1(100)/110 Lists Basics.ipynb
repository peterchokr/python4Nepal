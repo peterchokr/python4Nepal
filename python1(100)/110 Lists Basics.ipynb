{
 "cells": [
  {
   "cell_type": "markdown",
   "id": "052c1870",
   "metadata": {
    "lines_to_next_cell": 0
   },
   "source": [
    "# Lists Basics\n",
    "**리스트 기초**\n",
    "\n",
    "**Duration (수업 시간)**: 3 hours (3시간)  \n",
    "**Structure (구성)**: Lecture & Lab 2 hours + Quiz 1 hour (강의 및 실습 2시간 + 퀴즈 1시간)  \n",
    "**Level (수준)**: Beginner (초급)  \n",
    "**Prerequisites (선수 학습)**: Variables, Data Types, Operators, Input/Output, Conditional Statements, Loops (변수, 데이터 타입, 연산자, 입출력, 조건문, 반복문)\n",
    "\n",
    "---\n",
    "\n",
    "## 🎯 Learning Objectives (학습 목표)\n",
    "\n",
    "By the end of this lesson, students will be able to:\n",
    "(이 수업을 마친 후 학생들은 다음을 할 수 있습니다:)\n",
    "\n",
    "- Understand what lists are and why they are useful (리스트가 무엇인지, 왜 유용한지 이해)\n",
    "- Create lists and access elements using indexing (리스트를 생성하고 인덱싱으로 요소에 접근)\n",
    "- Use slicing to work with parts of lists (슬라이싱을 사용하여 리스트의 일부분으로 작업)\n",
    "- Apply essential list methods for adding, removing, and modifying elements (요소 추가, 제거, 수정을 위한 필수 리스트 메소드 적용)\n",
    "- Build practical programs that manage collections of data (데이터 컬렉션을 관리하는 실용적인 프로그램 구축)\n",
    "\n",
    "---\n",
    "\n",
    "## 📋 1. What are Lists? (리스트란 무엇인가?)\n",
    "\n",
    "**Lists** are collections that can store multiple items in a single variable. Think of a list as a container that can hold many different things in order.\n",
    "(**리스트**는 하나의 변수에 여러 항목을 저장할 수 있는 컬렉션입니다. 리스트를 순서대로 여러 다른 것들을 담을 수 있는 컨테이너라고 생각해보세요.)\n",
    "\n",
    "### Real-world Analogy (실생활 비유)\n",
    "Lists are like shopping lists or class rosters:\n",
    "(리스트는 쇼핑 목록이나 학급 명단과 같습니다:)\n",
    "\n",
    "```\n",
    "Shopping List (쇼핑 목록):\n",
    "1. Apples\n",
    "2. Bread  \n",
    "3. Milk\n",
    "4. Eggs\n",
    "\n",
    "Python List (파이썬 리스트):\n",
    "shopping_list = [\"Apples\", \"Bread\", \"Milk\", \"Eggs\"]\n",
    "```\n",
    "\n",
    "### Why Use Lists? (왜 리스트를 사용하나요?)\n",
    "\n",
    "#### Without Lists (리스트 없이)"
   ]
  },
  {
   "cell_type": "code",
   "execution_count": null,
   "id": "781841bd",
   "metadata": {},
   "outputs": [],
   "source": [
    "# Storing student names - messy way\n",
    "student1 = \"Alice\"\n",
    "student2 = \"Bob\"\n",
    "student3 = \"Charlie\"\n",
    "student4 = \"Diana\"\n",
    "\n",
    "# Hard to manage, can't loop easily\n",
    "print(student1)\n",
    "print(student2)\n",
    "print(student3)\n",
    "print(student4)"
   ]
  },
  {
   "cell_type": "markdown",
   "id": "f43e638f",
   "metadata": {
    "lines_to_next_cell": 0
   },
   "source": [
    "#### With Lists (리스트 사용)"
   ]
  },
  {
   "cell_type": "code",
   "execution_count": null,
   "id": "11544e83",
   "metadata": {},
   "outputs": [],
   "source": [
    "# Storing student names - clean way\n",
    "students = [\"Alice\", \"Bob\", \"Charlie\", \"Diana\"]\n",
    "\n",
    "# Easy to manage and loop through\n",
    "for student in students:\n",
    "    print(student)"
   ]
  },
  {
   "cell_type": "markdown",
   "id": "b4976902",
   "metadata": {
    "lines_to_next_cell": 0
   },
   "source": [
    "### List Characteristics (리스트 특징)\n",
    "- **Ordered**: Items have a specific position (순서가 있음: 항목들이 특정 위치를 가짐)\n",
    "- **Changeable**: Can add, remove, or modify items (변경 가능: 항목을 추가, 제거, 수정할 수 있음)\n",
    "- **Allow duplicates**: Same item can appear multiple times (중복 허용: 같은 항목이 여러 번 나타날 수 있음)\n",
    "- **Mixed types**: Can store different data types together (혼합 타입: 다양한 데이터 타입을 함께 저장 가능)\n",
    "\n",
    "---\n",
    "\n",
    "## 🔢 2. List Creation and Indexing (리스트 생성과 인덱싱)\n",
    "\n",
    "### Creating Lists (리스트 생성)\n",
    "\n",
    "#### Method 1: Square Brackets [] (대괄호 사용)"
   ]
  },
  {
   "cell_type": "code",
   "execution_count": null,
   "id": "f63f2176",
   "metadata": {},
   "outputs": [],
   "source": [
    "# Empty list\n",
    "empty_list = []\n",
    "\n",
    "# List with numbers\n",
    "numbers = [1, 2, 3, 4, 5]\n",
    "\n",
    "# List with strings\n",
    "fruits = [\"apple\", \"banana\", \"orange\"]\n",
    "\n",
    "# List with mixed types\n",
    "mixed_list = [\"Alice\", 25, True, 3.14]\n",
    "\n",
    "# List with duplicates\n",
    "grades = [85, 90, 85, 92, 85]"
   ]
  },
  {
   "cell_type": "markdown",
   "id": "3d00093b",
   "metadata": {
    "lines_to_next_cell": 0
   },
   "source": [
    "#### Method 2: list() Function (list() 함수 사용)"
   ]
  },
  {
   "cell_type": "code",
   "execution_count": null,
   "id": "40048831",
   "metadata": {},
   "outputs": [],
   "source": [
    "# Convert string to list of characters\n",
    "letters = list(\"Hello\")  # ['H', 'e', 'l', 'l', 'o']\n",
    "\n",
    "# Convert range to list\n",
    "numbers = list(range(1, 6))  # [1, 2, 3, 4, 5]"
   ]
  },
  {
   "cell_type": "markdown",
   "id": "5586f1ad",
   "metadata": {},
   "source": [
    "### List Indexing (리스트 인덱싱)\n",
    "\n",
    "Lists use **zero-based indexing**, meaning the first item is at position 0.\n",
    "(리스트는 **0 기반 인덱싱**을 사용하므로, 첫 번째 항목이 위치 0에 있습니다.)"
   ]
  },
  {
   "cell_type": "code",
   "execution_count": null,
   "id": "a89c7d58",
   "metadata": {},
   "outputs": [],
   "source": [
    "fruits = [\"apple\", \"banana\", \"orange\", \"grape\", \"kiwi\"]\n",
    "#         0        1         2        3       4\n",
    "#        -5       -4        -3       -2      -1"
   ]
  },
  {
   "cell_type": "markdown",
   "id": "665ffdce",
   "metadata": {
    "lines_to_next_cell": 0
   },
   "source": [
    "#### Positive Indexing (양수 인덱싱)"
   ]
  },
  {
   "cell_type": "code",
   "execution_count": null,
   "id": "2bd9c2fd",
   "metadata": {},
   "outputs": [],
   "source": [
    "fruits = [\"apple\", \"banana\", \"orange\", \"grape\", \"kiwi\"]\n",
    "\n",
    "print(fruits[0])    # \"apple\" - first item\n",
    "print(fruits[1])    # \"banana\" - second item  \n",
    "print(fruits[2])    # \"orange\" - third item\n",
    "print(fruits[4])    # \"kiwi\" - last item"
   ]
  },
  {
   "cell_type": "markdown",
   "id": "64c77bd8",
   "metadata": {
    "lines_to_next_cell": 0
   },
   "source": [
    "#### Negative Indexing (음수 인덱싱)"
   ]
  },
  {
   "cell_type": "code",
   "execution_count": null,
   "id": "8da97f08",
   "metadata": {},
   "outputs": [],
   "source": [
    "fruits = [\"apple\", \"banana\", \"orange\", \"grape\", \"kiwi\"]\n",
    "\n",
    "print(fruits[-1])   # \"kiwi\" - last item\n",
    "print(fruits[-2])   # \"grape\" - second to last\n",
    "print(fruits[-3])   # \"orange\" - third to last\n",
    "print(fruits[-5])   # \"apple\" - first item (same as fruits[0])"
   ]
  },
  {
   "cell_type": "markdown",
   "id": "a2ae4c21",
   "metadata": {
    "lines_to_next_cell": 0
   },
   "source": [
    "### Practical Examples (실용적인 예시)\n",
    "\n",
    "#### Example 1: Student Grades (학생 성적)"
   ]
  },
  {
   "cell_type": "code",
   "execution_count": null,
   "id": "c30b2836",
   "metadata": {},
   "outputs": [],
   "source": [
    "# Store and access student grades\n",
    "grades = [85, 92, 78, 96, 87]\n",
    "\n",
    "print(f\"First student grade: {grades[0]}\")\n",
    "print(f\"Last student grade: {grades[-1]}\")\n",
    "print(f\"Total grades recorded: {len(grades)}\")\n",
    "\n",
    "# Calculate average\n",
    "total = sum(grades)\n",
    "average = total / len(grades)\n",
    "print(f\"Class average: {average:.1f}\")"
   ]
  },
  {
   "cell_type": "markdown",
   "id": "550e3ba6",
   "metadata": {
    "lines_to_next_cell": 0
   },
   "source": [
    "#### Example 2: Day Names (요일 이름)"
   ]
  },
  {
   "cell_type": "code",
   "execution_count": null,
   "id": "b04d5203",
   "metadata": {},
   "outputs": [],
   "source": [
    "# Days of the week\n",
    "days = [\"Monday\", \"Tuesday\", \"Wednesday\", \"Thursday\", \n",
    "        \"Friday\", \"Saturday\", \"Sunday\"]\n",
    "\n",
    "# Access specific days\n",
    "today = days[2]  # Wednesday\n",
    "tomorrow = days[3]  # Thursday\n",
    "\n",
    "print(f\"Today is {today}\")\n",
    "print(f\"Tomorrow is {tomorrow}\")\n",
    "\n",
    "# Weekend days\n",
    "weekend = [days[5], days[6]]  # Saturday, Sunday\n",
    "print(f\"Weekend days: {weekend}\")"
   ]
  },
  {
   "cell_type": "markdown",
   "id": "4a2e9c81",
   "metadata": {
    "lines_to_next_cell": 0
   },
   "source": [
    "---\n",
    "\n",
    "## ✂️ 3. List Slicing (리스트 슬라이싱)\n",
    "\n",
    "**Slicing** allows you to extract a portion of a list by specifying a range of indices.\n",
    "(**슬라이싱**은 인덱스 범위를 지정하여 리스트의 일부분을 추출할 수 있게 해줍니다.)\n",
    "\n",
    "### Slicing Syntax (슬라이싱 문법)"
   ]
  },
  {
   "cell_type": "code",
   "execution_count": null,
   "id": "e683840a",
   "metadata": {
    "lines_to_next_cell": 0
   },
   "outputs": [],
   "source": [
    "list_name[start:stop:step]"
   ]
  },
  {
   "cell_type": "markdown",
   "id": "5bdf09f4",
   "metadata": {},
   "source": [
    "- **start**: Beginning index (included) (시작 인덱스, 포함됨)\n",
    "- **stop**: Ending index (excluded) (끝 인덱스, 제외됨)\n",
    "- **step**: Step size (optional, default is 1) (단계 크기, 선택사항, 기본값 1)\n",
    "\n",
    "### Basic Slicing Examples (기본 슬라이싱 예시)"
   ]
  },
  {
   "cell_type": "code",
   "execution_count": null,
   "id": "9c5cde40",
   "metadata": {},
   "outputs": [],
   "source": [
    "numbers = [0, 1, 2, 3, 4, 5, 6, 7, 8, 9]\n",
    "#          0  1  2  3  4  5  6  7  8  9"
   ]
  },
  {
   "cell_type": "markdown",
   "id": "5f02da72",
   "metadata": {
    "lines_to_next_cell": 0
   },
   "source": [
    "#### Basic Range (기본 범위)"
   ]
  },
  {
   "cell_type": "code",
   "execution_count": null,
   "id": "fc3a5aa1",
   "metadata": {},
   "outputs": [],
   "source": [
    "numbers = [0, 1, 2, 3, 4, 5, 6, 7, 8, 9]\n",
    "\n",
    "print(numbers[2:5])    # [2, 3, 4] - from index 2 to 4\n",
    "print(numbers[1:7])    # [1, 2, 3, 4, 5, 6] - from index 1 to 6\n",
    "print(numbers[0:3])    # [0, 1, 2] - first three items"
   ]
  },
  {
   "cell_type": "markdown",
   "id": "ba623c7b",
   "metadata": {
    "lines_to_next_cell": 0
   },
   "source": [
    "#### Omitting Start or Stop (시작 또는 끝 생략)"
   ]
  },
  {
   "cell_type": "code",
   "execution_count": null,
   "id": "615289d3",
   "metadata": {},
   "outputs": [],
   "source": [
    "numbers = [0, 1, 2, 3, 4, 5, 6, 7, 8, 9]\n",
    "\n",
    "print(numbers[:4])     # [0, 1, 2, 3] - from beginning to index 3\n",
    "print(numbers[6:])     # [6, 7, 8, 9] - from index 6 to end\n",
    "print(numbers[:])      # [0, 1, 2, 3, 4, 5, 6, 7, 8, 9] - entire list"
   ]
  },
  {
   "cell_type": "markdown",
   "id": "ea792e97",
   "metadata": {
    "lines_to_next_cell": 0
   },
   "source": [
    "#### Using Step (단계 사용)"
   ]
  },
  {
   "cell_type": "code",
   "execution_count": null,
   "id": "3c343b1b",
   "metadata": {},
   "outputs": [],
   "source": [
    "numbers = [0, 1, 2, 3, 4, 5, 6, 7, 8, 9]\n",
    "\n",
    "print(numbers[::2])    # [0, 2, 4, 6, 8] - every second item\n",
    "print(numbers[1::2])   # [1, 3, 5, 7, 9] - every second item starting from index 1\n",
    "print(numbers[::3])    # [0, 3, 6, 9] - every third item"
   ]
  },
  {
   "cell_type": "markdown",
   "id": "91545e49",
   "metadata": {
    "lines_to_next_cell": 0
   },
   "source": [
    "#### Negative Indices in Slicing (슬라이싱에서 음수 인덱스)"
   ]
  },
  {
   "cell_type": "code",
   "execution_count": null,
   "id": "97e0319c",
   "metadata": {},
   "outputs": [],
   "source": [
    "numbers = [0, 1, 2, 3, 4, 5, 6, 7, 8, 9]\n",
    "\n",
    "print(numbers[-3:])    # [7, 8, 9] - last three items\n",
    "print(numbers[:-2])    # [0, 1, 2, 3, 4, 5, 6, 7] - all except last two\n",
    "print(numbers[-5:-2])  # [5, 6, 7] - from 5th last to 3rd last"
   ]
  },
  {
   "cell_type": "markdown",
   "id": "c5f3a4fd",
   "metadata": {
    "lines_to_next_cell": 0
   },
   "source": [
    "### Practical Slicing Examples (실용적인 슬라이싱 예시)\n",
    "\n",
    "#### Example 1: Text Processing (텍스트 처리)"
   ]
  },
  {
   "cell_type": "code",
   "execution_count": null,
   "id": "d1a88b40",
   "metadata": {},
   "outputs": [],
   "source": [
    "# Extract parts of a word\n",
    "word = list(\"PROGRAMMING\")  # ['P', 'R', 'O', 'G', 'R', 'A', 'M', 'M', 'I', 'N', 'G']\n",
    "\n",
    "# Get first half and second half\n",
    "first_half = word[:6]      # ['P', 'R', 'O', 'G', 'R', 'A']\n",
    "second_half = word[6:]     # ['M', 'M', 'I', 'N', 'G']\n",
    "\n",
    "print(f\"First half: {''.join(first_half)}\")   # \"PROGRA\"\n",
    "print(f\"Second half: {''.join(second_half)}\")  # \"MMING\""
   ]
  },
  {
   "cell_type": "markdown",
   "id": "15f25d96",
   "metadata": {
    "lines_to_next_cell": 0
   },
   "source": [
    "#### Example 2: Weekly Data (주간 데이터)"
   ]
  },
  {
   "cell_type": "code",
   "execution_count": null,
   "id": "62ef02cb",
   "metadata": {},
   "outputs": [],
   "source": [
    "# Daily temperatures for a week\n",
    "temperatures = [22, 25, 23, 26, 28, 30, 27]\n",
    "days = [\"Mon\", \"Tue\", \"Wed\", \"Thu\", \"Fri\", \"Sat\", \"Sun\"]\n",
    "\n",
    "# Weekdays vs Weekend\n",
    "weekdays = temperatures[:5]    # [22, 25, 23, 26, 28]\n",
    "weekend = temperatures[5:]     # [30, 27]\n",
    "\n",
    "print(f\"Weekday temperatures: {weekdays}\")\n",
    "print(f\"Weekend temperatures: {weekend}\")\n",
    "print(f\"Average weekday temp: {sum(weekdays)/len(weekdays):.1f}\")\n",
    "print(f\"Average weekend temp: {sum(weekend)/len(weekend):.1f}\")"
   ]
  },
  {
   "cell_type": "markdown",
   "id": "b9e6373c",
   "metadata": {
    "lines_to_next_cell": 0
   },
   "source": [
    "---\n",
    "\n",
    "## 🛠️ 4. Essential List Methods (필수 리스트 메소드)\n",
    "\n",
    "Lists come with built-in methods that make it easy to add, remove, and modify elements.\n",
    "(리스트는 요소를 추가, 제거, 수정하기 쉽게 해주는 내장 메소드들을 가지고 있습니다.)\n",
    "\n",
    "### Adding Elements (요소 추가)\n",
    "\n",
    "#### append() - Add to End (끝에 추가)"
   ]
  },
  {
   "cell_type": "code",
   "execution_count": null,
   "id": "bcef2cc6",
   "metadata": {},
   "outputs": [],
   "source": [
    "fruits = [\"apple\", \"banana\"]\n",
    "fruits.append(\"orange\")\n",
    "print(fruits)  # [\"apple\", \"banana\", \"orange\"]\n",
    "\n",
    "fruits.append(\"grape\")\n",
    "print(fruits)  # [\"apple\", \"banana\", \"orange\", \"grape\"]"
   ]
  },
  {
   "cell_type": "markdown",
   "id": "e9a73991",
   "metadata": {
    "lines_to_next_cell": 0
   },
   "source": [
    "#### insert() - Add at Specific Position (특정 위치에 추가)"
   ]
  },
  {
   "cell_type": "code",
   "execution_count": null,
   "id": "0149f9c4",
   "metadata": {},
   "outputs": [],
   "source": [
    "fruits = [\"apple\", \"banana\", \"orange\"]\n",
    "fruits.insert(1, \"mango\")  # Insert at index 1\n",
    "print(fruits)  # [\"apple\", \"mango\", \"banana\", \"orange\"]\n",
    "\n",
    "fruits.insert(0, \"kiwi\")   # Insert at beginning\n",
    "print(fruits)  # [\"kiwi\", \"apple\", \"mango\", \"banana\", \"orange\"]"
   ]
  },
  {
   "cell_type": "markdown",
   "id": "2c448bd4",
   "metadata": {
    "lines_to_next_cell": 0
   },
   "source": [
    "### Removing Elements (요소 제거)\n",
    "\n",
    "#### remove() - Remove by Value (값으로 제거)"
   ]
  },
  {
   "cell_type": "code",
   "execution_count": null,
   "id": "9e6f67b3",
   "metadata": {},
   "outputs": [],
   "source": [
    "fruits = [\"apple\", \"banana\", \"orange\", \"apple\"]\n",
    "fruits.remove(\"banana\")\n",
    "print(fruits)  # [\"apple\", \"orange\", \"apple\"]\n",
    "\n",
    "# Only removes the FIRST occurrence\n",
    "fruits.remove(\"apple\")  # Removes first \"apple\"\n",
    "print(fruits)  # [\"orange\", \"apple\"]"
   ]
  },
  {
   "cell_type": "markdown",
   "id": "7bed5b6d",
   "metadata": {
    "lines_to_next_cell": 0
   },
   "source": [
    "#### pop() - Remove by Index (인덱스로 제거)"
   ]
  },
  {
   "cell_type": "code",
   "execution_count": null,
   "id": "5bf60464",
   "metadata": {},
   "outputs": [],
   "source": [
    "fruits = [\"apple\", \"banana\", \"orange\"]\n",
    "\n",
    "# Remove last item (default)\n",
    "last_fruit = fruits.pop()\n",
    "print(f\"Removed: {last_fruit}\")  # \"orange\"\n",
    "print(fruits)  # [\"apple\", \"banana\"]\n",
    "\n",
    "# Remove specific index\n",
    "first_fruit = fruits.pop(0)\n",
    "print(f\"Removed: {first_fruit}\")  # \"apple\"\n",
    "print(fruits)  # [\"banana\"]"
   ]
  },
  {
   "cell_type": "markdown",
   "id": "a82c4c57",
   "metadata": {
    "lines_to_next_cell": 0
   },
   "source": [
    "### Practical Method Examples (실용적인 메소드 예시)\n",
    "\n",
    "#### Example 1: Shopping Cart (쇼핑 카트)"
   ]
  },
  {
   "cell_type": "code",
   "execution_count": null,
   "id": "c40c47ee",
   "metadata": {},
   "outputs": [],
   "source": [
    "# Shopping cart management\n",
    "cart = []\n",
    "\n",
    "# Add items\n",
    "cart.append(\"bread\")\n",
    "cart.append(\"milk\")\n",
    "cart.append(\"eggs\")\n",
    "print(f\"Cart: {cart}\")\n",
    "\n",
    "# Add item at specific position\n",
    "cart.insert(1, \"butter\")  # Add butter after bread\n",
    "print(f\"Updated cart: {cart}\")\n",
    "\n",
    "# Remove item\n",
    "cart.remove(\"eggs\")\n",
    "print(f\"After removing eggs: {cart}\")\n",
    "\n",
    "# Remove last item\n",
    "last_item = cart.pop()\n",
    "print(f\"Removed last item: {last_item}\")\n",
    "print(f\"Final cart: {cart}\")"
   ]
  },
  {
   "cell_type": "markdown",
   "id": "d2a3af80",
   "metadata": {
    "lines_to_next_cell": 0
   },
   "source": [
    "#### Example 2: To-Do List (할 일 목록)"
   ]
  },
  {
   "cell_type": "code",
   "execution_count": null,
   "id": "b5aa8ffe",
   "metadata": {},
   "outputs": [],
   "source": [
    "# Task management\n",
    "tasks = [\"study Python\", \"buy groceries\", \"call mom\"]\n",
    "\n",
    "print(\"Current tasks:\")\n",
    "for i, task in enumerate(tasks, 1):\n",
    "    print(f\"{i}. {task}\")\n",
    "\n",
    "# Add urgent task at beginning\n",
    "tasks.insert(0, \"submit assignment\")\n",
    "\n",
    "# Add regular task at end\n",
    "tasks.append(\"clean room\")\n",
    "\n",
    "# Mark first task as completed\n",
    "completed = tasks.pop(0)\n",
    "print(f\"\\nCompleted: {completed}\")\n",
    "\n",
    "print(\"\\nRemaining tasks:\")\n",
    "for i, task in enumerate(tasks, 1):\n",
    "    print(f\"{i}. {task}\")"
   ]
  },
  {
   "cell_type": "markdown",
   "id": "db8e7411",
   "metadata": {
    "lines_to_next_cell": 0
   },
   "source": [
    "### Additional Useful Methods (추가 유용한 메소드)\n",
    "\n",
    "#### Finding Elements (요소 찾기)"
   ]
  },
  {
   "cell_type": "code",
   "execution_count": null,
   "id": "0b7cd9a9",
   "metadata": {},
   "outputs": [],
   "source": [
    "numbers = [10, 20, 30, 20, 40]\n",
    "\n",
    "# Check if item exists\n",
    "if 20 in numbers:\n",
    "    print(\"20 is in the list\")\n",
    "\n",
    "# Find index of item\n",
    "index = numbers.index(20)  # Returns first occurrence\n",
    "print(f\"First 20 is at index: {index}\")\n",
    "\n",
    "# Count occurrences\n",
    "count = numbers.count(20)\n",
    "print(f\"20 appears {count} times\")"
   ]
  },
  {
   "cell_type": "markdown",
   "id": "40f098da",
   "metadata": {
    "lines_to_next_cell": 0
   },
   "source": [
    "#### List Information (리스트 정보)"
   ]
  },
  {
   "cell_type": "code",
   "execution_count": null,
   "id": "237ff6d8",
   "metadata": {},
   "outputs": [],
   "source": [
    "numbers = [10, 20, 30, 40, 50]\n",
    "\n",
    "print(f\"List length: {len(numbers)}\")\n",
    "print(f\"Maximum value: {max(numbers)}\")\n",
    "print(f\"Minimum value: {min(numbers)}\")\n",
    "print(f\"Sum of all values: {sum(numbers)}\")"
   ]
  },
  {
   "cell_type": "markdown",
   "id": "36b5a423",
   "metadata": {
    "lines_to_next_cell": 0
   },
   "source": [
    "---\n",
    "\n",
    "## 🔧 Lab Exercises (실습)\n",
    "\n",
    "### Lab 1: Student Grade Management System (학생 성적 관리 프로그램 기초)\n",
    "\n",
    "**Problem**: Create a basic student grade management system that can store, add, and analyze student grades.\n",
    "(**문제**: 학생 성적을 저장, 추가, 분석할 수 있는 기본적인 학생 성적 관리 시스템을 만드세요.)\n",
    "\n",
    "**Requirements (요구사항)**:\n",
    "- Start with an empty list of grades (빈 성적 목록으로 시작)\n",
    "- Add three grades to the list (리스트에 3개의 성적 추가)\n",
    "- Calculate and display average, highest, and lowest grades (평균, 최고, 최저 성적 계산 및 표시)\n",
    "- Show all grades with their positions (모든 성적을 위치와 함께 표시)\n",
    "\n",
    "**Solution (정답)**:"
   ]
  },
  {
   "cell_type": "code",
   "execution_count": null,
   "id": "15056f42",
   "metadata": {},
   "outputs": [],
   "source": [
    "# Student Grade Management System\n",
    "print(\"=== Student Grade Management System ===\")\n",
    "\n",
    "# Initialize empty grade list\n",
    "grades = []\n",
    "\n",
    "# Add grades\n",
    "grades.append(85)\n",
    "grades.append(92)\n",
    "grades.append(78)\n",
    "\n",
    "print(f\"Grades: {grades}\")\n",
    "\n",
    "# Display all grades with positions\n",
    "print(\"\\nAll grades:\")\n",
    "for i in range(len(grades)):\n",
    "    print(f\"Student {i+1}: {grades[i]}\")\n",
    "\n",
    "# Calculate statistics\n",
    "total = sum(grades)\n",
    "average = total / len(grades)\n",
    "highest = max(grades)\n",
    "lowest = min(grades)\n",
    "\n",
    "print(f\"\\n=== Statistics ===\")\n",
    "print(f\"Total students: {len(grades)}\")\n",
    "print(f\"Average grade: {average:.1f}\")\n",
    "print(f\"Highest grade: {highest}\")\n",
    "print(f\"Lowest grade: {lowest}\")"
   ]
  },
  {
   "cell_type": "markdown",
   "id": "32b4e97a",
   "metadata": {
    "lines_to_next_cell": 0
   },
   "source": [
    "### Lab 2: Shopping Cart Program (쇼핑 카트 프로그램)\n",
    "\n",
    "**Problem**: Create a shopping cart program that allows adding items, removing items, and displaying the cart contents.\n",
    "(**문제**: 상품을 추가하고, 제거하고, 카트 내용을 표시할 수 있는 쇼핑 카트 프로그램을 만드세요.)\n",
    "\n",
    "**Requirements (요구사항)**:\n",
    "- Start with empty shopping cart (빈 쇼핑 카트로 시작)\n",
    "- Add 4 items to cart (카트에 4개 상품 추가)\n",
    "- Remove one item by name (이름으로 한 상품 제거)\n",
    "- Display final cart contents with item numbers (아이템 번호와 함께 최종 카트 내용 표시)\n",
    "\n",
    "**Solution (정답)**:"
   ]
  },
  {
   "cell_type": "code",
   "execution_count": null,
   "id": "36744873",
   "metadata": {},
   "outputs": [],
   "source": [
    "# Shopping Cart Program\n",
    "print(\"=== Shopping Cart Program ===\")\n",
    "\n",
    "# Initialize empty cart\n",
    "cart = []\n",
    "\n",
    "# Add items to cart\n",
    "cart.append(\"apples\")\n",
    "cart.append(\"bread\")\n",
    "cart.append(\"milk\")\n",
    "cart.append(\"eggs\")\n",
    "\n",
    "print(\"Items added to cart:\")\n",
    "print(f\"Cart: {cart}\")\n",
    "\n",
    "# Display cart with numbers\n",
    "print(f\"\\nYour cart contains {len(cart)} items:\")\n",
    "for i in range(len(cart)):\n",
    "    print(f\"{i+1}. {cart[i]}\")\n",
    "\n",
    "# Remove an item\n",
    "cart.remove(\"bread\")\n",
    "print(f\"\\nAfter removing bread:\")\n",
    "print(f\"Cart: {cart}\")\n",
    "\n",
    "# Display final cart\n",
    "print(f\"\\nFinal cart contents:\")\n",
    "for i in range(len(cart)):\n",
    "    print(f\"{i+1}. {cart[i]}\")\n",
    "\n",
    "print(f\"\\nTotal items: {len(cart)}\")"
   ]
  },
  {
   "cell_type": "markdown",
   "id": "abf4622e",
   "metadata": {
    "lines_to_next_cell": 0
   },
   "source": [
    "### Lab 3: Lottery Number Generator (로또 번호 생성기)\n",
    "\n",
    "**Problem**: Create a lottery number generator that selects 6 unique numbers from 1 to 45.\n",
    "(**문제**: 1부터 45까지의 숫자 중에서 6개의 고유한 숫자를 선택하는 로또 번호 생성기를 만드세요.)\n",
    "\n",
    "**Requirements (요구사항)**:\n",
    "- Create a list of numbers 1-10 for simplicity (단순화를 위해 1-10 숫자 리스트 생성)\n",
    "- Randomly select 3 unique numbers (3개의 고유한 숫자를 랜덤하게 선택)\n",
    "- Display selected numbers in sorted order (선택된 숫자를 정렬된 순서로 표시)\n",
    "- Show the selection process (선택 과정 표시)\n",
    "\n",
    "**Solution (정답)**:"
   ]
  },
  {
   "cell_type": "code",
   "execution_count": null,
   "id": "84252587",
   "metadata": {},
   "outputs": [],
   "source": [
    "import random\n",
    "\n",
    "# Lottery Number Generator\n",
    "print(\"=== Lottery Number Generator (1-10) ===\")\n",
    "\n",
    "# Create list of available numbers\n",
    "available_numbers = [1, 2, 3, 4, 5, 6, 7, 8, 9, 10]\n",
    "selected_numbers = []\n",
    "\n",
    "print(f\"Available numbers: {available_numbers}\")\n",
    "\n",
    "# Select 3 unique numbers\n",
    "for i in range(3):\n",
    "    # Pick random number from available list\n",
    "    random_choice = random.choice(available_numbers)\n",
    "    \n",
    "    # Add to selected numbers\n",
    "    selected_numbers.append(random_choice)\n",
    "    \n",
    "    # Remove from available numbers\n",
    "    available_numbers.remove(random_choice)\n",
    "    \n",
    "    print(f\"Draw {i+1}: Selected {random_choice}\")\n",
    "\n",
    "print(f\"\\nSelected numbers: {selected_numbers}\")\n",
    "\n",
    "# Sort the numbers\n",
    "selected_numbers.sort()\n",
    "print(f\"Sorted numbers: {selected_numbers}\")\n",
    "\n",
    "# Display as lottery result\n",
    "print(f\"\\nYour lottery numbers are: {selected_numbers}\")\n",
    "print(\"Good luck! 🍀\")"
   ]
  },
  {
   "cell_type": "markdown",
   "id": "0f067fcb",
   "metadata": {},
   "source": [
    "---\n",
    "\n",
    "## 📝 Quiz Section (퀴즈)\n",
    "\n",
    "### Quiz 1: Basic List Operations (기본 리스트 연산)\n",
    "**Question**: Write code that creates an empty list, then adds the numbers 1, 2, and 3 to it in order, and finally prints the complete list.\n",
    "(**문제**: 빈 리스트를 만든 다음, 숫자 1, 2, 3을 순서대로 추가하고, 마지막에 완성된 리스트를 출력하는 코드를 작성하세요.)\n",
    "\n",
    "**Requirements**:\n",
    "- Start with an empty list (빈 리스트로 시작)\n",
    "- Add numbers one by one using appropriate method (적절한 메소드를 사용하여 숫자를 하나씩 추가)\n",
    "- Print the final list (최종 리스트 출력)\n",
    "\n",
    "### Quiz 2: List Indexing (리스트 인덱싱)\n",
    "**Question**: Given the list [10, 20, 30, 40, 50], write code that prints the second and fourth elements.\n",
    "(**문제**: 리스트 [10, 20, 30, 40, 50]에서 두 번째와 네 번째 요소를 출력하는 코드를 작성하세요.)\n",
    "\n",
    "**Requirements**:\n",
    "- Use proper indexing to access elements (적절한 인덱싱을 사용하여 요소에 접근)\n",
    "- Print both elements clearly (두 요소를 명확하게 출력)\n",
    "- Remember that list indexing starts from 0 (리스트 인덱싱이 0부터 시작한다는 것을 기억)\n",
    "\n",
    "### Quiz 3: Finding Maximum and Minimum (최댓값과 최솟값 찾기)\n",
    "**Question**: Write a program that finds and prints the highest and lowest scores from the list [85, 90, 78, 92, 88].\n",
    "(**문제**: 리스트 [85, 90, 78, 92, 88]에서 가장 높은 점수와 가장 낮은 점수를 찾아 출력하는 프로그램을 작성하세요.)\n",
    "\n",
    "**Requirements**:\n",
    "- Use the given list of scores (주어진 점수 리스트 사용)\n",
    "- Find the maximum and minimum values (최댓값과 최솟값 찾기)\n",
    "- Display the results clearly with descriptive messages (설명적인 메시지와 함께 결과를 명확하게 표시)\n",
    "\n",
    "---\n",
    "\n",
    "## 📖 References (참고 자료)\n",
    "\n",
    "1. **Python Official Documentation - Lists**: https://docs.python.org/3/tutorial/datastructures.html#more-on-lists\n",
    "   (Python 공식 문서 - 리스트)\n",
    "\n",
    "2. **Real Python - Python Lists and Tuples**: https://realpython.com/python-lists-tuples/\n",
    "   (Real Python - Python 리스트와 튜플)\n",
    "\n",
    "3. **Automate the Boring Stuff - Lists**: https://automatetheboringstuff.com/2e/chapter4/\n",
    "   (지루한 일의 자동화 - 리스트)\n",
    "\n",
    "4. **Python.org Beginner's Guide**: https://wiki.python.org/moin/BeginnersGuide/NonProgrammers\n",
    "   (Python.org 초보자 가이드)\n",
    "\n",
    "---\n",
    "\n",
    "## 💡 Tips for Success (성공 팁)\n",
    "\n",
    "### Common Mistakes (일반적인 실수)\n",
    "- **Index out of range**: Trying to access elements that don't exist (범위 벗어난 인덱스: 존재하지 않는 요소에 접근)\n",
    "- **Forgetting zero-based indexing**: First element is at index 0, not 1 (0 기반 인덱싱 잊기: 첫 번째 요소는 인덱스 1이 아닌 0)\n",
    "- **Modifying list while iterating**: Can cause unexpected behavior (반복 중 리스트 수정: 예상치 못한 동작 발생 가능)\n",
    "- **Confusing remove() and pop()**: remove() uses value, pop() uses index (remove()와 pop() 혼동: remove()는 값 사용, pop()은 인덱스 사용)\n",
    "\n",
    "### Practice Tips (연습 팁)\n",
    "- **Start with small lists**: Practice with 3-5 elements first (작은 리스트로 시작: 먼저 3-5개 요소로 연습)\n",
    "- **Visualize indices**: Draw out the list with index numbers (인덱스 시각화: 인덱스 번호와 함께 리스트 그려보기)\n",
    "- **Use print() frequently**: Check list contents after each operation (print() 자주 사용: 각 연산 후 리스트 내용 확인)\n",
    "- **Experiment with slicing**: Try different start, stop, step combinations (슬라이싱 실험: 다양한 start, stop, step 조합 시도)\n",
    "\n",
    "### Debugging Tips (디버깅 팁)\n",
    "- **Check list length**: Use len() to verify list size (리스트 길이 확인: len()을 사용하여 리스트 크기 검증)\n",
    "- **Print intermediate results**: See how list changes after each operation (중간 결과 출력: 각 연산 후 리스트 변화 확인)\n",
    "- **Use descriptive variable names**: Makes code easier to understand (설명적인 변수명 사용: 코드를 이해하기 쉽게 만듦)\n",
    "\n",
    "### Real-world Applications (실제 활용)\n",
    "- **Data storage**: Store collections of related information (데이터 저장: 관련 정보의 컬렉션 저장)\n",
    "- **User interfaces**: Manage menu options and user choices (사용자 인터페이스: 메뉴 옵션과 사용자 선택 관리)\n",
    "- **Game development**: Track scores, player inventories, game states (게임 개발: 점수, 플레이어 인벤토리, 게임 상태 추적)\n",
    "- **Data analysis**: Process and analyze datasets (데이터 분석: 데이터셋 처리 및 분석)\n",
    "\n",
    "### Next Week Preview (다음 주 미리보기)\n",
    "Next week: **Advanced Lists and Tuples** - Learn about list comprehensions, tuples, and more advanced list operations!\n",
    "(다음 주: **고급 리스트와 튜플** - 리스트 컴프리헨션, 튜플, 그리고 더 고급 리스트 연산들을 학습!)\n",
    "\n",
    "---\n",
    "\n",
    "## 📋 Homework (숙제)\n",
    "\n",
    "### Practice Problems (연습 문제)\n",
    "1. **Favorite Movies**: Create a list of your 5 favorite movies, then print them with numbers (1, 2, 3, etc.)\n",
    "   (좋아하는 영화: 좋아하는 영화 5편의 리스트를 만들고 번호와 함께 출력)\n",
    "\n",
    "2. **Number Operations**: Create a list [1, 3, 5, 7, 9], then add 2, 4, 6, 8, 10 and print the complete list\n",
    "   (숫자 연산: [1, 3, 5, 7, 9] 리스트를 만들고 2, 4, 6, 8, 10을 추가하여 완성된 리스트 출력)\n",
    "\n",
    "3. **Word Reverser**: Take the list [\"hello\", \"world\", \"python\"] and print each word in reverse order using slicing\n",
    "   (단어 뒤집기: [\"hello\", \"world\", \"python\"] 리스트를 받아 슬라이싱을 사용하여 각 단어를 거꾸로 출력)\n",
    "\n",
    "### Challenge Problem (도전 문제)\n",
    "Create a **\"Class Manager\" program** that:\n",
    "(**\"반 관리자\" 프로그램** 만들기:)\n",
    "- Stores a list of student names\n",
    "- Allows adding new students\n",
    "- Allows removing students  \n",
    "- Shows class roster with numbers\n",
    "- Finds and displays students whose names start with a specific letter\n",
    "- Calculates and shows class size\n",
    "\n",
    "**Good luck!** 📝  \n",
    "**행운을 빕니다!** 📝"
   ]
  }
 ],
 "metadata": {
  "jupytext": {
   "cell_metadata_filter": "-all",
   "main_language": "python",
   "notebook_metadata_filter": "-all"
  },
  "language_info": {
   "name": "python"
  }
 },
 "nbformat": 4,
 "nbformat_minor": 5
}
