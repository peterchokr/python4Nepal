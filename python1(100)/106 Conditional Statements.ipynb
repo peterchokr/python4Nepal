{
 "cells": [
  {
   "cell_type": "markdown",
   "id": "c12bfecb",
   "metadata": {
    "lines_to_next_cell": 0
   },
   "source": [
    "# Conditional Statements\n",
    "**조건문**\n",
    "\n",
    "**Duration (수업 시간)**: 3 hours (3시간)  \n",
    "**Structure (구성)**: Lecture & Lab 2 hours + Quiz 1 hour (강의 및 실습 2시간 + 퀴즈 1시간)  \n",
    "**Level (수준)**: Beginner (초급)  \n",
    "**Prerequisites (선수 학습)**: Variables, Data Types, Operators, Input/Output (변수, 데이터 타입, 연산자, 입출력)\n",
    "\n",
    "---\n",
    "\n",
    "## 🎯 Learning Objectives (학습 목표)\n",
    "\n",
    "By the end of this lesson, students will be able to:\n",
    "(이 수업을 마친 후 학생들은 다음을 할 수 있습니다:)\n",
    "\n",
    "- Write basic if, elif, and else statements (기본적인 if, elif, else 문 작성)\n",
    "- Use comparison and logical operators in conditions (조건에서 비교 및 논리 연산자 사용)\n",
    "- Create simple decision-making programs (간단한 의사결정 프로그램 생성)\n",
    "- Combine multiple conditions effectively (여러 조건을 효과적으로 결합)\n",
    "\n",
    "---\n",
    "\n",
    "## 🤔 1. What are Conditional Statements? (조건문이란 무엇인가?)\n",
    "\n",
    "**Conditional statements** allow programs to make decisions based on different conditions.\n",
    "(**조건문**은 프로그램이 다양한 조건에 따라 결정을 내릴 수 있게 해줍니다.)\n",
    "\n",
    "### Real-world Example (실생활 예시)\n",
    "```\n",
    "Daily Decision (일상 결정):\n",
    "IF it's raining → take umbrella\n",
    "ELSE → wear sunglasses\n",
    "\n",
    "Python Code (파이썬 코드):\n",
    "if weather == \"rainy\":\n",
    "    print(\"Take umbrella\")\n",
    "else:\n",
    "    print(\"Wear sunglasses\")\n",
    "```\n",
    "\n",
    "---\n",
    "\n",
    "## 📋 2. Basic if Statement (기본 if 문)\n",
    "\n",
    "### Syntax (문법)"
   ]
  },
  {
   "cell_type": "code",
   "execution_count": null,
   "id": "4682931e",
   "metadata": {},
   "outputs": [],
   "source": [
    "if condition:\n",
    "    # Code to run if condition is True\n",
    "    statement"
   ]
  },
  {
   "cell_type": "markdown",
   "id": "5b15a11a",
   "metadata": {
    "lines_to_next_cell": 0
   },
   "source": [
    "### Important Rules (중요 규칙)\n",
    "- **Colon (:)** after the condition (조건 뒤에 콜론)\n",
    "- **Indentation** for code inside if block (if 블록 내부 코드는 들여쓰기)\n",
    "\n",
    "### Simple Examples (간단한 예시)\n",
    "\n",
    "#### Example 1: Age Check (나이 확인)"
   ]
  },
  {
   "cell_type": "code",
   "execution_count": null,
   "id": "d37c0757",
   "metadata": {},
   "outputs": [],
   "source": [
    "age = int(input(\"Enter your age: \"))\n",
    "\n",
    "if age >= 18:\n",
    "    print(\"You are an adult\")\n",
    "    print(\"You can vote\")\n",
    "\n",
    "print(\"Thank you!\")"
   ]
  },
  {
   "cell_type": "markdown",
   "id": "8c62a3f7",
   "metadata": {
    "lines_to_next_cell": 0
   },
   "source": [
    "#### Example 2: Password Check (비밀번호 확인)"
   ]
  },
  {
   "cell_type": "code",
   "execution_count": null,
   "id": "bbd3d896",
   "metadata": {},
   "outputs": [],
   "source": [
    "password = input(\"Enter password: \")\n",
    "\n",
    "if len(password) >= 8:\n",
    "    print(\"Password is strong\")\n",
    "\n",
    "print(\"Login complete\")"
   ]
  },
  {
   "cell_type": "markdown",
   "id": "309f3061",
   "metadata": {
    "lines_to_next_cell": 0
   },
   "source": [
    "---\n",
    "\n",
    "## ⚖️ 3. if-else Statements (if-else 문)\n",
    "\n",
    "### Syntax (문법)"
   ]
  },
  {
   "cell_type": "code",
   "execution_count": null,
   "id": "d876a744",
   "metadata": {},
   "outputs": [],
   "source": [
    "if condition:\n",
    "    # Code if True\n",
    "    statement1\n",
    "else:\n",
    "    # Code if False\n",
    "    statement2"
   ]
  },
  {
   "cell_type": "markdown",
   "id": "cf164572",
   "metadata": {
    "lines_to_next_cell": 0
   },
   "source": [
    "### Examples (예시)\n",
    "\n",
    "#### Example 1: Even or Odd (짝수 또는 홀수)"
   ]
  },
  {
   "cell_type": "code",
   "execution_count": null,
   "id": "5a71496d",
   "metadata": {},
   "outputs": [],
   "source": [
    "number = int(input(\"Enter a number: \"))\n",
    "\n",
    "if number % 2 == 0:\n",
    "    print(f\"{number} is even\")\n",
    "else:\n",
    "    print(f\"{number} is odd\")"
   ]
  },
  {
   "cell_type": "markdown",
   "id": "9e5b2b95",
   "metadata": {
    "lines_to_next_cell": 0
   },
   "source": [
    "#### Example 2: Pass or Fail (합격 또는 불합격)"
   ]
  },
  {
   "cell_type": "code",
   "execution_count": null,
   "id": "7e77fbc9",
   "metadata": {},
   "outputs": [],
   "source": [
    "score = int(input(\"Enter your score: \"))\n",
    "\n",
    "if score >= 60:\n",
    "    print(\"You passed!\")\n",
    "else:\n",
    "    print(\"You failed. Try again!\")"
   ]
  },
  {
   "cell_type": "markdown",
   "id": "ce39a429",
   "metadata": {
    "lines_to_next_cell": 0
   },
   "source": [
    "---\n",
    "\n",
    "## 🔀 4. elif Statements (Multiple Conditions) (elif 문 - 다중 조건)\n",
    "\n",
    "### Syntax (문법)"
   ]
  },
  {
   "cell_type": "code",
   "execution_count": null,
   "id": "303212a8",
   "metadata": {},
   "outputs": [],
   "source": [
    "if condition1:\n",
    "    statement1\n",
    "elif condition2:\n",
    "    statement2\n",
    "elif condition3:\n",
    "    statement3\n",
    "else:\n",
    "    statement4"
   ]
  },
  {
   "cell_type": "markdown",
   "id": "3ec48f85",
   "metadata": {
    "lines_to_next_cell": 0
   },
   "source": [
    "### Example: Grade System (성적 시스템)"
   ]
  },
  {
   "cell_type": "code",
   "execution_count": null,
   "id": "c76c7266",
   "metadata": {},
   "outputs": [],
   "source": [
    "score = int(input(\"Enter your score: \"))\n",
    "\n",
    "if score >= 90:\n",
    "    print(\"Grade: A\")\n",
    "elif score >= 80:\n",
    "    print(\"Grade: B\") \n",
    "elif score >= 70:\n",
    "    print(\"Grade: C\")\n",
    "elif score >= 60:\n",
    "    print(\"Grade: D\")\n",
    "else:\n",
    "    print(\"Grade: F\")\n",
    "\n",
    "print(\"Grade calculation complete\")"
   ]
  },
  {
   "cell_type": "markdown",
   "id": "0e0fbb95",
   "metadata": {
    "lines_to_next_cell": 0
   },
   "source": [
    "---\n",
    "\n",
    "## 🧠 5. Logical Operators (논리 연산자)\n",
    "\n",
    "### Types (유형)\n",
    "- **and**: Both conditions must be True (두 조건 모두 True)\n",
    "- **or**: At least one condition must be True (최소 하나의 조건이 True)\n",
    "- **not**: Reverse the condition (조건을 반대로)\n",
    "\n",
    "### Examples (예시)\n",
    "\n",
    "#### Example 1: Using 'and' (and 사용)"
   ]
  },
  {
   "cell_type": "code",
   "execution_count": null,
   "id": "a098eff7",
   "metadata": {},
   "outputs": [],
   "source": [
    "age = int(input(\"Enter your age: \"))\n",
    "income = int(input(\"Enter your income: \"))\n",
    "\n",
    "if age >= 18 and income >= 30000:\n",
    "    print(\"Loan approved\")\n",
    "else:\n",
    "    print(\"Loan denied\")"
   ]
  },
  {
   "cell_type": "markdown",
   "id": "6f143029",
   "metadata": {
    "lines_to_next_cell": 0
   },
   "source": [
    "#### Example 2: Using 'or' (or 사용)"
   ]
  },
  {
   "cell_type": "code",
   "execution_count": null,
   "id": "981f1c1c",
   "metadata": {},
   "outputs": [],
   "source": [
    "day = input(\"Enter day: \").lower()\n",
    "\n",
    "if day == \"saturday\" or day == \"sunday\":\n",
    "    print(\"It's weekend!\")\n",
    "else:\n",
    "    print(\"It's a weekday\")"
   ]
  },
  {
   "cell_type": "markdown",
   "id": "d2ab57ed",
   "metadata": {
    "lines_to_next_cell": 0
   },
   "source": [
    "#### Example 3: Using 'not' (not 사용)"
   ]
  },
  {
   "cell_type": "code",
   "execution_count": null,
   "id": "fab8607b",
   "metadata": {},
   "outputs": [],
   "source": [
    "is_raining = input(\"Is it raining? (yes/no): \").lower()\n",
    "\n",
    "if not is_raining == \"yes\":\n",
    "    print(\"Good weather for a walk!\")\n",
    "else:\n",
    "    print(\"Better stay inside\")"
   ]
  },
  {
   "cell_type": "markdown",
   "id": "41d53ebe",
   "metadata": {
    "lines_to_next_cell": 0
   },
   "source": [
    "---\n",
    "\n",
    "## 🔧 Lab Exercises (실습)\n",
    "\n",
    "### Lab 1: Grade Classification Program (성적 등급 판정 프로그램)\n",
    "\n",
    "**Problem**: Create a program that determines letter grades based on numerical scores.\n",
    "(**문제**: 숫자 점수를 바탕으로 문자 등급을 결정하는 프로그램을 만드세요.)\n",
    "\n",
    "**Requirements (요구사항)**:\n",
    "- Input student score (0-100) (학생 점수 입력 0-100)\n",
    "- Assign grades: A(90+), B(80+), C(70+), D(60+), F(below 60) (등급 부여)\n",
    "- Display the result clearly (결과를 명확하게 표시)\n",
    "\n",
    "**Solution (정답)**:"
   ]
  },
  {
   "cell_type": "code",
   "execution_count": null,
   "id": "233fd2b2",
   "metadata": {},
   "outputs": [],
   "source": [
    "# Grade Classification Program\n",
    "print(\"=== Grade Classification Program ===\")\n",
    "\n",
    "# Get student score\n",
    "score = int(input(\"Enter student score (0-100): \"))\n",
    "\n",
    "# Determine grade\n",
    "if score >= 90:\n",
    "    grade = \"A\"\n",
    "elif score >= 80:\n",
    "    grade = \"B\"\n",
    "elif score >= 70:\n",
    "    grade = \"C\"\n",
    "elif score >= 60:\n",
    "    grade = \"D\"\n",
    "else:\n",
    "    grade = \"F\"\n",
    "\n",
    "# Display result\n",
    "print(f\"Score: {score}\")\n",
    "print(f\"Grade: {grade}\")"
   ]
  },
  {
   "cell_type": "markdown",
   "id": "8b82f8c8",
   "metadata": {
    "lines_to_next_cell": 0
   },
   "source": [
    "### Lab 2: Rock-Paper-Scissors Game (가위바위보 게임)\n",
    "\n",
    "**Problem**: Create a simple rock-paper-scissors game against the computer.\n",
    "(**문제**: 컴퓨터와 하는 간단한 가위바위보 게임을 만드세요.)\n",
    "\n",
    "**Requirements (요구사항)**:\n",
    "- User chooses rock, paper, or scissors (사용자가 바위, 보, 가위 중 선택)\n",
    "- Computer makes random choice (컴퓨터가 랜덤 선택)\n",
    "- Determine and display winner (승자 결정 및 표시)\n",
    "\n",
    "**Solution (정답)**:"
   ]
  },
  {
   "cell_type": "code",
   "execution_count": null,
   "id": "9ffa7f3d",
   "metadata": {},
   "outputs": [],
   "source": [
    "import random\n",
    "\n",
    "# Rock-Paper-Scissors Game\n",
    "print(\"=== Rock-Paper-Scissors Game ===\")\n",
    "\n",
    "# Get user choice\n",
    "print(\"Choose: 1=Rock, 2=Paper, 3=Scissors\")\n",
    "user_choice = int(input(\"Enter your choice (1-3): \"))\n",
    "\n",
    "# Convert to words\n",
    "choices = [\"Rock\", \"Paper\", \"Scissors\"]\n",
    "user_move = choices[user_choice - 1]\n",
    "\n",
    "# Computer choice\n",
    "computer_choice = random.randint(1, 3)\n",
    "computer_move = choices[computer_choice - 1]\n",
    "\n",
    "print(f\"You chose: {user_move}\")\n",
    "print(f\"Computer chose: {computer_move}\")\n",
    "\n",
    "# Determine winner\n",
    "if user_choice == computer_choice:\n",
    "    print(\"It's a tie!\")\n",
    "elif (user_choice == 1 and computer_choice == 3) or \\\n",
    "     (user_choice == 2 and computer_choice == 1) or \\\n",
    "     (user_choice == 3 and computer_choice == 2):\n",
    "    print(\"You win!\")\n",
    "else:\n",
    "    print(\"Computer wins!\")"
   ]
  },
  {
   "cell_type": "markdown",
   "id": "59d56415",
   "metadata": {
    "lines_to_next_cell": 0
   },
   "source": [
    "### Lab 3: Discount Calculator Program (요금 계산 프로그램)\n",
    "\n",
    "**Problem**: Create a program that calculates ticket prices with age-based and membership discounts.\n",
    "(**문제**: 나이별 할인과 멤버십 할인을 적용한 티켓 가격을 계산하는 프로그램을 만드세요.)\n",
    "\n",
    "**Requirements (요구사항)**:\n",
    "- Base ticket price: $20 (기본 티켓 가격: $20)\n",
    "- Age discounts: Under 18 (50% off), Over 65 (30% off) (나이별 할인)\n",
    "- VIP member gets additional 10% off (VIP 멤버는 추가 10% 할인)\n",
    "\n",
    "**Solution (정답)**:"
   ]
  },
  {
   "cell_type": "code",
   "execution_count": null,
   "id": "9fe198af",
   "metadata": {},
   "outputs": [],
   "source": [
    "# Discount Calculator Program\n",
    "print(\"=== Ticket Discount Calculator ===\")\n",
    "\n",
    "# Get customer information\n",
    "age = int(input(\"Enter your age: \"))\n",
    "is_vip = input(\"Are you a VIP member? (yes/no): \").lower()\n",
    "\n",
    "# Base price\n",
    "base_price = 20.0\n",
    "final_price = base_price\n",
    "\n",
    "print(f\"Base price: ${base_price}\")\n",
    "\n",
    "# Apply age discount\n",
    "if age < 18:\n",
    "    final_price = final_price * 0.5  # 50% off\n",
    "    print(\"Youth discount: 50% off\")\n",
    "elif age > 65:\n",
    "    final_price = final_price * 0.7  # 30% off\n",
    "    print(\"Senior discount: 30% off\")\n",
    "\n",
    "# Apply VIP discount\n",
    "if is_vip == \"yes\":\n",
    "    final_price = final_price * 0.9  # Additional 10% off\n",
    "    print(\"VIP discount: Additional 10% off\")\n",
    "\n",
    "# Display final price\n",
    "print(f\"Final price: ${final_price:.2f}\")"
   ]
  },
  {
   "cell_type": "markdown",
   "id": "fbf4a7af",
   "metadata": {},
   "source": [
    "---\n",
    "\n",
    "## 📝 Quiz Section (퀴즈)\n",
    "\n",
    "### Quiz 1: Grade Assignment System (성적 등급 시스템)\n",
    "**Question**: Write a program that assigns letter grades based on numerical scores:\n",
    "(**문제**: 숫자 점수를 바탕으로 문자 등급을 부여하는 프로그램을 작성하세요:)\n",
    "\n",
    "- 90점 이상: \"A\"\n",
    "- 80점 이상: \"B\"  \n",
    "- 70점 이상: \"C\"\n",
    "- 그 외: \"F\"\n",
    "\n",
    "The program should input a score and output the corresponding letter grade.\n",
    "(프로그램은 점수를 입력받아 해당하는 문자 등급을 출력해야 합니다.)\n",
    "\n",
    "### Quiz 2: Age Category Classification (연령 범주 분류)\n",
    "**Question**: Create a program that categorizes people by age with the following criteria:\n",
    "(**문제**: 다음 기준에 따라 나이별로 사람을 분류하는 프로그램을 만드세요:)\n",
    "\n",
    "- 18세 미만: \"Minor\" (미성년자)\n",
    "- 18-64세: \"Adult\" (성인)\n",
    "- 65세 이상: \"Senior\" (노인)\n",
    "\n",
    "The program should ask for age and display the appropriate category.\n",
    "(프로그램은 나이를 입력받아 적절한 범주를 표시해야 합니다.)\n",
    "\n",
    "### Quiz 3: Leap Year Calculator (윤년 계산기)\n",
    "**Question**: Write a program that determines if a given year is a leap year using these rules:\n",
    "(**문제**: 다음 규칙을 사용하여 주어진 연도가 윤년인지 판별하는 프로그램을 작성하세요:)\n",
    "\n",
    "- A year is a leap year if it's divisible by 4 AND\n",
    "- If it's divisible by 100, it must also be divisible by 400\n",
    "\n",
    "Examples (예시):\n",
    "- 2004: Leap year (divisible by 4, not by 100)\n",
    "- 2000: Leap year (divisible by 400)  \n",
    "- 1900: Not a leap year (divisible by 100 but not by 400)\n",
    "\n",
    "The program should input a year and tell whether it's a leap year or not.\n",
    "(프로그램은 연도를 입력받아 윤년인지 아닌지 알려줘야 합니다.)\n",
    "\n",
    "---\n",
    "\n",
    "## 📖 References (참고 자료)\n",
    "\n",
    "1. **Python Official Tutorial**: https://docs.python.org/3/tutorial/controlflow.html\n",
    "   (Python 공식 튜토리얼 - 제어 흐름)\n",
    "\n",
    "2. **Real Python - Conditionals**: https://realpython.com/python-conditional-statements/\n",
    "   (Real Python - 조건문 가이드)\n",
    "\n",
    "3. **Automate the Boring Stuff**: https://automatetheboringstuff.com/2e/chapter2/\n",
    "   (지루한 일의 자동화 - 흐름 제어)\n",
    "\n",
    "---\n",
    "\n",
    "## 💡 Tips for Success (성공 팁)\n",
    "\n",
    "### Common Mistakes (일반적인 실수)\n",
    "- **Forgetting colon (:)** after if/elif/else (if/elif/else 뒤 콜론 잊기)\n",
    "- **Wrong indentation** - Python is strict! (잘못된 들여쓰기 - 파이썬은 엄격함!)\n",
    "- **Using = instead of ==** for comparison (비교에 = 대신 == 사용)\n",
    "\n",
    "### Practice Tips (연습 팁)\n",
    "- **Start simple**: Begin with basic if-else (간단히 시작: 기본 if-else부터)\n",
    "- **Test your code**: Try different inputs (코드 테스트: 다양한 입력 시도)\n",
    "- **Use print()**: Check what your variables contain (print() 사용: 변수 내용 확인)\n",
    "\n",
    "### Next Week Preview (다음 주 미리보기)\n",
    "Next week: **For Loops** - Learn how to repeat code efficiently!\n",
    "(다음 주: **For 반복문** - 코드를 효율적으로 반복하는 방법 학습!)\n",
    "\n",
    "---\n",
    "\n",
    "## 📋 Homework (숙제)\n",
    "\n",
    "### Practice Problems (연습 문제)\n",
    "1. **Simple Calculator**: Create a program that asks for two numbers and an operation (+, -, *, /) and shows the result\n",
    "   (간단한 계산기: 두 숫자와 연산자를 입력받아 결과를 보여주는 프로그램 만들기)\n",
    "\n",
    "2. **Day Classifier**: Ask for a day of the week and tell if it's a weekday or weekend\n",
    "   (요일 분류기: 요일을 입력받아 평일인지 주말인지 알려주기)\n",
    "\n",
    "3. **Password Validator**: Check if a password is \"strong\" (8+ characters) or \"weak\"\n",
    "   (비밀번호 검증기: 비밀번호가 \"강함\"(8자 이상)인지 \"약함\"인지 확인)\n",
    "\n",
    "**Good luck!** 🌟  \n",
    "**행운을 빕니다!** 🌟"
   ]
  }
 ],
 "metadata": {
  "jupytext": {
   "cell_metadata_filter": "-all",
   "main_language": "python",
   "notebook_metadata_filter": "-all"
  },
  "language_info": {
   "name": "python"
  }
 },
 "nbformat": 4,
 "nbformat_minor": 5
}
