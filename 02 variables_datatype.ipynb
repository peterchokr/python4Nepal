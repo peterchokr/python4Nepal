{
 "cells": [
  {
   "cell_type": "markdown",
   "id": "53ad3e84",
   "metadata": {
    "lines_to_next_cell": 0
   },
   "source": [
    "# Variables and Data Types\n",
    "\n",
    "**Class Duration**: 3 hours  \n",
    "**Structure**: Lecture & Practice 2 hours + Quiz 1 hour  \n",
    "**Level**: Beginner\n",
    "\n",
    "---\n",
    "\n",
    "## 🎯 Learning Objectives\n",
    "\n",
    "After completing this lesson, students will be able to:\n",
    "이 수업을 마친 후 학생들은 다음을 할 수 있습니다:\n",
    "\n",
    "- Understand what variables are and why they are important\n",
    "변수가 무엇인지, 왜 중요한지 이해하기\n",
    "- Apply variable naming rules correctly\n",
    "변수 명명 규칙 올바르게 적용하기\n",
    "- Identify and use basic data types: int, float, str, bool\n",
    "기본 데이터 타입 식별 및 사용하기: int, float, str, bool\n",
    "- Use the type() function to check data types\n",
    "type() 함수를 사용하여 데이터 타입 확인하기\n",
    "- Create meaningful variable names\n",
    "의미 있는 변수명 생성하기\n",
    "\n",
    "---\n",
    "\n",
    "## 📦 1. What is a Variable?\n",
    "\n",
    "### Definition\n",
    "\n",
    "A **Variable** is like a **labeled box** in computer memory that stores data. You can put information in, take it out, and even change its contents.\n",
    "**변수**는 컴퓨터 메모리에 데이터를 저장하는 **라벨이 붙은 상자**와 같습니다.\n",
    "\n",
    "### Real-life Analogy\n",
    "\n",
    "Think of variables as **labeled storage boxes in your room**:\n",
    "변수를 **방에 있는 라벨이 붙은 수납함**으로 생각해보세요:\n",
    "\n",
    "```\n",
    "Real Life:\n",
    "📦 \"Textbooks\" label → Contains math book, English book\n",
    "📦 \"Clothes\" label → Contains shirts, pants  \n",
    "📦 \"Photos\" label → Contains family photos, friend photos\n",
    "\n",
    "Programming:\n",
    "📦 Variable \"student_name\" → Contains \"John Kim\"\n",
    "📦 Variable \"age\" → Contains 20\n",
    "📦 Variable \"is_student\" → Contains True\n",
    "```\n",
    "\n",
    "### Why Do We Use Variables?\n",
    "\n",
    "#### 1. Store Information\n",
    "정보 저장"
   ]
  },
  {
   "cell_type": "code",
   "execution_count": null,
   "id": "8bb587f8",
   "metadata": {},
   "outputs": [],
   "source": [
    "# Instead of writing \"John Kim\" every time...\n",
    "student_name = \"John Kim\"\n",
    "print(f\"Hello, {student_name}!\")\n",
    "print(f\"Welcome to class, {student_name}!\")"
   ]
  },
  {
   "cell_type": "markdown",
   "id": "08fdbca0",
   "metadata": {
    "lines_to_next_cell": 0
   },
   "source": [
    "#### 2. Easy Changes\n",
    "쉬운 변경"
   ]
  },
  {
   "cell_type": "code",
   "execution_count": null,
   "id": "9d5fec8e",
   "metadata": {},
   "outputs": [],
   "source": [
    "# Change once to affect everywhere\n",
    "student_name = \"Alice Park\"  # Only change this line\n",
    "print(f\"Hello, {student_name}!\")  # Automatically updates"
   ]
  },
  {
   "cell_type": "markdown",
   "id": "22c6ac5c",
   "metadata": {
    "lines_to_next_cell": 0
   },
   "source": [
    "#### 3. Improve Code Readability\n",
    "코드 가독성 향상"
   ]
  },
  {
   "cell_type": "code",
   "execution_count": null,
   "id": "c0aaee53",
   "metadata": {},
   "outputs": [],
   "source": [
    "# Bad example\n",
    "result = 3.14159 * 5 * 5\n",
    "\n",
    "# Good example\n",
    "pi = 3.14159\n",
    "radius = 5\n",
    "area = pi * radius * radius"
   ]
  },
  {
   "cell_type": "markdown",
   "id": "afadc6d2",
   "metadata": {},
   "source": [
    "### How to Create Variables\n",
    "\n",
    "Basic syntax: **variable_name = value**\n",
    "기본 문법: **변수명 = 값**"
   ]
  },
  {
   "cell_type": "code",
   "execution_count": null,
   "id": "cff6e76d",
   "metadata": {},
   "outputs": [],
   "source": [
    "# Creating variables\n",
    "name = \"John Kim\"          # Text\n",
    "age = 22                  # Number\n",
    "height = 175.5            # Decimal\n",
    "is_student = True         # True/False"
   ]
  },
  {
   "cell_type": "markdown",
   "id": "5e21254d",
   "metadata": {
    "lines_to_next_cell": 0
   },
   "source": [
    "---\n",
    "\n",
    "## 📝 2. Variable Naming Rules\n",
    "\n",
    "### Mandatory Rules\n",
    "\n",
    "#### ✅ **Rule 1: Start with letter or underscore**\n",
    "문자나 밑줄로 시작"
   ]
  },
  {
   "cell_type": "code",
   "execution_count": null,
   "id": "defe4114",
   "metadata": {},
   "outputs": [],
   "source": [
    "# Correct examples\n",
    "name = \"John Kim\"\n",
    "student_name = \"John Kim\"\n",
    "_age = 20\n",
    "student_id = \"12345\"\n",
    "\n",
    "# Wrong examples\n",
    "# 2nd_name = \"John\"     # ❌ Cannot start with number"
   ]
  },
  {
   "cell_type": "markdown",
   "id": "6050cc11",
   "metadata": {
    "lines_to_next_cell": 0
   },
   "source": [
    "#### ✅ **Rule 2: Use only letters, numbers, underscores**\n",
    "문자, 숫자, 밑줄만 사용"
   ]
  },
  {
   "cell_type": "code",
   "execution_count": null,
   "id": "10db460f",
   "metadata": {},
   "outputs": [],
   "source": [
    "# Correct examples\n",
    "first_name = \"John\"\n",
    "last_name = \"Kim\"\n",
    "age2 = 25\n",
    "_private_info = \"secret\"\n",
    "\n",
    "# Wrong examples\n",
    "# student-id = \"123\"       # ❌ Cannot use hyphen\n",
    "# student@email = \"...\"    # ❌ Cannot use @ symbol"
   ]
  },
  {
   "cell_type": "markdown",
   "id": "5521f58e",
   "metadata": {
    "lines_to_next_cell": 0
   },
   "source": [
    "#### ✅ **Rule 3: Case sensitive**\n",
    "대소문자 구분"
   ]
  },
  {
   "cell_type": "code",
   "execution_count": null,
   "id": "ebbabd5b",
   "metadata": {},
   "outputs": [],
   "source": [
    "# All different variables!\n",
    "name = \"John Kim\"\n",
    "Name = \"Alice Park\"\n",
    "NAME = \"Mike Lee\""
   ]
  },
  {
   "cell_type": "markdown",
   "id": "d6cf989f",
   "metadata": {
    "lines_to_next_cell": 0
   },
   "source": [
    "#### ✅ **Rule 4: Cannot use Python keywords**\n",
    "파이썬 키워드 사용 불가"
   ]
  },
  {
   "cell_type": "code",
   "execution_count": null,
   "id": "a45dfc72",
   "metadata": {},
   "outputs": [],
   "source": [
    "# Wrong examples\n",
    "# if = 10          # ❌ 'if' is a keyword\n",
    "# for = \"hello\"    # ❌ 'for' is a keyword\n",
    "# class = \"math\"   # ❌ 'class' is a keyword\n",
    "\n",
    "# Python keywords:\n",
    "# if, for, while, def, class, import, from, return, etc."
   ]
  },
  {
   "cell_type": "markdown",
   "id": "ce90c404",
   "metadata": {
    "lines_to_next_cell": 0
   },
   "source": [
    "### Recommendations\n",
    "\n",
    "#### 🌟 **Use Meaningful Names**\n",
    "의미 있는 이름 사용"
   ]
  },
  {
   "cell_type": "code",
   "execution_count": null,
   "id": "01cb8e65",
   "metadata": {},
   "outputs": [],
   "source": [
    "# Bad example\n",
    "x = \"John Kim\"\n",
    "y = 20\n",
    "z = True\n",
    "\n",
    "# Good example\n",
    "student_name = \"John Kim\"\n",
    "student_age = 20\n",
    "is_enrolled = True"
   ]
  },
  {
   "cell_type": "markdown",
   "id": "4db18759",
   "metadata": {
    "lines_to_next_cell": 0
   },
   "source": [
    "#### 🌟 **Use snake_case for Variables**\n",
    "변수에는 snake_case 사용"
   ]
  },
  {
   "cell_type": "code",
   "execution_count": null,
   "id": "0a032299",
   "metadata": {},
   "outputs": [],
   "source": [
    "# Recommended style - English variable names\n",
    "first_name = \"John\"\n",
    "last_name = \"Kim\"\n",
    "birth_year = 2003\n",
    "is_international_student = False"
   ]
  },
  {
   "cell_type": "markdown",
   "id": "72af6377",
   "metadata": {
    "lines_to_next_cell": 0
   },
   "source": [
    "#### 🌟 **Consistent Naming**\n",
    "일관성 있는 명명"
   ]
  },
  {
   "cell_type": "code",
   "execution_count": null,
   "id": "84633946",
   "metadata": {},
   "outputs": [],
   "source": [
    "# Use consistent style throughout the project\n",
    "student_name = \"John Kim\"      # English variable name\n",
    "student_grade = \"A\"           # English variable name\n",
    "phone_number = \"010-1234-5678\"  # English variable name"
   ]
  },
  {
   "cell_type": "markdown",
   "id": "648ea1d4",
   "metadata": {},
   "source": [
    "---\n",
    "\n",
    "## 🔢 3. Basic Data Types\n",
    "\n",
    "Python has 4 main basic data types that beginners should know:\n",
    "파이썬에는 초보자가 알아야 할 4가지 주요 기본 데이터 타입이 있습니다:\n",
    "\n",
    "### 3.1 Integer (int) - Whole Numbers\n",
    "\n",
    "**Definition**: Complete numbers without decimal points\n",
    "**정의**: 소수점이 없는 완전한 숫자"
   ]
  },
  {
   "cell_type": "code",
   "execution_count": null,
   "id": "48763792",
   "metadata": {},
   "outputs": [],
   "source": [
    "# Integer examples\n",
    "age = 20\n",
    "year = 2024\n",
    "temperature = -5\n",
    "score = 0\n",
    "population = 1000000\n",
    "\n",
    "# Can use underscores for readability\n",
    "big_number = 1_000_000  # Same as 1000000"
   ]
  },
  {
   "cell_type": "markdown",
   "id": "11f0a4c2",
   "metadata": {},
   "source": [
    "#### **Real-life Examples**:\n",
    "**실생활 예시**:\n",
    "- Age: `age = 22`\n",
    "- Year: `graduation_year = 2025`\n",
    "- Count: `student_count = 30`\n",
    "- Temperature: `temperature_celsius = -10`\n",
    "\n",
    "### 3.2 Float - Decimal Numbers\n",
    "\n",
    "**Definition**: Numbers with decimal points\n",
    "**정의**: 소수점이 있는 숫자"
   ]
  },
  {
   "cell_type": "code",
   "execution_count": null,
   "id": "6d633182",
   "metadata": {},
   "outputs": [],
   "source": [
    "# Float examples\n",
    "height = 175.5\n",
    "weight = 68.2\n",
    "price = 29.99\n",
    "pi = 3.14159\n",
    "body_temperature = 36.5\n",
    "\n",
    "# Scientific notation\n",
    "speed_of_light = 3e8  # 3 * 10^8 = 300,000,000"
   ]
  },
  {
   "cell_type": "markdown",
   "id": "53d514f1",
   "metadata": {},
   "source": [
    "#### **Real-life Examples**:\n",
    "**실생활 예시**:\n",
    "- Height: `height_cm = 175.5`\n",
    "- Weight: `weight_kg = 65.3`\n",
    "- Price: `book_price = 24.99`\n",
    "- GPA: `gpa = 3.75`\n",
    "\n",
    "### 3.3 String (str) - Text\n",
    "\n",
    "**Definition**: Text data surrounded by quotes\n",
    "**정의**: 따옴표로 둘러싸인 텍스트 데이터"
   ]
  },
  {
   "cell_type": "code",
   "execution_count": null,
   "id": "c8144927",
   "metadata": {},
   "outputs": [],
   "source": [
    "# String examples\n",
    "name = \"John Kim\"\n",
    "country = \"South Korea\"\n",
    "email = \"john@email.com\"\n",
    "message = \"Hello!\"\n",
    "\n",
    "# Single or double quotes both work\n",
    "first_name = \"John\"\n",
    "last_name = 'Kim'\n",
    "\n",
    "# Multi-line strings\n",
    "address = \"\"\"Daegu Metropolitan City\n",
    "Yeungnam University College\n",
    "Software Convergence Department\"\"\""
   ]
  },
  {
   "cell_type": "markdown",
   "id": "4d1038ba",
   "metadata": {},
   "source": [
    "#### **Important Notes about Strings**:\n",
    "**문자열 관련 중요 사항**:"
   ]
  },
  {
   "cell_type": "code",
   "execution_count": null,
   "id": "ad793fcb",
   "metadata": {},
   "outputs": [],
   "source": [
    "# Numbers in quotes are strings!\n",
    "age_number = 20        # This is integer\n",
    "age_text = \"20\"        # This is string!\n",
    "\n",
    "# Empty string\n",
    "empty_string = \"\""
   ]
  },
  {
   "cell_type": "markdown",
   "id": "17203dd3",
   "metadata": {},
   "source": [
    "### 3.4 Boolean (bool) - True/False\n",
    "\n",
    "**Definition**: Data that can only be True or False\n",
    "**정의**: 참(True) 또는 거짓(False)만 가능한 데이터"
   ]
  },
  {
   "cell_type": "code",
   "execution_count": null,
   "id": "1eefbe90",
   "metadata": {},
   "outputs": [],
   "source": [
    "# Boolean examples\n",
    "is_student = True\n",
    "is_graduated = False\n",
    "has_scholarship = True\n",
    "is_international = False\n",
    "\n",
    "# Note: Must be capitalized!\n",
    "correct = True    # ✅ Correct\n",
    "# wrong = true    # ❌ Wrong - Must be True"
   ]
  },
  {
   "cell_type": "markdown",
   "id": "dfed2e92",
   "metadata": {
    "lines_to_next_cell": 0
   },
   "source": [
    "#### **Real-life Examples**:\n",
    "**실생활 예시**:\n",
    "- Status: `is_enrolled = True`\n",
    "- Condition: `has_passed_exam = False`\n",
    "- Permission: `can_access = True`\n",
    "\n",
    "---\n",
    "\n",
    "## 🔍 4. The type() Function\n",
    "\n",
    "The `type()` function tells you what data type a variable contains.\n",
    "`type()` 함수는 변수가 어떤 데이터 타입을 포함하고 있는지 알려줍니다.\n",
    "\n",
    "### Syntax\n",
    "문법"
   ]
  },
  {
   "cell_type": "code",
   "execution_count": null,
   "id": "c258c2d4",
   "metadata": {},
   "outputs": [],
   "source": [
    "type(variable_name)"
   ]
  },
  {
   "cell_type": "markdown",
   "id": "172d247a",
   "metadata": {
    "lines_to_next_cell": 0
   },
   "source": [
    "### Examples\n",
    "예시"
   ]
  },
  {
   "cell_type": "code",
   "execution_count": null,
   "id": "755403e3",
   "metadata": {},
   "outputs": [],
   "source": [
    "# Create variables\n",
    "student_name = \"John Kim\"\n",
    "student_age = 20\n",
    "student_height = 165.5\n",
    "is_freshman = True\n",
    "\n",
    "# Check types\n",
    "print(type(student_name))    # <class 'str'>\n",
    "print(type(student_age))     # <class 'int'>\n",
    "print(type(student_height))  # <class 'float'>\n",
    "print(type(is_freshman))     # <class 'bool'>"
   ]
  },
  {
   "cell_type": "markdown",
   "id": "fa653640",
   "metadata": {
    "lines_to_next_cell": 0
   },
   "source": [
    "### Practical Use\n",
    "실용적 사용"
   ]
  },
  {
   "cell_type": "code",
   "execution_count": null,
   "id": "b95d5349",
   "metadata": {},
   "outputs": [],
   "source": [
    "# Check if input is correct type\n",
    "user_input = \"25\"\n",
    "print(f\"Input '{user_input}' type: {type(user_input)}\")\n",
    "\n",
    "# Check again after conversion\n",
    "user_age = int(user_input)\n",
    "print(f\"After conversion: {user_age} type: {type(user_age)}\")"
   ]
  },
  {
   "cell_type": "markdown",
   "id": "26c230d0",
   "metadata": {
    "lines_to_next_cell": 0
   },
   "source": [
    "---\n",
    "\n",
    "## 💡 5. Variable Assignment and Reassignment\n",
    "\n",
    "### Initial Assignment\n",
    "초기 할당"
   ]
  },
  {
   "cell_type": "code",
   "execution_count": null,
   "id": "72bdd120",
   "metadata": {},
   "outputs": [],
   "source": [
    "# First creation of variable\n",
    "student_name = \"John Kim\"\n",
    "print(student_name)  # Output: John Kim"
   ]
  },
  {
   "cell_type": "markdown",
   "id": "8ba65b23",
   "metadata": {
    "lines_to_next_cell": 0
   },
   "source": [
    "### Reassignment\n",
    "재할당"
   ]
  },
  {
   "cell_type": "code",
   "execution_count": null,
   "id": "3457668e",
   "metadata": {},
   "outputs": [],
   "source": [
    "# Change value\n",
    "student_name = \"Alice Park\"\n",
    "print(student_name)  # Output: Alice Park\n",
    "\n",
    "# Data type can also change!\n",
    "student_name = 123    # Now it's integer\n",
    "print(student_name)   # Output: 123\n",
    "print(type(student_name))  # <class 'int'>"
   ]
  },
  {
   "cell_type": "markdown",
   "id": "1c307fa2",
   "metadata": {
    "lines_to_next_cell": 0
   },
   "source": [
    "### Multiple Assignment\n",
    "다중 할당"
   ]
  },
  {
   "cell_type": "code",
   "execution_count": null,
   "id": "91d39996",
   "metadata": {},
   "outputs": [],
   "source": [
    "# Assign same value to multiple variables\n",
    "x = y = z = 0\n",
    "\n",
    "# Assign different values to multiple variables\n",
    "name, age, height = \"John Kim\", 20, 175.5\n",
    "print(name)    # John Kim\n",
    "print(age)     # 20\n",
    "print(height)  # 175.5"
   ]
  },
  {
   "cell_type": "markdown",
   "id": "a3901645",
   "metadata": {
    "lines_to_next_cell": 0
   },
   "source": [
    "---\n",
    "\n",
    "## 🔧 Practice\n",
    "\n",
    "### Practice 1: Declaring and Printing Variables of Various Data Types\n",
    "\n",
    "**Problem**: Create variables of different data types and print them with their types.\n",
    "**문제**: 다양한 데이터 타입의 변수를 생성하고 타입과 함께 출력하세요.\n",
    "\n",
    "**Requirements**:\n",
    "**요구사항**:\n",
    "- Create one variable for each data type: int, float, str, bool\n",
    "- Use meaningful variable names\n",
    "- Display each variable and its type\n",
    "\n",
    "**Solution**:\n",
    "**해답**:"
   ]
  },
  {
   "cell_type": "code",
   "execution_count": null,
   "id": "218ac79d",
   "metadata": {},
   "outputs": [],
   "source": [
    "# Creating variables of various data types\n",
    "\n",
    "# Integer\n",
    "student_count = 25\n",
    "print(f\"Number of students: {student_count}\")\n",
    "print(f\"Type: {type(student_count)}\")\n",
    "print()\n",
    "\n",
    "# Float\n",
    "average_grade = 87.5\n",
    "print(f\"Average grade: {average_grade}\")\n",
    "print(f\"Type: {type(average_grade)}\")\n",
    "print()\n",
    "\n",
    "# String\n",
    "university_name = \"Yeungnam University College\"\n",
    "print(f\"University: {university_name}\")\n",
    "print(f\"Type: {type(university_name)}\")\n",
    "print()\n",
    "\n",
    "# Boolean\n",
    "is_online_course = True\n",
    "print(f\"Is it an online course? {is_online_course}\")\n",
    "print(f\"Type: {type(is_online_course)}\")\n",
    "print()\n",
    "\n",
    "# Display all information at once\n",
    "print(\"=== Summary ===\")\n",
    "print(f\"Students: {student_count} ({type(student_count).__name__})\")\n",
    "print(f\"Average: {average_grade} ({type(average_grade).__name__})\")\n",
    "print(f\"University: {university_name} ({type(university_name).__name__})\")\n",
    "print(f\"Online: {is_online_course} ({type(is_online_course).__name__})\")"
   ]
  },
  {
   "cell_type": "markdown",
   "id": "0ca01666",
   "metadata": {
    "lines_to_next_cell": 0
   },
   "source": [
    "### Practice 2: Comparing Correct and Incorrect Variable Names\n",
    "\n",
    "**Problem**: Create examples of correct and incorrect variable names, and fix the incorrect ones.\n",
    "**문제**: 올바른 변수명과 잘못된 변수명의 예시를 만들고, 잘못된 것들을 수정하세요.\n",
    "\n",
    "**Steps**:\n",
    "**단계**:\n",
    "1. Try creating variables with incorrect names (see what errors occur)\n",
    "2. Fix the incorrect names and explain why they were wrong\n",
    "3. Show the corrected versions\n",
    "\n",
    "**Solution**:\n",
    "**해답**:"
   ]
  },
  {
   "cell_type": "code",
   "execution_count": null,
   "id": "1569a060",
   "metadata": {},
   "outputs": [],
   "source": [
    "# === Correct Variable Name Examples ===\n",
    "print(\"=== Correct Examples ===\")\n",
    "\n",
    "# Good variable names\n",
    "first_name = \"John\"\n",
    "last_name = \"Kim\"\n",
    "age_in_years = 22\n",
    "_private_score = 95\n",
    "student2 = \"Alice Park\"\n",
    "\n",
    "print(f\"First name: {first_name}\")\n",
    "print(f\"Last name: {last_name}\")\n",
    "print(f\"Age: {age_in_years}\")\n",
    "print(f\"Private score: {_private_score}\")\n",
    "print(f\"Second student: {student2}\")\n",
    "print()\n",
    "\n",
    "# === Incorrect Variable Names and Corrections ===\n",
    "print(\"=== Incorrect Examples and Corrections ===\")\n",
    "\n",
    "# Wrong: 2nd_student = \"John Kim\"  # ❌ Cannot start with number\n",
    "# Correction:\n",
    "second_student = \"John Kim\"  # ✅ Start with letter\n",
    "print(f\"'2nd_student' → 'second_student' corrected: {second_student}\")\n",
    "\n",
    "# Wrong: student-name = \"Alice Park\"  # ❌ Cannot use hyphen\n",
    "# Correction:\n",
    "student_name = \"Alice Park\"  # ✅ Use underscore\n",
    "print(f\"'student-name' → 'student_name' corrected: {student_name}\")\n",
    "\n",
    "# Wrong: class = \"Mathematics\"  # ❌ 'class' is Python keyword\n",
    "# Correction:\n",
    "course_name = \"Mathematics\"  # ✅ Use meaningful alternative\n",
    "print(f\"'class' → 'course_name' corrected: {course_name}\")\n",
    "\n",
    "# Wrong: student@email = \"test@email.com\"  # ❌ Cannot use @ symbol\n",
    "# Correction:\n",
    "student_email = \"test@email.com\"  # ✅ Use underscore\n",
    "print(f\"'student@email' → 'student_email' corrected: {student_email}\")\n",
    "\n",
    "# Wrong: for = 10  # ❌ 'for' is Python keyword\n",
    "# Correction:\n",
    "loop_count = 10  # ✅ Use meaningful alternative\n",
    "print(f\"'for' → 'loop_count' corrected: {loop_count}\")\n",
    "\n",
    "print()\n",
    "print(\"=== Rule Summary ===\")\n",
    "print(\"1. Start with letter or underscore\")\n",
    "print(\"2. Use only letters, numbers, underscores\")\n",
    "print(\"3. No Python keywords\")\n",
    "print(\"4. Case sensitive\")\n",
    "print(\"5. Use meaningful names\")"
   ]
  },
  {
   "cell_type": "markdown",
   "id": "8b18d901",
   "metadata": {
    "lines_to_next_cell": 0
   },
   "source": [
    "### Practice 3: Creating Variables for Personal Information\n",
    "\n",
    "**Problem**: Create a program that stores and displays personal information using appropriate variable types.\n",
    "**문제**: 적절한 변수 타입을 사용하여 개인 정보를 저장하고 표시하는 프로그램을 만드세요.\n",
    "\n",
    "**Requirements**:\n",
    "**요구사항**:\n",
    "- Information to store: name, age, height, student status, GPA, location, email, major\n",
    "- Use appropriate data type for each information\n",
    "- Display information in proper format\n",
    "\n",
    "**Solution**:\n",
    "**해답**:"
   ]
  },
  {
   "cell_type": "code",
   "execution_count": null,
   "id": "61e7c2bc",
   "metadata": {},
   "outputs": [],
   "source": [
    "# Personal Information Storage System\n",
    "\n",
    "print(\"=== Personal Information System ===\")\n",
    "print()\n",
    "\n",
    "# Personal information variables\n",
    "# String data\n",
    "full_name = \"Michael Park\"\n",
    "hometown = \"Daegu Metropolitan City\"\n",
    "email_address = \"michael.park@email.com\"\n",
    "major = \"Software Convergence\"\n",
    "school = \"Yeungnam University College\"\n",
    "\n",
    "# Integer data\n",
    "age_years = 20\n",
    "graduation_year = 2026\n",
    "student_id = 2024001\n",
    "\n",
    "# Float data\n",
    "height_cm = 175.5\n",
    "weight_kg = 68.2\n",
    "current_gpa = 3.85\n",
    "\n",
    "# Boolean data\n",
    "is_full_time_student = True\n",
    "has_scholarship = True\n",
    "lives_in_dorm = False\n",
    "has_drivers_license = True\n",
    "\n",
    "# Display information in proper format\n",
    "print(\"📋 Student Profile\")\n",
    "print(\"=\" * 40)\n",
    "print(f\"👤 Name: {full_name}\")\n",
    "print(f\"📧 Email: {email_address}\")\n",
    "print(f\"🏠 Hometown: {hometown}\")\n",
    "print(f\"🎂 Age: {age_years} years old\")\n",
    "print(f\"📏 Height: {height_cm}cm\")\n",
    "print(f\"⚖️ Weight: {weight_kg}kg\")\n",
    "print(f\"🏫 School: {school}\")\n",
    "print(f\"📚 Major: {major}\")\n",
    "print(f\"🎯 GPA: {current_gpa}\")\n",
    "print(f\"🎓 Expected graduation: {graduation_year}\")\n",
    "print(f\"📖 Student ID: {student_id}\")\n",
    "print()\n",
    "\n",
    "# Status information\n",
    "print(\"📊 Status Information\")\n",
    "print(\"=\" * 40)\n",
    "print(f\"Full-time student: {is_full_time_student}\")\n",
    "print(f\"Has scholarship: {has_scholarship}\")\n",
    "print(f\"Lives in dormitory: {lives_in_dorm}\")\n",
    "print(f\"Has driver's license: {has_drivers_license}\")\n",
    "print()\n",
    "\n",
    "# Data type information\n",
    "print(\"🔍 Data Type Check\")\n",
    "print(\"=\" * 40)\n",
    "print(f\"Name type: {type(full_name).__name__}\")\n",
    "print(f\"Age type: {type(age_years).__name__}\")\n",
    "print(f\"Height type: {type(height_cm).__name__}\")\n",
    "print(f\"GPA type: {type(current_gpa).__name__}\")\n",
    "print(f\"Student status type: {type(is_full_time_student).__name__}\")\n",
    "print()\n",
    "\n",
    "# Additional calculated information\n",
    "birth_year = 2024 - age_years\n",
    "BMI = weight_kg / ((height_cm / 100) ** 2)\n",
    "\n",
    "print(\"📈 Calculated Information\")\n",
    "print(\"=\" * 40)\n",
    "print(f\"Estimated birth year: {birth_year}\")\n",
    "print(f\"BMI index: {BMI:.1f}\")\n",
    "print(f\"Years until graduation: {graduation_year - 2024} years\")"
   ]
  },
  {
   "cell_type": "markdown",
   "id": "e412e71a",
   "metadata": {
    "lines_to_next_cell": 0
   },
   "source": [
    "---\n",
    "\n",
    "## 📝 Quiz\n",
    "\n",
    "### Quiz 1: Variable Assignment and Output\n",
    "\n",
    "**Problem**: Create a variable called `name` to store your name, then write code to display it on screen.\n",
    "**문제**: `name`이라는 변수를 만들어 당신의 이름을 저장한 후, 화면에 출력하는 코드를 작성하세요.\n",
    "\n",
    "**Write your answer here**:\n",
    "**답을 여기에 작성하세요**:"
   ]
  },
  {
   "cell_type": "code",
   "execution_count": null,
   "id": "a7ee072d",
   "metadata": {},
   "outputs": [],
   "source": [
    "# Write your code here:\n",
    "\n",
    "\n",
    "\n"
   ]
  },
  {
   "cell_type": "markdown",
   "id": "2cd8fdf5",
   "metadata": {},
   "source": [
    "### Quiz 2: Data Type Identification\n",
    "\n",
    "**Problem**: Given the following variables, use the `type()` function to print the data type of each variable:\n",
    "**문제**: 다음 변수들이 주어졌을 때, `type()` 함수를 사용하여 각 변수의 데이터 타입을 출력하세요:"
   ]
  },
  {
   "cell_type": "code",
   "execution_count": null,
   "id": "aef1c653",
   "metadata": {},
   "outputs": [],
   "source": [
    "age = 25\n",
    "height = 175.5\n",
    "name = \"John Kim\""
   ]
  },
  {
   "cell_type": "markdown",
   "id": "352d3005",
   "metadata": {
    "lines_to_next_cell": 0
   },
   "source": [
    "**Write your answer here**:\n",
    "**답을 여기에 작성하세요**:"
   ]
  },
  {
   "cell_type": "code",
   "execution_count": null,
   "id": "cfcd6a86",
   "metadata": {},
   "outputs": [],
   "source": [
    "age = 25\n",
    "height = 175.5\n",
    "name = \"John Kim\"\n",
    "\n",
    "# Write code to print types here:\n",
    "\n",
    "\n",
    "\n"
   ]
  },
  {
   "cell_type": "markdown",
   "id": "ed62e850",
   "metadata": {},
   "source": [
    "### Quiz 3: Variable Name Validation\n",
    "\n",
    "**Problem**: Look at the following variable names and find the **incorrect** ones. For each wrong name, explain why it's wrong and provide a corrected version.\n",
    "**문제**: 다음 변수명들을 보고 **올바르지 않은** 것들을 찾으세요. 잘못된 각 이름에 대해 왜 틀렸는지 설명하고 수정된 버전을 제공하세요.\n",
    "\n",
    "**Variable names to check**:\n",
    "**확인할 변수명들**:\n",
    "1. `my_age`\n",
    "2. `2nd_name`\n",
    "3. `student-id`\n",
    "4. `_score`\n",
    "5. `class`\n",
    "6. `firstName`\n",
    "7. `user@name`\n",
    "8. `total_count`\n",
    "\n",
    "**Write your analysis here**:\n",
    "**분석을 여기에 작성하세요**:\n",
    "\n",
    "| Variable Name | Correct/Wrong | Reason | Corrected Version |\n",
    "|---------------|---------------|--------|-------------------|\n",
    "| my_age | | | |\n",
    "| 2nd_name | | | |\n",
    "| student-id | | | |\n",
    "| _score | | | |\n",
    "| class | | | |\n",
    "| firstName | | | |\n",
    "| user@name | | | |\n",
    "| total_count | | | |\n",
    "\n",
    "---\n",
    "\n",
    "## 📖 References\n",
    "\n",
    "1. **Python Variables Tutorial**: https://www.w3schools.com/python/python_variables.asp\n",
    "   - Comprehensive guide to Python variables and naming rules\n",
    "   파이썬 변수와 명명 규칙 종합 가이드\n",
    "\n",
    "2. **Python Data Types**: https://docs.python.org/3/tutorial/introduction.html\n",
    "   - Official Python documentation on data types\n",
    "   데이터 타입에 대한 공식 파이썬 문서\n",
    "\n",
    "3. **Variable Naming Best Practices**: https://realpython.com/python-pep8/#naming-conventions\n",
    "   - Professional naming rules and code style\n",
    "   전문적인 명명 규칙과 코드 스타일\n",
    "\n",
    "4. **Python for Beginners**: https://www.python.org/about/gettingstarted/\n",
    "   - Official Python getting started guide\n",
    "   파이썬 공식 시작 가이드\n",
    "\n",
    "---\n",
    "\n",
    "## 💡 Additional Tips for Success\n",
    "\n",
    "### Effective Learning Methods\n",
    "효과적인 학습 방법\n",
    "- **Consistent Naming**: Use consistent style throughout the project\n",
    "일관된 명명: 프로젝트 전체에서 일관된 스타일 사용\n",
    "- **Meaningful Names**: `name` is better than `n`, `student_age` is better than `age`\n",
    "의미 있는 이름: `name`이 `n`보다 좋고, `student_age`가 `age`보다 좋음\n",
    "- **Daily Practice**: Try creating variables for objects around you\n",
    "매일 연습: 주변 사물에 대한 변수 만들어보기\n",
    "- **Use type() Function**: Check types whenever you're confused\n",
    "type() 함수 활용: 헷갈릴 때마다 타입 확인하기\n",
    "\n",
    "### Common Mistakes to Avoid\n",
    "피해야 할 일반적인 실수\n",
    "- **Don't Start with Numbers**: `2nd_name` → `second_name`\n",
    "숫자로 시작하지 말기\n",
    "- **Don't Use Hyphens**: `student-id` → `student_id`\n",
    "하이픈 사용하지 말기\n",
    "- **Don't Use Keywords**: `class` → `course_name`\n",
    "키워드 사용하지 말기\n",
    "- **Don't Use Special Characters**: `user@name` → `user_name`\n",
    "특수문자 사용하지 말기\n",
    "\n",
    "### Easy Memory Tips\n",
    "기억하기 쉬운 팁\n",
    "- **int**: **Int**eger = Complete (**Int**act) numbers\n",
    "- **float**: Numbers that **float** with decimal points\n",
    "- **str**: **Str**ing = Connection of characters (**Str**ing)\n",
    "- **bool**: **Bool**ean = Named after George **Bool**e\n",
    "\n",
    "### Notes on Korean Variable Names\n",
    "한국어 변수명 사용시 주의사항\n",
    "- **Possible but not recommended**: Difficult for international collaboration\n",
    "가능하지만 권장하지 않음: 국제적 협업에서 어려움\n",
    "- **Don't mix with English**: Use consistently\n",
    "영어와 혼용 금지: 일관성 있게 사용\n",
    "- **Team Projects**: Follow team rules\n",
    "팀 프로젝트: 팀 규칙에 따라 결정\n",
    "\n",
    "---\n",
    "\n",
    "## 📋 Homework\n",
    "\n",
    "1. **Practice**: Complete all 3 exercises on your computer\n",
    "연습: 컴퓨터에서 3개 실습 모두 완료하기\n",
    "2. **Create**: Make va"
   ]
  }
 ],
 "metadata": {
  "jupytext": {
   "cell_metadata_filter": "-all",
   "main_language": "python",
   "notebook_metadata_filter": "-all"
  }
 },
 "nbformat": 4,
 "nbformat_minor": 5
}
