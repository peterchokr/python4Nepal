{
 "cells": [
  {
   "cell_type": "markdown",
   "id": "211c01d5",
   "metadata": {
    "lines_to_next_cell": 0
   },
   "source": [
    "# String Handling\n",
    "\n",
    "**Class Duration**: 3 hours  \n",
    "**Structure**: Lecture & Practice 2 hours + Quiz 1 hour  \n",
    "**Level**: Beginner\n",
    "\n",
    "---\n",
    "\n",
    "## 🎯 Learning Objectives\n",
    "\n",
    "After completing this lesson, students will be able to:\n",
    "이 수업을 마친 후 학생들은 다음을 할 수 있습니다:\n",
    "\n",
    "- Create and manipulate strings in various ways\n",
    "다양한 방법으로 문자열 생성 및 조작하기\n",
    "- Access individual characters and string parts using indexing and slicing\n",
    "인덱싱과 슬라이싱을 사용하여 개별 문자와 문자열 부분 접근하기\n",
    "- Use string methods to transform and analyze text\n",
    "문자열 메소드를 사용하여 텍스트 변환 및 분석하기\n",
    "- Format strings using f-strings and format() method\n",
    "f-문자열과 format() 메소드를 사용하여 문자열 형식화하기\n",
    "- Solve practical text processing problems\n",
    "실용적인 텍스트 처리 문제 해결하기\n",
    "\n",
    "---\n",
    "\n",
    "## 📝 1. What is a String?\n",
    "\n",
    "### Definition\n",
    "\n",
    "A **String** is a sequence of characters (letters, numbers, symbols, spaces) enclosed in quotes.\n",
    "**문자열**은 따옴표로 둘러싸인 문자들(글자, 숫자, 기호, 공백)의 연속입니다.\n",
    "\n",
    "### Creating Strings\n",
    "\n",
    "문자열 생성"
   ]
  },
  {
   "cell_type": "code",
   "execution_count": null,
   "id": "eb3455a2",
   "metadata": {},
   "outputs": [],
   "source": [
    "# Different ways to create strings\n",
    "name = \"John Kim\"                    # Double quotes\n",
    "country = 'South Korea'              # Single quotes\n",
    "message = \"Hello!\"                   # Including punctuation\n",
    "empty_string = \"\"                    # Empty string\n",
    "\n",
    "# Multi-line strings\n",
    "address = \"\"\"Daegu Metropolitan City\n",
    "Yeungnam University College\n",
    "Software Convergence Department\"\"\"\n",
    "\n",
    "print(name)\n",
    "print(country)\n",
    "print(message)\n",
    "print(address)"
   ]
  },
  {
   "cell_type": "markdown",
   "id": "dc7439c8",
   "metadata": {
    "lines_to_next_cell": 0
   },
   "source": [
    "### String Characteristics\n",
    "\n",
    "문자열 특성"
   ]
  },
  {
   "cell_type": "code",
   "execution_count": null,
   "id": "6b0cade0",
   "metadata": {},
   "outputs": [],
   "source": [
    "# Strings are sequences\n",
    "text = \"Python\"\n",
    "print(f\"Text: {text}\")\n",
    "print(f\"Length: {len(text)}\")        # 6 characters\n",
    "print(f\"Type: {type(text)}\")         # <class 'str'>\n",
    "\n",
    "# Strings are immutable\n",
    "original = \"Hello\"\n",
    "print(f\"Original: {original}\")\n",
    "# original[0] = \"h\"  # This would cause an error!\n",
    "\n",
    "# But we can create new strings\n",
    "modified = original.upper()\n",
    "print(f\"Modified: {modified}\")       # HELLO\n",
    "print(f\"Original unchanged: {original}\")  # Hello"
   ]
  },
  {
   "cell_type": "markdown",
   "id": "ce50216f",
   "metadata": {},
   "source": [
    "---\n",
    "\n",
    "## 🔍 2. String Indexing\n",
    "\n",
    "### Understanding Indexing\n",
    "\n",
    "Think of a string as a row of numbered mailboxes!\n",
    "문자열을 각각 번호가 있는 우편함 줄로 생각해보세요!"
   ]
  },
  {
   "cell_type": "code",
   "execution_count": null,
   "id": "37e0610e",
   "metadata": {},
   "outputs": [],
   "source": [
    "text = \"Python\"\n",
    "#       P  y  t  h  o  n\n",
    "#       0  1  2  3  4  5    (positive indexing)\n",
    "#      -6 -5 -4 -3 -2 -1    (negative indexing)\n",
    "\n",
    "print(\"String:\", text)\n",
    "print(\"Length:\", len(text))\n",
    "print()\n",
    "\n",
    "# Positive indexing\n",
    "print(\"Positive indexing:\")\n",
    "print(f\"First character: text[0] = '{text[0]}'\")      # P\n",
    "print(f\"Second character: text[1] = '{text[1]}'\")     # y\n",
    "print(f\"Last character: text[5] = '{text[5]}'\")       # n\n",
    "print()\n",
    "\n",
    "# Negative indexing\n",
    "print(\"Negative indexing:\")\n",
    "print(f\"Last character: text[-1] = '{text[-1]}'\")     # n\n",
    "print(f\"Second to last: text[-2] = '{text[-2]}'\")     # o\n",
    "print(f\"First character: text[-6] = '{text[-6]}'\")    # P"
   ]
  },
  {
   "cell_type": "markdown",
   "id": "1b844198",
   "metadata": {
    "lines_to_next_cell": 0
   },
   "source": [
    "### Practical Examples\n",
    "\n",
    "실용적 예시"
   ]
  },
  {
   "cell_type": "code",
   "execution_count": null,
   "id": "f4b55467",
   "metadata": {},
   "outputs": [],
   "source": [
    "# Name analysis\n",
    "full_name = \"John Kim\"\n",
    "print(f\"Full name: {full_name}\")\n",
    "print(f\"First character: {full_name[0]}\")               # J\n",
    "print(f\"Last character: {full_name[-1]}\")               # m\n",
    "print(f\"Middle character: {full_name[len(full_name)//2]}\")  # n\n",
    "\n",
    "# Email analysis\n",
    "email = \"student@ync.ac.kr\"\n",
    "print(f\"\\nEmail: {email}\")\n",
    "print(f\"First character: {email[0]}\")                # s\n",
    "print(f\"Last character: {email[-1]}\")                # r\n",
    "print(f\"8th position character: {email[7]}\")         # @"
   ]
  },
  {
   "cell_type": "markdown",
   "id": "5b6e3aa9",
   "metadata": {},
   "source": [
    "---\n",
    "\n",
    "## ✂️ 3. String Slicing\n",
    "\n",
    "### Basic Slicing Syntax\n",
    "\n",
    "기본 슬라이싱 문법\n",
    "**Syntax**: `string[start:end:step]`\n",
    "- `start`: Starting index (included)\n",
    "- `end`: Ending index (excluded)\n",
    "- `step`: Step size (default 1)"
   ]
  },
  {
   "cell_type": "code",
   "execution_count": null,
   "id": "2d5ea956",
   "metadata": {},
   "outputs": [],
   "source": [
    "text = \"Programming\"\n",
    "#       P r o g r a m m i n g\n",
    "#       0 1 2 3 4 5 6 7 8 9 10\n",
    "\n",
    "print(f\"Original text: {text}\")\n",
    "print()\n",
    "\n",
    "# Basic slicing\n",
    "print(\"Basic slicing:\")\n",
    "print(f\"text[0:2] = '{text[0:2]}'\")     # 'Pr' (0,1)\n",
    "print(f\"text[1:3] = '{text[1:3]}'\")     # 'ro' (1,2)\n",
    "print(f\"text[2:4] = '{text[2:4]}'\")     # 'og' (2,3)\n",
    "print()\n",
    "\n",
    "# Omitting start or end\n",
    "print(\"Omitting start or end:\")\n",
    "print(f\"text[:2] = '{text[:2]}'\")       # 'Pr' (from beginning)\n",
    "print(f\"text[2:] = '{text[2:]}'\")       # 'ogramming' (to end)\n",
    "print(f\"text[:] = '{text[:]}'\")         # 'Programming' (entire string)\n",
    "print()\n",
    "\n",
    "# Negative indices\n",
    "print(\"Negative indices:\")\n",
    "print(f\"text[-2:] = '{text[-2:]}'\")     # 'ng' (last 2 characters)\n",
    "print(f\"text[:-2] = '{text[:-2]}'\")     # 'Programmin' (except last 2)"
   ]
  },
  {
   "cell_type": "markdown",
   "id": "e0b28116",
   "metadata": {
    "lines_to_next_cell": 0
   },
   "source": [
    "### Advanced Slicing\n",
    "\n",
    "고급 슬라이싱"
   ]
  },
  {
   "cell_type": "code",
   "execution_count": null,
   "id": "6dfd068e",
   "metadata": {},
   "outputs": [],
   "source": [
    "text = \"Hello World\"\n",
    "print(f\"Text: {text}\")\n",
    "print()\n",
    "\n",
    "# Using step\n",
    "print(\"Using step:\")\n",
    "print(f\"Every 2nd: text[::2] = '{text[::2]}'\")     # 'HloWrd'\n",
    "print(f\"Every 3rd: text[::3] = '{text[::3]}'\")     # 'HlWl'\n",
    "print()\n",
    "\n",
    "# Reversing strings\n",
    "print(\"Reversing:\")\n",
    "print(f\"Reverse: text[::-1] = '{text[::-1]}'\")              # 'dlroW olleH'"
   ]
  },
  {
   "cell_type": "markdown",
   "id": "1f436053",
   "metadata": {
    "lines_to_next_cell": 0
   },
   "source": [
    "### Practical Applications\n",
    "\n",
    "실용적 응용"
   ]
  },
  {
   "cell_type": "code",
   "execution_count": null,
   "id": "d75aa3d4",
   "metadata": {},
   "outputs": [],
   "source": [
    "# Phone number analysis\n",
    "phone_number = \"010-1234-5678\"\n",
    "area_code = phone_number[0:3]\n",
    "middle_part = phone_number[4:8]\n",
    "last_part = phone_number[9:13]\n",
    "\n",
    "print(\"Phone number analysis:\")\n",
    "print(f\"Full number: {phone_number}\")\n",
    "print(f\"Area code: {area_code}\")\n",
    "print(f\"Middle part: {middle_part}\")\n",
    "print(f\"Last part: {last_part}\")\n",
    "print()\n",
    "\n",
    "# Date extraction\n",
    "date_string = \"2024-03-15\"\n",
    "year = date_string[0:4]\n",
    "month = date_string[5:7]\n",
    "day = date_string[8:10]\n",
    "\n",
    "print(\"Date analysis:\")\n",
    "print(f\"Full date: {date_string}\")\n",
    "print(f\"Year: {year}\")\n",
    "print(f\"Month: {month}\")\n",
    "print(f\"Day: {day}\")"
   ]
  },
  {
   "cell_type": "markdown",
   "id": "8b8355b0",
   "metadata": {
    "lines_to_next_cell": 0
   },
   "source": [
    "---\n",
    "\n",
    "## 🛠️ 4. String Methods\n",
    "\n",
    "String methods are built-in functions that help manipulate and analyze strings.\n",
    "문자열 메소드는 문자열을 조작하고 분석하는 데 도움이 되는 내장 함수들입니다.\n",
    "\n",
    "### 4.1 Case Conversion Methods\n",
    "\n",
    "대소문자 변환 메소드"
   ]
  },
  {
   "cell_type": "code",
   "execution_count": null,
   "id": "180aa411",
   "metadata": {},
   "outputs": [],
   "source": [
    "text = \"Hello World Python\"\n",
    "print(f\"Original: {text}\")\n",
    "print()\n",
    "\n",
    "# Case conversion\n",
    "print(\"Case conversion:\")\n",
    "print(f\"Uppercase: {text.upper()}\")           # HELLO WORLD PYTHON\n",
    "print(f\"Lowercase: {text.lower()}\")           # hello world python\n",
    "print(f\"Title case: {text.title()}\")          # Hello World Python\n",
    "print(f\"Capitalize: {text.capitalize()}\")     # Hello world python\n",
    "print()\n",
    "\n",
    "# Case checking\n",
    "print(\"Case checking:\")\n",
    "print(f\"Is uppercase: {text.isupper()}\")       # False\n",
    "print(f\"Is lowercase: {text.islower()}\")       # False\n",
    "print(f\"Is title case: {text.istitle()}\")      # True"
   ]
  },
  {
   "cell_type": "markdown",
   "id": "d4b21885",
   "metadata": {
    "lines_to_next_cell": 0
   },
   "source": [
    "### 4.2 Whitespace Handling Methods\n",
    "\n",
    "공백 처리 메소드"
   ]
  },
  {
   "cell_type": "code",
   "execution_count": null,
   "id": "3544c30e",
   "metadata": {},
   "outputs": [],
   "source": [
    "messy_text = \"   Hello Python   \"\n",
    "print(f\"Original: '{messy_text}'\")\n",
    "print()\n",
    "\n",
    "# Whitespace removal\n",
    "print(\"Whitespace removal:\")\n",
    "print(f\"Strip both sides: '{messy_text.strip()}'\")         # 'Hello Python'\n",
    "print(f\"Strip left: '{messy_text.lstrip()}'\")              # 'Hello Python   '\n",
    "print(f\"Strip right: '{messy_text.rstrip()}'\")             # '   Hello Python'"
   ]
  },
  {
   "cell_type": "markdown",
   "id": "224f5bce",
   "metadata": {
    "lines_to_next_cell": 0
   },
   "source": [
    "### 4.3 Search and Replace Methods\n",
    "\n",
    "검색 및 교체 메소드"
   ]
  },
  {
   "cell_type": "code",
   "execution_count": null,
   "id": "2780fa22",
   "metadata": {},
   "outputs": [],
   "source": [
    "sentence = \"Python is great and Python is powerful\"\n",
    "print(f\"Original: {sentence}\")\n",
    "print()\n",
    "\n",
    "# Finding text\n",
    "print(\"Finding text:\")\n",
    "print(f\"Find 'Python': {sentence.find('Python')}\")         # 0 (first occurrence)\n",
    "print(f\"Find 'great': {sentence.find('great')}\")           # 10\n",
    "print(f\"Find 'Java': {sentence.find('Java')}\")             # -1 (not found)\n",
    "print()\n",
    "\n",
    "# Counting occurrences\n",
    "print(\"Counting occurrences:\")\n",
    "print(f\"Count 'Python': {sentence.count('Python')}\")       # 2\n",
    "print(f\"Count 'is': {sentence.count('is')}\")               # 2\n",
    "print()\n",
    "\n",
    "# Text replacement\n",
    "print(\"Text replacement:\")\n",
    "print(f\"Replace 'Python' with 'Java': {sentence.replace('Python', 'Java')}\")\n",
    "print(f\"Original unchanged: {sentence}\")"
   ]
  },
  {
   "cell_type": "markdown",
   "id": "4d30f83d",
   "metadata": {
    "lines_to_next_cell": 0
   },
   "source": [
    "### 4.4 Content Checking Methods\n",
    "\n",
    "내용 확인 메소드"
   ]
  },
  {
   "cell_type": "code",
   "execution_count": null,
   "id": "49f1a318",
   "metadata": {},
   "outputs": [],
   "source": [
    "# Various types of strings\n",
    "text1 = \"Hello123\"\n",
    "text2 = \"12345\"\n",
    "text3 = \"Hello\"\n",
    "text4 = \"hello world\"\n",
    "\n",
    "print(\"Content checking:\")\n",
    "print(f\"'{text1}' is alphanumeric: {text1.isalnum()}\")     # True\n",
    "print(f\"'{text2}' is digit: {text2.isdigit()}\")           # True\n",
    "print(f\"'{text3}' is alpha: {text3.isalpha()}\")           # True\n",
    "print(f\"'{text4}' contains space: {' ' in text4}\")        # True\n",
    "print()\n",
    "\n",
    "# String property checking\n",
    "email = \"user@ync.ac.kr\"\n",
    "print(\"Email analysis:\")\n",
    "print(f\"Contains '@': {'@' in email}\")                     # True\n",
    "print(f\"Starts with 'user': {email.startswith('user')}\")  # True\n",
    "print(f\"Ends with '.kr': {email.endswith('.kr')}\")        # True\n",
    "print(f\"Ends with '.com': {email.endswith('.com')}\")      # False"
   ]
  },
  {
   "cell_type": "markdown",
   "id": "df118b36",
   "metadata": {},
   "source": [
    "---\n",
    "\n",
    "## 🎨 5. String Formatting\n",
    "\n",
    "String formatting allows you to create dynamic strings by inserting variables and values.\n",
    "문자열 형식화를 통해 변수와 값을 삽입하여 동적 문자열을 만들 수 있습니다.\n",
    "\n",
    "### 5.1 f-string Formatting\n",
    "\n",
    "**f-strings** are the modern and preferred way to format strings in Python!\n",
    "**f-문자열**은 파이썬에서 문자열을 형식화하는 현대적이고 선호되는 방법입니다!"
   ]
  },
  {
   "cell_type": "code",
   "execution_count": null,
   "id": "c7c96976",
   "metadata": {},
   "outputs": [],
   "source": [
    "# Basic f-string usage\n",
    "name = \"Michael Kim\"\n",
    "age = 22\n",
    "height = 175.5\n",
    "\n",
    "print(\"Basic f-string:\")\n",
    "print(f\"Hello, my name is {name}\")\n",
    "print(f\"I am {age} years old\")\n",
    "print(f\"My height is {height}cm\")\n",
    "print()\n",
    "\n",
    "# Expressions in f-strings\n",
    "print(\"Expressions in f-strings:\")\n",
    "print(f\"Next year I will be {age + 1} years old\")\n",
    "print(f\"Height in meters: {height / 100:.2f}m\")\n",
    "print(f\"Name in uppercase: {name.upper()}\")\n",
    "print()\n",
    "\n",
    "# Multiple variables\n",
    "first_name = \"Michael\"\n",
    "last_name = \"Kim\"\n",
    "school = \"Yeungnam University College\"\n",
    "\n",
    "print(\"Multiple variables:\")\n",
    "print(f\"Full name: {first_name} {last_name}\")\n",
    "print(f\"I am {first_name} {last_name} from {school}\")"
   ]
  },
  {
   "cell_type": "markdown",
   "id": "9cc20f5f",
   "metadata": {
    "lines_to_next_cell": 0
   },
   "source": [
    "### 5.2 Advanced f-string Formatting\n",
    "\n",
    "고급 f-문자열 형식화"
   ]
  },
  {
   "cell_type": "code",
   "execution_count": null,
   "id": "fa08bdd8",
   "metadata": {},
   "outputs": [],
   "source": [
    "# Number formatting\n",
    "price = 29990\n",
    "quantity = 3\n",
    "total = price * quantity\n",
    "\n",
    "print(\"Number formatting:\")\n",
    "print(f\"Price: ${price:,}\")                    # $29,990 (thousands separator)\n",
    "print(f\"Quantity: {quantity} items\")           # 3 items\n",
    "print(f\"Total: ${total:,}\")                    # $89,970\n",
    "print()\n",
    "\n",
    "# Percentage formatting\n",
    "score = 85\n",
    "total_score = 100\n",
    "percentage = score / total_score\n",
    "\n",
    "print(\"Percentage formatting:\")\n",
    "print(f\"Score: {score}/{total_score}\")\n",
    "print(f\"Percentage: {percentage:.1%}\")         # 85.0%"
   ]
  },
  {
   "cell_type": "markdown",
   "id": "d0049207",
   "metadata": {
    "lines_to_next_cell": 0
   },
   "source": [
    "### 5.3 .format() Method\n",
    "\n",
    ".format() 메소드"
   ]
  },
  {
   "cell_type": "code",
   "execution_count": null,
   "id": "43ab6a71",
   "metadata": {},
   "outputs": [],
   "source": [
    "# Basic .format() usage\n",
    "template = \"Hello, my name is {} and I am {} years old\"\n",
    "result = template.format(\"John Smith\", 25)\n",
    "print(\"Basic .format():\")\n",
    "print(result)\n",
    "print()\n",
    "\n",
    "# Named placeholders\n",
    "template2 = \"Hello, my name is {name} and I am {age} years old\"\n",
    "result2 = template2.format(name=\"Alice Park\", age=23)\n",
    "print(\"Named placeholders:\")\n",
    "print(result2)"
   ]
  },
  {
   "cell_type": "markdown",
   "id": "5827de77",
   "metadata": {
    "lines_to_next_cell": 0
   },
   "source": [
    "---\n",
    "\n",
    "## 🔧 Practice\n",
    "\n",
    "### Practice 1: Simple Text Processing\n",
    "\n",
    "**Problem**: Create a program that processes user information and displays it in various formats.\n",
    "**문제**: 사용자 정보를 처리하고 다양한 형식으로 표시하는 프로그램을 만드세요.\n",
    "\n",
    "**Solution**:\n",
    "**해답**:"
   ]
  },
  {
   "cell_type": "code",
   "execution_count": null,
   "id": "8e352c9f",
   "metadata": {},
   "outputs": [],
   "source": [
    "# Simple Text Processing Program\n",
    "print(\"📝 Text Processing Program\")\n",
    "\n",
    "# Sample data\n",
    "raw_name = \"  John  Smith  \"\n",
    "raw_email = \"JOHN.SMITH@GMAIL.COM\"\n",
    "\n",
    "print(\"Original data:\")\n",
    "print(f\"Name: '{raw_name}'\")\n",
    "print(f\"Email: '{raw_email}'\")\n",
    "print()\n",
    "\n",
    "# Clean data\n",
    "clean_name = raw_name.strip().replace(\"  \", \" \")\n",
    "clean_email = raw_email.lower()\n",
    "name_parts = clean_name.split()\n",
    "first_name = name_parts[0]\n",
    "last_name = name_parts[1]\n",
    "\n",
    "print(\"Cleaned data:\")\n",
    "print(f\"Clean name: {clean_name}\")\n",
    "print(f\"Clean email: {clean_email}\")\n",
    "print(f\"First name: {first_name}\")\n",
    "print(f\"Last name: {last_name}\")\n",
    "print()\n",
    "\n",
    "# Formatted output\n",
    "print(\"Formatted output:\")\n",
    "print(f\"Formal: Mr./Ms. {last_name}\")\n",
    "print(f\"Friendly: Hello, {first_name}!\")\n",
    "print(f\"Contact: {clean_name} ({clean_email})\")"
   ]
  },
  {
   "cell_type": "markdown",
   "id": "2f4754db",
   "metadata": {
    "lines_to_next_cell": 0
   },
   "source": [
    "### Practice 2: Email Address Analyzer\n",
    "\n",
    "**Problem**: Create a program that extracts and analyzes various parts of email addresses.\n",
    "**문제**: 이메일 주소의 여러 부분을 추출하고 분석하는 프로그램을 만드세요.\n",
    "\n",
    "**Solution**:\n",
    "**해답**:"
   ]
  },
  {
   "cell_type": "code",
   "execution_count": null,
   "id": "7d09ef0c",
   "metadata": {},
   "outputs": [],
   "source": [
    "# Email Address Analyzer\n",
    "print(\"📧 Email Address Analyzer\")\n",
    "\n",
    "# Sample emails\n",
    "email1 = \"john.smith@gmail.com\"\n",
    "email2 = \"student123@ync.ac.kr\" \n",
    "\n",
    "# First email analysis\n",
    "print(f\"Email 1: {email1}\")\n",
    "at_position1 = email1.find('@')\n",
    "username1 = email1[:at_position1]\n",
    "domain1 = email1[at_position1 + 1:]\n",
    "\n",
    "print(f\"  Username: {username1}\")\n",
    "print(f\"  Domain: {domain1}\")\n",
    "print(f\"  Username contains dot: {'.' in username1}\")\n",
    "print()\n",
    "\n",
    "# Second email analysis\n",
    "print(f\"Email 2: {email2}\")\n",
    "at_position2 = email2.find('@')\n",
    "username2 = email2[:at_position2]\n",
    "domain2 = email2[at_position2 + 1:]\n",
    "\n",
    "print(f\"  Username: {username2}\")\n",
    "print(f\"  Domain: {domain2}\")\n",
    "print(f\"  University email: {domain2.endswith('.ac.kr')}\")\n",
    "print()\n",
    "\n",
    "# Validation check\n",
    "print(\"Validation check:\")\n",
    "\n",
    "# Email 1 check\n",
    "has_at1 = '@' in email1\n",
    "has_dot1 = '.' in email1\n",
    "at_count1 = email1.count('@')\n",
    "print(f\"Email 1: Basic format OK - {has_at1 and has_dot1 and at_count1 == 1}\")\n",
    "\n",
    "# Email 2 check\n",
    "has_at2 = '@' in email2\n",
    "has_dot2 = '.' in email2\n",
    "at_count2 = email2.count('@')\n",
    "print(f\"Email 2: Basic format OK - {has_at2 and has_dot2 and at_count2 == 1}\")"
   ]
  },
  {
   "cell_type": "markdown",
   "id": "3c0a2f1c",
   "metadata": {
    "lines_to_next_cell": 0
   },
   "source": [
    "### Practice 3: Simple Password Checker\n",
    "\n",
    "**Problem**: Create a program that checks the basic strength of passwords.\n",
    "**문제**: 패스워드의 기본적인 강도를 검사하는 프로그램을 만드세요.\n",
    "\n",
    "**Solution**:\n",
    "**해답**:"
   ]
  },
  {
   "cell_type": "code",
   "execution_count": null,
   "id": "b56ab7f6",
   "metadata": {},
   "outputs": [],
   "source": [
    "# Simple Password Strength Checker\n",
    "print(\"🔒 Password Strength Checker\")\n",
    "\n",
    "# Test passwords\n",
    "password1 = \"password\"\n",
    "password2 = \"Password123\"\n",
    "password3 = \"MyStr0ngP@ss!\"\n",
    "\n",
    "# Password 1 analysis\n",
    "print(f\"Password 1: '{password1}'\")\n",
    "length1 = len(password1)\n",
    "has_upper1 = password1 != password1.lower()\n",
    "has_digit1 = not password1.isalpha()\n",
    "\n",
    "print(f\"  Length: {length1} characters\")\n",
    "print(f\"  Has uppercase: {has_upper1}\")\n",
    "print(f\"  Has digits: {has_digit1}\")\n",
    "print(f\"  Strength: Weak\")\n",
    "print()\n",
    "\n",
    "# Password 2 analysis\n",
    "print(f\"Password 2: '{password2}'\")\n",
    "length2 = len(password2)\n",
    "has_upper2 = password2 != password2.lower()\n",
    "has_digit2 = not password2.isalpha()\n",
    "\n",
    "print(f\"  Length: {length2} characters\")\n",
    "print(f\"  Has uppercase: {has_upper2}\")\n",
    "print(f\"  Has digits: {has_digit2}\")\n",
    "print(f\"  Strength: Medium\")"
   ]
  },
  {
   "cell_type": "markdown",
   "id": "0120f2cc",
   "metadata": {
    "lines_to_next_cell": 0
   },
   "source": [
    "---\n",
    "\n",
    "## 📝 Quiz\n",
    "\n",
    "### Quiz 1: String Indexing\n",
    "\n",
    "**Problem**: Write code to extract and print the first character from the string \"Hello\".\n",
    "**문제**: 문자열 \"Hello\"에서 첫 번째 문자를 추출하여 출력하는 코드를 작성하세요.\n",
    "\n",
    "**Write your answer here**:\n",
    "**답을 여기에 작성하세요**:"
   ]
  },
  {
   "cell_type": "code",
   "execution_count": null,
   "id": "083c4ff3",
   "metadata": {},
   "outputs": [],
   "source": [
    "# Write your code here:\n",
    "\n",
    "\n",
    "\n"
   ]
  },
  {
   "cell_type": "markdown",
   "id": "a906c942",
   "metadata": {
    "lines_to_next_cell": 0
   },
   "source": [
    "### Quiz 2: String Methods\n",
    "\n",
    "**Problem**: Given the string \"  Python Programming  \", write code to remove whitespace and convert all characters to uppercase.\n",
    "**문제**: 문자열 \"  Python Programming  \"이 주어졌을 때, 공백을 제거하고 모든 문자를 대문자로 변환하는 코드를 작성하세요.\n",
    "\n",
    "**Write your answer here**:\n",
    "**답을 여기에 작성하세요**:"
   ]
  },
  {
   "cell_type": "code",
   "execution_count": null,
   "id": "843b76ba",
   "metadata": {},
   "outputs": [],
   "source": [
    "text = \"  Python Programming  \"\n",
    "\n",
    "# Write your code here:\n",
    "\n",
    "\n",
    "\n"
   ]
  },
  {
   "cell_type": "markdown",
   "id": "6c546508",
   "metadata": {
    "lines_to_next_cell": 0
   },
   "source": [
    "### Quiz 3: f-string Formatting\n",
    "\n",
    "**Problem**: Write a program that takes a person's name and age, then uses f-strings to output \"Hello, my name is [name] and I am [age] years old.\"\n",
    "**문제**: 사람의 이름과 나이를 받아서 f-문자열을 사용하여 \"Hello, my name is [name] and I am [age] years old.\"를 출력하는 프로그램을 작성하세요.\n",
    "\n",
    "**Write your answer here**:\n",
    "**답을 여기에 작성하세요**:"
   ]
  },
  {
   "cell_type": "code",
   "execution_count": null,
   "id": "f94130b8",
   "metadata": {},
   "outputs": [],
   "source": [
    "# Write your code here:\n",
    "\n",
    "\n",
    "\n"
   ]
  },
  {
   "cell_type": "markdown",
   "id": "6a92ec43",
   "metadata": {},
   "source": [
    "---\n",
    "\n",
    "## 📖 References\n",
    "\n",
    "1. **Python String Methods**: https://docs.python.org/3/library/stdtypes.html#string-methods\n",
    "   - Complete list of all string methods with examples\n",
    "   모든 문자열 메소드의 완전한 목록과 예시\n",
    "\n",
    "2. **Python String Formatting**: https://realpython.com/python-f-strings/\n",
    "   - Comprehensive guide to f-strings and string formatting\n",
    "   f-문자열과 문자열 형식화의 종합 가이드\n",
    "\n",
    "3. **String Processing Tutorial**: https://www.w3schools.com/python/python_strings.asp\n",
    "   - Interactive examples and exercises for string manipulation\n",
    "   문자열 조작을 위한 대화형 예시와 연습\n",
    "\n",
    "4. **Python Official Tutorial**: https://docs.python.org/3/tutorial/introduction.html#strings\n",
    "   - Official Python documentation on strings\n",
    "   문자열에 대한 파이썬 공식 문서\n",
    "\n",
    "---\n",
    "\n",
    "## 💡 Additional Tips for Success\n",
    "\n",
    "### Effective Learning Methods\n",
    "효과적인 학습 방법\n",
    "- **Practice with Real Data**: Use your own name, email, phone number for practice\n",
    "실제 데이터로 연습: 본인의 이름, 이메일, 전화번호를 사용한 연습\n",
    "- **Remember Indexing**: Python starts counting from 0, not 1\n",
    "인덱싱 기억: 파이썬은 1이 아닌 0부터 세기 시작\n",
    "- **String Immutability**: Strings cannot be changed, only new strings can be created\n",
    "문자열 불변성: 문자열은 변경할 수 없고, 새 문자열만 생성 가능\n",
    "- **Method Chaining**: Multiple methods can be used in sequence\n",
    "메소드 체이닝: 여러 메소드를 연결하여 사용 가능\n",
    "\n",
    "### Common Mistakes to Avoid\n",
    "피해야 할 일반적인 실수\n",
    "- **Index Out of Range**: Always check string length before accessing indices\n",
    "인덱스 범위 초과: 인덱스 접근 전 항상 문자열 길이 확인\n",
    "- **String vs Number**: \"123\" and 123 are different - remember the difference\n",
    "문자열 vs 숫자: \"123\"과 123은 다름을 기억\n",
    "- **Case Sensitivity**: \"Hello\" and \"hello\" are different strings\n",
    "대소문자 구분: \"Hello\"와 \"hello\"는 다른 문자열\n",
    "- **Slicing Range**: End index is not included in the result\n",
    "슬라이싱 범위: end 인덱스는 포함되지 않음\n",
    "\n",
    "### Practice Suggestions\n",
    "연습 제안\n",
    "- **Real Text Processing**: Analyze song lyrics, book titles, news headlines\n",
    "실제 텍스트 처리: 가사, 책 제목, 뉴스 헤드라인 분석\n",
    "- **Template Creation**: Create reusable message templates for various purposes\n",
    "템플릿 생성: 다양한 목적을 위한 재사용 가능한 메시지 템플릿\n",
    "- **Data Cleaning**: Clean messy text data from various sources\n",
    "텍스트 정리: 다양한 소스의 지저분한 텍스트 데이터 정리\n",
    "- **International Text**: Practice with text in different languages\n",
    "다국어 텍스트: 다양한 언어의 텍스트 처리 연습\n",
    "\n",
    "### Practical Applications\n",
    "실용적 활용\n",
    "- **Data Cleaning**: Clean input data by removing whitespace, fixing case\n",
    "데이터 정리: 입력 데이터의 공백, 대소문자 정리\n",
    "- **Information Extraction**: Extract needed parts from emails, phone numbers, dates\n",
    "정보 추출: 이메일, 전화번호, 날짜에서 필요한 부분 추출\n",
    "- **Text Validation**: Check format of user input\n",
    "텍스트 검증: 사용자 입력의 형식 확인\n",
    "- **Dynamic Messages**: Generate personalized messages for users\n",
    "동적 메시지: 사용자별 맞춤 메시지 생성\n",
    "\n",
    "---\n",
    "\n",
    "## 📋 Homework\n",
    "\n",
    "1. **Practice**: Complete all 3 exercises using your own data\n",
    "연습: 3개 실습을 본인 데이터로 완료하기\n",
    "2. **Create**: Make a program that formats personal information in 3 different styles\n",
    "창작: 개인 정보를 3가지 다른 스타일로 형식화하는 프로그램 만들기\n",
    "3. **Explore**: Try various string methods on different types of text\n",
    "탐구: 다양한 종류의 텍스트에 여러 문자열 메소드 시도하기\n",
    "4. **Apply**: Create a simple name tag generator program\n",
    "응용: 간단한 이름표 생성 프로그램 만들기\n",
    "5. **Experiment**: Try processing text that contains both English and other languages\n",
    "실험: 영어와 다른 언어가 섞인 텍스트 처리해보기\n",
    "\n",
    "**Master the art of text manipulation with Python!** 📝\n",
    "**파이썬으로 텍스트 조작의 기술을 마스터하세요!**"
   ]
  }
 ],
 "metadata": {
  "jupytext": {
   "cell_metadata_filter": "-all",
   "main_language": "python",
   "notebook_metadata_filter": "-all"
  }
 },
 "nbformat": 4,
 "nbformat_minor": 5
}
