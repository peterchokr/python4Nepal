{
 "cells": [
  {
   "cell_type": "markdown",
   "id": "eae030fc",
   "metadata": {},
   "source": [
    "# Python File Input/Output\n",
    "\n",
    "**Class Duration**: 3 hours  \n",
    "**Structure**: Lecture & Practice 2 hours + Quiz 1 hour  \n",
    "**Level**: Intermediate\n",
    "\n",
    "---\n",
    "\n",
    "## Learning Objectives\n",
    "\n",
    "After completing this lesson, students will be able to:  \n",
    "이 수업을 마친 후 학생들은 다음을 할 수 있습니다:\n",
    "\n",
    "- Open and close files using Python methods  \n",
    "파이썬 메소드를 사용하여 파일 열기와 닫기\n",
    "- Read data from text files  \n",
    "텍스트 파일에서 데이터 읽기\n",
    "- Write data to text files  \n",
    "텍스트 파일에 데이터 쓰기\n",
    "- Handle files safely using with statements  \n",
    "with 문을 사용한 안전한 파일 처리\n",
    "- Create practical programs using files  \n",
    "파일을 활용한 실용적인 프로그램 작성\n",
    "\n",
    "---\n",
    "\n",
    "## 1. Opening and Closing Files\n",
    "\n",
    "### Why Use Files?\n",
    "\n",
    "**Files** allow programs to store data permanently.  \n",
    "**파일**은 프로그램이 데이터를 영구적으로 저장할 수 있게 해줍니다.\n",
    "\n",
    "Without files, all data disappears when the program ends.  \n",
    "파일이 없으면 프로그램이 끝날 때 모든 데이터가 사라집니다.\n",
    "\n",
    "### Basic File Operations\n",
    "\n",
    "#### Opening Files"
   ]
  },
  {
   "cell_type": "code",
   "execution_count": null,
   "id": "6b5f0111",
   "metadata": {},
   "outputs": [],
   "source": [
    "# Basic syntax\n",
    "file_object = open(\"filename.txt\", \"mode\")"
   ]
  },
  {
   "cell_type": "markdown",
   "id": "0598323a",
   "metadata": {},
   "source": [
    "**File Modes:**\n",
    "\n",
    "- `\"r\"` - Read: Read existing file  \n",
    "읽기: 기존 파일 읽기\n",
    "- `\"w\"` - Write: Create new file or replace existing file  \n",
    "쓰기: 새 파일 생성 또는 기존 파일 교체\n",
    "- `\"a\"` - Append: Add content to the end of existing file  \n",
    "추가: 기존 파일 끝에 내용 추가\n",
    "\n",
    "#### Simple Example"
   ]
  },
  {
   "cell_type": "code",
   "execution_count": null,
   "id": "9c21285c",
   "metadata": {},
   "outputs": [],
   "source": [
    "# Create and write to file\n",
    "file = open(\"hello.txt\", \"w\", encoding=\"utf-8\")\n",
    "file.write(\"Hello, Python!\")\n",
    "file.close()\n",
    "\n",
    "# Read from file\n",
    "file = open(\"hello.txt\", \"r\", encoding=\"utf-8\")\n",
    "content = file.read()\n",
    "print(content)\n",
    "file.close()"
   ]
  },
  {
   "cell_type": "markdown",
   "id": "841e6550",
   "metadata": {},
   "source": [
    "### Why Close Files?\n",
    "\n",
    "Always close files when finished:  \n",
    "파일 작업이 끝나면 항상 닫아야 합니다:\n",
    "\n",
    "- Save memory  \n",
    "메모리 절약\n",
    "- Prevent data loss  \n",
    "데이터 손실 방지\n",
    "- Allow other programs to use the file  \n",
    "다른 프로그램이 파일 사용 가능\n",
    "\n",
    "---\n",
    "\n",
    "## 2. Reading Text Files\n",
    "\n",
    "### Reading Methods\n",
    "\n",
    "#### read() - Read Entire File\n",
    "\n",
    "**First, create a story.txt file with the following content:**  \n",
    "**먼저 다음과 같이 story.txt 파일을 만들어 보세요:**\n",
    "\n",
    "```\n",
    "This is the first line.\n",
    "This is the second line.  \n",
    "This is the third line.\n",
    "```"
   ]
  },
  {
   "cell_type": "code",
   "execution_count": null,
   "id": "bf236559",
   "metadata": {},
   "outputs": [],
   "source": [
    "file = open(\"story.txt\", \"r\", encoding=\"utf-8\")\n",
    "content = file.read()\n",
    "print(content)\n",
    "file.close()"
   ]
  },
  {
   "cell_type": "markdown",
   "id": "97bfe500",
   "metadata": {},
   "source": [
    "#### readline() - Read One Line"
   ]
  },
  {
   "cell_type": "code",
   "execution_count": null,
   "id": "ea865db4",
   "metadata": {},
   "outputs": [],
   "source": [
    "file = open(\"story.txt\", \"r\", encoding=\"utf-8\")\n",
    "first_line = file.readline()\n",
    "second_line = file.readline()\n",
    "print(\"First line:\", first_line)\n",
    "print(\"Second line:\", second_line)\n",
    "file.close()"
   ]
  },
  {
   "cell_type": "markdown",
   "id": "a9ecf18e",
   "metadata": {},
   "source": [
    "#### readlines() - Read All Lines"
   ]
  },
  {
   "cell_type": "code",
   "execution_count": null,
   "id": "cec88b39",
   "metadata": {},
   "outputs": [],
   "source": [
    "file = open(\"story.txt\", \"r\", encoding=\"utf-8\")\n",
    "all_lines = file.readlines()\n",
    "print(\"Total lines:\", len(all_lines))\n",
    "for line in all_lines:\n",
    "    print(line.strip())\n",
    "file.close()"
   ]
  },
  {
   "cell_type": "markdown",
   "id": "1a23913b",
   "metadata": {},
   "source": [
    "### Practical Example"
   ]
  },
  {
   "cell_type": "code",
   "execution_count": null,
   "id": "52d6250e",
   "metadata": {},
   "outputs": [],
   "source": [
    "# Create student names file\n",
    "file = open(\"students.txt\", \"w\", encoding=\"utf-8\")\n",
    "file.write(\"John Smith\\n\")\n",
    "file.write(\"Alice Johnson\\n\")\n",
    "file.write(\"Mike Brown\\n\")\n",
    "file.close()\n",
    "\n",
    "# Read names and display\n",
    "file = open(\"students.txt\", \"r\", encoding=\"utf-8\")\n",
    "students = file.readlines()\n",
    "print(\"Our class students:\")\n",
    "for i, student in enumerate(students, 1):\n",
    "    print(f\"{i}. {student.strip()}\")\n",
    "file.close()"
   ]
  },
  {
   "cell_type": "markdown",
   "id": "2a0f4f37",
   "metadata": {},
   "source": [
    "---\n",
    "\n",
    "## 3. Writing to Text Files\n",
    "\n",
    "### Writing Modes\n",
    "\n",
    "#### \"w\" Mode - Write (Replace)"
   ]
  },
  {
   "cell_type": "code",
   "execution_count": null,
   "id": "bce31b7d",
   "metadata": {},
   "outputs": [],
   "source": [
    "# Replace entire file content\n",
    "file = open(\"notes.txt\", \"w\", encoding=\"utf-8\")\n",
    "file.write(\"This is a new note\")\n",
    "file.close()"
   ]
  },
  {
   "cell_type": "markdown",
   "id": "35d84415",
   "metadata": {},
   "source": [
    "#### \"a\" Mode - Append"
   ]
  },
  {
   "cell_type": "code",
   "execution_count": null,
   "id": "b4473ff5",
   "metadata": {},
   "outputs": [],
   "source": [
    "# Add content to end of file\n",
    "file = open(\"notes.txt\", \"a\", encoding=\"utf-8\")\n",
    "file.write(\"\\nContent added to the end\")\n",
    "file.close()"
   ]
  },
  {
   "cell_type": "markdown",
   "id": "3ed4d728",
   "metadata": {},
   "source": [
    "### Writing Multiple Lines"
   ]
  },
  {
   "cell_type": "code",
   "execution_count": null,
   "id": "24c557bb",
   "metadata": {},
   "outputs": [],
   "source": [
    "# Method 1: Multiple write() calls\n",
    "file = open(\"data.txt\", \"w\", encoding=\"utf-8\")\n",
    "file.write(\"First line\\n\")\n",
    "file.write(\"Second line\\n\")\n",
    "file.write(\"Third line\\n\")\n",
    "file.close()\n",
    "\n",
    "# Method 2: Writing list of lines\n",
    "lines = [\"First line\\n\", \"Second line\\n\", \"Third line\\n\"]\n",
    "file = open(\"data.txt\", \"w\", encoding=\"utf-8\")\n",
    "file.writelines(lines)\n",
    "file.close()"
   ]
  },
  {
   "cell_type": "markdown",
   "id": "9f5c95d7",
   "metadata": {},
   "source": [
    "### Simple Log Example"
   ]
  },
  {
   "cell_type": "code",
   "execution_count": null,
   "id": "c845aabf",
   "metadata": {},
   "outputs": [],
   "source": [
    "# Create simple activity log\n",
    "file = open(\"log.txt\", \"w\", encoding=\"utf-8\")\n",
    "file.write(\"Program started\\n\")\n",
    "file.close()\n",
    "\n",
    "# Add additional entries\n",
    "file = open(\"log.txt\", \"a\", encoding=\"utf-8\")\n",
    "file.write(\"User logged in\\n\")\n",
    "file.write(\"Data processing completed\\n\")\n",
    "file.close()\n",
    "\n",
    "# Read log\n",
    "file = open(\"log.txt\", \"r\", encoding=\"utf-8\")\n",
    "log_content = file.read()\n",
    "print(\"Activity log:\")\n",
    "print(log_content)\n",
    "file.close()"
   ]
  },
  {
   "cell_type": "markdown",
   "id": "45369c76",
   "metadata": {},
   "source": [
    "---\n",
    "\n",
    "## 4. Using with Statements\n",
    "\n",
    "### What is the with Statement?\n",
    "\n",
    "**The with statement** automatically closes files.  \n",
    "**with 문**은 파일을 자동으로 닫습니다.\n",
    "\n",
    "It's safer and cleaner than manual closing.  \n",
    "수동으로 닫는 것보다 안전하고 깔끔합니다.\n",
    "\n",
    "### Basic with Syntax\n",
    "\n",
    "**First, create an example.txt file with the following content:**  \n",
    "**먼저 다음과 같이 example.txt 파일을 만들어 보세요:**\n",
    "\n",
    "```\n",
    "This is an example file.\n",
    "Let's practice with statements.\n",
    "```"
   ]
  },
  {
   "cell_type": "code",
   "execution_count": null,
   "id": "ea941e57",
   "metadata": {},
   "outputs": [],
   "source": [
    "# Traditional method\n",
    "file = open(\"example.txt\", \"r\", encoding=\"utf-8\")\n",
    "content = file.read()\n",
    "file.close()\n",
    "\n",
    "# Using with statement\n",
    "with open(\"example.txt\", \"r\", encoding=\"utf-8\") as file:\n",
    "    content = file.read()\n",
    "# File is automatically closed here"
   ]
  },
  {
   "cell_type": "markdown",
   "id": "25e0df4e",
   "metadata": {},
   "source": [
    "### Reading with with Statement\n",
    "\n",
    "**First, create a data.txt file with the following content:**  \n",
    "**먼저 다음과 같이 data.txt 파일을 만들어 보세요:**\n",
    "\n",
    "```\n",
    "First data entry\n",
    "Second data entry\n",
    "Third data entry\n",
    "```"
   ]
  },
  {
   "cell_type": "code",
   "execution_count": null,
   "id": "079fe7f3",
   "metadata": {},
   "outputs": [],
   "source": [
    "# Read entire file\n",
    "with open(\"data.txt\", \"r\", encoding=\"utf-8\") as file:\n",
    "    content = file.read()\n",
    "    print(content)\n",
    "\n",
    "# Read line by line\n",
    "with open(\"data.txt\", \"r\", encoding=\"utf-8\") as file:\n",
    "    for line_number, line in enumerate(file, 1):\n",
    "        print(f\"Line {line_number}: {line.strip()}\")"
   ]
  },
  {
   "cell_type": "markdown",
   "id": "faff0a18",
   "metadata": {},
   "source": [
    "### Writing with with Statement"
   ]
  },
  {
   "cell_type": "code",
   "execution_count": null,
   "id": "5d8c7777",
   "metadata": {},
   "outputs": [],
   "source": [
    "# Write to file\n",
    "with open(\"output.txt\", \"w\", encoding=\"utf-8\") as file:\n",
    "    file.write(\"Content written with with statement!\\n\")\n",
    "    file.write(\"This is cleaner code.\\n\")\n",
    "\n",
    "# Append to file\n",
    "with open(\"output.txt\", \"a\", encoding=\"utf-8\") as file:\n",
    "    file.write(\"This line was added.\\n\")"
   ]
  },
  {
   "cell_type": "markdown",
   "id": "e2275e85",
   "metadata": {},
   "source": [
    "### Complete Example"
   ]
  },
  {
   "cell_type": "code",
   "execution_count": null,
   "id": "f0a4a7cc",
   "metadata": {},
   "outputs": [],
   "source": [
    "# Simple gradebook\n",
    "student_grades = [\n",
    "    \"John Smith: 85 points\",\n",
    "    \"Alice Johnson: 92 points\", \n",
    "    \"Mike Brown: 78 points\"\n",
    "]\n",
    "\n",
    "# Write grades to file\n",
    "with open(\"grades.txt\", \"w\", encoding=\"utf-8\") as file:\n",
    "    file.write(\"Student Grade Report\\n\")\n",
    "    file.write(\"=\" * 20 + \"\\n\")\n",
    "    for grade in student_grades:\n",
    "        file.write(grade + \"\\n\")\n",
    "\n",
    "# Read and display grades\n",
    "with open(\"grades.txt\", \"r\", encoding=\"utf-8\") as file:\n",
    "    content = file.read()\n",
    "    print(content)"
   ]
  },
  {
   "cell_type": "markdown",
   "id": "299b1ecb",
   "metadata": {},
   "source": [
    "---\n",
    "\n",
    "## Practice Problems\n",
    "\n",
    "### Practice 1: Simple Memo Program\n",
    "\n",
    "**Problem**: Create a simple program that saves memos to a file and reads them back.  \n",
    "**문제**: 메모를 파일에 저장하고 읽어오는 간단한 프로그램을 만드세요.\n",
    "\n",
    "**Solution**:  \n",
    "**정답**:"
   ]
  },
  {
   "cell_type": "code",
   "execution_count": null,
   "id": "2df105b5",
   "metadata": {},
   "outputs": [],
   "source": [
    "def write_memo(memo):\n",
    "    \"\"\"Save memo to file\"\"\"\n",
    "    with open(\"memo.txt\", \"w\", encoding=\"utf-8\") as file:\n",
    "        file.write(memo)\n",
    "    print(\"Memo saved successfully!\")\n",
    "\n",
    "def read_memo():\n",
    "    \"\"\"Read memo file\"\"\"\n",
    "    try:\n",
    "        with open(\"memo.txt\", \"r\", encoding=\"utf-8\") as file:\n",
    "            content = file.read()\n",
    "        print(\"Saved memo:\")\n",
    "        print(content)\n",
    "    except FileNotFoundError:\n",
    "        print(\"No saved memo found.\")\n",
    "\n",
    "def add_memo(new_memo):\n",
    "    \"\"\"Add to existing memo\"\"\"\n",
    "    with open(\"memo.txt\", \"a\", encoding=\"utf-8\") as file:\n",
    "        file.write(\"\\n\" + new_memo)\n",
    "    print(\"Memo added successfully!\")\n",
    "\n",
    "# Test the program\n",
    "write_memo(\"Today I learned Python file handling.\")\n",
    "read_memo()\n",
    "add_memo(\"Tomorrow I'll practice more!\")\n",
    "read_memo()"
   ]
  },
  {
   "cell_type": "markdown",
   "id": "18dfe664",
   "metadata": {},
   "source": [
    "### Practice 2: Shopping List Manager\n",
    "\n",
    "**Problem**: Create a program that saves and manages a shopping list in a file.  \n",
    "**문제**: 쇼핑 목록을 파일에 저장하고 관리하는 프로그램을 만드세요.\n",
    "\n",
    "**Solution**:  \n",
    "**정답**:"
   ]
  },
  {
   "cell_type": "code",
   "execution_count": null,
   "id": "f5a2f7ad",
   "metadata": {},
   "outputs": [],
   "source": [
    "def add_item(item):\n",
    "    \"\"\"Add item to shopping list\"\"\"\n",
    "    with open(\"shopping_list.txt\", \"a\", encoding=\"utf-8\") as file:\n",
    "        file.write(item + \"\\n\")\n",
    "    print(f\"'{item}' has been added.\")\n",
    "\n",
    "def show_list():\n",
    "    \"\"\"Display shopping list\"\"\"\n",
    "    try:\n",
    "        with open(\"shopping_list.txt\", \"r\", encoding=\"utf-8\") as file:\n",
    "            items = file.readlines()\n",
    "      \n",
    "        print(\"=== Shopping List ===\")\n",
    "        for i, item in enumerate(items, 1):\n",
    "            print(f\"{i}. {item.strip()}\")\n",
    "    except FileNotFoundError:\n",
    "        print(\"Shopping list is empty.\")\n",
    "\n",
    "def count_items():\n",
    "    \"\"\"Count number of items\"\"\"\n",
    "    try:\n",
    "        with open(\"shopping_list.txt\", \"r\", encoding=\"utf-8\") as file:\n",
    "            items = file.readlines()\n",
    "        print(f\"Total {len(items)} items in the list.\")\n",
    "    except FileNotFoundError:\n",
    "        print(\"Shopping list is empty.\")\n",
    "\n",
    "# Test the program\n",
    "add_item(\"Apples\")\n",
    "add_item(\"Bananas\")\n",
    "add_item(\"Milk\")\n",
    "show_list()\n",
    "count_items()"
   ]
  },
  {
   "cell_type": "markdown",
   "id": "1e4cf77a",
   "metadata": {},
   "source": [
    "### Practice 3: Score Recording Program\n",
    "\n",
    "**Problem**: Create a program that records game scores in a file and finds the highest score.  \n",
    "**문제**: 게임 점수를 파일에 기록하고 최고 점수를 찾는 프로그램을 만드세요.\n",
    "\n",
    "**Solution**:  \n",
    "**정답**:"
   ]
  },
  {
   "cell_type": "code",
   "execution_count": null,
   "id": "ccd3ecee",
   "metadata": {},
   "outputs": [],
   "source": [
    "def save_score(score):\n",
    "    \"\"\"Save score to file\"\"\"\n",
    "    with open(\"scores.txt\", \"a\", encoding=\"utf-8\") as file:\n",
    "        file.write(str(score) + \"\\n\")\n",
    "    print(f\"Score {score} has been saved.\")\n",
    "\n",
    "def show_all_scores():\n",
    "    \"\"\"Display all scores\"\"\"\n",
    "    try:\n",
    "        with open(\"scores.txt\", \"r\", encoding=\"utf-8\") as file:\n",
    "            scores = file.readlines()\n",
    "      \n",
    "        print(\"=== Score Records ===\")\n",
    "        for i, score in enumerate(scores, 1):\n",
    "            print(f\"Game {i}: {score.strip()} points\")\n",
    "    except FileNotFoundError:\n",
    "        print(\"No score records found.\")\n",
    "\n",
    "def find_best_score():\n",
    "    \"\"\"Find highest score\"\"\"\n",
    "    try:\n",
    "        with open(\"scores.txt\", \"r\", encoding=\"utf-8\") as file:\n",
    "            scores = file.readlines()\n",
    "      \n",
    "        # Convert strings to numbers\n",
    "        score_numbers = []\n",
    "        for score in scores:\n",
    "            score_numbers.append(int(score.strip()))\n",
    "      \n",
    "        best_score = max(score_numbers)\n",
    "        print(f\"Best score: {best_score} points\")\n",
    "    except FileNotFoundError:\n",
    "        print(\"No score records found.\")\n",
    "    except ValueError:\n",
    "        print(\"Error in score file format.\")\n",
    "\n",
    "# Test the program\n",
    "save_score(85)\n",
    "save_score(92)\n",
    "save_score(78)\n",
    "show_all_scores()\n",
    "find_best_score()"
   ]
  },
  {
   "cell_type": "markdown",
   "id": "7b5cd527",
   "metadata": {},
   "source": [
    "---\n",
    "\n",
    "## Quiz\n",
    "\n",
    "### Quiz 1: Basic File Writing\n",
    "\n",
    "**Problem**: Write the string \"Hello, Python!\" to a file named \"greeting.txt\", then read it back to verify it was saved correctly.  \n",
    "**문제**: \"Hello, Python!\" 문자열을 \"greeting.txt\" 파일에 쓰고, 올바르게 저장되었는지 확인하기 위해 다시 읽어오는 코드를 작성하세요.\n",
    "\n",
    "**Write your answer here**:  \n",
    "**답을 여기에 작성하세요**:"
   ]
  },
  {
   "cell_type": "code",
   "execution_count": null,
   "id": "09482be1",
   "metadata": {},
   "outputs": [],
   "source": [
    "# Write your code here\n",
    "\n",
    "\n",
    "\n"
   ]
  },
  {
   "cell_type": "markdown",
   "id": "8a6705bb",
   "metadata": {},
   "source": [
    "### Quiz 2: Reading Files with with Statement\n",
    "\n",
    "**Problem**: Use a with statement to read file contents and display them. First create a \"message.txt\" file with some text, then read and display its contents.  \n",
    "**문제**: with문을 사용하여 파일 내용을 읽고 출력하는 코드를 작성하세요. 먼저 \"message.txt\" 파일을 만들어 텍스트를 넣고, 그 내용을 읽어서 출력하세요.\n",
    "\n",
    "**Write your answer here**:  \n",
    "**답을 여기에 작성하세요**:"
   ]
  },
  {
   "cell_type": "code",
   "execution_count": null,
   "id": "fd502276",
   "metadata": {},
   "outputs": [],
   "source": [
    "# Write your code here\n",
    "\n",
    "\n",
    "\n"
   ]
  },
  {
   "cell_type": "markdown",
   "id": "60ed4aa7",
   "metadata": {},
   "source": [
    "### Quiz 3: Character Count Analysis\n",
    "\n",
    "**Problem**: Write a program that counts characters in each line of a multi-line text file. The program should:  \n",
    "**문제**: 여러 줄 텍스트 파일의 각 줄 문자 수를 세는 프로그램을 작성하세요. 프로그램은 다음을 해야 합니다:\n",
    "\n",
    "1. Create a text file \"text_lines.txt\" with at least 3 lines containing different text  \n",
    "다른 텍스트가 포함된 최소 3줄의 텍스트 파일 \"text_lines.txt\" 생성\n",
    "2. Read the file line by line  \n",
    "파일을 한 줄씩 읽기\n",
    "3. Calculate and display the character count for each line  \n",
    "각 줄의 문자 수를 계산하고 표시\n",
    "4. Display the total character count for the entire file  \n",
    "전체 파일의 총 문자 수 표시\n",
    "\n",
    "**Write your answer here**:  \n",
    "**답을 여기에 작성하세요**:"
   ]
  },
  {
   "cell_type": "code",
   "execution_count": null,
   "id": "cd666e2d",
   "metadata": {},
   "outputs": [],
   "source": [
    "# Write your code here\n",
    "\n",
    "\n",
    "\n"
   ]
  },
  {
   "cell_type": "markdown",
   "id": "eb0a3909",
   "metadata": {},
   "source": [
    "---\n",
    "\n",
    "## References\n",
    "\n",
    "1. **Python File I/O**: https://docs.python.org/3/tutorial/inputoutput.html#reading-and-writing-files  \n",
    "   - Official Python documentation on file input and output  \n",
    "     파이썬 파일 입출력에 대한 공식 문서\n",
    "\n",
    "2. **Python with Statement**: https://www.programiz.com/python-programming/file-io  \n",
    "   - Tutorial on Python file I/O and with statements  \n",
    "     파이썬 파일 입출력과 with 문에 대한 튜토리얼\n",
    "\n",
    "3. **File Handling Tutorial**: https://www.w3schools.com/python/python_file_handling.asp  \n",
    "   - Interactive examples for file handling  \n",
    "     파일 처리에 대한 대화형 예제\n",
    "\n",
    "---\n",
    "\n",
    "## Key Points\n",
    "\n",
    "### Remember\n",
    "\n",
    "1. **Always close files** or use with statements  \n",
    "항상 파일을 닫거나 with문 사용하기\n",
    "2. **Choose correct mode**: 'r' for reading, 'w' for writing, 'a' for appending  \n",
    "올바른 모드 선택: 읽기는 'r', 쓰기는 'w', 추가는 'a'\n",
    "3. **Use with statements** - safer and cleaner  \n",
    "with문 사용 - 더 안전하고 깔끔함\n",
    "4. **'w' mode overwrites existing files** - be careful  \n",
    "'w' 모드는 기존 파일을 덮어씀 - 주의 필요\n",
    "5. **Specify encoding** - use encoding=\"utf-8\" for international text  \n",
    "인코딩 지정 - 국제 텍스트 처리 시 encoding=\"utf-8\" 사용\n",
    "\n",
    "### Real-World Applications\n",
    "\n",
    "- **Data storage**: Save game scores, configuration settings  \n",
    "데이터 저장: 게임 점수, 설정 정보 저장\n",
    "- **Log recording**: Track program activities  \n",
    "로그 기록: 프로그램 활동 추적\n",
    "- **Configuration files**: Store user preferences  \n",
    "설정 파일: 사용자 환경 설정 저장\n",
    "- **Data analysis**: Process and analyze text files  \n",
    "데이터 분석: 텍스트 파일 분석 및 처리\n",
    "\n",
    "### Important Considerations\n",
    "\n",
    "1. **File paths**: Understand relative vs absolute paths  \n",
    "파일 경로: 상대 경로와 절대 경로 구분\n",
    "2. **Encoding issues**: Use UTF-8 for international text  \n",
    "인코딩 문제: 국제 텍스트 처리 시 UTF-8 사용\n",
    "3. **Exception handling**: Handle FileNotFoundError and others  \n",
    "예외 처리: FileNotFoundError 등 처리\n",
    "4. **Memory management**: Be careful with large files  \n",
    "메모리 관리: 큰 파일 처리 시 주의\n",
    "\n",
    "---\n",
    "\n",
    "## Homework\n",
    "\n",
    "1. **Practice**: Complete all practice problems and try modifications  \n",
    "연습: 모든 실습 문제를 완료하고 수정해보기\n",
    "2. **Application**: Create a simple notepad program using files  \n",
    "응용: 파일을 사용한 간단한 메모장 프로그램 만들기\n",
    "3. **Advanced**: Practice reading and writing various types of text files  \n",
    "심화: 다양한 유형의 텍스트 파일 읽기 및 쓰기 연습\n",
    "4. **Project**: Implement a personal budget tracker program using files  \n",
    "프로젝트: 개인 가계부 프로그램을 파일로 구현하기\n",
    "\n",
    "**File operations open up many possibilities for your programs!**  \n",
    "**파일 작업은 프로그램에 많은 가능성을 열어줍니다!**"
   ]
  }
 ],
 "metadata": {
  "jupytext": {
   "cell_metadata_filter": "-all",
   "main_language": "python",
   "notebook_metadata_filter": "-all"
  }
 },
 "nbformat": 4,
 "nbformat_minor": 5
}
