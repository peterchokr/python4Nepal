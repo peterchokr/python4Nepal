{
 "cells": [
  {
   "cell_type": "markdown",
   "id": "6caa2843",
   "metadata": {},
   "source": [
    "# Python Dictionaries and Data Structures\n",
    "\n",
    "**Class Duration**: 3 hours  \n",
    "**Structure**: Lecture & Practice 2 hours + Quiz 1 hour  \n",
    "**Level**: Beginner to Intermediate\n",
    "\n",
    "---\n",
    "\n",
    "## 🎯 Learning Objectives\n",
    "\n",
    "After completing this lesson, students will be able to:\n",
    "이 수업을 마친 후 학생들은 다음을 할 수 있습니다:\n",
    "\n",
    "- Understand what dictionaries are and why they are useful\n",
    "딕셔너리가 무엇인지, 왜 유용한지 이해하기\n",
    "- Explain key-value pair concepts with real examples\n",
    "키-값 쌍 개념을 실제 예시로 설명하기\n",
    "- Create, access, and modify dictionaries\n",
    "딕셔너리 생성, 접근, 수정하기\n",
    "- Use dictionary methods effectively\n",
    "딕셔너리 메소드를 효과적으로 사용하기\n",
    "- Combine dictionaries with lists for complex data management\n",
    "딕셔너리와 리스트를 조합하여 복잡한 데이터 관리하기\n",
    "- Work with set data type for unique collections\n",
    "세트 자료형으로 고유 컬렉션 다루기\n",
    "- Choose appropriate data structures for different situations\n",
    "상황에 적합한 데이터 구조 선택하기\n",
    "\n",
    "---\n",
    "\n",
    "## 🗃️ 1. What is a Dictionary?\n",
    "\n",
    "### Definition\n",
    "\n",
    "A **Dictionary** is a collection of items where each item consists of a **key** and a **value**. Just like using a word to find its meaning in a real dictionary, you use keys to find values.\n",
    "**딕셔너리**는 각 항목이 **키**와 **값**으로 구성된 항목들의 모음입니다.\n",
    "\n",
    "### Real-life Analogy\n",
    "\n",
    "Think of a dictionary like a **phone book** or **contact list**:\n",
    "딕셔너리를 **전화번호부**나 **연락처 목록**처럼 생각해보세요:\n",
    "\n",
    "```\n",
    "Phone Book:\n",
    "Name (key)       → Phone Number (value)\n",
    "\"John Smith\"     → \"010-1234-5678\"\n",
    "\"Alice Johnson\"  → \"010-2345-6789\"\n",
    "\"Mike Brown\"     → \"010-3456-7890\"\n",
    "\n",
    "Python Dictionary:\n",
    "student_grades = {\n",
    "    \"John Smith\": 95,\n",
    "    \"Alice Johnson\": 87,\n",
    "    \"Mike Brown\": 92\n",
    "}\n",
    "```\n",
    "\n",
    "### Why Use Dictionaries?\n",
    "\n",
    "**Advantages over Lists:**\n",
    "**리스트 대비 장점:**\n",
    "\n",
    "- **Fast lookup**: Find values instantly using keys\n",
    "빠른 검색: 키를 사용해 값을 즉시 찾기\n",
    "- **Meaningful names**: Keys describe what the data represents\n",
    "의미 있는 이름: 키가 데이터가 무엇을 나타내는지 설명\n",
    "- **Flexible structure**: No need to remember index numbers\n",
    "유연한 구조: 인덱스 번호를 기억할 필요 없음\n",
    "\n",
    "Compare these approaches:\n",
    "다음 접근법들을 비교해보세요:"
   ]
  },
  {
   "cell_type": "code",
   "execution_count": null,
   "id": "4d540459",
   "metadata": {},
   "outputs": [],
   "source": [
    "# Using list (hard to remember what each index means)\n",
    "student_info = [\"John Smith\", 20, 95, \"Computer Science\"]\n",
    "name = student_info[0]        # Hard to remember index 0 is name\n",
    "age = student_info[1]         # Hard to remember index 1 is age\n",
    "\n",
    "# Using dictionary (self-explanatory)\n",
    "student_info = {\n",
    "    \"name\": \"John Smith\",\n",
    "    \"age\": 20,\n",
    "    \"grade\": 95,\n",
    "    \"major\": \"Computer Science\"\n",
    "}\n",
    "name = student_info[\"name\"]   # Clear what we're getting\n",
    "age = student_info[\"age\"]     # Self-explanatory"
   ]
  },
  {
   "cell_type": "markdown",
   "id": "119b1ccf",
   "metadata": {
    "lines_to_next_cell": 0
   },
   "source": [
    "---\n",
    "\n",
    "## 🔑 2. Key-Value Pair Concept\n",
    "\n",
    "### Understanding Keys and Values\n",
    "\n",
    "In dictionaries, all data consists of two parts:\n",
    "딕셔너리에서 모든 데이터는 두 부분으로 구성됩니다:\n",
    "\n",
    "- **Key**: The identifier or \"label\" for the data\n",
    "키: 데이터의 식별자 또는 \"라벨\"\n",
    "- **Value**: The actual data you want to store\n",
    "값: 저장하려는 실제 데이터\n",
    "\n",
    "### Real-life Examples\n",
    "\n",
    "실생활의 예시\n",
    "\n",
    "#### Example 1: Student Information"
   ]
  },
  {
   "cell_type": "code",
   "execution_count": null,
   "id": "94f259a5",
   "metadata": {},
   "outputs": [],
   "source": [
    "student = {\n",
    "    \"name\": \"John Smith\",       # Key: \"name\", Value: \"John Smith\"\n",
    "    \"age\": 19,                  # Key: \"age\", Value: 19\n",
    "    \"major\": \"Biology\",         # Key: \"major\", Value: \"Biology\"\n",
    "    \"gpa\": 3.8                  # Key: \"gpa\", Value: 3.8\n",
    "}"
   ]
  },
  {
   "cell_type": "markdown",
   "id": "91fd9444",
   "metadata": {
    "lines_to_next_cell": 0
   },
   "source": [
    "#### Example 2: Country Capitals"
   ]
  },
  {
   "cell_type": "code",
   "execution_count": null,
   "id": "190dd848",
   "metadata": {},
   "outputs": [],
   "source": [
    "country_capitals = {\n",
    "    \"South Korea\": \"Seoul\",\n",
    "    \"Japan\": \"Tokyo\",\n",
    "    \"USA\": \"Washington D.C.\",\n",
    "    \"France\": \"Paris\",\n",
    "    \"Germany\": \"Berlin\"\n",
    "}"
   ]
  },
  {
   "cell_type": "markdown",
   "id": "0691f786",
   "metadata": {
    "lines_to_next_cell": 0
   },
   "source": [
    "#### Example 3: Product Prices"
   ]
  },
  {
   "cell_type": "code",
   "execution_count": null,
   "id": "3def29bb",
   "metadata": {},
   "outputs": [],
   "source": [
    "menu_prices = {\n",
    "    \"coffee\": 4.50,\n",
    "    \"tea\": 3.00,\n",
    "    \"sandwich\": 8.95,\n",
    "    \"salad\": 7.25,\n",
    "    \"pizza\": 12.00\n",
    "}"
   ]
  },
  {
   "cell_type": "markdown",
   "id": "70da6c18",
   "metadata": {},
   "source": [
    "### Key Rules\n",
    "\n",
    "**Keys must be:**\n",
    "**키는 다음이어야 함:**\n",
    "\n",
    "- **Unique**: No duplicate keys allowed\n",
    "유일: 중복 키 불허\n",
    "- **Immutable**: Use strings, numbers, or tuples\n",
    "불변: 문자열, 숫자, 또는 튜플 사용"
   ]
  },
  {
   "cell_type": "code",
   "execution_count": null,
   "id": "08a97989",
   "metadata": {},
   "outputs": [],
   "source": [
    "# Good keys\n",
    "valid_dict = {\n",
    "    \"name\": \"John Smith\",    # String key\n",
    "    42: \"answer\",           # Number key\n",
    "    (1, 2): \"coordinates\"   # Tuple key\n",
    "}"
   ]
  },
  {
   "cell_type": "markdown",
   "id": "e6ae55bb",
   "metadata": {},
   "source": [
    "**Values can be anything**: strings, numbers, lists, dictionaries, etc.\n",
    "**값은 무엇이든 될 수 있음**: 문자열, 숫자, 리스트, 딕셔너리 등"
   ]
  },
  {
   "cell_type": "code",
   "execution_count": null,
   "id": "867c22ca",
   "metadata": {},
   "outputs": [],
   "source": [
    "flexible_dict = {\n",
    "    \"name\": \"John Smith\",              # String value\n",
    "    \"scores\": [95, 87, 92],           # List value\n",
    "    \"address\": {                      # Dictionary value\n",
    "        \"street\": \"123 Main St\",\n",
    "        \"city\": \"New York\"\n",
    "    },\n",
    "    \"graduated\": True                 # Boolean value\n",
    "}"
   ]
  },
  {
   "cell_type": "markdown",
   "id": "37847426",
   "metadata": {},
   "source": [
    "---\n",
    "\n",
    "## 🛠️ 3. Creating and Accessing Dictionaries\n",
    "\n",
    "### Creating Dictionaries\n",
    "\n",
    "#### Method 1: Using Curly Braces"
   ]
  },
  {
   "cell_type": "code",
   "execution_count": null,
   "id": "1b47a47e",
   "metadata": {},
   "outputs": [],
   "source": [
    "# Empty dictionary\n",
    "empty_dict = {}\n",
    "\n",
    "# Dictionary with initial data\n",
    "student_grades = {\n",
    "    \"John Smith\": 95,\n",
    "    \"Alice Johnson\": 87,\n",
    "    \"Mike Brown\": 92\n",
    "}\n",
    "\n",
    "# Multiple lines for readability\n",
    "person = {\n",
    "    \"first_name\": \"John\",\n",
    "    \"last_name\": \"Smith\",\n",
    "    \"age\": 25,\n",
    "    \"city\": \"New York\"\n",
    "}"
   ]
  },
  {
   "cell_type": "markdown",
   "id": "9aef4e87",
   "metadata": {},
   "source": [
    "#### Method 2: Using dict() Function"
   ]
  },
  {
   "cell_type": "code",
   "execution_count": null,
   "id": "27b430c9",
   "metadata": {},
   "outputs": [],
   "source": [
    "# From keyword arguments\n",
    "colors = dict(red=\"FF0000\", green=\"00FF00\", blue=\"0000FF\")\n",
    "\n",
    "# From list of tuples\n",
    "coordinates = dict([(\"x\", 10), (\"y\", 20), (\"z\", 5)])\n",
    "\n",
    "print(colors)      # {'red': 'FF0000', 'green': '00FF00', 'blue': '0000FF'}\n",
    "print(coordinates) # {'x': 10, 'y': 20, 'z': 5}"
   ]
  },
  {
   "cell_type": "markdown",
   "id": "de710366",
   "metadata": {},
   "source": [
    "### Accessing Values\n",
    "\n",
    "#### Using Square Brackets"
   ]
  },
  {
   "cell_type": "code",
   "execution_count": null,
   "id": "dadf25a4",
   "metadata": {},
   "outputs": [],
   "source": [
    "student_info = {\n",
    "    \"name\": \"John Smith\",\n",
    "    \"age\": 20,\n",
    "    \"major\": \"Computer Science\"\n",
    "}\n",
    "\n",
    "# Access values using keys\n",
    "name = student_info[\"name\"]        # \"John Smith\"\n",
    "age = student_info[\"age\"]          # 20\n",
    "major = student_info[\"major\"]      # \"Computer Science\"\n",
    "\n",
    "print(f\"Student: {name}, Age: {age}, Major: {major}\")"
   ]
  },
  {
   "cell_type": "markdown",
   "id": "ca21e763",
   "metadata": {},
   "source": [
    "#### Using get() Method\n",
    "\n",
    "The `get()` method is safer as it doesn't raise an error if the key doesn't exist:\n",
    "`get()` 메소드는 키가 존재하지 않아도 오류가 발생하지 않아 더 안전합니다:"
   ]
  },
  {
   "cell_type": "code",
   "execution_count": null,
   "id": "62204cec",
   "metadata": {},
   "outputs": [],
   "source": [
    "student_info = {\"name\": \"John Smith\", \"age\": 20}\n",
    "\n",
    "# Safe access with get()\n",
    "name = student_info.get(\"name\")          # \"John Smith\"\n",
    "grade = student_info.get(\"grade\")        # None (key doesn't exist)\n",
    "grade = student_info.get(\"grade\", 0)     # 0 (default value)\n",
    "\n",
    "print(f\"Name: {name}\")\n",
    "print(f\"Grade: {grade}\")"
   ]
  },
  {
   "cell_type": "markdown",
   "id": "5b547542",
   "metadata": {},
   "source": [
    "### Modifying Dictionaries\n",
    "\n",
    "#### Adding New Items"
   ]
  },
  {
   "cell_type": "code",
   "execution_count": null,
   "id": "6c3a7f7f",
   "metadata": {},
   "outputs": [],
   "source": [
    "student = {\"name\": \"John Smith\", \"age\": 20}\n",
    "\n",
    "# Add new key-value pairs\n",
    "student[\"major\"] = \"Biology\"\n",
    "student[\"gpa\"] = 3.8\n",
    "\n",
    "print(student)  # {'name': 'John Smith', 'age': 20, 'major': 'Biology', 'gpa': 3.8}"
   ]
  },
  {
   "cell_type": "markdown",
   "id": "3dff3622",
   "metadata": {},
   "source": [
    "#### Updating Existing Items"
   ]
  },
  {
   "cell_type": "code",
   "execution_count": null,
   "id": "2d6d7f35",
   "metadata": {},
   "outputs": [],
   "source": [
    "prices = {\"coffee\": 3.00, \"tea\": 2.50}\n",
    "\n",
    "# Update existing values\n",
    "prices[\"coffee\"] = 3.50    # Price increase\n",
    "prices[\"tea\"] = 2.75       # Price increase\n",
    "\n",
    "print(prices)  # {'coffee': 3.50, 'tea': 2.75}"
   ]
  },
  {
   "cell_type": "markdown",
   "id": "aaf2376b",
   "metadata": {},
   "source": [
    "#### Removing Items"
   ]
  },
  {
   "cell_type": "code",
   "execution_count": null,
   "id": "c0c2197c",
   "metadata": {},
   "outputs": [],
   "source": [
    "inventory = {\"apples\": 50, \"bananas\": 30, \"oranges\": 25}\n",
    "\n",
    "# Remove with del keyword\n",
    "del inventory[\"oranges\"]\n",
    "\n",
    "# Remove with pop() method\n",
    "banana_count = inventory.pop(\"bananas\")  # Returns value before removing\n",
    "\n",
    "print(inventory)      # {'apples': 50}\n",
    "print(banana_count)   # 30"
   ]
  },
  {
   "cell_type": "markdown",
   "id": "6101141c",
   "metadata": {},
   "source": [
    "---\n",
    "\n",
    "## 📋 4. Dictionary Methods\n",
    "\n",
    "### Essential Dictionary Methods\n",
    "\n",
    "#### keys() Method - Get All Keys"
   ]
  },
  {
   "cell_type": "code",
   "execution_count": null,
   "id": "8f3c4e52",
   "metadata": {},
   "outputs": [],
   "source": [
    "student_grades = {\"John Smith\": 95, \"Alice Johnson\": 87, \"Mike Brown\": 92}\n",
    "\n",
    "# Get all keys\n",
    "all_keys = student_grades.keys()\n",
    "print(all_keys)        # dict_keys(['John Smith', 'Alice Johnson', 'Mike Brown'])\n",
    "\n",
    "# Use in loops\n",
    "print(\"All students:\")\n",
    "for student in student_grades.keys():\n",
    "    print(f\"- {student}\")"
   ]
  },
  {
   "cell_type": "markdown",
   "id": "17120aad",
   "metadata": {},
   "source": [
    "#### values() Method - Get All Values"
   ]
  },
  {
   "cell_type": "code",
   "execution_count": null,
   "id": "b58f6bd2",
   "metadata": {},
   "outputs": [],
   "source": [
    "student_grades = {\"John Smith\": 95, \"Alice Johnson\": 87, \"Mike Brown\": 92}\n",
    "\n",
    "# Get all values\n",
    "all_grades = student_grades.values()\n",
    "print(all_grades)      # dict_values([95, 87, 92])\n",
    "\n",
    "# Calculate statistics\n",
    "average_grade = sum(student_grades.values()) / len(student_grades)\n",
    "highest_grade = max(student_grades.values())\n",
    "lowest_grade = min(student_grades.values())\n",
    "\n",
    "print(f\"Average grade: {average_grade:.1f}\")\n",
    "print(f\"Highest grade: {highest_grade}\")\n",
    "print(f\"Lowest grade: {lowest_grade}\")"
   ]
  },
  {
   "cell_type": "markdown",
   "id": "81de9e22",
   "metadata": {},
   "source": [
    "#### items() Method - Get Key-Value Pairs"
   ]
  },
  {
   "cell_type": "code",
   "execution_count": null,
   "id": "bb6ef66f",
   "metadata": {},
   "outputs": [],
   "source": [
    "student_grades = {\"John Smith\": 95, \"Alice Johnson\": 87, \"Mike Brown\": 92}\n",
    "\n",
    "# Use in loops\n",
    "print(\"Grade Report:\")\n",
    "for student, grade in student_grades.items():\n",
    "    if grade >= 90:\n",
    "        status = \"Excellent\"\n",
    "    elif grade >= 80:\n",
    "        status = \"Good\"\n",
    "    else:\n",
    "        status = \"Needs Improvement\"\n",
    "  \n",
    "    print(f\"{student}: {grade} points ({status})\")"
   ]
  },
  {
   "cell_type": "markdown",
   "id": "e2d2f698",
   "metadata": {},
   "source": [
    "### Other Useful Methods"
   ]
  },
  {
   "cell_type": "code",
   "execution_count": null,
   "id": "45d98769",
   "metadata": {},
   "outputs": [],
   "source": [
    "inventory = {\"apples\": 50, \"bananas\": 30}\n",
    "\n",
    "# Check if key exists\n",
    "if \"apples\" in inventory:\n",
    "    print(\"Apples are in stock\")\n",
    "\n",
    "# Get number of items\n",
    "item_count = len(inventory)\n",
    "print(f\"Fruit types: {item_count} varieties\")\n",
    "\n",
    "# Clear all items\n",
    "backup = inventory.copy()    # Create backup first\n",
    "inventory.clear()\n",
    "print(inventory)             # {}\n",
    "print(backup)                # {'apples': 50, 'bananas': 30}"
   ]
  },
  {
   "cell_type": "markdown",
   "id": "266fbe0b",
   "metadata": {},
   "source": [
    "---\n",
    "\n",
    "## 🔧 5. Combining Dictionaries with Other Data Structures\n",
    "\n",
    "### Dictionaries Containing Lists"
   ]
  },
  {
   "cell_type": "code",
   "execution_count": null,
   "id": "d0bb7c37",
   "metadata": {},
   "outputs": [],
   "source": [
    "# Student with multiple grades\n",
    "student = {\n",
    "    \"name\": \"John Smith\",\n",
    "    \"age\": 20,\n",
    "    \"grades\": [85, 90, 78, 92],\n",
    "    \"subjects\": [\"Math\", \"Science\", \"English\", \"History\"]\n",
    "}\n",
    "\n",
    "# Access complex data\n",
    "name = student[\"name\"]\n",
    "first_grade = student[\"grades\"][0]\n",
    "math_subject = student[\"subjects\"][0]\n",
    "\n",
    "print(f\"Student: {name}\")\n",
    "print(f\"First grade: {first_grade}\")\n",
    "print(f\"Math grade: {first_grade}\")"
   ]
  },
  {
   "cell_type": "markdown",
   "id": "795cbe7b",
   "metadata": {},
   "source": [
    "### Lists of Dictionaries"
   ]
  },
  {
   "cell_type": "code",
   "execution_count": null,
   "id": "3d9f530a",
   "metadata": {},
   "outputs": [],
   "source": [
    "# Multiple students\n",
    "students = [\n",
    "    {\"name\": \"John Smith\", \"age\": 20, \"grade\": 85},\n",
    "    {\"name\": \"Alice Johnson\", \"age\": 19, \"grade\": 92},\n",
    "    {\"name\": \"Mike Brown\", \"age\": 21, \"grade\": 78}\n",
    "]\n",
    "\n",
    "# Find high-performing students\n",
    "print(\"Excellent students (grade >= 85):\")\n",
    "for student in students:\n",
    "    if student[\"grade\"] >= 85:\n",
    "        print(f\"- {student['name']}: {student['grade']} points\")\n",
    "\n",
    "# Calculate average grade\n",
    "total = sum(student[\"grade\"] for student in students)\n",
    "average = total / len(students)\n",
    "print(f\"Class average: {average:.1f} points\")"
   ]
  },
  {
   "cell_type": "markdown",
   "id": "a3e49819",
   "metadata": {},
   "source": [
    "---\n",
    "\n",
    "## 🔸 6. Set Data Type\n",
    "\n",
    "### What is a Set?\n",
    "\n",
    "A **Set** is a collection of **unique** items with **no duplicates**. Think of it like a **bag of unique marbles**.\n",
    "**세트**는 **중복이 없는** **고유한** 항목들의 모음입니다.\n",
    "\n",
    "### Creating Sets"
   ]
  },
  {
   "cell_type": "code",
   "execution_count": null,
   "id": "a09fa7c4",
   "metadata": {},
   "outputs": [],
   "source": [
    "# Method 1: Using curly braces\n",
    "fruits = {\"apple\", \"banana\", \"orange\", \"apple\"}  # Duplicates removed\n",
    "print(fruits)  # {'orange', 'banana', 'apple'}\n",
    "\n",
    "# Method 2: From list\n",
    "numbers = set([1, 2, 3, 2, 1, 4])\n",
    "print(numbers)  # {1, 2, 3, 4}\n",
    "\n",
    "# Membership check\n",
    "print(\"apple\" in fruits)  # True\n",
    "print(\"grape\" in fruits)  # False"
   ]
  },
  {
   "cell_type": "markdown",
   "id": "02c1ab2a",
   "metadata": {},
   "source": [
    "### Removing Duplicates"
   ]
  },
  {
   "cell_type": "code",
   "execution_count": null,
   "id": "f63990e7",
   "metadata": {},
   "outputs": [],
   "source": [
    "# Remove duplicates from list\n",
    "numbers_with_duplicates = [1, 2, 2, 3, 3, 4]\n",
    "unique_numbers = list(set(numbers_with_duplicates))\n",
    "print(f\"Original: {numbers_with_duplicates}\")\n",
    "print(f\"Duplicates removed: {unique_numbers}\")\n",
    "\n",
    "# Count unique items\n",
    "text = \"hello world hello world\"\n",
    "words = text.split()\n",
    "unique_words = set(words)\n",
    "print(f\"Unique words: {unique_words}\")\n",
    "print(f\"Number of unique words: {len(unique_words)}\")"
   ]
  },
  {
   "cell_type": "markdown",
   "id": "386fb461",
   "metadata": {},
   "source": [
    "### Basic Set Operations"
   ]
  },
  {
   "cell_type": "code",
   "execution_count": null,
   "id": "1752dc34",
   "metadata": {},
   "outputs": [],
   "source": [
    "# Students in different classes\n",
    "math_students = {\"John Smith\", \"Alice Johnson\", \"Mike Brown\"}\n",
    "science_students = {\"Alice Johnson\", \"Mike Brown\", \"Sarah Wilson\"}\n",
    "\n",
    "# Students taking both classes\n",
    "both_classes = math_students & science_students\n",
    "print(f\"Taking both classes: {both_classes}\")\n",
    "\n",
    "# All students\n",
    "all_students = math_students | science_students\n",
    "print(f\"All students: {all_students}\")\n",
    "\n",
    "# Students taking only math\n",
    "only_math = math_students - science_students\n",
    "print(f\"Only math class: {only_math}\")"
   ]
  },
  {
   "cell_type": "markdown",
   "id": "77ac0eb6",
   "metadata": {},
   "source": [
    "---\n",
    "\n",
    "## ⚖️ 7. Data Structure Selection Guide\n",
    "\n",
    "### When to Use What?\n",
    "\n",
    "| Data Structure | When to Use | Example |\n",
    "|----------------|-------------|---------|\n",
    "| **List** | Need order and mutability | Shopping cart items |\n",
    "| **Tuple** | Fixed data, coordinates | (x, y) position |\n",
    "| **Dictionary** | Key-value lookup needed | Student ID → Name |\n",
    "| **Set** | Only unique items needed | User IDs, unique tags |\n",
    "\n",
    "### Simple Decision Guide\n",
    "\n",
    "간단한 결정 가이드"
   ]
  },
  {
   "cell_type": "code",
   "execution_count": null,
   "id": "9bf148a0",
   "metadata": {},
   "outputs": [],
   "source": [
    "# Example: Student management\n",
    "\n",
    "# Use list for grades (ordered and changeable)\n",
    "grades = [85, 90, 78]\n",
    "\n",
    "# Use tuple for birth date (fixed information)\n",
    "birth_info = (2003, 5, 15)  # year, month, day\n",
    "\n",
    "# Use dictionary for student info (for lookup)\n",
    "student_info = {\"name\": \"John Smith\", \"id\": \"S001\"}\n",
    "\n",
    "# Use set for subjects (unique subjects)\n",
    "subjects = {\"Math\", \"Science\", \"English\"}\n",
    "\n",
    "print(f\"Grades: {grades}\")\n",
    "print(f\"Birth year: {birth_info[0]}\")\n",
    "print(f\"Student: {student_info['name']}\")\n",
    "print(f\"Subjects: {subjects}\")"
   ]
  },
  {
   "cell_type": "markdown",
   "id": "84397cbc",
   "metadata": {},
   "source": [
    "---\n",
    "\n",
    "## 🔧 Practice Problems\n",
    "\n",
    "### Practice 1: Phone Book Program\n",
    "\n",
    "**Problem**: Create a simple phone book that stores names and phone numbers. Include functionality to add contacts, search, and display all contacts.\n",
    "**문제**: 이름과 전화번호를 저장하는 간단한 전화번호부를 만드세요.\n",
    "\n",
    "**Solution**:\n",
    "**정답**:"
   ]
  },
  {
   "cell_type": "code",
   "execution_count": null,
   "id": "d1101d37",
   "metadata": {},
   "outputs": [],
   "source": [
    "# Create phone book dictionary\n",
    "phone_book = {\n",
    "    \"John Smith\": \"010-1234-5678\",\n",
    "    \"Alice Johnson\": \"010-2345-6789\",\n",
    "    \"Mike Brown\": \"010-3456-7890\"\n",
    "}\n",
    "\n",
    "print(\"Phone Book Program\")\n",
    "print(f\"Total contacts: {len(phone_book)}\")\n",
    "\n",
    "# Display all contacts\n",
    "print(\"\\nAll contacts:\")\n",
    "for name, phone in phone_book.items():\n",
    "    print(f\"{name}: {phone}\")\n",
    "\n",
    "# Add new contact\n",
    "phone_book[\"Sarah Wilson\"] = \"010-4567-8901\"\n",
    "print(f\"\\nAdded Sarah Wilson to phone book\")\n",
    "\n",
    "# Search for specific contact\n",
    "search_name = \"Alice Johnson\"\n",
    "if search_name in phone_book:\n",
    "    print(f\"{search_name} found: {phone_book[search_name]}\")\n",
    "else:\n",
    "    print(f\"{search_name} not found\")\n",
    "\n",
    "# Search using get() method\n",
    "search_name2 = \"David Lee\"\n",
    "result = phone_book.get(search_name2, \"Not found\")\n",
    "print(f\"{search_name2} search result: {result}\")\n",
    "\n",
    "# Display updated contact list\n",
    "print(f\"\\nUpdated phone book ({len(phone_book)} contacts):\")\n",
    "for name, phone in phone_book.items():\n",
    "    print(f\"{name}: {phone}\")"
   ]
  },
  {
   "cell_type": "markdown",
   "id": "b0e70502",
   "metadata": {},
   "source": [
    "### Practice 2: Student Database System\n",
    "\n",
    "**Problem**: Create a student database using a list of dictionaries. Store student information and perform basic operations.\n",
    "**문제**: 딕셔너리의 리스트를 사용하여 학생 데이터베이스를 만드세요.\n",
    "\n",
    "**Solution**:\n",
    "**정답**:"
   ]
  },
  {
   "cell_type": "code",
   "execution_count": null,
   "id": "f5105096",
   "metadata": {},
   "outputs": [],
   "source": [
    "# Student database\n",
    "students = [\n",
    "    {\"name\": \"John Smith\", \"age\": 20, \"grade\": 85, \"major\": \"Computer Science\"},\n",
    "    {\"name\": \"Alice Johnson\", \"age\": 19, \"grade\": 92, \"major\": \"Biology\"},\n",
    "    {\"name\": \"Mike Brown\", \"age\": 20, \"grade\": 78, \"major\": \"Art\"},\n",
    "    {\"name\": \"Sarah Wilson\", \"age\": 21, \"grade\": 88, \"major\": \"Mathematics\"}\n",
    "]\n",
    "\n",
    "print(\"Student Database System\")\n",
    "\n",
    "# Display all students\n",
    "print(\"\\nAll students:\")\n",
    "for student in students:\n",
    "    print(f\"Name: {student['name']}, Age: {student['age']}, Grade: {student['grade']}\")\n",
    "\n",
    "# Find 20-year-old students\n",
    "print(\"\\n20-year-old students:\")\n",
    "for student in students:\n",
    "    if student[\"age\"] == 20:\n",
    "        print(f\"- {student['name']} (Grade: {student['grade']})\")\n",
    "\n",
    "# Calculate class statistics\n",
    "total_grade = sum(student[\"grade\"] for student in students)\n",
    "average_grade = total_grade / len(students)\n",
    "highest_grade = max(student[\"grade\"] for student in students)\n",
    "lowest_grade = min(student[\"grade\"] for student in students)\n",
    "\n",
    "print(f\"\\nClass Statistics:\")\n",
    "print(f\"Average grade: {average_grade:.1f}\")\n",
    "print(f\"Highest grade: {highest_grade}\")\n",
    "print(f\"Lowest grade: {lowest_grade}\")\n",
    "\n",
    "# Find students by major\n",
    "target_major = \"Computer Science\"\n",
    "print(f\"\\n{target_major} students:\")\n",
    "for student in students:\n",
    "    if student[\"major\"] == target_major:\n",
    "        print(f\"- {student['name']}\")"
   ]
  },
  {
   "cell_type": "markdown",
   "id": "0a305b8e",
   "metadata": {},
   "source": [
    "### Practice 3: Unique Items Manager\n",
    "\n",
    "**Problem**: Use sets to manage unique data collections. Remove duplicates and perform set operations.\n",
    "**문제**: 세트를 사용하여 고유한 데이터 컬렉션을 관리하세요.\n",
    "\n",
    "**Solution**:\n",
    "**정답**:"
   ]
  },
  {
   "cell_type": "code",
   "execution_count": null,
   "id": "b11ad704",
   "metadata": {},
   "outputs": [],
   "source": [
    "# Course enrollment data\n",
    "course_a_students = [\"John Smith\", \"Alice Johnson\", \"Mike Brown\", \"Sarah Wilson\", \"John Smith\", \"Alice Johnson\"]\n",
    "course_b_students = [\"Alice Johnson\", \"Mike Brown\", \"David Lee\", \"Emma Davis\", \"Mike Brown\"]\n",
    "\n",
    "print(\"Unique Items Manager\")\n",
    "\n",
    "# Remove duplicates using sets\n",
    "unique_course_a = set(course_a_students)\n",
    "unique_course_b = set(course_b_students)\n",
    "\n",
    "print(\"Course enrollment (duplicates removed):\")\n",
    "print(f\"Course A: {unique_course_a}\")\n",
    "print(f\"Course B: {unique_course_b}\")\n",
    "\n",
    "# Students taking both courses\n",
    "both_courses = unique_course_a & unique_course_b\n",
    "print(f\"\\nTaking both courses: {both_courses}\")\n",
    "\n",
    "# All students\n",
    "all_students = unique_course_a | unique_course_b\n",
    "print(f\"All students: {all_students}\")\n",
    "\n",
    "# Students taking only Course A\n",
    "only_course_a = unique_course_a - unique_course_b\n",
    "print(f\"Only Course A: {only_course_a}\")\n",
    "\n",
    "# Students taking only Course B\n",
    "only_course_b = unique_course_b - unique_course_a\n",
    "print(f\"Only Course B: {only_course_b}\")\n",
    "\n",
    "# Statistics\n",
    "print(f\"\\nStatistics:\")\n",
    "print(f\"Total unique students: {len(all_students)}\")\n",
    "print(f\"Course A enrollment: {len(unique_course_a)}\")\n",
    "print(f\"Course B enrollment: {len(unique_course_b)}\")\n",
    "print(f\"Taking both courses: {len(both_courses)}\")"
   ]
  },
  {
   "cell_type": "markdown",
   "id": "8a35bf9b",
   "metadata": {},
   "source": [
    "---\n",
    "\n",
    "## 📝 Quiz\n",
    "\n",
    "### Quiz 1: Dictionary Creation and Access\n",
    "\n",
    "**Problem**: Create a dictionary called `student_record` to store a student's name, age, major, and GPA. Then write code to:\n",
    "**문제**: `student_record`라는 딕셔너리를 만들어 학생의 이름, 나이, 전공, 학점을 저장하세요.\n",
    "\n",
    "1. Create dictionary with sample data\n",
    "2. Access and print student name and major\n",
    "3. Update student GPA to a new value\n",
    "4. Add a new key \"graduation_year\" with a value\n",
    "\n",
    "**Write your answer here**:\n",
    "**답을 여기에 작성하세요**:"
   ]
  },
  {
   "cell_type": "code",
   "execution_count": null,
   "id": "bb494d8f",
   "metadata": {},
   "outputs": [],
   "source": [
    "# Write your code here"
   ]
  },
  {
   "cell_type": "markdown",
   "id": "b6ab0a5a",
   "metadata": {},
   "source": [
    "### Quiz 2: Set Operations and Duplicate Removal\n",
    "\n",
    "**Problem**: Given the list `[1, 2, 2, 3, 3, 3, 4]`, write code to:\n",
    "**문제**: 리스트 `[1, 2, 2, 3, 3, 3, 4]`가 주어졌을 때, 다음을 수행하는 코드를 작성하세요:\n",
    "\n",
    "1. Remove duplicates using a set and print the result\n",
    "2. Create two sets: `even_numbers = {2, 4, 6, 8}` and the set from the list above\n",
    "3. Find numbers that appear in both sets\n",
    "4. Find numbers that are only in the even_numbers set\n",
    "\n",
    "**Write your answer here**:\n",
    "**답을 여기에 작성하세요**:"
   ]
  },
  {
   "cell_type": "code",
   "execution_count": null,
   "id": "e4e2b188",
   "metadata": {},
   "outputs": [],
   "source": [
    "numbers_list = [1, 2, 2, 3, 3, 3, 4]\n",
    "\n",
    "# Write your code here"
   ]
  },
  {
   "cell_type": "markdown",
   "id": "5f0ef5e9",
   "metadata": {},
   "source": [
    "### Quiz 3: Student Data Analysis\n",
    "\n",
    "**Problem**: You have a list of student dictionaries. Write code to analyze the data.\n",
    "**문제**: 학생 딕셔너리의 리스트가 있습니다. 데이터를 분석하는 코드를 작성하세요."
   ]
  },
  {
   "cell_type": "code",
   "execution_count": null,
   "id": "a93ab75d",
   "metadata": {},
   "outputs": [],
   "source": [
    "students = [\n",
    "    {\"name\": \"John Smith\", \"age\": 19, \"grade\": 85},\n",
    "    {\"name\": \"Alice Johnson\", \"age\": 20, \"grade\": 92},\n",
    "    {\"name\": \"Mike Brown\", \"age\": 20, \"grade\": 78},\n",
    "    {\"name\": \"Sarah Wilson\", \"age\": 19, \"grade\": 88}\n",
    "]"
   ]
  },
  {
   "cell_type": "markdown",
   "id": "579f5b05",
   "metadata": {},
   "source": [
    "Write code to:\n",
    "다음을 수행하는 코드를 작성하세요:\n",
    "\n",
    "1. Find all students who are 20 years old\n",
    "2. Calculate the average grade of all students\n",
    "3. Find the student with the highest grade\n",
    "4. Count how many students are 19 years old\n",
    "\n",
    "**Write your answer here**:\n",
    "**답을 여기에 작성하세요**:"
   ]
  },
  {
   "cell_type": "code",
   "execution_count": null,
   "id": "7513e2d2",
   "metadata": {},
   "outputs": [],
   "source": [
    "students = [\n",
    "    {\"name\": \"John Smith\", \"age\": 19, \"grade\": 85},\n",
    "    {\"name\": \"Alice Johnson\", \"age\": 20, \"grade\": 92},\n",
    "    {\"name\": \"Mike Brown\", \"age\": 20, \"grade\": 78},\n",
    "    {\"name\": \"Sarah Wilson\", \"age\": 19, \"grade\": 88}\n",
    "]\n",
    "\n",
    "# Write your code here"
   ]
  },
  {
   "cell_type": "markdown",
   "id": "e5267eff",
   "metadata": {},
   "source": [
    "---\n",
    "\n",
    "## 📖 References\n",
    "\n",
    "1. **Python Dictionary Documentation**: https://docs.python.org/3/tutorial/datastructures.html#dictionaries\n",
    "   - Official Python documentation on dictionaries\n",
    "   딕셔너리에 대한 공식 Python 문서\n",
    "\n",
    "2. **Real Python - Python Dictionaries**: https://realpython.com/python-dicts/\n",
    "   - Comprehensive guide with practical examples\n",
    "   실용적 예시가 포함된 종합 가이드\n",
    "\n",
    "3. **W3Schools Python Dictionaries**: https://www.w3schools.com/python/python_dictionaries.asp\n",
    "   - Interactive tutorials and practice exercises\n",
    "   대화형 튜토리얼과 연습 문제\n",
    "\n",
    "4. **Python Sets Guide**: https://realpython.com/python-sets/\n",
    "   - Comprehensive tutorial on Python sets\n",
    "   Python 세트에 대한 종합 튜토리얼\n",
    "\n",
    "---\n",
    "\n",
    "## 💡 Key Points\n",
    "\n",
    "### Remember\n",
    "\n",
    "기억하세요\n",
    "\n",
    "1. **Dictionaries store data in key-value pairs** - fast lookup with meaningful labels\n",
    "딕셔너리는 키-값 쌍으로 데이터 저장 - 빠른 검색과 의미 있는 라벨\n",
    "2. **Keys must be unique and immutable** - only strings, numbers, tuples allowed\n",
    "키는 고유하고 불변이어야 함 - 문자열, 숫자, 튜플만 가능\n",
    "3. **Use get() method** - for safe value access\n",
    "get() 메소드 사용 - 안전한 값 접근을 위해\n",
    "4. **Sets store only unique items** - perfect for duplicate removal\n",
    "세트는 고유 항목만 저장 - 중복 제거에 완벽\n",
    "5. **Choose appropriate data structure** - use the right structure for the job\n",
    "적절한 자료구조 선택 - 용도에 맞는 구조 사용\n",
    "\n",
    "### Best Practices\n",
    "\n",
    "모범 사례\n",
    "- **Use meaningful key names**: Choose keys that clearly describe the data\n",
    "의미 있는 키 이름 사용: 데이터를 명확히 설명하는 키 선택\n",
    "- **Check key existence**: Always use `in` operator or `get()` method to prevent errors\n",
    "키 존재 확인: 오류 방지를 위해 항상 `in` 연산자나 `get()` 메소드 사용\n",
    "- **Keep it simple**: Don't nest dictionaries too deeply unless necessary\n",
    "단순하게 유지: 필요하지 않다면 딕셔너리를 너무 깊게 중첩하지 말 것\n",
    "\n",
    "### Real-world Applications\n",
    "\n",
    "실제 활용 사례\n",
    "- **Configuration management**: Store app settings and configurations\n",
    "설정 관리: 앱 설정과 환경설정 저장\n",
    "- **Data caching**: Store frequently accessed data for fast lookup\n",
    "데이터 캐싱: 빠른 검색을 위한 자주 접근하는 데이터 저장\n",
    "- **Counting items**: Count occurrences of various items\n",
    "항목 카운팅: 다양한 항목의 발생 횟수 계산\n",
    "- **User management**: Map user IDs to user information\n",
    "사용자 관리: 사용자 ID와 정보 매핑\n",
    "\n",
    "### Warnings\n",
    "\n",
    "주의사항\n",
    "1. **Don't use lists as keys** - remember keys must be immutable\n",
    "리스트를 키로 사용 금지 - 키는 불변이어야 함을 기억\n",
    "2. **Don't assume keys exist** - always check before accessing to prevent KeyError\n",
    "키 존재 가정 금지 - KeyError 방지를 위해 접근 전 항상 확인\n",
    "3. **Be careful when modifying during iteration** - don't change dictionary size while looping\n",
    "반복 중 수정 주의 - 딕셔너리를 순회하면서 크기 변경하지 말 것\n",
    "\n",
    "---\n",
    "\n",
    "## 📋 Homework\n",
    "\n",
    "1. **Practice**: Complete all practice problems and try variations with your own data\n",
    "연습: 모든 실습 문제를 완료하고 자신만의 데이터로 변형 시도\n",
    "2. **Apply**: Create a dictionary to store information about your favorite movies (title, year, director, rating)\n",
    "응용: 좋아하는 영화 정보를 저장하는 딕셔너리 만들기 (제목, 연도, 감독, 평점 포함)\n",
    "3. **Advanced**: Build a gradebook system that can store multiple subjects for multiple students\n",
    "심화: 여러 학생의 여러 과목을 저장할 수 있는 성적부 시스템 구축\n",
    "4. **Project**: Create a simple library management system using a combination of dictionaries and lists\n",
    "프로젝트: 간단한 도서관 관리 시스템을 딕셔너리와 리스트 조합으로 만들기\n",
    "\n",
    "**Congratulations on learning dictionaries and data structures!** 🌟\n",
    "**딕셔너리와 데이터 구조 학습 수고하셨습니다!**"
   ]
  }
 ],
 "metadata": {
  "jupytext": {
   "cell_metadata_filter": "-all",
   "main_language": "python",
   "notebook_metadata_filter": "-all"
  }
 },
 "nbformat": 4,
 "nbformat_minor": 5
}
